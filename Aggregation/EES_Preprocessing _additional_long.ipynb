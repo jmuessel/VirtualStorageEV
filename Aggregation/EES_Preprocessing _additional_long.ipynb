{
 "cells": [
  {
   "cell_type": "markdown",
   "metadata": {},
   "source": [
    "https://stackoverflow.com/questions/53838696/problems-regarding-pyomo-provided-math-functions\n",
    "\n",
    "https://stackoverflow.com/questions/70048818/optimization-of-a-battery-storage-with-pyomo\n",
    "\n",
    "https://gitlab.com/diw-evu/emobpy/emobpy/-/blob/master/emobpy/data/evspecs.json\n",
    "\n",
    "https://github.com/L-Strobel/jointAnalysisCharging/tree/main/chargingmodel"
   ]
  },
  {
   "cell_type": "code",
   "execution_count": 1,
   "metadata": {},
   "outputs": [],
   "source": [
    "import os\n",
    "import pandas as pd\n",
    "import numpy as np\n",
    "import matplotlib.pyplot as plt#\n",
    "import matplotlib.axes as axes\n",
    "import pyomo.environ as pyo \n",
    "import pyomo.opt as opt\n",
    "from IPython.display import clear_output\n",
    "from pyomo.opt import SolverFactory\n",
    "import random\n",
    "from pandas import Timestamp\n",
    "import pickle\n",
    "import matplotlib.dates as mdates"
   ]
  },
  {
   "cell_type": "markdown",
   "metadata": {},
   "source": [
    "## Data input "
   ]
  },
  {
   "cell_type": "code",
   "execution_count": 2,
   "metadata": {},
   "outputs": [],
   "source": [
    "V2G = False\n",
    "short_or_long = \"long\" #short: short, medium, long\n",
    "flex = \"full\" #constrained meaning that late charging cannot be applied to the fullest extent\n",
    "soc_min = 0 #level that should preferably be reached as soon as possible"
   ]
  },
  {
   "cell_type": "code",
   "execution_count": 3,
   "metadata": {},
   "outputs": [],
   "source": [
    "#emobpy import\n",
    "processing_path = os.getcwd()\n",
    "if short_or_long == \"short\": \n",
    "    os.chdir(\"../emobpy/short\")\n",
    "elif short_or_long == \"medium\": \n",
    "    os.chdir(\"../emobpy/medium\")\n",
    "else:\n",
    "    os.chdir(\"../emobpy/long\")\n",
    "data_path = os.getcwd()\n",
    "os.chdir(processing_path)\n",
    "pics = os.path.join(processing_path, \"Pictures\",\"V2G\" if V2G else \"G2V\", short_or_long)\n",
    "if soc_min >0: \n",
    "    os.mkdir( os.path.join(processing_path, f\"{soc_min}\"))\n",
    "    os.chdir(f\"../{soc_min}\")\n",
    "    pics = os.getcwd()\n",
    "\n",
    "pics_input = os.path.join(pics, \"input\")\n",
    "\n",
    "    \n",
    "\n",
    "consumption_ts = pd.read_pickle(os.path.join(data_path,  \"consumption\"))\n",
    "consumption_ts = consumption_ts*1000/4  #W/h --> kW/15min_timestep\n",
    "availability_ts = pd.read_pickle(os.path.join(data_path, \"availability\"))\n",
    "car_properties_raw = pd.read_pickle(os.path.join(data_path,  \"properties\")) \n",
    "\n",
    "profiles = min(consumption_ts.shape[1], availability_ts.shape[1], car_properties_raw.shape[1])\n",
    "if short_or_long == \"long\":\n",
    "    time_steps = len(availability_ts.dropna().index)\n",
    "else: \n",
    "    days = 12\n",
    "    time_steps = consumption_ts[consumption_ts.index.day<=days].shape[0]\n"
   ]
  },
  {
   "cell_type": "code",
   "execution_count": 4,
   "metadata": {},
   "outputs": [],
   "source": [
    "car_properties_raw.iloc[0] = 1\n",
    "car_properties_raw.iloc[1] = 1"
   ]
  },
  {
   "cell_type": "code",
   "execution_count": 5,
   "metadata": {},
   "outputs": [],
   "source": [
    "#consumption = pd.DataFrame(data = np.array([[0, 0.5], [0, 0.5], [0.5, 0], [0.5, 0]]), columns = [\"c_1[kW]\", \"c_2[kW]\"])\n",
    "#power = pd.DataFrame(pd.DataFrame(data = np.array([[1, 0], [1, 0], [0, 1], [0, 1]]), columns = [\"p_1 [kW]\", \"p_2 [kW]\"]))\n",
    "\n",
    "#kWh / 15 min timestep\n",
    "consumption_raw, power_raw, car_properties_raw = consumption_ts.iloc[:time_steps, :profiles].dropna(), availability_ts.iloc[:time_steps, :profiles].dropna(), car_properties_raw.iloc[:, :profiles].dropna()\n",
    "neg_power_magnitude_raw = power_raw\n",
    "\n",
    "#set datetime indexes \n",
    "index = consumption_ts.index[:time_steps]\n",
    "consumption_raw.index, power_raw.index, neg_power_magnitude_raw.index = index, index, index"
   ]
  },
  {
   "cell_type": "code",
   "execution_count": 6,
   "metadata": {},
   "outputs": [],
   "source": [
    "step_duration = int(pd.infer_freq(index)[:-1]) / 60  #parts of an hour"
   ]
  },
  {
   "cell_type": "markdown",
   "metadata": {},
   "source": [
    "## Data plausibility"
   ]
  },
  {
   "cell_type": "code",
   "execution_count": 7,
   "metadata": {},
   "outputs": [
    {
     "data": {
      "image/png": "[encoded data removed]",
      "text/plain": [
       "<Figure size 432x288 with 1 Axes>"
      ]
     },
     "metadata": {
      "needs_background": "light"
     },
     "output_type": "display_data"
    }
   ],
   "source": [
    "#average consumption of 200Wh per km  https://de.statista.com/statistik/daten/studie/183003/umfrage/pkw---gefahrene-kilometer-pro-jahr/, https://ev-database.de/cheatsheet/energy-consumption-electric-car \n",
    "#median in Germany is at about 11000 km per year\n",
    "if soc_min ==0:  \n",
    "    specific_consumption = 15 #for consumtion [kWh]  / [kWh/km]  = km\n",
    "    scale = 365/len(consumption_raw.resample(\"D\").sum().index)\n",
    "\n",
    "    plot = plt.bar(\n",
    "        [\"emobpy\", \"statista (2021)\"], [consumption_raw.sum(0).mean()*scale/specific_consumption, 14000]\n",
    "           )\n",
    "    plt.ylabel(\"km / year\")\n",
    "    plt.tight_layout()\n",
    "\n",
    "    plt.savefig(os.path.join(pics_input, 'annual_mileage.png'),bbox_inches = \"tight\")"
   ]
  },
  {
   "cell_type": "code",
   "execution_count": 8,
   "metadata": {},
   "outputs": [
    {
     "data": {
      "text/plain": [
       "array([0.0, 3.33, 19.8], dtype=object)"
      ]
     },
     "execution_count": 8,
     "metadata": {},
     "output_type": "execute_result"
    }
   ],
   "source": [
    "np.unique(power_raw.values) "
   ]
  },
  {
   "cell_type": "code",
   "execution_count": 9,
   "metadata": {},
   "outputs": [
    {
     "data": {
      "text/plain": [
       "{'time_steps': 1}"
      ]
     },
     "execution_count": 9,
     "metadata": {},
     "output_type": "execute_result"
    }
   ],
   "source": [
    "#flexibility only available at home or at workplace \n",
    "flex_dict = {\n",
    "    3.33 : {\n",
    "        \"time_steps\" : 1    \n",
    "    }\n",
    "}\n",
    "flex_dict[3.33]"
   ]
  },
  {
   "cell_type": "code",
   "execution_count": 10,
   "metadata": {
    "scrolled": true
   },
   "outputs": [
    {
     "data": {
      "image/png": "[encoded data removed]",
      "text/plain": [
       "<Figure size 576x252 with 1 Axes>"
      ]
     },
     "metadata": {
      "needs_background": "light"
     },
     "output_type": "display_data"
    }
   ],
   "source": [
    "#power ratings are mostly between 3 and 20 kW \n",
    "if soc_min ==0:  \n",
    "    ts = power_raw.loc[(index.day<=7) & (index.month==1)].resample(\"12h\").mean()\n",
    "    fig, ax = plt.subplots(figsize=(8, 3.5))\n",
    "    ax.boxplot(\n",
    "        ts.transpose(), labels= [d[:3] + \"/\" + str(h) for d, h in zip(ts.index.day_name(), ts.index.hour)],\n",
    "          )\n",
    "\n",
    "    plt.ylabel('power rating [kW]')\n",
    "\n",
    "    fig.tight_layout()\n",
    "    plt.savefig(os.path.join(pics_input, 'average_power_rating.png'), bbox_inches = \"tight\")"
   ]
  },
  {
   "cell_type": "code",
   "execution_count": 11,
   "metadata": {},
   "outputs": [
    {
     "data": {
      "text/plain": [
       "BEV280_W53_30bff_Renault_Zoe_Q90_2017                 19.800000\n",
       "BEV670_W53_3bd17_Renault_Zoe_Q90_2017                 16.912500\n",
       "BEV818_W53_02f1e_Tesla_Model_3_Long_Range_AWD_2019    16.981875\n",
       "BEV416_W53_82582_Renault_Zoe_Q90_2017                 19.800000\n",
       "BEV352_W53_47b54_Volkswagen_ID.3_2020                 19.800000\n",
       "                                                        ...    \n",
       "BEV111_W53_c7779_BMW_i3_33_kWh_2017                   19.800000\n",
       "BEV390_W53_c1ba3_BMW_i3_33_kWh_2017                   19.800000\n",
       "BEV157_W53_d532a_Renault_Zoe_Q90_2017                 19.800000\n",
       "BEV805_W53_fdb96_FIAT_500e_2019                       19.800000\n",
       "BEV110_W53_efcf5_Tesla_Model_3_Long_Range_AWD_2019    19.800000\n",
       "Length: 5767, dtype: float64"
      ]
     },
     "execution_count": 11,
     "metadata": {},
     "output_type": "execute_result"
    }
   ],
   "source": [
    "ts.max()"
   ]
  },
  {
   "cell_type": "code",
   "execution_count": 12,
   "metadata": {},
   "outputs": [
    {
     "data": {
      "image/png": "[encoded data removed]",
      "text/plain": [
       "<Figure size 432x288 with 2 Axes>"
      ]
     },
     "metadata": {
      "needs_background": "light"
     },
     "output_type": "display_data"
    }
   ],
   "source": [
    "if soc_min ==0:  \n",
    "    fig = plt.figure()\n",
    "    ax = fig.add_subplot(111)\n",
    "\n",
    "    ts = power_raw.mean(1).resample(\"H\").mean()\n",
    "    ts_2 =  consumption_raw.mean(1).resample(\"H\").mean()\n",
    "\n",
    "    ax = ts.plot(ylabel=\"kW grid_availability\", label = \"grid_availability\")\n",
    "\n",
    "    ax2 = ax.twinx()\n",
    "    ax2.spines['right'].set_position(('axes',  1))\n",
    "\n",
    "    ax2 = ts_2.plot(ylabel=\"kW consumption\", color = \"orange\", label = \"consumption\")\n",
    "\n",
    "    #.loc[index.day<=7].resample(\"2h\").\n",
    "\n",
    "    for i, s in enumerate([ts, ts_2]):\n",
    "        if i == 0: \n",
    "            ax.set_ylim(s.min(), s.max())\n",
    "        else:\n",
    "            ax2.set_ylim(s.min(), s.max())\n",
    "        step_size = (s.max() - s.min())/5\n",
    "        ax.set_yticks(np.arange(s.min(), s.max(), step_size))\n",
    "\n",
    "\n",
    "    lines, labels = ax.get_legend_handles_labels()\n",
    "    lines2, labels2 = ax2.get_legend_handles_labels()\n",
    "    ax2.legend(lines + lines2, labels + labels2, loc=\"best\", bbox_to_anchor=(1,1.3))\n",
    "\n",
    "    ax.grid('on', which='minor', axis='x' )\n",
    "\n",
    "\n",
    "    fig.tight_layout()\n",
    "\n",
    "\n",
    "    plt.savefig(os.path.join(pics_input, 'consumtion_power_availability.png'), bbox_inches = \"tight\")"
   ]
  },
  {
   "cell_type": "code",
   "execution_count": 13,
   "metadata": {},
   "outputs": [
    {
     "data": {
      "image/png": "[encoded data removed]",
      "text/plain": [
       "<Figure size 576x252 with 1 Axes>"
      ]
     },
     "metadata": {
      "needs_background": "light"
     },
     "output_type": "display_data"
    }
   ],
   "source": [
    "bottom = 0\n",
    "rating = 1\n",
    "rating_weighted = True\n",
    "station_dict = {0.0 : \"none\",\n",
    "               3.33 : \"home\",\n",
    "               19.8: \"public\"}\n",
    "fig, ax = plt.subplots(figsize=(8, 3.5))\n",
    "i = 0\n",
    "\n",
    "for r in np.unique(power_raw.values):\n",
    "    if rating_weighted == True: \n",
    "        rating = r\n",
    "        if (r != 0): \n",
    "            next_bottom = bottom+power_raw[power_raw==r].count(1)*rating \n",
    "        else: continue\n",
    "        \n",
    "    else: \n",
    "        next_bottom = bottom+power_raw[power_raw==r].count(1)*rating / power_raw.shape[1] *100\n",
    "    if r in station_dict.keys(): l = station_dict[r] \n",
    "    else: \n",
    "        l = f'fast_{1}'\n",
    "        i +=1\n",
    "    \n",
    "    plt.fill_between(x = power_raw.index,\n",
    "                y1 = bottom,\n",
    "                y2 = next_bottom,\n",
    "                alpha = 0.2,\n",
    "                label = l)\n",
    "    bottom = next_bottom\n",
    "\n",
    "ax.xaxis.set_major_locator(mdates.HourLocator(interval = 12))\n",
    "ax.xaxis.set_major_formatter(mdates.DateFormatter('%H'))\n",
    "plt.ylabel('kW' if rating_weighted else \"%\")\n",
    "plt.legend(loc='upper right', bbox_to_anchor=(1.2, 0.5))\n",
    "\n",
    "if soc_min ==0: plt.savefig(os.path.join(pics_input, f'home_charging_shares{\"_per_cent\" if rating_weighted else \"_kw\"}.png'),bbox_inches = \"tight\") "
   ]
  },
  {
   "cell_type": "code",
   "execution_count": 14,
   "metadata": {},
   "outputs": [
    {
     "data": {
      "image/png": "[encoded data removed]",
      "text/plain": [
       "<Figure size 432x288 with 1 Axes>"
      ]
     },
     "metadata": {
      "needs_background": "light"
     },
     "output_type": "display_data"
    }
   ],
   "source": [
    "if soc_min ==0:  \n",
    "    home_share_events = power_raw[power_raw==3.33].count().sum() / power_raw[power_raw>0].count().sum()*100\n",
    "    home_share_rating = power_raw[power_raw==3.33].sum().sum() / power_raw.sum().sum()*100\n",
    "\n",
    "\n",
    "    plot = plt.bar(\n",
    "        [\"number of charging events\", \"power rating-weighted\"], [home_share_events, home_share_rating]\n",
    "           )\n",
    "    plt.ylabel(\"home charging share [%]\")\n",
    "    plt.tight_layout()\n",
    "\n",
    "    plt.savefig(os.path.join(pics_input, 'home_charging_shares.png'),bbox_inches = \"tight\")"
   ]
  },
  {
   "cell_type": "code",
   "execution_count": 15,
   "metadata": {},
   "outputs": [
    {
     "name": "stdout",
     "output_type": "stream",
     "text": [
      "9796.492299610745\n",
      "3.814191810260403\n"
     ]
    }
   ],
   "source": [
    "#https://www.agora-energiewende.de/en/service/recent-electricity-data/chart/power_generation/08.08.2021/08.08.2022/today/\n",
    "german_peak = 73.3 #MW 30.11.2021\n",
    "national_fleet_size = 10**6\n",
    "scaling = national_fleet_size / consumption_raw.shape[0]\n",
    "peak_load = consumption_raw.sum(1).nlargest(1).sum() #kW\n",
    "print(peak_load) #kW \n",
    "print(peak_load*scaling*10**(-3) / german_peak) #kW --> MW"
   ]
  },
  {
   "cell_type": "code",
   "execution_count": 16,
   "metadata": {},
   "outputs": [
    {
     "data": {
      "text/plain": [
       "0.28915364863543347"
      ]
     },
     "execution_count": 16,
     "metadata": {},
     "output_type": "execute_result"
    }
   ],
   "source": [
    "#plausibility:\n",
    "#is the sum of the highest 10 consumption value assumed for one hour as constant lower than the average battery size?\n",
    "(consumption_raw).mean(1).nlargest(10).sum() / car_properties_raw.iloc[2].mean()"
   ]
  },
  {
   "cell_type": "markdown",
   "metadata": {},
   "source": [
    "# EES-transformation: Generating uncontrolled and latest charging ts"
   ]
  },
  {
   "cell_type": "code",
   "execution_count": 17,
   "metadata": {},
   "outputs": [],
   "source": [
    "#set same names for columns\n",
    "power_raw.columns = consumption_raw.columns\n",
    "neg_power_magnitude_raw.columns = consumption_raw.columns\n",
    "car_properties_raw.columns = consumption_raw.columns"
   ]
  },
  {
   "cell_type": "code",
   "execution_count": null,
   "metadata": {
    "scrolled": true
   },
   "outputs": [
    {
     "name": "stdout",
     "output_type": "stream",
     "text": [
      "0\n",
      "0\n",
      "Tesla/Model_3_Long_Range_AWD/2019\n",
      "failed\n",
      "1\n",
      "1\n",
      "Tesla/Model_3_Long_Range_AWD/2019\n"
     ]
    }
   ],
   "source": [
    "solution_dict = {}\n",
    "ees_constraints= pd.DataFrame()\n",
    "M = 10000\n",
    "failed_profiles = []\n",
    "\n",
    "count = 0\n",
    "for car in consumption_raw.columns.unique():\n",
    "    try: \n",
    "        car_list = consumption_raw[car].columns\n",
    "    except AttributeError as a:\n",
    "        car_list = [car]\n",
    "        \n",
    "    for i, c in enumerate(car_list):\n",
    "        print(count)\n",
    "        count =+ 1\n",
    "        print(i) \n",
    "        print(c)\n",
    "        \n",
    "        if type(consumption_raw[c]) == pd.core.series.Series:\n",
    "            consumption = consumption_raw[c]\n",
    "            power = power_raw[car]\n",
    "            neg_power_magnitude = neg_power_magnitude_raw[c]\n",
    "            car_properties = car_properties_raw[c]\n",
    "\n",
    "        else: \n",
    "            consumption = consumption_raw[c].iloc[:,i]\n",
    "            power= power_raw[car].iloc[:,i]\n",
    "            neg_power_magnitude= neg_power_magnitude_raw[c].iloc[:,i]\n",
    "            car_properties= car_properties_raw[c].iloc[:,i]\n",
    "            \n",
    "\n",
    "        solution_dict[car+str(i)] = {}\n",
    "        battery_capacity = car_properties.loc[\"battery_capacity\"]\n",
    "        level_0 = car_properties[\"soc_init\"]*battery_capacity\n",
    "        level_T = car_properties.loc[\"soc_end\"]*battery_capacity\n",
    "\n",
    "        for model_type in [\"m_early\", \"m_late\"]:\n",
    "            if (model_type == \"m_late\") & (car+str(i) in failed_profiles): \n",
    "                pass\n",
    "            else:\n",
    "                #Initialize model\n",
    "                m = pyo.ConcreteModel()\n",
    "                \n",
    "                #initialize sets\n",
    "                m.t = pyo.Set(initialize = index, ordered = True)\n",
    "\n",
    "                #Initialize parameter\n",
    "                m.consumption = pyo.Param(m.t, initialize=consumption.to_dict())\n",
    "                m.power = pyo.Param(m.t, initialize=power.to_dict()) \n",
    "                m.neg_power = pyo.Param(m.t, initialize=neg_power_magnitude.to_dict()) \n",
    "\n",
    "                #Initialize variables\n",
    "                m.CHARGE = pyo.Var(m.t, within = pyo.NonNegativeReals)\n",
    "                m.SLACK = pyo.Var(m.t, within = pyo.NonNegativeReals)\n",
    "                m.DISCHARGE = pyo.Var(m.t, within = pyo.NonNegativeReals)\n",
    "                m.LEVEL = pyo.Var(m.t, within = pyo.NonNegativeReals, \n",
    "                                  bounds = (0,battery_capacity))\n",
    "                \n",
    "                if ((model_type == \"m_late\") & (flex==\"constrained\")): ###\n",
    "                    con = consumption_raw[car].iloc[:, i]\n",
    "                    ava = power_raw[car].iloc[:, i]\n",
    "                    \n",
    "                    public_index = ava[(ava!=3.33)].index\n",
    "                    dep_home_index = con[((con==0) & (con.shift(-1) > 0) == True) & (ava==3.33)].index\n",
    "                    \n",
    "                    m.t_pub = pyo.Set(initialize = public_index, ordered = True)\n",
    "                    m.t_dep_home = pyo.Set(initialize = dep_home_index, ordered = True)\n",
    "                    \n",
    "                    def full_before_next_trip(m, t_dep): ####\n",
    "                        if t_dep in  index[:2]:\n",
    "                            return pyo.Constraint.Skip\n",
    "                        else:\n",
    "                            t_dep_1 = pd.Timestamp(t_dep) - pd.Timedelta(flex_dict[3.33][\"time_steps\"]*pd.infer_freq(index))\n",
    "                            return m.LEVEL[t_dep_1] >= solution_dict[car+str(i)][\"m_early\"][\"level\"].loc[t_dep_1]\n",
    "                    m.Full_before_next_trip = pyo.Constraint(m.t_dep_home, rule=full_before_next_trip)\n",
    "                            \n",
    "                    def public_uncontrolled(m, t_dep):  \n",
    "                        return m.LEVEL[t_dep] >= solution_dict[car+str(i)][\"m_early\"][\"level\"].loc[t_dep]\n",
    "                    m.Public_uncontrolled = pyo.Constraint(m.t_pub, rule=public_uncontrolled)\n",
    "                    \n",
    "                #level constraints\n",
    "                def recursive_level(m, t):\n",
    "                    if t == index[0]:\n",
    "                        return m.LEVEL[t] == level_0 + (m.CHARGE[t] - m.DISCHARGE[t] - m.consumption[t] )*step_duration\n",
    "                    else:    \n",
    "                        return m.LEVEL[t] == m.LEVEL[pd.Timestamp(t) - \n",
    "                                                         pd.Timedelta(pd.infer_freq(index))] + (\n",
    "                            m.CHARGE[t] - m.DISCHARGE[t] - m.consumption[t] )*step_duration   \n",
    "                m.Recursive_level = pyo.Constraint(m.t, rule = recursive_level)\n",
    "\n",
    "                def final_level(m, t):\n",
    "                    if t == index[-1]:\n",
    "                        return m.LEVEL[t] == level_T\n",
    "                    else: \n",
    "                        return pyo.Constraint.Skip\n",
    "                m.Final_level = pyo.Constraint(m.t, rule=final_level)\n",
    "\n",
    "                #bidirectional charging \n",
    "                def neg_power_min(m, t):\n",
    "                    if V2G == True:\n",
    "                        return m.DISCHARGE[t] <= m.neg_power[t] \n",
    "                    else:\n",
    "                        return m.DISCHARGE[t] ==0\n",
    "                m.Neg_power_min_restriction = pyo.Constraint(m.t, rule=neg_power_min)\n",
    "\n",
    "                def power_max(m, t):\n",
    "                    return m.CHARGE[t] <= m.power[t]   \n",
    "                m.Power_max_restriction = pyo.Constraint(m.t, rule=power_max)\n",
    "\n",
    "                def avoid_min_level(m, t):\n",
    "                    return m.LEVEL[t] + m.SLACK[t] >= battery_capacity*soc_min\n",
    "                m.Avoid_min_level = pyo.Constraint(m.t, rule=avoid_min_level)\n",
    "\n",
    "                def battery_level_sum(m, t):    \n",
    "                    if model_type == \"m_late\":\n",
    "                        return sum(m.LEVEL[t] + M * m.SLACK[t] for t in m.t) \n",
    "                    else:\n",
    "                        return sum(m.LEVEL[t] for t in m.t) \n",
    "                if model_type == \"m_late\": sense = pyo.minimize\n",
    "                else: sense = pyo.maximize\n",
    "\n",
    "\n",
    "                m.Obj = pyo.Objective(rule=battery_level_sum, sense=sense)\n",
    "\n",
    "                #find solver\n",
    "                solvername='glpk'\n",
    "\n",
    "                #prepare solver\n",
    "                optimizer = opt.SolverFactory(solvername) \n",
    "                solved_model = optimizer.solve(m)      ##tee=True   \n",
    "\n",
    "                if pd.DataFrame.from_dict(m.LEVEL.extract_values(), orient='index')[0][-1]== None:\n",
    "                    failed_profiles.append(car+str(i))\n",
    "                    print(\"failed\")\n",
    "                else:    \n",
    "                    print(\"succeeded\")\n",
    "                    level_series = pd.concat([\n",
    "                        pd.Series(0, index=[index[0]-pd.Timedelta(pd.infer_freq(index))]),\n",
    "                        pd.DataFrame.from_dict(m.LEVEL.extract_values(), orient='index')[0]\n",
    "                    ], axis=0)\n",
    "                    charge_df = pd.DataFrame.from_dict(m.CHARGE.extract_values(), orient='index', columns = [car])\n",
    "                    discharge_df = pd.DataFrame.from_dict(m.DISCHARGE.extract_values(), orient='index', columns = [car])\n",
    "\n",
    "                    #store data in dictionary\n",
    "                    solution_dict[car+str(i)][model_type] = {}\n",
    "                    solution_dict[car+str(i)][model_type][\"level\"] = level_series\n",
    "                    solution_dict[car+str(i)][model_type][\"charge\"] = charge_df\n",
    "                    solution_dict[car+str(i)][model_type][\"discharge\"] = discharge_df\n",
    "                    level_index = solution_dict[car+str(i)][model_type][\"level\"].index\n",
    "solution_dict[\"failed_profiles\"] = failed_profiles"
   ]
  },
  {
   "cell_type": "code",
   "execution_count": null,
   "metadata": {},
   "outputs": [],
   "source": [
    "if V2G: mode = \"V2G\" \n",
    "else: mode = \"G2V\"\n",
    "    \n",
    "with open(f'{short_or_long}_solution_dict_{mode}_{soc_min}.pickle', 'wb') as handle:\n",
    "    pickle.dump(solution_dict, handle, protocol=pickle.HIGHEST_PROTOCOL)\n",
    "\n",
    "#with open(f'{short_or_long}_solution_dict_{mode}.pickle', 'rb') as handle:\n",
    " #   solution_dict = pickle.load(handle)\n",
    "    \n",
    "    "
   ]
  },
  {
   "cell_type": "markdown",
   "metadata": {},
   "source": [
    "## Processing EES-profiles: Aggregation"
   ]
  },
  {
   "cell_type": "code",
   "execution_count": null,
   "metadata": {
    "scrolled": true
   },
   "outputs": [],
   "source": [
    "uncontrolled_level_accurate, uncontrolled_charge_df, early, late = pd.DataFrame(), pd.DataFrame(), pd.DataFrame(),pd.DataFrame()\n",
    "df_con, df_pow, df_neg_pow, df_pro =  pd.DataFrame(), pd.DataFrame(),pd.DataFrame(),pd.DataFrame()\n",
    "\n",
    "count = 0\n",
    "for c in consumption_raw.columns.unique():\n",
    "    try: \n",
    "        car_list = consumption_raw[c].columns\n",
    "    except AttributeError as a:\n",
    "        car_list = [c]\n",
    "\n",
    "    for i, car in enumerate(car_list):\n",
    "        if car+str(i) not in solution_dict[\"failed_profiles\"] :\n",
    "            print(count)\n",
    "            if type(consumption_raw[car]) == pd.core.series.Series: \n",
    "                df_con[car] = consumption_raw[car]\n",
    "                df_pow[car] = power_raw[car]\n",
    "                df_neg_pow[car] = neg_power_magnitude_raw[car]\n",
    "                df_pro[car] = car_properties_raw[car]\n",
    "            else: \n",
    "                df_con[car+str(i)] = consumption_raw[car].iloc[:,i]\n",
    "                df_pow[car+str(i)] = power_raw[car].iloc[:,i]\n",
    "                df_neg_pow[car+str(i)] = neg_power_magnitude_raw[car].iloc[:,i]\n",
    "                df_pro[car+str(i)] = car_properties_raw[car].iloc[:,i]\n",
    "            try: \n",
    "                early = pd.concat([\n",
    "                    early, solution_dict[car+str(i)][\"m_early\"][\"level\"]\n",
    "                ], axis=1).sum(1)\n",
    "                late = pd.concat([\n",
    "                   late, solution_dict[car+str(i)][\"m_late\"][\"level\"]\n",
    "                ], axis=1).sum(1)\n",
    "                uncontrolled_charge_df = pd.concat([\n",
    "                    uncontrolled_charge_df, solution_dict[car+str(i)][\"m_early\"][\"charge\"]\n",
    "                ], axis=1)\n",
    "\n",
    "            count += 1\n",
    "            except KeyError: \n",
    "                pass\n",
    "\n",
    "level_0_agg = sum(df_pro.loc[\"soc_init\"]*df_pro.loc[\"battery_capacity\"])\n",
    "level_T_agg = sum(df_pro.loc[\"soc_end\"]*df_pro.loc[\"battery_capacity\"])   \n",
    "\n",
    "uncontrolled_level_accurate = early\n",
    "uncontrolled_level_accurate.iloc[0] = level_0_agg ##\n",
    "uncontrolled_level_accurate.name = \"uncontrolled_level\"\n",
    "\n",
    "uncontrolled_charge_accurate = uncontrolled_charge_df.sum(1)\n",
    "\n",
    "uncontrolled_charge_accurate.name = \"uncontrolled_charge\"        \n",
    "ees_constraints_aggergated=late-early"
   ]
  },
  {
   "cell_type": "markdown",
   "metadata": {},
   "source": [
    "reduced = uncontrolled_charge_df\n",
    "n_max = uncontrolled_charge_df.shape[1]\n",
    "rmse = {}\n",
    "\n",
    "for sample_size in range(10, n_max): \n",
    "    Y_true = reduced.max(1)\n",
    "    Y_pred = reduced.iloc[:,:sample_size].max(1)\n",
    "    rmse[f'{sample_size}'] = mean_squared_error(Y_true,Y_pred, squared=False) \n",
    "    \n",
    "plt.scatter(range(10, n_max), rmse.values())\n",
    "plt.xlabel(\"sample_size\")\n",
    "plt.ylabel(\"RMSE\")\n",
    "plt.ylim(0)\n",
    "plt.show()"
   ]
  },
  {
   "cell_type": "code",
   "execution_count": null,
   "metadata": {},
   "outputs": [],
   "source": [
    "#ees_constraints_aggergated = ees_constraints_aggergated.iloc[:time_steps+1, :profiles].sum(1)\n",
    "level_index = ees_constraints_aggergated.index\n",
    "aggregated_max_battery = df_pro.loc[\"battery_capacity\"][ :profiles].sum()"
   ]
  },
  {
   "cell_type": "code",
   "execution_count": null,
   "metadata": {},
   "outputs": [],
   "source": [
    "ax = pd.concat([\n",
    "    -ees_constraints_aggergated*10**-3, pd.Series(aggregated_max_battery*10**-3,level_index)\n",
    "], axis = 1, keys = [\"ees\", \"aggregated_batteries\"]).plot(ylabel=\"MWh\", label = 'level_values')\n",
    "\n",
    "ax.legend(bbox_to_anchor=(0.98,0.2))\n",
    "ax2 = ax.twinx()\n",
    "ax2.spines['right'].set_position(('axes',  1))\n",
    "ax2 = pd.Series(100,level_index).plot(color=\"orange\", ylabel=\"%\")\n",
    "\n",
    "ax.set_ylim(0), ax2.set_ylim(0)\n",
    "ax.grid('on', which='minor', axis='x' )\n",
    "\n",
    "plt.savefig(os.path.join(pics, 'ees_battery_comparison.png'), bbox_inches = \"tight\")"
   ]
  },
  {
   "cell_type": "code",
   "execution_count": null,
   "metadata": {},
   "outputs": [],
   "source": [
    "consumption_aggregated =  pd.concat([\n",
    "    pd.Series(0, index=[index[0]-pd.Timedelta(pd.infer_freq(index))]), df_con.loc[level_index[1:]].sum(1)\n",
    "              ], axis = 0)\n",
    "consumption_aggregated.name = \"consumption\"\n",
    "\n",
    "power_aggregated = pd.concat([\n",
    "    pd.Series(0, index=[index[0]-pd.Timedelta(pd.infer_freq(index))]), df_pow.loc[level_index[1:]].sum(1)\n",
    "              ], axis = 0)\n",
    "\n",
    "neg_power_aggregated = pd.concat([\n",
    "    pd.Series(0, index=[index[0]-pd.Timedelta(pd.infer_freq(index))]), df_neg_pow.loc[level_index[1:]].sum(1)\n",
    "              ], axis = 0)"
   ]
  },
  {
   "cell_type": "code",
   "execution_count": null,
   "metadata": {},
   "outputs": [],
   "source": [
    "#aggregation\n",
    "naive_constraints_aggergated = pd.Series(data=sum(\n",
    "    df_pro.loc[\"battery_capacity\"][ :profiles]), index=level_index) #all battery capicities"
   ]
  },
  {
   "cell_type": "code",
   "execution_count": null,
   "metadata": {
    "scrolled": false
   },
   "outputs": [],
   "source": [
    "uncontrolled_charge_aggregated =  pd.concat([\n",
    "    pd.Series(0, index=[index[0]-pd.Timedelta(pd.infer_freq(index))]), uncontrolled_charge_accurate.loc[level_index[1:]]\n",
    "              ], axis = 0)\n",
    "\n",
    "ts = uncontrolled_charge_accurate.loc[uncontrolled_charge_accurate.index.day <= 2].resample(\"h\").mean()*10**-3\n",
    "fig, ax = plt.subplots(1)\n",
    "\n",
    "ax.step(ts.index, ts, where=\"post\")\n",
    "ax.set_ylabel(\"MW\")\n",
    "ax.set_xlabel(\"day\")\n",
    "ax.set_ylim(bottom=0)\n",
    "\n",
    "\n",
    "ax.xaxis.set_major_locator(mdates.HourLocator(interval = 2))\n",
    "ax.xaxis.set_major_formatter(mdates.DateFormatter('%D'))\n",
    "\n",
    "plt.grid( axis='x' )\n",
    "\n",
    "plt.savefig(os.path.join(pics, 'uncontrolled_charge.png'), bbox_inches = \"tight\")"
   ]
  },
  {
   "cell_type": "code",
   "execution_count": null,
   "metadata": {},
   "outputs": [],
   "source": [
    "fig = plt.figure()\n",
    "ax = fig.add_subplot(111)\n",
    "\n",
    "ax = (uncontrolled_level_accurate*10**-3).loc[level_index.day <= 7].resample(\"7D\").mean().plot(label = 'level', ylabel=\"MWh\")\n",
    "\n",
    "ax2 = ax.twinx()\n",
    "ax2.spines['right'].set_position(('axes',  1))\n",
    "ax2 = (uncontrolled_charge_accurate*10**-3).loc[index.day <= 7].resample(\"h\").mean().plot(label = \"charge\", color=\"r\", ylabel=\"MW\")\n",
    "ax2 = (consumption_aggregated*10**-3).loc[level_index.day <= 7].resample(\"h\").mean().plot( label = \"consumption\", color=\"y\")\n",
    "\n",
    "##.loc[level_index.day == 3].\n",
    "\n",
    "lines, labels = ax.get_legend_handles_labels()\n",
    "lines2, labels2 = ax2.get_legend_handles_labels()\n",
    "ax2.legend(lines + lines2, labels + labels2,  loc='best', bbox_to_anchor=(1.4, 1.05))\n",
    "\n",
    "\n",
    "ax.set_ylim(0), ax2.set_ylim(0)\n",
    "ax.grid('on', which='minor', axis='x' )\n",
    "\n",
    "\n",
    "plt.savefig(os.path.join(pics, 'uncontrolled_level_1.png'), bbox_inches = \"tight\")"
   ]
  },
  {
   "cell_type": "code",
   "execution_count": null,
   "metadata": {},
   "outputs": [],
   "source": [
    "fig = plt.figure()\n",
    "ax = fig.add_subplot(111)\n",
    "\n",
    "ts = uncontrolled_level_accurate*10**-3\n",
    "ax = (ts).loc[level_index.day <= 7].resample(\"h\").mean().plot(label = 'level', ylabel=\"MWh\")\n",
    "\n",
    "ax2 = ax.twinx()\n",
    "ax2.spines['right'].set_position(('axes',  1))\n",
    "ts_2 = uncontrolled_charge_accurate*10**-3\n",
    "ts_3 = consumption_aggregated*10**-3\n",
    "ax2 = (ts_2).loc[index.day <= 7].resample(\"h\").mean().plot(label = \"charge\", color=\"r\", ylabel=\"MW\")\n",
    "ax2 = (ts_3).loc[level_index.day <= 7].resample(\"h\").mean().plot( label = \"consumption\", color=\"y\")\n",
    "\n",
    "##.loc[level_index.day == 3].\n",
    "\n",
    "lines, labels = ax.get_legend_handles_labels()\n",
    "lines2, labels2 = ax2.get_legend_handles_labels()\n",
    "ax2.legend(lines + lines2, labels + labels2,  loc='best', bbox_to_anchor=(1.4, 1.05))\n",
    "\n",
    "ax.grid('on', which='minor', axis='x' )\n",
    "\n",
    "for i, s in enumerate([ts, ts_3]):\n",
    "    if i == 0: \n",
    "        ax.set_ylim(s.min(), s.max())\n",
    "        step_size = (s.max() - s.min())/5\n",
    "        ax.set_yticks(np.arange(s.min(), s.max(), step_size))\n",
    "    else:\n",
    "        ax2.set_ylim(s.min(), s.max())\n",
    "        step_size = (s.max() - s.min())/5\n",
    "        ax2.set_yticks(np.arange(s.min(), s.max(), step_size))\n",
    "    \n",
    "\n",
    "\n",
    "\n",
    "plt.savefig(os.path.join(pics, 'uncontrolled_level.png'), bbox_inches = \"tight\")"
   ]
  },
  {
   "cell_type": "code",
   "execution_count": null,
   "metadata": {},
   "outputs": [],
   "source": [
    "uncontrolled_charge_accurate.max()*10**-3 #MW"
   ]
  },
  {
   "cell_type": "markdown",
   "metadata": {},
   "source": [
    "## Aggregated Optimization"
   ]
  },
  {
   "cell_type": "code",
   "execution_count": null,
   "metadata": {},
   "outputs": [],
   "source": [
    "#!pip install pickle5\n",
    "#import pickle5 as pickle\n",
    "import pickle\n",
    "with open(\"prices_2020\", \"rb\") as fh:\n",
    "    data = pickle.load(fh)"
   ]
  },
  {
   "cell_type": "code",
   "execution_count": null,
   "metadata": {},
   "outputs": [],
   "source": [
    "price_mode = \"real_price\"\n",
    "prices = data\n",
    "\n",
    "prices = prices[prices.index >= \"2019-12-31 22:45:00+01:00\"]\n",
    "\n",
    "prices.index =  prices.index.map(\n",
    "    lambda x: pd.to_datetime(x.replace(tzinfo=None))\n",
    ")\n",
    "prices = prices[prices.index.drop_duplicates(keep=False)]\n",
    "prices = prices.reindex(consumption_aggregated.index, method = \"ffill\") \n",
    "prices = prices / (10**3) # €/MWh --> €/kWh\n",
    "\n",
    "ax = (prices*1000).loc[level_index.day <= 7].plot(ylabel=\"el. price [€/MWh]\")\n",
    "\n",
    "ax.grid('on', which='minor', axis='x' )\n",
    "\n",
    "plt.savefig(os.path.join(pics, 'prices.png'), bbox_inches = \"tight\")"
   ]
  },
  {
   "cell_type": "code",
   "execution_count": null,
   "metadata": {},
   "outputs": [],
   "source": [
    "#prices = pd.Series(0, prices.index)\n",
    "#prices[df_con.sum(1).nlargest(1).index] = 1\n",
    "#price_mode = \"artificial_price\""
   ]
  },
  {
   "cell_type": "code",
   "execution_count": null,
   "metadata": {},
   "outputs": [],
   "source": [
    "ax = fig.add_subplot(111)\n",
    "\n",
    "ax = prices.loc[level_index.day <= 7].resample(\"h\").mean().plot(ylabel=\"€/kWh\", color=\"b\", ylim=(0), label=\"prices\")\n",
    "\n",
    "ax2 = ax.twinx()\n",
    "ax2.spines['right'].set_position(('axes',  1))\n",
    "\n",
    "ax2= df_con.sum(1).loc[index.day <= 7].resample(\"h\").mean().plot(label = \"highest consumption\",  ylim=(0), color=\"r\", ylabel=\"kWh\")\n",
    "\n",
    "##.loc[level_index.day == 3].\n",
    "\n",
    "lines, labels = ax.get_legend_handles_labels()\n",
    "lines2, labels2 = ax2.get_legend_handles_labels()\n",
    "ax2.legend(lines + lines2, labels + labels2,  loc='best', bbox_to_anchor=(1.55, 1.05))\n",
    "\n",
    "ax.set_ylim(0), ax2.set_ylim(0)\n"
   ]
  },
  {
   "cell_type": "markdown",
   "metadata": {},
   "source": [
    "Assumptions: \n",
    "\n",
    "- same price for (DIS)CHARGE\n",
    "- 𝑓𝑙𝑒𝑥𝑖𝑏𝑖𝑙𝑖𝑡𝑦 𝑟𝑒𝑣𝑒𝑛𝑢𝑒𝑠 = sum(ees_charging_costs)\n",
    "- controlled costs = uncontrolled_costs - 𝑙𝑒𝑥𝑖𝑏𝑖𝑙𝑖𝑡𝑦 𝑟𝑒𝑣𝑒𝑛𝑢𝑒𝑠 "
   ]
  },
  {
   "cell_type": "code",
   "execution_count": null,
   "metadata": {
    "scrolled": true
   },
   "outputs": [],
   "source": [
    "agg_solutions = {}\n",
    "\n",
    "for model_type in [\"naive\", \"ees\"]: \n",
    "\n",
    "    #Initialize model\n",
    "    m_agg = pyo.ConcreteModel()\n",
    "\n",
    "    #initialize sets\n",
    "    m_agg.t = pyo.Set(initialize = ees_constraints_aggergated.index, ordered = True)\n",
    "\n",
    "    m_agg.consumption_aggregated = pyo.Param(m_agg.t, initialize=consumption_aggregated.to_dict())\n",
    "    m_agg.power = pyo.Param(m_agg.t, initialize=power_aggregated.to_dict()) \n",
    "    m_agg.neg_power = pyo.Param(m_agg.t, initialize=neg_power_aggregated.to_dict()) \n",
    "\n",
    "    m_agg.LEVEL = pyo.Var(m_agg.t, within = pyo.Reals)\n",
    "    m_agg.CHARGE = pyo.Var(m_agg.t, within = pyo.NonNegativeReals)\n",
    "    m_agg.DISCHARGE_PHYS = pyo.Var(m_agg.t, within = pyo.NonNegativeReals)\n",
    "    m_agg.DISCHARGE_WAIT = pyo.Var(m_agg.t, within = pyo.NonNegativeReals)\n",
    "\n",
    "    if model_type == \"ees\":\n",
    "        m_agg.ees_min = pyo.Param(m_agg.t, initialize=ees_constraints_aggergated.to_dict()) \n",
    "        m_agg.uncontrolled_charge = pyo.Param(m_agg.t, initialize=uncontrolled_charge_aggregated.to_dict()) \n",
    "       \n",
    "    if model_type == \"ees\":\n",
    "        #recursive level\n",
    "        def recursive_level(m_agg, t):\n",
    "            if t == level_index[0]:\n",
    "                return m_agg.LEVEL[t] == (m_agg.CHARGE[t] - m_agg.DISCHARGE_WAIT[t] - m_agg.DISCHARGE_PHYS[t])*step_duration   \n",
    "            else:\n",
    "                return m_agg.LEVEL[t] == m_agg.LEVEL[pd.Timestamp(t) - \n",
    "                                                 pd.Timedelta(pd.infer_freq(index))] + (\n",
    "                    m_agg.CHARGE[t] - m_agg.DISCHARGE_WAIT[t] - m_agg.DISCHARGE_PHYS[t]) * step_duration   \n",
    "            \n",
    "    else:\n",
    "        def final_level(m_agg, t):\n",
    "            if t == index[-1]:\n",
    "                return m_agg.LEVEL[t] == level_T_agg\n",
    "            else: \n",
    "                return pyo.Constraint.Skip\n",
    "        m_agg.Final_level = pyo.Constraint(m_agg.t, rule=final_level)\n",
    "        \n",
    "        def recursive_level(m_agg, t):\n",
    "            if t == level_index[0]: \n",
    "                return m_agg.LEVEL[t] == level_0_agg + (m_agg.CHARGE[t]- m_agg.consumption_aggregated[t] - m_agg.DISCHARGE_PHYS[t] )*step_duration   \n",
    "            else:\n",
    "                return m_agg.LEVEL[t] == m_agg.LEVEL[pd.Timestamp(t) - \n",
    "                                                 pd.Timedelta(pd.infer_freq(index))] + (\n",
    "                    m_agg.CHARGE[t] - m_agg.consumption_aggregated[t] - m_agg.DISCHARGE_PHYS[t]) * step_duration \n",
    "            \n",
    "       \n",
    "    m_agg.Recursive_level = pyo.Constraint(m_agg.t, rule = recursive_level)\n",
    "    \n",
    "    def level_constraint(m_agg, t):\n",
    "        if model_type==\"ees\":\n",
    "            return m_agg.LEVEL[t] >= m_agg.ees_min[t] \n",
    "        else:\n",
    "            return m_agg.LEVEL[t] <= aggregated_max_battery\n",
    "    m_agg.Level_constraint = pyo.Constraint(m_agg.t, rule=level_constraint)\n",
    "    \n",
    "    def level_constraint_2(m_agg, t):\n",
    "        if model_type==\"ees\":\n",
    "            return m_agg.LEVEL[t] <= 0\n",
    "        else:\n",
    "            return m_agg.LEVEL[t] >= 0\n",
    "    m_agg.Level_constraint_2 = pyo.Constraint(m_agg.t, rule=level_constraint_2)\n",
    "    \n",
    "    if (model_type == \"naive\")  & (flex==\"constrained\"): ####\n",
    "        dep_index = consumption_aggregated[(consumption_aggregated==0) & (consumption_aggregated.shift(-1) > 0) == True].index\n",
    "        m_agg.t_dep = pyo.Set(initialize = dep_index, ordered = True)\n",
    "\n",
    "        def full_before_next_trip(m_agg, t_dep):\n",
    "            return m_agg.LEVEL[t_dep] >= uncontrolled_level_accurate[dep_index].loc[t_dep]\n",
    "        m_agg.Full_before_next_trip = pyo.Constraint(m_agg.t_dep, rule=full_before_next_trip)\n",
    "                    \n",
    "    def power_charge_max(m_agg, t):\n",
    "        return m_agg.CHARGE[t] <= m_agg.power[t]   \n",
    "    m_agg.Power_charge_max = pyo.Constraint(m_agg.t, rule=power_charge_max)\n",
    "\n",
    "    if model_type == \"ees\":\n",
    "        def power_discharge_consumption_max(m_agg, t):\n",
    "            return m_agg.DISCHARGE_WAIT[t] <=  m_agg.uncontrolled_charge[t] \n",
    "        m_agg.Power_discharge_consumption_max = pyo.Constraint(m_agg.t, rule=power_discharge_consumption_max)\n",
    "    \n",
    "    def power_discharge_phys_max(m_agg, t):\n",
    "        if V2G == True:\n",
    "            return m_agg.DISCHARGE_PHYS[t] <= m_agg.neg_power[t] \n",
    "        else: \n",
    "            return m_agg.DISCHARGE_PHYS[t] == 0\n",
    "            \n",
    "    m_agg.Power_discharge_phys_max = pyo.Constraint(m_agg.t, rule=power_discharge_phys_max)\n",
    "\n",
    "    # objective function\n",
    "    if model_type == \"ees\":\n",
    "        def min_ees_costs(m_agg): \n",
    "            return sum(\n",
    "                (m_agg.CHARGE[t]-m_agg.DISCHARGE_WAIT[t]-m_agg.DISCHARGE_PHYS[t]\n",
    "                ) * prices[t] *step_duration \n",
    "                for t in m_agg.t\n",
    "            ) \n",
    "        m_agg.Obj_min_ees_costs = pyo.Objective(rule=min_ees_costs, sense=pyo.minimize)\n",
    "    else:\n",
    "        def min_naive_costs(m_agg): \n",
    "            return sum(\n",
    "                (m_agg.CHARGE[t] - m_agg.DISCHARGE_PHYS[t]) * prices[t] *step_duration \n",
    "                for t in m_agg.t\n",
    "            ) \n",
    "        m_agg.Obj_min_naive_costs = pyo.Objective(rule=min_naive_costs, sense=pyo.minimize)\n",
    "        \n",
    "    #find solver\n",
    "    solvername='glpk'\n",
    "\n",
    "    #prepare solver\n",
    "    optimizer = opt.SolverFactory(solvername) \n",
    "    solved_model = optimizer.solve(m_agg, tee=True)        \n",
    "    \n",
    "    agg_solutions[model_type] = {}\n",
    "    agg_solutions[model_type][\"costs\"] = solved_model['Problem']()['Lower bound']\n",
    "    agg_solutions[model_type][\"CHARGE\"] = pd.DataFrame.from_dict(m_agg.CHARGE.extract_values(), orient='index', columns = [model_type])\n",
    "    if model_type == \"ees\":\n",
    "        agg_solutions[model_type][\"DISCHARGE\"] = pd.DataFrame.from_dict(m_agg.DISCHARGE_WAIT.extract_values(), orient='index', columns = [model_type]) + pd.DataFrame.from_dict(m_agg.DISCHARGE_PHYS.extract_values(), orient='index', columns = [model_type])\n",
    "    else:\n",
    "        agg_solutions[model_type][\"DISCHARGE\"] = pd.DataFrame.from_dict(m_agg.DISCHARGE_PHYS.extract_values(), orient='index', columns = [model_type])\n",
    "    agg_solutions[model_type][\"LEVEL\"] = pd.DataFrame.from_dict(m_agg.LEVEL.extract_values(), orient='index', columns = [model_type])"
   ]
  },
  {
   "cell_type": "markdown",
   "metadata": {},
   "source": [
    "def plot_aggregated_results(model_type):\n",
    "    obversvations = 100#len(ees_constraints_aggergated)\n",
    "    x = level_index[10:obversvations]\n",
    "    fig, ax = plt.subplots(3)\n",
    "    ax[0].step(x, \n",
    "               pyo.value(agg_solutions[model_type][\"CHARGE\"].values[10:obversvations]), where=\"pre\")\n",
    "    ax[0].set_title(\"{}_charging\".format(model_type))\n",
    "    \n",
    "    \n",
    "    ax[1].step(x, \n",
    "               pyo.value(agg_solutions[model_type][\"DISCHARGE\"].values[10:obversvations]), where=\"pre\")\n",
    "    ax[1].set_title(\"{}_discharging\".format(model_type))\n",
    "    \n",
    "    \n",
    "    ax[2].plot(x, \n",
    "               pyo.value(agg_solutions[model_type][\"LEVEL\"].values[10:obversvations]))\n",
    "    ax[2].set_title(\"{}_level\".format(model_type))\n",
    "    ax[2].set_ylabel(\"kWh\")\n",
    "    \n",
    "    \n",
    "    for i in range(0,2):\n",
    "        ax[i].set_ylabel(\"kWh/15min\")\n",
    "        ax[i].set_xticks(pd.date_range(x[0], x[-1], freq=\"D\"))\n",
    "        #plt.set_xticklabels(rotation= 45)\n",
    "        plt.xticks(rotation= 45)\n",
    "    fig.autofmt_xdate(rotation=45)\n",
    "\n",
    "\n",
    "    plt.tight_layout()\n",
    "    plt.show()\n",
    "    \n",
    "plot_aggregated_results(\"ees\")\n",
    "plot_aggregated_results(\"naive\")"
   ]
  },
  {
   "cell_type": "markdown",
   "metadata": {},
   "source": [
    "# Analysis"
   ]
  },
  {
   "cell_type": "code",
   "execution_count": null,
   "metadata": {
    "scrolled": true
   },
   "outputs": [],
   "source": [
    "agg_overest_solutions = {}\n",
    "\n",
    "for model_type in [\"m_early_agg\", \"m_late_agg\"]:\n",
    "    #Initialize model\n",
    "    m_agg = pyo.ConcreteModel()\n",
    "\n",
    "    #initialize sets\n",
    "    m_agg.t = pyo.Set(initialize = ees_constraints_aggergated.index, ordered = True)\n",
    "\n",
    "    m_agg.consumption_aggregated = pyo.Param(m_agg.t, initialize=consumption_aggregated.to_dict())\n",
    "    m_agg.power = pyo.Param(m_agg.t, initialize=power_aggregated.to_dict()) \n",
    "    m_agg.neg_power = pyo.Param(m_agg.t, initialize=neg_power_aggregated.to_dict()) \n",
    "\n",
    "    m_agg.LEVEL = pyo.Var(m_agg.t, within = pyo.NonNegativeReals, bounds=(\n",
    "        0, aggregated_max_battery))\n",
    "    m_agg.CHARGE = pyo.Var(m_agg.t, within = pyo.NonNegativeReals)\n",
    "    m_agg.DISCHARGE = pyo.Var(m_agg.t, within = pyo.NonNegativeReals)\n",
    "    \n",
    "    if (model_type == \"m_late_agg\")  & (flex==\"constrained\"): ###\n",
    "        dep_index = consumption_aggregated[(consumption_aggregated==0) & (consumption_aggregated.shift(-1) > 0) == True].index\n",
    "        m_agg.t_dep = pyo.Set(initialize = dep_index, ordered = True)\n",
    "        def full_before_next_trip(m_agg, t_dep):\n",
    "            return m_agg.LEVEL[t_dep] >= uncontrolled_level_accurate[dep_index].loc[t_dep]\n",
    "        m_agg.Full_before_next_trip = pyo.Constraint(m_agg.t_dep, rule=full_before_next_trip)\n",
    "        \n",
    "        \n",
    "    #level constraints\n",
    "    def recursive_level(m_agg, t):\n",
    "        if t == level_index[0]:\n",
    "            return m_agg.LEVEL[t] == level_0_agg + m_agg.CHARGE[t] - m_agg.consumption_aggregated[t]\n",
    "        else:    \n",
    "            return m_agg.LEVEL[t] == m_agg.LEVEL[pd.Timestamp(t) - \n",
    "                                             pd.Timedelta(pd.infer_freq(level_index))] + (\n",
    "                m_agg.CHARGE[t] - m_agg.consumption_aggregated[t] - m_agg.DISCHARGE[t] )\n",
    "    m_agg.Recursive_level = pyo.Constraint(m_agg.t, rule = recursive_level)\n",
    "    \n",
    "    def final_level(m_agg, t):\n",
    "        if t == index[-1]:\n",
    "            return m_agg.LEVEL[t] == level_T_agg\n",
    "        else: \n",
    "            return pyo.Constraint.Skip\n",
    "    m_agg.Final_level = pyo.Constraint(m_agg.t, rule=final_level)\n",
    "    \n",
    "    #bidirectional charging \n",
    "    def neg_power_min(m_agg, t):\n",
    "        if V2G == True:\n",
    "            return m_agg.DISCHARGE[t] <= m_agg.neg_power[t]\n",
    "        else: \n",
    "            return m_agg.DISCHARGE[t] == 0\n",
    "    m_agg.Neg_power_min_restriction = pyo.Constraint(m_agg.t, rule=neg_power_min)\n",
    "\n",
    "    def power_max(m_agg, t):\n",
    "        return m_agg.CHARGE[t] <= m_agg.power[t]   \n",
    "    m_agg.Power_max_restriction = pyo.Constraint(m_agg.t, rule=power_max)\n",
    "    \n",
    "    def final_level(m_agg, t):\n",
    "        if t == index[-1]:\n",
    "            return m_agg.LEVEL[t] == level_T_agg\n",
    "        else: \n",
    "            return pyo.Constraint.Skip\n",
    "    m_agg.Final_level = pyo.Constraint(m_agg.t, rule=final_level)\n",
    "\n",
    "    # objective function late\n",
    "    def battery_level_sum(m_agg, t): \n",
    "        return sum(m_agg.LEVEL[t] for t in m_agg.t) \n",
    "    if model_type == \"m_late_agg\":\n",
    "        sense = pyo.minimize\n",
    "    elif model_type == \"m_early_agg\":\n",
    "        sense = pyo.maximize     \n",
    "    m_agg.Obj = pyo.Objective(rule=battery_level_sum, sense=sense)\n",
    "\n",
    "    #find solver\n",
    "    solvername='glpk'\n",
    "\n",
    "    #prepare solver\n",
    "    optimizer = opt.SolverFactory(solvername) \n",
    "    solved_model = optimizer.solve(m_agg, tee=True)        \n",
    "\n",
    "    #store data in dictionary\n",
    "    agg_overest_solutions[model_type] = pd.DataFrame.from_dict(\n",
    "        m_agg.LEVEL.extract_values(), orient='index')[0]"
   ]
  },
  {
   "cell_type": "code",
   "execution_count": null,
   "metadata": {},
   "outputs": [],
   "source": [
    "#overestimation in kWh how much could be shifted from uncontrolled charging?\n",
    "overestimation_dict = {}\n",
    "\n",
    "overestimation = 1 + (\n",
    "    (agg_overest_solutions[\"m_late_agg\"] - agg_overest_solutions[\"m_early_agg\"]).sum()\n",
    "    - ees_constraints_aggergated.sum()\n",
    ") / ees_constraints_aggergated.sum()\n",
    "\n",
    "print(\n",
    "    \"potential overestimation factor: \" + str(\n",
    "        overestimation) + \" : \" + str((\n",
    "    (agg_overest_solutions[\"m_late_agg\"] - agg_overest_solutions[\"m_early_agg\"]).sum()\n",
    "    - ees_constraints_aggergated.sum()\n",
    ") / ees_constraints_aggergated.sum()*100) + \" %\"\n",
    ")\n",
    "                                                  \n",
    "overestimation_dict[f'profiles: {profiles}, steps: {time_steps}'] =  overestimation "
   ]
  },
  {
   "cell_type": "markdown",
   "metadata": {},
   "source": [
    "#df = pd.DataFrame().from_dict(overestimation_dict, orient=\"index\")\n",
    "df_profiles = df.iloc[:7]\n",
    "df_profiles.index = [int(\n",
    "    i.split(\":\")[1].split(\",\")[0]\n",
    ")\n",
    " for i in df_profiles.index]\n",
    "\n",
    "df_profiles.to_pickle(\"profiles_overestimation\")\n",
    "df_profiles.plot()\n",
    "plt.legend([\"time_steps: 673\"])\n",
    "\n",
    "df_time_steps = df.iloc[7:]\n",
    "df_time_steps.index = [int(\n",
    "    i.split(\",\")[1].split(\":\")[1]\n",
    ")\n",
    " for i in df_time_steps.index]\n",
    "\n",
    "df_time_steps.to_pickle(\"time_step_overestimation\")\n",
    "df_time_steps.plot()\n",
    "plt.legend([\"profiles: 3311\"])"
   ]
  },
  {
   "cell_type": "code",
   "execution_count": null,
   "metadata": {},
   "outputs": [],
   "source": [
    "ts = pd.concat([\n",
    "    -ees_constraints_aggergated*10**-3 ,((agg_overest_solutions[\"m_early_agg\"] - agg_overest_solutions[\"m_late_agg\"])*10**-3)\n",
    "], axis = 1, keys = [\"ees\", \"naive\"])\n",
    "\n",
    "ax = ts.plot(ylabel=\"(virtual) MWh\")\n",
    "\n",
    "ax.legend(bbox_to_anchor=(0.98,0.2))\n",
    "\n",
    "ax2 = ax.twinx()\n",
    "ax2.spines['right'].set_position(('axes',  1))\n",
    "\n",
    "ts_2 = pd.Series(100,level_index)\n",
    "ax2 = ts_2.plot(alpha=0, ylabel=\"%\")\n",
    "\n",
    "ax.set_ylim(0), ax2.set_ylim(0)\n",
    "\n",
    "\n",
    "ax.grid('on', which='minor', axis='x' )\n",
    "\n",
    "for i, s in enumerate([ts, ts_2]):\n",
    "    if i == 0: \n",
    "        ax.set_ylim(s.min()[0], s.max()[0])\n",
    "        step_size = (s.max()[0] - s.min()[0])/10\n",
    "        ax.set_yticks(np.arange(s.min()[0], s.max()[0]+50, step_size))\n",
    "    else:\n",
    "        ax2.set_ylim(0, 110)\n",
    "        step_size = 100/5\n",
    "        ax2.set_yticks(np.arange(0,110, step_size))\n",
    "\n",
    "plt.savefig(os.path.join(pics, 'level_comparison_size_ts.png'), bbox_inches = \"tight\")"
   ]
  },
  {
   "cell_type": "code",
   "execution_count": null,
   "metadata": {},
   "outputs": [],
   "source": [
    "ees_constraints_aggergated.sum()*10**-6"
   ]
  },
  {
   "cell_type": "code",
   "execution_count": null,
   "metadata": {},
   "outputs": [],
   "source": [
    "ts = pd.DataFrame([\n",
    "    (agg_overest_solutions[\"m_early_agg\"] - agg_overest_solutions[\"m_late_agg\"]).sum()*10**-6,\n",
    "    -ees_constraints_aggergated.sum()*10**-6\n",
    "], [\"naive\", \"ees\"])\n",
    "\n",
    "ax = ts.plot.bar(rot=0, legend=False )\n",
    "\n",
    "\n",
    "ax.set_ylabel(\"solution space size [GWh]\")\n",
    "\n",
    "ax2 = ax.twinx()\n",
    "\n",
    "ax2.spines['right'].set_position(('axes',  1))\n",
    "\n",
    "ax2.set_ylim(0,100)\n",
    "ax2.set_ylabel(\"%\")\n",
    "\n",
    "ax.grid('on', which='minor', axis='x' )\n",
    "\n",
    "plt.savefig(os.path.join(pics,'level_comparison_size_bar.png'), bbox_inches = \"tight\")\n"
   ]
  },
  {
   "cell_type": "code",
   "execution_count": null,
   "metadata": {
    "scrolled": false
   },
   "outputs": [],
   "source": [
    "#controlled charging (physical) = uncontrolled charging - ees_dis + ee_scharging\n",
    "#fig, ax = plt.subplots()\n",
    "\n",
    "retransformed_ees_level = pd.concat([\n",
    "    uncontrolled_level_accurate, agg_solutions[\"ees\"][\"LEVEL\"]\n",
    "], axis=1).sum(1)\n",
    "retransformed_ees_level.name = \"retransformed_ees\"\n",
    "\n",
    "ax = (pd.concat([\n",
    "    retransformed_ees_level, agg_solutions[\"naive\"][\"LEVEL\"]\n",
    "], axis=1)*10**-3).plot(ylabel=\"aggregated level [MWh]\", ylim=0)\n",
    "\n",
    "#.loc[level_index.day <= 7]\n",
    "ax.grid('on', which='minor', axis='x' )\n",
    "\n",
    "plt.legend(bbox_to_anchor=(1.0, 1.0))\n",
    "\n",
    "\n",
    "#fig.tight_layout()\n",
    "plt.savefig(os.path.join(pics, price_mode,'opt_level_comparison_long.png'), bbox_inches = \"tight\")#week"
   ]
  },
  {
   "cell_type": "code",
   "execution_count": null,
   "metadata": {},
   "outputs": [],
   "source": [
    "ax = (pd.concat([\n",
    "    uncontrolled_level_accurate, retransformed_ees_level, -agg_solutions[\"ees\"][\"LEVEL\"]\n",
    "], axis=1)*10**-3).plot(ylabel=\"aggregated level [MWh]\", ylim=0)\n",
    "\n",
    "ax.grid('on', which='minor', axis='x' )\n",
    "\n",
    "plt.legend(bbox_to_anchor=(1.0, 1.0))\n",
    "\n",
    "plt.savefig(os.path.join(pics, price_mode,'shifted_energy.png'), bbox_inches = \"tight\") #long, week, day_3"
   ]
  },
  {
   "cell_type": "code",
   "execution_count": null,
   "metadata": {},
   "outputs": [],
   "source": [
    "-agg_solutions[\"ees\"][\"LEVEL\"].sum()*10**-6"
   ]
  },
  {
   "cell_type": "code",
   "execution_count": null,
   "metadata": {},
   "outputs": [],
   "source": [
    "#controlled charging (physical) = uncontrolled charging - ees_dis + ee_scharging\n",
    "\n",
    "retransformed_ees_charge = pd.concat([\n",
    "    uncontrolled_charge_accurate.loc[level_index[1:]], agg_solutions[\"ees\"][\"CHARGE\"], - agg_solutions[\"ees\"][\"DISCHARGE\"]\n",
    "], axis=1).sum(1)\n",
    "\n",
    "charge_list = [agg_solutions[\"naive\"][\"CHARGE\"]]\n",
    "if V2G==True: charge_list.append(- agg_solutions[\"naive\"][\"DISCHARGE\"])\n",
    "naive_dis_charge = pd.concat(charge_list, axis=1).sum(1)\n",
    "\n",
    "retransformed_ees_charge.name, naive_dis_charge.name = \"retransformed_ees\", \"naive\"\n",
    "\n",
    "df_list = [uncontrolled_charge_accurate, retransformed_ees_charge, naive_dis_charge]\n",
    "df_list = [df*10**-3 for df in df_list]\n",
    "ax = pd.concat(df_list, axis=1).plot(ylabel=\"charging [MW]\", ylim=(0))\n",
    "ax.grid('on', which='minor', axis='x' )\n",
    "#.loc[level_index.day <= 7]\n",
    "plt.legend(bbox_to_anchor=(1.0, 1.0))\n",
    "\n",
    "plt.savefig(os.path.join(pics, price_mode,'all_charging_day_3.png'), bbox_inches = \"tight\") #long, week, day_3"
   ]
  },
  {
   "cell_type": "code",
   "execution_count": null,
   "metadata": {},
   "outputs": [],
   "source": [
    "    fig, ax = plt.subplots(figsize=(8, 3.5))\n",
    "\n",
    "ts =  (pd.concat([\n",
    "    uncontrolled_charge_accurate, agg_solutions[\"ees\"][\"CHARGE\"]-agg_solutions[\"ees\"][\"DISCHARGE\"]\n",
    "], axis=1)*10**-3).resample(\"h\").mean()\n",
    "\n",
    "\n",
    "ax.step(ts.index, ts, where=\"post\")\n",
    "ax.set_ylabel(\"MW\")\n",
    "ax.set_xlabel(\"time, date\")\n",
    "plt.axhline(y=0)\n",
    "ax.xaxis.set_major_locator(mdates.HourLocator(interval = 8))\n",
    "ax.xaxis.set_major_formatter(mdates.DateFormatter('%H'))\n",
    "\n",
    "ax.legend([\"uncontrolled\", \"ees: difference from uncontrolled\"], bbox_to_anchor=(1.0, 1.0))\n",
    "\n",
    "plt.grid( axis='x' )\n",
    "\n",
    "plt.savefig(os.path.join(pics, 'shifted_charge.png'), bbox_inches = \"tight\")"
   ]
  },
  {
   "cell_type": "code",
   "execution_count": null,
   "metadata": {},
   "outputs": [],
   "source": [
    "ax = (pd.concat([\n",
    "    uncontrolled_charge_accurate, retransformed_ees_charge, -agg_solutions[\"ees\"][\"CHARGE\"]\n",
    "], axis=1)*10**-3).plot(ylabel=\"Charge [MW]\", ylim=0)\n",
    "\n",
    "plt.legend(bbox_to_anchor=(1.0, 1.0))\n",
    "\n",
    "plt.savefig(os.path.join(pics, price_mode,'shifted_energy.png'), bbox_inches = \"tight\") #long, week, day_3\n"
   ]
  },
  {
   "cell_type": "code",
   "execution_count": null,
   "metadata": {},
   "outputs": [],
   "source": [
    "#plausibility: charging the same in all strategies? \n",
    "pd.concat([\n",
    "    uncontrolled_charge_accurate, retransformed_ees_charge, naive_dis_charge.iloc[1:]\n",
    "], axis=1).sum(0)"
   ]
  },
  {
   "cell_type": "code",
   "execution_count": null,
   "metadata": {},
   "outputs": [],
   "source": [
    "pd.concat([retransformed_ees_level, agg_solutions[\"naive\"][\"LEVEL\"]], axis=1).iloc[-1]"
   ]
  },
  {
   "cell_type": "markdown",
   "metadata": {},
   "source": [
    "## Cost"
   ]
  },
  {
   "cell_type": "code",
   "execution_count": null,
   "metadata": {},
   "outputs": [],
   "source": [
    "uncontrolled_costs = sum([\n",
    "    uncontrolled_charge_accurate[i] * prices[i] for i in index\n",
    "])\n",
    "controlled_costs_ees = sum([\n",
    "    retransformed_ees_charge[i] * prices[i] for i in index\n",
    "])\n",
    "controlled_costs_naive = sum([\n",
    "    naive_dis_charge[i] * prices[i] for i in index\n",
    "])"
   ]
  },
  {
   "cell_type": "code",
   "execution_count": null,
   "metadata": {},
   "outputs": [],
   "source": [
    "#costs\n",
    "fig, ax = plt.subplots()\n",
    "\n",
    "plt.bar(x = [\"uncontrolled\", \"controlled_ees\", \"controlled_naive\"],  height=[\n",
    "    uncontrolled_costs, controlled_costs_ees, controlled_costs_naive\n",
    "])\n",
    "plt.ylabel(\"costs for charging [€/year]\")\n",
    "plt.show()\n",
    "\n",
    "fig.tight_layout()\n",
    "plt.savefig(os.path.join(pics, price_mode,'costs.png')) "
   ]
  },
  {
   "cell_type": "code",
   "execution_count": null,
   "metadata": {
    "scrolled": true
   },
   "outputs": [],
   "source": [
    "\n",
    "ax = pd.DataFrame([\n",
    "    controlled_costs_ees, controlled_costs_naive\n",
    "], [\"controlled_ees\", \"controlled_naive\"]).plot.bar(rot=0, legend=False )\n",
    "\n",
    "\n",
    "ax.set_ylabel(\"costs for charging [€/year]\")\n",
    "\n",
    "ax2 = ax.twinx()\n",
    "\n",
    "ax2.spines['right'].set_position(('axes',  1))\n",
    "\n",
    "ax2.set_ylim(0,100)\n",
    "ax2.set_ylabel(\"%\")\n",
    "\n",
    "\n",
    "plt.savefig(os.path.join(pics, price_mode,'costs_percent.png'), bbox_inches = \"tight\") "
   ]
  },
  {
   "cell_type": "markdown",
   "metadata": {},
   "source": [
    "## Scaling"
   ]
  },
  {
   "cell_type": "code",
   "execution_count": null,
   "metadata": {},
   "outputs": [],
   "source": [
    "fleeet_size = 10**6 "
   ]
  },
  {
   "cell_type": "code",
   "execution_count": null,
   "metadata": {},
   "outputs": [],
   "source": []
  }
 ],
 "metadata": {
  "kernelspec": {
   "display_name": "Python 3 (ipykernel)",
   "language": "python",
   "name": "python3"
  },
  "language_info": {
   "codemirror_mode": {
    "name": "ipython",
    "version": 3
   },
   "file_extension": ".py",
   "mimetype": "text/x-python",
   "name": "python",
   "nbconvert_exporter": "python",
   "pygments_lexer": "ipython3",
   "version": "3.10.4"
  }
 },
 "nbformat": 4,
 "nbformat_minor": 4
}
