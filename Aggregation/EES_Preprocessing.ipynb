{
 "cells": [
  {
   "cell_type": "markdown",
   "metadata": {},
   "source": [
    "https://stackoverflow.com/questions/53838696/problems-regarding-pyomo-provided-math-functions\n",
    "\n",
    "https://stackoverflow.com/questions/70048818/optimization-of-a-battery-storage-with-pyomo\n",
    "\n",
    "https://gitlab.com/diw-evu/emobpy/emobpy/-/blob/master/emobpy/data/evspecs.json\n",
    "\n",
    "https://github.com/L-Strobel/jointAnalysisCharging/tree/main/chargingmodel"
   ]
  },
  {
   "cell_type": "code",
   "execution_count": 1,
   "metadata": {},
   "outputs": [],
   "source": [
    "import os\n",
    "import pandas as pd\n",
    "import numpy as np\n",
    "import matplotlib.pyplot as plt\n",
    "import matplotlib.axes as axes\n",
    "import math\n",
    "import pyomo.environ as pyo \n",
    "import pyomo.opt as opt\n",
    "from IPython.display import clear_output\n",
    "from pyomo.opt import SolverFactory\n",
    "import random\n",
    "from pandas import Timestamp\n",
    "import pickle\n",
    "from varname import nameof\n",
    "import matplotlib.dates as mdates\n"
   ]
  },
  {
   "cell_type": "code",
   "execution_count": 78,
   "metadata": {},
   "outputs": [],
   "source": [
    "if get_dir_size(os.path.join(data_path, \"ged_db\")) > 0.04:\n",
    "    transtion_files(os.path.join(data_path, \"ged_db\"))"
   ]
  },
  {
   "cell_type": "code",
   "execution_count": null,
   "metadata": {},
   "outputs": [],
   "source": [
    "DB_c.update()"
   ]
  },
  {
   "cell_type": "code",
   "execution_count": null,
   "metadata": {},
   "outputs": [],
   "source": [
    "DB_c.loadfiles()"
   ]
  },
  {
   "cell_type": "code",
   "execution_count": 5,
   "metadata": {},
   "outputs": [
    {
     "ename": "NameError",
     "evalue": "name 'DB_c' is not defined",
     "output_type": "error",
     "traceback": [
      "\u001b[0;31m---------------------------------------------------------------------------\u001b[0m",
      "\u001b[0;31mNameError\u001b[0m                                 Traceback (most recent call last)",
      "\u001b[0;32m<ipython-input-5-8369b3157d39>\u001b[0m in \u001b[0;36m<module>\u001b[0;34m\u001b[0m\n\u001b[0;32m----> 1\u001b[0;31m \u001b[0mc_names\u001b[0m \u001b[0;34m=\u001b[0m \u001b[0mlist\u001b[0m\u001b[0;34m(\u001b[0m\u001b[0mDB_c\u001b[0m\u001b[0;34m.\u001b[0m\u001b[0mdb\u001b[0m\u001b[0;34m.\u001b[0m\u001b[0mkeys\u001b[0m\u001b[0;34m(\u001b[0m\u001b[0;34m)\u001b[0m\u001b[0;34m)\u001b[0m\u001b[0;34m\u001b[0m\u001b[0;34m\u001b[0m\u001b[0m\n\u001b[0m",
      "\u001b[0;31mNameError\u001b[0m: name 'DB_c' is not defined"
     ]
    }
   ],
   "source": [
    "c_names = list(DB_c.db.keys()) "
   ]
  },
  {
   "cell_type": "code",
   "execution_count": null,
   "metadata": {},
   "outputs": [],
   "source": [
    "DB_a = DataBase(os.path.join(data_path, \"availability\", \"0\"))\n",
    "DB_a.update()"
   ]
  },
  {
   "cell_type": "markdown",
   "metadata": {},
   "source": [
    "## Functions"
   ]
  },
  {
   "cell_type": "markdown",
   "metadata": {},
   "source": [
    "ga.set_scenario(station_distribution)\n",
    "ga.run()\n",
    "soc_init:0.5 --> soc_end:1.0"
   ]
  },
  {
   "cell_type": "code",
   "execution_count": 123,
   "metadata": {},
   "outputs": [],
   "source": [
    "##Wieviele Ladevorgägne / Tag ca.? "
   ]
  },
  {
   "cell_type": "markdown",
   "metadata": {},
   "source": [
    "## Emobpy input "
   ]
  },
  {
   "cell_type": "code",
   "execution_count": 124,
   "metadata": {},
   "outputs": [],
   "source": [
    "#emobpy import\n",
    "processing_path = os.getcwd()\n",
    "os.chdir(\"../emobpy\")\n",
    "data_path = os.getcwd()\n",
    "os.chdir(processing_path)\n",
    "\n",
    "consumption_ts = pd.read_pickle(os.path.join(data_path, \"consumption\"))\n",
    "availability_ts = pd.read_pickle(os.path.join(data_path, \"availability\"))\n",
    "car_properties_raw = pd.read_pickle(os.path.join(data_path, \"properties\"))\n",
    "car_properties_raw = car_properties_raw.iloc[:,:80]\n",
    "soc_min = 0"
   ]
  },
  {
   "cell_type": "code",
   "execution_count": 125,
   "metadata": {},
   "outputs": [],
   "source": [
    "#consumption ts\n",
    "#consumption = pd.DataFrame(data = np.array([[0, 0.5], [0, 0.5], [0.5, 0], [0.5, 0]]), columns = [\"c_1[kW]\", \"c_2[kW]\"])\n",
    "consumption_raw = consumption_ts.iloc[:,:80]"
   ]
  },
  {
   "cell_type": "code",
   "execution_count": 126,
   "metadata": {},
   "outputs": [],
   "source": [
    "#power availability ts\n",
    "#power = pd.DataFrame(pd.DataFrame(data = np.array([[1, 0], [1, 0], [0, 1], [0, 1]]), columns = [\"p_1 [kW]\", \"p_2 [kW]\"]))\n",
    "power_raw = availability_ts.iloc[:,:80]\n",
    "\n",
    "neg_power_magnitude_raw = power_raw"
   ]
  },
  {
   "cell_type": "code",
   "execution_count": 127,
   "metadata": {},
   "outputs": [],
   "source": [
    "#set datetime indexes \n",
    "consumption_raw.index = consumption_ts.index[:len(consumption_raw.index)]\n",
    "index = consumption_raw.index\n",
    "\n",
    "power_raw.index = index\n",
    "neg_power_magnitude_raw.index = index"
   ]
  },
  {
   "cell_type": "code",
   "execution_count": 128,
   "metadata": {},
   "outputs": [],
   "source": [
    "def plot_step(df):\n",
    "    df_ = df.copy()\n",
    "    \n",
    "    if type(df.index[0]) == int:\n",
    "        df_.loc[df_.index[-1]+1,:] = df_.iloc[-1,:]\n",
    "        print(\"a\")\n",
    "    else:\n",
    "        df_.loc[str(pd.Timestamp(df_.index[-1] ) + \n",
    "                    pd.Timedelta(pd.infer_freq(index))),:\n",
    "               ] = df_.iloc[-1,:]\n",
    "        \n",
    "    df_.index = pd.to_datetime(df_.index)\n",
    "    \n",
    "    fig, ax = plt.subplots(2)\n",
    "    time_constrained=df_[df_.index.date <= df_.index[0].date()]\n",
    "    x = time_constrained.index\n",
    "    ax[0].step(x=x, y = time_constrained.iloc[:,2], where = \"post\")\n",
    "    ax[1].step(x=x, y = time_constrained.sum(1).to_frame().rename(columns={0:\"aggregated\"}), where = \"post\")\n",
    "    for i in [0,1]:\n",
    "        ax[i].xaxis.set_major_locator(mdates.HourLocator())\n",
    "        ax[i].xaxis.set_major_formatter(mdates.DateFormatter('%H'))\n",
    "        ax[i].set_ylabel(\"kWh/15min\")\n",
    "        ax[i].set_ylim(bottom=0)\n",
    "        \n",
    "    fig.tight_layout()\n",
    "    plt.show()\n"
   ]
  },
  {
   "cell_type": "code",
   "execution_count": null,
   "metadata": {},
   "outputs": [],
   "source": [
    "consumption_raw.sum(1).resample(\"3w\").mean().plot()"
   ]
  },
  {
   "cell_type": "code",
   "execution_count": 129,
   "metadata": {},
   "outputs": [
    {
     "data": {
      "image/png": "[encoded data removed]",
      "text/plain": [
       "<Figure size 432x288 with 2 Axes>"
      ]
     },
     "metadata": {
      "needs_background": "light"
     },
     "output_type": "display_data"
    }
   ],
   "source": [
    "plot_step(consumption_raw)"
   ]
  },
  {
   "cell_type": "code",
   "execution_count": 130,
   "metadata": {
    "scrolled": true
   },
   "outputs": [
    {
     "data": {
      "image/png": "[encoded data removed]",
      "text/plain": [
       "<Figure size 432x288 with 2 Axes>"
      ]
     },
     "metadata": {
      "needs_background": "light"
     },
     "output_type": "display_data"
    }
   ],
   "source": [
    "plot_step(power_raw)"
   ]
  },
  {
   "cell_type": "code",
   "execution_count": 131,
   "metadata": {},
   "outputs": [],
   "source": [
    "step_duration = int(pd.infer_freq(index)[:-1]) / 60  #parts of an hour\n",
    "\n",
    "soc_min = 0 #0%"
   ]
  },
  {
   "cell_type": "markdown",
   "metadata": {},
   "source": [
    "# EES-transformation: Generating uncontrolled and latest charging ts"
   ]
  },
  {
   "cell_type": "code",
   "execution_count": 132,
   "metadata": {},
   "outputs": [],
   "source": [
    "##level= [0, 2]\n",
    "##level_ = [0, 1]\n",
    "\n",
    "##bidirectional means new decision variable --> new efficiencies! \n",
    "\n",
    "#set same names for columns\n",
    "power_raw.columns = consumption_raw.columns\n",
    "neg_power_magnitude_raw.columns = consumption_raw.columns\n",
    "car_properties_raw.columns = consumption_raw.columns"
   ]
  },
  {
   "cell_type": "code",
   "execution_count": 459,
   "metadata": {},
   "outputs": [],
   "source": [
    "solution_dict = {}\n",
    "ees_constraints= pd.DataFrame()\n",
    "\n",
    "for c in consumption_raw.columns.unique():\n",
    "    \n",
    "    for i, car in enumerate(consumption_raw[c].columns):\n",
    "        consumption= consumption_raw[c].iloc[:,i]\n",
    "        power= power_raw[c].iloc[:,i]\n",
    "        neg_power_magnitude= neg_power_magnitude_raw[c].iloc[:,i]\n",
    "        car_properties= car_properties_raw[c].iloc[:,i]\n",
    "        \n",
    "        solution_dict[car+str(i)] = {}\n",
    "        level_0 = car_properties[\"soc_init\"]\n",
    "        level_T = car_properties.loc[\"soc_end\"]\n",
    "        battery_capacity = car_properties.loc[\"battery_capacity\"]\n",
    "\n",
    "        for model_type in [\"m_late\", \"m_early\"]:\n",
    "\n",
    "            #Initialize model\n",
    "            m = pyo.ConcreteModel()\n",
    "            #initialize sets\n",
    "            m.t = pyo.Set(initialize = index, ordered = True)\n",
    "\n",
    "            #Initialize parameter\n",
    "            m.consumption = pyo.Param(m.t, initialize=consumption.to_dict())\n",
    "            m.power = pyo.Param(m.t, initialize=power.to_dict()) \n",
    "            m.neg_power = pyo.Param(m.t, initialize=neg_power_magnitude.to_dict()) \n",
    "\n",
    "            #Initialize variables\n",
    "            m.CHARGE = pyo.Var(m.t, within = pyo.NonNegativeReals)\n",
    "            m.DISCHARGE = pyo.Var(m.t, within = pyo.NonNegativeReals)\n",
    "            m.LEVEL = pyo.Var(m.t, within = pyo.NonNegativeReals, \n",
    "                              bounds = (soc_min*battery_capacity,battery_capacity))\n",
    "\n",
    "            #level constraints\n",
    "            def recursive_level(m, t):\n",
    "                if t == index[0]:\n",
    "                    return m.LEVEL[t] == level_0 + (m.CHARGE[t] - m.DISCHARGE[t] - m.consumption[t] )#*step_duration\n",
    "                else:    \n",
    "                    return m.LEVEL[t] == m.LEVEL[pd.Timestamp(t) - \n",
    "                                                     pd.Timedelta(pd.infer_freq(index))] + (\n",
    "                        m.CHARGE[t] - m.DISCHARGE[t] - m.consumption[t] )#*step_duration   \n",
    "            m.Recursive_level = pyo.Constraint(m.t, rule = recursive_level)\n",
    "\n",
    "            def final_level(m, t):\n",
    "                if t == index[-1]:\n",
    "                    return m.LEVEL[t] == level_T\n",
    "                else: \n",
    "                    return pyo.Constraint.Skip\n",
    "            m.Final_level = pyo.Constraint(m.t, rule=final_level)\n",
    "\n",
    "            #bidirectional charging \n",
    "            def neg_power_min(m, t):\n",
    "                return m.DISCHARGE[t] <= m.neg_power[t]\n",
    "            m.Neg_power_min_restriction = pyo.Constraint(m.t, rule=neg_power_min)\n",
    "\n",
    "            def power_max(m, t):\n",
    "                return m.CHARGE[t] <= m.power[t]   \n",
    "            m.Power_max_restriction = pyo.Constraint(m.t, rule=power_max)\n",
    "\n",
    "            # objective function late\n",
    "            def battery_level_sum(m, t): \n",
    "                return sum(m.LEVEL[t] for t in m.t) \n",
    "\n",
    "            if model_type == \"m_late\":\n",
    "                sense = pyo.minimize\n",
    "            elif model_type == \"m_early\":\n",
    "                sense = pyo.maximize     \n",
    "            m.Obj = pyo.Objective(rule=battery_level_sum, sense=sense)\n",
    "\n",
    "            #find solver\n",
    "            solvername='glpk'\n",
    "\n",
    "            #prepare solver\n",
    "            optimizer = opt.SolverFactory(solvername) \n",
    "            solved_model = optimizer.solve(m)        \n",
    "\n",
    "            if pd.DataFrame.from_dict(m.LEVEL.extract_values(), orient='index')[0][-1]== None:\n",
    "                level_series = pd.concat([\n",
    "                    pd.Series(0, index=[index[0]-pd.Timedelta(pd.infer_freq(index))]),\n",
    "                    pd.Series(level_0, index=index)\n",
    "                ], axis=0)\n",
    "                charge_df = pd.DataFrame(0, index=index, columns = [car])\n",
    "                discharge_df = pd.DataFrame(0, index=index, columns = [car])\n",
    "            else: \n",
    "                level_series = pd.concat([\n",
    "                    pd.Series(0, index=[index[0]-pd.Timedelta(pd.infer_freq(index))]),\n",
    "                    pd.DataFrame.from_dict(m.LEVEL.extract_values(), orient='index')[0]\n",
    "                ], axis=0)\n",
    "                charge_df = pd.DataFrame.from_dict(m.CHARGE.extract_values(), orient='index', columns = [car])\n",
    "                discharge_df = pd.DataFrame.from_dict(m.DISCHARGE.extract_values(), orient='index', columns = [car])\n",
    "            \n",
    "            #store data in dictionary\n",
    "            solution_dict[car+str(i)][model_type] = {}\n",
    "            solution_dict[car+str(i)][model_type][\"level\"] = level_series\n",
    "            solution_dict[car+str(i)][model_type][\"charge\"] = charge_df\n",
    "            solution_dict[car+str(i)][model_type][\"discharge\"] = discharge_df\n",
    "            level_index = solution_dict[car+str(i)][model_type][\"level\"].index\n",
    "            if model_type == \"m_early\":\n",
    "                solution_dict[car+str(i)][\"level_differences\"] = (solution_dict[car+str(i)][\"m_late\"][\"level\"] - \n",
    "                                                           solution_dict[car+str(i)][\"m_early\"][\"level\"]).to_frame().rename(columns={0:car})\n",
    "                ees_constraints= pd.concat([ees_constraints, solution_dict[car+str(i)][\"level_differences\"]], axis = 1)"
   ]
  },
  {
   "cell_type": "markdown",
   "metadata": {},
   "source": [
    "solution_dict = {}\n",
    "ees_constraints= pd.DataFrame()\n",
    "##zweite for schleife\n",
    "for i, car in enumerate(consumption.columns): \n",
    "    car = i\n",
    "    solution_dict[car] = {}\n",
    "    level_0 = car_properties.loc[\"soc_init\"][car] ##level[i]\n",
    "    level_T = car_properties.loc[\"soc_end\"][car] ##level_[i]\n",
    "    battery_capacity = car_properties.loc[\"battery_capacity\"][car] ##2\n",
    "    \n",
    "    for model_type in [\"m_late\", \"m_early\"]:\n",
    "        \n",
    "        #Initialize model\n",
    "        m = pyo.ConcreteModel()\n",
    "        #initialize sets\n",
    "        m.t = pyo.Set(initialize = index, ordered = True)\n",
    "        \n",
    "        #Initialize parameter\n",
    "        m.consumption = pyo.Param(m.t, initialize=consumption[car].to_dict())\n",
    "        m.power = pyo.Param(m.t, initialize=power.loc[:,car].to_dict()) \n",
    "        m.neg_power = pyo.Param(m.t, initialize=neg_power_magnitude.loc[:,car].to_dict()) \n",
    "\n",
    "        #Initialize variables\n",
    "        m.CHARGE = pyo.Var(m.t, within = pyo.NonNegativeReals)\n",
    "        m.DISCHARGE = pyo.Var(m.t, within = pyo.NonNegativeReals)\n",
    "        m.LEVEL = pyo.Var(m.t, within = pyo.NonNegativeReals, \n",
    "                          bounds = (soc_min*battery_capacity,battery_capacity))\n",
    "\n",
    "        #level constraints\n",
    "        def recursive_level(m, t):\n",
    "            if t == index[0]:\n",
    "                return m.LEVEL[t] == level_0 + (m.CHARGE[t] - m.DISCHARGE[t] - m.consumption[t] )#*step_duration\n",
    "            else:    \n",
    "                return m.LEVEL[t] == m.LEVEL[pd.Timestamp(t) - \n",
    "                                                 pd.Timedelta(pd.infer_freq(index))] + (\n",
    "                    m.CHARGE[t] - m.DISCHARGE[t] - m.consumption[t] )#*step_duration   \n",
    "        m.Recursive_level = pyo.Constraint(m.t, rule = recursive_level)\n",
    "\n",
    "        def final_level(m, t):\n",
    "            if t == index[-1]:\n",
    "                return m.LEVEL[t] == level_T\n",
    "            else: \n",
    "                return pyo.Constraint.Skip\n",
    "        m.Final_level = pyo.Constraint(m.t, rule=final_level)\n",
    "\n",
    "        #bidirectional charging \n",
    "        def neg_power_min(m, t):\n",
    "            return m.DISCHARGE[t] <= m.neg_power[t]\n",
    "        m.Neg_power_min_restriction = pyo.Constraint(m.t, rule=neg_power_min)\n",
    "        \n",
    "        def power_max(m, t):\n",
    "            return m.CHARGE[t] <= m.power[t]   \n",
    "        m.Power_max_restriction = pyo.Constraint(m.t, rule=power_max)\n",
    "        \n",
    "        # objective function late\n",
    "        def battery_level_sum(m, t): \n",
    "            return sum(m.LEVEL[t] for t in m.t) \n",
    "        \n",
    "        if model_type == \"m_late\":\n",
    "            sense = pyo.minimize\n",
    "        elif model_type == \"m_early\":\n",
    "            sense = pyo.maximize     \n",
    "        m.Obj = pyo.Objective(rule=battery_level_sum, sense=sense)\n",
    "        \n",
    "        #find solver\n",
    "        solvername='glpk'\n",
    "        \n",
    "        #prepare solver\n",
    "        optimizer = opt.SolverFactory(solvername) \n",
    "        solved_model = optimizer.solve(m)        \n",
    "        \n",
    "        if pd.DataFrame.from_dict(m.LEVEL.extract_values(), orient='index')[0][-1]== None:\n",
    "            level_series = pd.concat([\n",
    "                pd.Series(0, index=[index[0]-pd.Timedelta(pd.infer_freq(index))]),\n",
    "                pd.Series(level_0, index=index)\n",
    "            ], axis=0)\n",
    "            charge_df = pd.DataFrame(0, index=index, columns = [car])\n",
    "            discharge_df = pd.DataFrame(0, index=index, columns = [car])\n",
    "        else: \n",
    "            level_series = pd.concat([\n",
    "                pd.Series(0, index=[index[0]-pd.Timedelta(pd.infer_freq(index))]),\n",
    "                pd.DataFrame.from_dict(m.LEVEL.extract_values(), orient='index')[0]\n",
    "            ], axis=0)\n",
    "            charge_df = pd.DataFrame.from_dict(m.CHARGE.extract_values(), orient='index', columns = [car])\n",
    "            discharge_df = pd.DataFrame.from_dict(m.DISCHARGE.extract_values(), orient='index', columns = [car])\n",
    "        #store data in dictionary\n",
    "        solution_dict[car][model_type] = {}\n",
    "        solution_dict[car][model_type][\"level\"] = level_series\n",
    "        solution_dict[car][model_type][\"charge\"] = charge_df\n",
    "        solution_dict[car][model_type][\"discharge\"] = discharge_df\n",
    "        level_index = solution_dict[car][model_type][\"level\"].index\n",
    "        if model_type == \"m_early\":\n",
    "            solution_dict[car][\"level_differences\"] = (solution_dict[car][\"m_late\"][\"level\"] - \n",
    "                                                       solution_dict[car][\"m_early\"][\"level\"]).to_frame().rename(columns={0:car})\n",
    "            ees_constraints= pd.concat([ees_constraints, solution_dict[car][\"level_differences\"]], axis = 1)"
   ]
  },
  {
   "cell_type": "code",
   "execution_count": 460,
   "metadata": {},
   "outputs": [
    {
     "data": {
      "text/plain": [
       "KIA/e-Niro_64_kWh/2019    0\n",
       "dtype: int64"
      ]
     },
     "execution_count": 460,
     "metadata": {},
     "output_type": "execute_result"
    }
   ],
   "source": [
    "#plausibility check: energy charged is the same for both scenarios (if battery capacity is exceeded)\n",
    "solution_dict[car+str(i)][\"m_early\"][\"charge\"].sum() - solution_dict[car+str(i)][\"m_early\"][\"discharge\"].sum() - solution_dict[car+str(i)][\"m_late\"][\"charge\"].sum() + solution_dict[car+str(i)][\"m_late\"][\"discharge\"].sum()"
   ]
  },
  {
   "cell_type": "code",
   "execution_count": 461,
   "metadata": {},
   "outputs": [],
   "source": [
    "#prepare variables and functions for optimization \n",
    "def plot_results(variable, car):\n",
    "    observations = 200\n",
    "    if variable == \"charge\":\n",
    "        x = index[:observations]\n",
    "        fig, ax = plt.subplots(4)\n",
    "        ax[0].step(x, solution_dict[car][\"m_late\"][\"charge\"][:observations],  where = \"mid\")\n",
    "        ax[0].set_title(\"late_charging\")\n",
    "        \n",
    "        ax[1].step(index, solution_dict[car][\"m_early\"][\"charge\"][:observations],  where = \"mid\")\n",
    "        ax[1].set_title(\"uncontrolled_charging\")\n",
    "        \n",
    "        ax[2].step(x, solution_dict[car][\"m_late\"][\"discharge\"][:observations],  where = \"mid\")\n",
    "        ax[2].set_title(\"late_discharging\")\n",
    "        \n",
    "        ax[3].step(x, solution_dict[car][\"m_early\"][\"discharge\"][:observations],  where = \"mid\")\n",
    "        ax[3].set_title(\"uncontrolled_discharging\")\n",
    "        for i in range(0,4):\n",
    "            ax[i].set_ylabel(\"kW\")\n",
    "            ax[i].xaxis.set_major_locator(mdates.DayLocator())\n",
    "            ax[i].xaxis.set_major_formatter(mdates.DateFormatter('%d'))\n",
    "            ax[i].set_ylabel(\"kW\")\n",
    "    else: \n",
    "        observations = observations + 1\n",
    "        x = level_index[:(observations)]\n",
    "        fig, ax = plt.subplots(3)\n",
    "        ax[0].plot(x, solution_dict[car][\"m_late\"][\"level\"][:observations])\n",
    "        ax[0].set_ylim(0, solution_dict[car][\"m_early\"][\"level\"].max())\n",
    "        ax[0].set_title(\"late_level\")\n",
    "        \n",
    "        ax[1].plot(x, solution_dict[car][\"m_early\"][\"level\"][:observations])\n",
    "        ax[1].set_ylim(0, solution_dict[car][\"m_early\"][\"level\"].max())\n",
    "        ax[1].set_title(\"uncontrolled_level\")\n",
    "        \n",
    "        ax[2].plot(x, solution_dict[car][\"level_differences\"][:observations])\n",
    "        ax[2].set_title(\"level_solution differences\")\n",
    "        ax[2].set_ylim(-solution_dict[car][\"m_early\"][\"level\"].max(),)\n",
    "        \n",
    "        for i in range(0,3):\n",
    "            ax[i].set_ylabel(\"kWh\")\n",
    "            ax[i].xaxis.set_major_locator(mdates.DayLocator())\n",
    "            ax[i].xaxis.set_major_formatter(mdates.DateFormatter('%d'))\n",
    "            ax[i].set_ylabel(\"kW\")\n",
    "\n",
    "    plt.tight_layout()\n",
    "    plt.show()"
   ]
  },
  {
   "cell_type": "code",
   "execution_count": 462,
   "metadata": {},
   "outputs": [
    {
     "ename": "ValueError",
     "evalue": "x and y must have same first dimension, but have shapes (35064,) and (200, 1)",
     "output_type": "error",
     "traceback": [
      "\u001b[0;31m---------------------------------------------------------------------------\u001b[0m",
      "\u001b[0;31mValueError\u001b[0m                                Traceback (most recent call last)",
      "\u001b[0;32m<ipython-input-462-58820bebd148>\u001b[0m in \u001b[0;36m<module>\u001b[0;34m\u001b[0m\n\u001b[0;32m----> 1\u001b[0;31m \u001b[0mplot_results\u001b[0m\u001b[0;34m(\u001b[0m\u001b[0;34m\"charge\"\u001b[0m\u001b[0;34m,\u001b[0m \u001b[0mcar\u001b[0m\u001b[0;34m+\u001b[0m\u001b[0mstr\u001b[0m\u001b[0;34m(\u001b[0m\u001b[0mi\u001b[0m\u001b[0;34m)\u001b[0m\u001b[0;34m)\u001b[0m\u001b[0;34m\u001b[0m\u001b[0;34m\u001b[0m\u001b[0m\n\u001b[0m\u001b[1;32m      2\u001b[0m \u001b[0mplot_results\u001b[0m\u001b[0;34m(\u001b[0m\u001b[0;34m\"level\"\u001b[0m\u001b[0;34m,\u001b[0m \u001b[0mcar\u001b[0m\u001b[0;34m+\u001b[0m\u001b[0mstr\u001b[0m\u001b[0;34m(\u001b[0m\u001b[0mi\u001b[0m\u001b[0;34m)\u001b[0m\u001b[0;34m)\u001b[0m\u001b[0;34m\u001b[0m\u001b[0;34m\u001b[0m\u001b[0m\n",
      "\u001b[0;32m<ipython-input-461-1201e0f103d5>\u001b[0m in \u001b[0;36mplot_results\u001b[0;34m(variable, car)\u001b[0m\n\u001b[1;32m      8\u001b[0m         \u001b[0max\u001b[0m\u001b[0;34m[\u001b[0m\u001b[0;36m0\u001b[0m\u001b[0;34m]\u001b[0m\u001b[0;34m.\u001b[0m\u001b[0mset_title\u001b[0m\u001b[0;34m(\u001b[0m\u001b[0;34m\"late_charging\"\u001b[0m\u001b[0;34m)\u001b[0m\u001b[0;34m\u001b[0m\u001b[0;34m\u001b[0m\u001b[0m\n\u001b[1;32m      9\u001b[0m \u001b[0;34m\u001b[0m\u001b[0m\n\u001b[0;32m---> 10\u001b[0;31m         \u001b[0max\u001b[0m\u001b[0;34m[\u001b[0m\u001b[0;36m1\u001b[0m\u001b[0;34m]\u001b[0m\u001b[0;34m.\u001b[0m\u001b[0mstep\u001b[0m\u001b[0;34m(\u001b[0m\u001b[0mindex\u001b[0m\u001b[0;34m,\u001b[0m \u001b[0msolution_dict\u001b[0m\u001b[0;34m[\u001b[0m\u001b[0mcar\u001b[0m\u001b[0;34m]\u001b[0m\u001b[0;34m[\u001b[0m\u001b[0;34m\"m_early\"\u001b[0m\u001b[0;34m]\u001b[0m\u001b[0;34m[\u001b[0m\u001b[0;34m\"charge\"\u001b[0m\u001b[0;34m]\u001b[0m\u001b[0;34m[\u001b[0m\u001b[0;34m:\u001b[0m\u001b[0mobservations\u001b[0m\u001b[0;34m]\u001b[0m\u001b[0;34m,\u001b[0m  \u001b[0mwhere\u001b[0m \u001b[0;34m=\u001b[0m \u001b[0;34m\"mid\"\u001b[0m\u001b[0;34m)\u001b[0m\u001b[0;34m\u001b[0m\u001b[0;34m\u001b[0m\u001b[0m\n\u001b[0m\u001b[1;32m     11\u001b[0m         \u001b[0max\u001b[0m\u001b[0;34m[\u001b[0m\u001b[0;36m1\u001b[0m\u001b[0;34m]\u001b[0m\u001b[0;34m.\u001b[0m\u001b[0mset_title\u001b[0m\u001b[0;34m(\u001b[0m\u001b[0;34m\"uncontrolled_charging\"\u001b[0m\u001b[0;34m)\u001b[0m\u001b[0;34m\u001b[0m\u001b[0;34m\u001b[0m\u001b[0m\n\u001b[1;32m     12\u001b[0m \u001b[0;34m\u001b[0m\u001b[0m\n",
      "\u001b[0;32m~/opt/anaconda3/envs/emobpyenv/lib/python3.6/site-packages/matplotlib/axes/_axes.py\u001b[0m in \u001b[0;36mstep\u001b[0;34m(self, x, y, where, data, *args, **kwargs)\u001b[0m\n\u001b[1;32m   2208\u001b[0m         \u001b[0mcbook\u001b[0m\u001b[0;34m.\u001b[0m\u001b[0m_check_in_list\u001b[0m\u001b[0;34m(\u001b[0m\u001b[0;34m(\u001b[0m\u001b[0;34m'pre'\u001b[0m\u001b[0;34m,\u001b[0m \u001b[0;34m'post'\u001b[0m\u001b[0;34m,\u001b[0m \u001b[0;34m'mid'\u001b[0m\u001b[0;34m)\u001b[0m\u001b[0;34m,\u001b[0m \u001b[0mwhere\u001b[0m\u001b[0;34m=\u001b[0m\u001b[0mwhere\u001b[0m\u001b[0;34m)\u001b[0m\u001b[0;34m\u001b[0m\u001b[0;34m\u001b[0m\u001b[0m\n\u001b[1;32m   2209\u001b[0m         \u001b[0mkwargs\u001b[0m\u001b[0;34m[\u001b[0m\u001b[0;34m'drawstyle'\u001b[0m\u001b[0;34m]\u001b[0m \u001b[0;34m=\u001b[0m \u001b[0;34m'steps-'\u001b[0m \u001b[0;34m+\u001b[0m \u001b[0mwhere\u001b[0m\u001b[0;34m\u001b[0m\u001b[0;34m\u001b[0m\u001b[0m\n\u001b[0;32m-> 2210\u001b[0;31m         \u001b[0;32mreturn\u001b[0m \u001b[0mself\u001b[0m\u001b[0;34m.\u001b[0m\u001b[0mplot\u001b[0m\u001b[0;34m(\u001b[0m\u001b[0mx\u001b[0m\u001b[0;34m,\u001b[0m \u001b[0my\u001b[0m\u001b[0;34m,\u001b[0m \u001b[0;34m*\u001b[0m\u001b[0margs\u001b[0m\u001b[0;34m,\u001b[0m \u001b[0mdata\u001b[0m\u001b[0;34m=\u001b[0m\u001b[0mdata\u001b[0m\u001b[0;34m,\u001b[0m \u001b[0;34m**\u001b[0m\u001b[0mkwargs\u001b[0m\u001b[0;34m)\u001b[0m\u001b[0;34m\u001b[0m\u001b[0;34m\u001b[0m\u001b[0m\n\u001b[0m\u001b[1;32m   2211\u001b[0m \u001b[0;34m\u001b[0m\u001b[0m\n\u001b[1;32m   2212\u001b[0m     \u001b[0;34m@\u001b[0m\u001b[0mstaticmethod\u001b[0m\u001b[0;34m\u001b[0m\u001b[0;34m\u001b[0m\u001b[0m\n",
      "\u001b[0;32m~/opt/anaconda3/envs/emobpyenv/lib/python3.6/site-packages/matplotlib/axes/_axes.py\u001b[0m in \u001b[0;36mplot\u001b[0;34m(self, scalex, scaley, data, *args, **kwargs)\u001b[0m\n\u001b[1;32m   1741\u001b[0m         \"\"\"\n\u001b[1;32m   1742\u001b[0m         \u001b[0mkwargs\u001b[0m \u001b[0;34m=\u001b[0m \u001b[0mcbook\u001b[0m\u001b[0;34m.\u001b[0m\u001b[0mnormalize_kwargs\u001b[0m\u001b[0;34m(\u001b[0m\u001b[0mkwargs\u001b[0m\u001b[0;34m,\u001b[0m \u001b[0mmlines\u001b[0m\u001b[0;34m.\u001b[0m\u001b[0mLine2D\u001b[0m\u001b[0;34m)\u001b[0m\u001b[0;34m\u001b[0m\u001b[0;34m\u001b[0m\u001b[0m\n\u001b[0;32m-> 1743\u001b[0;31m         \u001b[0mlines\u001b[0m \u001b[0;34m=\u001b[0m \u001b[0;34m[\u001b[0m\u001b[0;34m*\u001b[0m\u001b[0mself\u001b[0m\u001b[0;34m.\u001b[0m\u001b[0m_get_lines\u001b[0m\u001b[0;34m(\u001b[0m\u001b[0;34m*\u001b[0m\u001b[0margs\u001b[0m\u001b[0;34m,\u001b[0m \u001b[0mdata\u001b[0m\u001b[0;34m=\u001b[0m\u001b[0mdata\u001b[0m\u001b[0;34m,\u001b[0m \u001b[0;34m**\u001b[0m\u001b[0mkwargs\u001b[0m\u001b[0;34m)\u001b[0m\u001b[0;34m]\u001b[0m\u001b[0;34m\u001b[0m\u001b[0;34m\u001b[0m\u001b[0m\n\u001b[0m\u001b[1;32m   1744\u001b[0m         \u001b[0;32mfor\u001b[0m \u001b[0mline\u001b[0m \u001b[0;32min\u001b[0m \u001b[0mlines\u001b[0m\u001b[0;34m:\u001b[0m\u001b[0;34m\u001b[0m\u001b[0;34m\u001b[0m\u001b[0m\n\u001b[1;32m   1745\u001b[0m             \u001b[0mself\u001b[0m\u001b[0;34m.\u001b[0m\u001b[0madd_line\u001b[0m\u001b[0;34m(\u001b[0m\u001b[0mline\u001b[0m\u001b[0;34m)\u001b[0m\u001b[0;34m\u001b[0m\u001b[0;34m\u001b[0m\u001b[0m\n",
      "\u001b[0;32m~/opt/anaconda3/envs/emobpyenv/lib/python3.6/site-packages/matplotlib/axes/_base.py\u001b[0m in \u001b[0;36m__call__\u001b[0;34m(self, data, *args, **kwargs)\u001b[0m\n\u001b[1;32m    271\u001b[0m                 \u001b[0mthis\u001b[0m \u001b[0;34m+=\u001b[0m \u001b[0margs\u001b[0m\u001b[0;34m[\u001b[0m\u001b[0;36m0\u001b[0m\u001b[0;34m]\u001b[0m\u001b[0;34m,\u001b[0m\u001b[0;34m\u001b[0m\u001b[0;34m\u001b[0m\u001b[0m\n\u001b[1;32m    272\u001b[0m                 \u001b[0margs\u001b[0m \u001b[0;34m=\u001b[0m \u001b[0margs\u001b[0m\u001b[0;34m[\u001b[0m\u001b[0;36m1\u001b[0m\u001b[0;34m:\u001b[0m\u001b[0;34m]\u001b[0m\u001b[0;34m\u001b[0m\u001b[0;34m\u001b[0m\u001b[0m\n\u001b[0;32m--> 273\u001b[0;31m             \u001b[0;32myield\u001b[0m \u001b[0;32mfrom\u001b[0m \u001b[0mself\u001b[0m\u001b[0;34m.\u001b[0m\u001b[0m_plot_args\u001b[0m\u001b[0;34m(\u001b[0m\u001b[0mthis\u001b[0m\u001b[0;34m,\u001b[0m \u001b[0mkwargs\u001b[0m\u001b[0;34m)\u001b[0m\u001b[0;34m\u001b[0m\u001b[0;34m\u001b[0m\u001b[0m\n\u001b[0m\u001b[1;32m    274\u001b[0m \u001b[0;34m\u001b[0m\u001b[0m\n\u001b[1;32m    275\u001b[0m     \u001b[0;32mdef\u001b[0m \u001b[0mget_next_color\u001b[0m\u001b[0;34m(\u001b[0m\u001b[0mself\u001b[0m\u001b[0;34m)\u001b[0m\u001b[0;34m:\u001b[0m\u001b[0;34m\u001b[0m\u001b[0;34m\u001b[0m\u001b[0m\n",
      "\u001b[0;32m~/opt/anaconda3/envs/emobpyenv/lib/python3.6/site-packages/matplotlib/axes/_base.py\u001b[0m in \u001b[0;36m_plot_args\u001b[0;34m(self, tup, kwargs)\u001b[0m\n\u001b[1;32m    397\u001b[0m \u001b[0;34m\u001b[0m\u001b[0m\n\u001b[1;32m    398\u001b[0m         \u001b[0;32mif\u001b[0m \u001b[0mx\u001b[0m\u001b[0;34m.\u001b[0m\u001b[0mshape\u001b[0m\u001b[0;34m[\u001b[0m\u001b[0;36m0\u001b[0m\u001b[0;34m]\u001b[0m \u001b[0;34m!=\u001b[0m \u001b[0my\u001b[0m\u001b[0;34m.\u001b[0m\u001b[0mshape\u001b[0m\u001b[0;34m[\u001b[0m\u001b[0;36m0\u001b[0m\u001b[0;34m]\u001b[0m\u001b[0;34m:\u001b[0m\u001b[0;34m\u001b[0m\u001b[0;34m\u001b[0m\u001b[0m\n\u001b[0;32m--> 399\u001b[0;31m             raise ValueError(f\"x and y must have same first dimension, but \"\n\u001b[0m\u001b[1;32m    400\u001b[0m                              f\"have shapes {x.shape} and {y.shape}\")\n\u001b[1;32m    401\u001b[0m         \u001b[0;32mif\u001b[0m \u001b[0mx\u001b[0m\u001b[0;34m.\u001b[0m\u001b[0mndim\u001b[0m \u001b[0;34m>\u001b[0m \u001b[0;36m2\u001b[0m \u001b[0;32mor\u001b[0m \u001b[0my\u001b[0m\u001b[0;34m.\u001b[0m\u001b[0mndim\u001b[0m \u001b[0;34m>\u001b[0m \u001b[0;36m2\u001b[0m\u001b[0;34m:\u001b[0m\u001b[0;34m\u001b[0m\u001b[0;34m\u001b[0m\u001b[0m\n",
      "\u001b[0;31mValueError\u001b[0m: x and y must have same first dimension, but have shapes (35064,) and (200, 1)"
     ]
    },
    {
     "data": {
      "image/png": "[encoded data removed]",
      "text/plain": [
       "<Figure size 432x288 with 4 Axes>"
      ]
     },
     "metadata": {
      "needs_background": "light"
     },
     "output_type": "display_data"
    }
   ],
   "source": [
    "plot_results(\"charge\", car+str(i)) \n",
    "plot_results(\"level\", car+str(i))"
   ]
  },
  {
   "cell_type": "markdown",
   "metadata": {},
   "source": [
    "## Processing EES-profiles: Aggregation"
   ]
  },
  {
   "cell_type": "code",
   "execution_count": 137,
   "metadata": {},
   "outputs": [],
   "source": [
    "ees_constraints.index = level_index"
   ]
  },
  {
   "cell_type": "code",
   "execution_count": 138,
   "metadata": {},
   "outputs": [],
   "source": [
    "#aggregation\n",
    "ees_constraints_aggergated = ees_constraints.sum(1)\n",
    "naive_constraints_aggergated = pd.Series(data=sum(\n",
    "    car_properties_raw.loc[\"battery_capacity\"]), index=level_index)\n",
    "aggregated_max_battery = naive_constraints_aggergated.sum()"
   ]
  },
  {
   "cell_type": "code",
   "execution_count": 139,
   "metadata": {},
   "outputs": [
    {
     "data": {
      "text/plain": [
       "<AxesSubplot:>"
      ]
     },
     "execution_count": 139,
     "metadata": {},
     "output_type": "execute_result"
    },
    {
     "data": {
      "image/png": "[encoded data removed]",
      "text/plain": [
       "<Figure size 432x288 with 1 Axes>"
      ]
     },
     "metadata": {
      "needs_background": "light"
     },
     "output_type": "display_data"
    }
   ],
   "source": [
    "ees_constraints_aggergated.plot()"
   ]
  },
  {
   "cell_type": "code",
   "execution_count": 140,
   "metadata": {},
   "outputs": [
    {
     "data": {
      "text/plain": [
       "<AxesSubplot:>"
      ]
     },
     "execution_count": 140,
     "metadata": {},
     "output_type": "execute_result"
    },
    {
     "data": {
      "image/png": "[encoded data removed]",
      "text/plain": [
       "<Figure size 432x288 with 1 Axes>"
      ]
     },
     "metadata": {
      "needs_background": "light"
     },
     "output_type": "display_data"
    }
   ],
   "source": [
    "naive_constraints_aggergated.plot()"
   ]
  },
  {
   "cell_type": "code",
   "execution_count": 141,
   "metadata": {},
   "outputs": [
    {
     "data": {
      "text/plain": [
       "[<matplotlib.lines.Line2D at 0x7fd73553c390>]"
      ]
     },
     "execution_count": 141,
     "metadata": {},
     "output_type": "execute_result"
    },
    {
     "data": {
      "image/png": "[encoded data removed]",
      "text/plain": [
       "<Figure size 432x288 with 1 Axes>"
      ]
     },
     "metadata": {
      "needs_background": "light"
     },
     "output_type": "display_data"
    }
   ],
   "source": [
    "consumption_aggregated =  pd.concat([\n",
    "    pd.Series(0, index=[index[0]-pd.Timedelta(pd.infer_freq(index))]), consumption_raw.sum(1)\n",
    "              ], axis = 0)\n",
    "plt.step(consumption_aggregated.iloc[1:].resample(\"h\").sum().index, consumption_aggregated.iloc[1:].resample(\"h\").sum())"
   ]
  },
  {
   "cell_type": "code",
   "execution_count": 142,
   "metadata": {},
   "outputs": [
    {
     "data": {
      "text/plain": [
       "[<matplotlib.lines.Line2D at 0x7fd73609ac18>]"
      ]
     },
     "execution_count": 142,
     "metadata": {},
     "output_type": "execute_result"
    },
    {
     "data": {
      "image/png": "[encoded data removed]",
      "text/plain": [
       "<Figure size 432x288 with 1 Axes>"
      ]
     },
     "metadata": {
      "needs_background": "light"
     },
     "output_type": "display_data"
    }
   ],
   "source": [
    "power_aggregated = pd.concat([\n",
    "    pd.Series(0, index=[index[0]-pd.Timedelta(pd.infer_freq(index))]), power_raw.sum(1)\n",
    "              ], axis = 0)\n",
    "plt.step(power_aggregated.iloc[1:].resample(\"4h\").sum().index, power_aggregated.iloc[1:].resample(\"4h\").sum())"
   ]
  },
  {
   "cell_type": "code",
   "execution_count": 143,
   "metadata": {},
   "outputs": [
    {
     "data": {
      "text/plain": [
       "[<matplotlib.lines.Line2D at 0x7fd736574908>]"
      ]
     },
     "execution_count": 143,
     "metadata": {},
     "output_type": "execute_result"
    },
    {
     "data": {
      "image/png": "[encoded data removed]",
      "text/plain": [
       "<Figure size 432x288 with 1 Axes>"
      ]
     },
     "metadata": {
      "needs_background": "light"
     },
     "output_type": "display_data"
    }
   ],
   "source": [
    "neg_power_aggregated = pd.concat([\n",
    "    pd.Series(0, index=[index[0]-pd.Timedelta(pd.infer_freq(index))]), neg_power_magnitude_raw.sum(1)\n",
    "              ], axis = 0)\n",
    "plt.step(neg_power_aggregated.iloc[1:].index, neg_power_aggregated.iloc[1:]) "
   ]
  },
  {
   "cell_type": "markdown",
   "metadata": {},
   "source": [
    "## Aggregated Optimization"
   ]
  },
  {
   "cell_type": "code",
   "execution_count": 164,
   "metadata": {},
   "outputs": [
    {
     "name": "stdout",
     "output_type": "stream",
     "text": [
      "Collecting pickle5\n",
      "  Downloading pickle5-0.0.12-cp36-cp36m-macosx_10_9_x86_64.whl (125 kB)\n",
      "\u001b[K     |████████████████████████████████| 125 kB 3.2 MB/s eta 0:00:01\n",
      "\u001b[?25hInstalling collected packages: pickle5\n",
      "Successfully installed pickle5-0.0.12\n"
     ]
    }
   ],
   "source": [
    "#!pip install pickle5"
   ]
  },
  {
   "cell_type": "code",
   "execution_count": 165,
   "metadata": {},
   "outputs": [],
   "source": [
    "import pickle5 as pickle"
   ]
  },
  {
   "cell_type": "code",
   "execution_count": 289,
   "metadata": {},
   "outputs": [],
   "source": [
    "#create random prices [cent / kWh] \n",
    "#prices = pd.Series(data=[random.uniform(0.2, 0.5) for t in level_index], index=level_index)\n",
    "#prices.resample(\"d\").mean().plot()\n",
    "\n",
    "with open(\"prices_2020\", \"rb\") as fh:\n",
    "    data = pickle.load(fh)"
   ]
  },
  {
   "cell_type": "code",
   "execution_count": 341,
   "metadata": {},
   "outputs": [],
   "source": [
    "prices = data\n",
    "\n",
    "prices = prices[prices.index >= \"2019-12-31 22:45:00+01:00\"]\n",
    "\n",
    "prices.index =  prices.index.map(\n",
    "    lambda x: pd.to_datetime(x.replace(tzinfo=None))\n",
    ")\n",
    "prices = prices[prices.index.drop_duplicates(keep=False)]\n",
    "prices = prices.reindex(consumption_aggregated.index, method = \"ffill\") \n",
    "prices = prices / (10**3) # €/MWh --> €/kWh"
   ]
  },
  {
   "cell_type": "code",
   "execution_count": 342,
   "metadata": {},
   "outputs": [
    {
     "data": {
      "text/plain": [
       "<AxesSubplot:>"
      ]
     },
     "execution_count": 342,
     "metadata": {},
     "output_type": "execute_result"
    },
    {
     "data": {
      "image/png": "[encoded data removed]",
      "text/plain": [
       "<Figure size 432x288 with 1 Axes>"
      ]
     },
     "metadata": {
      "needs_background": "light"
     },
     "output_type": "display_data"
    }
   ],
   "source": [
    "prices.plot()"
   ]
  },
  {
   "cell_type": "code",
   "execution_count": 438,
   "metadata": {},
   "outputs": [],
   "source": [
    "def plot_aggregated_results(model_type):\n",
    "    obversvations = 200\n",
    "    x = level_index[:obversvations]\n",
    "    fig, ax = plt.subplots(3)\n",
    "    ax[0].step(x, \n",
    "               pyo.value(agg_solutions[model_type][\"CHARGE\"].values[:obversvations]), where=\"pre\")\n",
    "    ax[0].set_title(\"{}_charging\".format(model_type))\n",
    "    \n",
    "    \n",
    "    ax[1].step(x, \n",
    "               pyo.value(agg_solutions[model_type][\"DISCHARGE\"].values[:obversvations]), where=\"pre\")\n",
    "    ax[1].set_title(\"{}_discharging\".format(model_type))\n",
    "    \n",
    "    \n",
    "    ax[2].plot(x, \n",
    "               pyo.value(agg_solutions[model_type][\"LEVEL\"].values[:obversvations]))\n",
    "    ax[2].set_title(\"{}_level\".format(model_type))\n",
    "    ax[2].set_ylabel(\"kWh\")\n",
    "    \n",
    "    \n",
    "    for i in range(0,2):\n",
    "        ax[i].set_ylabel(\"kWh/15min\")\n",
    "        ax[i].set_xticks(pd.date_range(x[0], x[-1], freq=\"D\"))\n",
    "        #plt.set_xticklabels(rotation= 45)\n",
    "        plt.xticks(rotation= 45)\n",
    "    fig.autofmt_xdate(rotation=45)\n",
    "\n",
    "\n",
    "    plt.tight_layout()\n",
    "    plt.show()"
   ]
  },
  {
   "cell_type": "markdown",
   "metadata": {},
   "source": [
    "Assumptions: \n",
    "\n",
    "- same price for (DIS)CHARGE\n",
    "- 𝑓𝑙𝑒𝑥𝑖𝑏𝑖𝑙𝑖𝑡𝑦 𝑟𝑒𝑣𝑒𝑛𝑢𝑒𝑠 = sum(ees_charging_costs)\n",
    "- controlled costs = uncontrolled_costs - 𝑙𝑒𝑥𝑖𝑏𝑖𝑙𝑖𝑡𝑦 𝑟𝑒𝑣𝑒𝑛𝑢𝑒𝑠 "
   ]
  },
  {
   "cell_type": "code",
   "execution_count": 344,
   "metadata": {
    "scrolled": true
   },
   "outputs": [
    {
     "name": "stdout",
     "output_type": "stream",
     "text": [
      "WARNING: Implicitly replacing the Component attribute DISCHARGE_WAIT\n",
      "    (type=<class 'pyomo.core.base.var.IndexedVar'>) on block unknown with a\n",
      "    new Component (type=<class 'pyomo.core.base.var.IndexedVar'>). This is\n",
      "    usually indicative of a modelling error. To avoid this warning, use\n",
      "    block.del_component() and block.add_component().\n"
     ]
    }
   ],
   "source": [
    "agg_solutions = {}\n",
    "level_0_agg = car_properties_raw.loc[\"soc_init\"].sum()\n",
    "level_T_agg = car_properties_raw.loc[\"soc_end\"].sum()\n",
    "\n",
    "for model_type in [\"naive\", \"ees\"]:\n",
    "\n",
    "    #Initialize model\n",
    "    m_agg = pyo.ConcreteModel()\n",
    "\n",
    "    #initialize sets\n",
    "    m_agg.t = pyo.Set(initialize = level_index, ordered = True)\n",
    "\n",
    "    m_agg.consumption_aggregated = pyo.Param(m_agg.t, initialize=consumption_aggregated.to_dict())\n",
    "    m_agg.power = pyo.Param(m_agg.t, initialize=power_aggregated.to_dict()) \n",
    "    m_agg.neg_power = pyo.Param(m_agg.t, initialize=neg_power_aggregated.to_dict()) \n",
    "\n",
    "    #m_agg.max_battery_cap = pyo.Param(m_agg.t, initialize=naive_constraints_aggergated.to_dict()) \n",
    "    \n",
    "    m_agg.LEVEL = pyo.Var(m_agg.t, within = pyo.Reals)\n",
    "    m_agg.CHARGE = pyo.Var(m_agg.t, within = pyo.NonNegativeReals)\n",
    "    m_agg.DISCHARGE_PHYS = pyo.Var(m_agg.t, within = pyo.NonNegativeReals)\n",
    "    m_agg.DISCHARGE_WAIT = pyo.Var(m_agg.t, within = pyo.NonNegativeReals)\n",
    "\n",
    "    if model_type == \"ees\":\n",
    "        m_agg.ees_min = pyo.Param(m_agg.t, initialize=ees_constraints_aggergated.to_dict()) \n",
    "        m_agg.DISCHARGE_WAIT = pyo.Var(m_agg.t, within = pyo.NonNegativeReals)\n",
    "\n",
    "    #recursive level\n",
    "        def recursive_level(m, t):\n",
    "            if t == level_index[0]:\n",
    "                return m_agg.LEVEL[t] == (m_agg.CHARGE[t] - m_agg.DISCHARGE_WAIT[t] - m_agg.DISCHARGE_PHYS[t])#*step_duration   \n",
    "            else:\n",
    "                return m_agg.LEVEL[t] == m_agg.LEVEL[pd.Timestamp(t) - \n",
    "                                                 pd.Timedelta(pd.infer_freq(index))] + (\n",
    "                    m_agg.CHARGE[t] - m_agg.DISCHARGE_WAIT[t] - m_agg.DISCHARGE_PHYS[t]) * step_duration   \n",
    "    else:\n",
    "        def recursive_level(m, t):\n",
    "            if t == level_index[0]: \n",
    "                return m_agg.LEVEL[t] == level_0_agg + (m_agg.CHARGE[t]- m_agg.consumption_aggregated[t] - m_agg.DISCHARGE_PHYS[t] )#*step_duration   \n",
    "            else:\n",
    "                return m_agg.LEVEL[t] == m_agg.LEVEL[pd.Timestamp(t) - \n",
    "                                                 pd.Timedelta(pd.infer_freq(index))] + (\n",
    "                    m_agg.CHARGE[t] - m_agg.consumption_aggregated[t] - m_agg.DISCHARGE_PHYS[t])# * step_duration   \n",
    "    m_agg.Recursive_level = pyo.Constraint(m_agg.t, rule = recursive_level)\n",
    "\n",
    "    def level_constraint(m, t):\n",
    "        if model_type==\"ees\":\n",
    "            return m_agg.LEVEL[t] >= m_agg.ees_min[t] \n",
    "        else:\n",
    "            return m_agg.LEVEL[t] <= aggregated_max_battery\n",
    "    m_agg.Level_constraint = pyo.Constraint(m_agg.t, rule=level_constraint)\n",
    "    \n",
    "    def level_constraint_2(m, t):\n",
    "        if model_type==\"ees\":\n",
    "            return m_agg.LEVEL[t] <= 0\n",
    "        else:\n",
    "            return m_agg.LEVEL[t] >= soc_min*aggregated_max_battery#m_agg.max_battery_cap[t]\n",
    "    m_agg.Level_constraint_2 = pyo.Constraint(m_agg.t, rule=level_constraint_2)\n",
    "    \n",
    "    def power_charge_max(m, t):\n",
    "        return m_agg.CHARGE[t] <= m_agg.power[t]   \n",
    "    m_agg.Power_charge_max = pyo.Constraint(m_agg.t, rule=power_charge_max)\n",
    "\n",
    "    def power_discharge_consumption_max(m, t):\n",
    "        return m_agg.DISCHARGE_WAIT[t] <= m_agg.power[t]     \n",
    "    m_agg.Power_discharge_consumption_max = pyo.Constraint(m_agg.t, rule=power_discharge_consumption_max)\n",
    "    \n",
    "    def power_discharge_phys_max(m, t):\n",
    "        return m_agg.DISCHARGE_PHYS[t] <= m_agg.neg_power[t] \n",
    "    m_agg.Power_discharge_phys_max = pyo.Constraint(m_agg.t, rule=power_discharge_phys_max)\n",
    "\n",
    "    # objective function\n",
    "    if model_type == \"ees\":\n",
    "        def min_ees_costs(m): \n",
    "            return sum(\n",
    "                (m_agg.CHARGE[t]-m_agg.DISCHARGE_WAIT[t]-m_agg.DISCHARGE_PHYS[t]\n",
    "                ) * prices[t] #step_duration *\n",
    "                for t in m.t\n",
    "            ) \n",
    "        m_agg.Obj_min_ees_costs = pyo.Objective(rule=min_ees_costs, sense=pyo.minimize)\n",
    "    else:\n",
    "        def min_naive_costs(m): \n",
    "            return sum(\n",
    "                (m_agg.CHARGE[t]-m_agg.DISCHARGE_PHYS[t]) * prices[t] #step_duration *\n",
    "                for t in m.t\n",
    "            ) \n",
    "        m_agg.Obj_min_naive_costs = pyo.Objective(rule=min_naive_costs, sense=pyo.minimize)\n",
    "        \n",
    "    #find solver\n",
    "    solvername='glpk'\n",
    "\n",
    "    #prepare solver\n",
    "    optimizer = opt.SolverFactory(solvername) \n",
    "    solved_model = optimizer.solve(m_agg)        \n",
    "    \n",
    "    agg_solutions[model_type] = {}\n",
    "    agg_solutions[model_type][\"costs\"] = solved_model['Problem']()['Lower bound']\n",
    "    agg_solutions[model_type][\"CHARGE\"] = pd.DataFrame.from_dict(m_agg.CHARGE.extract_values(), orient='index', columns = [model_type])\n",
    "    agg_solutions[model_type][\"DISCHARGE\"] = pd.DataFrame.from_dict(m_agg.DISCHARGE_WAIT.extract_values(), orient='index', columns = [model_type]) + pd.DataFrame.from_dict(m_agg.DISCHARGE_PHYS.extract_values(), orient='index', columns = [model_type])\n",
    "    agg_solutions[model_type][\"LEVEL\"] = pd.DataFrame.from_dict(m_agg.LEVEL.extract_values(), orient='index', columns = [model_type])"
   ]
  },
  {
   "cell_type": "code",
   "execution_count": 440,
   "metadata": {},
   "outputs": [
    {
     "data": {
      "image/png": "[encoded data removed]",
      "text/plain": [
       "<Figure size 432x288 with 3 Axes>"
      ]
     },
     "metadata": {
      "needs_background": "light"
     },
     "output_type": "display_data"
    },
    {
     "data": {
      "image/png": "[encoded data removed]",
      "text/plain": [
       "<Figure size 432x288 with 3 Axes>"
      ]
     },
     "metadata": {
      "needs_background": "light"
     },
     "output_type": "display_data"
    }
   ],
   "source": [
    "plot_aggregated_results(\"ees\")\n",
    "plot_aggregated_results(\"naive\")"
   ]
  },
  {
   "cell_type": "markdown",
   "metadata": {},
   "source": [
    "# Analysis"
   ]
  },
  {
   "cell_type": "markdown",
   "metadata": {},
   "source": [
    "## How big is the aggregation error? "
   ]
  },
  {
   "cell_type": "code",
   "execution_count": 357,
   "metadata": {},
   "outputs": [],
   "source": [
    "agg_overest_solutions = {}\n",
    "\n",
    "for model_type in [\"m_early_agg\", \"m_late_agg\"]:\n",
    "    #Initialize model\n",
    "    m_agg = pyo.ConcreteModel()\n",
    "\n",
    "    #initialize sets\n",
    "    m_agg.t = pyo.Set(initialize = level_index, ordered = True)\n",
    "\n",
    "    m_agg.consumption_aggregated = pyo.Param(m_agg.t, initialize=consumption_aggregated.to_dict())\n",
    "    m_agg.power = pyo.Param(m_agg.t, initialize=power_aggregated.to_dict()) \n",
    "    m_agg.neg_power = pyo.Param(m_agg.t, initialize=neg_power_aggregated.to_dict()) \n",
    "\n",
    "    m_agg.LEVEL = pyo.Var(m_agg.t, within = pyo.NonNegativeReals, bounds=(\n",
    "        soc_min*aggregated_max_battery, aggregated_max_battery))\n",
    "    m_agg.CHARGE = pyo.Var(m_agg.t, within = pyo.NonNegativeReals)\n",
    "    m_agg.DISCHARGE = pyo.Var(m_agg.t, within = pyo.NonNegativeReals)\n",
    "\n",
    "    #level constraints\n",
    "    def recursive_level(m_agg, t):\n",
    "        if t == level_index[0]:\n",
    "            return m_agg.LEVEL[t] == level_0_agg + m_agg.CHARGE[t] - m_agg.consumption_aggregated[t]\n",
    "        else:    \n",
    "            return m_agg.LEVEL[t] == m_agg.LEVEL[pd.Timestamp(t) - \n",
    "                                             pd.Timedelta(pd.infer_freq(level_index))] + (\n",
    "                m_agg.CHARGE[t] - m_agg.consumption_aggregated[t] - m_agg.DISCHARGE[t] )\n",
    "    m_agg.Recursive_level = pyo.Constraint(m_agg.t, rule = recursive_level)\n",
    "\n",
    "    #bidirectional charging \n",
    "    def neg_power_min(m, t):\n",
    "        return m.DISCHARGE[t] <= m.neg_power[t]\n",
    "    m_agg.Neg_power_min_restriction = pyo.Constraint(m_agg.t, rule=neg_power_min)\n",
    "\n",
    "    def power_max(m, t):\n",
    "        return m.CHARGE[t] <= m.power[t]   \n",
    "    m_agg.Power_max_restriction = pyo.Constraint(m_agg.t, rule=power_max)\n",
    "    \n",
    "    def final_level(m_agg, t):\n",
    "        if t == index[-1]:\n",
    "            return m_agg.LEVEL[t] == level_T_agg\n",
    "        else: \n",
    "            return pyo.Constraint.Skip\n",
    "    m_agg.Final_level = pyo.Constraint(m_agg.t, rule=final_level)\n",
    "\n",
    "    # objective function late\n",
    "    def battery_level_sum(m_agg, t): \n",
    "        return sum(m_agg.LEVEL[t] for t in m_agg.t) \n",
    "    if model_type == \"m_late_agg\":\n",
    "        sense = pyo.minimize\n",
    "    elif model_type == \"m_early_agg\":\n",
    "        sense = pyo.maximize     \n",
    "    m_agg.Obj = pyo.Objective(rule=battery_level_sum, sense=sense)\n",
    "\n",
    "    #find solver\n",
    "    solvername='glpk'\n",
    "\n",
    "    #prepare solver\n",
    "    optimizer = opt.SolverFactory(solvername) \n",
    "    solved_model = optimizer.solve(m_agg)        \n",
    "\n",
    "    #store data in dictionary\n",
    "    agg_overest_solutions[model_type] = pd.DataFrame.from_dict(\n",
    "        m_agg.LEVEL.extract_values(), orient='index')[0]"
   ]
  },
  {
   "cell_type": "code",
   "execution_count": 441,
   "metadata": {},
   "outputs": [
    {
     "name": "stdout",
     "output_type": "stream",
     "text": [
      "theoretical overestimation: 99.99120336357112 %\n"
     ]
    }
   ],
   "source": [
    "#overestimation in kWh how much could be shifted from uncontrolled charging?\n",
    "overestimation = (\n",
    "    (agg_overest_solutions[\"m_late_agg\"] - agg_overest_solutions[\"m_early_agg\"]).sum()\n",
    "    - ees_constraints.sum().sum()\n",
    ")\n",
    "\n",
    "print(\"theoretical overestimation: \" + str(overestimation /  (agg_overest_solutions[\"m_late_agg\"] - agg_overest_solutions[\"m_early_agg\"]).sum()*100)+ \" %\")"
   ]
  },
  {
   "cell_type": "markdown",
   "metadata": {},
   "source": [
    "## Cost"
   ]
  },
  {
   "cell_type": "code",
   "execution_count": 442,
   "metadata": {},
   "outputs": [],
   "source": [
    "#controlled charging (physical) = uncontrolled charging - ees_dis + ee_scharging\n",
    "uncontrolled_DIS_CHARGE_aggregated = pd.DataFrame(0, index=index, columns=[\"uncontrolled\"])\n",
    "physical_controlled_DIS_CHARGE_aggregated = pd.DataFrame(0, index=index, columns=[\"controlled_phys\"])\n",
    "\n",
    "for c in consumption_raw.columns.unique():\n",
    "    for i, car in enumerate(consumption_raw[c]): \n",
    "        uncontrolled_DIS_CHARGE_aggregated[\"uncontrolled\"] = (uncontrolled_DIS_CHARGE_aggregated[\"uncontrolled\"] \n",
    "                                                              + solution_dict[car+str(i)][\"m_early\"][\"charge\"][car]) #- solution_dict[car][\"m_early\"][\"discharge\"][car]\n",
    "        physical_controlled_DIS_CHARGE_aggregated[\"controlled_phys\"] = (uncontrolled_DIS_CHARGE_aggregated[\"uncontrolled\"] \n",
    "                                                      - agg_solutions[\"ees\"][\"DISCHARGE\"][\"ees\"]\n",
    "                                                      + agg_solutions[\"ees\"][\"CHARGE\"][\"ees\"])\n",
    "        controlled_DIS_CHARGE_naive = agg_solutions[\"naive\"][\"CHARGE\"] - agg_solutions[\"naive\"][\"DISCHARGE\"]\n",
    "\n",
    "uncontrolled_costs = sum([uncontrolled_DIS_CHARGE_aggregated[\"uncontrolled\"][i] * prices[i] for i in index])\n",
    "controlled_costs_ees = sum([physical_controlled_DIS_CHARGE_aggregated[\"controlled_phys\"][i] * prices[i] for i in index])\n",
    "controlled_costs_naive = sum([controlled_DIS_CHARGE_naive[\"naive\"][i] * prices[i] for i in index])"
   ]
  },
  {
   "cell_type": "code",
   "execution_count": 443,
   "metadata": {},
   "outputs": [
    {
     "data": {
      "text/plain": [
       "0"
      ]
     },
     "execution_count": 443,
     "metadata": {},
     "output_type": "execute_result"
    }
   ],
   "source": [
    "#plausibility check:\n",
    "uncontrolled_DIS_CHARGE_aggregated[\"uncontrolled\"].sum() - physical_controlled_DIS_CHARGE_aggregated[\"controlled_phys\"] .sum()\n",
    "round(controlled_costs_ees -(uncontrolled_costs + agg_solutions[\"ees\"][\"costs\"]))\n",
    "round(agg_solutions[\"naive\"][\"costs\"] - controlled_costs_naive)"
   ]
  },
  {
   "cell_type": "code",
   "execution_count": 444,
   "metadata": {},
   "outputs": [
    {
     "data": {
      "text/plain": [
       "<AxesSubplot:xlabel='date'>"
      ]
     },
     "execution_count": 444,
     "metadata": {},
     "output_type": "execute_result"
    },
    {
     "data": {
      "image/png": "[encoded data removed]",
      "text/plain": [
       "<Figure size 432x288 with 1 Axes>"
      ]
     },
     "metadata": {
      "needs_background": "light"
     },
     "output_type": "display_data"
    }
   ],
   "source": [
    "physical_controlled_DIS_CHARGE_aggregated.resample(\"3w\").mean().plot(ylabel=\"kWh/15min\")"
   ]
  },
  {
   "cell_type": "code",
   "execution_count": null,
   "metadata": {},
   "outputs": [],
   "source": [
    "uncontrolled_DIS_CHARGE_aggregated.resample(\"3w\").mean().plot(ylabel=\"kWh/15min\")"
   ]
  },
  {
   "cell_type": "code",
   "execution_count": 446,
   "metadata": {},
   "outputs": [
    {
     "data": {
      "text/plain": [
       "<AxesSubplot:>"
      ]
     },
     "execution_count": 446,
     "metadata": {},
     "output_type": "execute_result"
    },
    {
     "data": {
      "image/png": "[encoded data removed]",
      "text/plain": [
       "<Figure size 432x288 with 1 Axes>"
      ]
     },
     "metadata": {
      "needs_background": "light"
     },
     "output_type": "display_data"
    }
   ],
   "source": [
    "controlled_DIS_CHARGE_naive.resample(\"3w\").mean().plot(ylabel=\"kWh/15min\")"
   ]
  },
  {
   "cell_type": "code",
   "execution_count": 451,
   "metadata": {},
   "outputs": [
    {
     "data": {
      "text/plain": [
       "<AxesSubplot:ylabel='kWh/15min'>"
      ]
     },
     "execution_count": 451,
     "metadata": {},
     "output_type": "execute_result"
    },
    {
     "data": {
      "image/png": "[encoded data removed]",
      "text/plain": [
       "<Figure size 432x288 with 1 Axes>"
      ]
     },
     "metadata": {
      "needs_background": "light"
     },
     "output_type": "display_data"
    }
   ],
   "source": [
    "pd.concat([\n",
    "    physical_controlled_DIS_CHARGE_aggregated, uncontrolled_DIS_CHARGE_aggregated, controlled_DIS_CHARGE_naive\n",
    "          ], axis=1).resample(\"3w\").mean().plot(ylabel=\"kWh/15min\")"
   ]
  },
  {
   "cell_type": "code",
   "execution_count": 448,
   "metadata": {},
   "outputs": [
    {
     "data": {
      "image/png": "[encoded data removed]",
      "text/plain": [
       "<Figure size 432x288 with 1 Axes>"
      ]
     },
     "metadata": {
      "needs_background": "light"
     },
     "output_type": "display_data"
    }
   ],
   "source": [
    "#costs\n",
    "plt.bar(x = [\"uncontrolled_accurate\", \"controlled_ees\", \"controlled_naive\"],  height=[\n",
    "    uncontrolled_costs, controlled_costs_ees, controlled_costs_naive\n",
    "])\n",
    "plt.ylabel(\"costs for charging [€/year]\")\n",
    "plt.show()"
   ]
  },
  {
   "cell_type": "code",
   "execution_count": null,
   "metadata": {},
   "outputs": [],
   "source": [
    "#overestimation in % €\n",
    "(controlled_costs_ees + controlled_costs_naive) / (-controlled_costs_naive)"
   ]
  },
  {
   "cell_type": "markdown",
   "metadata": {},
   "source": [
    "## ∆system costs, in comparison to an energy system without the flexibility [€/a]\n",
    "## VRE"
   ]
  },
  {
   "cell_type": "code",
   "execution_count": null,
   "metadata": {},
   "outputs": [],
   "source": []
  },
  {
   "cell_type": "code",
   "execution_count": null,
   "metadata": {},
   "outputs": [],
   "source": []
  },
  {
   "cell_type": "code",
   "execution_count": null,
   "metadata": {},
   "outputs": [],
   "source": []
  },
  {
   "cell_type": "code",
   "execution_count": null,
   "metadata": {},
   "outputs": [],
   "source": []
  },
  {
   "cell_type": "code",
   "execution_count": null,
   "metadata": {},
   "outputs": [],
   "source": []
  },
  {
   "cell_type": "code",
   "execution_count": null,
   "metadata": {},
   "outputs": [],
   "source": []
  },
  {
   "cell_type": "code",
   "execution_count": null,
   "metadata": {},
   "outputs": [],
   "source": []
  },
  {
   "cell_type": "code",
   "execution_count": null,
   "metadata": {},
   "outputs": [],
   "source": []
  },
  {
   "cell_type": "code",
   "execution_count": null,
   "metadata": {},
   "outputs": [],
   "source": []
  },
  {
   "cell_type": "code",
   "execution_count": null,
   "metadata": {},
   "outputs": [],
   "source": []
  },
  {
   "cell_type": "code",
   "execution_count": null,
   "metadata": {},
   "outputs": [],
   "source": []
  },
  {
   "cell_type": "code",
   "execution_count": null,
   "metadata": {},
   "outputs": [],
   "source": []
  },
  {
   "cell_type": "code",
   "execution_count": null,
   "metadata": {},
   "outputs": [],
   "source": []
  },
  {
   "cell_type": "code",
   "execution_count": null,
   "metadata": {},
   "outputs": [],
   "source": []
  },
  {
   "cell_type": "code",
   "execution_count": null,
   "metadata": {},
   "outputs": [],
   "source": []
  },
  {
   "cell_type": "code",
   "execution_count": null,
   "metadata": {},
   "outputs": [],
   "source": []
  },
  {
   "cell_type": "code",
   "execution_count": null,
   "metadata": {},
   "outputs": [],
   "source": []
  },
  {
   "cell_type": "code",
   "execution_count": null,
   "metadata": {},
   "outputs": [],
   "source": []
  },
  {
   "cell_type": "code",
   "execution_count": null,
   "metadata": {},
   "outputs": [],
   "source": []
  },
  {
   "cell_type": "code",
   "execution_count": null,
   "metadata": {},
   "outputs": [],
   "source": []
  },
  {
   "cell_type": "code",
   "execution_count": null,
   "metadata": {},
   "outputs": [],
   "source": []
  },
  {
   "cell_type": "code",
   "execution_count": null,
   "metadata": {},
   "outputs": [],
   "source": []
  },
  {
   "cell_type": "code",
   "execution_count": null,
   "metadata": {},
   "outputs": [],
   "source": []
  },
  {
   "cell_type": "code",
   "execution_count": null,
   "metadata": {},
   "outputs": [],
   "source": []
  },
  {
   "cell_type": "code",
   "execution_count": null,
   "metadata": {},
   "outputs": [],
   "source": []
  },
  {
   "cell_type": "code",
   "execution_count": null,
   "metadata": {},
   "outputs": [],
   "source": []
  },
  {
   "cell_type": "code",
   "execution_count": null,
   "metadata": {},
   "outputs": [],
   "source": []
  }
 ],
 "metadata": {
  "kernelspec": {
   "display_name": "Python 3",
   "language": "python",
   "name": "python3"
  },
  "language_info": {
   "codemirror_mode": {
    "name": "ipython",
    "version": 3
   },
   "file_extension": ".py",
   "mimetype": "text/x-python",
   "name": "python",
   "nbconvert_exporter": "python",
   "pygments_lexer": "ipython3",
   "version": "3.6.15"
  }
 },
 "nbformat": 4,
 "nbformat_minor": 4
}
