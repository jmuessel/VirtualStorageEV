{
 "cells": [
  {
   "cell_type": "markdown",
   "metadata": {},
   "source": [
    "https://stackoverflow.com/questions/53838696/problems-regarding-pyomo-provided-math-functions\n",
    "\n",
    "https://stackoverflow.com/questions/70048818/optimization-of-a-battery-storage-with-pyomo\n",
    "\n",
    "https://gitlab.com/diw-evu/emobpy/emobpy/-/blob/master/emobpy/data/evspecs.json\n",
    "\n",
    "https://github.com/L-Strobel/jointAnalysisCharging/tree/main/chargingmodel"
   ]
  },
  {
   "cell_type": "code",
   "execution_count": 22,
   "metadata": {},
   "outputs": [],
   "source": [
    "import os\n",
    "import pandas as pd\n",
    "import numpy as np\n",
    "import matplotlib.pyplot as plt#\n",
    "import matplotlib.axes as axes\n",
    "import pyomo.environ as pyo \n",
    "import pyomo.opt as opt\n",
    "from IPython.display import clear_output\n",
    "from pyomo.opt import SolverFactory\n",
    "import random\n",
    "from pandas import Timestamp\n",
    "import pickle\n",
    "import matplotlib.dates as mdates\n"
   ]
  },
  {
   "cell_type": "markdown",
   "metadata": {},
   "source": [
    "## Data input "
   ]
  },
  {
   "cell_type": "code",
   "execution_count": 17,
   "metadata": {},
   "outputs": [
    {
     "name": "stdout",
     "output_type": "stream",
     "text": [
      "Collecting package metadata (current_repodata.json): | ^C\n",
      "- "
     ]
    }
   ],
   "source": [
    "!conda install pickle5"
   ]
  },
  {
   "cell_type": "code",
   "execution_count": 23,
   "metadata": {},
   "outputs": [],
   "source": [
    "import pickle5 as pickle"
   ]
  },
  {
   "cell_type": "code",
   "execution_count": 24,
   "metadata": {},
   "outputs": [],
   "source": [
    "processing_path = os.getcwd()\n",
    "os.chdir(\"../Emobpy/save\")\n",
    "data_path = os.getcwd()\n",
    "os.chdir(processing_path)"
   ]
  },
  {
   "cell_type": "code",
   "execution_count": 25,
   "metadata": {},
   "outputs": [
    {
     "ename": "AttributeError",
     "evalue": "Can't get attribute '_unpickle_block' on <module 'pandas._libs.internals' from '/Users/Jarusch/opt/anaconda3/envs/emobpyenv/lib/python3.7/site-packages/pandas/_libs/internals.cpython-37m-darwin.so'>",
     "output_type": "error",
     "traceback": [
      "\u001b[0;31m---------------------------------------------------------------------------\u001b[0m",
      "\u001b[0;31mAttributeError\u001b[0m                            Traceback (most recent call last)",
      "\u001b[0;32m/var/folders/xb/lfd6_z7178g_6zv_ygw5vd4m0000gp/T/ipykernel_96538/2278227782.py\u001b[0m in \u001b[0;36m<module>\u001b[0;34m\u001b[0m\n\u001b[1;32m      1\u001b[0m \u001b[0;32mwith\u001b[0m \u001b[0mopen\u001b[0m\u001b[0;34m(\u001b[0m\u001b[0mos\u001b[0m\u001b[0;34m.\u001b[0m\u001b[0mpath\u001b[0m\u001b[0;34m.\u001b[0m\u001b[0mjoin\u001b[0m\u001b[0;34m(\u001b[0m\u001b[0mdata_path\u001b[0m\u001b[0;34m,\u001b[0m \u001b[0;34m\"consumption\"\u001b[0m\u001b[0;34m)\u001b[0m\u001b[0;34m,\u001b[0m \u001b[0;34m\"rb\"\u001b[0m\u001b[0;34m)\u001b[0m \u001b[0;32mas\u001b[0m \u001b[0mfh\u001b[0m\u001b[0;34m:\u001b[0m\u001b[0;34m\u001b[0m\u001b[0;34m\u001b[0m\u001b[0m\n\u001b[0;32m----> 2\u001b[0;31m     \u001b[0mconsumption_ts\u001b[0m \u001b[0;34m=\u001b[0m \u001b[0mpickle\u001b[0m\u001b[0;34m.\u001b[0m\u001b[0mload\u001b[0m\u001b[0;34m(\u001b[0m\u001b[0mfh\u001b[0m\u001b[0;34m)\u001b[0m\u001b[0;34m\u001b[0m\u001b[0;34m\u001b[0m\u001b[0m\n\u001b[0m\u001b[1;32m      3\u001b[0m \u001b[0;34m\u001b[0m\u001b[0m\n",
      "\u001b[0;31mAttributeError\u001b[0m: Can't get attribute '_unpickle_block' on <module 'pandas._libs.internals' from '/Users/Jarusch/opt/anaconda3/envs/emobpyenv/lib/python3.7/site-packages/pandas/_libs/internals.cpython-37m-darwin.so'>"
     ]
    }
   ],
   "source": [
    "with open(os.path.join(data_path, \"consumption\"), \"rb\") as fh:\n",
    "    consumption_ts = pickle.load(fh)\n",
    "\n"
   ]
  },
  {
   "cell_type": "code",
   "execution_count": 16,
   "metadata": {},
   "outputs": [
    {
     "ename": "AttributeError",
     "evalue": "Can't get attribute '_unpickle_block' on <module 'pandas._libs.internals' from '/Users/Jarusch/opt/anaconda3/envs/emobpyenv/lib/python3.6/site-packages/pandas/_libs/internals.cpython-36m-darwin.so'>",
     "output_type": "error",
     "traceback": [
      "\u001b[0;31m---------------------------------------------------------------------------\u001b[0m",
      "\u001b[0;31mAttributeError\u001b[0m                            Traceback (most recent call last)",
      "\u001b[0;32m<ipython-input-16-afd9697bda64>\u001b[0m in \u001b[0;36m<module>\u001b[0;34m\u001b[0m\n\u001b[1;32m      8\u001b[0m \u001b[0;34m\u001b[0m\u001b[0m\n\u001b[1;32m      9\u001b[0m \u001b[0;32mwith\u001b[0m \u001b[0mopen\u001b[0m\u001b[0;34m(\u001b[0m\u001b[0mos\u001b[0m\u001b[0;34m.\u001b[0m\u001b[0mpath\u001b[0m\u001b[0;34m.\u001b[0m\u001b[0mjoin\u001b[0m\u001b[0;34m(\u001b[0m\u001b[0mdata_path\u001b[0m\u001b[0;34m,\u001b[0m \u001b[0;34m\"consumption\"\u001b[0m\u001b[0;34m)\u001b[0m\u001b[0;34m,\u001b[0m \u001b[0;34m\"rb\"\u001b[0m\u001b[0;34m)\u001b[0m \u001b[0;32mas\u001b[0m \u001b[0mfh\u001b[0m\u001b[0;34m:\u001b[0m\u001b[0;34m\u001b[0m\u001b[0;34m\u001b[0m\u001b[0m\n\u001b[0;32m---> 10\u001b[0;31m     \u001b[0mconsumption_ts\u001b[0m \u001b[0;34m=\u001b[0m \u001b[0mpickle\u001b[0m\u001b[0;34m.\u001b[0m\u001b[0mload\u001b[0m\u001b[0;34m(\u001b[0m\u001b[0mfh\u001b[0m\u001b[0;34m)\u001b[0m\u001b[0;34m\u001b[0m\u001b[0;34m\u001b[0m\u001b[0m\n\u001b[0m\u001b[1;32m     11\u001b[0m \u001b[0;34m\u001b[0m\u001b[0m\n\u001b[1;32m     12\u001b[0m \u001b[0;34m\u001b[0m\u001b[0m\n",
      "\u001b[0;31mAttributeError\u001b[0m: Can't get attribute '_unpickle_block' on <module 'pandas._libs.internals' from '/Users/Jarusch/opt/anaconda3/envs/emobpyenv/lib/python3.6/site-packages/pandas/_libs/internals.cpython-36m-darwin.so'>"
     ]
    }
   ],
   "source": [
    "\n",
    "\n",
    "\n",
    "\n",
    "with open(os.path.join(data_path, \"consumption\"), \"rb\") as fh:\n",
    "    consumption_ts = pickle.load(fh)\n",
    "\n",
    "\n",
    "with open(pd.read_pickle(os.path.join(data_path, \"availability\")), \"rb\") as fh:\n",
    "    availability_ts = pickle.load(fh)\n",
    "\n",
    "\n",
    "\n",
    "with open(pd.read_pickle(os.path.join(data_path, \"properties\")), \"rb\") as fh:\n",
    "    car_properties_raw = pickle.load(fh)\n",
    "\n",
    "\n",
    "profiles = len(availability_ts.columns)\n",
    "time_steps = len(availability_ts.index)"
   ]
  },
  {
   "cell_type": "code",
   "execution_count": null,
   "metadata": {},
   "outputs": [],
   "source": []
  },
  {
   "cell_type": "code",
   "execution_count": 2,
   "metadata": {},
   "outputs": [],
   "source": [
    "#emobpy import\n",
    "processing_path = os.getcwd()\n",
    "os.chdir(\"../emobpy\")\n",
    "data_path = os.getcwd()\n",
    "os.chdir(processing_path)\n",
    "\n",
    "consumption_ts = pd.read_pickle(os.path.join(data_path, \"short_profiles\", \"consumption.pickle\"))\n",
    "availability_ts = pd.read_pickle(os.path.join(data_path, \"short_profiles\", \"availability\"))\n",
    "car_properties_raw = pd.read_pickle(os.path.join(data_path, \"short_profiles\",  \"properties.pickle\")) \n",
    "\n",
    "profiles = len(availability_ts.columns)\n",
    "time_steps = len(availability_ts.index)"
   ]
  },
  {
   "cell_type": "code",
   "execution_count": 3,
   "metadata": {},
   "outputs": [],
   "source": [
    "#consumption = pd.DataFrame(data = np.array([[0, 0.5], [0, 0.5], [0.5, 0], [0.5, 0]]), columns = [\"c_1[kW]\", \"c_2[kW]\"])\n",
    "consumption_raw = consumption_ts.iloc[:time_steps, :profiles] #kWh / 15 min timestep\n",
    "\n",
    "#power = pd.DataFrame(pd.DataFrame(data = np.array([[1, 0], [1, 0], [0, 1], [0, 1]]), columns = [\"p_1 [kW]\", \"p_2 [kW]\"]))\n",
    "power_raw = availability_ts.iloc[:time_steps, :profiles]\n",
    "\n",
    "neg_power_magnitude_raw = power_raw\n",
    "\n",
    "#set datetime indexes \n",
    "index = consumption_ts.index[:time_steps]\n",
    "consumption_raw.index, power_raw.index, neg_power_magnitude_raw.index = index, index, index"
   ]
  },
  {
   "cell_type": "code",
   "execution_count": 4,
   "metadata": {},
   "outputs": [],
   "source": [
    "step_duration = int(pd.infer_freq(index)[:-1]) / 60  #parts of an hour\n",
    "\n",
    "soc_min = .01 #0%"
   ]
  },
  {
   "cell_type": "markdown",
   "metadata": {},
   "source": [
    "## Data plausibility"
   ]
  },
  {
   "cell_type": "code",
   "execution_count": 43,
   "metadata": {},
   "outputs": [
    {
     "data": {
      "text/plain": [
       "<BarContainer object of 2 artists>"
      ]
     },
     "execution_count": 43,
     "metadata": {},
     "output_type": "execute_result"
    },
    {
     "data": {
      "image/png": "[encoded data removed]",
      "text/plain": [
       "<Figure size 432x288 with 1 Axes>"
      ]
     },
     "metadata": {
      "needs_background": "light"
     },
     "output_type": "display_data"
    }
   ],
   "source": [
    "#average consuption of 200Wh per 100 km --> \n",
    "#median in Geramny is at about 11000 km per year\n",
    "plt.bar(\n",
    "    [\"emobpy\", \"statista (2021)\"], [(consumption_raw*step_duration).sum().mean() / 0.2, 11000]\n",
    "       )"
   ]
  },
  {
   "cell_type": "code",
   "execution_count": 44,
   "metadata": {},
   "outputs": [
    {
     "data": {
      "text/plain": [
       "Text(0, 0.5, 'power rating [kW]')"
      ]
     },
     "execution_count": 44,
     "metadata": {},
     "output_type": "execute_result"
    },
    {
     "data": {
      "image/png": "[encoded data removed]",
      "text/plain": [
       "<Figure size 432x288 with 1 Axes>"
      ]
     },
     "metadata": {
      "needs_background": "light"
     },
     "output_type": "display_data"
    }
   ],
   "source": [
    "#power ratings are mostly between 3 and 20 kW \n",
    "ax = plt.boxplot(\n",
    "    [3,3, power_raw.mean(1).mean(), 20,20], labels=[\"usual values: 3-20 [KW]\"]\n",
    "       )\n",
    "\n",
    "plt.ylabel('power rating [kW]')"
   ]
  },
  {
   "cell_type": "code",
   "execution_count": 45,
   "metadata": {},
   "outputs": [],
   "source": [
    "def plot_step(df, consumption=True):\n",
    "    df_ = df.copy()\n",
    "    \n",
    "    if type(df.index[0]) == int:\n",
    "        df_.loc[df_.index[-1]+1,:] = df_.iloc[-1,:]\n",
    "    else:\n",
    "        df_.loc[str(pd.Timestamp(df_.index[-1] ) + \n",
    "                    pd.Timedelta(pd.infer_freq(index))),:\n",
    "               ] = df_.iloc[-1,:]\n",
    "        \n",
    "    df_.index = pd.to_datetime(df_.index)\n",
    "    \n",
    "    fig, ax = plt.subplots(2)\n",
    "    time_constrained=df_[df_.index.date <= df_.index[0].date()]\n",
    "    x = time_constrained.index\n",
    "    ax[0].step(x=x, y = time_constrained.iloc[:,2], where = \"post\")\n",
    "    ax[1].step(x=x, y = time_constrained.sum(1).to_frame().rename(columns={0:\"aggregated\"}), where = \"post\")\n",
    "    for i in [0,1]:\n",
    "        ax[i].xaxis.set_major_locator(mdates.HourLocator())\n",
    "        ax[i].xaxis.set_major_formatter(mdates.DateFormatter('%H'))\n",
    "        if consumption == True: ax[i].set_ylabel(\"kWh/15min\")\n",
    "        else: ax[i].set_ylabel(\"kW\")\n",
    "        if i == 0: ax[i].set_title(\"one single profile\")\n",
    "        else: ax[i].set_title(\"aggregated profile\")\n",
    "        ax[i].set_xlabel(\"hour of the day\")\n",
    "        \n",
    "        ax[i].set_ylim(bottom=0)\n",
    "        \n",
    "    fig.tight_layout()\n",
    "    plt.show()\n"
   ]
  },
  {
   "cell_type": "code",
   "execution_count": 5,
   "metadata": {},
   "outputs": [
    {
     "data": {
      "text/plain": [
       "Text(0, 0.5, 'consumption [kWh / 15min]')"
      ]
     },
     "execution_count": 5,
     "metadata": {},
     "output_type": "execute_result"
    },
    {
     "data": {
      "image/png": "[encoded data removed]",
      "text/plain": [
       "<Figure size 432x288 with 1 Axes>"
      ]
     },
     "metadata": {
      "needs_background": "light"
     },
     "output_type": "display_data"
    }
   ],
   "source": [
    "fix, ax = plt.subplots()\n",
    "\n",
    "consumption_raw.iloc[10:400].sum(1).resample(\"1h\").mean().plot()\n",
    "plt.ylabel(\"consumption [kWh / 15min]\")\n",
    "\n",
    "#ax.xaxis.set_major_locator(mdates.WeekdayLocator(interval=7))\n",
    "#ax.xaxis.set_major_formatter(mdates.DateFormatter(\"%a\"))"
   ]
  },
  {
   "cell_type": "code",
   "execution_count": 47,
   "metadata": {},
   "outputs": [
    {
     "data": {
      "image/png": "[encoded data removed]",
      "text/plain": [
       "<Figure size 432x288 with 2 Axes>"
      ]
     },
     "metadata": {
      "needs_background": "light"
     },
     "output_type": "display_data"
    }
   ],
   "source": [
    "plot_step(consumption_raw)"
   ]
  },
  {
   "cell_type": "code",
   "execution_count": 48,
   "metadata": {
    "scrolled": true
   },
   "outputs": [
    {
     "data": {
      "image/png": "[encoded data removed]",
      "text/plain": [
       "<Figure size 432x288 with 2 Axes>"
      ]
     },
     "metadata": {
      "needs_background": "light"
     },
     "output_type": "display_data"
    }
   ],
   "source": [
    "plot_step(power_raw, consumption = False)"
   ]
  },
  {
   "cell_type": "code",
   "execution_count": 49,
   "metadata": {},
   "outputs": [
    {
     "data": {
      "text/plain": [
       "0.0007225764057796639"
      ]
     },
     "execution_count": 49,
     "metadata": {},
     "output_type": "execute_result"
    }
   ],
   "source": [
    "#plausibility: Are power availability and battery size in reasonable \n",
    "#realtion to each other?\n",
    "(consumption_raw*step_duration).sum(1).max() / car_properties_raw.iloc[2].sum()"
   ]
  },
  {
   "cell_type": "markdown",
   "metadata": {},
   "source": [
    "# EES-transformation: Generating uncontrolled and latest charging ts"
   ]
  },
  {
   "cell_type": "code",
   "execution_count": 109,
   "metadata": {},
   "outputs": [],
   "source": [
    "##level= [0, 2]\n",
    "##level_ = [0, 1]\n",
    "\n",
    "#set same names for columns\n",
    "power_raw.columns = consumption_raw.columns\n",
    "neg_power_magnitude_raw.columns = consumption_raw.columns\n",
    "car_properties_raw.columns = consumption_raw.columns"
   ]
  },
  {
   "cell_type": "code",
   "execution_count": 110,
   "metadata": {},
   "outputs": [],
   "source": [
    "solution_dict = {}\n",
    "ees_constraints= pd.DataFrame()\n",
    "\n",
    "for c in consumption_raw.columns.unique():\n",
    "    \n",
    "    for i, car in enumerate(consumption_raw[c].columns):\n",
    "        consumption= consumption_raw[c].iloc[:,i]\n",
    "        power= power_raw[c].iloc[:,i]\n",
    "        neg_power_magnitude= neg_power_magnitude_raw[c].iloc[:,i]\n",
    "        car_properties= car_properties_raw[c].iloc[:,i]\n",
    "        \n",
    "        solution_dict[car+str(i)] = {}\n",
    "        level_0 = car_properties[\"soc_init\"]\n",
    "        level_T = car_properties.loc[\"soc_end\"]\n",
    "        battery_capacity = car_properties.loc[\"battery_capacity\"]\n",
    "\n",
    "        for model_type in [\"m_late\", \"m_early\"]:\n",
    "\n",
    "            #Initialize model\n",
    "            m = pyo.ConcreteModel()\n",
    "            #initialize sets\n",
    "            m.t = pyo.Set(initialize = index, ordered = True)\n",
    "\n",
    "            #Initialize parameter\n",
    "            m.consumption = pyo.Param(m.t, initialize=consumption.to_dict())\n",
    "            m.power = pyo.Param(m.t, initialize=power.to_dict()) \n",
    "            m.neg_power = pyo.Param(m.t, initialize=neg_power_magnitude.to_dict()) \n",
    "\n",
    "            #Initialize variables\n",
    "            m.CHARGE = pyo.Var(m.t, within = pyo.NonNegativeReals)\n",
    "            m.DISCHARGE = pyo.Var(m.t, within = pyo.NonNegativeReals)\n",
    "            m.LEVEL = pyo.Var(m.t, within = pyo.NonNegativeReals, \n",
    "                              bounds = (soc_min*battery_capacity,battery_capacity))\n",
    "\n",
    "            #level constraints\n",
    "            def recursive_level(m, t):\n",
    "                if t == index[0]:\n",
    "                    return m.LEVEL[t] == level_0 + (m.CHARGE[t] - m.DISCHARGE[t] - m.consumption[t] )*step_duration\n",
    "                else:    \n",
    "                    return m.LEVEL[t] == m.LEVEL[pd.Timestamp(t) - \n",
    "                                                     pd.Timedelta(pd.infer_freq(index))] + (\n",
    "                        m.CHARGE[t] - m.DISCHARGE[t] - m.consumption[t] )*step_duration   \n",
    "            m.Recursive_level = pyo.Constraint(m.t, rule = recursive_level)\n",
    "\n",
    "            def final_level(m, t):\n",
    "                if t == index[-1]:\n",
    "                    return m.LEVEL[t] == level_T\n",
    "                else: \n",
    "                    return pyo.Constraint.Skip\n",
    "            m.Final_level = pyo.Constraint(m.t, rule=final_level)\n",
    "\n",
    "            #bidirectional charging \n",
    "            def neg_power_min(m, t):\n",
    "                return m.DISCHARGE[t] <= m.neg_power[t]\n",
    "            m.Neg_power_min_restriction = pyo.Constraint(m.t, rule=neg_power_min)\n",
    "\n",
    "            def power_max(m, t):\n",
    "                return m.CHARGE[t] <= m.power[t]   \n",
    "            m.Power_max_restriction = pyo.Constraint(m.t, rule=power_max)\n",
    "\n",
    "            # objective function late\n",
    "            def battery_level_sum(m, t): \n",
    "                return sum(m.LEVEL[t] for t in m.t) \n",
    "\n",
    "            if model_type == \"m_late\":\n",
    "                sense = pyo.minimize\n",
    "            elif model_type == \"m_early\":\n",
    "                sense = pyo.maximize     \n",
    "            m.Obj = pyo.Objective(rule=battery_level_sum, sense=sense)\n",
    "\n",
    "            #find solver\n",
    "            solvername='glpk'\n",
    "\n",
    "            #prepare solver\n",
    "            optimizer = opt.SolverFactory(solvername) \n",
    "            solved_model = optimizer.solve(m)        \n",
    "\n",
    "            if pd.DataFrame.from_dict(m.LEVEL.extract_values(), orient='index')[0][-1]== None:\n",
    "                level_series = pd.concat([\n",
    "                    pd.Series(0, index=[index[0]-pd.Timedelta(pd.infer_freq(index))]),\n",
    "                    pd.Series(level_0, index=index)\n",
    "                ], axis=0)\n",
    "                charge_df = pd.DataFrame(0, index=index, columns = [car])\n",
    "                discharge_df = pd.DataFrame(0, index=index, columns = [car])\n",
    "            else: \n",
    "                level_series = pd.concat([\n",
    "                    pd.Series(0, index=[index[0]-pd.Timedelta(pd.infer_freq(index))]),\n",
    "                    pd.DataFrame.from_dict(m.LEVEL.extract_values(), orient='index')[0]\n",
    "                ], axis=0)\n",
    "                charge_df = pd.DataFrame.from_dict(m.CHARGE.extract_values(), orient='index', columns = [car])\n",
    "                discharge_df = pd.DataFrame.from_dict(m.DISCHARGE.extract_values(), orient='index', columns = [car])\n",
    "            \n",
    "            #store data in dictionary\n",
    "            solution_dict[car+str(i)][model_type] = {}\n",
    "            solution_dict[car+str(i)][model_type][\"level\"] = level_series\n",
    "            solution_dict[car+str(i)][model_type][\"charge\"] = charge_df\n",
    "            solution_dict[car+str(i)][model_type][\"discharge\"] = discharge_df\n",
    "            level_index = solution_dict[car+str(i)][model_type][\"level\"].index\n",
    "            if model_type == \"m_early\":\n",
    "                solution_dict[car+str(i)][\"level_differences\"] = (solution_dict[car+str(i)][\"m_late\"][\"level\"] - \n",
    "                                                           solution_dict[car+str(i)][\"m_early\"][\"level\"]).to_frame().rename(columns={0:car})\n",
    "                ees_constraints= pd.concat([ees_constraints, solution_dict[car+str(i)][\"level_differences\"]], axis = 1)"
   ]
  },
  {
   "cell_type": "markdown",
   "metadata": {},
   "source": [
    "solution_dict = {}\n",
    "ees_constraints= pd.DataFrame()\n",
    "##zweite for schleife\n",
    "for i, car in enumerate(consumption.columns): \n",
    "    car = i\n",
    "    solution_dict[car] = {}\n",
    "    level_0 = car_properties.loc[\"soc_init\"][car] ##level[i]\n",
    "    level_T = car_properties.loc[\"soc_end\"][car] ##level_[i]\n",
    "    battery_capacity = car_properties.loc[\"battery_capacity\"][car] ##2\n",
    "    \n",
    "    for model_type in [\"m_late\", \"m_early\"]:\n",
    "        \n",
    "        #Initialize model\n",
    "        m = pyo.ConcreteModel()\n",
    "        #initialize sets\n",
    "        m.t = pyo.Set(initialize = index, ordered = True)\n",
    "        \n",
    "        #Initialize parameter\n",
    "        m.consumption = pyo.Param(m.t, initialize=consumption[car].to_dict())\n",
    "        m.power = pyo.Param(m.t, initialize=power.loc[:,car].to_dict()) \n",
    "        m.neg_power = pyo.Param(m.t, initialize=neg_power_magnitude.loc[:,car].to_dict()) \n",
    "\n",
    "        #Initialize variables\n",
    "        m.CHARGE = pyo.Var(m.t, within = pyo.NonNegativeReals)\n",
    "        m.DISCHARGE = pyo.Var(m.t, within = pyo.NonNegativeReals)\n",
    "        m.LEVEL = pyo.Var(m.t, within = pyo.NonNegativeReals, \n",
    "                          bounds = (soc_min*battery_capacity,battery_capacity))\n",
    "\n",
    "        #level constraints\n",
    "        def recursive_level(m, t):\n",
    "            if t == index[0]:\n",
    "                return m.LEVEL[t] == level_0 + (m.CHARGE[t] - m.DISCHARGE[t] - m.consumption[t] )#*step_duration\n",
    "            else:    \n",
    "                return m.LEVEL[t] == m.LEVEL[pd.Timestamp(t) - \n",
    "                                                 pd.Timedelta(pd.infer_freq(index))] + (\n",
    "                    m.CHARGE[t] - m.DISCHARGE[t] - m.consumption[t] )#*step_duration   \n",
    "        m.Recursive_level = pyo.Constraint(m.t, rule = recursive_level)\n",
    "\n",
    "        def final_level(m, t):\n",
    "            if t == index[-1]:\n",
    "                return m.LEVEL[t] == level_T\n",
    "            else: \n",
    "                return pyo.Constraint.Skip\n",
    "        m.Final_level = pyo.Constraint(m.t, rule=final_level)\n",
    "\n",
    "        #bidirectional charging \n",
    "        def neg_power_min(m, t):\n",
    "            return m.DISCHARGE[t] <= m.neg_power[t]\n",
    "        m.Neg_power_min_restriction = pyo.Constraint(m.t, rule=neg_power_min)\n",
    "        \n",
    "        def power_max(m, t):\n",
    "            return m.CHARGE[t] <= m.power[t]   \n",
    "        m.Power_max_restriction = pyo.Constraint(m.t, rule=power_max)\n",
    "        \n",
    "        # objective function late\n",
    "        def battery_level_sum(m, t): \n",
    "            return sum(m.LEVEL[t] for t in m.t) \n",
    "        \n",
    "        if model_type == \"m_late\":\n",
    "            sense = pyo.minimize\n",
    "        elif model_type == \"m_early\":\n",
    "            sense = pyo.maximize     \n",
    "        m.Obj = pyo.Objective(rule=battery_level_sum, sense=sense)\n",
    "        \n",
    "        #find solver\n",
    "        solvername='glpk'\n",
    "        \n",
    "        #prepare solver\n",
    "        optimizer = opt.SolverFactory(solvername) \n",
    "        solved_model = optimizer.solve(m)        \n",
    "        \n",
    "        if pd.DataFrame.from_dict(m.LEVEL.extract_values(), orient='index')[0][-1]== None:\n",
    "            level_series = pd.concat([\n",
    "                pd.Series(0, index=[index[0]-pd.Timedelta(pd.infer_freq(index))]),\n",
    "                pd.Series(level_0, index=index)\n",
    "            ], axis=0)\n",
    "            charge_df = pd.DataFrame(0, index=index, columns = [car])\n",
    "            discharge_df = pd.DataFrame(0, index=index, columns = [car])\n",
    "        else: \n",
    "            level_series = pd.concat([\n",
    "                pd.Series(0, index=[index[0]-pd.Timedelta(pd.infer_freq(index))]),\n",
    "                pd.DataFrame.from_dict(m.LEVEL.extract_values(), orient='index')[0]\n",
    "            ], axis=0)\n",
    "            charge_df = pd.DataFrame.from_dict(m.CHARGE.extract_values(), orient='index', columns = [car])\n",
    "            discharge_df = pd.DataFrame.from_dict(m.DISCHARGE.extract_values(), orient='index', columns = [car])\n",
    "        #store data in dictionary\n",
    "        solution_dict[car][model_type] = {}\n",
    "        solution_dict[car][model_type][\"level\"] = level_series\n",
    "        solution_dict[car][model_type][\"charge\"] = charge_df\n",
    "        solution_dict[car][model_type][\"discharge\"] = discharge_df\n",
    "        level_index = solution_dict[car][model_type][\"level\"].index\n",
    "        if model_type == \"m_early\":\n",
    "            solution_dict[car][\"level_differences\"] = (solution_dict[car][\"m_late\"][\"level\"] - \n",
    "                                                       solution_dict[car][\"m_early\"][\"level\"]).to_frame().rename(columns={0:car})\n",
    "            ees_constraints= pd.concat([ees_constraints, solution_dict[car][\"level_differences\"]], axis = 1)"
   ]
  },
  {
   "cell_type": "code",
   "execution_count": 14,
   "metadata": {},
   "outputs": [],
   "source": [
    "#with open('Short_solution_dict.pickle', 'wb') as handle:\n",
    "#    pickle.dump(solution_dict, handle, protocol=pickle.HIGHEST_PROTOCOL)\n",
    "\n",
    "#with open('solution_dict.pickle', 'rb') as handle:\n",
    "#    solution_dict = pickle.load(handle)"
   ]
  },
  {
   "cell_type": "code",
   "execution_count": 15,
   "metadata": {},
   "outputs": [],
   "source": [
    "#ees_constraints.to_pickle(\"short_ees_constraints.pickle\")"
   ]
  },
  {
   "cell_type": "code",
   "execution_count": 54,
   "metadata": {},
   "outputs": [
    {
     "data": {
      "text/plain": [
       "Audi/e-tron_55_quattro/2019    0\n",
       "dtype: int64"
      ]
     },
     "execution_count": 54,
     "metadata": {},
     "output_type": "execute_result"
    }
   ],
   "source": [
    "#plausibility check: energy charged is the same for both scenarios (if battery capacity is exceeded)\n",
    "solution_dict[car+str(i)][\"m_early\"][\"charge\"].sum() - solution_dict[car+str(i)][\"m_early\"][\"discharge\"].sum() - solution_dict[car+str(i)][\"m_late\"][\"charge\"].sum() + solution_dict[car+str(i)][\"m_late\"][\"discharge\"].sum()"
   ]
  },
  {
   "cell_type": "code",
   "execution_count": 55,
   "metadata": {},
   "outputs": [],
   "source": [
    "#prepare variables and functions for optimization \n",
    "def plot_results(variable, car):\n",
    "    observations = 400\n",
    "    if variable == \"charge\":\n",
    "        x = index[:observations]\n",
    "        fig, ax = plt.subplots(4)\n",
    "        ax[0].step(x, solution_dict[car][\"m_late\"][\"charge\"][:observations],  where = \"mid\")\n",
    "        ax[0].set_title(\"late_charging\")\n",
    "        \n",
    "        ax[1].step(x, solution_dict[car][\"m_early\"][\"charge\"][:observations],  where = \"mid\")\n",
    "        ax[1].set_title(\"uncontrolled_charging\")\n",
    "        \n",
    "        ax[2].step(x, solution_dict[car][\"m_late\"][\"discharge\"][:observations],  where = \"mid\")\n",
    "        ax[2].set_title(\"late_discharging\")\n",
    "        \n",
    "        ax[3].step(x, solution_dict[car][\"m_early\"][\"discharge\"][:observations],  where = \"mid\")\n",
    "        ax[3].set_title(\"uncontrolled_discharging\")\n",
    "        for i in range(0,4):\n",
    "            ax[i].set_ylabel(\"kW\")\n",
    "            ax[i].xaxis.set_major_locator(mdates.HourLocator(interval = 6))\n",
    "            ax[i].xaxis.set_major_formatter(mdates.DateFormatter('%H'))\n",
    "            ax[i].set_ylabel(\"kW\")\n",
    "    else: \n",
    "        observations = observations + 1\n",
    "        x = level_index[:(observations)]\n",
    "        fig, ax = plt.subplots(3)\n",
    "        ax[0].plot(x, solution_dict[car][\"m_late\"][\"level\"][:observations])\n",
    "        ax[0].set_ylim(0, solution_dict[car][\"m_early\"][\"level\"].max())\n",
    "        ax[0].set_title(\"late_level\")\n",
    "        \n",
    "        ax[1].plot(x, solution_dict[car][\"m_early\"][\"level\"][:observations])\n",
    "        ax[1].set_ylim(0, solution_dict[car][\"m_early\"][\"level\"].max())\n",
    "        ax[1].set_title(\"uncontrolled_level\")\n",
    "        \n",
    "        ax[2].plot(x, solution_dict[car][\"level_differences\"][:observations])\n",
    "        ax[2].set_title(\"level_solution differences\")\n",
    "        ax[2].set_ylim(-solution_dict[car][\"m_early\"][\"level\"].max(),)\n",
    "        \n",
    "        for i in range(0,3):\n",
    "            ax[i].set_ylabel(\"kWh\")\n",
    "    \n",
    "            \n",
    "            ax[i].xaxis.set_major_locator(mdates.HourLocator(interval = 6))\n",
    "            ax[i].xaxis.set_major_formatter(mdates.DateFormatter('%H'))\n",
    "\n",
    "    \n",
    "    plt.tight_layout()\n",
    "    plt.show()"
   ]
  },
  {
   "cell_type": "code",
   "execution_count": 103,
   "metadata": {},
   "outputs": [
    {
     "data": {
      "image/png": "[encoded data removed]",
      "text/plain": [
       "<Figure size 432x288 with 4 Axes>"
      ]
     },
     "metadata": {
      "needs_background": "light"
     },
     "output_type": "display_data"
    },
    {
     "data": {
      "image/png": "[encoded data removed]",
      "text/plain": [
       "<Figure size 432x288 with 3 Axes>"
      ]
     },
     "metadata": {
      "needs_background": "light"
     },
     "output_type": "display_data"
    }
   ],
   "source": [
    "plot_results(\"charge\", car+str(i)) \n",
    "plot_results(\"level\", car+str(i))"
   ]
  },
  {
   "cell_type": "markdown",
   "metadata": {},
   "source": [
    "## Processing EES-profiles: Aggregation"
   ]
  },
  {
   "cell_type": "code",
   "execution_count": 104,
   "metadata": {},
   "outputs": [],
   "source": [
    "uncontrolled_level_accurate = pd.DataFrame()\n",
    "uncontrolled_charge_accurate = pd.DataFrame()\n",
    "early = pd.DataFrame()\n",
    "late = pd.DataFrame()\n",
    "\n",
    "for c in consumption_raw.columns.unique():\n",
    "    for i, car in enumerate(consumption_raw[c].columns):\n",
    "        #early = pd.concat([\n",
    "        #    early, solution_dict[car+str(i)][\"m_early\"][\"level\"]\n",
    "        #], axis=1).sum(1)\n",
    "        #late = pd.concat([\n",
    "        #   late, solution_dict[car+str(i)][\"m_late\"][\"level\"]\n",
    "        #], axis=1).sum(1)\n",
    "        uncontrolled_level_accurate = pd.concat([\n",
    "            uncontrolled_level_accurate, solution_dict[car+str(i)][\"m_early\"][\"level\"]\n",
    "        ], axis=1).sum(1)\n",
    "        uncontrolled_charge_accurate = pd.concat([\n",
    "            uncontrolled_charge_accurate, solution_dict[car+str(i)][\"m_early\"][\"charge\"]\n",
    "        ], axis=1).sum(1)\n",
    "        \n",
    "uncontrolled_level_accurate.name = \"uncontrolled_level\"\n",
    "uncontrolled_charge_accurate.name = \"uncontrolled_charge\"        \n",
    "#ees_constraints_aggergated=late-early"
   ]
  },
  {
   "cell_type": "code",
   "execution_count": 111,
   "metadata": {},
   "outputs": [],
   "source": [
    "ees_constraints_aggergated = ees_constraints.iloc[:time_steps+1, :profiles].sum(1)\n",
    "level_index = ees_constraints_aggergated.index"
   ]
  },
  {
   "cell_type": "code",
   "execution_count": 59,
   "metadata": {},
   "outputs": [],
   "source": [
    "#aggregation\n",
    "naive_constraints_aggergated = pd.Series(data=sum(\n",
    "    car_properties_raw.loc[\"battery_capacity\"][ :profiles]), index=level_index) #all battery capicities\n",
    "aggregated_max_battery = car_properties_raw.loc[\"battery_capacity\"][ :profiles].sum()"
   ]
  },
  {
   "cell_type": "code",
   "execution_count": 117,
   "metadata": {},
   "outputs": [],
   "source": [
    "ees_constraints_02 = pd.read_pickle(\"short_ees_constraints_min02.pickle\")"
   ]
  },
  {
   "cell_type": "code",
   "execution_count": 130,
   "metadata": {},
   "outputs": [
    {
     "data": {
      "text/plain": [
       "<matplotlib.legend.Legend at 0x7fb7ffa225c0>"
      ]
     },
     "execution_count": 130,
     "metadata": {},
     "output_type": "execute_result"
    },
    {
     "data": {
      "image/png": "[encoded data removed]",
      "text/plain": [
       "<Figure size 432x288 with 1 Axes>"
      ]
     },
     "metadata": {
      "needs_background": "light"
     },
     "output_type": "display_data"
    }
   ],
   "source": [
    "pd.concat([ees_constraints_aggergated, ees_constraints_02.sum(1)], axis=1, keys=[\"SoCmin: 1%\",\"SoCmin: 2%\" ]).plot(ylabel=\"EES level min [kWh]\")\n",
    "plt.legend(bbox_to_anchor=(1, 1))"
   ]
  },
  {
   "cell_type": "code",
   "execution_count": 129,
   "metadata": {},
   "outputs": [
    {
     "data": {
      "text/plain": [
       "<AxesSubplot:>"
      ]
     },
     "execution_count": 129,
     "metadata": {},
     "output_type": "execute_result"
    },
    {
     "data": {
      "image/png": "[encoded data removed]",
      "text/plain": [
       "<Figure size 432x288 with 1 Axes>"
      ]
     },
     "metadata": {
      "needs_background": "light"
     },
     "output_type": "display_data"
    }
   ],
   "source": [
    "naive_constraints_aggergated.plot()"
   ]
  },
  {
   "cell_type": "code",
   "execution_count": 62,
   "metadata": {},
   "outputs": [],
   "source": [
    "consumption_aggregated =  pd.concat([\n",
    "    pd.Series(0, index=[index[0]-pd.Timedelta(pd.infer_freq(index))]), consumption_raw.loc[level_index[1:]].sum(1)\n",
    "              ], axis = 0)\n",
    "#plt.step(consumption_aggregated.iloc[1:].resample(\"h\").mean().index, consumption_aggregated.iloc[1:].resample(\"h\").sum())"
   ]
  },
  {
   "cell_type": "code",
   "execution_count": 63,
   "metadata": {},
   "outputs": [],
   "source": [
    "power_aggregated = pd.concat([\n",
    "    pd.Series(0, index=[index[0]-pd.Timedelta(pd.infer_freq(index))]), power_raw.loc[level_index[1:]].sum(1)\n",
    "              ], axis = 0)\n",
    "#plt.step(power_aggregated.iloc[1:].resample(\"4h\").sum().index, power_aggregated.iloc[1:].resample(\"4h\").mean())"
   ]
  },
  {
   "cell_type": "code",
   "execution_count": 64,
   "metadata": {},
   "outputs": [],
   "source": [
    "neg_power_aggregated = pd.concat([\n",
    "    pd.Series(0, index=[index[0]-pd.Timedelta(pd.infer_freq(index))]), neg_power_magnitude_raw.loc[level_index[1:]].sum(1)\n",
    "              ], axis = 0)\n",
    "#plt.step(neg_power_aggregated.iloc[1:].index, neg_power_aggregated.iloc[1:]) "
   ]
  },
  {
   "cell_type": "markdown",
   "metadata": {},
   "source": [
    "## Aggregated Optimization"
   ]
  },
  {
   "cell_type": "code",
   "execution_count": 65,
   "metadata": {},
   "outputs": [],
   "source": [
    "#!pip install pickle5"
   ]
  },
  {
   "cell_type": "code",
   "execution_count": 66,
   "metadata": {},
   "outputs": [],
   "source": [
    "import pickle5 as pickle"
   ]
  },
  {
   "cell_type": "code",
   "execution_count": 67,
   "metadata": {},
   "outputs": [],
   "source": [
    "#create random prices [cent / kWh] \n",
    "#prices = pd.Series(data=[random.uniform(0.2, 0.5) for t in level_index], index=level_index)\n",
    "#prices.resample(\"d\").mean().plot()\n",
    "\n",
    "with open(\"prices_2020\", \"rb\") as fh:\n",
    "    data = pickle.load(fh)"
   ]
  },
  {
   "cell_type": "code",
   "execution_count": 68,
   "metadata": {},
   "outputs": [],
   "source": [
    "prices = data\n",
    "\n",
    "prices = prices[prices.index >= \"2019-12-31 22:45:00+01:00\"]\n",
    "\n",
    "prices.index =  prices.index.map(\n",
    "    lambda x: pd.to_datetime(x.replace(tzinfo=None))\n",
    ")\n",
    "prices = prices[prices.index.drop_duplicates(keep=False)]\n",
    "prices = prices.reindex(consumption_aggregated.index, method = \"ffill\") \n",
    "prices = prices / (10**3) # €/MWh --> €/kWh"
   ]
  },
  {
   "cell_type": "code",
   "execution_count": 69,
   "metadata": {},
   "outputs": [
    {
     "data": {
      "text/plain": [
       "<AxesSubplot:ylabel='el. price [€/kWh]'>"
      ]
     },
     "execution_count": 69,
     "metadata": {},
     "output_type": "execute_result"
    },
    {
     "data": {
      "image/png": "[encoded data removed]",
      "text/plain": [
       "<Figure size 432x288 with 1 Axes>"
      ]
     },
     "metadata": {
      "needs_background": "light"
     },
     "output_type": "display_data"
    }
   ],
   "source": [
    "prices.plot(ylabel=\"el. price [€/kWh]\")"
   ]
  },
  {
   "cell_type": "markdown",
   "metadata": {},
   "source": [
    "Assumptions: \n",
    "\n",
    "- same price for (DIS)CHARGE\n",
    "- 𝑓𝑙𝑒𝑥𝑖𝑏𝑖𝑙𝑖𝑡𝑦 𝑟𝑒𝑣𝑒𝑛𝑢𝑒𝑠 = sum(ees_charging_costs)\n",
    "- controlled costs = uncontrolled_costs - 𝑙𝑒𝑥𝑖𝑏𝑖𝑙𝑖𝑡𝑦 𝑟𝑒𝑣𝑒𝑛𝑢𝑒𝑠 "
   ]
  },
  {
   "cell_type": "code",
   "execution_count": 70,
   "metadata": {},
   "outputs": [
    {
     "data": {
      "text/plain": [
       "314545.0"
      ]
     },
     "execution_count": 70,
     "metadata": {},
     "output_type": "execute_result"
    }
   ],
   "source": [
    "aggregated_max_battery"
   ]
  },
  {
   "cell_type": "code",
   "execution_count": 71,
   "metadata": {
    "scrolled": true
   },
   "outputs": [
    {
     "name": "stdout",
     "output_type": "stream",
     "text": [
      "GLPSOL--GLPK LP/MIP Solver 5.0\n",
      "Parameter(s) specified in the command line:\n",
      " --write /var/folders/xb/lfd6_z7178g_6zv_ygw5vd4m0000gp/T/tmpq4iuj2xn.glpk.raw\n",
      " --wglp /var/folders/xb/lfd6_z7178g_6zv_ygw5vd4m0000gp/T/tmp_p78b_8h.glpk.glp\n",
      " --cpxlp /var/folders/xb/lfd6_z7178g_6zv_ygw5vd4m0000gp/T/tmp354yjh02.pyomo.lp\n",
      "Reading problem data from '/var/folders/xb/lfd6_z7178g_6zv_ygw5vd4m0000gp/T/tmp354yjh02.pyomo.lp'...\n",
      "4039 rows, 2693 columns, 6730 non-zeros\n",
      "23566 lines were read\n",
      "Writing problem data to '/var/folders/xb/lfd6_z7178g_6zv_ygw5vd4m0000gp/T/tmp_p78b_8h.glpk.glp'...\n",
      "19523 lines were written\n",
      "GLPK Simplex Optimizer 5.0\n",
      "4039 rows, 2693 columns, 6730 non-zeros\n",
      "Preprocessing...\n",
      "672 rows, 1344 columns, 1344 non-zeros\n",
      "Scaling...\n",
      " A: min|aij| =  2.500e-01  max|aij| =  2.500e-01  ratio =  1.000e+00\n",
      "Problem data seem to be well scaled\n",
      "Constructing initial basis...\n",
      "Size of triangular part is 672\n",
      "*     0: obj =   0.000000000e+00 inf =   0.000e+00 (0)\n",
      "OPTIMAL LP SOLUTION FOUND\n",
      "Time used:   0.0 secs\n",
      "Memory used: 3.0 Mb (3187684 bytes)\n",
      "Writing basic solution to '/var/folders/xb/lfd6_z7178g_6zv_ygw5vd4m0000gp/T/tmpq4iuj2xn.glpk.raw'...\n",
      "6741 lines were written\n",
      "GLPSOL--GLPK LP/MIP Solver 5.0\n",
      "Parameter(s) specified in the command line:\n",
      " --write /var/folders/xb/lfd6_z7178g_6zv_ygw5vd4m0000gp/T/tmp2g8i5cky.glpk.raw\n",
      " --wglp /var/folders/xb/lfd6_z7178g_6zv_ygw5vd4m0000gp/T/tmp16izt958.glpk.glp\n",
      " --cpxlp /var/folders/xb/lfd6_z7178g_6zv_ygw5vd4m0000gp/T/tmpf_q0x1ho.pyomo.lp\n",
      "Reading problem data from '/var/folders/xb/lfd6_z7178g_6zv_ygw5vd4m0000gp/T/tmpf_q0x1ho.pyomo.lp'...\n",
      "3366 rows, 2020 columns, 5384 non-zeros\n",
      "18855 lines were read\n",
      "Writing problem data to '/var/folders/xb/lfd6_z7178g_6zv_ygw5vd4m0000gp/T/tmp16izt958.glpk.glp'...\n",
      "16140 lines were written\n",
      "GLPK Simplex Optimizer 5.0\n",
      "3366 rows, 2020 columns, 5384 non-zeros\n",
      "Preprocessing...\n",
      "PROBLEM HAS NO PRIMAL FEASIBLE SOLUTION\n",
      "If you need actual output for non-optimal solution, use --nopresol\n",
      "Time used:   0.0 secs\n",
      "Memory used: 1.9 Mb (1959732 bytes)\n",
      "Writing basic solution to '/var/folders/xb/lfd6_z7178g_6zv_ygw5vd4m0000gp/T/tmp2g8i5cky.glpk.raw'...\n",
      "5395 lines were written\n"
     ]
    }
   ],
   "source": [
    "agg_solutions = {}\n",
    "level_0_agg = car_properties_raw.loc[\"soc_init\"].sum() \n",
    "level_T_agg = car_properties_raw.loc[\"soc_end\"].sum()\n",
    "\n",
    "for model_type in [\"ees\", \"naive\"]:\n",
    "\n",
    "    #Initialize model\n",
    "    m_agg = pyo.ConcreteModel()\n",
    "\n",
    "    #initialize sets\n",
    "    m_agg.t = pyo.Set(initialize = ees_constraints_aggergated.index, ordered = True)\n",
    "\n",
    "    m_agg.consumption_aggregated = pyo.Param(m_agg.t, initialize=consumption_aggregated.to_dict())\n",
    "    m_agg.power = pyo.Param(m_agg.t, initialize=power_aggregated.to_dict()) \n",
    "    m_agg.neg_power = pyo.Param(m_agg.t, initialize=neg_power_aggregated.to_dict()) \n",
    "\n",
    "    m_agg.LEVEL = pyo.Var(m_agg.t, within = pyo.Reals)\n",
    "    m_agg.CHARGE = pyo.Var(m_agg.t, within = pyo.NonNegativeReals)\n",
    "    m_agg.DISCHARGE_PHYS = pyo.Var(m_agg.t, within = pyo.NonNegativeReals)\n",
    "    m_agg.DISCHARGE_WAIT = pyo.Var(m_agg.t, within = pyo.NonNegativeReals)\n",
    "\n",
    "    if model_type == \"ees\":\n",
    "        m_agg.ees_min = pyo.Param(m_agg.t, initialize=ees_constraints_aggergated.to_dict()) \n",
    "       \n",
    "\n",
    "    #recursive level\n",
    "        def recursive_level(m, t):\n",
    "            if t == level_index[0]:\n",
    "                return m_agg.LEVEL[t] == (m_agg.CHARGE[t] - m_agg.DISCHARGE_WAIT[t] - m_agg.DISCHARGE_PHYS[t])*step_duration   \n",
    "            else:\n",
    "                return m_agg.LEVEL[t] == m_agg.LEVEL[pd.Timestamp(t) - \n",
    "                                                 pd.Timedelta(pd.infer_freq(index))] + (\n",
    "                    m_agg.CHARGE[t] - m_agg.DISCHARGE_WAIT[t] - m_agg.DISCHARGE_PHYS[t]) * step_duration   \n",
    "    else:\n",
    "        def recursive_level(m, t):\n",
    "            if t == level_index[0]: \n",
    "                return m_agg.LEVEL[t] == level_0_agg + (m_agg.CHARGE[t]- m_agg.consumption_aggregated[t] - m_agg.DISCHARGE_PHYS[t] )*step_duration   \n",
    "            else:\n",
    "                return m_agg.LEVEL[t] == m_agg.LEVEL[pd.Timestamp(t) - \n",
    "                                                 pd.Timedelta(pd.infer_freq(index))] + (\n",
    "                    m_agg.CHARGE[t] - m_agg.consumption_aggregated[t] - m_agg.DISCHARGE_PHYS[t]) * step_duration   \n",
    "    m_agg.Recursive_level = pyo.Constraint(m_agg.t, rule = recursive_level)\n",
    "\n",
    "    def level_constraint(m, t):\n",
    "        if model_type==\"ees\":\n",
    "            return m_agg.LEVEL[t] >= m_agg.ees_min[t] \n",
    "        else:\n",
    "            return m_agg.LEVEL[t] <= aggregated_max_battery\n",
    "    m_agg.Level_constraint = pyo.Constraint(m_agg.t, rule=level_constraint)\n",
    "    \n",
    "    def level_constraint_2(m, t):\n",
    "        if model_type==\"ees\":\n",
    "            return m_agg.LEVEL[t] <= 0\n",
    "        else:\n",
    "            return m_agg.LEVEL[t] >= soc_min*aggregated_max_battery\n",
    "    m_agg.Level_constraint_2 = pyo.Constraint(m_agg.t, rule=level_constraint_2)\n",
    "    \n",
    "    def power_charge_max(m, t):\n",
    "        return m_agg.CHARGE[t] <= m_agg.power[t]   \n",
    "    m_agg.Power_charge_max = pyo.Constraint(m_agg.t, rule=power_charge_max)\n",
    "\n",
    "    if model_type == \"ees\":\n",
    "        def power_discharge_consumption_max(m, t):\n",
    "            return m_agg.DISCHARGE_WAIT[t] <= m_agg.power[t]     \n",
    "        m_agg.Power_discharge_consumption_max = pyo.Constraint(m_agg.t, rule=power_discharge_consumption_max)\n",
    "    \n",
    "    def power_discharge_phys_max(m, t):\n",
    "        return m_agg.DISCHARGE_PHYS[t] <= m_agg.neg_power[t] \n",
    "    m_agg.Power_discharge_phys_max = pyo.Constraint(m_agg.t, rule=power_discharge_phys_max)\n",
    "\n",
    "    # objective function\n",
    "    if model_type == \"ees\":\n",
    "        def min_ees_costs(m): \n",
    "            return sum(\n",
    "                (m_agg.CHARGE[t]-m_agg.DISCHARGE_WAIT[t]-m_agg.DISCHARGE_PHYS[t]\n",
    "                ) * prices[t] *step_duration \n",
    "                for t in m.t\n",
    "            ) \n",
    "        m_agg.Obj_min_ees_costs = pyo.Objective(rule=min_ees_costs, sense=pyo.minimize)\n",
    "    else:\n",
    "        def min_naive_costs(m): \n",
    "            return sum(\n",
    "                (m_agg.CHARGE[t]-m_agg.DISCHARGE_PHYS[t]) * prices[t] *step_duration \n",
    "                for t in m.t\n",
    "            ) \n",
    "        m_agg.Obj_min_naive_costs = pyo.Objective(rule=min_naive_costs, sense=pyo.minimize)\n",
    "        \n",
    "    #find solver\n",
    "    solvername='glpk'\n",
    "\n",
    "    #prepare solver\n",
    "    optimizer = opt.SolverFactory(solvername) \n",
    "    solved_model = optimizer.solve(m_agg, tee=True)        \n",
    "    \n",
    "    agg_solutions[model_type] = {}\n",
    "    agg_solutions[model_type][\"costs\"] = solved_model['Problem']()['Lower bound']\n",
    "    agg_solutions[model_type][\"CHARGE\"] = pd.DataFrame.from_dict(m_agg.CHARGE.extract_values(), orient='index', columns = [model_type])\n",
    "    if model_type == \"ees\":\n",
    "        agg_solutions[model_type][\"DISCHARGE\"] = pd.DataFrame.from_dict(m_agg.DISCHARGE_WAIT.extract_values(), orient='index', columns = [model_type]) + pd.DataFrame.from_dict(m_agg.DISCHARGE_PHYS.extract_values(), orient='index', columns = [model_type])\n",
    "    else:\n",
    "        agg_solutions[model_type][\"DISCHARGE\"] = pd.DataFrame.from_dict(m_agg.DISCHARGE_PHYS.extract_values(), orient='index', columns = [model_type])\n",
    "    agg_solutions[model_type][\"LEVEL\"] = pd.DataFrame.from_dict(m_agg.LEVEL.extract_values(), orient='index', columns = [model_type])"
   ]
  },
  {
   "cell_type": "code",
   "execution_count": 72,
   "metadata": {},
   "outputs": [],
   "source": [
    "def plot_aggregated_results(model_type):\n",
    "    obversvations = 100#len(ees_constraints_aggergated)\n",
    "    x = level_index[10:obversvations]\n",
    "    fig, ax = plt.subplots(3)\n",
    "    ax[0].step(x, \n",
    "               pyo.value(agg_solutions[model_type][\"CHARGE\"].values[10:obversvations]), where=\"pre\")\n",
    "    ax[0].set_title(\"{}_charging\".format(model_type))\n",
    "    \n",
    "    \n",
    "    ax[1].step(x, \n",
    "               pyo.value(agg_solutions[model_type][\"DISCHARGE\"].values[10:obversvations]), where=\"pre\")\n",
    "    ax[1].set_title(\"{}_discharging\".format(model_type))\n",
    "    \n",
    "    \n",
    "    ax[2].plot(x, \n",
    "               pyo.value(agg_solutions[model_type][\"LEVEL\"].values[10:obversvations]))\n",
    "    ax[2].set_title(\"{}_level\".format(model_type))\n",
    "    ax[2].set_ylabel(\"kWh\")\n",
    "    \n",
    "    \n",
    "    for i in range(0,2):\n",
    "        ax[i].set_ylabel(\"kWh/15min\")\n",
    "        ax[i].set_xticks(pd.date_range(x[0], x[-1], freq=\"D\"))\n",
    "        #plt.set_xticklabels(rotation= 45)\n",
    "        plt.xticks(rotation= 45)\n",
    "    fig.autofmt_xdate(rotation=45)\n",
    "\n",
    "\n",
    "    plt.tight_layout()\n",
    "    plt.show()"
   ]
  },
  {
   "cell_type": "markdown",
   "metadata": {},
   "source": [
    "# Analysis"
   ]
  },
  {
   "cell_type": "code",
   "execution_count": 73,
   "metadata": {},
   "outputs": [],
   "source": [
    "agg_overest_solutions = {}\n",
    "\n",
    "for model_type in [\"m_early_agg\", \"m_late_agg\"]:\n",
    "    #Initialize model\n",
    "    m_agg = pyo.ConcreteModel()\n",
    "\n",
    "    #initialize sets\n",
    "    m_agg.t = pyo.Set(initialize = ees_constraints_aggergated.index, ordered = True)\n",
    "\n",
    "    m_agg.consumption_aggregated = pyo.Param(m_agg.t, initialize=consumption_aggregated.to_dict())\n",
    "    m_agg.power = pyo.Param(m_agg.t, initialize=power_aggregated.to_dict()) \n",
    "    m_agg.neg_power = pyo.Param(m_agg.t, initialize=neg_power_aggregated.to_dict()) \n",
    "\n",
    "    m_agg.LEVEL = pyo.Var(m_agg.t, within = pyo.NonNegativeReals, bounds=(\n",
    "        soc_min*aggregated_max_battery, aggregated_max_battery))\n",
    "    m_agg.CHARGE = pyo.Var(m_agg.t, within = pyo.NonNegativeReals)\n",
    "    m_agg.DISCHARGE = pyo.Var(m_agg.t, within = pyo.NonNegativeReals)\n",
    "\n",
    "    #level constraints\n",
    "    def recursive_level(m_agg, t):\n",
    "        if t == level_index[0]:\n",
    "            return m_agg.LEVEL[t] == level_0_agg + m_agg.CHARGE[t] - m_agg.consumption_aggregated[t]\n",
    "        else:    \n",
    "            return m_agg.LEVEL[t] == m_agg.LEVEL[pd.Timestamp(t) - \n",
    "                                             pd.Timedelta(pd.infer_freq(level_index))] + (\n",
    "                m_agg.CHARGE[t] - m_agg.consumption_aggregated[t] - m_agg.DISCHARGE[t] )\n",
    "    m_agg.Recursive_level = pyo.Constraint(m_agg.t, rule = recursive_level)\n",
    "\n",
    "    #bidirectional charging \n",
    "    def neg_power_min(m, t):\n",
    "        return m.DISCHARGE[t] <= m.neg_power[t]\n",
    "    m_agg.Neg_power_min_restriction = pyo.Constraint(m_agg.t, rule=neg_power_min)\n",
    "\n",
    "    def power_max(m, t):\n",
    "        return m.CHARGE[t] <= m.power[t]   \n",
    "    m_agg.Power_max_restriction = pyo.Constraint(m_agg.t, rule=power_max)\n",
    "    \n",
    "    def final_level(m_agg, t):\n",
    "        if t == index[-1]:\n",
    "            return m_agg.LEVEL[t] == level_T_agg\n",
    "        else: \n",
    "            return pyo.Constraint.Skip\n",
    "    m_agg.Final_level = pyo.Constraint(m_agg.t, rule=final_level)\n",
    "\n",
    "    # objective function late\n",
    "    def battery_level_sum(m_agg, t): \n",
    "        return sum(m_agg.LEVEL[t] for t in m_agg.t) \n",
    "    if model_type == \"m_late_agg\":\n",
    "        sense = pyo.minimize\n",
    "    elif model_type == \"m_early_agg\":\n",
    "        sense = pyo.maximize     \n",
    "    m_agg.Obj = pyo.Objective(rule=battery_level_sum, sense=sense)\n",
    "\n",
    "    #find solver\n",
    "    solvername='glpk'\n",
    "\n",
    "    #prepare solver\n",
    "    optimizer = opt.SolverFactory(solvername) \n",
    "    solved_model = optimizer.solve(m_agg)        \n",
    "\n",
    "    #store data in dictionary\n",
    "    agg_overest_solutions[model_type] = pd.DataFrame.from_dict(\n",
    "        m_agg.LEVEL.extract_values(), orient='index')[0]"
   ]
  },
  {
   "cell_type": "code",
   "execution_count": 77,
   "metadata": {},
   "outputs": [
    {
     "name": "stdout",
     "output_type": "stream",
     "text": [
      "potential overestimation factor: nan : nan %\n"
     ]
    },
    {
     "name": "stderr",
     "output_type": "stream",
     "text": [
      "/Users/Jarusch/opt/anaconda3/envs/emobpyenv/lib/python3.6/site-packages/ipykernel_launcher.py:7: RuntimeWarning: invalid value encountered in double_scalars\n",
      "  import sys\n",
      "/Users/Jarusch/opt/anaconda3/envs/emobpyenv/lib/python3.6/site-packages/ipykernel_launcher.py:14: RuntimeWarning: invalid value encountered in double_scalars\n",
      "  \n"
     ]
    }
   ],
   "source": [
    "#overestimation in kWh how much could be shifted from uncontrolled charging?\n",
    "overestimation_dict = {}\n",
    "\n",
    "overestimation = 1 + (\n",
    "    (agg_overest_solutions[\"m_late_agg\"] - agg_overest_solutions[\"m_early_agg\"]).sum()\n",
    "    - ees_constraints_aggergated.sum()\n",
    ") / ees_constraints_aggergated.sum()\n",
    "\n",
    "print(\n",
    "    \"potential overestimation factor: \" + str(\n",
    "        overestimation) + \" : \" + str((\n",
    "    (agg_overest_solutions[\"m_late_agg\"] - agg_overest_solutions[\"m_early_agg\"]).sum()\n",
    "    - ees_constraints_aggergated.sum()\n",
    ") / ees_constraints_aggergated.sum()*100) + \" %\"\n",
    ")\n",
    "                                                  \n",
    "overestimation_dict[f'profiles: {profiles}, steps: {time_steps}'] =  overestimation "
   ]
  },
  {
   "cell_type": "code",
   "execution_count": null,
   "metadata": {},
   "outputs": [],
   "source": [
    "#df = pd.DataFrame().from_dict(overestimation_dict, orient=\"index\")\n",
    "df_profiles = df.iloc[:7]\n",
    "df_profiles.index = [int(\n",
    "    i.split(\":\")[1].split(\",\")[0]\n",
    ")\n",
    " for i in df_profiles.index]\n",
    "\n",
    "df_profiles.to_pickle(\"profiles_overestimation\")\n",
    "df_profiles.plot()\n",
    "plt.legend([\"time_steps: 673\"])\n",
    "\n",
    "df_time_steps = df.iloc[7:]\n",
    "df_time_steps.index = [int(\n",
    "    i.split(\",\")[1].split(\":\")[1]\n",
    ")\n",
    " for i in df_time_steps.index]\n",
    "\n",
    "df_time_steps.to_pickle(\"time_step_overestimation\")\n",
    "df_time_steps.plot()\n",
    "plt.legend([\"profiles: 3311\"])"
   ]
  },
  {
   "cell_type": "code",
   "execution_count": null,
   "metadata": {},
   "outputs": [],
   "source": [
    "pd.concat([\n",
    "    ees_constraints_aggergated, (agg_overest_solutions[\"m_early_agg\"] - agg_overest_solutions[\"m_late_agg\"])\n",
    "], keys = [\"ees\", \"naive\"],axis=1).iloc[:400].plot(ylabel=\"(virtual) aggregated level [kWh]\")\n",
    "\n",
    "plt.hlines(0, level_index[0], level_index[-1], \"black\")"
   ]
  },
  {
   "cell_type": "code",
   "execution_count": null,
   "metadata": {},
   "outputs": [],
   "source": [
    "plt.bar([\"naive\", \"ees\"], [\n",
    "    (agg_overest_solutions[\"m_early_agg\"] - agg_overest_solutions[\"m_late_agg\"]).sum(),\n",
    "    -ees_constraints_aggergated.sum()\n",
    "])\n",
    "plt.ylabel(\"solution space size [kWh]\")"
   ]
  },
  {
   "cell_type": "code",
   "execution_count": null,
   "metadata": {
    "scrolled": false
   },
   "outputs": [],
   "source": [
    "#controlled charging (physical) = uncontrolled charging - ees_dis + ee_scharging\n",
    "retransformed_ees_level = pd.concat([\n",
    "    uncontrolled_level_accurate, agg_solutions[\"ees\"][\"LEVEL\"]\n",
    "], axis=1).sum(1)\n",
    "retransformed_ees_level.name = \"retransformed_ees\"\n",
    "\n",
    "pd.concat([\n",
    "    retransformed_ees_level, agg_solutions[\"naive\"][\"LEVEL\"]\n",
    "], axis=1).iloc[:400].plot(ylabel=\"aggregated level [kWh]\", ylim=0)\n",
    "\n",
    "\n",
    "plt.legend(bbox_to_anchor=(1.0, 1.0))"
   ]
  },
  {
   "cell_type": "code",
   "execution_count": null,
   "metadata": {},
   "outputs": [],
   "source": [
    "#controlled charging (physical) = uncontrolled charging - ees_dis + ee_scharging\n",
    "retransformed_ees_charge = pd.concat([\n",
    "    uncontrolled_charge_accurate.loc[level_index[1:]], agg_solutions[\"ees\"][\"CHARGE\"], - agg_solutions[\"ees\"][\"DISCHARGE\"]\n",
    "], axis=1).sum(1)\n",
    "\n",
    "naive_dis_charge = pd.concat([\n",
    "    agg_solutions[\"naive\"][\"CHARGE\"], - agg_solutions[\"naive\"][\"DISCHARGE\"]\n",
    "], axis=1).sum(1)\n",
    "\n",
    "retransformed_ees_charge.name, naive_dis_charge.name = \"retransformed_ees\", \"naive\"\n",
    "\n",
    "pd.concat([\n",
    "    uncontrolled_charge_accurate, retransformed_ees_charge, naive_dis_charge\n",
    "], axis=1).iloc[90:200].plot(ylabel=\"charging [kWh/15 min]\", ylim=(0, 35000))\n",
    "plt.legend(bbox_to_anchor=(1.0, 1.0))"
   ]
  },
  {
   "cell_type": "code",
   "execution_count": null,
   "metadata": {},
   "outputs": [],
   "source": [
    "pd.concat([\n",
    "    uncontrolled_charge_accurate, retransformed_ees_charge, naive_dis_charge\n",
    "], axis=1).sum(0)"
   ]
  },
  {
   "cell_type": "code",
   "execution_count": null,
   "metadata": {},
   "outputs": [],
   "source": [
    "plot_aggregated_results(\"ees\")\n",
    "plot_aggregated_results(\"naive\")"
   ]
  },
  {
   "cell_type": "markdown",
   "metadata": {},
   "source": [
    "## Cost"
   ]
  },
  {
   "cell_type": "code",
   "execution_count": null,
   "metadata": {},
   "outputs": [],
   "source": [
    "uncontrolled_costs = sum([\n",
    "    uncontrolled_charge_accurate[i] * prices[i] for i in index\n",
    "])\n",
    "controlled_costs_ees = sum([\n",
    "    retransformed_ees_charge[i] * prices[i] for i in index\n",
    "])\n",
    "controlled_costs_naive = sum([\n",
    "    naive_dis_charge[i] * prices[i] for i in index\n",
    "])"
   ]
  },
  {
   "cell_type": "code",
   "execution_count": null,
   "metadata": {},
   "outputs": [],
   "source": [
    "#costs\n",
    "plt.bar(x = [\"uncontrolled\", \"controlled_ees\", \"controlled_naive\"],  height=[\n",
    "    uncontrolled_costs, controlled_costs_ees, controlled_costs_naive\n",
    "])\n",
    "plt.ylabel(\"costs for charging [€/year]\")\n",
    "plt.show()"
   ]
  },
  {
   "cell_type": "code",
   "execution_count": null,
   "metadata": {},
   "outputs": [],
   "source": [
    "#overestimation in % €\n",
    "(controlled_costs_ees + controlled_costs_naive) / (-controlled_costs_naive)"
   ]
  },
  {
   "cell_type": "code",
   "execution_count": null,
   "metadata": {},
   "outputs": [],
   "source": []
  }
 ],
 "metadata": {
  "kernelspec": {
   "display_name": "Python 3 (ipykernel)",
   "language": "python",
   "name": "python3"
  },
  "language_info": {
   "codemirror_mode": {
    "name": "ipython",
    "version": 3
   },
   "file_extension": ".py",
   "mimetype": "text/x-python",
   "name": "python",
   "nbconvert_exporter": "python",
   "pygments_lexer": "ipython3",
   "version": "3.7.12"
  }
 },
 "nbformat": 4,
 "nbformat_minor": 4
}
