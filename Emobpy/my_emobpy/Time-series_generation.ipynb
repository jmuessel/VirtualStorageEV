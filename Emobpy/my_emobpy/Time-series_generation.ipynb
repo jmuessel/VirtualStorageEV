{
 "cells": [
  {
   "cell_type": "code",
   "execution_count": 1,
   "id": "f746b88a",
   "metadata": {},
   "outputs": [],
   "source": [
    "# Initialize seed\n",
    "from emobpy.tools import set_seed\n",
    "set_seed()"
   ]
  },
  {
   "cell_type": "markdown",
   "id": "0f15eb6b",
   "metadata": {},
   "source": [
    "------------------------------------------------\n",
    "## Step 1: Vehicle mobility time series\n",
    "------------------------------------------------\n",
    "a) generation of a time series\n",
    "\n",
    "------------------------------------------------"
   ]
  },
  {
   "cell_type": "code",
   "execution_count": 5,
   "id": "bd88ef41",
   "metadata": {
    "pycharm": {
     "is_executing": true
    }
   },
   "outputs": [],
   "source": [
    "from emobpy import Mobility"
   ]
  },
  {
   "cell_type": "code",
   "execution_count": 6,
   "id": "20e3d675",
   "metadata": {
    "pycharm": {
     "is_executing": true
    }
   },
   "outputs": [],
   "source": [
    "m = Mobility(config_folder='config_files')"
   ]
  },
  {
   "cell_type": "code",
   "execution_count": 27,
   "id": "5b25f22f",
   "metadata": {
    "pycharm": {
     "is_executing": true
    }
   },
   "outputs": [],
   "source": [
    "m.set_params(\n",
    "             name_prefix=\"BEV1\",\n",
    "             total_hours=200, # one week\n",
    "             time_step_in_hrs=0.5, # 15 minutes\n",
    "             category=\"user_defined\",\n",
    "             reference_date=\"01/01/2020\"\n",
    "            )"
   ]
  },
  {
   "cell_type": "code",
   "execution_count": 28,
   "id": "bb5879ae",
   "metadata": {
    "pycharm": {
     "is_executing": true
    }
   },
   "outputs": [],
   "source": [
    "m.set_stats(\n",
    "            stat_ntrip_path=\"TripsPerDay.csv\",\n",
    "            stat_dest_path=\"DepartureDestinationTrip.csv\",\n",
    "            stat_km_duration_path=\"DistanceDurationTrip.csv\",\n",
    "            )"
   ]
  },
  {
   "cell_type": "code",
   "execution_count": 29,
   "id": "b206f29a",
   "metadata": {
    "pycharm": {
     "is_executing": true
    }
   },
   "outputs": [],
   "source": [
    "m.set_rules(rule_key=\"user_defined\") # see /config_files/rules.yml, it contains a dictionary\n",
    "                                     # whose key must be the same as rule_key. \n",
    "                                     # To see all possible rules `from emobpy.constants import RULE; RULE` "
   ]
  },
  {
   "cell_type": "code",
   "execution_count": 30,
   "id": "b401dafd",
   "metadata": {
    "pycharm": {
     "is_executing": true
    }
   },
   "outputs": [
    {
     "name": "stdout",
     "output_type": "stream",
     "text": [
      "New profile running: BEV1_W2_82968\n",
      "Progress: 87% [7 / 8] days"
     ]
    },
    {
     "name": "stderr",
     "output_type": "stream",
     "text": [
      "C:\\Users\\j.muessel\\Miniconda3\\envs\\pyenv\\lib\\site-packages\\emobpy\\mobility.py:1187: FutureWarning: The frame.append method is deprecated and will be removed from pandas in a future version. Use pandas.concat instead.\n",
      "  self.logdf = self.logdf.append(\n"
     ]
    },
    {
     "name": "stdout",
     "output_type": "stream",
     "text": [
      "Progress: 100% [8 / 8] days\n",
      "Profile done: BEV1_W2_82968\n",
      "Elapsed time (min): 0.4\n"
     ]
    }
   ],
   "source": [
    "m.run()"
   ]
  },
  {
   "cell_type": "code",
   "execution_count": 31,
   "id": "607d300d",
   "metadata": {
    "pycharm": {
     "is_executing": true
    }
   },
   "outputs": [
    {
     "name": "stdout",
     "output_type": "stream",
     "text": [
      " \n",
      "See Log files\n",
      "C:\\Users\\j.muessel\\Documents\\GitHub\\EES\\Emobpy\\my_emobpy\\log\\emobpy.log\n"
     ]
    }
   ],
   "source": [
    "m.save_profile(folder=\"db\", description='168 hrs 15 min step ref-date 01/01/2020')"
   ]
  },
  {
   "cell_type": "code",
   "execution_count": 32,
   "id": "c95553a5",
   "metadata": {},
   "outputs": [],
   "source": [
    "#c.timeseries[c.timeseries.state != \"home\"] "
   ]
  },
  {
   "cell_type": "code",
   "execution_count": 33,
   "id": "ebb99d3f",
   "metadata": {},
   "outputs": [],
   "source": [
    "#c.profile[['consumption kWh/100 km', 'consumption kWh', 'battery discharge kWh']]"
   ]
  },
  {
   "cell_type": "code",
   "execution_count": 34,
   "id": "32425b4a",
   "metadata": {},
   "outputs": [],
   "source": [
    "#ga.timeseries"
   ]
  },
  {
   "cell_type": "code",
   "execution_count": 35,
   "id": "52a6f6d9",
   "metadata": {},
   "outputs": [],
   "source": [
    "#ga.profile"
   ]
  },
  {
   "cell_type": "markdown",
   "id": "07251511",
   "metadata": {},
   "source": [
    "-------------------------\n",
    "b) See some attributes\n",
    "\n",
    "-------------------------"
   ]
  },
  {
   "cell_type": "code",
   "execution_count": 36,
   "id": "016eb68c",
   "metadata": {
    "pycharm": {
     "is_executing": true
    }
   },
   "outputs": [
    {
     "data": {
      "text/plain": [
       "'driving'"
      ]
     },
     "execution_count": 36,
     "metadata": {},
     "output_type": "execute_result"
    }
   ],
   "source": [
    "m.kind"
   ]
  },
  {
   "cell_type": "code",
   "execution_count": 37,
   "id": "e327b3d4",
   "metadata": {
    "pycharm": {
     "is_executing": true
    }
   },
   "outputs": [
    {
     "data": {
      "text/plain": [
       "19292.0"
      ]
     },
     "execution_count": 37,
     "metadata": {},
     "output_type": "execute_result"
    }
   ],
   "source": [
    "m.timeseries.distance.sum()*52"
   ]
  },
  {
   "cell_type": "code",
   "execution_count": 38,
   "id": "90e1dbd0",
   "metadata": {
    "pycharm": {
     "is_executing": true
    }
   },
   "outputs": [
    {
     "data": {
      "text/html": [
       "<div>\n",
       "<style scoped>\n",
       "    .dataframe tbody tr th:only-of-type {\n",
       "        vertical-align: middle;\n",
       "    }\n",
       "\n",
       "    .dataframe tbody tr th {\n",
       "        vertical-align: top;\n",
       "    }\n",
       "\n",
       "    .dataframe thead th {\n",
       "        text-align: right;\n",
       "    }\n",
       "</style>\n",
       "<table border=\"1\" class=\"dataframe\">\n",
       "  <thead>\n",
       "    <tr style=\"text-align: right;\">\n",
       "      <th></th>\n",
       "      <th>hr</th>\n",
       "      <th>state</th>\n",
       "      <th>departure</th>\n",
       "      <th>arrival</th>\n",
       "      <th>last_arrival</th>\n",
       "      <th>purpose</th>\n",
       "      <th>duration</th>\n",
       "      <th>weekday</th>\n",
       "      <th>category</th>\n",
       "      <th>distance</th>\n",
       "      <th>trip_duration</th>\n",
       "    </tr>\n",
       "  </thead>\n",
       "  <tbody>\n",
       "    <tr>\n",
       "      <th>5.5</th>\n",
       "      <td>5.5</td>\n",
       "      <td>home</td>\n",
       "      <td>6.0</td>\n",
       "      <td>7.0</td>\n",
       "      <td>-3.0</td>\n",
       "      <td>escort</td>\n",
       "      <td>9.0</td>\n",
       "      <td>Wednesday</td>\n",
       "      <td>user_defined</td>\n",
       "      <td>0.0</td>\n",
       "      <td>0.0</td>\n",
       "    </tr>\n",
       "    <tr>\n",
       "      <th>6.5</th>\n",
       "      <td>6.5</td>\n",
       "      <td>driving</td>\n",
       "      <td>NaN</td>\n",
       "      <td>NaN</td>\n",
       "      <td>NaN</td>\n",
       "      <td>NaN</td>\n",
       "      <td>NaN</td>\n",
       "      <td>NaN</td>\n",
       "      <td>NaN</td>\n",
       "      <td>20.0</td>\n",
       "      <td>45.0</td>\n",
       "    </tr>\n",
       "    <tr>\n",
       "      <th>9.0</th>\n",
       "      <td>9.0</td>\n",
       "      <td>escort</td>\n",
       "      <td>9.5</td>\n",
       "      <td>10.5</td>\n",
       "      <td>7.0</td>\n",
       "      <td>errands</td>\n",
       "      <td>2.5</td>\n",
       "      <td>Wednesday</td>\n",
       "      <td>user_defined</td>\n",
       "      <td>0.0</td>\n",
       "      <td>0.0</td>\n",
       "    </tr>\n",
       "    <tr>\n",
       "      <th>10.0</th>\n",
       "      <td>10.0</td>\n",
       "      <td>driving</td>\n",
       "      <td>NaN</td>\n",
       "      <td>NaN</td>\n",
       "      <td>NaN</td>\n",
       "      <td>NaN</td>\n",
       "      <td>NaN</td>\n",
       "      <td>NaN</td>\n",
       "      <td>NaN</td>\n",
       "      <td>19.0</td>\n",
       "      <td>43.5</td>\n",
       "    </tr>\n",
       "    <tr>\n",
       "      <th>10.5</th>\n",
       "      <td>10.5</td>\n",
       "      <td>errands</td>\n",
       "      <td>11.0</td>\n",
       "      <td>11.5</td>\n",
       "      <td>10.5</td>\n",
       "      <td>leisure</td>\n",
       "      <td>0.5</td>\n",
       "      <td>Wednesday</td>\n",
       "      <td>user_defined</td>\n",
       "      <td>0.0</td>\n",
       "      <td>0.0</td>\n",
       "    </tr>\n",
       "  </tbody>\n",
       "</table>\n",
       "</div>"
      ],
      "text/plain": [
       "        hr    state  departure  arrival  last_arrival  purpose  duration  \\\n",
       "5.5    5.5     home        6.0      7.0          -3.0   escort       9.0   \n",
       "6.5    6.5  driving        NaN      NaN           NaN      NaN       NaN   \n",
       "9.0    9.0   escort        9.5     10.5           7.0  errands       2.5   \n",
       "10.0  10.0  driving        NaN      NaN           NaN      NaN       NaN   \n",
       "10.5  10.5  errands       11.0     11.5          10.5  leisure       0.5   \n",
       "\n",
       "        weekday      category  distance  trip_duration  \n",
       "5.5   Wednesday  user_defined       0.0            0.0  \n",
       "6.5         NaN           NaN      20.0           45.0  \n",
       "9.0   Wednesday  user_defined       0.0            0.0  \n",
       "10.0        NaN           NaN      19.0           43.5  \n",
       "10.5  Wednesday  user_defined       0.0            0.0  "
      ]
     },
     "execution_count": 38,
     "metadata": {},
     "output_type": "execute_result"
    }
   ],
   "source": [
    "m.profile.head()"
   ]
  },
  {
   "cell_type": "markdown",
   "id": "d055cfd4",
   "metadata": {},
   "source": [
    "-------------------------------\n",
    "c) Profiles management\n",
    "\n",
    "-------------------------------"
   ]
  },
  {
   "cell_type": "code",
   "execution_count": 39,
   "id": "3edb19da",
   "metadata": {
    "pycharm": {
     "is_executing": true
    }
   },
   "outputs": [],
   "source": [
    "from emobpy import DataBase"
   ]
  },
  {
   "cell_type": "code",
   "execution_count": 40,
   "id": "ac997d62",
   "metadata": {
    "pycharm": {
     "is_executing": true
    }
   },
   "outputs": [],
   "source": [
    "DB = DataBase('db')"
   ]
  },
  {
   "cell_type": "code",
   "execution_count": 41,
   "id": "ddae0431",
   "metadata": {
    "pycharm": {
     "is_executing": true
    }
   },
   "outputs": [],
   "source": [
    "DB.loadfiles()"
   ]
  },
  {
   "cell_type": "code",
   "execution_count": 42,
   "id": "6293450b",
   "metadata": {
    "pycharm": {
     "is_executing": true
    }
   },
   "outputs": [
    {
     "data": {
      "text/plain": [
       "dict_keys(['BEV1_W53_b8978_Volkswagen_ID.3_2020_a2e19_avai_881bb_immediate_f140f', 'BEV1_W53_b8978_Volkswagen_ID.3_2020_a2e19_avai_881bb_balanced_39d3c', 'BEV1_W53_7e00d_Volkswagen_ID.3_2020_a5d22_avai_9832d_immediate_5552d', 'BEV1_W2_82968', 'BEV1_W53_b8978_Volkswagen_ID.3_2020_a2e19', 'BEV1_W53_7e00d', 'BEV1_W53_7e00d_Volkswagen_ID.3_2020_a5d22_avai_9832d_from_23_to_8_at_any_61df1', 'BEV1_W53_7e00d_Volkswagen_ID.3_2020_a5d22', 'BEV1_W53_7e00d_Volkswagen_ID.3_2020_a5d22_avai_9832d_balanced_0faf7', 'BEV1_W53_7e00d_Volkswagen_ID.3_2020_a5d22_avai_9832d_from_0_to_24_at_home_56e1b', 'BEV1_W53_b8978', 'BEV1_W53_b8978_Volkswagen_ID.3_2020_a2e19_avai_881bb', 'BEV1_W53_b8978_Volkswagen_ID.3_2020_a2e19_avai_881bb_from_0_to_24_at_home_0ea79_FAIL', 'BEV1_W53_b8978_Volkswagen_ID.3_2020_a2e19_avai_881bb_from_23_to_8_at_any_83dee_FAIL', 'BEV1_W53_7e00d_Volkswagen_ID.3_2020_a5d22_avai_9832d'])"
      ]
     },
     "execution_count": 42,
     "metadata": {},
     "output_type": "execute_result"
    }
   ],
   "source": [
    "DB.db.keys()"
   ]
  },
  {
   "cell_type": "code",
   "execution_count": 43,
   "id": "2f93dea8",
   "metadata": {
    "pycharm": {
     "is_executing": true
    }
   },
   "outputs": [
    {
     "data": {
      "text/plain": [
       "{'weekday': {'n_trip_out': [1],\n",
       "  'last_trip_to': {'home': True},\n",
       "  'overall_min_time_at': {'home': 9},\n",
       "  'min_state_duration': {'home': 0.25,\n",
       "   'errands': 0.25,\n",
       "   'escort': 0.25,\n",
       "   'shopping': 0.25,\n",
       "   'leisure': 0.25}},\n",
       " 'weekend': {'n_trip_out': [1],\n",
       "  'last_trip_to': {'home': True},\n",
       "  'overall_min_time_at': {'home': 6},\n",
       "  'min_state_duration': {'home': 0.25,\n",
       "   'errands': 0.25,\n",
       "   'escort': 0.25,\n",
       "   'shopping': 0.25,\n",
       "   'leisure': 0.25}}}"
      ]
     },
     "execution_count": 43,
     "metadata": {},
     "output_type": "execute_result"
    }
   ],
   "source": [
    "DB.db[m.name]['user_rules']"
   ]
  },
  {
   "cell_type": "code",
   "execution_count": 44,
   "id": "e7db717d",
   "metadata": {
    "pycharm": {
     "is_executing": true
    }
   },
   "outputs": [
    {
     "data": {
      "text/plain": [
       "'driving'"
      ]
     },
     "execution_count": 44,
     "metadata": {},
     "output_type": "execute_result"
    }
   ],
   "source": [
    "DB.db[m.name]['kind']"
   ]
  },
  {
   "cell_type": "markdown",
   "id": "703ea714",
   "metadata": {},
   "source": [
    "-------------------------\n",
    "d) Visualization\n",
    "\n",
    "-------------------------"
   ]
  },
  {
   "cell_type": "code",
   "execution_count": 45,
   "id": "8980303c",
   "metadata": {
    "pycharm": {
     "is_executing": true
    }
   },
   "outputs": [
    {
     "data": {
      "text/html": [
       "        <script type=\"text/javascript\">\n",
       "        window.PlotlyConfig = {MathJaxConfig: 'local'};\n",
       "        if (window.MathJax && window.MathJax.Hub && window.MathJax.Hub.Config) {window.MathJax.Hub.Config({SVG: {font: \"STIX-Web\"}});}\n",
       "        if (typeof require !== 'undefined') {\n",
       "        require.undef(\"plotly\");\n",
       "        requirejs.config({\n",
       "            paths: {\n",
       "                'plotly': ['https://cdn.plot.ly/plotly-2.12.1.min']\n",
       "            }\n",
       "        });\n",
       "        require(['plotly'], function(Plotly) {\n",
       "            window._Plotly = Plotly;\n",
       "        });\n",
       "        }\n",
       "        </script>\n",
       "        "
      ]
     },
     "metadata": {},
     "output_type": "display_data"
    }
   ],
   "source": [
    "from emobpy.plot import NBplot"
   ]
  },
  {
   "cell_type": "code",
   "execution_count": 46,
   "id": "1c4e97b4",
   "metadata": {
    "pycharm": {
     "is_executing": true
    }
   },
   "outputs": [],
   "source": [
    "#PLT = NBplot(DB)"
   ]
  },
  {
   "cell_type": "code",
   "execution_count": 47,
   "id": "1e5c52c8",
   "metadata": {
    "pycharm": {
     "is_executing": true
    }
   },
   "outputs": [],
   "source": [
    "#fig_mobility = PLT.sgplot_dp(m.name)"
   ]
  },
  {
   "cell_type": "code",
   "execution_count": 48,
   "id": "49e764ae",
   "metadata": {
    "pycharm": {
     "is_executing": true
    }
   },
   "outputs": [],
   "source": [
    "#fig_mobility"
   ]
  },
  {
   "cell_type": "markdown",
   "id": "94100231",
   "metadata": {},
   "source": [
    "------------------------------------------------------\n",
    "## Step 2: Driving consumption time series\n",
    "------------------------------------------------------\n",
    "a) Vehicle model configuration\n",
    "\n",
    "------------------------------------------------------"
   ]
  },
  {
   "cell_type": "code",
   "execution_count": 49,
   "id": "1a9db399",
   "metadata": {
    "pycharm": {
     "is_executing": true
    }
   },
   "outputs": [],
   "source": [
    "from emobpy import Consumption, HeatInsulation, BEVspecs"
   ]
  },
  {
   "cell_type": "code",
   "execution_count": 50,
   "id": "dcc72b10",
   "metadata": {
    "pycharm": {
     "is_executing": true
    }
   },
   "outputs": [],
   "source": [
    "DB.update()                # This load new files hosted in database folder as result of new generated files"
   ]
  },
  {
   "cell_type": "code",
   "execution_count": 51,
   "id": "5c4c80f1",
   "metadata": {
    "pycharm": {
     "is_executing": true
    }
   },
   "outputs": [],
   "source": [
    "# mname = list(DB.db.keys())[0]      # getting the id of the first mobility profile\n",
    "mname = m.name"
   ]
  },
  {
   "cell_type": "code",
   "execution_count": 52,
   "id": "17ec9d31",
   "metadata": {
    "pycharm": {
     "is_executing": true
    }
   },
   "outputs": [],
   "source": [
    "HI = HeatInsulation(True)            # Creating the heat insulation by copying the default configuration"
   ]
  },
  {
   "cell_type": "code",
   "execution_count": 53,
   "id": "0c799ff7",
   "metadata": {
    "pycharm": {
     "is_executing": true
    }
   },
   "outputs": [],
   "source": [
    "BEVS = BEVspecs()                    # Database that contains BEV models"
   ]
  },
  {
   "cell_type": "code",
   "execution_count": 54,
   "id": "ec6ceb3f",
   "metadata": {
    "pycharm": {
     "is_executing": true
    },
    "scrolled": true
   },
   "outputs": [
    {
     "name": "stdout",
     "output_type": "stream",
     "text": [
      "Audi\n",
      "\te-tron 55 quattro\n",
      "\t\t2019\n",
      "\t\t2020\n",
      "\te-tron 55 quattro Premium Plus\n",
      "\t\t2019\n",
      "\te-tron 55 quattro Prestige\n",
      "\t\t2019\n",
      "\te-tron Sportback 50 quattro\n",
      "\t\t2020\n",
      "\te-tron Sportback 55 quattro\n",
      "\t\t2020\n",
      "BMW\n",
      "\ti3 22 kWh\n",
      "\t\t2014\n",
      "\t\t2015\n",
      "\t\t2016\n",
      "\ti3 33 kWh\n",
      "\t\t2017\n",
      "\t\t2018\n",
      "\ti3 42 kWh\n",
      "\t\t2019\n",
      "\ti3s 33 kWh\n",
      "\t\t2018\n",
      "\ti3s 42 kWh\n",
      "\t\t2019\n",
      "\ti3s Edition RoadStyle 42 kWh\n",
      "\t\t2020\n",
      "Chevrolet\n",
      "\tBolt EV\n",
      "\t\t2017\n",
      "\t\t2018\n",
      "\t\t2019\n",
      "\t\t2020\n",
      "\tSpark EV\n",
      "\t\t2014\n",
      "\t\t2015\n",
      "\t\t2016\n",
      "FIAT\n",
      "\t500e\n",
      "\t\t2013\n",
      "\t\t2016\n",
      "\t\t2019\n",
      "Hyundai\n",
      "\tIONIQ Electric 28 kWh\n",
      "\t\t2019\n",
      "\tIONIQ Electric 38.3 kWh\n",
      "\t\t2020\n",
      "\tKONA Electric 64 kWh\n",
      "\t\t2019\n",
      "Jaguar\n",
      "\tI-Pace\n",
      "\t\t2019\n",
      "\tI-Pace S EV400 AWD Automatic\n",
      "\t\t2020\n",
      "KIA\n",
      "\tSoul EV\n",
      "\t\t2015\n",
      "\t\t2016\n",
      "\t\t2017\n",
      "\t\t2018\n",
      "\t\t2019\n",
      "\tSoul EV 39 kWh\n",
      "\t\t2020\n",
      "\tSoul EV 64 kWh\n",
      "\t\t2020\n",
      "\te-Niro 39 kWh\n",
      "\t\t2019\n",
      "\te-Niro 4\n",
      "\t\t2020\n",
      "\te-Niro 64 kWh\n",
      "\t\t2019\n",
      "MINI\n",
      "\tCooper SE Level I\n",
      "\t\t2020\n",
      "\tCooper SE Level II\n",
      "\t\t2020\n",
      "\tCooper SE Level III\n",
      "\t\t2020\n",
      "Nissan\n",
      "\tLeaf S\n",
      "\t\t2013\n",
      "\t\t2014\n",
      "\t\t2015\n",
      "\t\t2016\n",
      "\t\t2017\n",
      "\t\t2018\n",
      "\t\t2019\n",
      "\tLeaf S Plus\n",
      "\t\t2019\n",
      "\tLeaf SL\n",
      "\t\t2011\n",
      "\t\t2012\n",
      "\t\t2013\n",
      "\t\t2014\n",
      "\t\t2015\n",
      "\t\t2016\n",
      "\t\t2017\n",
      "\t\t2018\n",
      "\t\t2019\n",
      "\tLeaf SL Plus\n",
      "\t\t2019\n",
      "\tLeaf SV\n",
      "\t\t2011\n",
      "\t\t2012\n",
      "\t\t2013\n",
      "\t\t2014\n",
      "\t\t2015\n",
      "\t\t2016\n",
      "\t\t2017\n",
      "\t\t2018\n",
      "\t\t2019\n",
      "\tLeaf SV Plus\n",
      "\t\t2019\n",
      "Renault\n",
      "\tZoe Q210\n",
      "\t\t2013\n",
      "\tZoe Q90\n",
      "\t\t2017\n",
      "\t\t2019\n",
      "Tesla\n",
      "\tModel 3 Long Range AWD\n",
      "\t\t2018\n",
      "\t\t2019\n",
      "\t\t2020\n",
      "\tModel 3 Long Range RWD\n",
      "\t\t2017\n",
      "\t\t2018\n",
      "\t\t2019\n",
      "\tModel 3 Mid Range RWD\n",
      "\t\t2018\n",
      "\t\t2019\n",
      "\tModel 3 Performance AWD\n",
      "\t\t2018\n",
      "\t\t2019\n",
      "\t\t2020\n",
      "\tModel 3 Standard Range Plus RWD\n",
      "\t\t2019\n",
      "\t\t2020\n",
      "\tModel 3 Standard Range RWD\n",
      "\t\t2019\n",
      "\tModel S 100D\n",
      "\t\t2017\n",
      "\t\t2018\n",
      "\tModel S 60 RWD\n",
      "\t\t2014\n",
      "\t\t2015\n",
      "\tModel S 60 RWD Gen 2\n",
      "\t\t2016\n",
      "\t\t2017\n",
      "\tModel S 60D\n",
      "\t\t2016\n",
      "\t\t2017\n",
      "\tModel S 70 RWD\n",
      "\t\t2015\n",
      "\t\t2016\n",
      "\tModel S 70D\n",
      "\t\t2016\n",
      "\tModel S 70D 140kW+140kW\n",
      "\t\t2015\n",
      "\tModel S 70D 193kW+193kW\n",
      "\t\t2015\n",
      "\tModel S 75 RWD\n",
      "\t\t2016\n",
      "\t\t2017\n",
      "\tModel S 75D\n",
      "\t\t2016\n",
      "\t\t2017\n",
      "\t\t2018\n",
      "\tModel S 85 RWD\n",
      "\t\t2014\n",
      "\t\t2015\n",
      "\tModel S 85D 140kW+140kW\n",
      "\t\t2015\n",
      "\tModel S 85D 193kW+193kW\n",
      "\t\t2015\n",
      "\tModel S 90 RWD\n",
      "\t\t2015\n",
      "\tModel S 90D\n",
      "\t\t2015\n",
      "\t\t2016\n",
      "\t\t2017\n",
      "\tModel S Base 40 RWD\n",
      "\t\t2013\n",
      "\tModel S Base 60 RWD\n",
      "\t\t2013\n",
      "\tModel S Base 85 RWD\n",
      "\t\t2013\n",
      "\tModel S Long Range (AC)\n",
      "\t\t2019\n",
      "\tModel S Long Range (SR)\n",
      "\t\t2019\n",
      "\tModel S Long Range Plus (SR)\n",
      "\t\t2020\n",
      "\tModel S P100D\n",
      "\t\t2016\n",
      "\t\t2017\n",
      "\t\t2018\n",
      "\tModel S P85 RWD\n",
      "\t\t2014\n",
      "\tModel S P85+\n",
      "\t\t2014\n",
      "\tModel S P85D 165kW+350kW\n",
      "\t\t2014\n",
      "\t\t2015\n",
      "\tModel S P85D 193kW+375kW\n",
      "\t\t2015\n",
      "\tModel S P85DL Ludicrous\n",
      "\t\t2015\n",
      "\tModel S P90D\n",
      "\t\t2015\n",
      "\t\t2016\n",
      "\tModel S P90DL Ludicrous\n",
      "\t\t2015\n",
      "\t\t2016\n",
      "\tModel S Performance (AC)\n",
      "\t\t2019\n",
      "\tModel S Performance (SR)\n",
      "\t\t2019\n",
      "\t\t2020\n",
      "\tModel S Performance P85 RWD\n",
      "\t\t2013\n",
      "\tModel S Performance Plus P85+\n",
      "\t\t2013\n",
      "\tModel S Signature 85 RWD\n",
      "\t\t2012\n",
      "\t\t2013\n",
      "\tModel S Signature Performance P85\n",
      "\t\t2013\n",
      "\tModel S Standard Range\n",
      "\t\t2019\n",
      "\tModel X 100D\n",
      "\t\t2017\n",
      "\t\t2018\n",
      "\tModel X 60D\n",
      "\t\t2016\n",
      "\tModel X 70D\n",
      "\t\t2016\n",
      "\tModel X 75D\n",
      "\t\t2016\n",
      "\t\t2017\n",
      "\t\t2018\n",
      "\tModel X 90D\n",
      "\t\t2016\n",
      "\t\t2017\n",
      "\tModel X Long Range (AC)\n",
      "\t\t2019\n",
      "\tModel X Long Range (SR)\n",
      "\t\t2019\n",
      "\t\t2020\n",
      "\tModel X P100D\n",
      "\t\t2016\n",
      "\t\t2017\n",
      "\t\t2018\n",
      "\tModel X P90D\n",
      "\t\t2016\n",
      "\tModel X Performance (AC)\n",
      "\t\t2019\n",
      "\tModel X Performance (SR)\n",
      "\t\t2019\n",
      "\t\t2020\n",
      "\tModel Y Long Range AWD\n",
      "\t\t2020\n",
      "\tModel Y Performance AWD\n",
      "\t\t2020\n",
      "\tRoadster 1.5\n",
      "\t\t2008\n",
      "\tRoadster 2.0\n",
      "\t\t2009\n",
      "\tRoadster 2.5\n",
      "\t\t2010\n",
      "\tRoadster 3.0\n",
      "\t\t2016\n",
      "\tRoadster Sport 2.0\n",
      "\t\t2009\n",
      "Volkswagen\n",
      "\te-Golf\n",
      "\t\t2014\n",
      "\te-Golf Limited Edition\n",
      "\t\t2015\n",
      "\t\t2017\n",
      "\te-Golf SE\n",
      "\t\t2016\n",
      "\t\t2017\n",
      "\t\t2019\n",
      "\t\t2020\n",
      "\te-Golf SEL Premium\n",
      "\t\t2015\n",
      "\t\t2016\n",
      "\t\t2017\n",
      "\tID.3\n",
      "\t\t2020\n"
     ]
    }
   ],
   "source": [
    "BEVS.show_models()"
   ]
  },
  {
   "cell_type": "code",
   "execution_count": 55,
   "id": "05f6f892",
   "metadata": {
    "pycharm": {
     "is_executing": true
    }
   },
   "outputs": [
    {
     "data": {
      "text/plain": [
       "['acc_0_100_kmh',\n",
       " 'axle_ratio',\n",
       " 'battery_cap',\n",
       " 'curb_weight',\n",
       " 'drag_coeff',\n",
       " 'motor_type',\n",
       " 'height',\n",
       " 'length',\n",
       " 'market',\n",
       " 'num_cells',\n",
       " 'num_modules',\n",
       " 'power',\n",
       " 'reg_braking',\n",
       " 'top_speed',\n",
       " 'torque',\n",
       " 'trunk_volume',\n",
       " 'battery_type',\n",
       " 'voltage',\n",
       " 'weight',\n",
       " 'width']"
      ]
     },
     "execution_count": 55,
     "metadata": {},
     "output_type": "execute_result"
    }
   ],
   "source": [
    "BEVS.parameters"
   ]
  },
  {
   "cell_type": "code",
   "execution_count": 56,
   "id": "a2b60c7f",
   "metadata": {
    "pycharm": {
     "is_executing": true
    }
   },
   "outputs": [
    {
     "name": "stderr",
     "output_type": "stream",
     "text": [
      "C:\\Users\\j.muessel\\Miniconda3\\envs\\pyenv\\lib\\site-packages\\emobpy\\consumption.py:413: FutureWarning:\n",
      "\n",
      "The frame.append method is deprecated and will be removed from pandas in a future version. Use pandas.concat instead.\n",
      "\n",
      "C:\\Users\\j.muessel\\Miniconda3\\envs\\pyenv\\lib\\site-packages\\emobpy\\consumption.py:413: FutureWarning:\n",
      "\n",
      "The frame.append method is deprecated and will be removed from pandas in a future version. Use pandas.concat instead.\n",
      "\n",
      "C:\\Users\\j.muessel\\Miniconda3\\envs\\pyenv\\lib\\site-packages\\emobpy\\consumption.py:413: FutureWarning:\n",
      "\n",
      "The frame.append method is deprecated and will be removed from pandas in a future version. Use pandas.concat instead.\n",
      "\n",
      "C:\\Users\\j.muessel\\Miniconda3\\envs\\pyenv\\lib\\site-packages\\emobpy\\consumption.py:413: FutureWarning:\n",
      "\n",
      "The frame.append method is deprecated and will be removed from pandas in a future version. Use pandas.concat instead.\n",
      "\n",
      "C:\\Users\\j.muessel\\Miniconda3\\envs\\pyenv\\lib\\site-packages\\emobpy\\consumption.py:413: FutureWarning:\n",
      "\n",
      "The frame.append method is deprecated and will be removed from pandas in a future version. Use pandas.concat instead.\n",
      "\n",
      "C:\\Users\\j.muessel\\Miniconda3\\envs\\pyenv\\lib\\site-packages\\emobpy\\consumption.py:413: FutureWarning:\n",
      "\n",
      "The frame.append method is deprecated and will be removed from pandas in a future version. Use pandas.concat instead.\n",
      "\n",
      "C:\\Users\\j.muessel\\Miniconda3\\envs\\pyenv\\lib\\site-packages\\emobpy\\consumption.py:413: FutureWarning:\n",
      "\n",
      "The frame.append method is deprecated and will be removed from pandas in a future version. Use pandas.concat instead.\n",
      "\n",
      "C:\\Users\\j.muessel\\Miniconda3\\envs\\pyenv\\lib\\site-packages\\emobpy\\consumption.py:413: FutureWarning:\n",
      "\n",
      "The frame.append method is deprecated and will be removed from pandas in a future version. Use pandas.concat instead.\n",
      "\n",
      "C:\\Users\\j.muessel\\Miniconda3\\envs\\pyenv\\lib\\site-packages\\emobpy\\consumption.py:413: FutureWarning:\n",
      "\n",
      "The frame.append method is deprecated and will be removed from pandas in a future version. Use pandas.concat instead.\n",
      "\n",
      "C:\\Users\\j.muessel\\Miniconda3\\envs\\pyenv\\lib\\site-packages\\emobpy\\consumption.py:413: FutureWarning:\n",
      "\n",
      "The frame.append method is deprecated and will be removed from pandas in a future version. Use pandas.concat instead.\n",
      "\n",
      "C:\\Users\\j.muessel\\Miniconda3\\envs\\pyenv\\lib\\site-packages\\emobpy\\consumption.py:413: FutureWarning:\n",
      "\n",
      "The frame.append method is deprecated and will be removed from pandas in a future version. Use pandas.concat instead.\n",
      "\n",
      "C:\\Users\\j.muessel\\Miniconda3\\envs\\pyenv\\lib\\site-packages\\emobpy\\consumption.py:413: FutureWarning:\n",
      "\n",
      "The frame.append method is deprecated and will be removed from pandas in a future version. Use pandas.concat instead.\n",
      "\n",
      "C:\\Users\\j.muessel\\Miniconda3\\envs\\pyenv\\lib\\site-packages\\emobpy\\consumption.py:413: FutureWarning:\n",
      "\n",
      "The frame.append method is deprecated and will be removed from pandas in a future version. Use pandas.concat instead.\n",
      "\n",
      "C:\\Users\\j.muessel\\Miniconda3\\envs\\pyenv\\lib\\site-packages\\emobpy\\consumption.py:413: FutureWarning:\n",
      "\n",
      "The frame.append method is deprecated and will be removed from pandas in a future version. Use pandas.concat instead.\n",
      "\n",
      "C:\\Users\\j.muessel\\Miniconda3\\envs\\pyenv\\lib\\site-packages\\emobpy\\consumption.py:413: FutureWarning:\n",
      "\n",
      "The frame.append method is deprecated and will be removed from pandas in a future version. Use pandas.concat instead.\n",
      "\n",
      "C:\\Users\\j.muessel\\Miniconda3\\envs\\pyenv\\lib\\site-packages\\emobpy\\consumption.py:413: FutureWarning:\n",
      "\n",
      "The frame.append method is deprecated and will be removed from pandas in a future version. Use pandas.concat instead.\n",
      "\n",
      "C:\\Users\\j.muessel\\Miniconda3\\envs\\pyenv\\lib\\site-packages\\emobpy\\consumption.py:413: FutureWarning:\n",
      "\n",
      "The frame.append method is deprecated and will be removed from pandas in a future version. Use pandas.concat instead.\n",
      "\n",
      "C:\\Users\\j.muessel\\Miniconda3\\envs\\pyenv\\lib\\site-packages\\emobpy\\consumption.py:413: FutureWarning:\n",
      "\n",
      "The frame.append method is deprecated and will be removed from pandas in a future version. Use pandas.concat instead.\n",
      "\n",
      "C:\\Users\\j.muessel\\Miniconda3\\envs\\pyenv\\lib\\site-packages\\emobpy\\consumption.py:413: FutureWarning:\n",
      "\n",
      "The frame.append method is deprecated and will be removed from pandas in a future version. Use pandas.concat instead.\n",
      "\n",
      "C:\\Users\\j.muessel\\Miniconda3\\envs\\pyenv\\lib\\site-packages\\emobpy\\consumption.py:413: FutureWarning:\n",
      "\n",
      "The frame.append method is deprecated and will be removed from pandas in a future version. Use pandas.concat instead.\n",
      "\n",
      "C:\\Users\\j.muessel\\Miniconda3\\envs\\pyenv\\lib\\site-packages\\emobpy\\consumption.py:413: FutureWarning:\n",
      "\n",
      "The frame.append method is deprecated and will be removed from pandas in a future version. Use pandas.concat instead.\n",
      "\n",
      "C:\\Users\\j.muessel\\Miniconda3\\envs\\pyenv\\lib\\site-packages\\emobpy\\consumption.py:413: FutureWarning:\n",
      "\n",
      "The frame.append method is deprecated and will be removed from pandas in a future version. Use pandas.concat instead.\n",
      "\n",
      "C:\\Users\\j.muessel\\Miniconda3\\envs\\pyenv\\lib\\site-packages\\emobpy\\consumption.py:413: FutureWarning:\n",
      "\n",
      "The frame.append method is deprecated and will be removed from pandas in a future version. Use pandas.concat instead.\n",
      "\n",
      "C:\\Users\\j.muessel\\Miniconda3\\envs\\pyenv\\lib\\site-packages\\emobpy\\consumption.py:413: FutureWarning:\n",
      "\n",
      "The frame.append method is deprecated and will be removed from pandas in a future version. Use pandas.concat instead.\n",
      "\n",
      "C:\\Users\\j.muessel\\Miniconda3\\envs\\pyenv\\lib\\site-packages\\emobpy\\consumption.py:413: FutureWarning:\n",
      "\n",
      "The frame.append method is deprecated and will be removed from pandas in a future version. Use pandas.concat instead.\n",
      "\n",
      "C:\\Users\\j.muessel\\Miniconda3\\envs\\pyenv\\lib\\site-packages\\emobpy\\consumption.py:413: FutureWarning:\n",
      "\n",
      "The frame.append method is deprecated and will be removed from pandas in a future version. Use pandas.concat instead.\n",
      "\n",
      "C:\\Users\\j.muessel\\Miniconda3\\envs\\pyenv\\lib\\site-packages\\emobpy\\consumption.py:413: FutureWarning:\n",
      "\n",
      "The frame.append method is deprecated and will be removed from pandas in a future version. Use pandas.concat instead.\n",
      "\n",
      "C:\\Users\\j.muessel\\Miniconda3\\envs\\pyenv\\lib\\site-packages\\emobpy\\consumption.py:413: FutureWarning:\n",
      "\n",
      "The frame.append method is deprecated and will be removed from pandas in a future version. Use pandas.concat instead.\n",
      "\n",
      "C:\\Users\\j.muessel\\Miniconda3\\envs\\pyenv\\lib\\site-packages\\emobpy\\consumption.py:413: FutureWarning:\n",
      "\n",
      "The frame.append method is deprecated and will be removed from pandas in a future version. Use pandas.concat instead.\n",
      "\n",
      "C:\\Users\\j.muessel\\Miniconda3\\envs\\pyenv\\lib\\site-packages\\emobpy\\consumption.py:413: FutureWarning:\n",
      "\n",
      "The frame.append method is deprecated and will be removed from pandas in a future version. Use pandas.concat instead.\n",
      "\n",
      "C:\\Users\\j.muessel\\Miniconda3\\envs\\pyenv\\lib\\site-packages\\emobpy\\consumption.py:413: FutureWarning:\n",
      "\n",
      "The frame.append method is deprecated and will be removed from pandas in a future version. Use pandas.concat instead.\n",
      "\n",
      "C:\\Users\\j.muessel\\Miniconda3\\envs\\pyenv\\lib\\site-packages\\emobpy\\consumption.py:413: FutureWarning:\n",
      "\n",
      "The frame.append method is deprecated and will be removed from pandas in a future version. Use pandas.concat instead.\n",
      "\n",
      "C:\\Users\\j.muessel\\Miniconda3\\envs\\pyenv\\lib\\site-packages\\emobpy\\consumption.py:413: FutureWarning:\n",
      "\n",
      "The frame.append method is deprecated and will be removed from pandas in a future version. Use pandas.concat instead.\n",
      "\n",
      "C:\\Users\\j.muessel\\Miniconda3\\envs\\pyenv\\lib\\site-packages\\emobpy\\consumption.py:413: FutureWarning:\n",
      "\n",
      "The frame.append method is deprecated and will be removed from pandas in a future version. Use pandas.concat instead.\n",
      "\n",
      "C:\\Users\\j.muessel\\Miniconda3\\envs\\pyenv\\lib\\site-packages\\emobpy\\consumption.py:413: FutureWarning:\n",
      "\n",
      "The frame.append method is deprecated and will be removed from pandas in a future version. Use pandas.concat instead.\n",
      "\n",
      "C:\\Users\\j.muessel\\Miniconda3\\envs\\pyenv\\lib\\site-packages\\emobpy\\consumption.py:413: FutureWarning:\n",
      "\n",
      "The frame.append method is deprecated and will be removed from pandas in a future version. Use pandas.concat instead.\n",
      "\n",
      "C:\\Users\\j.muessel\\Miniconda3\\envs\\pyenv\\lib\\site-packages\\emobpy\\consumption.py:413: FutureWarning:\n",
      "\n",
      "The frame.append method is deprecated and will be removed from pandas in a future version. Use pandas.concat instead.\n",
      "\n",
      "C:\\Users\\j.muessel\\Miniconda3\\envs\\pyenv\\lib\\site-packages\\emobpy\\consumption.py:413: FutureWarning:\n",
      "\n",
      "The frame.append method is deprecated and will be removed from pandas in a future version. Use pandas.concat instead.\n",
      "\n",
      "C:\\Users\\j.muessel\\Miniconda3\\envs\\pyenv\\lib\\site-packages\\emobpy\\consumption.py:413: FutureWarning:\n",
      "\n",
      "The frame.append method is deprecated and will be removed from pandas in a future version. Use pandas.concat instead.\n",
      "\n",
      "C:\\Users\\j.muessel\\Miniconda3\\envs\\pyenv\\lib\\site-packages\\emobpy\\consumption.py:413: FutureWarning:\n",
      "\n",
      "The frame.append method is deprecated and will be removed from pandas in a future version. Use pandas.concat instead.\n",
      "\n",
      "C:\\Users\\j.muessel\\Miniconda3\\envs\\pyenv\\lib\\site-packages\\emobpy\\consumption.py:413: FutureWarning:\n",
      "\n",
      "The frame.append method is deprecated and will be removed from pandas in a future version. Use pandas.concat instead.\n",
      "\n",
      "C:\\Users\\j.muessel\\Miniconda3\\envs\\pyenv\\lib\\site-packages\\emobpy\\consumption.py:413: FutureWarning:\n",
      "\n",
      "The frame.append method is deprecated and will be removed from pandas in a future version. Use pandas.concat instead.\n",
      "\n",
      "C:\\Users\\j.muessel\\Miniconda3\\envs\\pyenv\\lib\\site-packages\\emobpy\\consumption.py:413: FutureWarning:\n",
      "\n",
      "The frame.append method is deprecated and will be removed from pandas in a future version. Use pandas.concat instead.\n",
      "\n",
      "C:\\Users\\j.muessel\\Miniconda3\\envs\\pyenv\\lib\\site-packages\\emobpy\\consumption.py:413: FutureWarning:\n",
      "\n",
      "The frame.append method is deprecated and will be removed from pandas in a future version. Use pandas.concat instead.\n",
      "\n",
      "C:\\Users\\j.muessel\\Miniconda3\\envs\\pyenv\\lib\\site-packages\\emobpy\\consumption.py:413: FutureWarning:\n",
      "\n",
      "The frame.append method is deprecated and will be removed from pandas in a future version. Use pandas.concat instead.\n",
      "\n",
      "C:\\Users\\j.muessel\\Miniconda3\\envs\\pyenv\\lib\\site-packages\\emobpy\\consumption.py:413: FutureWarning:\n",
      "\n",
      "The frame.append method is deprecated and will be removed from pandas in a future version. Use pandas.concat instead.\n",
      "\n",
      "C:\\Users\\j.muessel\\Miniconda3\\envs\\pyenv\\lib\\site-packages\\emobpy\\consumption.py:413: FutureWarning:\n",
      "\n",
      "The frame.append method is deprecated and will be removed from pandas in a future version. Use pandas.concat instead.\n",
      "\n",
      "C:\\Users\\j.muessel\\Miniconda3\\envs\\pyenv\\lib\\site-packages\\emobpy\\consumption.py:413: FutureWarning:\n",
      "\n",
      "The frame.append method is deprecated and will be removed from pandas in a future version. Use pandas.concat instead.\n",
      "\n",
      "C:\\Users\\j.muessel\\Miniconda3\\envs\\pyenv\\lib\\site-packages\\emobpy\\consumption.py:413: FutureWarning:\n",
      "\n",
      "The frame.append method is deprecated and will be removed from pandas in a future version. Use pandas.concat instead.\n",
      "\n",
      "C:\\Users\\j.muessel\\Miniconda3\\envs\\pyenv\\lib\\site-packages\\emobpy\\consumption.py:413: FutureWarning:\n",
      "\n",
      "The frame.append method is deprecated and will be removed from pandas in a future version. Use pandas.concat instead.\n",
      "\n",
      "C:\\Users\\j.muessel\\Miniconda3\\envs\\pyenv\\lib\\site-packages\\emobpy\\consumption.py:413: FutureWarning:\n",
      "\n",
      "The frame.append method is deprecated and will be removed from pandas in a future version. Use pandas.concat instead.\n",
      "\n",
      "C:\\Users\\j.muessel\\Miniconda3\\envs\\pyenv\\lib\\site-packages\\emobpy\\consumption.py:413: FutureWarning:\n",
      "\n",
      "The frame.append method is deprecated and will be removed from pandas in a future version. Use pandas.concat instead.\n",
      "\n",
      "C:\\Users\\j.muessel\\Miniconda3\\envs\\pyenv\\lib\\site-packages\\emobpy\\consumption.py:413: FutureWarning:\n",
      "\n",
      "The frame.append method is deprecated and will be removed from pandas in a future version. Use pandas.concat instead.\n",
      "\n",
      "C:\\Users\\j.muessel\\Miniconda3\\envs\\pyenv\\lib\\site-packages\\emobpy\\consumption.py:413: FutureWarning:\n",
      "\n",
      "The frame.append method is deprecated and will be removed from pandas in a future version. Use pandas.concat instead.\n",
      "\n",
      "C:\\Users\\j.muessel\\Miniconda3\\envs\\pyenv\\lib\\site-packages\\emobpy\\consumption.py:413: FutureWarning:\n",
      "\n",
      "The frame.append method is deprecated and will be removed from pandas in a future version. Use pandas.concat instead.\n",
      "\n",
      "C:\\Users\\j.muessel\\Miniconda3\\envs\\pyenv\\lib\\site-packages\\emobpy\\consumption.py:413: FutureWarning:\n",
      "\n",
      "The frame.append method is deprecated and will be removed from pandas in a future version. Use pandas.concat instead.\n",
      "\n",
      "C:\\Users\\j.muessel\\Miniconda3\\envs\\pyenv\\lib\\site-packages\\emobpy\\consumption.py:413: FutureWarning:\n",
      "\n",
      "The frame.append method is deprecated and will be removed from pandas in a future version. Use pandas.concat instead.\n",
      "\n",
      "C:\\Users\\j.muessel\\Miniconda3\\envs\\pyenv\\lib\\site-packages\\emobpy\\consumption.py:413: FutureWarning:\n",
      "\n",
      "The frame.append method is deprecated and will be removed from pandas in a future version. Use pandas.concat instead.\n",
      "\n",
      "C:\\Users\\j.muessel\\Miniconda3\\envs\\pyenv\\lib\\site-packages\\emobpy\\consumption.py:413: FutureWarning:\n",
      "\n",
      "The frame.append method is deprecated and will be removed from pandas in a future version. Use pandas.concat instead.\n",
      "\n",
      "C:\\Users\\j.muessel\\Miniconda3\\envs\\pyenv\\lib\\site-packages\\emobpy\\consumption.py:413: FutureWarning:\n",
      "\n",
      "The frame.append method is deprecated and will be removed from pandas in a future version. Use pandas.concat instead.\n",
      "\n",
      "C:\\Users\\j.muessel\\Miniconda3\\envs\\pyenv\\lib\\site-packages\\emobpy\\consumption.py:413: FutureWarning:\n",
      "\n",
      "The frame.append method is deprecated and will be removed from pandas in a future version. Use pandas.concat instead.\n",
      "\n",
      "C:\\Users\\j.muessel\\Miniconda3\\envs\\pyenv\\lib\\site-packages\\emobpy\\consumption.py:413: FutureWarning:\n",
      "\n",
      "The frame.append method is deprecated and will be removed from pandas in a future version. Use pandas.concat instead.\n",
      "\n",
      "C:\\Users\\j.muessel\\Miniconda3\\envs\\pyenv\\lib\\site-packages\\emobpy\\consumption.py:413: FutureWarning:\n",
      "\n",
      "The frame.append method is deprecated and will be removed from pandas in a future version. Use pandas.concat instead.\n",
      "\n",
      "C:\\Users\\j.muessel\\Miniconda3\\envs\\pyenv\\lib\\site-packages\\emobpy\\consumption.py:413: FutureWarning:\n",
      "\n",
      "The frame.append method is deprecated and will be removed from pandas in a future version. Use pandas.concat instead.\n",
      "\n",
      "C:\\Users\\j.muessel\\Miniconda3\\envs\\pyenv\\lib\\site-packages\\emobpy\\consumption.py:413: FutureWarning:\n",
      "\n",
      "The frame.append method is deprecated and will be removed from pandas in a future version. Use pandas.concat instead.\n",
      "\n",
      "C:\\Users\\j.muessel\\Miniconda3\\envs\\pyenv\\lib\\site-packages\\emobpy\\consumption.py:413: FutureWarning:\n",
      "\n",
      "The frame.append method is deprecated and will be removed from pandas in a future version. Use pandas.concat instead.\n",
      "\n",
      "C:\\Users\\j.muessel\\Miniconda3\\envs\\pyenv\\lib\\site-packages\\emobpy\\consumption.py:413: FutureWarning:\n",
      "\n",
      "The frame.append method is deprecated and will be removed from pandas in a future version. Use pandas.concat instead.\n",
      "\n",
      "C:\\Users\\j.muessel\\Miniconda3\\envs\\pyenv\\lib\\site-packages\\emobpy\\consumption.py:413: FutureWarning:\n",
      "\n",
      "The frame.append method is deprecated and will be removed from pandas in a future version. Use pandas.concat instead.\n",
      "\n"
     ]
    },
    {
     "name": "stderr",
     "output_type": "stream",
     "text": [
      "C:\\Users\\j.muessel\\Miniconda3\\envs\\pyenv\\lib\\site-packages\\emobpy\\consumption.py:413: FutureWarning:\n",
      "\n",
      "The frame.append method is deprecated and will be removed from pandas in a future version. Use pandas.concat instead.\n",
      "\n",
      "C:\\Users\\j.muessel\\Miniconda3\\envs\\pyenv\\lib\\site-packages\\emobpy\\consumption.py:413: FutureWarning:\n",
      "\n",
      "The frame.append method is deprecated and will be removed from pandas in a future version. Use pandas.concat instead.\n",
      "\n",
      "C:\\Users\\j.muessel\\Miniconda3\\envs\\pyenv\\lib\\site-packages\\emobpy\\consumption.py:413: FutureWarning:\n",
      "\n",
      "The frame.append method is deprecated and will be removed from pandas in a future version. Use pandas.concat instead.\n",
      "\n",
      "C:\\Users\\j.muessel\\Miniconda3\\envs\\pyenv\\lib\\site-packages\\emobpy\\consumption.py:413: FutureWarning:\n",
      "\n",
      "The frame.append method is deprecated and will be removed from pandas in a future version. Use pandas.concat instead.\n",
      "\n",
      "C:\\Users\\j.muessel\\Miniconda3\\envs\\pyenv\\lib\\site-packages\\emobpy\\consumption.py:413: FutureWarning:\n",
      "\n",
      "The frame.append method is deprecated and will be removed from pandas in a future version. Use pandas.concat instead.\n",
      "\n",
      "C:\\Users\\j.muessel\\Miniconda3\\envs\\pyenv\\lib\\site-packages\\emobpy\\consumption.py:413: FutureWarning:\n",
      "\n",
      "The frame.append method is deprecated and will be removed from pandas in a future version. Use pandas.concat instead.\n",
      "\n",
      "C:\\Users\\j.muessel\\Miniconda3\\envs\\pyenv\\lib\\site-packages\\emobpy\\consumption.py:413: FutureWarning:\n",
      "\n",
      "The frame.append method is deprecated and will be removed from pandas in a future version. Use pandas.concat instead.\n",
      "\n",
      "C:\\Users\\j.muessel\\Miniconda3\\envs\\pyenv\\lib\\site-packages\\emobpy\\consumption.py:413: FutureWarning:\n",
      "\n",
      "The frame.append method is deprecated and will be removed from pandas in a future version. Use pandas.concat instead.\n",
      "\n",
      "C:\\Users\\j.muessel\\Miniconda3\\envs\\pyenv\\lib\\site-packages\\emobpy\\consumption.py:413: FutureWarning:\n",
      "\n",
      "The frame.append method is deprecated and will be removed from pandas in a future version. Use pandas.concat instead.\n",
      "\n",
      "C:\\Users\\j.muessel\\Miniconda3\\envs\\pyenv\\lib\\site-packages\\emobpy\\consumption.py:413: FutureWarning:\n",
      "\n",
      "The frame.append method is deprecated and will be removed from pandas in a future version. Use pandas.concat instead.\n",
      "\n",
      "C:\\Users\\j.muessel\\Miniconda3\\envs\\pyenv\\lib\\site-packages\\emobpy\\consumption.py:413: FutureWarning:\n",
      "\n",
      "The frame.append method is deprecated and will be removed from pandas in a future version. Use pandas.concat instead.\n",
      "\n",
      "C:\\Users\\j.muessel\\Miniconda3\\envs\\pyenv\\lib\\site-packages\\emobpy\\consumption.py:413: FutureWarning:\n",
      "\n",
      "The frame.append method is deprecated and will be removed from pandas in a future version. Use pandas.concat instead.\n",
      "\n",
      "C:\\Users\\j.muessel\\Miniconda3\\envs\\pyenv\\lib\\site-packages\\emobpy\\consumption.py:413: FutureWarning:\n",
      "\n",
      "The frame.append method is deprecated and will be removed from pandas in a future version. Use pandas.concat instead.\n",
      "\n",
      "C:\\Users\\j.muessel\\Miniconda3\\envs\\pyenv\\lib\\site-packages\\emobpy\\consumption.py:413: FutureWarning:\n",
      "\n",
      "The frame.append method is deprecated and will be removed from pandas in a future version. Use pandas.concat instead.\n",
      "\n",
      "C:\\Users\\j.muessel\\Miniconda3\\envs\\pyenv\\lib\\site-packages\\emobpy\\consumption.py:413: FutureWarning:\n",
      "\n",
      "The frame.append method is deprecated and will be removed from pandas in a future version. Use pandas.concat instead.\n",
      "\n",
      "C:\\Users\\j.muessel\\Miniconda3\\envs\\pyenv\\lib\\site-packages\\emobpy\\consumption.py:413: FutureWarning:\n",
      "\n",
      "The frame.append method is deprecated and will be removed from pandas in a future version. Use pandas.concat instead.\n",
      "\n",
      "C:\\Users\\j.muessel\\Miniconda3\\envs\\pyenv\\lib\\site-packages\\emobpy\\consumption.py:413: FutureWarning:\n",
      "\n",
      "The frame.append method is deprecated and will be removed from pandas in a future version. Use pandas.concat instead.\n",
      "\n",
      "C:\\Users\\j.muessel\\Miniconda3\\envs\\pyenv\\lib\\site-packages\\emobpy\\consumption.py:413: FutureWarning:\n",
      "\n",
      "The frame.append method is deprecated and will be removed from pandas in a future version. Use pandas.concat instead.\n",
      "\n",
      "C:\\Users\\j.muessel\\Miniconda3\\envs\\pyenv\\lib\\site-packages\\emobpy\\consumption.py:413: FutureWarning:\n",
      "\n",
      "The frame.append method is deprecated and will be removed from pandas in a future version. Use pandas.concat instead.\n",
      "\n",
      "C:\\Users\\j.muessel\\Miniconda3\\envs\\pyenv\\lib\\site-packages\\emobpy\\consumption.py:413: FutureWarning:\n",
      "\n",
      "The frame.append method is deprecated and will be removed from pandas in a future version. Use pandas.concat instead.\n",
      "\n",
      "C:\\Users\\j.muessel\\Miniconda3\\envs\\pyenv\\lib\\site-packages\\emobpy\\consumption.py:413: FutureWarning:\n",
      "\n",
      "The frame.append method is deprecated and will be removed from pandas in a future version. Use pandas.concat instead.\n",
      "\n",
      "C:\\Users\\j.muessel\\Miniconda3\\envs\\pyenv\\lib\\site-packages\\emobpy\\consumption.py:413: FutureWarning:\n",
      "\n",
      "The frame.append method is deprecated and will be removed from pandas in a future version. Use pandas.concat instead.\n",
      "\n",
      "C:\\Users\\j.muessel\\Miniconda3\\envs\\pyenv\\lib\\site-packages\\emobpy\\consumption.py:413: FutureWarning:\n",
      "\n",
      "The frame.append method is deprecated and will be removed from pandas in a future version. Use pandas.concat instead.\n",
      "\n",
      "C:\\Users\\j.muessel\\Miniconda3\\envs\\pyenv\\lib\\site-packages\\emobpy\\consumption.py:413: FutureWarning:\n",
      "\n",
      "The frame.append method is deprecated and will be removed from pandas in a future version. Use pandas.concat instead.\n",
      "\n",
      "C:\\Users\\j.muessel\\Miniconda3\\envs\\pyenv\\lib\\site-packages\\emobpy\\consumption.py:413: FutureWarning:\n",
      "\n",
      "The frame.append method is deprecated and will be removed from pandas in a future version. Use pandas.concat instead.\n",
      "\n",
      "C:\\Users\\j.muessel\\Miniconda3\\envs\\pyenv\\lib\\site-packages\\emobpy\\consumption.py:413: FutureWarning:\n",
      "\n",
      "The frame.append method is deprecated and will be removed from pandas in a future version. Use pandas.concat instead.\n",
      "\n",
      "C:\\Users\\j.muessel\\Miniconda3\\envs\\pyenv\\lib\\site-packages\\emobpy\\consumption.py:413: FutureWarning:\n",
      "\n",
      "The frame.append method is deprecated and will be removed from pandas in a future version. Use pandas.concat instead.\n",
      "\n",
      "C:\\Users\\j.muessel\\Miniconda3\\envs\\pyenv\\lib\\site-packages\\emobpy\\consumption.py:413: FutureWarning:\n",
      "\n",
      "The frame.append method is deprecated and will be removed from pandas in a future version. Use pandas.concat instead.\n",
      "\n",
      "C:\\Users\\j.muessel\\Miniconda3\\envs\\pyenv\\lib\\site-packages\\emobpy\\consumption.py:413: FutureWarning:\n",
      "\n",
      "The frame.append method is deprecated and will be removed from pandas in a future version. Use pandas.concat instead.\n",
      "\n",
      "C:\\Users\\j.muessel\\Miniconda3\\envs\\pyenv\\lib\\site-packages\\emobpy\\consumption.py:413: FutureWarning:\n",
      "\n",
      "The frame.append method is deprecated and will be removed from pandas in a future version. Use pandas.concat instead.\n",
      "\n",
      "C:\\Users\\j.muessel\\Miniconda3\\envs\\pyenv\\lib\\site-packages\\emobpy\\consumption.py:413: FutureWarning:\n",
      "\n",
      "The frame.append method is deprecated and will be removed from pandas in a future version. Use pandas.concat instead.\n",
      "\n",
      "C:\\Users\\j.muessel\\Miniconda3\\envs\\pyenv\\lib\\site-packages\\emobpy\\consumption.py:413: FutureWarning:\n",
      "\n",
      "The frame.append method is deprecated and will be removed from pandas in a future version. Use pandas.concat instead.\n",
      "\n",
      "C:\\Users\\j.muessel\\Miniconda3\\envs\\pyenv\\lib\\site-packages\\emobpy\\consumption.py:413: FutureWarning:\n",
      "\n",
      "The frame.append method is deprecated and will be removed from pandas in a future version. Use pandas.concat instead.\n",
      "\n",
      "C:\\Users\\j.muessel\\Miniconda3\\envs\\pyenv\\lib\\site-packages\\emobpy\\consumption.py:413: FutureWarning:\n",
      "\n",
      "The frame.append method is deprecated and will be removed from pandas in a future version. Use pandas.concat instead.\n",
      "\n",
      "C:\\Users\\j.muessel\\Miniconda3\\envs\\pyenv\\lib\\site-packages\\emobpy\\consumption.py:413: FutureWarning:\n",
      "\n",
      "The frame.append method is deprecated and will be removed from pandas in a future version. Use pandas.concat instead.\n",
      "\n",
      "C:\\Users\\j.muessel\\Miniconda3\\envs\\pyenv\\lib\\site-packages\\emobpy\\consumption.py:413: FutureWarning:\n",
      "\n",
      "The frame.append method is deprecated and will be removed from pandas in a future version. Use pandas.concat instead.\n",
      "\n",
      "C:\\Users\\j.muessel\\Miniconda3\\envs\\pyenv\\lib\\site-packages\\emobpy\\consumption.py:413: FutureWarning:\n",
      "\n",
      "The frame.append method is deprecated and will be removed from pandas in a future version. Use pandas.concat instead.\n",
      "\n",
      "C:\\Users\\j.muessel\\Miniconda3\\envs\\pyenv\\lib\\site-packages\\emobpy\\consumption.py:413: FutureWarning:\n",
      "\n",
      "The frame.append method is deprecated and will be removed from pandas in a future version. Use pandas.concat instead.\n",
      "\n",
      "C:\\Users\\j.muessel\\Miniconda3\\envs\\pyenv\\lib\\site-packages\\emobpy\\consumption.py:413: FutureWarning:\n",
      "\n",
      "The frame.append method is deprecated and will be removed from pandas in a future version. Use pandas.concat instead.\n",
      "\n",
      "C:\\Users\\j.muessel\\Miniconda3\\envs\\pyenv\\lib\\site-packages\\emobpy\\consumption.py:413: FutureWarning:\n",
      "\n",
      "The frame.append method is deprecated and will be removed from pandas in a future version. Use pandas.concat instead.\n",
      "\n",
      "C:\\Users\\j.muessel\\Miniconda3\\envs\\pyenv\\lib\\site-packages\\emobpy\\consumption.py:413: FutureWarning:\n",
      "\n",
      "The frame.append method is deprecated and will be removed from pandas in a future version. Use pandas.concat instead.\n",
      "\n",
      "C:\\Users\\j.muessel\\Miniconda3\\envs\\pyenv\\lib\\site-packages\\emobpy\\consumption.py:413: FutureWarning:\n",
      "\n",
      "The frame.append method is deprecated and will be removed from pandas in a future version. Use pandas.concat instead.\n",
      "\n",
      "C:\\Users\\j.muessel\\Miniconda3\\envs\\pyenv\\lib\\site-packages\\emobpy\\consumption.py:413: FutureWarning:\n",
      "\n",
      "The frame.append method is deprecated and will be removed from pandas in a future version. Use pandas.concat instead.\n",
      "\n",
      "C:\\Users\\j.muessel\\Miniconda3\\envs\\pyenv\\lib\\site-packages\\emobpy\\consumption.py:413: FutureWarning:\n",
      "\n",
      "The frame.append method is deprecated and will be removed from pandas in a future version. Use pandas.concat instead.\n",
      "\n",
      "C:\\Users\\j.muessel\\Miniconda3\\envs\\pyenv\\lib\\site-packages\\emobpy\\consumption.py:413: FutureWarning:\n",
      "\n",
      "The frame.append method is deprecated and will be removed from pandas in a future version. Use pandas.concat instead.\n",
      "\n",
      "C:\\Users\\j.muessel\\Miniconda3\\envs\\pyenv\\lib\\site-packages\\emobpy\\consumption.py:413: FutureWarning:\n",
      "\n",
      "The frame.append method is deprecated and will be removed from pandas in a future version. Use pandas.concat instead.\n",
      "\n",
      "C:\\Users\\j.muessel\\Miniconda3\\envs\\pyenv\\lib\\site-packages\\emobpy\\consumption.py:413: FutureWarning:\n",
      "\n",
      "The frame.append method is deprecated and will be removed from pandas in a future version. Use pandas.concat instead.\n",
      "\n",
      "C:\\Users\\j.muessel\\Miniconda3\\envs\\pyenv\\lib\\site-packages\\emobpy\\consumption.py:413: FutureWarning:\n",
      "\n",
      "The frame.append method is deprecated and will be removed from pandas in a future version. Use pandas.concat instead.\n",
      "\n",
      "C:\\Users\\j.muessel\\Miniconda3\\envs\\pyenv\\lib\\site-packages\\emobpy\\consumption.py:413: FutureWarning:\n",
      "\n",
      "The frame.append method is deprecated and will be removed from pandas in a future version. Use pandas.concat instead.\n",
      "\n",
      "C:\\Users\\j.muessel\\Miniconda3\\envs\\pyenv\\lib\\site-packages\\emobpy\\consumption.py:413: FutureWarning:\n",
      "\n",
      "The frame.append method is deprecated and will be removed from pandas in a future version. Use pandas.concat instead.\n",
      "\n",
      "C:\\Users\\j.muessel\\Miniconda3\\envs\\pyenv\\lib\\site-packages\\emobpy\\consumption.py:413: FutureWarning:\n",
      "\n",
      "The frame.append method is deprecated and will be removed from pandas in a future version. Use pandas.concat instead.\n",
      "\n",
      "C:\\Users\\j.muessel\\Miniconda3\\envs\\pyenv\\lib\\site-packages\\emobpy\\consumption.py:413: FutureWarning:\n",
      "\n",
      "The frame.append method is deprecated and will be removed from pandas in a future version. Use pandas.concat instead.\n",
      "\n",
      "C:\\Users\\j.muessel\\Miniconda3\\envs\\pyenv\\lib\\site-packages\\emobpy\\consumption.py:413: FutureWarning:\n",
      "\n",
      "The frame.append method is deprecated and will be removed from pandas in a future version. Use pandas.concat instead.\n",
      "\n",
      "C:\\Users\\j.muessel\\Miniconda3\\envs\\pyenv\\lib\\site-packages\\emobpy\\consumption.py:413: FutureWarning:\n",
      "\n",
      "The frame.append method is deprecated and will be removed from pandas in a future version. Use pandas.concat instead.\n",
      "\n",
      "C:\\Users\\j.muessel\\Miniconda3\\envs\\pyenv\\lib\\site-packages\\emobpy\\consumption.py:413: FutureWarning:\n",
      "\n",
      "The frame.append method is deprecated and will be removed from pandas in a future version. Use pandas.concat instead.\n",
      "\n",
      "C:\\Users\\j.muessel\\Miniconda3\\envs\\pyenv\\lib\\site-packages\\emobpy\\consumption.py:413: FutureWarning:\n",
      "\n",
      "The frame.append method is deprecated and will be removed from pandas in a future version. Use pandas.concat instead.\n",
      "\n",
      "C:\\Users\\j.muessel\\Miniconda3\\envs\\pyenv\\lib\\site-packages\\emobpy\\consumption.py:413: FutureWarning:\n",
      "\n",
      "The frame.append method is deprecated and will be removed from pandas in a future version. Use pandas.concat instead.\n",
      "\n",
      "C:\\Users\\j.muessel\\Miniconda3\\envs\\pyenv\\lib\\site-packages\\emobpy\\consumption.py:413: FutureWarning:\n",
      "\n",
      "The frame.append method is deprecated and will be removed from pandas in a future version. Use pandas.concat instead.\n",
      "\n",
      "C:\\Users\\j.muessel\\Miniconda3\\envs\\pyenv\\lib\\site-packages\\emobpy\\consumption.py:413: FutureWarning:\n",
      "\n",
      "The frame.append method is deprecated and will be removed from pandas in a future version. Use pandas.concat instead.\n",
      "\n",
      "C:\\Users\\j.muessel\\Miniconda3\\envs\\pyenv\\lib\\site-packages\\emobpy\\consumption.py:413: FutureWarning:\n",
      "\n",
      "The frame.append method is deprecated and will be removed from pandas in a future version. Use pandas.concat instead.\n",
      "\n",
      "C:\\Users\\j.muessel\\Miniconda3\\envs\\pyenv\\lib\\site-packages\\emobpy\\consumption.py:413: FutureWarning:\n",
      "\n",
      "The frame.append method is deprecated and will be removed from pandas in a future version. Use pandas.concat instead.\n",
      "\n",
      "C:\\Users\\j.muessel\\Miniconda3\\envs\\pyenv\\lib\\site-packages\\emobpy\\consumption.py:413: FutureWarning:\n",
      "\n",
      "The frame.append method is deprecated and will be removed from pandas in a future version. Use pandas.concat instead.\n",
      "\n",
      "C:\\Users\\j.muessel\\Miniconda3\\envs\\pyenv\\lib\\site-packages\\emobpy\\consumption.py:413: FutureWarning:\n",
      "\n",
      "The frame.append method is deprecated and will be removed from pandas in a future version. Use pandas.concat instead.\n",
      "\n",
      "C:\\Users\\j.muessel\\Miniconda3\\envs\\pyenv\\lib\\site-packages\\emobpy\\consumption.py:413: FutureWarning:\n",
      "\n",
      "The frame.append method is deprecated and will be removed from pandas in a future version. Use pandas.concat instead.\n",
      "\n",
      "C:\\Users\\j.muessel\\Miniconda3\\envs\\pyenv\\lib\\site-packages\\emobpy\\consumption.py:413: FutureWarning:\n",
      "\n",
      "The frame.append method is deprecated and will be removed from pandas in a future version. Use pandas.concat instead.\n",
      "\n",
      "C:\\Users\\j.muessel\\Miniconda3\\envs\\pyenv\\lib\\site-packages\\emobpy\\consumption.py:413: FutureWarning:\n",
      "\n",
      "The frame.append method is deprecated and will be removed from pandas in a future version. Use pandas.concat instead.\n",
      "\n",
      "C:\\Users\\j.muessel\\Miniconda3\\envs\\pyenv\\lib\\site-packages\\emobpy\\consumption.py:413: FutureWarning:\n",
      "\n",
      "The frame.append method is deprecated and will be removed from pandas in a future version. Use pandas.concat instead.\n",
      "\n",
      "C:\\Users\\j.muessel\\Miniconda3\\envs\\pyenv\\lib\\site-packages\\emobpy\\consumption.py:413: FutureWarning:\n",
      "\n",
      "The frame.append method is deprecated and will be removed from pandas in a future version. Use pandas.concat instead.\n",
      "\n",
      "C:\\Users\\j.muessel\\Miniconda3\\envs\\pyenv\\lib\\site-packages\\emobpy\\consumption.py:413: FutureWarning:\n",
      "\n",
      "The frame.append method is deprecated and will be removed from pandas in a future version. Use pandas.concat instead.\n",
      "\n",
      "C:\\Users\\j.muessel\\Miniconda3\\envs\\pyenv\\lib\\site-packages\\emobpy\\consumption.py:413: FutureWarning:\n",
      "\n",
      "The frame.append method is deprecated and will be removed from pandas in a future version. Use pandas.concat instead.\n",
      "\n",
      "C:\\Users\\j.muessel\\Miniconda3\\envs\\pyenv\\lib\\site-packages\\emobpy\\consumption.py:413: FutureWarning:\n",
      "\n",
      "The frame.append method is deprecated and will be removed from pandas in a future version. Use pandas.concat instead.\n",
      "\n",
      "C:\\Users\\j.muessel\\Miniconda3\\envs\\pyenv\\lib\\site-packages\\emobpy\\consumption.py:413: FutureWarning:\n",
      "\n",
      "The frame.append method is deprecated and will be removed from pandas in a future version. Use pandas.concat instead.\n",
      "\n",
      "C:\\Users\\j.muessel\\Miniconda3\\envs\\pyenv\\lib\\site-packages\\emobpy\\consumption.py:413: FutureWarning:\n",
      "\n",
      "The frame.append method is deprecated and will be removed from pandas in a future version. Use pandas.concat instead.\n",
      "\n",
      "C:\\Users\\j.muessel\\Miniconda3\\envs\\pyenv\\lib\\site-packages\\emobpy\\consumption.py:413: FutureWarning:\n",
      "\n",
      "The frame.append method is deprecated and will be removed from pandas in a future version. Use pandas.concat instead.\n",
      "\n",
      "C:\\Users\\j.muessel\\Miniconda3\\envs\\pyenv\\lib\\site-packages\\emobpy\\consumption.py:413: FutureWarning:\n",
      "\n",
      "The frame.append method is deprecated and will be removed from pandas in a future version. Use pandas.concat instead.\n",
      "\n",
      "C:\\Users\\j.muessel\\Miniconda3\\envs\\pyenv\\lib\\site-packages\\emobpy\\consumption.py:413: FutureWarning:\n",
      "\n",
      "The frame.append method is deprecated and will be removed from pandas in a future version. Use pandas.concat instead.\n",
      "\n",
      "C:\\Users\\j.muessel\\Miniconda3\\envs\\pyenv\\lib\\site-packages\\emobpy\\consumption.py:413: FutureWarning:\n",
      "\n",
      "The frame.append method is deprecated and will be removed from pandas in a future version. Use pandas.concat instead.\n",
      "\n",
      "C:\\Users\\j.muessel\\Miniconda3\\envs\\pyenv\\lib\\site-packages\\emobpy\\consumption.py:413: FutureWarning:\n",
      "\n",
      "The frame.append method is deprecated and will be removed from pandas in a future version. Use pandas.concat instead.\n",
      "\n",
      "C:\\Users\\j.muessel\\Miniconda3\\envs\\pyenv\\lib\\site-packages\\emobpy\\consumption.py:413: FutureWarning:\n",
      "\n",
      "The frame.append method is deprecated and will be removed from pandas in a future version. Use pandas.concat instead.\n",
      "\n",
      "C:\\Users\\j.muessel\\Miniconda3\\envs\\pyenv\\lib\\site-packages\\emobpy\\consumption.py:413: FutureWarning:\n",
      "\n",
      "The frame.append method is deprecated and will be removed from pandas in a future version. Use pandas.concat instead.\n",
      "\n",
      "C:\\Users\\j.muessel\\Miniconda3\\envs\\pyenv\\lib\\site-packages\\emobpy\\consumption.py:413: FutureWarning:\n",
      "\n",
      "The frame.append method is deprecated and will be removed from pandas in a future version. Use pandas.concat instead.\n",
      "\n",
      "C:\\Users\\j.muessel\\Miniconda3\\envs\\pyenv\\lib\\site-packages\\emobpy\\consumption.py:413: FutureWarning:\n",
      "\n",
      "The frame.append method is deprecated and will be removed from pandas in a future version. Use pandas.concat instead.\n",
      "\n",
      "C:\\Users\\j.muessel\\Miniconda3\\envs\\pyenv\\lib\\site-packages\\emobpy\\consumption.py:413: FutureWarning:\n",
      "\n",
      "The frame.append method is deprecated and will be removed from pandas in a future version. Use pandas.concat instead.\n",
      "\n",
      "C:\\Users\\j.muessel\\Miniconda3\\envs\\pyenv\\lib\\site-packages\\emobpy\\consumption.py:413: FutureWarning:\n",
      "\n",
      "The frame.append method is deprecated and will be removed from pandas in a future version. Use pandas.concat instead.\n",
      "\n",
      "C:\\Users\\j.muessel\\Miniconda3\\envs\\pyenv\\lib\\site-packages\\emobpy\\consumption.py:413: FutureWarning:\n",
      "\n",
      "The frame.append method is deprecated and will be removed from pandas in a future version. Use pandas.concat instead.\n",
      "\n",
      "C:\\Users\\j.muessel\\Miniconda3\\envs\\pyenv\\lib\\site-packages\\emobpy\\consumption.py:413: FutureWarning:\n",
      "\n",
      "The frame.append method is deprecated and will be removed from pandas in a future version. Use pandas.concat instead.\n",
      "\n",
      "C:\\Users\\j.muessel\\Miniconda3\\envs\\pyenv\\lib\\site-packages\\emobpy\\consumption.py:413: FutureWarning:\n",
      "\n",
      "The frame.append method is deprecated and will be removed from pandas in a future version. Use pandas.concat instead.\n",
      "\n",
      "C:\\Users\\j.muessel\\Miniconda3\\envs\\pyenv\\lib\\site-packages\\emobpy\\consumption.py:413: FutureWarning:\n",
      "\n",
      "The frame.append method is deprecated and will be removed from pandas in a future version. Use pandas.concat instead.\n",
      "\n",
      "C:\\Users\\j.muessel\\Miniconda3\\envs\\pyenv\\lib\\site-packages\\emobpy\\consumption.py:413: FutureWarning:\n",
      "\n",
      "The frame.append method is deprecated and will be removed from pandas in a future version. Use pandas.concat instead.\n",
      "\n",
      "C:\\Users\\j.muessel\\Miniconda3\\envs\\pyenv\\lib\\site-packages\\emobpy\\consumption.py:413: FutureWarning:\n",
      "\n",
      "The frame.append method is deprecated and will be removed from pandas in a future version. Use pandas.concat instead.\n",
      "\n",
      "C:\\Users\\j.muessel\\Miniconda3\\envs\\pyenv\\lib\\site-packages\\emobpy\\consumption.py:413: FutureWarning:\n",
      "\n",
      "The frame.append method is deprecated and will be removed from pandas in a future version. Use pandas.concat instead.\n",
      "\n",
      "C:\\Users\\j.muessel\\Miniconda3\\envs\\pyenv\\lib\\site-packages\\emobpy\\consumption.py:413: FutureWarning:\n",
      "\n",
      "The frame.append method is deprecated and will be removed from pandas in a future version. Use pandas.concat instead.\n",
      "\n",
      "C:\\Users\\j.muessel\\Miniconda3\\envs\\pyenv\\lib\\site-packages\\emobpy\\consumption.py:413: FutureWarning:\n",
      "\n",
      "The frame.append method is deprecated and will be removed from pandas in a future version. Use pandas.concat instead.\n",
      "\n",
      "C:\\Users\\j.muessel\\Miniconda3\\envs\\pyenv\\lib\\site-packages\\emobpy\\consumption.py:413: FutureWarning:\n",
      "\n",
      "The frame.append method is deprecated and will be removed from pandas in a future version. Use pandas.concat instead.\n",
      "\n",
      "C:\\Users\\j.muessel\\Miniconda3\\envs\\pyenv\\lib\\site-packages\\emobpy\\consumption.py:413: FutureWarning:\n",
      "\n",
      "The frame.append method is deprecated and will be removed from pandas in a future version. Use pandas.concat instead.\n",
      "\n",
      "C:\\Users\\j.muessel\\Miniconda3\\envs\\pyenv\\lib\\site-packages\\emobpy\\consumption.py:413: FutureWarning:\n",
      "\n",
      "The frame.append method is deprecated and will be removed from pandas in a future version. Use pandas.concat instead.\n",
      "\n",
      "C:\\Users\\j.muessel\\Miniconda3\\envs\\pyenv\\lib\\site-packages\\emobpy\\consumption.py:413: FutureWarning:\n",
      "\n",
      "The frame.append method is deprecated and will be removed from pandas in a future version. Use pandas.concat instead.\n",
      "\n",
      "C:\\Users\\j.muessel\\Miniconda3\\envs\\pyenv\\lib\\site-packages\\emobpy\\consumption.py:413: FutureWarning:\n",
      "\n",
      "The frame.append method is deprecated and will be removed from pandas in a future version. Use pandas.concat instead.\n",
      "\n",
      "C:\\Users\\j.muessel\\Miniconda3\\envs\\pyenv\\lib\\site-packages\\emobpy\\consumption.py:413: FutureWarning:\n",
      "\n",
      "The frame.append method is deprecated and will be removed from pandas in a future version. Use pandas.concat instead.\n",
      "\n"
     ]
    },
    {
     "name": "stdout",
     "output_type": "stream",
     "text": [
      "Parameter: power\n",
      "   brand                     model  year  value unit\n",
      "0  Tesla             Model S P100D  2016  568.0   kw\n",
      "1  Tesla  Model S Performance (SR)  2020  568.0   kw\n",
      "2  Tesla  Model S Performance (AC)  2019  568.0   kw\n",
      "3  Tesla   Model S P90DL Ludicrous  2016  568.0   kw\n",
      "4  Tesla   Model S P90DL Ludicrous  2015  568.0   kw\n",
      "5  Tesla              Model S P90D  2016  568.0   kw\n",
      "6  Tesla              Model S P90D  2015  568.0   kw\n",
      "7  Tesla   Model S P85DL Ludicrous  2015  568.0   kw\n",
      "8  Tesla  Model S P85D 193kW+375kW  2015  568.0   kw\n",
      "9  Tesla             Model S P100D  2018  568.0   kw\n"
     ]
    },
    {
     "name": "stderr",
     "output_type": "stream",
     "text": [
      "C:\\Users\\j.muessel\\Miniconda3\\envs\\pyenv\\lib\\site-packages\\emobpy\\consumption.py:413: FutureWarning:\n",
      "\n",
      "The frame.append method is deprecated and will be removed from pandas in a future version. Use pandas.concat instead.\n",
      "\n",
      "C:\\Users\\j.muessel\\Miniconda3\\envs\\pyenv\\lib\\site-packages\\emobpy\\consumption.py:413: FutureWarning:\n",
      "\n",
      "The frame.append method is deprecated and will be removed from pandas in a future version. Use pandas.concat instead.\n",
      "\n",
      "C:\\Users\\j.muessel\\Miniconda3\\envs\\pyenv\\lib\\site-packages\\emobpy\\consumption.py:413: FutureWarning:\n",
      "\n",
      "The frame.append method is deprecated and will be removed from pandas in a future version. Use pandas.concat instead.\n",
      "\n",
      "C:\\Users\\j.muessel\\Miniconda3\\envs\\pyenv\\lib\\site-packages\\emobpy\\consumption.py:413: FutureWarning:\n",
      "\n",
      "The frame.append method is deprecated and will be removed from pandas in a future version. Use pandas.concat instead.\n",
      "\n",
      "C:\\Users\\j.muessel\\Miniconda3\\envs\\pyenv\\lib\\site-packages\\emobpy\\consumption.py:413: FutureWarning:\n",
      "\n",
      "The frame.append method is deprecated and will be removed from pandas in a future version. Use pandas.concat instead.\n",
      "\n",
      "C:\\Users\\j.muessel\\Miniconda3\\envs\\pyenv\\lib\\site-packages\\emobpy\\consumption.py:413: FutureWarning:\n",
      "\n",
      "The frame.append method is deprecated and will be removed from pandas in a future version. Use pandas.concat instead.\n",
      "\n",
      "C:\\Users\\j.muessel\\Miniconda3\\envs\\pyenv\\lib\\site-packages\\emobpy\\consumption.py:413: FutureWarning:\n",
      "\n",
      "The frame.append method is deprecated and will be removed from pandas in a future version. Use pandas.concat instead.\n",
      "\n",
      "C:\\Users\\j.muessel\\Miniconda3\\envs\\pyenv\\lib\\site-packages\\emobpy\\consumption.py:413: FutureWarning:\n",
      "\n",
      "The frame.append method is deprecated and will be removed from pandas in a future version. Use pandas.concat instead.\n",
      "\n",
      "C:\\Users\\j.muessel\\Miniconda3\\envs\\pyenv\\lib\\site-packages\\emobpy\\consumption.py:413: FutureWarning:\n",
      "\n",
      "The frame.append method is deprecated and will be removed from pandas in a future version. Use pandas.concat instead.\n",
      "\n",
      "C:\\Users\\j.muessel\\Miniconda3\\envs\\pyenv\\lib\\site-packages\\emobpy\\consumption.py:413: FutureWarning:\n",
      "\n",
      "The frame.append method is deprecated and will be removed from pandas in a future version. Use pandas.concat instead.\n",
      "\n",
      "C:\\Users\\j.muessel\\Miniconda3\\envs\\pyenv\\lib\\site-packages\\emobpy\\consumption.py:413: FutureWarning:\n",
      "\n",
      "The frame.append method is deprecated and will be removed from pandas in a future version. Use pandas.concat instead.\n",
      "\n",
      "C:\\Users\\j.muessel\\Miniconda3\\envs\\pyenv\\lib\\site-packages\\emobpy\\consumption.py:413: FutureWarning:\n",
      "\n",
      "The frame.append method is deprecated and will be removed from pandas in a future version. Use pandas.concat instead.\n",
      "\n"
     ]
    }
   ],
   "source": [
    "dataframe = BEVS.search_by_parameter()"
   ]
  },
  {
   "cell_type": "code",
   "execution_count": 57,
   "id": "9ac1f97c",
   "metadata": {
    "pycharm": {
     "is_executing": true
    }
   },
   "outputs": [
    {
     "name": "stdout",
     "output_type": "stream",
     "text": [
      "Fallback value 0.9 added for missing battery_charging_eff parameter.\n",
      "Fallback value 0.95 added for missing battery_discharging_eff parameter.\n",
      "Fallback value 0.95 added for missing transmission_eff parameter.\n",
      "Fallback value 0.3 added for missing auxiliary_power parameter.\n",
      "Fallback value 3.5 added for missing cabin_volume parameter.\n",
      "Fallback value 1 added for missing hvac_cop_heating parameter.\n",
      "Fallback value 2 added for missing hvac_cop_cooling parameter.\n"
     ]
    }
   ],
   "source": [
    "VW_ID3 = BEVS.model(('Volkswagen','ID.3',2020))    # Model instance that contains vehicle parameters"
   ]
  },
  {
   "cell_type": "code",
   "execution_count": 58,
   "id": "f7435b57",
   "metadata": {
    "pycharm": {
     "is_executing": true
    }
   },
   "outputs": [
    {
     "data": {
      "text/plain": [
       "{'acc_0_100_kmh': None,\n",
       " 'axle_ratio': 10,\n",
       " 'battery_cap': 45.0,\n",
       " 'curb_weight': 1600.0,\n",
       " 'drag_coeff': 0.267,\n",
       " 'motor_type': 'Brushless DC',\n",
       " 'height': 1.552,\n",
       " 'length': 4.261,\n",
       " 'market': 'Europe',\n",
       " 'num_cells': None,\n",
       " 'num_modules': None,\n",
       " 'power': 93,\n",
       " 'reg_braking': 'Yes',\n",
       " 'top_speed': 160.0,\n",
       " 'torque': 310,\n",
       " 'trunk_volume': 0.39,\n",
       " 'battery_type': None,\n",
       " 'voltage': None,\n",
       " 'weight': None,\n",
       " 'width': 1.809,\n",
       " 'Brand': 'Volkswagen',\n",
       " 'EV Model': 'ID.3',\n",
       " 'Model year': 2020,\n",
       " 'pmr': 58.125,\n",
       " 'inertial_mass': 463.99999999999994,\n",
       " 'front_area': 2.807568,\n",
       " 'battery_charging_eff': 0.9,\n",
       " 'battery_discharging_eff': 0.95,\n",
       " 'transmission_eff': 0.95,\n",
       " 'auxiliary_power': 0.3,\n",
       " 'cabin_volume': 3.5,\n",
       " 'hvac_cop_heating': 1,\n",
       " 'hvac_cop_cooling': 2}"
      ]
     },
     "execution_count": 58,
     "metadata": {},
     "output_type": "execute_result"
    }
   ],
   "source": [
    "VW_ID3.parameters"
   ]
  },
  {
   "cell_type": "markdown",
   "id": "7c229d86",
   "metadata": {},
   "source": [
    "----------------------------------------------------------------------\n",
    "b) Calculate consumption for each trip and generate the time series\n",
    "\n",
    "----------------------------------------------------------------------"
   ]
  },
  {
   "cell_type": "code",
   "execution_count": 59,
   "id": "53e40ed3",
   "metadata": {
    "pycharm": {
     "is_executing": true
    }
   },
   "outputs": [],
   "source": [
    "c = Consumption(mname, VW_ID3)"
   ]
  },
  {
   "cell_type": "code",
   "execution_count": 60,
   "id": "5800c4e8",
   "metadata": {},
   "outputs": [],
   "source": [
    "mname = \"BEV2_W1_10dfc\""
   ]
  },
  {
   "cell_type": "code",
   "execution_count": 61,
   "id": "45afb46e",
   "metadata": {
    "pycharm": {
     "is_executing": true
    }
   },
   "outputs": [],
   "source": [
    "c.load_setting_mobility(DB)"
   ]
  },
  {
   "cell_type": "code",
   "execution_count": 62,
   "id": "635dae56",
   "metadata": {
    "pycharm": {
     "is_executing": true
    }
   },
   "outputs": [
    {
     "name": "stdout",
     "output_type": "stream",
     "text": [
      "New profile running: BEV1_W2_82968_Volkswagen_ID.3_2020_dd339\n",
      "temp Kelvin DE 2016 Timezone: Europe/Berlin\n",
      "pressure Pascal DE 2016 Timezone: Europe/Berlin\n",
      "dew_point Kelvin DE 2016 Timezone: Europe/Berlin\n",
      "Progress: 100% [15 / 15] trips\n"
     ]
    }
   ],
   "source": [
    "c.run(\n",
    "    heat_insulation=HI,\n",
    "    weather_country='DE',\n",
    "    weather_year=2016,\n",
    "    passenger_mass=75,                   # kg\n",
    "    passenger_sensible_heat=70,          # W\n",
    "    passenger_nr=1.5,                    # Passengers per vehicle including driver\n",
    "    air_cabin_heat_transfer_coef=20,     # W/(m2K). Interior walls\n",
    "    air_flow = 0.02,                     # m3/s. Ventilation\n",
    "    driving_cycle_type='WLTC',           # Two options \"WLTC\" or \"EPA\"\n",
    "    road_type=0,                         # For rolling resistance, Zero represents a new road.\n",
    "    road_slope=0\n",
    "    )"
   ]
  },
  {
   "cell_type": "code",
   "execution_count": 63,
   "id": "595dd5e7",
   "metadata": {
    "pycharm": {
     "is_executing": true
    }
   },
   "outputs": [
    {
     "name": "stdout",
     "output_type": "stream",
     "text": [
      " \n",
      "See Log files\n",
      "C:\\Users\\j.muessel\\Documents\\GitHub\\EES\\Emobpy\\my_emobpy\\log\\emobpy.log\n"
     ]
    }
   ],
   "source": [
    "c.save_profile('db')"
   ]
  },
  {
   "cell_type": "markdown",
   "id": "be5c806f",
   "metadata": {},
   "source": [
    "------------------------------\n",
    "c) See some attributes\n",
    "\n",
    "------------------------------"
   ]
  },
  {
   "cell_type": "code",
   "execution_count": 64,
   "id": "d0fad033",
   "metadata": {
    "pycharm": {
     "is_executing": true
    }
   },
   "outputs": [
    {
     "data": {
      "text/plain": [
       "'BEV1_W2_82968_Volkswagen_ID.3_2020_dd339'"
      ]
     },
     "execution_count": 64,
     "metadata": {},
     "output_type": "execute_result"
    }
   ],
   "source": [
    "c.name"
   ]
  },
  {
   "cell_type": "code",
   "execution_count": 65,
   "id": "0c6e3b81",
   "metadata": {
    "pycharm": {
     "is_executing": true
    }
   },
   "outputs": [
    {
     "data": {
      "text/plain": [
       "'consumption'"
      ]
     },
     "execution_count": 65,
     "metadata": {},
     "output_type": "execute_result"
    }
   ],
   "source": [
    "c.kind"
   ]
  },
  {
   "cell_type": "code",
   "execution_count": 66,
   "id": "9f02599b",
   "metadata": {
    "pycharm": {
     "is_executing": true
    }
   },
   "outputs": [
    {
     "data": {
      "text/plain": [
       "'BEV1_W2_82968'"
      ]
     },
     "execution_count": 66,
     "metadata": {},
     "output_type": "execute_result"
    }
   ],
   "source": [
    "c.input"
   ]
  },
  {
   "cell_type": "code",
   "execution_count": 67,
   "id": "84093dd0",
   "metadata": {
    "pycharm": {
     "is_executing": true
    }
   },
   "outputs": [
    {
     "data": {
      "text/plain": [
       "('Volkswagen', 'ID.3', '2020')"
      ]
     },
     "execution_count": 67,
     "metadata": {},
     "output_type": "execute_result"
    }
   ],
   "source": [
    "c.brand, c.model, c.year"
   ]
  },
  {
   "cell_type": "code",
   "execution_count": 68,
   "id": "0b9eb2eb",
   "metadata": {
    "pycharm": {
     "is_executing": true
    }
   },
   "outputs": [
    {
     "data": {
      "text/html": [
       "<div>\n",
       "<style scoped>\n",
       "    .dataframe tbody tr th:only-of-type {\n",
       "        vertical-align: middle;\n",
       "    }\n",
       "\n",
       "    .dataframe tbody tr th {\n",
       "        vertical-align: top;\n",
       "    }\n",
       "\n",
       "    .dataframe thead th {\n",
       "        text-align: right;\n",
       "    }\n",
       "</style>\n",
       "<table border=\"1\" class=\"dataframe\">\n",
       "  <thead>\n",
       "    <tr style=\"text-align: right;\">\n",
       "      <th></th>\n",
       "      <th>hh</th>\n",
       "      <th>state</th>\n",
       "      <th>distance</th>\n",
       "      <th>consumption</th>\n",
       "      <th>instant consumption in W</th>\n",
       "      <th>average power in W</th>\n",
       "    </tr>\n",
       "    <tr>\n",
       "      <th>date</th>\n",
       "      <th></th>\n",
       "      <th></th>\n",
       "      <th></th>\n",
       "      <th></th>\n",
       "      <th></th>\n",
       "      <th></th>\n",
       "    </tr>\n",
       "  </thead>\n",
       "  <tbody>\n",
       "    <tr>\n",
       "      <th>2020-01-01 00:00:00</th>\n",
       "      <td>0.0</td>\n",
       "      <td>home</td>\n",
       "      <td>0.0</td>\n",
       "      <td>0.0</td>\n",
       "      <td>0</td>\n",
       "      <td>0.0</td>\n",
       "    </tr>\n",
       "    <tr>\n",
       "      <th>2020-01-01 00:30:00</th>\n",
       "      <td>0.5</td>\n",
       "      <td>home</td>\n",
       "      <td>0.0</td>\n",
       "      <td>0.0</td>\n",
       "      <td>0</td>\n",
       "      <td>0.0</td>\n",
       "    </tr>\n",
       "    <tr>\n",
       "      <th>2020-01-01 01:00:00</th>\n",
       "      <td>1.0</td>\n",
       "      <td>home</td>\n",
       "      <td>0.0</td>\n",
       "      <td>0.0</td>\n",
       "      <td>0</td>\n",
       "      <td>0.0</td>\n",
       "    </tr>\n",
       "    <tr>\n",
       "      <th>2020-01-01 01:30:00</th>\n",
       "      <td>1.5</td>\n",
       "      <td>home</td>\n",
       "      <td>0.0</td>\n",
       "      <td>0.0</td>\n",
       "      <td>0</td>\n",
       "      <td>0.0</td>\n",
       "    </tr>\n",
       "    <tr>\n",
       "      <th>2020-01-01 02:00:00</th>\n",
       "      <td>2.0</td>\n",
       "      <td>home</td>\n",
       "      <td>0.0</td>\n",
       "      <td>0.0</td>\n",
       "      <td>0</td>\n",
       "      <td>0.0</td>\n",
       "    </tr>\n",
       "    <tr>\n",
       "      <th>...</th>\n",
       "      <td>...</td>\n",
       "      <td>...</td>\n",
       "      <td>...</td>\n",
       "      <td>...</td>\n",
       "      <td>...</td>\n",
       "      <td>...</td>\n",
       "    </tr>\n",
       "    <tr>\n",
       "      <th>2020-01-09 05:30:00</th>\n",
       "      <td>197.5</td>\n",
       "      <td>home</td>\n",
       "      <td>0.0</td>\n",
       "      <td>0.0</td>\n",
       "      <td>0</td>\n",
       "      <td>0.0</td>\n",
       "    </tr>\n",
       "    <tr>\n",
       "      <th>2020-01-09 06:00:00</th>\n",
       "      <td>198.0</td>\n",
       "      <td>home</td>\n",
       "      <td>0.0</td>\n",
       "      <td>0.0</td>\n",
       "      <td>0</td>\n",
       "      <td>0.0</td>\n",
       "    </tr>\n",
       "    <tr>\n",
       "      <th>2020-01-09 06:30:00</th>\n",
       "      <td>198.5</td>\n",
       "      <td>home</td>\n",
       "      <td>0.0</td>\n",
       "      <td>0.0</td>\n",
       "      <td>0</td>\n",
       "      <td>0.0</td>\n",
       "    </tr>\n",
       "    <tr>\n",
       "      <th>2020-01-09 07:00:00</th>\n",
       "      <td>199.0</td>\n",
       "      <td>home</td>\n",
       "      <td>0.0</td>\n",
       "      <td>0.0</td>\n",
       "      <td>0</td>\n",
       "      <td>0.0</td>\n",
       "    </tr>\n",
       "    <tr>\n",
       "      <th>2020-01-09 07:30:00</th>\n",
       "      <td>199.5</td>\n",
       "      <td>home</td>\n",
       "      <td>0.0</td>\n",
       "      <td>0.0</td>\n",
       "      <td>0</td>\n",
       "      <td>0.0</td>\n",
       "    </tr>\n",
       "  </tbody>\n",
       "</table>\n",
       "<p>400 rows × 6 columns</p>\n",
       "</div>"
      ],
      "text/plain": [
       "                        hh state distance  consumption  \\\n",
       "date                                                     \n",
       "2020-01-01 00:00:00    0.0  home      0.0          0.0   \n",
       "2020-01-01 00:30:00    0.5  home      0.0          0.0   \n",
       "2020-01-01 01:00:00    1.0  home      0.0          0.0   \n",
       "2020-01-01 01:30:00    1.5  home      0.0          0.0   \n",
       "2020-01-01 02:00:00    2.0  home      0.0          0.0   \n",
       "...                    ...   ...      ...          ...   \n",
       "2020-01-09 05:30:00  197.5  home      0.0          0.0   \n",
       "2020-01-09 06:00:00  198.0  home      0.0          0.0   \n",
       "2020-01-09 06:30:00  198.5  home      0.0          0.0   \n",
       "2020-01-09 07:00:00  199.0  home      0.0          0.0   \n",
       "2020-01-09 07:30:00  199.5  home      0.0          0.0   \n",
       "\n",
       "                    instant consumption in W average power in W  \n",
       "date                                                             \n",
       "2020-01-01 00:00:00                        0                0.0  \n",
       "2020-01-01 00:30:00                        0                0.0  \n",
       "2020-01-01 01:00:00                        0                0.0  \n",
       "2020-01-01 01:30:00                        0                0.0  \n",
       "2020-01-01 02:00:00                        0                0.0  \n",
       "...                                      ...                ...  \n",
       "2020-01-09 05:30:00                        0                0.0  \n",
       "2020-01-09 06:00:00                        0                0.0  \n",
       "2020-01-09 06:30:00                        0                0.0  \n",
       "2020-01-09 07:00:00                        0                0.0  \n",
       "2020-01-09 07:30:00                        0                0.0  \n",
       "\n",
       "[400 rows x 6 columns]"
      ]
     },
     "execution_count": 68,
     "metadata": {},
     "output_type": "execute_result"
    }
   ],
   "source": [
    "c.timeseries # Consumption in kWh/timestep -> timestep 15 min in this example"
   ]
  },
  {
   "cell_type": "code",
   "execution_count": 69,
   "id": "2f14c3bc",
   "metadata": {},
   "outputs": [
    {
     "data": {
      "text/plain": [
       "22.604564787992395"
      ]
     },
     "execution_count": 69,
     "metadata": {},
     "output_type": "execute_result"
    }
   ],
   "source": [
    "c.timeseries.consumption.max()"
   ]
  },
  {
   "cell_type": "code",
   "execution_count": 70,
   "id": "89ee421c",
   "metadata": {
    "pycharm": {
     "is_executing": true
    },
    "scrolled": false
   },
   "outputs": [
    {
     "data": {
      "text/html": [
       "<div>\n",
       "<style scoped>\n",
       "    .dataframe tbody tr th:only-of-type {\n",
       "        vertical-align: middle;\n",
       "    }\n",
       "\n",
       "    .dataframe tbody tr th {\n",
       "        vertical-align: top;\n",
       "    }\n",
       "\n",
       "    .dataframe thead th {\n",
       "        text-align: right;\n",
       "    }\n",
       "</style>\n",
       "<table border=\"1\" class=\"dataframe\">\n",
       "  <thead>\n",
       "    <tr style=\"text-align: right;\">\n",
       "      <th></th>\n",
       "      <th>datetime</th>\n",
       "      <th>hr</th>\n",
       "      <th>state</th>\n",
       "      <th>distance</th>\n",
       "      <th>trip_duration</th>\n",
       "      <th>speed km/h</th>\n",
       "      <th>wind_m/s</th>\n",
       "      <th>slope_rad</th>\n",
       "      <th>road_type</th>\n",
       "      <th>temp_degC</th>\n",
       "      <th>...</th>\n",
       "      <th>auxiliary kWh</th>\n",
       "      <th>hvac kWh</th>\n",
       "      <th>motor in kWh</th>\n",
       "      <th>transmission in kWh</th>\n",
       "      <th>wheel kWh</th>\n",
       "      <th>rolling res kWh</th>\n",
       "      <th>air res kWh</th>\n",
       "      <th>gravity kWh</th>\n",
       "      <th>acceleration kWh</th>\n",
       "      <th>trip code</th>\n",
       "    </tr>\n",
       "    <tr>\n",
       "      <th>hr</th>\n",
       "      <th></th>\n",
       "      <th></th>\n",
       "      <th></th>\n",
       "      <th></th>\n",
       "      <th></th>\n",
       "      <th></th>\n",
       "      <th></th>\n",
       "      <th></th>\n",
       "      <th></th>\n",
       "      <th></th>\n",
       "      <th></th>\n",
       "      <th></th>\n",
       "      <th></th>\n",
       "      <th></th>\n",
       "      <th></th>\n",
       "      <th></th>\n",
       "      <th></th>\n",
       "      <th></th>\n",
       "      <th></th>\n",
       "      <th></th>\n",
       "      <th></th>\n",
       "    </tr>\n",
       "  </thead>\n",
       "  <tbody>\n",
       "    <tr>\n",
       "      <th>5.5</th>\n",
       "      <td>2020-01-01 05:30:00</td>\n",
       "      <td>5.5</td>\n",
       "      <td>home</td>\n",
       "      <td>0.0</td>\n",
       "      <td>0.0</td>\n",
       "      <td>NaN</td>\n",
       "      <td>0</td>\n",
       "      <td>0</td>\n",
       "      <td>0</td>\n",
       "      <td>2.06</td>\n",
       "      <td>...</td>\n",
       "      <td>NaN</td>\n",
       "      <td>NaN</td>\n",
       "      <td>NaN</td>\n",
       "      <td>NaN</td>\n",
       "      <td>NaN</td>\n",
       "      <td>NaN</td>\n",
       "      <td>NaN</td>\n",
       "      <td>NaN</td>\n",
       "      <td>NaN</td>\n",
       "      <td>NaN</td>\n",
       "    </tr>\n",
       "    <tr>\n",
       "      <th>6.5</th>\n",
       "      <td>2020-01-01 06:30:00</td>\n",
       "      <td>6.5</td>\n",
       "      <td>driving</td>\n",
       "      <td>20.0</td>\n",
       "      <td>45.0</td>\n",
       "      <td>26.666667</td>\n",
       "      <td>0</td>\n",
       "      <td>0</td>\n",
       "      <td>0</td>\n",
       "      <td>1.99</td>\n",
       "      <td>...</td>\n",
       "      <td>0.2250</td>\n",
       "      <td>0.873827</td>\n",
       "      <td>2.934419</td>\n",
       "      <td>2.463554</td>\n",
       "      <td>2.340376</td>\n",
       "      <td>0.960875</td>\n",
       "      <td>0.368052</td>\n",
       "      <td>0.0</td>\n",
       "      <td>1.011448</td>\n",
       "      <td>0.0</td>\n",
       "    </tr>\n",
       "    <tr>\n",
       "      <th>9.0</th>\n",
       "      <td>2020-01-01 09:00:00</td>\n",
       "      <td>9.0</td>\n",
       "      <td>escort</td>\n",
       "      <td>0.0</td>\n",
       "      <td>0.0</td>\n",
       "      <td>NaN</td>\n",
       "      <td>0</td>\n",
       "      <td>0</td>\n",
       "      <td>0</td>\n",
       "      <td>1.96</td>\n",
       "      <td>...</td>\n",
       "      <td>NaN</td>\n",
       "      <td>NaN</td>\n",
       "      <td>NaN</td>\n",
       "      <td>NaN</td>\n",
       "      <td>NaN</td>\n",
       "      <td>NaN</td>\n",
       "      <td>NaN</td>\n",
       "      <td>NaN</td>\n",
       "      <td>NaN</td>\n",
       "      <td>NaN</td>\n",
       "    </tr>\n",
       "    <tr>\n",
       "      <th>10.0</th>\n",
       "      <td>2020-01-01 10:00:00</td>\n",
       "      <td>10.0</td>\n",
       "      <td>driving</td>\n",
       "      <td>19.0</td>\n",
       "      <td>43.5</td>\n",
       "      <td>26.206897</td>\n",
       "      <td>0</td>\n",
       "      <td>0</td>\n",
       "      <td>0</td>\n",
       "      <td>2.30</td>\n",
       "      <td>...</td>\n",
       "      <td>0.2175</td>\n",
       "      <td>0.822063</td>\n",
       "      <td>2.692912</td>\n",
       "      <td>2.247721</td>\n",
       "      <td>2.135335</td>\n",
       "      <td>0.885715</td>\n",
       "      <td>0.322751</td>\n",
       "      <td>0.0</td>\n",
       "      <td>0.926868</td>\n",
       "      <td>1.0</td>\n",
       "    </tr>\n",
       "    <tr>\n",
       "      <th>10.5</th>\n",
       "      <td>2020-01-01 10:30:00</td>\n",
       "      <td>10.5</td>\n",
       "      <td>errands</td>\n",
       "      <td>0.0</td>\n",
       "      <td>0.0</td>\n",
       "      <td>NaN</td>\n",
       "      <td>0</td>\n",
       "      <td>0</td>\n",
       "      <td>0</td>\n",
       "      <td>2.30</td>\n",
       "      <td>...</td>\n",
       "      <td>NaN</td>\n",
       "      <td>NaN</td>\n",
       "      <td>NaN</td>\n",
       "      <td>NaN</td>\n",
       "      <td>NaN</td>\n",
       "      <td>NaN</td>\n",
       "      <td>NaN</td>\n",
       "      <td>NaN</td>\n",
       "      <td>NaN</td>\n",
       "      <td>NaN</td>\n",
       "    </tr>\n",
       "  </tbody>\n",
       "</table>\n",
       "<p>5 rows × 29 columns</p>\n",
       "</div>"
      ],
      "text/plain": [
       "                datetime    hr    state  distance  trip_duration  speed km/h  \\\n",
       "hr                                                                             \n",
       "5.5  2020-01-01 05:30:00   5.5     home       0.0            0.0         NaN   \n",
       "6.5  2020-01-01 06:30:00   6.5  driving      20.0           45.0   26.666667   \n",
       "9.0  2020-01-01 09:00:00   9.0   escort       0.0            0.0         NaN   \n",
       "10.0 2020-01-01 10:00:00  10.0  driving      19.0           43.5   26.206897   \n",
       "10.5 2020-01-01 10:30:00  10.5  errands       0.0            0.0         NaN   \n",
       "\n",
       "      wind_m/s  slope_rad  road_type  temp_degC  ...  auxiliary kWh  hvac kWh  \\\n",
       "hr                                               ...                            \n",
       "5.5          0          0          0       2.06  ...            NaN       NaN   \n",
       "6.5          0          0          0       1.99  ...         0.2250  0.873827   \n",
       "9.0          0          0          0       1.96  ...            NaN       NaN   \n",
       "10.0         0          0          0       2.30  ...         0.2175  0.822063   \n",
       "10.5         0          0          0       2.30  ...            NaN       NaN   \n",
       "\n",
       "      motor in kWh  transmission in kWh wheel kWh  rolling res kWh  \\\n",
       "hr                                                                   \n",
       "5.5            NaN                  NaN       NaN              NaN   \n",
       "6.5       2.934419             2.463554  2.340376         0.960875   \n",
       "9.0            NaN                  NaN       NaN              NaN   \n",
       "10.0      2.692912             2.247721  2.135335         0.885715   \n",
       "10.5           NaN                  NaN       NaN              NaN   \n",
       "\n",
       "      air res kWh  gravity kWh  acceleration kWh  trip code  \n",
       "hr                                                           \n",
       "5.5           NaN          NaN               NaN        NaN  \n",
       "6.5      0.368052          0.0          1.011448        0.0  \n",
       "9.0           NaN          NaN               NaN        NaN  \n",
       "10.0     0.322751          0.0          0.926868        1.0  \n",
       "10.5          NaN          NaN               NaN        NaN  \n",
       "\n",
       "[5 rows x 29 columns]"
      ]
     },
     "execution_count": 70,
     "metadata": {},
     "output_type": "execute_result"
    }
   ],
   "source": [
    "c.profile.head()"
   ]
  },
  {
   "cell_type": "markdown",
   "id": "b1c68cf0",
   "metadata": {},
   "source": [
    "-------------------------\n",
    "d) Visualization\n",
    "\n",
    "-------------------------"
   ]
  },
  {
   "cell_type": "code",
   "execution_count": 71,
   "id": "918d2880",
   "metadata": {
    "pycharm": {
     "is_executing": true
    }
   },
   "outputs": [],
   "source": [
    "#fig_consumption = PLT.sankey(c.name, include=None, to_html=False, path=None)"
   ]
  },
  {
   "cell_type": "code",
   "execution_count": 72,
   "id": "4ba72eb9",
   "metadata": {
    "pycharm": {
     "is_executing": true
    }
   },
   "outputs": [],
   "source": [
    "#fig_consumption"
   ]
  },
  {
   "cell_type": "markdown",
   "id": "fabd6738",
   "metadata": {},
   "source": [
    "-------------------------------------------------------------------\n",
    "## Step 3: Grid availability time series\n",
    "-------------------------------------------------------------------\n",
    "a) probability distribution and power rating for charging stations\n",
    "\n",
    "-------------------------------------------------------------------"
   ]
  },
  {
   "cell_type": "code",
   "execution_count": 73,
   "id": "016bde3b",
   "metadata": {
    "pycharm": {
     "is_executing": true
    }
   },
   "outputs": [],
   "source": [
    "from emobpy import Availability"
   ]
  },
  {
   "cell_type": "code",
   "execution_count": 74,
   "id": "cd8ff32f",
   "metadata": {
    "pycharm": {
     "is_executing": true
    }
   },
   "outputs": [],
   "source": [
    "DB.update()                               # This load new generated files that are hosted in database folder\n",
    "cname = c.name                            # getting the id of the first consumption profile\n",
    "\n",
    "\n",
    "station_distribution = {                  # Dictionary with charging stations type probability distribution per the purpose of the trip (location or destination)\n",
    "    'prob_charging_point': {\n",
    "        'errands': {'public': 0.5, 'none': 0.5},\n",
    "        'escort': {'public': 0.5, 'none': 0.5},\n",
    "        'leisure': {'public': 0.5, 'none': 0.5},\n",
    "        'shopping': {'public': 0.5, 'none': 0.5},\n",
    "        'home': {'public': 0.5, 'none': 0.5},\n",
    "        'workplace': {'public': 0.0, 'workplace': 1.0, 'none': 0.0},   # If the vehicle is at the workplace, it will always find a charging station available (assumption)\n",
    "        'driving': {'none': 0.99, 'fast75': 0.005, 'fast150': 0.005}}, # with the low probability given to fast charging is to ensure fast charging only for very long trips (assumption)\n",
    "    'capacity_charging_point': {                                       # Nominal power rating of charging station in kW\n",
    "        'public': 22,\n",
    "        'home': 3.7,\n",
    "        'workplace': 11,\n",
    "        'none': 0,  # dummy station\n",
    "        'fast75': 75,\n",
    "        'fast150': 150}\n",
    "}"
   ]
  },
  {
   "cell_type": "markdown",
   "id": "ba75c979",
   "metadata": {},
   "source": [
    "--------------------------------\n",
    "b) Generate time series\n",
    "\n",
    "--------------------------------"
   ]
  },
  {
   "cell_type": "code",
   "execution_count": 75,
   "id": "36712618",
   "metadata": {
    "pycharm": {
     "is_executing": true
    }
   },
   "outputs": [],
   "source": [
    "ga = Availability(cname, DB)"
   ]
  },
  {
   "cell_type": "code",
   "execution_count": 76,
   "id": "c22a24b0",
   "metadata": {
    "pycharm": {
     "is_executing": true
    }
   },
   "outputs": [],
   "source": [
    "ga.set_scenario(station_distribution)"
   ]
  },
  {
   "cell_type": "code",
   "execution_count": 77,
   "id": "163284d1",
   "metadata": {
    "pycharm": {
     "is_executing": true
    }
   },
   "outputs": [
    {
     "name": "stdout",
     "output_type": "stream",
     "text": [
      "soc_init:0.5 --> soc_end:0.973\n",
      "Profile done: BEV1_W2_82968_Volkswagen_ID.3_2020_dd339_avai_92dd0\n"
     ]
    }
   ],
   "source": [
    "ga.run()"
   ]
  },
  {
   "cell_type": "code",
   "execution_count": 78,
   "id": "df1da6f5",
   "metadata": {
    "pycharm": {
     "is_executing": true
    }
   },
   "outputs": [
    {
     "name": "stdout",
     "output_type": "stream",
     "text": [
      " \n",
      "See Log files\n",
      "C:\\Users\\j.muessel\\Documents\\GitHub\\EES\\Emobpy\\my_emobpy\\log\\emobpy.log\n"
     ]
    }
   ],
   "source": [
    "ga.save_profile('db')"
   ]
  },
  {
   "cell_type": "markdown",
   "id": "0714c295",
   "metadata": {},
   "source": [
    "--------------------------------\n",
    "b) See some attributes\n",
    "\n",
    "--------------------------------"
   ]
  },
  {
   "cell_type": "code",
   "execution_count": 79,
   "id": "65e3d22a",
   "metadata": {
    "pycharm": {
     "is_executing": true
    }
   },
   "outputs": [
    {
     "data": {
      "text/plain": [
       "'BEV1_W2_82968_Volkswagen_ID.3_2020_dd339_avai_92dd0'"
      ]
     },
     "execution_count": 79,
     "metadata": {},
     "output_type": "execute_result"
    }
   ],
   "source": [
    "ga.name"
   ]
  },
  {
   "cell_type": "code",
   "execution_count": 80,
   "id": "8c7a32eb",
   "metadata": {
    "pycharm": {
     "is_executing": true
    }
   },
   "outputs": [
    {
     "data": {
      "text/plain": [
       "'BEV1_W2_82968_Volkswagen_ID.3_2020_dd339'"
      ]
     },
     "execution_count": 80,
     "metadata": {},
     "output_type": "execute_result"
    }
   ],
   "source": [
    "ga.input"
   ]
  },
  {
   "cell_type": "code",
   "execution_count": 81,
   "id": "35b48346",
   "metadata": {
    "pycharm": {
     "is_executing": true
    }
   },
   "outputs": [
    {
     "data": {
      "text/plain": [
       "'availability'"
      ]
     },
     "execution_count": 81,
     "metadata": {},
     "output_type": "execute_result"
    }
   ],
   "source": [
    "ga.kind"
   ]
  },
  {
   "cell_type": "code",
   "execution_count": 82,
   "id": "3e31dc25",
   "metadata": {
    "pycharm": {
     "is_executing": true
    }
   },
   "outputs": [
    {
     "data": {
      "text/plain": [
       "45.0"
      ]
     },
     "execution_count": 82,
     "metadata": {},
     "output_type": "execute_result"
    }
   ],
   "source": [
    "ga.battery_capacity"
   ]
  },
  {
   "cell_type": "code",
   "execution_count": 83,
   "id": "7f73cb30",
   "metadata": {
    "pycharm": {
     "is_executing": true
    }
   },
   "outputs": [
    {
     "data": {
      "text/plain": [
       "0.9"
      ]
     },
     "execution_count": 83,
     "metadata": {},
     "output_type": "execute_result"
    }
   ],
   "source": [
    "ga.charging_eff"
   ]
  },
  {
   "cell_type": "code",
   "execution_count": 84,
   "id": "415ab9d0",
   "metadata": {
    "pycharm": {
     "is_executing": true
    }
   },
   "outputs": [
    {
     "data": {
      "text/plain": [
       "0.95"
      ]
     },
     "execution_count": 84,
     "metadata": {},
     "output_type": "execute_result"
    }
   ],
   "source": [
    "ga.discharging_eff"
   ]
  },
  {
   "cell_type": "code",
   "execution_count": 85,
   "id": "1b074665",
   "metadata": {
    "pycharm": {
     "is_executing": true
    }
   },
   "outputs": [
    {
     "data": {
      "text/plain": [
       "0.5"
      ]
     },
     "execution_count": 85,
     "metadata": {},
     "output_type": "execute_result"
    }
   ],
   "source": [
    "ga.soc_init"
   ]
  },
  {
   "cell_type": "code",
   "execution_count": 86,
   "id": "e8f4bde6",
   "metadata": {
    "pycharm": {
     "is_executing": true
    }
   },
   "outputs": [
    {
     "data": {
      "text/plain": [
       "0.02"
      ]
     },
     "execution_count": 86,
     "metadata": {},
     "output_type": "execute_result"
    }
   ],
   "source": [
    "ga.soc_min"
   ]
  },
  {
   "cell_type": "code",
   "execution_count": 87,
   "id": "1c947332",
   "metadata": {
    "pycharm": {
     "is_executing": true
    }
   },
   "outputs": [
    {
     "data": {
      "text/html": [
       "<div>\n",
       "<style scoped>\n",
       "    .dataframe tbody tr th:only-of-type {\n",
       "        vertical-align: middle;\n",
       "    }\n",
       "\n",
       "    .dataframe tbody tr th {\n",
       "        vertical-align: top;\n",
       "    }\n",
       "\n",
       "    .dataframe thead th {\n",
       "        text-align: right;\n",
       "    }\n",
       "</style>\n",
       "<table border=\"1\" class=\"dataframe\">\n",
       "  <thead>\n",
       "    <tr style=\"text-align: right;\">\n",
       "      <th></th>\n",
       "      <th>hh</th>\n",
       "      <th>state</th>\n",
       "      <th>distance</th>\n",
       "      <th>consumption</th>\n",
       "      <th>charging_point</th>\n",
       "      <th>charging_cap</th>\n",
       "      <th>soc</th>\n",
       "    </tr>\n",
       "    <tr>\n",
       "      <th>date</th>\n",
       "      <th></th>\n",
       "      <th></th>\n",
       "      <th></th>\n",
       "      <th></th>\n",
       "      <th></th>\n",
       "      <th></th>\n",
       "      <th></th>\n",
       "    </tr>\n",
       "  </thead>\n",
       "  <tbody>\n",
       "    <tr>\n",
       "      <th>2020-01-01 00:00:00</th>\n",
       "      <td>0.0</td>\n",
       "      <td>home</td>\n",
       "      <td>0.0</td>\n",
       "      <td>0.0</td>\n",
       "      <td>public</td>\n",
       "      <td>22</td>\n",
       "      <td>0.72</td>\n",
       "    </tr>\n",
       "    <tr>\n",
       "      <th>2020-01-01 00:30:00</th>\n",
       "      <td>0.5</td>\n",
       "      <td>home</td>\n",
       "      <td>0.0</td>\n",
       "      <td>0.0</td>\n",
       "      <td>public</td>\n",
       "      <td>22</td>\n",
       "      <td>0.94</td>\n",
       "    </tr>\n",
       "    <tr>\n",
       "      <th>2020-01-01 01:00:00</th>\n",
       "      <td>1.0</td>\n",
       "      <td>home</td>\n",
       "      <td>0.0</td>\n",
       "      <td>0.0</td>\n",
       "      <td>public</td>\n",
       "      <td>22</td>\n",
       "      <td>1.0</td>\n",
       "    </tr>\n",
       "    <tr>\n",
       "      <th>2020-01-01 01:30:00</th>\n",
       "      <td>1.5</td>\n",
       "      <td>home</td>\n",
       "      <td>0.0</td>\n",
       "      <td>0.0</td>\n",
       "      <td>public</td>\n",
       "      <td>22</td>\n",
       "      <td>1.0</td>\n",
       "    </tr>\n",
       "    <tr>\n",
       "      <th>2020-01-01 02:00:00</th>\n",
       "      <td>2.0</td>\n",
       "      <td>home</td>\n",
       "      <td>0.0</td>\n",
       "      <td>0.0</td>\n",
       "      <td>public</td>\n",
       "      <td>22</td>\n",
       "      <td>1.0</td>\n",
       "    </tr>\n",
       "    <tr>\n",
       "      <th>...</th>\n",
       "      <td>...</td>\n",
       "      <td>...</td>\n",
       "      <td>...</td>\n",
       "      <td>...</td>\n",
       "      <td>...</td>\n",
       "      <td>...</td>\n",
       "      <td>...</td>\n",
       "    </tr>\n",
       "    <tr>\n",
       "      <th>2020-01-09 05:30:00</th>\n",
       "      <td>197.5</td>\n",
       "      <td>home</td>\n",
       "      <td>0.0</td>\n",
       "      <td>0.0</td>\n",
       "      <td>none</td>\n",
       "      <td>0</td>\n",
       "      <td>0.973283</td>\n",
       "    </tr>\n",
       "    <tr>\n",
       "      <th>2020-01-09 06:00:00</th>\n",
       "      <td>198.0</td>\n",
       "      <td>home</td>\n",
       "      <td>0.0</td>\n",
       "      <td>0.0</td>\n",
       "      <td>none</td>\n",
       "      <td>0</td>\n",
       "      <td>0.973283</td>\n",
       "    </tr>\n",
       "    <tr>\n",
       "      <th>2020-01-09 06:30:00</th>\n",
       "      <td>198.5</td>\n",
       "      <td>home</td>\n",
       "      <td>0.0</td>\n",
       "      <td>0.0</td>\n",
       "      <td>none</td>\n",
       "      <td>0</td>\n",
       "      <td>0.973283</td>\n",
       "    </tr>\n",
       "    <tr>\n",
       "      <th>2020-01-09 07:00:00</th>\n",
       "      <td>199.0</td>\n",
       "      <td>home</td>\n",
       "      <td>0.0</td>\n",
       "      <td>0.0</td>\n",
       "      <td>none</td>\n",
       "      <td>0</td>\n",
       "      <td>0.973283</td>\n",
       "    </tr>\n",
       "    <tr>\n",
       "      <th>2020-01-09 07:30:00</th>\n",
       "      <td>199.5</td>\n",
       "      <td>home</td>\n",
       "      <td>0.0</td>\n",
       "      <td>0.0</td>\n",
       "      <td>none</td>\n",
       "      <td>0</td>\n",
       "      <td>0.973283</td>\n",
       "    </tr>\n",
       "  </tbody>\n",
       "</table>\n",
       "<p>400 rows × 7 columns</p>\n",
       "</div>"
      ],
      "text/plain": [
       "                        hh state distance consumption charging_point  \\\n",
       "date                                                                   \n",
       "2020-01-01 00:00:00    0.0  home      0.0         0.0         public   \n",
       "2020-01-01 00:30:00    0.5  home      0.0         0.0         public   \n",
       "2020-01-01 01:00:00    1.0  home      0.0         0.0         public   \n",
       "2020-01-01 01:30:00    1.5  home      0.0         0.0         public   \n",
       "2020-01-01 02:00:00    2.0  home      0.0         0.0         public   \n",
       "...                    ...   ...      ...         ...            ...   \n",
       "2020-01-09 05:30:00  197.5  home      0.0         0.0           none   \n",
       "2020-01-09 06:00:00  198.0  home      0.0         0.0           none   \n",
       "2020-01-09 06:30:00  198.5  home      0.0         0.0           none   \n",
       "2020-01-09 07:00:00  199.0  home      0.0         0.0           none   \n",
       "2020-01-09 07:30:00  199.5  home      0.0         0.0           none   \n",
       "\n",
       "                    charging_cap       soc  \n",
       "date                                        \n",
       "2020-01-01 00:00:00           22      0.72  \n",
       "2020-01-01 00:30:00           22      0.94  \n",
       "2020-01-01 01:00:00           22       1.0  \n",
       "2020-01-01 01:30:00           22       1.0  \n",
       "2020-01-01 02:00:00           22       1.0  \n",
       "...                          ...       ...  \n",
       "2020-01-09 05:30:00            0  0.973283  \n",
       "2020-01-09 06:00:00            0  0.973283  \n",
       "2020-01-09 06:30:00            0  0.973283  \n",
       "2020-01-09 07:00:00            0  0.973283  \n",
       "2020-01-09 07:30:00            0  0.973283  \n",
       "\n",
       "[400 rows x 7 columns]"
      ]
     },
     "execution_count": 87,
     "metadata": {},
     "output_type": "execute_result"
    }
   ],
   "source": [
    "ga.timeseries"
   ]
  },
  {
   "cell_type": "code",
   "execution_count": 88,
   "id": "28d7da16",
   "metadata": {},
   "outputs": [],
   "source": [
    "consumption_ts = ga.timeseries.consumption ##\n",
    "availability_ts = ga.timeseries.charging_cap"
   ]
  },
  {
   "cell_type": "code",
   "execution_count": 66,
   "id": "810a57d5",
   "metadata": {},
   "outputs": [],
   "source": [
    "availability_ts.to_pickle(\"availability_ts\")\n",
    "consumption_ts.to_pickle(\"consumption_ts\")"
   ]
  },
  {
   "cell_type": "markdown",
   "id": "949bd20a",
   "metadata": {},
   "source": [
    "-------------------------\n",
    "c) Visualization\n",
    "\n",
    "-------------------------"
   ]
  },
  {
   "cell_type": "code",
   "execution_count": 89,
   "id": "b1ef590d",
   "metadata": {
    "pycharm": {
     "is_executing": true
    }
   },
   "outputs": [],
   "source": [
    "#fig_availability = PLT.sgplot_ga(ga.name, rng=None, to_html=False, path=None)"
   ]
  },
  {
   "cell_type": "code",
   "execution_count": 90,
   "id": "9fdb778d",
   "metadata": {
    "pycharm": {
     "is_executing": true
    }
   },
   "outputs": [],
   "source": [
    "#fig_availability"
   ]
  },
  {
   "cell_type": "markdown",
   "id": "65bf08f2",
   "metadata": {},
   "source": [
    "----------------------------------------------------------\n",
    "## Step 4: Grid electricity demand time series\n",
    "----------------------------------------------------------\n",
    "a) Selection of charging strategies\n",
    "\n",
    "---------------------------------------"
   ]
  },
  {
   "cell_type": "code",
   "execution_count": 91,
   "id": "15b1d0a5",
   "metadata": {
    "pycharm": {
     "is_executing": true
    }
   },
   "outputs": [],
   "source": [
    "from emobpy import Charging\n"
   ]
  },
  {
   "cell_type": "code",
   "execution_count": 92,
   "id": "d515c6d7",
   "metadata": {
    "pycharm": {
     "is_executing": true
    }
   },
   "outputs": [],
   "source": [
    "DB.update()\n",
    "\n",
    "aname = ga.name                            # getting the id of the availability profile\n",
    "\n",
    "strategies = [\n",
    "              \"immediate\",                 # When battery has SOC < 100% then it charges immediatelly at a maximun power rating of the current charging station\n",
    "              \"balanced\",                  # When battery has SOC < 100% then it charges immediatelly but at lower rating power to ensure 100% SOC at the end (before moving to another place).\n",
    "              \"from_0_to_24_at_home\",      # Customized: starting time of charging (this case 0 hrs), final time of charging (this case 24 hrs), at could be one 'location' (this case 'home') or 'any'.\n",
    "              \"from_23_to_8_at_any\"\n",
    "             ]\n",
    "\n"
   ]
  },
  {
   "cell_type": "markdown",
   "id": "6a06262d",
   "metadata": {},
   "source": [
    "------------------------------------------------------\n",
    "b) generation of 4 grid electricity demand time series\n",
    "\n",
    "------------------------------------------------------"
   ]
  },
  {
   "cell_type": "code",
   "execution_count": 93,
   "id": "8f2e4cc9",
   "metadata": {
    "pycharm": {
     "is_executing": true
    }
   },
   "outputs": [
    {
     "name": "stdout",
     "output_type": "stream",
     "text": [
      "Profile done: BEV1_W2_82968_Volkswagen_ID.3_2020_dd339_avai_92dd0_immediate_89ed5\n",
      "Creation Successful:True\n",
      "Profile done: BEV1_W2_82968_Volkswagen_ID.3_2020_dd339_avai_92dd0_balanced_79f68\n",
      "Creation Successful:True\n",
      "Profile done: BEV1_W2_82968_Volkswagen_ID.3_2020_dd339_avai_92dd0_from_0_to_24_at_home_c6016\n",
      "Creation Successful:True\n",
      "Profile done: BEV1_W2_82968_Volkswagen_ID.3_2020_dd339_avai_92dd0_from_23_to_8_at_any_98d77\n",
      "Creation Successful:True\n"
     ]
    }
   ],
   "source": [
    "for option in strategies:\n",
    "    ged = Charging(aname)\n",
    "    ged.load_scenario(DB)\n",
    "    ged.set_sub_scenario(option)\n",
    "    ged.run()\n",
    "    print(f'Creation Successful:{ged.success}')   # if False, modify the strategy to a less constrained.\n",
    "    ged.save_profile('db')"
   ]
  },
  {
   "cell_type": "markdown",
   "id": "d9a48605",
   "metadata": {},
   "source": [
    "-----------------------------------------------------------------------------\n",
    "c) See some atributes for the last created time series as an example\n",
    "\n",
    "-----------------------------------------------------------------------------"
   ]
  },
  {
   "cell_type": "code",
   "execution_count": 94,
   "id": "36f44d59",
   "metadata": {
    "pycharm": {
     "is_executing": true
    }
   },
   "outputs": [
    {
     "data": {
      "text/plain": [
       "'BEV1_W2_82968_Volkswagen_ID.3_2020_dd339_avai_92dd0_from_23_to_8_at_any_98d77'"
      ]
     },
     "execution_count": 94,
     "metadata": {},
     "output_type": "execute_result"
    }
   ],
   "source": [
    "ged.name"
   ]
  },
  {
   "cell_type": "code",
   "execution_count": 95,
   "id": "b5b1ffa2",
   "metadata": {
    "pycharm": {
     "is_executing": true
    }
   },
   "outputs": [
    {
     "data": {
      "text/plain": [
       "'BEV1_W2_82968_Volkswagen_ID.3_2020_dd339_avai_92dd0'"
      ]
     },
     "execution_count": 95,
     "metadata": {},
     "output_type": "execute_result"
    }
   ],
   "source": [
    "ged.input"
   ]
  },
  {
   "cell_type": "code",
   "execution_count": 96,
   "id": "40ed3acd",
   "metadata": {
    "pycharm": {
     "is_executing": true
    }
   },
   "outputs": [
    {
     "data": {
      "text/plain": [
       "'charging'"
      ]
     },
     "execution_count": 96,
     "metadata": {},
     "output_type": "execute_result"
    }
   ],
   "source": [
    "ged.kind"
   ]
  },
  {
   "cell_type": "code",
   "execution_count": 97,
   "id": "4b21ec61",
   "metadata": {
    "pycharm": {
     "is_executing": true
    }
   },
   "outputs": [
    {
     "data": {
      "text/plain": [
       "'from_23_to_8_at_any'"
      ]
     },
     "execution_count": 97,
     "metadata": {},
     "output_type": "execute_result"
    }
   ],
   "source": [
    "ged.option"
   ]
  },
  {
   "cell_type": "code",
   "execution_count": 98,
   "id": "76c47d39",
   "metadata": {
    "pycharm": {
     "is_executing": true
    },
    "scrolled": true
   },
   "outputs": [
    {
     "data": {
      "text/html": [
       "<div>\n",
       "<style scoped>\n",
       "    .dataframe tbody tr th:only-of-type {\n",
       "        vertical-align: middle;\n",
       "    }\n",
       "\n",
       "    .dataframe tbody tr th {\n",
       "        vertical-align: top;\n",
       "    }\n",
       "\n",
       "    .dataframe thead th {\n",
       "        text-align: right;\n",
       "    }\n",
       "</style>\n",
       "<table border=\"1\" class=\"dataframe\">\n",
       "  <thead>\n",
       "    <tr style=\"text-align: right;\">\n",
       "      <th></th>\n",
       "      <th>hh</th>\n",
       "      <th>state</th>\n",
       "      <th>distance</th>\n",
       "      <th>consumption</th>\n",
       "      <th>charging_point</th>\n",
       "      <th>charging_cap</th>\n",
       "      <th>actual_soc</th>\n",
       "      <th>charge_battery</th>\n",
       "      <th>charge_grid</th>\n",
       "    </tr>\n",
       "    <tr>\n",
       "      <th>date</th>\n",
       "      <th></th>\n",
       "      <th></th>\n",
       "      <th></th>\n",
       "      <th></th>\n",
       "      <th></th>\n",
       "      <th></th>\n",
       "      <th></th>\n",
       "      <th></th>\n",
       "      <th></th>\n",
       "    </tr>\n",
       "  </thead>\n",
       "  <tbody>\n",
       "    <tr>\n",
       "      <th>2020-01-01 00:00:00</th>\n",
       "      <td>0.0</td>\n",
       "      <td>home</td>\n",
       "      <td>0.0</td>\n",
       "      <td>0.0</td>\n",
       "      <td>public</td>\n",
       "      <td>22</td>\n",
       "      <td>0.541667</td>\n",
       "      <td>3.75</td>\n",
       "      <td>4.166667</td>\n",
       "    </tr>\n",
       "    <tr>\n",
       "      <th>2020-01-01 00:30:00</th>\n",
       "      <td>0.5</td>\n",
       "      <td>home</td>\n",
       "      <td>0.0</td>\n",
       "      <td>0.0</td>\n",
       "      <td>public</td>\n",
       "      <td>22</td>\n",
       "      <td>0.583333</td>\n",
       "      <td>3.75</td>\n",
       "      <td>4.166667</td>\n",
       "    </tr>\n",
       "    <tr>\n",
       "      <th>2020-01-01 01:00:00</th>\n",
       "      <td>1.0</td>\n",
       "      <td>home</td>\n",
       "      <td>0.0</td>\n",
       "      <td>0.0</td>\n",
       "      <td>public</td>\n",
       "      <td>22</td>\n",
       "      <td>0.625</td>\n",
       "      <td>3.75</td>\n",
       "      <td>4.166667</td>\n",
       "    </tr>\n",
       "    <tr>\n",
       "      <th>2020-01-01 01:30:00</th>\n",
       "      <td>1.5</td>\n",
       "      <td>home</td>\n",
       "      <td>0.0</td>\n",
       "      <td>0.0</td>\n",
       "      <td>public</td>\n",
       "      <td>22</td>\n",
       "      <td>0.666667</td>\n",
       "      <td>3.75</td>\n",
       "      <td>4.166667</td>\n",
       "    </tr>\n",
       "    <tr>\n",
       "      <th>2020-01-01 02:00:00</th>\n",
       "      <td>2.0</td>\n",
       "      <td>home</td>\n",
       "      <td>0.0</td>\n",
       "      <td>0.0</td>\n",
       "      <td>public</td>\n",
       "      <td>22</td>\n",
       "      <td>0.708333</td>\n",
       "      <td>3.75</td>\n",
       "      <td>4.166667</td>\n",
       "    </tr>\n",
       "    <tr>\n",
       "      <th>...</th>\n",
       "      <td>...</td>\n",
       "      <td>...</td>\n",
       "      <td>...</td>\n",
       "      <td>...</td>\n",
       "      <td>...</td>\n",
       "      <td>...</td>\n",
       "      <td>...</td>\n",
       "      <td>...</td>\n",
       "      <td>...</td>\n",
       "    </tr>\n",
       "    <tr>\n",
       "      <th>2020-01-09 05:30:00</th>\n",
       "      <td>197.5</td>\n",
       "      <td>home</td>\n",
       "      <td>0.0</td>\n",
       "      <td>0.0</td>\n",
       "      <td>none</td>\n",
       "      <td>0</td>\n",
       "      <td>0.973283</td>\n",
       "      <td>0.0</td>\n",
       "      <td>0.0</td>\n",
       "    </tr>\n",
       "    <tr>\n",
       "      <th>2020-01-09 06:00:00</th>\n",
       "      <td>198.0</td>\n",
       "      <td>home</td>\n",
       "      <td>0.0</td>\n",
       "      <td>0.0</td>\n",
       "      <td>none</td>\n",
       "      <td>0</td>\n",
       "      <td>0.973283</td>\n",
       "      <td>0.0</td>\n",
       "      <td>0.0</td>\n",
       "    </tr>\n",
       "    <tr>\n",
       "      <th>2020-01-09 06:30:00</th>\n",
       "      <td>198.5</td>\n",
       "      <td>home</td>\n",
       "      <td>0.0</td>\n",
       "      <td>0.0</td>\n",
       "      <td>none</td>\n",
       "      <td>0</td>\n",
       "      <td>0.973283</td>\n",
       "      <td>0.0</td>\n",
       "      <td>0.0</td>\n",
       "    </tr>\n",
       "    <tr>\n",
       "      <th>2020-01-09 07:00:00</th>\n",
       "      <td>199.0</td>\n",
       "      <td>home</td>\n",
       "      <td>0.0</td>\n",
       "      <td>0.0</td>\n",
       "      <td>none</td>\n",
       "      <td>0</td>\n",
       "      <td>0.973283</td>\n",
       "      <td>0.0</td>\n",
       "      <td>0.0</td>\n",
       "    </tr>\n",
       "    <tr>\n",
       "      <th>2020-01-09 07:30:00</th>\n",
       "      <td>199.5</td>\n",
       "      <td>home</td>\n",
       "      <td>0.0</td>\n",
       "      <td>0.0</td>\n",
       "      <td>none</td>\n",
       "      <td>0</td>\n",
       "      <td>0.973283</td>\n",
       "      <td>0.0</td>\n",
       "      <td>0.0</td>\n",
       "    </tr>\n",
       "  </tbody>\n",
       "</table>\n",
       "<p>400 rows × 9 columns</p>\n",
       "</div>"
      ],
      "text/plain": [
       "                        hh state distance consumption charging_point  \\\n",
       "date                                                                   \n",
       "2020-01-01 00:00:00    0.0  home      0.0         0.0         public   \n",
       "2020-01-01 00:30:00    0.5  home      0.0         0.0         public   \n",
       "2020-01-01 01:00:00    1.0  home      0.0         0.0         public   \n",
       "2020-01-01 01:30:00    1.5  home      0.0         0.0         public   \n",
       "2020-01-01 02:00:00    2.0  home      0.0         0.0         public   \n",
       "...                    ...   ...      ...         ...            ...   \n",
       "2020-01-09 05:30:00  197.5  home      0.0         0.0           none   \n",
       "2020-01-09 06:00:00  198.0  home      0.0         0.0           none   \n",
       "2020-01-09 06:30:00  198.5  home      0.0         0.0           none   \n",
       "2020-01-09 07:00:00  199.0  home      0.0         0.0           none   \n",
       "2020-01-09 07:30:00  199.5  home      0.0         0.0           none   \n",
       "\n",
       "                    charging_cap actual_soc charge_battery charge_grid  \n",
       "date                                                                    \n",
       "2020-01-01 00:00:00           22   0.541667           3.75    4.166667  \n",
       "2020-01-01 00:30:00           22   0.583333           3.75    4.166667  \n",
       "2020-01-01 01:00:00           22      0.625           3.75    4.166667  \n",
       "2020-01-01 01:30:00           22   0.666667           3.75    4.166667  \n",
       "2020-01-01 02:00:00           22   0.708333           3.75    4.166667  \n",
       "...                          ...        ...            ...         ...  \n",
       "2020-01-09 05:30:00            0   0.973283            0.0         0.0  \n",
       "2020-01-09 06:00:00            0   0.973283            0.0         0.0  \n",
       "2020-01-09 06:30:00            0   0.973283            0.0         0.0  \n",
       "2020-01-09 07:00:00            0   0.973283            0.0         0.0  \n",
       "2020-01-09 07:30:00            0   0.973283            0.0         0.0  \n",
       "\n",
       "[400 rows x 9 columns]"
      ]
     },
     "execution_count": 98,
     "metadata": {},
     "output_type": "execute_result"
    }
   ],
   "source": [
    "ged.timeseries"
   ]
  },
  {
   "cell_type": "code",
   "execution_count": 103,
   "id": "e56e0f96",
   "metadata": {},
   "outputs": [
    {
     "data": {
      "text/plain": [
       "date\n",
       "2020-01-01 06:00:00     2.009952\n",
       "2020-01-01 06:30:00     2.009952\n",
       "2020-01-01 09:30:00     1.856715\n",
       "2020-01-01 10:00:00     1.856715\n",
       "2020-01-01 11:00:00     3.896268\n",
       "2020-01-01 12:30:00     0.400682\n",
       "2020-01-01 16:00:00     1.676694\n",
       "2020-01-03 08:00:00     1.115716\n",
       "2020-01-03 13:30:00     0.839414\n",
       "2020-01-04 10:30:00     0.759029\n",
       "2020-01-04 19:30:00     1.036424\n",
       "2020-01-06 09:00:00     1.048078\n",
       "2020-01-06 13:30:00     0.857167\n",
       "2020-01-06 14:00:00     0.857167\n",
       "2020-01-06 22:00:00     4.420079\n",
       "2020-01-08 09:30:00     0.938704\n",
       "2020-01-08 11:00:00    22.604565\n",
       "2020-01-08 11:30:00    22.604565\n",
       "2020-01-08 12:00:00    22.604565\n",
       "2020-01-08 12:30:00    22.604565\n",
       "2020-01-08 17:00:00     1.202286\n",
       "Name: consumption, dtype: object"
      ]
     },
     "execution_count": 103,
     "metadata": {},
     "output_type": "execute_result"
    }
   ],
   "source": []
  },
  {
   "cell_type": "code",
   "execution_count": 100,
   "id": "e61481a2",
   "metadata": {},
   "outputs": [],
   "source": [
    "import pandas as pd"
   ]
  },
  {
   "cell_type": "code",
   "execution_count": 118,
   "id": "a7faade6",
   "metadata": {},
   "outputs": [
    {
     "data": {
      "text/plain": [
       "date\n",
       "2020-01-01 06:00:00     2.009952\n",
       "2020-01-01 06:30:00     2.009952\n",
       "2020-01-01 09:30:00     1.856715\n",
       "2020-01-01 10:00:00     1.856715\n",
       "2020-01-01 11:00:00     3.896268\n",
       "2020-01-01 12:30:00     0.400682\n",
       "2020-01-01 16:00:00     1.676694\n",
       "2020-01-03 08:00:00     1.115716\n",
       "2020-01-03 13:30:00     0.839414\n",
       "2020-01-04 10:30:00     0.759029\n",
       "2020-01-04 19:30:00     1.036424\n",
       "2020-01-06 09:00:00     1.048078\n",
       "2020-01-06 13:30:00     0.857167\n",
       "2020-01-06 14:00:00     0.857167\n",
       "2020-01-06 22:00:00     4.420079\n",
       "2020-01-08 09:30:00     0.938704\n",
       "2020-01-08 11:00:00    22.604565\n",
       "2020-01-08 11:30:00    22.604565\n",
       "2020-01-08 12:00:00    22.604565\n",
       "2020-01-08 12:30:00    22.604565\n",
       "2020-01-08 17:00:00     1.202286\n",
       "Name: consumption, dtype: object"
      ]
     },
     "execution_count": 118,
     "metadata": {},
     "output_type": "execute_result"
    }
   ],
   "source": [
    "cons"
   ]
  },
  {
   "cell_type": "code",
   "execution_count": 127,
   "id": "e7d5ce97",
   "metadata": {},
   "outputs": [],
   "source": [
    "cons = ged.timeseries.consumption[ged.timeseries.consumption>0]\n",
    "mob = ged.timeseries.distance.loc[cons.index]\n",
    "\n",
    "specific_cons= pd.concat([cons, mob], axis=1).apply(lambda row : row[\"consumption\"] / row[\"distance\"] , axis=1)*100\n",
    "specific_resampled = specific_cons.resample(\"D\").mean().fillna(specific_cons.mean())"
   ]
  },
  {
   "cell_type": "code",
   "execution_count": 129,
   "id": "a349ba18",
   "metadata": {},
   "outputs": [
    {
     "data": {
      "text/plain": [
       "<AxesSubplot:xlabel='date', ylabel='kWh/100km'>"
      ]
     },
     "execution_count": 129,
     "metadata": {},
     "output_type": "execute_result"
    },
    {
     "data": {
      "image/png": "[encoded data removed]",
      "text/plain": [
       "<Figure size 432x288 with 1 Axes>"
      ]
     },
     "metadata": {
      "needs_background": "light"
     },
     "output_type": "display_data"
    }
   ],
   "source": [
    "specific_resampled.plot(ylabel=\"kWh/100km\")"
   ]
  },
  {
   "cell_type": "markdown",
   "id": "19ed5db1",
   "metadata": {},
   "source": [
    "-------------------------\n",
    "d) Visualization\n",
    "\n",
    "-------------------------"
   ]
  },
  {
   "cell_type": "code",
   "execution_count": 84,
   "id": "2c6e6a12",
   "metadata": {
    "pycharm": {
     "is_executing": true
    }
   },
   "outputs": [],
   "source": [
    "#fig_ged = PLT.sgplot_ged(ged.name, rng=None, to_html=False, path=None) # this looks for all strategies of a single grid availability time series, even though we provide one grid demand id"
   ]
  },
  {
   "cell_type": "code",
   "execution_count": 83,
   "id": "8e364858",
   "metadata": {
    "pycharm": {
     "is_executing": true
    }
   },
   "outputs": [],
   "source": [
    "#fig_ged"
   ]
  },
  {
   "cell_type": "markdown",
   "id": "78d986c0",
   "metadata": {},
   "source": [
    "------------------------------------------------------\n",
    "### Visualize all time series of a vehicle profile\n",
    "------------------------------------------------------"
   ]
  },
  {
   "cell_type": "code",
   "execution_count": null,
   "id": "8829c0b7",
   "metadata": {
    "pycharm": {
     "is_executing": true
    }
   },
   "outputs": [],
   "source": [
    "#fig_channel = PLT.overview(ged.name)"
   ]
  },
  {
   "cell_type": "code",
   "execution_count": 85,
   "id": "da24c54d",
   "metadata": {
    "pycharm": {
     "is_executing": true
    }
   },
   "outputs": [],
   "source": [
    "#fig_channel"
   ]
  },
  {
   "cell_type": "markdown",
   "id": "66f4dab9",
   "metadata": {},
   "source": [
    "------------------------------------------------------------\n",
    "### Export all time-series in 'db' folder to [DIETER](https://diw-evu.gitlab.io/dieter_public/dieterpy/) format\n",
    "-----------------------------------------------------------------------------------------------------------\n",
    "After exporting see the two CSV files at \"db\" folder\n",
    "\n",
    "--------------------------------------------------------------------"
   ]
  },
  {
   "cell_type": "code",
   "execution_count": null,
   "id": "8a3196c1",
   "metadata": {
    "pycharm": {
     "is_executing": true
    }
   },
   "outputs": [],
   "source": [
    "from emobpy import Export"
   ]
  },
  {
   "cell_type": "code",
   "execution_count": null,
   "id": "37eda4d3",
   "metadata": {
    "pycharm": {
     "is_executing": true
    }
   },
   "outputs": [],
   "source": [
    "DB.update()\n",
    "Exp = Export()\n",
    "Exp.loaddata(DB)\n",
    "Exp.to_csv()\n",
    "Exp.save_files()"
   ]
  },
  {
   "cell_type": "markdown",
   "id": "c2cf0a6a",
   "metadata": {},
   "source": [
    "-------------------------------------------------------------------------------\n",
    "### Download weather data from [Zenodo](https://zenodo.org/record/1489915)\n",
    "-------------------------------------------------------------------------------\n",
    "Total size: 300 MB\n",
    "\n",
    "This function allows us to select different countries and years when creating new driving consumption time-series.\n",
    "\n",
    "After finishing the download, you will get the location of the files on your PC. If you want to add more countries, you can edit the CSV files there.\n",
    "\n",
    "emobpy includes Germany's weather data only for 2016. This data set has several European countries and years from 2000-2017.\n",
    "\n",
    "-------------------------------------------------------------------------------"
   ]
  },
  {
   "cell_type": "code",
   "execution_count": null,
   "id": "b2cf1edd",
   "metadata": {
    "pycharm": {
     "is_executing": true
    }
   },
   "outputs": [],
   "source": [
    "# from emobpy import Weather"
   ]
  },
  {
   "cell_type": "code",
   "execution_count": null,
   "id": "a3c4dac1",
   "metadata": {
    "pycharm": {
     "is_executing": true
    }
   },
   "outputs": [],
   "source": [
    "# WD = Weather()"
   ]
  },
  {
   "cell_type": "code",
   "execution_count": null,
   "id": "265d4a75",
   "metadata": {
    "pycharm": {
     "is_executing": true
    }
   },
   "outputs": [],
   "source": [
    "# WD.download_weather_data()"
   ]
  },
  {
   "cell_type": "code",
   "execution_count": 17,
   "id": "4cf1f92d",
   "metadata": {},
   "outputs": [],
   "source": [
    "import pandas as pd\n",
    "import matplotlib.pyplot as plt"
   ]
  },
  {
   "cell_type": "code",
   "execution_count": 19,
   "id": "8002f151",
   "metadata": {
    "scrolled": true
   },
   "outputs": [
    {
     "name": "stdout",
     "output_type": "stream",
     "text": [
      "New profile running: BEV1_W53_a7209\n",
      "Progress: 1% [4 / 365] days"
     ]
    },
    {
     "name": "stderr",
     "output_type": "stream",
     "text": [
      "C:\\Users\\j.muessel\\Miniconda3\\envs\\pyenv\\lib\\site-packages\\emobpy\\mobility.py:1187: FutureWarning:\n",
      "\n",
      "The frame.append method is deprecated and will be removed from pandas in a future version. Use pandas.concat instead.\n",
      "\n",
      "C:\\Users\\j.muessel\\Miniconda3\\envs\\pyenv\\lib\\site-packages\\emobpy\\mobility.py:1187: FutureWarning:\n",
      "\n",
      "The frame.append method is deprecated and will be removed from pandas in a future version. Use pandas.concat instead.\n",
      "\n"
     ]
    },
    {
     "name": "stdout",
     "output_type": "stream",
     "text": [
      "Progress: 3% [13 / 365] days"
     ]
    },
    {
     "name": "stderr",
     "output_type": "stream",
     "text": [
      "C:\\Users\\j.muessel\\Miniconda3\\envs\\pyenv\\lib\\site-packages\\emobpy\\mobility.py:1187: FutureWarning:\n",
      "\n",
      "The frame.append method is deprecated and will be removed from pandas in a future version. Use pandas.concat instead.\n",
      "\n"
     ]
    },
    {
     "name": "stdout",
     "output_type": "stream",
     "text": [
      "Progress: 9% [33 / 365] days"
     ]
    },
    {
     "name": "stderr",
     "output_type": "stream",
     "text": [
      "C:\\Users\\j.muessel\\Miniconda3\\envs\\pyenv\\lib\\site-packages\\emobpy\\mobility.py:1187: FutureWarning:\n",
      "\n",
      "The frame.append method is deprecated and will be removed from pandas in a future version. Use pandas.concat instead.\n",
      "\n",
      "C:\\Users\\j.muessel\\Miniconda3\\envs\\pyenv\\lib\\site-packages\\emobpy\\mobility.py:1187: FutureWarning:\n",
      "\n",
      "The frame.append method is deprecated and will be removed from pandas in a future version. Use pandas.concat instead.\n",
      "\n"
     ]
    },
    {
     "name": "stdout",
     "output_type": "stream",
     "text": [
      "Progress: 9% [35 / 365] days"
     ]
    },
    {
     "name": "stderr",
     "output_type": "stream",
     "text": [
      "C:\\Users\\j.muessel\\Miniconda3\\envs\\pyenv\\lib\\site-packages\\emobpy\\mobility.py:1187: FutureWarning:\n",
      "\n",
      "The frame.append method is deprecated and will be removed from pandas in a future version. Use pandas.concat instead.\n",
      "\n",
      "C:\\Users\\j.muessel\\Miniconda3\\envs\\pyenv\\lib\\site-packages\\emobpy\\mobility.py:1187: FutureWarning:\n",
      "\n",
      "The frame.append method is deprecated and will be removed from pandas in a future version. Use pandas.concat instead.\n",
      "\n"
     ]
    },
    {
     "name": "stdout",
     "output_type": "stream",
     "text": [
      "Progress: 14% [52 / 365] days"
     ]
    },
    {
     "name": "stderr",
     "output_type": "stream",
     "text": [
      "C:\\Users\\j.muessel\\Miniconda3\\envs\\pyenv\\lib\\site-packages\\emobpy\\mobility.py:1187: FutureWarning:\n",
      "\n",
      "The frame.append method is deprecated and will be removed from pandas in a future version. Use pandas.concat instead.\n",
      "\n",
      "C:\\Users\\j.muessel\\Miniconda3\\envs\\pyenv\\lib\\site-packages\\emobpy\\mobility.py:1187: FutureWarning:\n",
      "\n",
      "The frame.append method is deprecated and will be removed from pandas in a future version. Use pandas.concat instead.\n",
      "\n"
     ]
    },
    {
     "name": "stdout",
     "output_type": "stream",
     "text": [
      "Progress: 16% [61 / 365] days"
     ]
    },
    {
     "name": "stderr",
     "output_type": "stream",
     "text": [
      "C:\\Users\\j.muessel\\Miniconda3\\envs\\pyenv\\lib\\site-packages\\emobpy\\mobility.py:1187: FutureWarning:\n",
      "\n",
      "The frame.append method is deprecated and will be removed from pandas in a future version. Use pandas.concat instead.\n",
      "\n",
      "C:\\Users\\j.muessel\\Miniconda3\\envs\\pyenv\\lib\\site-packages\\emobpy\\mobility.py:1187: FutureWarning:\n",
      "\n",
      "The frame.append method is deprecated and will be removed from pandas in a future version. Use pandas.concat instead.\n",
      "\n"
     ]
    },
    {
     "name": "stdout",
     "output_type": "stream",
     "text": [
      "Progress: 22% [83 / 365] days"
     ]
    },
    {
     "name": "stderr",
     "output_type": "stream",
     "text": [
      "C:\\Users\\j.muessel\\Miniconda3\\envs\\pyenv\\lib\\site-packages\\emobpy\\mobility.py:1187: FutureWarning:\n",
      "\n",
      "The frame.append method is deprecated and will be removed from pandas in a future version. Use pandas.concat instead.\n",
      "\n",
      "C:\\Users\\j.muessel\\Miniconda3\\envs\\pyenv\\lib\\site-packages\\emobpy\\mobility.py:1187: FutureWarning:\n",
      "\n",
      "The frame.append method is deprecated and will be removed from pandas in a future version. Use pandas.concat instead.\n",
      "\n",
      "C:\\Users\\j.muessel\\Miniconda3\\envs\\pyenv\\lib\\site-packages\\emobpy\\mobility.py:1187: FutureWarning:\n",
      "\n",
      "The frame.append method is deprecated and will be removed from pandas in a future version. Use pandas.concat instead.\n",
      "\n",
      "C:\\Users\\j.muessel\\Miniconda3\\envs\\pyenv\\lib\\site-packages\\emobpy\\mobility.py:1187: FutureWarning:\n",
      "\n",
      "The frame.append method is deprecated and will be removed from pandas in a future version. Use pandas.concat instead.\n",
      "\n"
     ]
    },
    {
     "name": "stdout",
     "output_type": "stream",
     "text": [
      "Progress: 23% [86 / 365] days"
     ]
    },
    {
     "name": "stderr",
     "output_type": "stream",
     "text": [
      "C:\\Users\\j.muessel\\Miniconda3\\envs\\pyenv\\lib\\site-packages\\emobpy\\mobility.py:1187: FutureWarning:\n",
      "\n",
      "The frame.append method is deprecated and will be removed from pandas in a future version. Use pandas.concat instead.\n",
      "\n",
      "C:\\Users\\j.muessel\\Miniconda3\\envs\\pyenv\\lib\\site-packages\\emobpy\\mobility.py:1187: FutureWarning:\n",
      "\n",
      "The frame.append method is deprecated and will be removed from pandas in a future version. Use pandas.concat instead.\n",
      "\n"
     ]
    },
    {
     "name": "stdout",
     "output_type": "stream",
     "text": [
      "Progress: 24% [88 / 365] days"
     ]
    },
    {
     "name": "stderr",
     "output_type": "stream",
     "text": [
      "C:\\Users\\j.muessel\\Miniconda3\\envs\\pyenv\\lib\\site-packages\\emobpy\\mobility.py:1187: FutureWarning:\n",
      "\n",
      "The frame.append method is deprecated and will be removed from pandas in a future version. Use pandas.concat instead.\n",
      "\n",
      "C:\\Users\\j.muessel\\Miniconda3\\envs\\pyenv\\lib\\site-packages\\emobpy\\mobility.py:1187: FutureWarning:\n",
      "\n",
      "The frame.append method is deprecated and will be removed from pandas in a future version. Use pandas.concat instead.\n",
      "\n",
      "C:\\Users\\j.muessel\\Miniconda3\\envs\\pyenv\\lib\\site-packages\\emobpy\\mobility.py:1187: FutureWarning:\n",
      "\n",
      "The frame.append method is deprecated and will be removed from pandas in a future version. Use pandas.concat instead.\n",
      "\n"
     ]
    },
    {
     "name": "stdout",
     "output_type": "stream",
     "text": [
      "Progress: 24% [90 / 365] days"
     ]
    },
    {
     "name": "stderr",
     "output_type": "stream",
     "text": [
      "C:\\Users\\j.muessel\\Miniconda3\\envs\\pyenv\\lib\\site-packages\\emobpy\\mobility.py:1187: FutureWarning:\n",
      "\n",
      "The frame.append method is deprecated and will be removed from pandas in a future version. Use pandas.concat instead.\n",
      "\n"
     ]
    },
    {
     "name": "stdout",
     "output_type": "stream",
     "text": [
      "Progress: 32% [117 / 365] days"
     ]
    },
    {
     "name": "stderr",
     "output_type": "stream",
     "text": [
      "C:\\Users\\j.muessel\\Miniconda3\\envs\\pyenv\\lib\\site-packages\\emobpy\\mobility.py:1187: FutureWarning:\n",
      "\n",
      "The frame.append method is deprecated and will be removed from pandas in a future version. Use pandas.concat instead.\n",
      "\n",
      "C:\\Users\\j.muessel\\Miniconda3\\envs\\pyenv\\lib\\site-packages\\emobpy\\mobility.py:1187: FutureWarning:\n",
      "\n",
      "The frame.append method is deprecated and will be removed from pandas in a future version. Use pandas.concat instead.\n",
      "\n",
      "C:\\Users\\j.muessel\\Miniconda3\\envs\\pyenv\\lib\\site-packages\\emobpy\\mobility.py:1187: FutureWarning:\n",
      "\n",
      "The frame.append method is deprecated and will be removed from pandas in a future version. Use pandas.concat instead.\n",
      "\n"
     ]
    },
    {
     "name": "stdout",
     "output_type": "stream",
     "text": [
      "Progress: 41% [153 / 365] days"
     ]
    },
    {
     "name": "stderr",
     "output_type": "stream",
     "text": [
      "C:\\Users\\j.muessel\\Miniconda3\\envs\\pyenv\\lib\\site-packages\\emobpy\\mobility.py:1187: FutureWarning:\n",
      "\n",
      "The frame.append method is deprecated and will be removed from pandas in a future version. Use pandas.concat instead.\n",
      "\n"
     ]
    },
    {
     "name": "stdout",
     "output_type": "stream",
     "text": [
      "Progress: 44% [163 / 365] days"
     ]
    },
    {
     "name": "stderr",
     "output_type": "stream",
     "text": [
      "C:\\Users\\j.muessel\\Miniconda3\\envs\\pyenv\\lib\\site-packages\\emobpy\\mobility.py:1187: FutureWarning:\n",
      "\n",
      "The frame.append method is deprecated and will be removed from pandas in a future version. Use pandas.concat instead.\n",
      "\n"
     ]
    },
    {
     "name": "stdout",
     "output_type": "stream",
     "text": [
      "Progress: 45% [167 / 365] days"
     ]
    },
    {
     "name": "stderr",
     "output_type": "stream",
     "text": [
      "C:\\Users\\j.muessel\\Miniconda3\\envs\\pyenv\\lib\\site-packages\\emobpy\\mobility.py:1187: FutureWarning:\n",
      "\n",
      "The frame.append method is deprecated and will be removed from pandas in a future version. Use pandas.concat instead.\n",
      "\n"
     ]
    },
    {
     "name": "stdout",
     "output_type": "stream",
     "text": [
      "Progress: 47% [172 / 365] days"
     ]
    },
    {
     "name": "stderr",
     "output_type": "stream",
     "text": [
      "C:\\Users\\j.muessel\\Miniconda3\\envs\\pyenv\\lib\\site-packages\\emobpy\\mobility.py:1187: FutureWarning:\n",
      "\n",
      "The frame.append method is deprecated and will be removed from pandas in a future version. Use pandas.concat instead.\n",
      "\n"
     ]
    },
    {
     "name": "stdout",
     "output_type": "stream",
     "text": [
      "Progress: 48% [176 / 365] days"
     ]
    },
    {
     "name": "stderr",
     "output_type": "stream",
     "text": [
      "C:\\Users\\j.muessel\\Miniconda3\\envs\\pyenv\\lib\\site-packages\\emobpy\\mobility.py:1187: FutureWarning:\n",
      "\n",
      "The frame.append method is deprecated and will be removed from pandas in a future version. Use pandas.concat instead.\n",
      "\n",
      "C:\\Users\\j.muessel\\Miniconda3\\envs\\pyenv\\lib\\site-packages\\emobpy\\mobility.py:1187: FutureWarning:\n",
      "\n",
      "The frame.append method is deprecated and will be removed from pandas in a future version. Use pandas.concat instead.\n",
      "\n"
     ]
    },
    {
     "name": "stdout",
     "output_type": "stream",
     "text": [
      "Progress: 54% [200 / 365] days"
     ]
    },
    {
     "name": "stderr",
     "output_type": "stream",
     "text": [
      "C:\\Users\\j.muessel\\Miniconda3\\envs\\pyenv\\lib\\site-packages\\emobpy\\mobility.py:1187: FutureWarning:\n",
      "\n",
      "The frame.append method is deprecated and will be removed from pandas in a future version. Use pandas.concat instead.\n",
      "\n",
      "C:\\Users\\j.muessel\\Miniconda3\\envs\\pyenv\\lib\\site-packages\\emobpy\\mobility.py:1187: FutureWarning:\n",
      "\n",
      "The frame.append method is deprecated and will be removed from pandas in a future version. Use pandas.concat instead.\n",
      "\n"
     ]
    },
    {
     "name": "stdout",
     "output_type": "stream",
     "text": [
      "Progress: 63% [231 / 365] days"
     ]
    },
    {
     "name": "stderr",
     "output_type": "stream",
     "text": [
      "C:\\Users\\j.muessel\\Miniconda3\\envs\\pyenv\\lib\\site-packages\\emobpy\\mobility.py:1187: FutureWarning:\n",
      "\n",
      "The frame.append method is deprecated and will be removed from pandas in a future version. Use pandas.concat instead.\n",
      "\n",
      "C:\\Users\\j.muessel\\Miniconda3\\envs\\pyenv\\lib\\site-packages\\emobpy\\mobility.py:1187: FutureWarning:\n",
      "\n",
      "The frame.append method is deprecated and will be removed from pandas in a future version. Use pandas.concat instead.\n",
      "\n",
      "C:\\Users\\j.muessel\\Miniconda3\\envs\\pyenv\\lib\\site-packages\\emobpy\\mobility.py:1187: FutureWarning:\n",
      "\n",
      "The frame.append method is deprecated and will be removed from pandas in a future version. Use pandas.concat instead.\n",
      "\n"
     ]
    },
    {
     "name": "stdout",
     "output_type": "stream",
     "text": [
      "Progress: 68% [249 / 365] days"
     ]
    },
    {
     "name": "stderr",
     "output_type": "stream",
     "text": [
      "C:\\Users\\j.muessel\\Miniconda3\\envs\\pyenv\\lib\\site-packages\\emobpy\\mobility.py:1187: FutureWarning:\n",
      "\n",
      "The frame.append method is deprecated and will be removed from pandas in a future version. Use pandas.concat instead.\n",
      "\n",
      "C:\\Users\\j.muessel\\Miniconda3\\envs\\pyenv\\lib\\site-packages\\emobpy\\mobility.py:1187: FutureWarning:\n",
      "\n",
      "The frame.append method is deprecated and will be removed from pandas in a future version. Use pandas.concat instead.\n",
      "\n",
      "C:\\Users\\j.muessel\\Miniconda3\\envs\\pyenv\\lib\\site-packages\\emobpy\\mobility.py:1187: FutureWarning:\n",
      "\n",
      "The frame.append method is deprecated and will be removed from pandas in a future version. Use pandas.concat instead.\n",
      "\n",
      "C:\\Users\\j.muessel\\Miniconda3\\envs\\pyenv\\lib\\site-packages\\emobpy\\mobility.py:1187: FutureWarning:\n",
      "\n",
      "The frame.append method is deprecated and will be removed from pandas in a future version. Use pandas.concat instead.\n",
      "\n",
      "C:\\Users\\j.muessel\\Miniconda3\\envs\\pyenv\\lib\\site-packages\\emobpy\\mobility.py:1187: FutureWarning:\n",
      "\n",
      "The frame.append method is deprecated and will be removed from pandas in a future version. Use pandas.concat instead.\n",
      "\n",
      "C:\\Users\\j.muessel\\Miniconda3\\envs\\pyenv\\lib\\site-packages\\emobpy\\mobility.py:1187: FutureWarning:\n",
      "\n",
      "The frame.append method is deprecated and will be removed from pandas in a future version. Use pandas.concat instead.\n",
      "\n",
      "C:\\Users\\j.muessel\\Miniconda3\\envs\\pyenv\\lib\\site-packages\\emobpy\\mobility.py:1187: FutureWarning:\n",
      "\n",
      "The frame.append method is deprecated and will be removed from pandas in a future version. Use pandas.concat instead.\n",
      "\n"
     ]
    },
    {
     "name": "stdout",
     "output_type": "stream",
     "text": [
      "    Day 249 'select_tour' method in loop Nr. 100. See log file BEV1_W53_a7209\n",
      "       last_trip_to home                   0.40 uncompliance rate (last 30 iter)\n",
      "       equal_state_and_destination home    0.27 uncompliance rate (last 30 iter)\n"
     ]
    },
    {
     "name": "stderr",
     "output_type": "stream",
     "text": [
      "C:\\Users\\j.muessel\\Miniconda3\\envs\\pyenv\\lib\\site-packages\\emobpy\\mobility.py:1187: FutureWarning:\n",
      "\n",
      "The frame.append method is deprecated and will be removed from pandas in a future version. Use pandas.concat instead.\n",
      "\n",
      "C:\\Users\\j.muessel\\Miniconda3\\envs\\pyenv\\lib\\site-packages\\emobpy\\mobility.py:1187: FutureWarning:\n",
      "\n",
      "The frame.append method is deprecated and will be removed from pandas in a future version. Use pandas.concat instead.\n",
      "\n",
      "C:\\Users\\j.muessel\\Miniconda3\\envs\\pyenv\\lib\\site-packages\\emobpy\\mobility.py:1187: FutureWarning:\n",
      "\n",
      "The frame.append method is deprecated and will be removed from pandas in a future version. Use pandas.concat instead.\n",
      "\n",
      "C:\\Users\\j.muessel\\Miniconda3\\envs\\pyenv\\lib\\site-packages\\emobpy\\mobility.py:1187: FutureWarning:\n",
      "\n",
      "The frame.append method is deprecated and will be removed from pandas in a future version. Use pandas.concat instead.\n",
      "\n",
      "C:\\Users\\j.muessel\\Miniconda3\\envs\\pyenv\\lib\\site-packages\\emobpy\\mobility.py:1187: FutureWarning:\n",
      "\n",
      "The frame.append method is deprecated and will be removed from pandas in a future version. Use pandas.concat instead.\n",
      "\n",
      "C:\\Users\\j.muessel\\Miniconda3\\envs\\pyenv\\lib\\site-packages\\emobpy\\mobility.py:1187: FutureWarning:\n",
      "\n",
      "The frame.append method is deprecated and will be removed from pandas in a future version. Use pandas.concat instead.\n",
      "\n",
      "C:\\Users\\j.muessel\\Miniconda3\\envs\\pyenv\\lib\\site-packages\\emobpy\\mobility.py:1187: FutureWarning:\n",
      "\n",
      "The frame.append method is deprecated and will be removed from pandas in a future version. Use pandas.concat instead.\n",
      "\n"
     ]
    },
    {
     "name": "stdout",
     "output_type": "stream",
     "text": [
      "  Tour done: Day 249\n",
      "Progress: 73% [267 / 365] days"
     ]
    },
    {
     "name": "stderr",
     "output_type": "stream",
     "text": [
      "C:\\Users\\j.muessel\\Miniconda3\\envs\\pyenv\\lib\\site-packages\\emobpy\\mobility.py:1187: FutureWarning:\n",
      "\n",
      "The frame.append method is deprecated and will be removed from pandas in a future version. Use pandas.concat instead.\n",
      "\n",
      "C:\\Users\\j.muessel\\Miniconda3\\envs\\pyenv\\lib\\site-packages\\emobpy\\mobility.py:1187: FutureWarning:\n",
      "\n",
      "The frame.append method is deprecated and will be removed from pandas in a future version. Use pandas.concat instead.\n",
      "\n"
     ]
    },
    {
     "name": "stdout",
     "output_type": "stream",
     "text": [
      "Progress: 82% [302 / 365] days"
     ]
    },
    {
     "name": "stderr",
     "output_type": "stream",
     "text": [
      "C:\\Users\\j.muessel\\Miniconda3\\envs\\pyenv\\lib\\site-packages\\emobpy\\mobility.py:1187: FutureWarning:\n",
      "\n",
      "The frame.append method is deprecated and will be removed from pandas in a future version. Use pandas.concat instead.\n",
      "\n",
      "C:\\Users\\j.muessel\\Miniconda3\\envs\\pyenv\\lib\\site-packages\\emobpy\\mobility.py:1187: FutureWarning:\n",
      "\n",
      "The frame.append method is deprecated and will be removed from pandas in a future version. Use pandas.concat instead.\n",
      "\n"
     ]
    },
    {
     "name": "stdout",
     "output_type": "stream",
     "text": [
      "Progress: 89% [326 / 365] days"
     ]
    },
    {
     "name": "stderr",
     "output_type": "stream",
     "text": [
      "C:\\Users\\j.muessel\\Miniconda3\\envs\\pyenv\\lib\\site-packages\\emobpy\\mobility.py:1187: FutureWarning:\n",
      "\n",
      "The frame.append method is deprecated and will be removed from pandas in a future version. Use pandas.concat instead.\n",
      "\n",
      "C:\\Users\\j.muessel\\Miniconda3\\envs\\pyenv\\lib\\site-packages\\emobpy\\mobility.py:1187: FutureWarning:\n",
      "\n",
      "The frame.append method is deprecated and will be removed from pandas in a future version. Use pandas.concat instead.\n",
      "\n"
     ]
    },
    {
     "name": "stdout",
     "output_type": "stream",
     "text": [
      "Progress: 90% [332 / 365] days"
     ]
    },
    {
     "name": "stderr",
     "output_type": "stream",
     "text": [
      "C:\\Users\\j.muessel\\Miniconda3\\envs\\pyenv\\lib\\site-packages\\emobpy\\mobility.py:1187: FutureWarning:\n",
      "\n",
      "The frame.append method is deprecated and will be removed from pandas in a future version. Use pandas.concat instead.\n",
      "\n"
     ]
    },
    {
     "name": "stdout",
     "output_type": "stream",
     "text": [
      "Progress: 100% [365 / 365] days"
     ]
    },
    {
     "name": "stderr",
     "output_type": "stream",
     "text": [
      "C:\\Users\\j.muessel\\Miniconda3\\envs\\pyenv\\lib\\site-packages\\emobpy\\mobility.py:1187: FutureWarning:\n",
      "\n",
      "The frame.append method is deprecated and will be removed from pandas in a future version. Use pandas.concat instead.\n",
      "\n"
     ]
    },
    {
     "name": "stdout",
     "output_type": "stream",
     "text": [
      "\n",
      "Profile done: BEV1_W53_a7209\n",
      "Elapsed time (min): 0.33\n",
      " \n",
      "See Log files\n",
      "C:\\Users\\j.muessel\\Documents\\GitHub\\EES\\Emobpy\\my_emobpy\\log\\emobpy.log\n"
     ]
    },
    {
     "name": "stderr",
     "output_type": "stream",
     "text": [
      "C:\\Users\\j.muessel\\Miniconda3\\envs\\pyenv\\lib\\site-packages\\emobpy\\consumption.py:413: FutureWarning:\n",
      "\n",
      "The frame.append method is deprecated and will be removed from pandas in a future version. Use pandas.concat instead.\n",
      "\n",
      "C:\\Users\\j.muessel\\Miniconda3\\envs\\pyenv\\lib\\site-packages\\emobpy\\consumption.py:413: FutureWarning:\n",
      "\n",
      "The frame.append method is deprecated and will be removed from pandas in a future version. Use pandas.concat instead.\n",
      "\n",
      "C:\\Users\\j.muessel\\Miniconda3\\envs\\pyenv\\lib\\site-packages\\emobpy\\consumption.py:413: FutureWarning:\n",
      "\n",
      "The frame.append method is deprecated and will be removed from pandas in a future version. Use pandas.concat instead.\n",
      "\n",
      "C:\\Users\\j.muessel\\Miniconda3\\envs\\pyenv\\lib\\site-packages\\emobpy\\consumption.py:413: FutureWarning:\n",
      "\n",
      "The frame.append method is deprecated and will be removed from pandas in a future version. Use pandas.concat instead.\n",
      "\n",
      "C:\\Users\\j.muessel\\Miniconda3\\envs\\pyenv\\lib\\site-packages\\emobpy\\consumption.py:413: FutureWarning:\n",
      "\n",
      "The frame.append method is deprecated and will be removed from pandas in a future version. Use pandas.concat instead.\n",
      "\n",
      "C:\\Users\\j.muessel\\Miniconda3\\envs\\pyenv\\lib\\site-packages\\emobpy\\consumption.py:413: FutureWarning:\n",
      "\n",
      "The frame.append method is deprecated and will be removed from pandas in a future version. Use pandas.concat instead.\n",
      "\n",
      "C:\\Users\\j.muessel\\Miniconda3\\envs\\pyenv\\lib\\site-packages\\emobpy\\consumption.py:413: FutureWarning:\n",
      "\n",
      "The frame.append method is deprecated and will be removed from pandas in a future version. Use pandas.concat instead.\n",
      "\n",
      "C:\\Users\\j.muessel\\Miniconda3\\envs\\pyenv\\lib\\site-packages\\emobpy\\consumption.py:413: FutureWarning:\n",
      "\n",
      "The frame.append method is deprecated and will be removed from pandas in a future version. Use pandas.concat instead.\n",
      "\n",
      "C:\\Users\\j.muessel\\Miniconda3\\envs\\pyenv\\lib\\site-packages\\emobpy\\consumption.py:413: FutureWarning:\n",
      "\n",
      "The frame.append method is deprecated and will be removed from pandas in a future version. Use pandas.concat instead.\n",
      "\n",
      "C:\\Users\\j.muessel\\Miniconda3\\envs\\pyenv\\lib\\site-packages\\emobpy\\consumption.py:413: FutureWarning:\n",
      "\n",
      "The frame.append method is deprecated and will be removed from pandas in a future version. Use pandas.concat instead.\n",
      "\n",
      "C:\\Users\\j.muessel\\Miniconda3\\envs\\pyenv\\lib\\site-packages\\emobpy\\consumption.py:413: FutureWarning:\n",
      "\n",
      "The frame.append method is deprecated and will be removed from pandas in a future version. Use pandas.concat instead.\n",
      "\n",
      "C:\\Users\\j.muessel\\Miniconda3\\envs\\pyenv\\lib\\site-packages\\emobpy\\consumption.py:413: FutureWarning:\n",
      "\n",
      "The frame.append method is deprecated and will be removed from pandas in a future version. Use pandas.concat instead.\n",
      "\n",
      "C:\\Users\\j.muessel\\Miniconda3\\envs\\pyenv\\lib\\site-packages\\emobpy\\consumption.py:413: FutureWarning:\n",
      "\n",
      "The frame.append method is deprecated and will be removed from pandas in a future version. Use pandas.concat instead.\n",
      "\n",
      "C:\\Users\\j.muessel\\Miniconda3\\envs\\pyenv\\lib\\site-packages\\emobpy\\consumption.py:413: FutureWarning:\n",
      "\n",
      "The frame.append method is deprecated and will be removed from pandas in a future version. Use pandas.concat instead.\n",
      "\n",
      "C:\\Users\\j.muessel\\Miniconda3\\envs\\pyenv\\lib\\site-packages\\emobpy\\consumption.py:413: FutureWarning:\n",
      "\n",
      "The frame.append method is deprecated and will be removed from pandas in a future version. Use pandas.concat instead.\n",
      "\n",
      "C:\\Users\\j.muessel\\Miniconda3\\envs\\pyenv\\lib\\site-packages\\emobpy\\consumption.py:413: FutureWarning:\n",
      "\n",
      "The frame.append method is deprecated and will be removed from pandas in a future version. Use pandas.concat instead.\n",
      "\n",
      "C:\\Users\\j.muessel\\Miniconda3\\envs\\pyenv\\lib\\site-packages\\emobpy\\consumption.py:413: FutureWarning:\n",
      "\n",
      "The frame.append method is deprecated and will be removed from pandas in a future version. Use pandas.concat instead.\n",
      "\n",
      "C:\\Users\\j.muessel\\Miniconda3\\envs\\pyenv\\lib\\site-packages\\emobpy\\consumption.py:413: FutureWarning:\n",
      "\n",
      "The frame.append method is deprecated and will be removed from pandas in a future version. Use pandas.concat instead.\n",
      "\n",
      "C:\\Users\\j.muessel\\Miniconda3\\envs\\pyenv\\lib\\site-packages\\emobpy\\consumption.py:413: FutureWarning:\n",
      "\n",
      "The frame.append method is deprecated and will be removed from pandas in a future version. Use pandas.concat instead.\n",
      "\n",
      "C:\\Users\\j.muessel\\Miniconda3\\envs\\pyenv\\lib\\site-packages\\emobpy\\consumption.py:413: FutureWarning:\n",
      "\n",
      "The frame.append method is deprecated and will be removed from pandas in a future version. Use pandas.concat instead.\n",
      "\n",
      "C:\\Users\\j.muessel\\Miniconda3\\envs\\pyenv\\lib\\site-packages\\emobpy\\consumption.py:413: FutureWarning:\n",
      "\n",
      "The frame.append method is deprecated and will be removed from pandas in a future version. Use pandas.concat instead.\n",
      "\n",
      "C:\\Users\\j.muessel\\Miniconda3\\envs\\pyenv\\lib\\site-packages\\emobpy\\consumption.py:413: FutureWarning:\n",
      "\n",
      "The frame.append method is deprecated and will be removed from pandas in a future version. Use pandas.concat instead.\n",
      "\n",
      "C:\\Users\\j.muessel\\Miniconda3\\envs\\pyenv\\lib\\site-packages\\emobpy\\consumption.py:413: FutureWarning:\n",
      "\n",
      "The frame.append method is deprecated and will be removed from pandas in a future version. Use pandas.concat instead.\n",
      "\n",
      "C:\\Users\\j.muessel\\Miniconda3\\envs\\pyenv\\lib\\site-packages\\emobpy\\consumption.py:413: FutureWarning:\n",
      "\n",
      "The frame.append method is deprecated and will be removed from pandas in a future version. Use pandas.concat instead.\n",
      "\n",
      "C:\\Users\\j.muessel\\Miniconda3\\envs\\pyenv\\lib\\site-packages\\emobpy\\consumption.py:413: FutureWarning:\n",
      "\n",
      "The frame.append method is deprecated and will be removed from pandas in a future version. Use pandas.concat instead.\n",
      "\n",
      "C:\\Users\\j.muessel\\Miniconda3\\envs\\pyenv\\lib\\site-packages\\emobpy\\consumption.py:413: FutureWarning:\n",
      "\n",
      "The frame.append method is deprecated and will be removed from pandas in a future version. Use pandas.concat instead.\n",
      "\n",
      "C:\\Users\\j.muessel\\Miniconda3\\envs\\pyenv\\lib\\site-packages\\emobpy\\consumption.py:413: FutureWarning:\n",
      "\n",
      "The frame.append method is deprecated and will be removed from pandas in a future version. Use pandas.concat instead.\n",
      "\n",
      "C:\\Users\\j.muessel\\Miniconda3\\envs\\pyenv\\lib\\site-packages\\emobpy\\consumption.py:413: FutureWarning:\n",
      "\n",
      "The frame.append method is deprecated and will be removed from pandas in a future version. Use pandas.concat instead.\n",
      "\n",
      "C:\\Users\\j.muessel\\Miniconda3\\envs\\pyenv\\lib\\site-packages\\emobpy\\consumption.py:413: FutureWarning:\n",
      "\n",
      "The frame.append method is deprecated and will be removed from pandas in a future version. Use pandas.concat instead.\n",
      "\n",
      "C:\\Users\\j.muessel\\Miniconda3\\envs\\pyenv\\lib\\site-packages\\emobpy\\consumption.py:413: FutureWarning:\n",
      "\n",
      "The frame.append method is deprecated and will be removed from pandas in a future version. Use pandas.concat instead.\n",
      "\n",
      "C:\\Users\\j.muessel\\Miniconda3\\envs\\pyenv\\lib\\site-packages\\emobpy\\consumption.py:413: FutureWarning:\n",
      "\n",
      "The frame.append method is deprecated and will be removed from pandas in a future version. Use pandas.concat instead.\n",
      "\n",
      "C:\\Users\\j.muessel\\Miniconda3\\envs\\pyenv\\lib\\site-packages\\emobpy\\consumption.py:413: FutureWarning:\n",
      "\n",
      "The frame.append method is deprecated and will be removed from pandas in a future version. Use pandas.concat instead.\n",
      "\n",
      "C:\\Users\\j.muessel\\Miniconda3\\envs\\pyenv\\lib\\site-packages\\emobpy\\consumption.py:413: FutureWarning:\n",
      "\n",
      "The frame.append method is deprecated and will be removed from pandas in a future version. Use pandas.concat instead.\n",
      "\n",
      "C:\\Users\\j.muessel\\Miniconda3\\envs\\pyenv\\lib\\site-packages\\emobpy\\consumption.py:413: FutureWarning:\n",
      "\n",
      "The frame.append method is deprecated and will be removed from pandas in a future version. Use pandas.concat instead.\n",
      "\n",
      "C:\\Users\\j.muessel\\Miniconda3\\envs\\pyenv\\lib\\site-packages\\emobpy\\consumption.py:413: FutureWarning:\n",
      "\n",
      "The frame.append method is deprecated and will be removed from pandas in a future version. Use pandas.concat instead.\n",
      "\n",
      "C:\\Users\\j.muessel\\Miniconda3\\envs\\pyenv\\lib\\site-packages\\emobpy\\consumption.py:413: FutureWarning:\n",
      "\n",
      "The frame.append method is deprecated and will be removed from pandas in a future version. Use pandas.concat instead.\n",
      "\n",
      "C:\\Users\\j.muessel\\Miniconda3\\envs\\pyenv\\lib\\site-packages\\emobpy\\consumption.py:413: FutureWarning:\n",
      "\n",
      "The frame.append method is deprecated and will be removed from pandas in a future version. Use pandas.concat instead.\n",
      "\n",
      "C:\\Users\\j.muessel\\Miniconda3\\envs\\pyenv\\lib\\site-packages\\emobpy\\consumption.py:413: FutureWarning:\n",
      "\n",
      "The frame.append method is deprecated and will be removed from pandas in a future version. Use pandas.concat instead.\n",
      "\n",
      "C:\\Users\\j.muessel\\Miniconda3\\envs\\pyenv\\lib\\site-packages\\emobpy\\consumption.py:413: FutureWarning:\n",
      "\n",
      "The frame.append method is deprecated and will be removed from pandas in a future version. Use pandas.concat instead.\n",
      "\n",
      "C:\\Users\\j.muessel\\Miniconda3\\envs\\pyenv\\lib\\site-packages\\emobpy\\consumption.py:413: FutureWarning:\n",
      "\n",
      "The frame.append method is deprecated and will be removed from pandas in a future version. Use pandas.concat instead.\n",
      "\n",
      "C:\\Users\\j.muessel\\Miniconda3\\envs\\pyenv\\lib\\site-packages\\emobpy\\consumption.py:413: FutureWarning:\n",
      "\n",
      "The frame.append method is deprecated and will be removed from pandas in a future version. Use pandas.concat instead.\n",
      "\n",
      "C:\\Users\\j.muessel\\Miniconda3\\envs\\pyenv\\lib\\site-packages\\emobpy\\consumption.py:413: FutureWarning:\n",
      "\n",
      "The frame.append method is deprecated and will be removed from pandas in a future version. Use pandas.concat instead.\n",
      "\n",
      "C:\\Users\\j.muessel\\Miniconda3\\envs\\pyenv\\lib\\site-packages\\emobpy\\consumption.py:413: FutureWarning:\n",
      "\n",
      "The frame.append method is deprecated and will be removed from pandas in a future version. Use pandas.concat instead.\n",
      "\n",
      "C:\\Users\\j.muessel\\Miniconda3\\envs\\pyenv\\lib\\site-packages\\emobpy\\consumption.py:413: FutureWarning:\n",
      "\n",
      "The frame.append method is deprecated and will be removed from pandas in a future version. Use pandas.concat instead.\n",
      "\n",
      "C:\\Users\\j.muessel\\Miniconda3\\envs\\pyenv\\lib\\site-packages\\emobpy\\consumption.py:413: FutureWarning:\n",
      "\n",
      "The frame.append method is deprecated and will be removed from pandas in a future version. Use pandas.concat instead.\n",
      "\n",
      "C:\\Users\\j.muessel\\Miniconda3\\envs\\pyenv\\lib\\site-packages\\emobpy\\consumption.py:413: FutureWarning:\n",
      "\n",
      "The frame.append method is deprecated and will be removed from pandas in a future version. Use pandas.concat instead.\n",
      "\n",
      "C:\\Users\\j.muessel\\Miniconda3\\envs\\pyenv\\lib\\site-packages\\emobpy\\consumption.py:413: FutureWarning:\n",
      "\n",
      "The frame.append method is deprecated and will be removed from pandas in a future version. Use pandas.concat instead.\n",
      "\n",
      "C:\\Users\\j.muessel\\Miniconda3\\envs\\pyenv\\lib\\site-packages\\emobpy\\consumption.py:413: FutureWarning:\n",
      "\n",
      "The frame.append method is deprecated and will be removed from pandas in a future version. Use pandas.concat instead.\n",
      "\n",
      "C:\\Users\\j.muessel\\Miniconda3\\envs\\pyenv\\lib\\site-packages\\emobpy\\consumption.py:413: FutureWarning:\n",
      "\n",
      "The frame.append method is deprecated and will be removed from pandas in a future version. Use pandas.concat instead.\n",
      "\n",
      "C:\\Users\\j.muessel\\Miniconda3\\envs\\pyenv\\lib\\site-packages\\emobpy\\consumption.py:413: FutureWarning:\n",
      "\n",
      "The frame.append method is deprecated and will be removed from pandas in a future version. Use pandas.concat instead.\n",
      "\n",
      "C:\\Users\\j.muessel\\Miniconda3\\envs\\pyenv\\lib\\site-packages\\emobpy\\consumption.py:413: FutureWarning:\n",
      "\n",
      "The frame.append method is deprecated and will be removed from pandas in a future version. Use pandas.concat instead.\n",
      "\n",
      "C:\\Users\\j.muessel\\Miniconda3\\envs\\pyenv\\lib\\site-packages\\emobpy\\consumption.py:413: FutureWarning:\n",
      "\n",
      "The frame.append method is deprecated and will be removed from pandas in a future version. Use pandas.concat instead.\n",
      "\n",
      "C:\\Users\\j.muessel\\Miniconda3\\envs\\pyenv\\lib\\site-packages\\emobpy\\consumption.py:413: FutureWarning:\n",
      "\n",
      "The frame.append method is deprecated and will be removed from pandas in a future version. Use pandas.concat instead.\n",
      "\n",
      "C:\\Users\\j.muessel\\Miniconda3\\envs\\pyenv\\lib\\site-packages\\emobpy\\consumption.py:413: FutureWarning:\n",
      "\n",
      "The frame.append method is deprecated and will be removed from pandas in a future version. Use pandas.concat instead.\n",
      "\n",
      "C:\\Users\\j.muessel\\Miniconda3\\envs\\pyenv\\lib\\site-packages\\emobpy\\consumption.py:413: FutureWarning:\n",
      "\n",
      "The frame.append method is deprecated and will be removed from pandas in a future version. Use pandas.concat instead.\n",
      "\n",
      "C:\\Users\\j.muessel\\Miniconda3\\envs\\pyenv\\lib\\site-packages\\emobpy\\consumption.py:413: FutureWarning:\n",
      "\n",
      "The frame.append method is deprecated and will be removed from pandas in a future version. Use pandas.concat instead.\n",
      "\n",
      "C:\\Users\\j.muessel\\Miniconda3\\envs\\pyenv\\lib\\site-packages\\emobpy\\consumption.py:413: FutureWarning:\n",
      "\n",
      "The frame.append method is deprecated and will be removed from pandas in a future version. Use pandas.concat instead.\n",
      "\n",
      "C:\\Users\\j.muessel\\Miniconda3\\envs\\pyenv\\lib\\site-packages\\emobpy\\consumption.py:413: FutureWarning:\n",
      "\n",
      "The frame.append method is deprecated and will be removed from pandas in a future version. Use pandas.concat instead.\n",
      "\n",
      "C:\\Users\\j.muessel\\Miniconda3\\envs\\pyenv\\lib\\site-packages\\emobpy\\consumption.py:413: FutureWarning:\n",
      "\n",
      "The frame.append method is deprecated and will be removed from pandas in a future version. Use pandas.concat instead.\n",
      "\n",
      "C:\\Users\\j.muessel\\Miniconda3\\envs\\pyenv\\lib\\site-packages\\emobpy\\consumption.py:413: FutureWarning:\n",
      "\n",
      "The frame.append method is deprecated and will be removed from pandas in a future version. Use pandas.concat instead.\n",
      "\n",
      "C:\\Users\\j.muessel\\Miniconda3\\envs\\pyenv\\lib\\site-packages\\emobpy\\consumption.py:413: FutureWarning:\n",
      "\n",
      "The frame.append method is deprecated and will be removed from pandas in a future version. Use pandas.concat instead.\n",
      "\n",
      "C:\\Users\\j.muessel\\Miniconda3\\envs\\pyenv\\lib\\site-packages\\emobpy\\consumption.py:413: FutureWarning:\n",
      "\n",
      "The frame.append method is deprecated and will be removed from pandas in a future version. Use pandas.concat instead.\n",
      "\n",
      "C:\\Users\\j.muessel\\Miniconda3\\envs\\pyenv\\lib\\site-packages\\emobpy\\consumption.py:413: FutureWarning:\n",
      "\n",
      "The frame.append method is deprecated and will be removed from pandas in a future version. Use pandas.concat instead.\n",
      "\n",
      "C:\\Users\\j.muessel\\Miniconda3\\envs\\pyenv\\lib\\site-packages\\emobpy\\consumption.py:413: FutureWarning:\n",
      "\n",
      "The frame.append method is deprecated and will be removed from pandas in a future version. Use pandas.concat instead.\n",
      "\n",
      "C:\\Users\\j.muessel\\Miniconda3\\envs\\pyenv\\lib\\site-packages\\emobpy\\consumption.py:413: FutureWarning:\n",
      "\n",
      "The frame.append method is deprecated and will be removed from pandas in a future version. Use pandas.concat instead.\n",
      "\n",
      "C:\\Users\\j.muessel\\Miniconda3\\envs\\pyenv\\lib\\site-packages\\emobpy\\consumption.py:413: FutureWarning:\n",
      "\n",
      "The frame.append method is deprecated and will be removed from pandas in a future version. Use pandas.concat instead.\n",
      "\n",
      "C:\\Users\\j.muessel\\Miniconda3\\envs\\pyenv\\lib\\site-packages\\emobpy\\consumption.py:413: FutureWarning:\n",
      "\n",
      "The frame.append method is deprecated and will be removed from pandas in a future version. Use pandas.concat instead.\n",
      "\n",
      "C:\\Users\\j.muessel\\Miniconda3\\envs\\pyenv\\lib\\site-packages\\emobpy\\consumption.py:413: FutureWarning:\n",
      "\n",
      "The frame.append method is deprecated and will be removed from pandas in a future version. Use pandas.concat instead.\n",
      "\n",
      "C:\\Users\\j.muessel\\Miniconda3\\envs\\pyenv\\lib\\site-packages\\emobpy\\consumption.py:413: FutureWarning:\n",
      "\n",
      "The frame.append method is deprecated and will be removed from pandas in a future version. Use pandas.concat instead.\n",
      "\n",
      "C:\\Users\\j.muessel\\Miniconda3\\envs\\pyenv\\lib\\site-packages\\emobpy\\consumption.py:413: FutureWarning:\n",
      "\n",
      "The frame.append method is deprecated and will be removed from pandas in a future version. Use pandas.concat instead.\n",
      "\n",
      "C:\\Users\\j.muessel\\Miniconda3\\envs\\pyenv\\lib\\site-packages\\emobpy\\consumption.py:413: FutureWarning:\n",
      "\n",
      "The frame.append method is deprecated and will be removed from pandas in a future version. Use pandas.concat instead.\n",
      "\n",
      "C:\\Users\\j.muessel\\Miniconda3\\envs\\pyenv\\lib\\site-packages\\emobpy\\consumption.py:413: FutureWarning:\n",
      "\n",
      "The frame.append method is deprecated and will be removed from pandas in a future version. Use pandas.concat instead.\n",
      "\n",
      "C:\\Users\\j.muessel\\Miniconda3\\envs\\pyenv\\lib\\site-packages\\emobpy\\consumption.py:413: FutureWarning:\n",
      "\n",
      "The frame.append method is deprecated and will be removed from pandas in a future version. Use pandas.concat instead.\n",
      "\n",
      "C:\\Users\\j.muessel\\Miniconda3\\envs\\pyenv\\lib\\site-packages\\emobpy\\consumption.py:413: FutureWarning:\n",
      "\n",
      "The frame.append method is deprecated and will be removed from pandas in a future version. Use pandas.concat instead.\n",
      "\n",
      "C:\\Users\\j.muessel\\Miniconda3\\envs\\pyenv\\lib\\site-packages\\emobpy\\consumption.py:413: FutureWarning:\n",
      "\n",
      "The frame.append method is deprecated and will be removed from pandas in a future version. Use pandas.concat instead.\n",
      "\n",
      "C:\\Users\\j.muessel\\Miniconda3\\envs\\pyenv\\lib\\site-packages\\emobpy\\consumption.py:413: FutureWarning:\n",
      "\n",
      "The frame.append method is deprecated and will be removed from pandas in a future version. Use pandas.concat instead.\n",
      "\n",
      "C:\\Users\\j.muessel\\Miniconda3\\envs\\pyenv\\lib\\site-packages\\emobpy\\consumption.py:413: FutureWarning:\n",
      "\n",
      "The frame.append method is deprecated and will be removed from pandas in a future version. Use pandas.concat instead.\n",
      "\n",
      "C:\\Users\\j.muessel\\Miniconda3\\envs\\pyenv\\lib\\site-packages\\emobpy\\consumption.py:413: FutureWarning:\n",
      "\n",
      "The frame.append method is deprecated and will be removed from pandas in a future version. Use pandas.concat instead.\n",
      "\n",
      "C:\\Users\\j.muessel\\Miniconda3\\envs\\pyenv\\lib\\site-packages\\emobpy\\consumption.py:413: FutureWarning:\n",
      "\n",
      "The frame.append method is deprecated and will be removed from pandas in a future version. Use pandas.concat instead.\n",
      "\n",
      "C:\\Users\\j.muessel\\Miniconda3\\envs\\pyenv\\lib\\site-packages\\emobpy\\consumption.py:413: FutureWarning:\n",
      "\n",
      "The frame.append method is deprecated and will be removed from pandas in a future version. Use pandas.concat instead.\n",
      "\n",
      "C:\\Users\\j.muessel\\Miniconda3\\envs\\pyenv\\lib\\site-packages\\emobpy\\consumption.py:413: FutureWarning:\n",
      "\n",
      "The frame.append method is deprecated and will be removed from pandas in a future version. Use pandas.concat instead.\n",
      "\n",
      "C:\\Users\\j.muessel\\Miniconda3\\envs\\pyenv\\lib\\site-packages\\emobpy\\consumption.py:413: FutureWarning:\n",
      "\n",
      "The frame.append method is deprecated and will be removed from pandas in a future version. Use pandas.concat instead.\n",
      "\n",
      "C:\\Users\\j.muessel\\Miniconda3\\envs\\pyenv\\lib\\site-packages\\emobpy\\consumption.py:413: FutureWarning:\n",
      "\n",
      "The frame.append method is deprecated and will be removed from pandas in a future version. Use pandas.concat instead.\n",
      "\n",
      "C:\\Users\\j.muessel\\Miniconda3\\envs\\pyenv\\lib\\site-packages\\emobpy\\consumption.py:413: FutureWarning:\n",
      "\n",
      "The frame.append method is deprecated and will be removed from pandas in a future version. Use pandas.concat instead.\n",
      "\n",
      "C:\\Users\\j.muessel\\Miniconda3\\envs\\pyenv\\lib\\site-packages\\emobpy\\consumption.py:413: FutureWarning:\n",
      "\n",
      "The frame.append method is deprecated and will be removed from pandas in a future version. Use pandas.concat instead.\n",
      "\n",
      "C:\\Users\\j.muessel\\Miniconda3\\envs\\pyenv\\lib\\site-packages\\emobpy\\consumption.py:413: FutureWarning:\n",
      "\n",
      "The frame.append method is deprecated and will be removed from pandas in a future version. Use pandas.concat instead.\n",
      "\n",
      "C:\\Users\\j.muessel\\Miniconda3\\envs\\pyenv\\lib\\site-packages\\emobpy\\consumption.py:413: FutureWarning:\n",
      "\n",
      "The frame.append method is deprecated and will be removed from pandas in a future version. Use pandas.concat instead.\n",
      "\n",
      "C:\\Users\\j.muessel\\Miniconda3\\envs\\pyenv\\lib\\site-packages\\emobpy\\consumption.py:413: FutureWarning:\n",
      "\n",
      "The frame.append method is deprecated and will be removed from pandas in a future version. Use pandas.concat instead.\n",
      "\n",
      "C:\\Users\\j.muessel\\Miniconda3\\envs\\pyenv\\lib\\site-packages\\emobpy\\consumption.py:413: FutureWarning:\n",
      "\n",
      "The frame.append method is deprecated and will be removed from pandas in a future version. Use pandas.concat instead.\n",
      "\n",
      "C:\\Users\\j.muessel\\Miniconda3\\envs\\pyenv\\lib\\site-packages\\emobpy\\consumption.py:413: FutureWarning:\n",
      "\n",
      "The frame.append method is deprecated and will be removed from pandas in a future version. Use pandas.concat instead.\n",
      "\n",
      "C:\\Users\\j.muessel\\Miniconda3\\envs\\pyenv\\lib\\site-packages\\emobpy\\consumption.py:413: FutureWarning:\n",
      "\n",
      "The frame.append method is deprecated and will be removed from pandas in a future version. Use pandas.concat instead.\n",
      "\n",
      "C:\\Users\\j.muessel\\Miniconda3\\envs\\pyenv\\lib\\site-packages\\emobpy\\consumption.py:413: FutureWarning:\n",
      "\n",
      "The frame.append method is deprecated and will be removed from pandas in a future version. Use pandas.concat instead.\n",
      "\n",
      "C:\\Users\\j.muessel\\Miniconda3\\envs\\pyenv\\lib\\site-packages\\emobpy\\consumption.py:413: FutureWarning:\n",
      "\n",
      "The frame.append method is deprecated and will be removed from pandas in a future version. Use pandas.concat instead.\n",
      "\n",
      "C:\\Users\\j.muessel\\Miniconda3\\envs\\pyenv\\lib\\site-packages\\emobpy\\consumption.py:413: FutureWarning:\n",
      "\n",
      "The frame.append method is deprecated and will be removed from pandas in a future version. Use pandas.concat instead.\n",
      "\n",
      "C:\\Users\\j.muessel\\Miniconda3\\envs\\pyenv\\lib\\site-packages\\emobpy\\consumption.py:413: FutureWarning:\n",
      "\n",
      "The frame.append method is deprecated and will be removed from pandas in a future version. Use pandas.concat instead.\n",
      "\n",
      "C:\\Users\\j.muessel\\Miniconda3\\envs\\pyenv\\lib\\site-packages\\emobpy\\consumption.py:413: FutureWarning:\n",
      "\n",
      "The frame.append method is deprecated and will be removed from pandas in a future version. Use pandas.concat instead.\n",
      "\n",
      "C:\\Users\\j.muessel\\Miniconda3\\envs\\pyenv\\lib\\site-packages\\emobpy\\consumption.py:413: FutureWarning:\n",
      "\n",
      "The frame.append method is deprecated and will be removed from pandas in a future version. Use pandas.concat instead.\n",
      "\n",
      "C:\\Users\\j.muessel\\Miniconda3\\envs\\pyenv\\lib\\site-packages\\emobpy\\consumption.py:413: FutureWarning:\n",
      "\n",
      "The frame.append method is deprecated and will be removed from pandas in a future version. Use pandas.concat instead.\n",
      "\n",
      "C:\\Users\\j.muessel\\Miniconda3\\envs\\pyenv\\lib\\site-packages\\emobpy\\consumption.py:413: FutureWarning:\n",
      "\n",
      "The frame.append method is deprecated and will be removed from pandas in a future version. Use pandas.concat instead.\n",
      "\n",
      "C:\\Users\\j.muessel\\Miniconda3\\envs\\pyenv\\lib\\site-packages\\emobpy\\consumption.py:413: FutureWarning:\n",
      "\n",
      "The frame.append method is deprecated and will be removed from pandas in a future version. Use pandas.concat instead.\n",
      "\n",
      "C:\\Users\\j.muessel\\Miniconda3\\envs\\pyenv\\lib\\site-packages\\emobpy\\consumption.py:413: FutureWarning:\n",
      "\n",
      "The frame.append method is deprecated and will be removed from pandas in a future version. Use pandas.concat instead.\n",
      "\n",
      "C:\\Users\\j.muessel\\Miniconda3\\envs\\pyenv\\lib\\site-packages\\emobpy\\consumption.py:413: FutureWarning:\n",
      "\n",
      "The frame.append method is deprecated and will be removed from pandas in a future version. Use pandas.concat instead.\n",
      "\n",
      "C:\\Users\\j.muessel\\Miniconda3\\envs\\pyenv\\lib\\site-packages\\emobpy\\consumption.py:413: FutureWarning:\n",
      "\n",
      "The frame.append method is deprecated and will be removed from pandas in a future version. Use pandas.concat instead.\n",
      "\n",
      "C:\\Users\\j.muessel\\Miniconda3\\envs\\pyenv\\lib\\site-packages\\emobpy\\consumption.py:413: FutureWarning:\n",
      "\n",
      "The frame.append method is deprecated and will be removed from pandas in a future version. Use pandas.concat instead.\n",
      "\n",
      "C:\\Users\\j.muessel\\Miniconda3\\envs\\pyenv\\lib\\site-packages\\emobpy\\consumption.py:413: FutureWarning:\n",
      "\n",
      "The frame.append method is deprecated and will be removed from pandas in a future version. Use pandas.concat instead.\n",
      "\n",
      "C:\\Users\\j.muessel\\Miniconda3\\envs\\pyenv\\lib\\site-packages\\emobpy\\consumption.py:413: FutureWarning:\n",
      "\n",
      "The frame.append method is deprecated and will be removed from pandas in a future version. Use pandas.concat instead.\n",
      "\n",
      "C:\\Users\\j.muessel\\Miniconda3\\envs\\pyenv\\lib\\site-packages\\emobpy\\consumption.py:413: FutureWarning:\n",
      "\n",
      "The frame.append method is deprecated and will be removed from pandas in a future version. Use pandas.concat instead.\n",
      "\n",
      "C:\\Users\\j.muessel\\Miniconda3\\envs\\pyenv\\lib\\site-packages\\emobpy\\consumption.py:413: FutureWarning:\n",
      "\n",
      "The frame.append method is deprecated and will be removed from pandas in a future version. Use pandas.concat instead.\n",
      "\n",
      "C:\\Users\\j.muessel\\Miniconda3\\envs\\pyenv\\lib\\site-packages\\emobpy\\consumption.py:413: FutureWarning:\n",
      "\n",
      "The frame.append method is deprecated and will be removed from pandas in a future version. Use pandas.concat instead.\n",
      "\n",
      "C:\\Users\\j.muessel\\Miniconda3\\envs\\pyenv\\lib\\site-packages\\emobpy\\consumption.py:413: FutureWarning:\n",
      "\n",
      "The frame.append method is deprecated and will be removed from pandas in a future version. Use pandas.concat instead.\n",
      "\n",
      "C:\\Users\\j.muessel\\Miniconda3\\envs\\pyenv\\lib\\site-packages\\emobpy\\consumption.py:413: FutureWarning:\n",
      "\n",
      "The frame.append method is deprecated and will be removed from pandas in a future version. Use pandas.concat instead.\n",
      "\n",
      "C:\\Users\\j.muessel\\Miniconda3\\envs\\pyenv\\lib\\site-packages\\emobpy\\consumption.py:413: FutureWarning:\n",
      "\n",
      "The frame.append method is deprecated and will be removed from pandas in a future version. Use pandas.concat instead.\n",
      "\n"
     ]
    },
    {
     "name": "stdout",
     "output_type": "stream",
     "text": [
      "Parameter: power\n",
      "   brand                     model  year  value unit\n",
      "0  Tesla             Model S P100D  2016  568.0   kw\n",
      "1  Tesla  Model S Performance (SR)  2020  568.0   kw\n",
      "2  Tesla  Model S Performance (AC)  2019  568.0   kw\n",
      "3  Tesla   Model S P90DL Ludicrous  2016  568.0   kw\n",
      "4  Tesla   Model S P90DL Ludicrous  2015  568.0   kw\n",
      "5  Tesla              Model S P90D  2016  568.0   kw\n",
      "6  Tesla              Model S P90D  2015  568.0   kw\n",
      "7  Tesla   Model S P85DL Ludicrous  2015  568.0   kw\n",
      "8  Tesla  Model S P85D 193kW+375kW  2015  568.0   kw\n",
      "9  Tesla             Model S P100D  2018  568.0   kw\n"
     ]
    },
    {
     "name": "stderr",
     "output_type": "stream",
     "text": [
      "C:\\Users\\j.muessel\\Miniconda3\\envs\\pyenv\\lib\\site-packages\\emobpy\\consumption.py:413: FutureWarning:\n",
      "\n",
      "The frame.append method is deprecated and will be removed from pandas in a future version. Use pandas.concat instead.\n",
      "\n",
      "C:\\Users\\j.muessel\\Miniconda3\\envs\\pyenv\\lib\\site-packages\\emobpy\\consumption.py:413: FutureWarning:\n",
      "\n",
      "The frame.append method is deprecated and will be removed from pandas in a future version. Use pandas.concat instead.\n",
      "\n",
      "C:\\Users\\j.muessel\\Miniconda3\\envs\\pyenv\\lib\\site-packages\\emobpy\\consumption.py:413: FutureWarning:\n",
      "\n",
      "The frame.append method is deprecated and will be removed from pandas in a future version. Use pandas.concat instead.\n",
      "\n",
      "C:\\Users\\j.muessel\\Miniconda3\\envs\\pyenv\\lib\\site-packages\\emobpy\\consumption.py:413: FutureWarning:\n",
      "\n",
      "The frame.append method is deprecated and will be removed from pandas in a future version. Use pandas.concat instead.\n",
      "\n",
      "C:\\Users\\j.muessel\\Miniconda3\\envs\\pyenv\\lib\\site-packages\\emobpy\\consumption.py:413: FutureWarning:\n",
      "\n",
      "The frame.append method is deprecated and will be removed from pandas in a future version. Use pandas.concat instead.\n",
      "\n",
      "C:\\Users\\j.muessel\\Miniconda3\\envs\\pyenv\\lib\\site-packages\\emobpy\\consumption.py:413: FutureWarning:\n",
      "\n",
      "The frame.append method is deprecated and will be removed from pandas in a future version. Use pandas.concat instead.\n",
      "\n",
      "C:\\Users\\j.muessel\\Miniconda3\\envs\\pyenv\\lib\\site-packages\\emobpy\\consumption.py:413: FutureWarning:\n",
      "\n",
      "The frame.append method is deprecated and will be removed from pandas in a future version. Use pandas.concat instead.\n",
      "\n",
      "C:\\Users\\j.muessel\\Miniconda3\\envs\\pyenv\\lib\\site-packages\\emobpy\\consumption.py:413: FutureWarning:\n",
      "\n",
      "The frame.append method is deprecated and will be removed from pandas in a future version. Use pandas.concat instead.\n",
      "\n",
      "C:\\Users\\j.muessel\\Miniconda3\\envs\\pyenv\\lib\\site-packages\\emobpy\\consumption.py:413: FutureWarning:\n",
      "\n",
      "The frame.append method is deprecated and will be removed from pandas in a future version. Use pandas.concat instead.\n",
      "\n",
      "C:\\Users\\j.muessel\\Miniconda3\\envs\\pyenv\\lib\\site-packages\\emobpy\\consumption.py:413: FutureWarning:\n",
      "\n",
      "The frame.append method is deprecated and will be removed from pandas in a future version. Use pandas.concat instead.\n",
      "\n",
      "C:\\Users\\j.muessel\\Miniconda3\\envs\\pyenv\\lib\\site-packages\\emobpy\\consumption.py:413: FutureWarning:\n",
      "\n",
      "The frame.append method is deprecated and will be removed from pandas in a future version. Use pandas.concat instead.\n",
      "\n",
      "C:\\Users\\j.muessel\\Miniconda3\\envs\\pyenv\\lib\\site-packages\\emobpy\\consumption.py:413: FutureWarning:\n",
      "\n",
      "The frame.append method is deprecated and will be removed from pandas in a future version. Use pandas.concat instead.\n",
      "\n",
      "C:\\Users\\j.muessel\\Miniconda3\\envs\\pyenv\\lib\\site-packages\\emobpy\\consumption.py:413: FutureWarning:\n",
      "\n",
      "The frame.append method is deprecated and will be removed from pandas in a future version. Use pandas.concat instead.\n",
      "\n",
      "C:\\Users\\j.muessel\\Miniconda3\\envs\\pyenv\\lib\\site-packages\\emobpy\\consumption.py:413: FutureWarning:\n",
      "\n",
      "The frame.append method is deprecated and will be removed from pandas in a future version. Use pandas.concat instead.\n",
      "\n",
      "C:\\Users\\j.muessel\\Miniconda3\\envs\\pyenv\\lib\\site-packages\\emobpy\\consumption.py:413: FutureWarning:\n",
      "\n",
      "The frame.append method is deprecated and will be removed from pandas in a future version. Use pandas.concat instead.\n",
      "\n",
      "C:\\Users\\j.muessel\\Miniconda3\\envs\\pyenv\\lib\\site-packages\\emobpy\\consumption.py:413: FutureWarning:\n",
      "\n",
      "The frame.append method is deprecated and will be removed from pandas in a future version. Use pandas.concat instead.\n",
      "\n",
      "C:\\Users\\j.muessel\\Miniconda3\\envs\\pyenv\\lib\\site-packages\\emobpy\\consumption.py:413: FutureWarning:\n",
      "\n",
      "The frame.append method is deprecated and will be removed from pandas in a future version. Use pandas.concat instead.\n",
      "\n",
      "C:\\Users\\j.muessel\\Miniconda3\\envs\\pyenv\\lib\\site-packages\\emobpy\\consumption.py:413: FutureWarning:\n",
      "\n",
      "The frame.append method is deprecated and will be removed from pandas in a future version. Use pandas.concat instead.\n",
      "\n",
      "C:\\Users\\j.muessel\\Miniconda3\\envs\\pyenv\\lib\\site-packages\\emobpy\\consumption.py:413: FutureWarning:\n",
      "\n",
      "The frame.append method is deprecated and will be removed from pandas in a future version. Use pandas.concat instead.\n",
      "\n",
      "C:\\Users\\j.muessel\\Miniconda3\\envs\\pyenv\\lib\\site-packages\\emobpy\\consumption.py:413: FutureWarning:\n",
      "\n",
      "The frame.append method is deprecated and will be removed from pandas in a future version. Use pandas.concat instead.\n",
      "\n",
      "C:\\Users\\j.muessel\\Miniconda3\\envs\\pyenv\\lib\\site-packages\\emobpy\\consumption.py:413: FutureWarning:\n",
      "\n",
      "The frame.append method is deprecated and will be removed from pandas in a future version. Use pandas.concat instead.\n",
      "\n",
      "C:\\Users\\j.muessel\\Miniconda3\\envs\\pyenv\\lib\\site-packages\\emobpy\\consumption.py:413: FutureWarning:\n",
      "\n",
      "The frame.append method is deprecated and will be removed from pandas in a future version. Use pandas.concat instead.\n",
      "\n",
      "C:\\Users\\j.muessel\\Miniconda3\\envs\\pyenv\\lib\\site-packages\\emobpy\\consumption.py:413: FutureWarning:\n",
      "\n",
      "The frame.append method is deprecated and will be removed from pandas in a future version. Use pandas.concat instead.\n",
      "\n",
      "C:\\Users\\j.muessel\\Miniconda3\\envs\\pyenv\\lib\\site-packages\\emobpy\\consumption.py:413: FutureWarning:\n",
      "\n",
      "The frame.append method is deprecated and will be removed from pandas in a future version. Use pandas.concat instead.\n",
      "\n",
      "C:\\Users\\j.muessel\\Miniconda3\\envs\\pyenv\\lib\\site-packages\\emobpy\\consumption.py:413: FutureWarning:\n",
      "\n",
      "The frame.append method is deprecated and will be removed from pandas in a future version. Use pandas.concat instead.\n",
      "\n",
      "C:\\Users\\j.muessel\\Miniconda3\\envs\\pyenv\\lib\\site-packages\\emobpy\\consumption.py:413: FutureWarning:\n",
      "\n",
      "The frame.append method is deprecated and will be removed from pandas in a future version. Use pandas.concat instead.\n",
      "\n",
      "C:\\Users\\j.muessel\\Miniconda3\\envs\\pyenv\\lib\\site-packages\\emobpy\\consumption.py:413: FutureWarning:\n",
      "\n",
      "The frame.append method is deprecated and will be removed from pandas in a future version. Use pandas.concat instead.\n",
      "\n",
      "C:\\Users\\j.muessel\\Miniconda3\\envs\\pyenv\\lib\\site-packages\\emobpy\\consumption.py:413: FutureWarning:\n",
      "\n",
      "The frame.append method is deprecated and will be removed from pandas in a future version. Use pandas.concat instead.\n",
      "\n",
      "C:\\Users\\j.muessel\\Miniconda3\\envs\\pyenv\\lib\\site-packages\\emobpy\\consumption.py:413: FutureWarning:\n",
      "\n",
      "The frame.append method is deprecated and will be removed from pandas in a future version. Use pandas.concat instead.\n",
      "\n",
      "C:\\Users\\j.muessel\\Miniconda3\\envs\\pyenv\\lib\\site-packages\\emobpy\\consumption.py:413: FutureWarning:\n",
      "\n",
      "The frame.append method is deprecated and will be removed from pandas in a future version. Use pandas.concat instead.\n",
      "\n",
      "C:\\Users\\j.muessel\\Miniconda3\\envs\\pyenv\\lib\\site-packages\\emobpy\\consumption.py:413: FutureWarning:\n",
      "\n",
      "The frame.append method is deprecated and will be removed from pandas in a future version. Use pandas.concat instead.\n",
      "\n",
      "C:\\Users\\j.muessel\\Miniconda3\\envs\\pyenv\\lib\\site-packages\\emobpy\\consumption.py:413: FutureWarning:\n",
      "\n",
      "The frame.append method is deprecated and will be removed from pandas in a future version. Use pandas.concat instead.\n",
      "\n",
      "C:\\Users\\j.muessel\\Miniconda3\\envs\\pyenv\\lib\\site-packages\\emobpy\\consumption.py:413: FutureWarning:\n",
      "\n",
      "The frame.append method is deprecated and will be removed from pandas in a future version. Use pandas.concat instead.\n",
      "\n",
      "C:\\Users\\j.muessel\\Miniconda3\\envs\\pyenv\\lib\\site-packages\\emobpy\\consumption.py:413: FutureWarning:\n",
      "\n",
      "The frame.append method is deprecated and will be removed from pandas in a future version. Use pandas.concat instead.\n",
      "\n",
      "C:\\Users\\j.muessel\\Miniconda3\\envs\\pyenv\\lib\\site-packages\\emobpy\\consumption.py:413: FutureWarning:\n",
      "\n",
      "The frame.append method is deprecated and will be removed from pandas in a future version. Use pandas.concat instead.\n",
      "\n",
      "C:\\Users\\j.muessel\\Miniconda3\\envs\\pyenv\\lib\\site-packages\\emobpy\\consumption.py:413: FutureWarning:\n",
      "\n",
      "The frame.append method is deprecated and will be removed from pandas in a future version. Use pandas.concat instead.\n",
      "\n",
      "C:\\Users\\j.muessel\\Miniconda3\\envs\\pyenv\\lib\\site-packages\\emobpy\\consumption.py:413: FutureWarning:\n",
      "\n",
      "The frame.append method is deprecated and will be removed from pandas in a future version. Use pandas.concat instead.\n",
      "\n",
      "C:\\Users\\j.muessel\\Miniconda3\\envs\\pyenv\\lib\\site-packages\\emobpy\\consumption.py:413: FutureWarning:\n",
      "\n",
      "The frame.append method is deprecated and will be removed from pandas in a future version. Use pandas.concat instead.\n",
      "\n",
      "C:\\Users\\j.muessel\\Miniconda3\\envs\\pyenv\\lib\\site-packages\\emobpy\\consumption.py:413: FutureWarning:\n",
      "\n",
      "The frame.append method is deprecated and will be removed from pandas in a future version. Use pandas.concat instead.\n",
      "\n",
      "C:\\Users\\j.muessel\\Miniconda3\\envs\\pyenv\\lib\\site-packages\\emobpy\\consumption.py:413: FutureWarning:\n",
      "\n",
      "The frame.append method is deprecated and will be removed from pandas in a future version. Use pandas.concat instead.\n",
      "\n",
      "C:\\Users\\j.muessel\\Miniconda3\\envs\\pyenv\\lib\\site-packages\\emobpy\\consumption.py:413: FutureWarning:\n",
      "\n",
      "The frame.append method is deprecated and will be removed from pandas in a future version. Use pandas.concat instead.\n",
      "\n",
      "C:\\Users\\j.muessel\\Miniconda3\\envs\\pyenv\\lib\\site-packages\\emobpy\\consumption.py:413: FutureWarning:\n",
      "\n",
      "The frame.append method is deprecated and will be removed from pandas in a future version. Use pandas.concat instead.\n",
      "\n",
      "C:\\Users\\j.muessel\\Miniconda3\\envs\\pyenv\\lib\\site-packages\\emobpy\\consumption.py:413: FutureWarning:\n",
      "\n",
      "The frame.append method is deprecated and will be removed from pandas in a future version. Use pandas.concat instead.\n",
      "\n",
      "C:\\Users\\j.muessel\\Miniconda3\\envs\\pyenv\\lib\\site-packages\\emobpy\\consumption.py:413: FutureWarning:\n",
      "\n",
      "The frame.append method is deprecated and will be removed from pandas in a future version. Use pandas.concat instead.\n",
      "\n",
      "C:\\Users\\j.muessel\\Miniconda3\\envs\\pyenv\\lib\\site-packages\\emobpy\\consumption.py:413: FutureWarning:\n",
      "\n",
      "The frame.append method is deprecated and will be removed from pandas in a future version. Use pandas.concat instead.\n",
      "\n",
      "C:\\Users\\j.muessel\\Miniconda3\\envs\\pyenv\\lib\\site-packages\\emobpy\\consumption.py:413: FutureWarning:\n",
      "\n",
      "The frame.append method is deprecated and will be removed from pandas in a future version. Use pandas.concat instead.\n",
      "\n",
      "C:\\Users\\j.muessel\\Miniconda3\\envs\\pyenv\\lib\\site-packages\\emobpy\\consumption.py:413: FutureWarning:\n",
      "\n",
      "The frame.append method is deprecated and will be removed from pandas in a future version. Use pandas.concat instead.\n",
      "\n",
      "C:\\Users\\j.muessel\\Miniconda3\\envs\\pyenv\\lib\\site-packages\\emobpy\\consumption.py:413: FutureWarning:\n",
      "\n",
      "The frame.append method is deprecated and will be removed from pandas in a future version. Use pandas.concat instead.\n",
      "\n",
      "C:\\Users\\j.muessel\\Miniconda3\\envs\\pyenv\\lib\\site-packages\\emobpy\\consumption.py:413: FutureWarning:\n",
      "\n",
      "The frame.append method is deprecated and will be removed from pandas in a future version. Use pandas.concat instead.\n",
      "\n",
      "C:\\Users\\j.muessel\\Miniconda3\\envs\\pyenv\\lib\\site-packages\\emobpy\\consumption.py:413: FutureWarning:\n",
      "\n",
      "The frame.append method is deprecated and will be removed from pandas in a future version. Use pandas.concat instead.\n",
      "\n",
      "C:\\Users\\j.muessel\\Miniconda3\\envs\\pyenv\\lib\\site-packages\\emobpy\\consumption.py:413: FutureWarning:\n",
      "\n",
      "The frame.append method is deprecated and will be removed from pandas in a future version. Use pandas.concat instead.\n",
      "\n",
      "C:\\Users\\j.muessel\\Miniconda3\\envs\\pyenv\\lib\\site-packages\\emobpy\\consumption.py:413: FutureWarning:\n",
      "\n",
      "The frame.append method is deprecated and will be removed from pandas in a future version. Use pandas.concat instead.\n",
      "\n",
      "C:\\Users\\j.muessel\\Miniconda3\\envs\\pyenv\\lib\\site-packages\\emobpy\\consumption.py:413: FutureWarning:\n",
      "\n",
      "The frame.append method is deprecated and will be removed from pandas in a future version. Use pandas.concat instead.\n",
      "\n",
      "C:\\Users\\j.muessel\\Miniconda3\\envs\\pyenv\\lib\\site-packages\\emobpy\\consumption.py:413: FutureWarning:\n",
      "\n",
      "The frame.append method is deprecated and will be removed from pandas in a future version. Use pandas.concat instead.\n",
      "\n",
      "C:\\Users\\j.muessel\\Miniconda3\\envs\\pyenv\\lib\\site-packages\\emobpy\\consumption.py:413: FutureWarning:\n",
      "\n",
      "The frame.append method is deprecated and will be removed from pandas in a future version. Use pandas.concat instead.\n",
      "\n",
      "C:\\Users\\j.muessel\\Miniconda3\\envs\\pyenv\\lib\\site-packages\\emobpy\\consumption.py:413: FutureWarning:\n",
      "\n",
      "The frame.append method is deprecated and will be removed from pandas in a future version. Use pandas.concat instead.\n",
      "\n",
      "C:\\Users\\j.muessel\\Miniconda3\\envs\\pyenv\\lib\\site-packages\\emobpy\\consumption.py:413: FutureWarning:\n",
      "\n",
      "The frame.append method is deprecated and will be removed from pandas in a future version. Use pandas.concat instead.\n",
      "\n",
      "C:\\Users\\j.muessel\\Miniconda3\\envs\\pyenv\\lib\\site-packages\\emobpy\\consumption.py:413: FutureWarning:\n",
      "\n",
      "The frame.append method is deprecated and will be removed from pandas in a future version. Use pandas.concat instead.\n",
      "\n",
      "C:\\Users\\j.muessel\\Miniconda3\\envs\\pyenv\\lib\\site-packages\\emobpy\\consumption.py:413: FutureWarning:\n",
      "\n",
      "The frame.append method is deprecated and will be removed from pandas in a future version. Use pandas.concat instead.\n",
      "\n",
      "C:\\Users\\j.muessel\\Miniconda3\\envs\\pyenv\\lib\\site-packages\\emobpy\\consumption.py:413: FutureWarning:\n",
      "\n",
      "The frame.append method is deprecated and will be removed from pandas in a future version. Use pandas.concat instead.\n",
      "\n",
      "C:\\Users\\j.muessel\\Miniconda3\\envs\\pyenv\\lib\\site-packages\\emobpy\\consumption.py:413: FutureWarning:\n",
      "\n",
      "The frame.append method is deprecated and will be removed from pandas in a future version. Use pandas.concat instead.\n",
      "\n",
      "C:\\Users\\j.muessel\\Miniconda3\\envs\\pyenv\\lib\\site-packages\\emobpy\\consumption.py:413: FutureWarning:\n",
      "\n",
      "The frame.append method is deprecated and will be removed from pandas in a future version. Use pandas.concat instead.\n",
      "\n",
      "C:\\Users\\j.muessel\\Miniconda3\\envs\\pyenv\\lib\\site-packages\\emobpy\\consumption.py:413: FutureWarning:\n",
      "\n",
      "The frame.append method is deprecated and will be removed from pandas in a future version. Use pandas.concat instead.\n",
      "\n",
      "C:\\Users\\j.muessel\\Miniconda3\\envs\\pyenv\\lib\\site-packages\\emobpy\\consumption.py:413: FutureWarning:\n",
      "\n",
      "The frame.append method is deprecated and will be removed from pandas in a future version. Use pandas.concat instead.\n",
      "\n",
      "C:\\Users\\j.muessel\\Miniconda3\\envs\\pyenv\\lib\\site-packages\\emobpy\\consumption.py:413: FutureWarning:\n",
      "\n",
      "The frame.append method is deprecated and will be removed from pandas in a future version. Use pandas.concat instead.\n",
      "\n",
      "C:\\Users\\j.muessel\\Miniconda3\\envs\\pyenv\\lib\\site-packages\\emobpy\\consumption.py:413: FutureWarning:\n",
      "\n",
      "The frame.append method is deprecated and will be removed from pandas in a future version. Use pandas.concat instead.\n",
      "\n",
      "C:\\Users\\j.muessel\\Miniconda3\\envs\\pyenv\\lib\\site-packages\\emobpy\\consumption.py:413: FutureWarning:\n",
      "\n",
      "The frame.append method is deprecated and will be removed from pandas in a future version. Use pandas.concat instead.\n",
      "\n"
     ]
    },
    {
     "name": "stdout",
     "output_type": "stream",
     "text": [
      "Fallback value 0.9 added for missing battery_charging_eff parameter.\n",
      "Fallback value 0.95 added for missing battery_discharging_eff parameter.\n",
      "Fallback value 0.95 added for missing transmission_eff parameter.\n",
      "Fallback value 0.3 added for missing auxiliary_power parameter.\n",
      "Fallback value 3.5 added for missing cabin_volume parameter.\n",
      "Fallback value 1 added for missing hvac_cop_heating parameter.\n",
      "Fallback value 2 added for missing hvac_cop_cooling parameter.\n",
      "New profile running: BEV1_W53_a7209_Volkswagen_ID.3_2020_c641a\n",
      "temp Kelvin DE 2016 Timezone: Europe/Berlin\n",
      "pressure Pascal DE 2016 Timezone: Europe/Berlin\n",
      "dew_point Kelvin DE 2016 Timezone: Europe/Berlin\n",
      "Progress: 100% [698 / 698] trips\n",
      " \n",
      "See Log files\n",
      "C:\\Users\\j.muessel\\Documents\\GitHub\\EES\\Emobpy\\my_emobpy\\log\\emobpy.log\n",
      "soc_init:0.5 --> soc_end:1.0\n",
      "Profile done: BEV1_W53_a7209_Volkswagen_ID.3_2020_c641a_avai_e5e47\n",
      " \n",
      "See Log files\n",
      "C:\\Users\\j.muessel\\Documents\\GitHub\\EES\\Emobpy\\my_emobpy\\log\\emobpy.log\n",
      "Profile done: BEV1_W53_a7209_Volkswagen_ID.3_2020_c641a_avai_e5e47_immediate_8d48c\n",
      "Creation Successful:True\n",
      "Profile done: BEV1_W53_a7209_Volkswagen_ID.3_2020_c641a_avai_e5e47_balanced_206d9\n",
      "Creation Successful:True\n",
      "Profile done: BEV1_W53_a7209_Volkswagen_ID.3_2020_c641a_avai_e5e47_from_0_to_24_at_home_358ca_FAIL\n",
      "Creation Successful:False\n",
      "Profile done: BEV1_W53_a7209_Volkswagen_ID.3_2020_c641a_avai_e5e47_from_23_to_8_at_any_b4f43_FAIL\n",
      "Creation Successful:False\n",
      "New profile running: BEV1_W53_d52d5\n",
      "Progress: 1% [6 / 365] days"
     ]
    },
    {
     "name": "stderr",
     "output_type": "stream",
     "text": [
      "C:\\Users\\j.muessel\\Miniconda3\\envs\\pyenv\\lib\\site-packages\\emobpy\\mobility.py:1187: FutureWarning:\n",
      "\n",
      "The frame.append method is deprecated and will be removed from pandas in a future version. Use pandas.concat instead.\n",
      "\n"
     ]
    },
    {
     "name": "stdout",
     "output_type": "stream",
     "text": [
      "Progress: 2% [8 / 365] days"
     ]
    },
    {
     "name": "stderr",
     "output_type": "stream",
     "text": [
      "C:\\Users\\j.muessel\\Miniconda3\\envs\\pyenv\\lib\\site-packages\\emobpy\\mobility.py:1187: FutureWarning:\n",
      "\n",
      "The frame.append method is deprecated and will be removed from pandas in a future version. Use pandas.concat instead.\n",
      "\n",
      "C:\\Users\\j.muessel\\Miniconda3\\envs\\pyenv\\lib\\site-packages\\emobpy\\mobility.py:1187: FutureWarning:\n",
      "\n",
      "The frame.append method is deprecated and will be removed from pandas in a future version. Use pandas.concat instead.\n",
      "\n",
      "C:\\Users\\j.muessel\\Miniconda3\\envs\\pyenv\\lib\\site-packages\\emobpy\\mobility.py:1187: FutureWarning:\n",
      "\n",
      "The frame.append method is deprecated and will be removed from pandas in a future version. Use pandas.concat instead.\n",
      "\n",
      "C:\\Users\\j.muessel\\Miniconda3\\envs\\pyenv\\lib\\site-packages\\emobpy\\mobility.py:1187: FutureWarning:\n",
      "\n",
      "The frame.append method is deprecated and will be removed from pandas in a future version. Use pandas.concat instead.\n",
      "\n",
      "C:\\Users\\j.muessel\\Miniconda3\\envs\\pyenv\\lib\\site-packages\\emobpy\\mobility.py:1187: FutureWarning:\n",
      "\n",
      "The frame.append method is deprecated and will be removed from pandas in a future version. Use pandas.concat instead.\n",
      "\n"
     ]
    },
    {
     "name": "stdout",
     "output_type": "stream",
     "text": [
      "Progress: 2% [10 / 365] days"
     ]
    },
    {
     "name": "stderr",
     "output_type": "stream",
     "text": [
      "C:\\Users\\j.muessel\\Miniconda3\\envs\\pyenv\\lib\\site-packages\\emobpy\\mobility.py:1187: FutureWarning:\n",
      "\n",
      "The frame.append method is deprecated and will be removed from pandas in a future version. Use pandas.concat instead.\n",
      "\n"
     ]
    },
    {
     "name": "stdout",
     "output_type": "stream",
     "text": [
      "Progress: 5% [19 / 365] days"
     ]
    },
    {
     "name": "stderr",
     "output_type": "stream",
     "text": [
      "C:\\Users\\j.muessel\\Miniconda3\\envs\\pyenv\\lib\\site-packages\\emobpy\\mobility.py:1187: FutureWarning:\n",
      "\n",
      "The frame.append method is deprecated and will be removed from pandas in a future version. Use pandas.concat instead.\n",
      "\n"
     ]
    },
    {
     "name": "stdout",
     "output_type": "stream",
     "text": [
      "Progress: 22% [81 / 365] days"
     ]
    },
    {
     "name": "stderr",
     "output_type": "stream",
     "text": [
      "C:\\Users\\j.muessel\\Miniconda3\\envs\\pyenv\\lib\\site-packages\\emobpy\\mobility.py:1187: FutureWarning:\n",
      "\n",
      "The frame.append method is deprecated and will be removed from pandas in a future version. Use pandas.concat instead.\n",
      "\n",
      "C:\\Users\\j.muessel\\Miniconda3\\envs\\pyenv\\lib\\site-packages\\emobpy\\mobility.py:1187: FutureWarning:\n",
      "\n",
      "The frame.append method is deprecated and will be removed from pandas in a future version. Use pandas.concat instead.\n",
      "\n",
      "C:\\Users\\j.muessel\\Miniconda3\\envs\\pyenv\\lib\\site-packages\\emobpy\\mobility.py:1187: FutureWarning:\n",
      "\n",
      "The frame.append method is deprecated and will be removed from pandas in a future version. Use pandas.concat instead.\n",
      "\n",
      "C:\\Users\\j.muessel\\Miniconda3\\envs\\pyenv\\lib\\site-packages\\emobpy\\mobility.py:1187: FutureWarning:\n",
      "\n",
      "The frame.append method is deprecated and will be removed from pandas in a future version. Use pandas.concat instead.\n",
      "\n",
      "C:\\Users\\j.muessel\\Miniconda3\\envs\\pyenv\\lib\\site-packages\\emobpy\\mobility.py:1187: FutureWarning:\n",
      "\n",
      "The frame.append method is deprecated and will be removed from pandas in a future version. Use pandas.concat instead.\n",
      "\n",
      "C:\\Users\\j.muessel\\Miniconda3\\envs\\pyenv\\lib\\site-packages\\emobpy\\mobility.py:1187: FutureWarning:\n",
      "\n",
      "The frame.append method is deprecated and will be removed from pandas in a future version. Use pandas.concat instead.\n",
      "\n",
      "C:\\Users\\j.muessel\\Miniconda3\\envs\\pyenv\\lib\\site-packages\\emobpy\\mobility.py:1187: FutureWarning:\n",
      "\n",
      "The frame.append method is deprecated and will be removed from pandas in a future version. Use pandas.concat instead.\n",
      "\n"
     ]
    },
    {
     "name": "stdout",
     "output_type": "stream",
     "text": [
      "    Day 81 'select_tour' method in loop Nr. 100. See log file BEV1_W53_d52d5\n",
      "       last_trip_to home                   0.53 uncompliance rate (last 30 iter)\n",
      "       equal_state_and_destination home    0.23 uncompliance rate (last 30 iter)\n",
      "  Tour done: Day 81\n",
      "Progress: 22% [82 / 365] days"
     ]
    },
    {
     "name": "stderr",
     "output_type": "stream",
     "text": [
      "C:\\Users\\j.muessel\\Miniconda3\\envs\\pyenv\\lib\\site-packages\\emobpy\\mobility.py:1187: FutureWarning:\n",
      "\n",
      "The frame.append method is deprecated and will be removed from pandas in a future version. Use pandas.concat instead.\n",
      "\n",
      "C:\\Users\\j.muessel\\Miniconda3\\envs\\pyenv\\lib\\site-packages\\emobpy\\mobility.py:1187: FutureWarning:\n",
      "\n",
      "The frame.append method is deprecated and will be removed from pandas in a future version. Use pandas.concat instead.\n",
      "\n",
      "C:\\Users\\j.muessel\\Miniconda3\\envs\\pyenv\\lib\\site-packages\\emobpy\\mobility.py:1187: FutureWarning:\n",
      "\n",
      "The frame.append method is deprecated and will be removed from pandas in a future version. Use pandas.concat instead.\n",
      "\n"
     ]
    },
    {
     "name": "stdout",
     "output_type": "stream",
     "text": [
      "Progress: 24% [88 / 365] days"
     ]
    },
    {
     "name": "stderr",
     "output_type": "stream",
     "text": [
      "C:\\Users\\j.muessel\\Miniconda3\\envs\\pyenv\\lib\\site-packages\\emobpy\\mobility.py:1187: FutureWarning:\n",
      "\n",
      "The frame.append method is deprecated and will be removed from pandas in a future version. Use pandas.concat instead.\n",
      "\n",
      "C:\\Users\\j.muessel\\Miniconda3\\envs\\pyenv\\lib\\site-packages\\emobpy\\mobility.py:1187: FutureWarning:\n",
      "\n",
      "The frame.append method is deprecated and will be removed from pandas in a future version. Use pandas.concat instead.\n",
      "\n",
      "C:\\Users\\j.muessel\\Miniconda3\\envs\\pyenv\\lib\\site-packages\\emobpy\\mobility.py:1187: FutureWarning:\n",
      "\n",
      "The frame.append method is deprecated and will be removed from pandas in a future version. Use pandas.concat instead.\n",
      "\n",
      "C:\\Users\\j.muessel\\Miniconda3\\envs\\pyenv\\lib\\site-packages\\emobpy\\mobility.py:1187: FutureWarning:\n",
      "\n",
      "The frame.append method is deprecated and will be removed from pandas in a future version. Use pandas.concat instead.\n",
      "\n",
      "C:\\Users\\j.muessel\\Miniconda3\\envs\\pyenv\\lib\\site-packages\\emobpy\\mobility.py:1187: FutureWarning:\n",
      "\n",
      "The frame.append method is deprecated and will be removed from pandas in a future version. Use pandas.concat instead.\n",
      "\n",
      "C:\\Users\\j.muessel\\Miniconda3\\envs\\pyenv\\lib\\site-packages\\emobpy\\mobility.py:1187: FutureWarning:\n",
      "\n",
      "The frame.append method is deprecated and will be removed from pandas in a future version. Use pandas.concat instead.\n",
      "\n"
     ]
    },
    {
     "name": "stdout",
     "output_type": "stream",
     "text": [
      "    Day 88 'select_tour' method in loop Nr. 100. See log file BEV1_W53_d52d5\n",
      "       last_trip_to home                   0.33 uncompliance rate (last 30 iter)\n",
      "       equal_state_and_destination home    0.27 uncompliance rate (last 30 iter)\n"
     ]
    },
    {
     "name": "stderr",
     "output_type": "stream",
     "text": [
      "C:\\Users\\j.muessel\\Miniconda3\\envs\\pyenv\\lib\\site-packages\\emobpy\\mobility.py:1187: FutureWarning:\n",
      "\n",
      "The frame.append method is deprecated and will be removed from pandas in a future version. Use pandas.concat instead.\n",
      "\n",
      "C:\\Users\\j.muessel\\Miniconda3\\envs\\pyenv\\lib\\site-packages\\emobpy\\mobility.py:1187: FutureWarning:\n",
      "\n",
      "The frame.append method is deprecated and will be removed from pandas in a future version. Use pandas.concat instead.\n",
      "\n",
      "C:\\Users\\j.muessel\\Miniconda3\\envs\\pyenv\\lib\\site-packages\\emobpy\\mobility.py:1187: FutureWarning:\n",
      "\n",
      "The frame.append method is deprecated and will be removed from pandas in a future version. Use pandas.concat instead.\n",
      "\n"
     ]
    },
    {
     "name": "stdout",
     "output_type": "stream",
     "text": [
      "  Tour done: Day 88\n",
      "Progress: 24% [89 / 365] days"
     ]
    },
    {
     "name": "stderr",
     "output_type": "stream",
     "text": [
      "C:\\Users\\j.muessel\\Miniconda3\\envs\\pyenv\\lib\\site-packages\\emobpy\\mobility.py:1187: FutureWarning:\n",
      "\n",
      "The frame.append method is deprecated and will be removed from pandas in a future version. Use pandas.concat instead.\n",
      "\n",
      "C:\\Users\\j.muessel\\Miniconda3\\envs\\pyenv\\lib\\site-packages\\emobpy\\mobility.py:1187: FutureWarning:\n",
      "\n",
      "The frame.append method is deprecated and will be removed from pandas in a future version. Use pandas.concat instead.\n",
      "\n"
     ]
    },
    {
     "name": "stdout",
     "output_type": "stream",
     "text": [
      "Progress: 26% [96 / 365] days"
     ]
    },
    {
     "name": "stderr",
     "output_type": "stream",
     "text": [
      "C:\\Users\\j.muessel\\Miniconda3\\envs\\pyenv\\lib\\site-packages\\emobpy\\mobility.py:1187: FutureWarning:\n",
      "\n",
      "The frame.append method is deprecated and will be removed from pandas in a future version. Use pandas.concat instead.\n",
      "\n",
      "C:\\Users\\j.muessel\\Miniconda3\\envs\\pyenv\\lib\\site-packages\\emobpy\\mobility.py:1187: FutureWarning:\n",
      "\n",
      "The frame.append method is deprecated and will be removed from pandas in a future version. Use pandas.concat instead.\n",
      "\n",
      "C:\\Users\\j.muessel\\Miniconda3\\envs\\pyenv\\lib\\site-packages\\emobpy\\mobility.py:1187: FutureWarning:\n",
      "\n",
      "The frame.append method is deprecated and will be removed from pandas in a future version. Use pandas.concat instead.\n",
      "\n"
     ]
    },
    {
     "name": "stdout",
     "output_type": "stream",
     "text": [
      "Progress: 26% [98 / 365] days"
     ]
    },
    {
     "name": "stderr",
     "output_type": "stream",
     "text": [
      "C:\\Users\\j.muessel\\Miniconda3\\envs\\pyenv\\lib\\site-packages\\emobpy\\mobility.py:1187: FutureWarning:\n",
      "\n",
      "The frame.append method is deprecated and will be removed from pandas in a future version. Use pandas.concat instead.\n",
      "\n",
      "C:\\Users\\j.muessel\\Miniconda3\\envs\\pyenv\\lib\\site-packages\\emobpy\\mobility.py:1187: FutureWarning:\n",
      "\n",
      "The frame.append method is deprecated and will be removed from pandas in a future version. Use pandas.concat instead.\n",
      "\n"
     ]
    },
    {
     "name": "stdout",
     "output_type": "stream",
     "text": [
      "Progress: 32% [119 / 365] days"
     ]
    },
    {
     "name": "stderr",
     "output_type": "stream",
     "text": [
      "C:\\Users\\j.muessel\\Miniconda3\\envs\\pyenv\\lib\\site-packages\\emobpy\\mobility.py:1187: FutureWarning:\n",
      "\n",
      "The frame.append method is deprecated and will be removed from pandas in a future version. Use pandas.concat instead.\n",
      "\n",
      "C:\\Users\\j.muessel\\Miniconda3\\envs\\pyenv\\lib\\site-packages\\emobpy\\mobility.py:1187: FutureWarning:\n",
      "\n",
      "The frame.append method is deprecated and will be removed from pandas in a future version. Use pandas.concat instead.\n",
      "\n"
     ]
    },
    {
     "name": "stdout",
     "output_type": "stream",
     "text": [
      "Progress: 34% [126 / 365] days"
     ]
    },
    {
     "name": "stderr",
     "output_type": "stream",
     "text": [
      "C:\\Users\\j.muessel\\Miniconda3\\envs\\pyenv\\lib\\site-packages\\emobpy\\mobility.py:1187: FutureWarning:\n",
      "\n",
      "The frame.append method is deprecated and will be removed from pandas in a future version. Use pandas.concat instead.\n",
      "\n"
     ]
    },
    {
     "name": "stdout",
     "output_type": "stream",
     "text": [
      "Progress: 38% [141 / 365] days"
     ]
    },
    {
     "name": "stderr",
     "output_type": "stream",
     "text": [
      "C:\\Users\\j.muessel\\Miniconda3\\envs\\pyenv\\lib\\site-packages\\emobpy\\mobility.py:1187: FutureWarning:\n",
      "\n",
      "The frame.append method is deprecated and will be removed from pandas in a future version. Use pandas.concat instead.\n",
      "\n"
     ]
    },
    {
     "name": "stdout",
     "output_type": "stream",
     "text": [
      "Progress: 49% [181 / 365] days"
     ]
    },
    {
     "name": "stderr",
     "output_type": "stream",
     "text": [
      "C:\\Users\\j.muessel\\Miniconda3\\envs\\pyenv\\lib\\site-packages\\emobpy\\mobility.py:1187: FutureWarning:\n",
      "\n",
      "The frame.append method is deprecated and will be removed from pandas in a future version. Use pandas.concat instead.\n",
      "\n",
      "C:\\Users\\j.muessel\\Miniconda3\\envs\\pyenv\\lib\\site-packages\\emobpy\\mobility.py:1187: FutureWarning:\n",
      "\n",
      "The frame.append method is deprecated and will be removed from pandas in a future version. Use pandas.concat instead.\n",
      "\n"
     ]
    },
    {
     "name": "stdout",
     "output_type": "stream",
     "text": [
      "Progress: 61% [223 / 365] days"
     ]
    },
    {
     "name": "stderr",
     "output_type": "stream",
     "text": [
      "C:\\Users\\j.muessel\\Miniconda3\\envs\\pyenv\\lib\\site-packages\\emobpy\\mobility.py:1187: FutureWarning:\n",
      "\n",
      "The frame.append method is deprecated and will be removed from pandas in a future version. Use pandas.concat instead.\n",
      "\n",
      "C:\\Users\\j.muessel\\Miniconda3\\envs\\pyenv\\lib\\site-packages\\emobpy\\mobility.py:1187: FutureWarning:\n",
      "\n",
      "The frame.append method is deprecated and will be removed from pandas in a future version. Use pandas.concat instead.\n",
      "\n"
     ]
    },
    {
     "name": "stdout",
     "output_type": "stream",
     "text": [
      "Progress: 77% [283 / 365] days"
     ]
    },
    {
     "name": "stderr",
     "output_type": "stream",
     "text": [
      "C:\\Users\\j.muessel\\Miniconda3\\envs\\pyenv\\lib\\site-packages\\emobpy\\mobility.py:1187: FutureWarning:\n",
      "\n",
      "The frame.append method is deprecated and will be removed from pandas in a future version. Use pandas.concat instead.\n",
      "\n"
     ]
    },
    {
     "name": "stdout",
     "output_type": "stream",
     "text": [
      "Progress: 80% [295 / 365] days"
     ]
    },
    {
     "name": "stderr",
     "output_type": "stream",
     "text": [
      "C:\\Users\\j.muessel\\Miniconda3\\envs\\pyenv\\lib\\site-packages\\emobpy\\mobility.py:1187: FutureWarning:\n",
      "\n",
      "The frame.append method is deprecated and will be removed from pandas in a future version. Use pandas.concat instead.\n",
      "\n",
      "C:\\Users\\j.muessel\\Miniconda3\\envs\\pyenv\\lib\\site-packages\\emobpy\\mobility.py:1187: FutureWarning:\n",
      "\n",
      "The frame.append method is deprecated and will be removed from pandas in a future version. Use pandas.concat instead.\n",
      "\n"
     ]
    },
    {
     "name": "stdout",
     "output_type": "stream",
     "text": [
      "Progress: 92% [336 / 365] days"
     ]
    },
    {
     "name": "stderr",
     "output_type": "stream",
     "text": [
      "C:\\Users\\j.muessel\\Miniconda3\\envs\\pyenv\\lib\\site-packages\\emobpy\\mobility.py:1187: FutureWarning:\n",
      "\n",
      "The frame.append method is deprecated and will be removed from pandas in a future version. Use pandas.concat instead.\n",
      "\n",
      "C:\\Users\\j.muessel\\Miniconda3\\envs\\pyenv\\lib\\site-packages\\emobpy\\mobility.py:1187: FutureWarning:\n",
      "\n",
      "The frame.append method is deprecated and will be removed from pandas in a future version. Use pandas.concat instead.\n",
      "\n",
      "C:\\Users\\j.muessel\\Miniconda3\\envs\\pyenv\\lib\\site-packages\\emobpy\\mobility.py:1187: FutureWarning:\n",
      "\n",
      "The frame.append method is deprecated and will be removed from pandas in a future version. Use pandas.concat instead.\n",
      "\n"
     ]
    },
    {
     "name": "stdout",
     "output_type": "stream",
     "text": [
      "Progress: 95% [347 / 365] days"
     ]
    },
    {
     "name": "stderr",
     "output_type": "stream",
     "text": [
      "C:\\Users\\j.muessel\\Miniconda3\\envs\\pyenv\\lib\\site-packages\\emobpy\\mobility.py:1187: FutureWarning:\n",
      "\n",
      "The frame.append method is deprecated and will be removed from pandas in a future version. Use pandas.concat instead.\n",
      "\n",
      "C:\\Users\\j.muessel\\Miniconda3\\envs\\pyenv\\lib\\site-packages\\emobpy\\mobility.py:1187: FutureWarning:\n",
      "\n",
      "The frame.append method is deprecated and will be removed from pandas in a future version. Use pandas.concat instead.\n",
      "\n"
     ]
    },
    {
     "name": "stdout",
     "output_type": "stream",
     "text": [
      "Progress: 95% [349 / 365] days"
     ]
    },
    {
     "name": "stderr",
     "output_type": "stream",
     "text": [
      "C:\\Users\\j.muessel\\Miniconda3\\envs\\pyenv\\lib\\site-packages\\emobpy\\mobility.py:1187: FutureWarning:\n",
      "\n",
      "The frame.append method is deprecated and will be removed from pandas in a future version. Use pandas.concat instead.\n",
      "\n",
      "C:\\Users\\j.muessel\\Miniconda3\\envs\\pyenv\\lib\\site-packages\\emobpy\\mobility.py:1187: FutureWarning:\n",
      "\n",
      "The frame.append method is deprecated and will be removed from pandas in a future version. Use pandas.concat instead.\n",
      "\n"
     ]
    },
    {
     "name": "stdout",
     "output_type": "stream",
     "text": [
      "Progress: 99% [364 / 365] days\n",
      "Profile done: BEV1_W53_d52d5\n",
      "Elapsed time (min): 0.31\n",
      " \n",
      "See Log files\n",
      "C:\\Users\\j.muessel\\Documents\\GitHub\\EES\\Emobpy\\my_emobpy\\log\\emobpy.log\n"
     ]
    },
    {
     "name": "stderr",
     "output_type": "stream",
     "text": [
      "C:\\Users\\j.muessel\\Miniconda3\\envs\\pyenv\\lib\\site-packages\\emobpy\\consumption.py:413: FutureWarning:\n",
      "\n",
      "The frame.append method is deprecated and will be removed from pandas in a future version. Use pandas.concat instead.\n",
      "\n",
      "C:\\Users\\j.muessel\\Miniconda3\\envs\\pyenv\\lib\\site-packages\\emobpy\\consumption.py:413: FutureWarning:\n",
      "\n",
      "The frame.append method is deprecated and will be removed from pandas in a future version. Use pandas.concat instead.\n",
      "\n",
      "C:\\Users\\j.muessel\\Miniconda3\\envs\\pyenv\\lib\\site-packages\\emobpy\\consumption.py:413: FutureWarning:\n",
      "\n",
      "The frame.append method is deprecated and will be removed from pandas in a future version. Use pandas.concat instead.\n",
      "\n",
      "C:\\Users\\j.muessel\\Miniconda3\\envs\\pyenv\\lib\\site-packages\\emobpy\\consumption.py:413: FutureWarning:\n",
      "\n",
      "The frame.append method is deprecated and will be removed from pandas in a future version. Use pandas.concat instead.\n",
      "\n",
      "C:\\Users\\j.muessel\\Miniconda3\\envs\\pyenv\\lib\\site-packages\\emobpy\\consumption.py:413: FutureWarning:\n",
      "\n",
      "The frame.append method is deprecated and will be removed from pandas in a future version. Use pandas.concat instead.\n",
      "\n",
      "C:\\Users\\j.muessel\\Miniconda3\\envs\\pyenv\\lib\\site-packages\\emobpy\\consumption.py:413: FutureWarning:\n",
      "\n",
      "The frame.append method is deprecated and will be removed from pandas in a future version. Use pandas.concat instead.\n",
      "\n",
      "C:\\Users\\j.muessel\\Miniconda3\\envs\\pyenv\\lib\\site-packages\\emobpy\\consumption.py:413: FutureWarning:\n",
      "\n",
      "The frame.append method is deprecated and will be removed from pandas in a future version. Use pandas.concat instead.\n",
      "\n",
      "C:\\Users\\j.muessel\\Miniconda3\\envs\\pyenv\\lib\\site-packages\\emobpy\\consumption.py:413: FutureWarning:\n",
      "\n",
      "The frame.append method is deprecated and will be removed from pandas in a future version. Use pandas.concat instead.\n",
      "\n",
      "C:\\Users\\j.muessel\\Miniconda3\\envs\\pyenv\\lib\\site-packages\\emobpy\\consumption.py:413: FutureWarning:\n",
      "\n",
      "The frame.append method is deprecated and will be removed from pandas in a future version. Use pandas.concat instead.\n",
      "\n",
      "C:\\Users\\j.muessel\\Miniconda3\\envs\\pyenv\\lib\\site-packages\\emobpy\\consumption.py:413: FutureWarning:\n",
      "\n",
      "The frame.append method is deprecated and will be removed from pandas in a future version. Use pandas.concat instead.\n",
      "\n",
      "C:\\Users\\j.muessel\\Miniconda3\\envs\\pyenv\\lib\\site-packages\\emobpy\\consumption.py:413: FutureWarning:\n",
      "\n",
      "The frame.append method is deprecated and will be removed from pandas in a future version. Use pandas.concat instead.\n",
      "\n",
      "C:\\Users\\j.muessel\\Miniconda3\\envs\\pyenv\\lib\\site-packages\\emobpy\\consumption.py:413: FutureWarning:\n",
      "\n",
      "The frame.append method is deprecated and will be removed from pandas in a future version. Use pandas.concat instead.\n",
      "\n",
      "C:\\Users\\j.muessel\\Miniconda3\\envs\\pyenv\\lib\\site-packages\\emobpy\\consumption.py:413: FutureWarning:\n",
      "\n",
      "The frame.append method is deprecated and will be removed from pandas in a future version. Use pandas.concat instead.\n",
      "\n",
      "C:\\Users\\j.muessel\\Miniconda3\\envs\\pyenv\\lib\\site-packages\\emobpy\\consumption.py:413: FutureWarning:\n",
      "\n",
      "The frame.append method is deprecated and will be removed from pandas in a future version. Use pandas.concat instead.\n",
      "\n",
      "C:\\Users\\j.muessel\\Miniconda3\\envs\\pyenv\\lib\\site-packages\\emobpy\\consumption.py:413: FutureWarning:\n",
      "\n",
      "The frame.append method is deprecated and will be removed from pandas in a future version. Use pandas.concat instead.\n",
      "\n",
      "C:\\Users\\j.muessel\\Miniconda3\\envs\\pyenv\\lib\\site-packages\\emobpy\\consumption.py:413: FutureWarning:\n",
      "\n",
      "The frame.append method is deprecated and will be removed from pandas in a future version. Use pandas.concat instead.\n",
      "\n",
      "C:\\Users\\j.muessel\\Miniconda3\\envs\\pyenv\\lib\\site-packages\\emobpy\\consumption.py:413: FutureWarning:\n",
      "\n",
      "The frame.append method is deprecated and will be removed from pandas in a future version. Use pandas.concat instead.\n",
      "\n",
      "C:\\Users\\j.muessel\\Miniconda3\\envs\\pyenv\\lib\\site-packages\\emobpy\\consumption.py:413: FutureWarning:\n",
      "\n",
      "The frame.append method is deprecated and will be removed from pandas in a future version. Use pandas.concat instead.\n",
      "\n",
      "C:\\Users\\j.muessel\\Miniconda3\\envs\\pyenv\\lib\\site-packages\\emobpy\\consumption.py:413: FutureWarning:\n",
      "\n",
      "The frame.append method is deprecated and will be removed from pandas in a future version. Use pandas.concat instead.\n",
      "\n",
      "C:\\Users\\j.muessel\\Miniconda3\\envs\\pyenv\\lib\\site-packages\\emobpy\\consumption.py:413: FutureWarning:\n",
      "\n",
      "The frame.append method is deprecated and will be removed from pandas in a future version. Use pandas.concat instead.\n",
      "\n",
      "C:\\Users\\j.muessel\\Miniconda3\\envs\\pyenv\\lib\\site-packages\\emobpy\\consumption.py:413: FutureWarning:\n",
      "\n",
      "The frame.append method is deprecated and will be removed from pandas in a future version. Use pandas.concat instead.\n",
      "\n",
      "C:\\Users\\j.muessel\\Miniconda3\\envs\\pyenv\\lib\\site-packages\\emobpy\\consumption.py:413: FutureWarning:\n",
      "\n",
      "The frame.append method is deprecated and will be removed from pandas in a future version. Use pandas.concat instead.\n",
      "\n",
      "C:\\Users\\j.muessel\\Miniconda3\\envs\\pyenv\\lib\\site-packages\\emobpy\\consumption.py:413: FutureWarning:\n",
      "\n",
      "The frame.append method is deprecated and will be removed from pandas in a future version. Use pandas.concat instead.\n",
      "\n",
      "C:\\Users\\j.muessel\\Miniconda3\\envs\\pyenv\\lib\\site-packages\\emobpy\\consumption.py:413: FutureWarning:\n",
      "\n",
      "The frame.append method is deprecated and will be removed from pandas in a future version. Use pandas.concat instead.\n",
      "\n",
      "C:\\Users\\j.muessel\\Miniconda3\\envs\\pyenv\\lib\\site-packages\\emobpy\\consumption.py:413: FutureWarning:\n",
      "\n",
      "The frame.append method is deprecated and will be removed from pandas in a future version. Use pandas.concat instead.\n",
      "\n",
      "C:\\Users\\j.muessel\\Miniconda3\\envs\\pyenv\\lib\\site-packages\\emobpy\\consumption.py:413: FutureWarning:\n",
      "\n",
      "The frame.append method is deprecated and will be removed from pandas in a future version. Use pandas.concat instead.\n",
      "\n",
      "C:\\Users\\j.muessel\\Miniconda3\\envs\\pyenv\\lib\\site-packages\\emobpy\\consumption.py:413: FutureWarning:\n",
      "\n",
      "The frame.append method is deprecated and will be removed from pandas in a future version. Use pandas.concat instead.\n",
      "\n",
      "C:\\Users\\j.muessel\\Miniconda3\\envs\\pyenv\\lib\\site-packages\\emobpy\\consumption.py:413: FutureWarning:\n",
      "\n",
      "The frame.append method is deprecated and will be removed from pandas in a future version. Use pandas.concat instead.\n",
      "\n",
      "C:\\Users\\j.muessel\\Miniconda3\\envs\\pyenv\\lib\\site-packages\\emobpy\\consumption.py:413: FutureWarning:\n",
      "\n",
      "The frame.append method is deprecated and will be removed from pandas in a future version. Use pandas.concat instead.\n",
      "\n",
      "C:\\Users\\j.muessel\\Miniconda3\\envs\\pyenv\\lib\\site-packages\\emobpy\\consumption.py:413: FutureWarning:\n",
      "\n",
      "The frame.append method is deprecated and will be removed from pandas in a future version. Use pandas.concat instead.\n",
      "\n",
      "C:\\Users\\j.muessel\\Miniconda3\\envs\\pyenv\\lib\\site-packages\\emobpy\\consumption.py:413: FutureWarning:\n",
      "\n",
      "The frame.append method is deprecated and will be removed from pandas in a future version. Use pandas.concat instead.\n",
      "\n",
      "C:\\Users\\j.muessel\\Miniconda3\\envs\\pyenv\\lib\\site-packages\\emobpy\\consumption.py:413: FutureWarning:\n",
      "\n",
      "The frame.append method is deprecated and will be removed from pandas in a future version. Use pandas.concat instead.\n",
      "\n",
      "C:\\Users\\j.muessel\\Miniconda3\\envs\\pyenv\\lib\\site-packages\\emobpy\\consumption.py:413: FutureWarning:\n",
      "\n",
      "The frame.append method is deprecated and will be removed from pandas in a future version. Use pandas.concat instead.\n",
      "\n",
      "C:\\Users\\j.muessel\\Miniconda3\\envs\\pyenv\\lib\\site-packages\\emobpy\\consumption.py:413: FutureWarning:\n",
      "\n",
      "The frame.append method is deprecated and will be removed from pandas in a future version. Use pandas.concat instead.\n",
      "\n",
      "C:\\Users\\j.muessel\\Miniconda3\\envs\\pyenv\\lib\\site-packages\\emobpy\\consumption.py:413: FutureWarning:\n",
      "\n",
      "The frame.append method is deprecated and will be removed from pandas in a future version. Use pandas.concat instead.\n",
      "\n",
      "C:\\Users\\j.muessel\\Miniconda3\\envs\\pyenv\\lib\\site-packages\\emobpy\\consumption.py:413: FutureWarning:\n",
      "\n",
      "The frame.append method is deprecated and will be removed from pandas in a future version. Use pandas.concat instead.\n",
      "\n",
      "C:\\Users\\j.muessel\\Miniconda3\\envs\\pyenv\\lib\\site-packages\\emobpy\\consumption.py:413: FutureWarning:\n",
      "\n",
      "The frame.append method is deprecated and will be removed from pandas in a future version. Use pandas.concat instead.\n",
      "\n",
      "C:\\Users\\j.muessel\\Miniconda3\\envs\\pyenv\\lib\\site-packages\\emobpy\\consumption.py:413: FutureWarning:\n",
      "\n",
      "The frame.append method is deprecated and will be removed from pandas in a future version. Use pandas.concat instead.\n",
      "\n",
      "C:\\Users\\j.muessel\\Miniconda3\\envs\\pyenv\\lib\\site-packages\\emobpy\\consumption.py:413: FutureWarning:\n",
      "\n",
      "The frame.append method is deprecated and will be removed from pandas in a future version. Use pandas.concat instead.\n",
      "\n",
      "C:\\Users\\j.muessel\\Miniconda3\\envs\\pyenv\\lib\\site-packages\\emobpy\\consumption.py:413: FutureWarning:\n",
      "\n",
      "The frame.append method is deprecated and will be removed from pandas in a future version. Use pandas.concat instead.\n",
      "\n",
      "C:\\Users\\j.muessel\\Miniconda3\\envs\\pyenv\\lib\\site-packages\\emobpy\\consumption.py:413: FutureWarning:\n",
      "\n",
      "The frame.append method is deprecated and will be removed from pandas in a future version. Use pandas.concat instead.\n",
      "\n",
      "C:\\Users\\j.muessel\\Miniconda3\\envs\\pyenv\\lib\\site-packages\\emobpy\\consumption.py:413: FutureWarning:\n",
      "\n",
      "The frame.append method is deprecated and will be removed from pandas in a future version. Use pandas.concat instead.\n",
      "\n",
      "C:\\Users\\j.muessel\\Miniconda3\\envs\\pyenv\\lib\\site-packages\\emobpy\\consumption.py:413: FutureWarning:\n",
      "\n",
      "The frame.append method is deprecated and will be removed from pandas in a future version. Use pandas.concat instead.\n",
      "\n",
      "C:\\Users\\j.muessel\\Miniconda3\\envs\\pyenv\\lib\\site-packages\\emobpy\\consumption.py:413: FutureWarning:\n",
      "\n",
      "The frame.append method is deprecated and will be removed from pandas in a future version. Use pandas.concat instead.\n",
      "\n",
      "C:\\Users\\j.muessel\\Miniconda3\\envs\\pyenv\\lib\\site-packages\\emobpy\\consumption.py:413: FutureWarning:\n",
      "\n",
      "The frame.append method is deprecated and will be removed from pandas in a future version. Use pandas.concat instead.\n",
      "\n",
      "C:\\Users\\j.muessel\\Miniconda3\\envs\\pyenv\\lib\\site-packages\\emobpy\\consumption.py:413: FutureWarning:\n",
      "\n",
      "The frame.append method is deprecated and will be removed from pandas in a future version. Use pandas.concat instead.\n",
      "\n",
      "C:\\Users\\j.muessel\\Miniconda3\\envs\\pyenv\\lib\\site-packages\\emobpy\\consumption.py:413: FutureWarning:\n",
      "\n",
      "The frame.append method is deprecated and will be removed from pandas in a future version. Use pandas.concat instead.\n",
      "\n",
      "C:\\Users\\j.muessel\\Miniconda3\\envs\\pyenv\\lib\\site-packages\\emobpy\\consumption.py:413: FutureWarning:\n",
      "\n",
      "The frame.append method is deprecated and will be removed from pandas in a future version. Use pandas.concat instead.\n",
      "\n",
      "C:\\Users\\j.muessel\\Miniconda3\\envs\\pyenv\\lib\\site-packages\\emobpy\\consumption.py:413: FutureWarning:\n",
      "\n",
      "The frame.append method is deprecated and will be removed from pandas in a future version. Use pandas.concat instead.\n",
      "\n",
      "C:\\Users\\j.muessel\\Miniconda3\\envs\\pyenv\\lib\\site-packages\\emobpy\\consumption.py:413: FutureWarning:\n",
      "\n",
      "The frame.append method is deprecated and will be removed from pandas in a future version. Use pandas.concat instead.\n",
      "\n",
      "C:\\Users\\j.muessel\\Miniconda3\\envs\\pyenv\\lib\\site-packages\\emobpy\\consumption.py:413: FutureWarning:\n",
      "\n",
      "The frame.append method is deprecated and will be removed from pandas in a future version. Use pandas.concat instead.\n",
      "\n",
      "C:\\Users\\j.muessel\\Miniconda3\\envs\\pyenv\\lib\\site-packages\\emobpy\\consumption.py:413: FutureWarning:\n",
      "\n",
      "The frame.append method is deprecated and will be removed from pandas in a future version. Use pandas.concat instead.\n",
      "\n",
      "C:\\Users\\j.muessel\\Miniconda3\\envs\\pyenv\\lib\\site-packages\\emobpy\\consumption.py:413: FutureWarning:\n",
      "\n",
      "The frame.append method is deprecated and will be removed from pandas in a future version. Use pandas.concat instead.\n",
      "\n",
      "C:\\Users\\j.muessel\\Miniconda3\\envs\\pyenv\\lib\\site-packages\\emobpy\\consumption.py:413: FutureWarning:\n",
      "\n",
      "The frame.append method is deprecated and will be removed from pandas in a future version. Use pandas.concat instead.\n",
      "\n",
      "C:\\Users\\j.muessel\\Miniconda3\\envs\\pyenv\\lib\\site-packages\\emobpy\\consumption.py:413: FutureWarning:\n",
      "\n",
      "The frame.append method is deprecated and will be removed from pandas in a future version. Use pandas.concat instead.\n",
      "\n",
      "C:\\Users\\j.muessel\\Miniconda3\\envs\\pyenv\\lib\\site-packages\\emobpy\\consumption.py:413: FutureWarning:\n",
      "\n",
      "The frame.append method is deprecated and will be removed from pandas in a future version. Use pandas.concat instead.\n",
      "\n",
      "C:\\Users\\j.muessel\\Miniconda3\\envs\\pyenv\\lib\\site-packages\\emobpy\\consumption.py:413: FutureWarning:\n",
      "\n",
      "The frame.append method is deprecated and will be removed from pandas in a future version. Use pandas.concat instead.\n",
      "\n",
      "C:\\Users\\j.muessel\\Miniconda3\\envs\\pyenv\\lib\\site-packages\\emobpy\\consumption.py:413: FutureWarning:\n",
      "\n",
      "The frame.append method is deprecated and will be removed from pandas in a future version. Use pandas.concat instead.\n",
      "\n",
      "C:\\Users\\j.muessel\\Miniconda3\\envs\\pyenv\\lib\\site-packages\\emobpy\\consumption.py:413: FutureWarning:\n",
      "\n",
      "The frame.append method is deprecated and will be removed from pandas in a future version. Use pandas.concat instead.\n",
      "\n",
      "C:\\Users\\j.muessel\\Miniconda3\\envs\\pyenv\\lib\\site-packages\\emobpy\\consumption.py:413: FutureWarning:\n",
      "\n",
      "The frame.append method is deprecated and will be removed from pandas in a future version. Use pandas.concat instead.\n",
      "\n",
      "C:\\Users\\j.muessel\\Miniconda3\\envs\\pyenv\\lib\\site-packages\\emobpy\\consumption.py:413: FutureWarning:\n",
      "\n",
      "The frame.append method is deprecated and will be removed from pandas in a future version. Use pandas.concat instead.\n",
      "\n",
      "C:\\Users\\j.muessel\\Miniconda3\\envs\\pyenv\\lib\\site-packages\\emobpy\\consumption.py:413: FutureWarning:\n",
      "\n",
      "The frame.append method is deprecated and will be removed from pandas in a future version. Use pandas.concat instead.\n",
      "\n",
      "C:\\Users\\j.muessel\\Miniconda3\\envs\\pyenv\\lib\\site-packages\\emobpy\\consumption.py:413: FutureWarning:\n",
      "\n",
      "The frame.append method is deprecated and will be removed from pandas in a future version. Use pandas.concat instead.\n",
      "\n",
      "C:\\Users\\j.muessel\\Miniconda3\\envs\\pyenv\\lib\\site-packages\\emobpy\\consumption.py:413: FutureWarning:\n",
      "\n",
      "The frame.append method is deprecated and will be removed from pandas in a future version. Use pandas.concat instead.\n",
      "\n",
      "C:\\Users\\j.muessel\\Miniconda3\\envs\\pyenv\\lib\\site-packages\\emobpy\\consumption.py:413: FutureWarning:\n",
      "\n",
      "The frame.append method is deprecated and will be removed from pandas in a future version. Use pandas.concat instead.\n",
      "\n",
      "C:\\Users\\j.muessel\\Miniconda3\\envs\\pyenv\\lib\\site-packages\\emobpy\\consumption.py:413: FutureWarning:\n",
      "\n",
      "The frame.append method is deprecated and will be removed from pandas in a future version. Use pandas.concat instead.\n",
      "\n",
      "C:\\Users\\j.muessel\\Miniconda3\\envs\\pyenv\\lib\\site-packages\\emobpy\\consumption.py:413: FutureWarning:\n",
      "\n",
      "The frame.append method is deprecated and will be removed from pandas in a future version. Use pandas.concat instead.\n",
      "\n",
      "C:\\Users\\j.muessel\\Miniconda3\\envs\\pyenv\\lib\\site-packages\\emobpy\\consumption.py:413: FutureWarning:\n",
      "\n",
      "The frame.append method is deprecated and will be removed from pandas in a future version. Use pandas.concat instead.\n",
      "\n",
      "C:\\Users\\j.muessel\\Miniconda3\\envs\\pyenv\\lib\\site-packages\\emobpy\\consumption.py:413: FutureWarning:\n",
      "\n",
      "The frame.append method is deprecated and will be removed from pandas in a future version. Use pandas.concat instead.\n",
      "\n",
      "C:\\Users\\j.muessel\\Miniconda3\\envs\\pyenv\\lib\\site-packages\\emobpy\\consumption.py:413: FutureWarning:\n",
      "\n",
      "The frame.append method is deprecated and will be removed from pandas in a future version. Use pandas.concat instead.\n",
      "\n",
      "C:\\Users\\j.muessel\\Miniconda3\\envs\\pyenv\\lib\\site-packages\\emobpy\\consumption.py:413: FutureWarning:\n",
      "\n",
      "The frame.append method is deprecated and will be removed from pandas in a future version. Use pandas.concat instead.\n",
      "\n",
      "C:\\Users\\j.muessel\\Miniconda3\\envs\\pyenv\\lib\\site-packages\\emobpy\\consumption.py:413: FutureWarning:\n",
      "\n",
      "The frame.append method is deprecated and will be removed from pandas in a future version. Use pandas.concat instead.\n",
      "\n",
      "C:\\Users\\j.muessel\\Miniconda3\\envs\\pyenv\\lib\\site-packages\\emobpy\\consumption.py:413: FutureWarning:\n",
      "\n",
      "The frame.append method is deprecated and will be removed from pandas in a future version. Use pandas.concat instead.\n",
      "\n",
      "C:\\Users\\j.muessel\\Miniconda3\\envs\\pyenv\\lib\\site-packages\\emobpy\\consumption.py:413: FutureWarning:\n",
      "\n",
      "The frame.append method is deprecated and will be removed from pandas in a future version. Use pandas.concat instead.\n",
      "\n",
      "C:\\Users\\j.muessel\\Miniconda3\\envs\\pyenv\\lib\\site-packages\\emobpy\\consumption.py:413: FutureWarning:\n",
      "\n",
      "The frame.append method is deprecated and will be removed from pandas in a future version. Use pandas.concat instead.\n",
      "\n",
      "C:\\Users\\j.muessel\\Miniconda3\\envs\\pyenv\\lib\\site-packages\\emobpy\\consumption.py:413: FutureWarning:\n",
      "\n",
      "The frame.append method is deprecated and will be removed from pandas in a future version. Use pandas.concat instead.\n",
      "\n",
      "C:\\Users\\j.muessel\\Miniconda3\\envs\\pyenv\\lib\\site-packages\\emobpy\\consumption.py:413: FutureWarning:\n",
      "\n",
      "The frame.append method is deprecated and will be removed from pandas in a future version. Use pandas.concat instead.\n",
      "\n",
      "C:\\Users\\j.muessel\\Miniconda3\\envs\\pyenv\\lib\\site-packages\\emobpy\\consumption.py:413: FutureWarning:\n",
      "\n",
      "The frame.append method is deprecated and will be removed from pandas in a future version. Use pandas.concat instead.\n",
      "\n",
      "C:\\Users\\j.muessel\\Miniconda3\\envs\\pyenv\\lib\\site-packages\\emobpy\\consumption.py:413: FutureWarning:\n",
      "\n",
      "The frame.append method is deprecated and will be removed from pandas in a future version. Use pandas.concat instead.\n",
      "\n",
      "C:\\Users\\j.muessel\\Miniconda3\\envs\\pyenv\\lib\\site-packages\\emobpy\\consumption.py:413: FutureWarning:\n",
      "\n",
      "The frame.append method is deprecated and will be removed from pandas in a future version. Use pandas.concat instead.\n",
      "\n",
      "C:\\Users\\j.muessel\\Miniconda3\\envs\\pyenv\\lib\\site-packages\\emobpy\\consumption.py:413: FutureWarning:\n",
      "\n",
      "The frame.append method is deprecated and will be removed from pandas in a future version. Use pandas.concat instead.\n",
      "\n",
      "C:\\Users\\j.muessel\\Miniconda3\\envs\\pyenv\\lib\\site-packages\\emobpy\\consumption.py:413: FutureWarning:\n",
      "\n",
      "The frame.append method is deprecated and will be removed from pandas in a future version. Use pandas.concat instead.\n",
      "\n",
      "C:\\Users\\j.muessel\\Miniconda3\\envs\\pyenv\\lib\\site-packages\\emobpy\\consumption.py:413: FutureWarning:\n",
      "\n",
      "The frame.append method is deprecated and will be removed from pandas in a future version. Use pandas.concat instead.\n",
      "\n",
      "C:\\Users\\j.muessel\\Miniconda3\\envs\\pyenv\\lib\\site-packages\\emobpy\\consumption.py:413: FutureWarning:\n",
      "\n",
      "The frame.append method is deprecated and will be removed from pandas in a future version. Use pandas.concat instead.\n",
      "\n",
      "C:\\Users\\j.muessel\\Miniconda3\\envs\\pyenv\\lib\\site-packages\\emobpy\\consumption.py:413: FutureWarning:\n",
      "\n",
      "The frame.append method is deprecated and will be removed from pandas in a future version. Use pandas.concat instead.\n",
      "\n",
      "C:\\Users\\j.muessel\\Miniconda3\\envs\\pyenv\\lib\\site-packages\\emobpy\\consumption.py:413: FutureWarning:\n",
      "\n",
      "The frame.append method is deprecated and will be removed from pandas in a future version. Use pandas.concat instead.\n",
      "\n",
      "C:\\Users\\j.muessel\\Miniconda3\\envs\\pyenv\\lib\\site-packages\\emobpy\\consumption.py:413: FutureWarning:\n",
      "\n",
      "The frame.append method is deprecated and will be removed from pandas in a future version. Use pandas.concat instead.\n",
      "\n",
      "C:\\Users\\j.muessel\\Miniconda3\\envs\\pyenv\\lib\\site-packages\\emobpy\\consumption.py:413: FutureWarning:\n",
      "\n",
      "The frame.append method is deprecated and will be removed from pandas in a future version. Use pandas.concat instead.\n",
      "\n",
      "C:\\Users\\j.muessel\\Miniconda3\\envs\\pyenv\\lib\\site-packages\\emobpy\\consumption.py:413: FutureWarning:\n",
      "\n",
      "The frame.append method is deprecated and will be removed from pandas in a future version. Use pandas.concat instead.\n",
      "\n",
      "C:\\Users\\j.muessel\\Miniconda3\\envs\\pyenv\\lib\\site-packages\\emobpy\\consumption.py:413: FutureWarning:\n",
      "\n",
      "The frame.append method is deprecated and will be removed from pandas in a future version. Use pandas.concat instead.\n",
      "\n",
      "C:\\Users\\j.muessel\\Miniconda3\\envs\\pyenv\\lib\\site-packages\\emobpy\\consumption.py:413: FutureWarning:\n",
      "\n",
      "The frame.append method is deprecated and will be removed from pandas in a future version. Use pandas.concat instead.\n",
      "\n",
      "C:\\Users\\j.muessel\\Miniconda3\\envs\\pyenv\\lib\\site-packages\\emobpy\\consumption.py:413: FutureWarning:\n",
      "\n",
      "The frame.append method is deprecated and will be removed from pandas in a future version. Use pandas.concat instead.\n",
      "\n",
      "C:\\Users\\j.muessel\\Miniconda3\\envs\\pyenv\\lib\\site-packages\\emobpy\\consumption.py:413: FutureWarning:\n",
      "\n",
      "The frame.append method is deprecated and will be removed from pandas in a future version. Use pandas.concat instead.\n",
      "\n"
     ]
    },
    {
     "name": "stderr",
     "output_type": "stream",
     "text": [
      "C:\\Users\\j.muessel\\Miniconda3\\envs\\pyenv\\lib\\site-packages\\emobpy\\consumption.py:413: FutureWarning:\n",
      "\n",
      "The frame.append method is deprecated and will be removed from pandas in a future version. Use pandas.concat instead.\n",
      "\n",
      "C:\\Users\\j.muessel\\Miniconda3\\envs\\pyenv\\lib\\site-packages\\emobpy\\consumption.py:413: FutureWarning:\n",
      "\n",
      "The frame.append method is deprecated and will be removed from pandas in a future version. Use pandas.concat instead.\n",
      "\n",
      "C:\\Users\\j.muessel\\Miniconda3\\envs\\pyenv\\lib\\site-packages\\emobpy\\consumption.py:413: FutureWarning:\n",
      "\n",
      "The frame.append method is deprecated and will be removed from pandas in a future version. Use pandas.concat instead.\n",
      "\n",
      "C:\\Users\\j.muessel\\Miniconda3\\envs\\pyenv\\lib\\site-packages\\emobpy\\consumption.py:413: FutureWarning:\n",
      "\n",
      "The frame.append method is deprecated and will be removed from pandas in a future version. Use pandas.concat instead.\n",
      "\n",
      "C:\\Users\\j.muessel\\Miniconda3\\envs\\pyenv\\lib\\site-packages\\emobpy\\consumption.py:413: FutureWarning:\n",
      "\n",
      "The frame.append method is deprecated and will be removed from pandas in a future version. Use pandas.concat instead.\n",
      "\n",
      "C:\\Users\\j.muessel\\Miniconda3\\envs\\pyenv\\lib\\site-packages\\emobpy\\consumption.py:413: FutureWarning:\n",
      "\n",
      "The frame.append method is deprecated and will be removed from pandas in a future version. Use pandas.concat instead.\n",
      "\n",
      "C:\\Users\\j.muessel\\Miniconda3\\envs\\pyenv\\lib\\site-packages\\emobpy\\consumption.py:413: FutureWarning:\n",
      "\n",
      "The frame.append method is deprecated and will be removed from pandas in a future version. Use pandas.concat instead.\n",
      "\n",
      "C:\\Users\\j.muessel\\Miniconda3\\envs\\pyenv\\lib\\site-packages\\emobpy\\consumption.py:413: FutureWarning:\n",
      "\n",
      "The frame.append method is deprecated and will be removed from pandas in a future version. Use pandas.concat instead.\n",
      "\n",
      "C:\\Users\\j.muessel\\Miniconda3\\envs\\pyenv\\lib\\site-packages\\emobpy\\consumption.py:413: FutureWarning:\n",
      "\n",
      "The frame.append method is deprecated and will be removed from pandas in a future version. Use pandas.concat instead.\n",
      "\n",
      "C:\\Users\\j.muessel\\Miniconda3\\envs\\pyenv\\lib\\site-packages\\emobpy\\consumption.py:413: FutureWarning:\n",
      "\n",
      "The frame.append method is deprecated and will be removed from pandas in a future version. Use pandas.concat instead.\n",
      "\n",
      "C:\\Users\\j.muessel\\Miniconda3\\envs\\pyenv\\lib\\site-packages\\emobpy\\consumption.py:413: FutureWarning:\n",
      "\n",
      "The frame.append method is deprecated and will be removed from pandas in a future version. Use pandas.concat instead.\n",
      "\n",
      "C:\\Users\\j.muessel\\Miniconda3\\envs\\pyenv\\lib\\site-packages\\emobpy\\consumption.py:413: FutureWarning:\n",
      "\n",
      "The frame.append method is deprecated and will be removed from pandas in a future version. Use pandas.concat instead.\n",
      "\n",
      "C:\\Users\\j.muessel\\Miniconda3\\envs\\pyenv\\lib\\site-packages\\emobpy\\consumption.py:413: FutureWarning:\n",
      "\n",
      "The frame.append method is deprecated and will be removed from pandas in a future version. Use pandas.concat instead.\n",
      "\n",
      "C:\\Users\\j.muessel\\Miniconda3\\envs\\pyenv\\lib\\site-packages\\emobpy\\consumption.py:413: FutureWarning:\n",
      "\n",
      "The frame.append method is deprecated and will be removed from pandas in a future version. Use pandas.concat instead.\n",
      "\n",
      "C:\\Users\\j.muessel\\Miniconda3\\envs\\pyenv\\lib\\site-packages\\emobpy\\consumption.py:413: FutureWarning:\n",
      "\n",
      "The frame.append method is deprecated and will be removed from pandas in a future version. Use pandas.concat instead.\n",
      "\n",
      "C:\\Users\\j.muessel\\Miniconda3\\envs\\pyenv\\lib\\site-packages\\emobpy\\consumption.py:413: FutureWarning:\n",
      "\n",
      "The frame.append method is deprecated and will be removed from pandas in a future version. Use pandas.concat instead.\n",
      "\n",
      "C:\\Users\\j.muessel\\Miniconda3\\envs\\pyenv\\lib\\site-packages\\emobpy\\consumption.py:413: FutureWarning:\n",
      "\n",
      "The frame.append method is deprecated and will be removed from pandas in a future version. Use pandas.concat instead.\n",
      "\n",
      "C:\\Users\\j.muessel\\Miniconda3\\envs\\pyenv\\lib\\site-packages\\emobpy\\consumption.py:413: FutureWarning:\n",
      "\n",
      "The frame.append method is deprecated and will be removed from pandas in a future version. Use pandas.concat instead.\n",
      "\n",
      "C:\\Users\\j.muessel\\Miniconda3\\envs\\pyenv\\lib\\site-packages\\emobpy\\consumption.py:413: FutureWarning:\n",
      "\n",
      "The frame.append method is deprecated and will be removed from pandas in a future version. Use pandas.concat instead.\n",
      "\n",
      "C:\\Users\\j.muessel\\Miniconda3\\envs\\pyenv\\lib\\site-packages\\emobpy\\consumption.py:413: FutureWarning:\n",
      "\n",
      "The frame.append method is deprecated and will be removed from pandas in a future version. Use pandas.concat instead.\n",
      "\n",
      "C:\\Users\\j.muessel\\Miniconda3\\envs\\pyenv\\lib\\site-packages\\emobpy\\consumption.py:413: FutureWarning:\n",
      "\n",
      "The frame.append method is deprecated and will be removed from pandas in a future version. Use pandas.concat instead.\n",
      "\n",
      "C:\\Users\\j.muessel\\Miniconda3\\envs\\pyenv\\lib\\site-packages\\emobpy\\consumption.py:413: FutureWarning:\n",
      "\n",
      "The frame.append method is deprecated and will be removed from pandas in a future version. Use pandas.concat instead.\n",
      "\n",
      "C:\\Users\\j.muessel\\Miniconda3\\envs\\pyenv\\lib\\site-packages\\emobpy\\consumption.py:413: FutureWarning:\n",
      "\n",
      "The frame.append method is deprecated and will be removed from pandas in a future version. Use pandas.concat instead.\n",
      "\n",
      "C:\\Users\\j.muessel\\Miniconda3\\envs\\pyenv\\lib\\site-packages\\emobpy\\consumption.py:413: FutureWarning:\n",
      "\n",
      "The frame.append method is deprecated and will be removed from pandas in a future version. Use pandas.concat instead.\n",
      "\n",
      "C:\\Users\\j.muessel\\Miniconda3\\envs\\pyenv\\lib\\site-packages\\emobpy\\consumption.py:413: FutureWarning:\n",
      "\n",
      "The frame.append method is deprecated and will be removed from pandas in a future version. Use pandas.concat instead.\n",
      "\n",
      "C:\\Users\\j.muessel\\Miniconda3\\envs\\pyenv\\lib\\site-packages\\emobpy\\consumption.py:413: FutureWarning:\n",
      "\n",
      "The frame.append method is deprecated and will be removed from pandas in a future version. Use pandas.concat instead.\n",
      "\n",
      "C:\\Users\\j.muessel\\Miniconda3\\envs\\pyenv\\lib\\site-packages\\emobpy\\consumption.py:413: FutureWarning:\n",
      "\n",
      "The frame.append method is deprecated and will be removed from pandas in a future version. Use pandas.concat instead.\n",
      "\n",
      "C:\\Users\\j.muessel\\Miniconda3\\envs\\pyenv\\lib\\site-packages\\emobpy\\consumption.py:413: FutureWarning:\n",
      "\n",
      "The frame.append method is deprecated and will be removed from pandas in a future version. Use pandas.concat instead.\n",
      "\n",
      "C:\\Users\\j.muessel\\Miniconda3\\envs\\pyenv\\lib\\site-packages\\emobpy\\consumption.py:413: FutureWarning:\n",
      "\n",
      "The frame.append method is deprecated and will be removed from pandas in a future version. Use pandas.concat instead.\n",
      "\n",
      "C:\\Users\\j.muessel\\Miniconda3\\envs\\pyenv\\lib\\site-packages\\emobpy\\consumption.py:413: FutureWarning:\n",
      "\n",
      "The frame.append method is deprecated and will be removed from pandas in a future version. Use pandas.concat instead.\n",
      "\n",
      "C:\\Users\\j.muessel\\Miniconda3\\envs\\pyenv\\lib\\site-packages\\emobpy\\consumption.py:413: FutureWarning:\n",
      "\n",
      "The frame.append method is deprecated and will be removed from pandas in a future version. Use pandas.concat instead.\n",
      "\n",
      "C:\\Users\\j.muessel\\Miniconda3\\envs\\pyenv\\lib\\site-packages\\emobpy\\consumption.py:413: FutureWarning:\n",
      "\n",
      "The frame.append method is deprecated and will be removed from pandas in a future version. Use pandas.concat instead.\n",
      "\n",
      "C:\\Users\\j.muessel\\Miniconda3\\envs\\pyenv\\lib\\site-packages\\emobpy\\consumption.py:413: FutureWarning:\n",
      "\n",
      "The frame.append method is deprecated and will be removed from pandas in a future version. Use pandas.concat instead.\n",
      "\n",
      "C:\\Users\\j.muessel\\Miniconda3\\envs\\pyenv\\lib\\site-packages\\emobpy\\consumption.py:413: FutureWarning:\n",
      "\n",
      "The frame.append method is deprecated and will be removed from pandas in a future version. Use pandas.concat instead.\n",
      "\n",
      "C:\\Users\\j.muessel\\Miniconda3\\envs\\pyenv\\lib\\site-packages\\emobpy\\consumption.py:413: FutureWarning:\n",
      "\n",
      "The frame.append method is deprecated and will be removed from pandas in a future version. Use pandas.concat instead.\n",
      "\n",
      "C:\\Users\\j.muessel\\Miniconda3\\envs\\pyenv\\lib\\site-packages\\emobpy\\consumption.py:413: FutureWarning:\n",
      "\n",
      "The frame.append method is deprecated and will be removed from pandas in a future version. Use pandas.concat instead.\n",
      "\n",
      "C:\\Users\\j.muessel\\Miniconda3\\envs\\pyenv\\lib\\site-packages\\emobpy\\consumption.py:413: FutureWarning:\n",
      "\n",
      "The frame.append method is deprecated and will be removed from pandas in a future version. Use pandas.concat instead.\n",
      "\n",
      "C:\\Users\\j.muessel\\Miniconda3\\envs\\pyenv\\lib\\site-packages\\emobpy\\consumption.py:413: FutureWarning:\n",
      "\n",
      "The frame.append method is deprecated and will be removed from pandas in a future version. Use pandas.concat instead.\n",
      "\n",
      "C:\\Users\\j.muessel\\Miniconda3\\envs\\pyenv\\lib\\site-packages\\emobpy\\consumption.py:413: FutureWarning:\n",
      "\n",
      "The frame.append method is deprecated and will be removed from pandas in a future version. Use pandas.concat instead.\n",
      "\n",
      "C:\\Users\\j.muessel\\Miniconda3\\envs\\pyenv\\lib\\site-packages\\emobpy\\consumption.py:413: FutureWarning:\n",
      "\n",
      "The frame.append method is deprecated and will be removed from pandas in a future version. Use pandas.concat instead.\n",
      "\n",
      "C:\\Users\\j.muessel\\Miniconda3\\envs\\pyenv\\lib\\site-packages\\emobpy\\consumption.py:413: FutureWarning:\n",
      "\n",
      "The frame.append method is deprecated and will be removed from pandas in a future version. Use pandas.concat instead.\n",
      "\n",
      "C:\\Users\\j.muessel\\Miniconda3\\envs\\pyenv\\lib\\site-packages\\emobpy\\consumption.py:413: FutureWarning:\n",
      "\n",
      "The frame.append method is deprecated and will be removed from pandas in a future version. Use pandas.concat instead.\n",
      "\n",
      "C:\\Users\\j.muessel\\Miniconda3\\envs\\pyenv\\lib\\site-packages\\emobpy\\consumption.py:413: FutureWarning:\n",
      "\n",
      "The frame.append method is deprecated and will be removed from pandas in a future version. Use pandas.concat instead.\n",
      "\n",
      "C:\\Users\\j.muessel\\Miniconda3\\envs\\pyenv\\lib\\site-packages\\emobpy\\consumption.py:413: FutureWarning:\n",
      "\n",
      "The frame.append method is deprecated and will be removed from pandas in a future version. Use pandas.concat instead.\n",
      "\n",
      "C:\\Users\\j.muessel\\Miniconda3\\envs\\pyenv\\lib\\site-packages\\emobpy\\consumption.py:413: FutureWarning:\n",
      "\n",
      "The frame.append method is deprecated and will be removed from pandas in a future version. Use pandas.concat instead.\n",
      "\n",
      "C:\\Users\\j.muessel\\Miniconda3\\envs\\pyenv\\lib\\site-packages\\emobpy\\consumption.py:413: FutureWarning:\n",
      "\n",
      "The frame.append method is deprecated and will be removed from pandas in a future version. Use pandas.concat instead.\n",
      "\n",
      "C:\\Users\\j.muessel\\Miniconda3\\envs\\pyenv\\lib\\site-packages\\emobpy\\consumption.py:413: FutureWarning:\n",
      "\n",
      "The frame.append method is deprecated and will be removed from pandas in a future version. Use pandas.concat instead.\n",
      "\n",
      "C:\\Users\\j.muessel\\Miniconda3\\envs\\pyenv\\lib\\site-packages\\emobpy\\consumption.py:413: FutureWarning:\n",
      "\n",
      "The frame.append method is deprecated and will be removed from pandas in a future version. Use pandas.concat instead.\n",
      "\n",
      "C:\\Users\\j.muessel\\Miniconda3\\envs\\pyenv\\lib\\site-packages\\emobpy\\consumption.py:413: FutureWarning:\n",
      "\n",
      "The frame.append method is deprecated and will be removed from pandas in a future version. Use pandas.concat instead.\n",
      "\n",
      "C:\\Users\\j.muessel\\Miniconda3\\envs\\pyenv\\lib\\site-packages\\emobpy\\consumption.py:413: FutureWarning:\n",
      "\n",
      "The frame.append method is deprecated and will be removed from pandas in a future version. Use pandas.concat instead.\n",
      "\n",
      "C:\\Users\\j.muessel\\Miniconda3\\envs\\pyenv\\lib\\site-packages\\emobpy\\consumption.py:413: FutureWarning:\n",
      "\n",
      "The frame.append method is deprecated and will be removed from pandas in a future version. Use pandas.concat instead.\n",
      "\n",
      "C:\\Users\\j.muessel\\Miniconda3\\envs\\pyenv\\lib\\site-packages\\emobpy\\consumption.py:413: FutureWarning:\n",
      "\n",
      "The frame.append method is deprecated and will be removed from pandas in a future version. Use pandas.concat instead.\n",
      "\n",
      "C:\\Users\\j.muessel\\Miniconda3\\envs\\pyenv\\lib\\site-packages\\emobpy\\consumption.py:413: FutureWarning:\n",
      "\n",
      "The frame.append method is deprecated and will be removed from pandas in a future version. Use pandas.concat instead.\n",
      "\n",
      "C:\\Users\\j.muessel\\Miniconda3\\envs\\pyenv\\lib\\site-packages\\emobpy\\consumption.py:413: FutureWarning:\n",
      "\n",
      "The frame.append method is deprecated and will be removed from pandas in a future version. Use pandas.concat instead.\n",
      "\n",
      "C:\\Users\\j.muessel\\Miniconda3\\envs\\pyenv\\lib\\site-packages\\emobpy\\consumption.py:413: FutureWarning:\n",
      "\n",
      "The frame.append method is deprecated and will be removed from pandas in a future version. Use pandas.concat instead.\n",
      "\n",
      "C:\\Users\\j.muessel\\Miniconda3\\envs\\pyenv\\lib\\site-packages\\emobpy\\consumption.py:413: FutureWarning:\n",
      "\n",
      "The frame.append method is deprecated and will be removed from pandas in a future version. Use pandas.concat instead.\n",
      "\n",
      "C:\\Users\\j.muessel\\Miniconda3\\envs\\pyenv\\lib\\site-packages\\emobpy\\consumption.py:413: FutureWarning:\n",
      "\n",
      "The frame.append method is deprecated and will be removed from pandas in a future version. Use pandas.concat instead.\n",
      "\n",
      "C:\\Users\\j.muessel\\Miniconda3\\envs\\pyenv\\lib\\site-packages\\emobpy\\consumption.py:413: FutureWarning:\n",
      "\n",
      "The frame.append method is deprecated and will be removed from pandas in a future version. Use pandas.concat instead.\n",
      "\n",
      "C:\\Users\\j.muessel\\Miniconda3\\envs\\pyenv\\lib\\site-packages\\emobpy\\consumption.py:413: FutureWarning:\n",
      "\n",
      "The frame.append method is deprecated and will be removed from pandas in a future version. Use pandas.concat instead.\n",
      "\n",
      "C:\\Users\\j.muessel\\Miniconda3\\envs\\pyenv\\lib\\site-packages\\emobpy\\consumption.py:413: FutureWarning:\n",
      "\n",
      "The frame.append method is deprecated and will be removed from pandas in a future version. Use pandas.concat instead.\n",
      "\n",
      "C:\\Users\\j.muessel\\Miniconda3\\envs\\pyenv\\lib\\site-packages\\emobpy\\consumption.py:413: FutureWarning:\n",
      "\n",
      "The frame.append method is deprecated and will be removed from pandas in a future version. Use pandas.concat instead.\n",
      "\n",
      "C:\\Users\\j.muessel\\Miniconda3\\envs\\pyenv\\lib\\site-packages\\emobpy\\consumption.py:413: FutureWarning:\n",
      "\n",
      "The frame.append method is deprecated and will be removed from pandas in a future version. Use pandas.concat instead.\n",
      "\n",
      "C:\\Users\\j.muessel\\Miniconda3\\envs\\pyenv\\lib\\site-packages\\emobpy\\consumption.py:413: FutureWarning:\n",
      "\n",
      "The frame.append method is deprecated and will be removed from pandas in a future version. Use pandas.concat instead.\n",
      "\n",
      "C:\\Users\\j.muessel\\Miniconda3\\envs\\pyenv\\lib\\site-packages\\emobpy\\consumption.py:413: FutureWarning:\n",
      "\n",
      "The frame.append method is deprecated and will be removed from pandas in a future version. Use pandas.concat instead.\n",
      "\n",
      "C:\\Users\\j.muessel\\Miniconda3\\envs\\pyenv\\lib\\site-packages\\emobpy\\consumption.py:413: FutureWarning:\n",
      "\n",
      "The frame.append method is deprecated and will be removed from pandas in a future version. Use pandas.concat instead.\n",
      "\n",
      "C:\\Users\\j.muessel\\Miniconda3\\envs\\pyenv\\lib\\site-packages\\emobpy\\consumption.py:413: FutureWarning:\n",
      "\n",
      "The frame.append method is deprecated and will be removed from pandas in a future version. Use pandas.concat instead.\n",
      "\n",
      "C:\\Users\\j.muessel\\Miniconda3\\envs\\pyenv\\lib\\site-packages\\emobpy\\consumption.py:413: FutureWarning:\n",
      "\n",
      "The frame.append method is deprecated and will be removed from pandas in a future version. Use pandas.concat instead.\n",
      "\n",
      "C:\\Users\\j.muessel\\Miniconda3\\envs\\pyenv\\lib\\site-packages\\emobpy\\consumption.py:413: FutureWarning:\n",
      "\n",
      "The frame.append method is deprecated and will be removed from pandas in a future version. Use pandas.concat instead.\n",
      "\n",
      "C:\\Users\\j.muessel\\Miniconda3\\envs\\pyenv\\lib\\site-packages\\emobpy\\consumption.py:413: FutureWarning:\n",
      "\n",
      "The frame.append method is deprecated and will be removed from pandas in a future version. Use pandas.concat instead.\n",
      "\n",
      "C:\\Users\\j.muessel\\Miniconda3\\envs\\pyenv\\lib\\site-packages\\emobpy\\consumption.py:413: FutureWarning:\n",
      "\n",
      "The frame.append method is deprecated and will be removed from pandas in a future version. Use pandas.concat instead.\n",
      "\n",
      "C:\\Users\\j.muessel\\Miniconda3\\envs\\pyenv\\lib\\site-packages\\emobpy\\consumption.py:413: FutureWarning:\n",
      "\n",
      "The frame.append method is deprecated and will be removed from pandas in a future version. Use pandas.concat instead.\n",
      "\n",
      "C:\\Users\\j.muessel\\Miniconda3\\envs\\pyenv\\lib\\site-packages\\emobpy\\consumption.py:413: FutureWarning:\n",
      "\n",
      "The frame.append method is deprecated and will be removed from pandas in a future version. Use pandas.concat instead.\n",
      "\n",
      "C:\\Users\\j.muessel\\Miniconda3\\envs\\pyenv\\lib\\site-packages\\emobpy\\consumption.py:413: FutureWarning:\n",
      "\n",
      "The frame.append method is deprecated and will be removed from pandas in a future version. Use pandas.concat instead.\n",
      "\n",
      "C:\\Users\\j.muessel\\Miniconda3\\envs\\pyenv\\lib\\site-packages\\emobpy\\consumption.py:413: FutureWarning:\n",
      "\n",
      "The frame.append method is deprecated and will be removed from pandas in a future version. Use pandas.concat instead.\n",
      "\n",
      "C:\\Users\\j.muessel\\Miniconda3\\envs\\pyenv\\lib\\site-packages\\emobpy\\consumption.py:413: FutureWarning:\n",
      "\n",
      "The frame.append method is deprecated and will be removed from pandas in a future version. Use pandas.concat instead.\n",
      "\n",
      "C:\\Users\\j.muessel\\Miniconda3\\envs\\pyenv\\lib\\site-packages\\emobpy\\consumption.py:413: FutureWarning:\n",
      "\n",
      "The frame.append method is deprecated and will be removed from pandas in a future version. Use pandas.concat instead.\n",
      "\n",
      "C:\\Users\\j.muessel\\Miniconda3\\envs\\pyenv\\lib\\site-packages\\emobpy\\consumption.py:413: FutureWarning:\n",
      "\n",
      "The frame.append method is deprecated and will be removed from pandas in a future version. Use pandas.concat instead.\n",
      "\n",
      "C:\\Users\\j.muessel\\Miniconda3\\envs\\pyenv\\lib\\site-packages\\emobpy\\consumption.py:413: FutureWarning:\n",
      "\n",
      "The frame.append method is deprecated and will be removed from pandas in a future version. Use pandas.concat instead.\n",
      "\n",
      "C:\\Users\\j.muessel\\Miniconda3\\envs\\pyenv\\lib\\site-packages\\emobpy\\consumption.py:413: FutureWarning:\n",
      "\n",
      "The frame.append method is deprecated and will be removed from pandas in a future version. Use pandas.concat instead.\n",
      "\n",
      "C:\\Users\\j.muessel\\Miniconda3\\envs\\pyenv\\lib\\site-packages\\emobpy\\consumption.py:413: FutureWarning:\n",
      "\n",
      "The frame.append method is deprecated and will be removed from pandas in a future version. Use pandas.concat instead.\n",
      "\n",
      "C:\\Users\\j.muessel\\Miniconda3\\envs\\pyenv\\lib\\site-packages\\emobpy\\consumption.py:413: FutureWarning:\n",
      "\n",
      "The frame.append method is deprecated and will be removed from pandas in a future version. Use pandas.concat instead.\n",
      "\n",
      "C:\\Users\\j.muessel\\Miniconda3\\envs\\pyenv\\lib\\site-packages\\emobpy\\consumption.py:413: FutureWarning:\n",
      "\n",
      "The frame.append method is deprecated and will be removed from pandas in a future version. Use pandas.concat instead.\n",
      "\n"
     ]
    },
    {
     "name": "stdout",
     "output_type": "stream",
     "text": [
      "Parameter: power\n",
      "   brand                     model  year  value unit\n",
      "0  Tesla             Model S P100D  2016  568.0   kw\n",
      "1  Tesla  Model S Performance (SR)  2020  568.0   kw\n",
      "2  Tesla  Model S Performance (AC)  2019  568.0   kw\n",
      "3  Tesla   Model S P90DL Ludicrous  2016  568.0   kw\n",
      "4  Tesla   Model S P90DL Ludicrous  2015  568.0   kw\n",
      "5  Tesla              Model S P90D  2016  568.0   kw\n",
      "6  Tesla              Model S P90D  2015  568.0   kw\n",
      "7  Tesla   Model S P85DL Ludicrous  2015  568.0   kw\n",
      "8  Tesla  Model S P85D 193kW+375kW  2015  568.0   kw\n",
      "9  Tesla             Model S P100D  2018  568.0   kw\n",
      "Fallback value 0.9 added for missing battery_charging_eff parameter.\n",
      "Fallback value 0.95 added for missing battery_discharging_eff parameter.\n",
      "Fallback value 0.95 added for missing transmission_eff parameter.\n",
      "Fallback value 0.3 added for missing auxiliary_power parameter.\n",
      "Fallback value 3.5 added for missing cabin_volume parameter.\n",
      "Fallback value 1 added for missing hvac_cop_heating parameter.\n",
      "Fallback value 2 added for missing hvac_cop_cooling parameter.\n",
      "New profile running: BEV1_W53_d52d5_Volkswagen_ID.3_2020_8a2d9\n"
     ]
    },
    {
     "name": "stderr",
     "output_type": "stream",
     "text": [
      "C:\\Users\\j.muessel\\Miniconda3\\envs\\pyenv\\lib\\site-packages\\emobpy\\consumption.py:413: FutureWarning:\n",
      "\n",
      "The frame.append method is deprecated and will be removed from pandas in a future version. Use pandas.concat instead.\n",
      "\n",
      "C:\\Users\\j.muessel\\Miniconda3\\envs\\pyenv\\lib\\site-packages\\emobpy\\consumption.py:413: FutureWarning:\n",
      "\n",
      "The frame.append method is deprecated and will be removed from pandas in a future version. Use pandas.concat instead.\n",
      "\n",
      "C:\\Users\\j.muessel\\Miniconda3\\envs\\pyenv\\lib\\site-packages\\emobpy\\consumption.py:413: FutureWarning:\n",
      "\n",
      "The frame.append method is deprecated and will be removed from pandas in a future version. Use pandas.concat instead.\n",
      "\n",
      "C:\\Users\\j.muessel\\Miniconda3\\envs\\pyenv\\lib\\site-packages\\emobpy\\consumption.py:413: FutureWarning:\n",
      "\n",
      "The frame.append method is deprecated and will be removed from pandas in a future version. Use pandas.concat instead.\n",
      "\n"
     ]
    },
    {
     "name": "stdout",
     "output_type": "stream",
     "text": [
      "temp Kelvin DE 2016 Timezone: Europe/Berlin\n",
      "pressure Pascal DE 2016 Timezone: Europe/Berlin\n",
      "dew_point Kelvin DE 2016 Timezone: Europe/Berlin\n",
      "Progress: 100% [649 / 649] trips\n",
      " \n",
      "See Log files\n",
      "C:\\Users\\j.muessel\\Documents\\GitHub\\EES\\Emobpy\\my_emobpy\\log\\emobpy.log\n",
      "soc_init:0.5 --> soc_end:0.956\n",
      "Profile done: BEV1_W53_d52d5_Volkswagen_ID.3_2020_8a2d9_avai_35ffa\n",
      " \n",
      "See Log files\n",
      "C:\\Users\\j.muessel\\Documents\\GitHub\\EES\\Emobpy\\my_emobpy\\log\\emobpy.log\n",
      "Profile done: BEV1_W53_d52d5_Volkswagen_ID.3_2020_8a2d9_avai_35ffa_immediate_00380\n",
      "Creation Successful:True\n",
      "Profile done: BEV1_W53_d52d5_Volkswagen_ID.3_2020_8a2d9_avai_35ffa_balanced_4a9d0\n",
      "Creation Successful:True\n",
      "Profile done: BEV1_W53_d52d5_Volkswagen_ID.3_2020_8a2d9_avai_35ffa_from_0_to_24_at_home_55119\n",
      "Creation Successful:True\n",
      "Profile done: BEV1_W53_d52d5_Volkswagen_ID.3_2020_8a2d9_avai_35ffa_from_23_to_8_at_any_8ea06\n",
      "Creation Successful:True\n",
      "New profile running: BEV1_W53_d077b\n",
      "Progress: 3% [11 / 365] days"
     ]
    },
    {
     "name": "stderr",
     "output_type": "stream",
     "text": [
      "C:\\Users\\j.muessel\\Miniconda3\\envs\\pyenv\\lib\\site-packages\\emobpy\\mobility.py:1187: FutureWarning:\n",
      "\n",
      "The frame.append method is deprecated and will be removed from pandas in a future version. Use pandas.concat instead.\n",
      "\n",
      "C:\\Users\\j.muessel\\Miniconda3\\envs\\pyenv\\lib\\site-packages\\emobpy\\mobility.py:1187: FutureWarning:\n",
      "\n",
      "The frame.append method is deprecated and will be removed from pandas in a future version. Use pandas.concat instead.\n",
      "\n",
      "C:\\Users\\j.muessel\\Miniconda3\\envs\\pyenv\\lib\\site-packages\\emobpy\\mobility.py:1187: FutureWarning:\n",
      "\n",
      "The frame.append method is deprecated and will be removed from pandas in a future version. Use pandas.concat instead.\n",
      "\n"
     ]
    },
    {
     "name": "stdout",
     "output_type": "stream",
     "text": [
      "\r",
      "Progress: 3% [12 / 365] days"
     ]
    },
    {
     "name": "stderr",
     "output_type": "stream",
     "text": [
      "C:\\Users\\j.muessel\\Miniconda3\\envs\\pyenv\\lib\\site-packages\\emobpy\\mobility.py:1187: FutureWarning:\n",
      "\n",
      "The frame.append method is deprecated and will be removed from pandas in a future version. Use pandas.concat instead.\n",
      "\n",
      "C:\\Users\\j.muessel\\Miniconda3\\envs\\pyenv\\lib\\site-packages\\emobpy\\mobility.py:1187: FutureWarning:\n",
      "\n",
      "The frame.append method is deprecated and will be removed from pandas in a future version. Use pandas.concat instead.\n",
      "\n"
     ]
    },
    {
     "name": "stdout",
     "output_type": "stream",
     "text": [
      "Progress: 6% [25 / 365] days"
     ]
    },
    {
     "name": "stderr",
     "output_type": "stream",
     "text": [
      "C:\\Users\\j.muessel\\Miniconda3\\envs\\pyenv\\lib\\site-packages\\emobpy\\mobility.py:1187: FutureWarning:\n",
      "\n",
      "The frame.append method is deprecated and will be removed from pandas in a future version. Use pandas.concat instead.\n",
      "\n",
      "C:\\Users\\j.muessel\\Miniconda3\\envs\\pyenv\\lib\\site-packages\\emobpy\\mobility.py:1187: FutureWarning:\n",
      "\n",
      "The frame.append method is deprecated and will be removed from pandas in a future version. Use pandas.concat instead.\n",
      "\n",
      "C:\\Users\\j.muessel\\Miniconda3\\envs\\pyenv\\lib\\site-packages\\emobpy\\mobility.py:1187: FutureWarning:\n",
      "\n",
      "The frame.append method is deprecated and will be removed from pandas in a future version. Use pandas.concat instead.\n",
      "\n"
     ]
    },
    {
     "name": "stdout",
     "output_type": "stream",
     "text": [
      "Progress: 19% [72 / 365] days"
     ]
    },
    {
     "name": "stderr",
     "output_type": "stream",
     "text": [
      "C:\\Users\\j.muessel\\Miniconda3\\envs\\pyenv\\lib\\site-packages\\emobpy\\mobility.py:1187: FutureWarning:\n",
      "\n",
      "The frame.append method is deprecated and will be removed from pandas in a future version. Use pandas.concat instead.\n",
      "\n"
     ]
    },
    {
     "name": "stdout",
     "output_type": "stream",
     "text": [
      "Progress: 29% [109 / 365] days"
     ]
    },
    {
     "name": "stderr",
     "output_type": "stream",
     "text": [
      "C:\\Users\\j.muessel\\Miniconda3\\envs\\pyenv\\lib\\site-packages\\emobpy\\mobility.py:1187: FutureWarning:\n",
      "\n",
      "The frame.append method is deprecated and will be removed from pandas in a future version. Use pandas.concat instead.\n",
      "\n",
      "C:\\Users\\j.muessel\\Miniconda3\\envs\\pyenv\\lib\\site-packages\\emobpy\\mobility.py:1187: FutureWarning:\n",
      "\n",
      "The frame.append method is deprecated and will be removed from pandas in a future version. Use pandas.concat instead.\n",
      "\n",
      "C:\\Users\\j.muessel\\Miniconda3\\envs\\pyenv\\lib\\site-packages\\emobpy\\mobility.py:1187: FutureWarning:\n",
      "\n",
      "The frame.append method is deprecated and will be removed from pandas in a future version. Use pandas.concat instead.\n",
      "\n"
     ]
    },
    {
     "name": "stdout",
     "output_type": "stream",
     "text": [
      "\r",
      "Progress: 30% [110 / 365] days"
     ]
    },
    {
     "name": "stderr",
     "output_type": "stream",
     "text": [
      "C:\\Users\\j.muessel\\Miniconda3\\envs\\pyenv\\lib\\site-packages\\emobpy\\mobility.py:1187: FutureWarning:\n",
      "\n",
      "The frame.append method is deprecated and will be removed from pandas in a future version. Use pandas.concat instead.\n",
      "\n",
      "C:\\Users\\j.muessel\\Miniconda3\\envs\\pyenv\\lib\\site-packages\\emobpy\\mobility.py:1187: FutureWarning:\n",
      "\n",
      "The frame.append method is deprecated and will be removed from pandas in a future version. Use pandas.concat instead.\n",
      "\n"
     ]
    },
    {
     "name": "stdout",
     "output_type": "stream",
     "text": [
      "Progress: 43% [158 / 365] days"
     ]
    },
    {
     "name": "stderr",
     "output_type": "stream",
     "text": [
      "C:\\Users\\j.muessel\\Miniconda3\\envs\\pyenv\\lib\\site-packages\\emobpy\\mobility.py:1187: FutureWarning:\n",
      "\n",
      "The frame.append method is deprecated and will be removed from pandas in a future version. Use pandas.concat instead.\n",
      "\n"
     ]
    },
    {
     "name": "stdout",
     "output_type": "stream",
     "text": [
      "Progress: 50% [184 / 365] days"
     ]
    },
    {
     "name": "stderr",
     "output_type": "stream",
     "text": [
      "C:\\Users\\j.muessel\\Miniconda3\\envs\\pyenv\\lib\\site-packages\\emobpy\\mobility.py:1187: FutureWarning:\n",
      "\n",
      "The frame.append method is deprecated and will be removed from pandas in a future version. Use pandas.concat instead.\n",
      "\n",
      "C:\\Users\\j.muessel\\Miniconda3\\envs\\pyenv\\lib\\site-packages\\emobpy\\mobility.py:1187: FutureWarning:\n",
      "\n",
      "The frame.append method is deprecated and will be removed from pandas in a future version. Use pandas.concat instead.\n",
      "\n",
      "C:\\Users\\j.muessel\\Miniconda3\\envs\\pyenv\\lib\\site-packages\\emobpy\\mobility.py:1187: FutureWarning:\n",
      "\n",
      "The frame.append method is deprecated and will be removed from pandas in a future version. Use pandas.concat instead.\n",
      "\n",
      "C:\\Users\\j.muessel\\Miniconda3\\envs\\pyenv\\lib\\site-packages\\emobpy\\mobility.py:1187: FutureWarning:\n",
      "\n",
      "The frame.append method is deprecated and will be removed from pandas in a future version. Use pandas.concat instead.\n",
      "\n"
     ]
    },
    {
     "name": "stdout",
     "output_type": "stream",
     "text": [
      "Progress: 53% [196 / 365] days"
     ]
    },
    {
     "name": "stderr",
     "output_type": "stream",
     "text": [
      "C:\\Users\\j.muessel\\Miniconda3\\envs\\pyenv\\lib\\site-packages\\emobpy\\mobility.py:1187: FutureWarning:\n",
      "\n",
      "The frame.append method is deprecated and will be removed from pandas in a future version. Use pandas.concat instead.\n",
      "\n",
      "C:\\Users\\j.muessel\\Miniconda3\\envs\\pyenv\\lib\\site-packages\\emobpy\\mobility.py:1187: FutureWarning:\n",
      "\n",
      "The frame.append method is deprecated and will be removed from pandas in a future version. Use pandas.concat instead.\n",
      "\n"
     ]
    },
    {
     "name": "stdout",
     "output_type": "stream",
     "text": [
      "Progress: 59% [218 / 365] days"
     ]
    },
    {
     "name": "stderr",
     "output_type": "stream",
     "text": [
      "C:\\Users\\j.muessel\\Miniconda3\\envs\\pyenv\\lib\\site-packages\\emobpy\\mobility.py:1187: FutureWarning:\n",
      "\n",
      "The frame.append method is deprecated and will be removed from pandas in a future version. Use pandas.concat instead.\n",
      "\n"
     ]
    },
    {
     "name": "stdout",
     "output_type": "stream",
     "text": [
      "Progress: 61% [226 / 365] days"
     ]
    },
    {
     "name": "stderr",
     "output_type": "stream",
     "text": [
      "C:\\Users\\j.muessel\\Miniconda3\\envs\\pyenv\\lib\\site-packages\\emobpy\\mobility.py:1187: FutureWarning:\n",
      "\n",
      "The frame.append method is deprecated and will be removed from pandas in a future version. Use pandas.concat instead.\n",
      "\n"
     ]
    },
    {
     "name": "stdout",
     "output_type": "stream",
     "text": [
      "Progress: 65% [238 / 365] days"
     ]
    },
    {
     "name": "stderr",
     "output_type": "stream",
     "text": [
      "C:\\Users\\j.muessel\\Miniconda3\\envs\\pyenv\\lib\\site-packages\\emobpy\\mobility.py:1187: FutureWarning:\n",
      "\n",
      "The frame.append method is deprecated and will be removed from pandas in a future version. Use pandas.concat instead.\n",
      "\n",
      "C:\\Users\\j.muessel\\Miniconda3\\envs\\pyenv\\lib\\site-packages\\emobpy\\mobility.py:1187: FutureWarning:\n",
      "\n",
      "The frame.append method is deprecated and will be removed from pandas in a future version. Use pandas.concat instead.\n",
      "\n",
      "C:\\Users\\j.muessel\\Miniconda3\\envs\\pyenv\\lib\\site-packages\\emobpy\\mobility.py:1187: FutureWarning:\n",
      "\n",
      "The frame.append method is deprecated and will be removed from pandas in a future version. Use pandas.concat instead.\n",
      "\n"
     ]
    },
    {
     "name": "stdout",
     "output_type": "stream",
     "text": [
      "Progress: 81% [299 / 365] days"
     ]
    },
    {
     "name": "stderr",
     "output_type": "stream",
     "text": [
      "C:\\Users\\j.muessel\\Miniconda3\\envs\\pyenv\\lib\\site-packages\\emobpy\\mobility.py:1187: FutureWarning:\n",
      "\n",
      "The frame.append method is deprecated and will be removed from pandas in a future version. Use pandas.concat instead.\n",
      "\n"
     ]
    },
    {
     "name": "stdout",
     "output_type": "stream",
     "text": [
      "Progress: 83% [303 / 365] days"
     ]
    },
    {
     "name": "stderr",
     "output_type": "stream",
     "text": [
      "C:\\Users\\j.muessel\\Miniconda3\\envs\\pyenv\\lib\\site-packages\\emobpy\\mobility.py:1187: FutureWarning:\n",
      "\n",
      "The frame.append method is deprecated and will be removed from pandas in a future version. Use pandas.concat instead.\n",
      "\n",
      "C:\\Users\\j.muessel\\Miniconda3\\envs\\pyenv\\lib\\site-packages\\emobpy\\mobility.py:1187: FutureWarning:\n",
      "\n",
      "The frame.append method is deprecated and will be removed from pandas in a future version. Use pandas.concat instead.\n",
      "\n"
     ]
    },
    {
     "name": "stdout",
     "output_type": "stream",
     "text": [
      "\r",
      "Progress: 83% [304 / 365] days"
     ]
    },
    {
     "name": "stderr",
     "output_type": "stream",
     "text": [
      "C:\\Users\\j.muessel\\Miniconda3\\envs\\pyenv\\lib\\site-packages\\emobpy\\mobility.py:1187: FutureWarning:\n",
      "\n",
      "The frame.append method is deprecated and will be removed from pandas in a future version. Use pandas.concat instead.\n",
      "\n",
      "C:\\Users\\j.muessel\\Miniconda3\\envs\\pyenv\\lib\\site-packages\\emobpy\\mobility.py:1187: FutureWarning:\n",
      "\n",
      "The frame.append method is deprecated and will be removed from pandas in a future version. Use pandas.concat instead.\n",
      "\n",
      "C:\\Users\\j.muessel\\Miniconda3\\envs\\pyenv\\lib\\site-packages\\emobpy\\mobility.py:1187: FutureWarning:\n",
      "\n",
      "The frame.append method is deprecated and will be removed from pandas in a future version. Use pandas.concat instead.\n",
      "\n"
     ]
    },
    {
     "name": "stdout",
     "output_type": "stream",
     "text": [
      "Progress: 95% [347 / 365] days"
     ]
    },
    {
     "name": "stderr",
     "output_type": "stream",
     "text": [
      "C:\\Users\\j.muessel\\Miniconda3\\envs\\pyenv\\lib\\site-packages\\emobpy\\mobility.py:1187: FutureWarning:\n",
      "\n",
      "The frame.append method is deprecated and will be removed from pandas in a future version. Use pandas.concat instead.\n",
      "\n"
     ]
    },
    {
     "name": "stdout",
     "output_type": "stream",
     "text": [
      "\r",
      "Progress: 95% [348 / 365] days"
     ]
    },
    {
     "name": "stderr",
     "output_type": "stream",
     "text": [
      "C:\\Users\\j.muessel\\Miniconda3\\envs\\pyenv\\lib\\site-packages\\emobpy\\mobility.py:1187: FutureWarning:\n",
      "\n",
      "The frame.append method is deprecated and will be removed from pandas in a future version. Use pandas.concat instead.\n",
      "\n",
      "C:\\Users\\j.muessel\\Miniconda3\\envs\\pyenv\\lib\\site-packages\\emobpy\\mobility.py:1187: FutureWarning:\n",
      "\n",
      "The frame.append method is deprecated and will be removed from pandas in a future version. Use pandas.concat instead.\n",
      "\n",
      "C:\\Users\\j.muessel\\Miniconda3\\envs\\pyenv\\lib\\site-packages\\emobpy\\mobility.py:1187: FutureWarning:\n",
      "\n",
      "The frame.append method is deprecated and will be removed from pandas in a future version. Use pandas.concat instead.\n",
      "\n",
      "C:\\Users\\j.muessel\\Miniconda3\\envs\\pyenv\\lib\\site-packages\\emobpy\\mobility.py:1187: FutureWarning:\n",
      "\n",
      "The frame.append method is deprecated and will be removed from pandas in a future version. Use pandas.concat instead.\n",
      "\n",
      "C:\\Users\\j.muessel\\Miniconda3\\envs\\pyenv\\lib\\site-packages\\emobpy\\mobility.py:1187: FutureWarning:\n",
      "\n",
      "The frame.append method is deprecated and will be removed from pandas in a future version. Use pandas.concat instead.\n",
      "\n",
      "C:\\Users\\j.muessel\\Miniconda3\\envs\\pyenv\\lib\\site-packages\\emobpy\\mobility.py:1187: FutureWarning:\n",
      "\n",
      "The frame.append method is deprecated and will be removed from pandas in a future version. Use pandas.concat instead.\n",
      "\n",
      "C:\\Users\\j.muessel\\Miniconda3\\envs\\pyenv\\lib\\site-packages\\emobpy\\mobility.py:1187: FutureWarning:\n",
      "\n",
      "The frame.append method is deprecated and will be removed from pandas in a future version. Use pandas.concat instead.\n",
      "\n"
     ]
    },
    {
     "name": "stdout",
     "output_type": "stream",
     "text": [
      "Progress: 95% [350 / 365] days"
     ]
    },
    {
     "name": "stderr",
     "output_type": "stream",
     "text": [
      "C:\\Users\\j.muessel\\Miniconda3\\envs\\pyenv\\lib\\site-packages\\emobpy\\mobility.py:1187: FutureWarning:\n",
      "\n",
      "The frame.append method is deprecated and will be removed from pandas in a future version. Use pandas.concat instead.\n",
      "\n"
     ]
    },
    {
     "name": "stdout",
     "output_type": "stream",
     "text": [
      "Progress: 100% [365 / 365] days\n",
      "Profile done: BEV1_W53_d077b\n",
      "Elapsed time (min): 0.32\n",
      " \n",
      "See Log files\n",
      "C:\\Users\\j.muessel\\Documents\\GitHub\\EES\\Emobpy\\my_emobpy\\log\\emobpy.log\n"
     ]
    },
    {
     "name": "stderr",
     "output_type": "stream",
     "text": [
      "C:\\Users\\j.muessel\\Miniconda3\\envs\\pyenv\\lib\\site-packages\\emobpy\\consumption.py:413: FutureWarning:\n",
      "\n",
      "The frame.append method is deprecated and will be removed from pandas in a future version. Use pandas.concat instead.\n",
      "\n",
      "C:\\Users\\j.muessel\\Miniconda3\\envs\\pyenv\\lib\\site-packages\\emobpy\\consumption.py:413: FutureWarning:\n",
      "\n",
      "The frame.append method is deprecated and will be removed from pandas in a future version. Use pandas.concat instead.\n",
      "\n",
      "C:\\Users\\j.muessel\\Miniconda3\\envs\\pyenv\\lib\\site-packages\\emobpy\\consumption.py:413: FutureWarning:\n",
      "\n",
      "The frame.append method is deprecated and will be removed from pandas in a future version. Use pandas.concat instead.\n",
      "\n",
      "C:\\Users\\j.muessel\\Miniconda3\\envs\\pyenv\\lib\\site-packages\\emobpy\\consumption.py:413: FutureWarning:\n",
      "\n",
      "The frame.append method is deprecated and will be removed from pandas in a future version. Use pandas.concat instead.\n",
      "\n",
      "C:\\Users\\j.muessel\\Miniconda3\\envs\\pyenv\\lib\\site-packages\\emobpy\\consumption.py:413: FutureWarning:\n",
      "\n",
      "The frame.append method is deprecated and will be removed from pandas in a future version. Use pandas.concat instead.\n",
      "\n",
      "C:\\Users\\j.muessel\\Miniconda3\\envs\\pyenv\\lib\\site-packages\\emobpy\\consumption.py:413: FutureWarning:\n",
      "\n",
      "The frame.append method is deprecated and will be removed from pandas in a future version. Use pandas.concat instead.\n",
      "\n",
      "C:\\Users\\j.muessel\\Miniconda3\\envs\\pyenv\\lib\\site-packages\\emobpy\\consumption.py:413: FutureWarning:\n",
      "\n",
      "The frame.append method is deprecated and will be removed from pandas in a future version. Use pandas.concat instead.\n",
      "\n",
      "C:\\Users\\j.muessel\\Miniconda3\\envs\\pyenv\\lib\\site-packages\\emobpy\\consumption.py:413: FutureWarning:\n",
      "\n",
      "The frame.append method is deprecated and will be removed from pandas in a future version. Use pandas.concat instead.\n",
      "\n",
      "C:\\Users\\j.muessel\\Miniconda3\\envs\\pyenv\\lib\\site-packages\\emobpy\\consumption.py:413: FutureWarning:\n",
      "\n",
      "The frame.append method is deprecated and will be removed from pandas in a future version. Use pandas.concat instead.\n",
      "\n",
      "C:\\Users\\j.muessel\\Miniconda3\\envs\\pyenv\\lib\\site-packages\\emobpy\\consumption.py:413: FutureWarning:\n",
      "\n",
      "The frame.append method is deprecated and will be removed from pandas in a future version. Use pandas.concat instead.\n",
      "\n",
      "C:\\Users\\j.muessel\\Miniconda3\\envs\\pyenv\\lib\\site-packages\\emobpy\\consumption.py:413: FutureWarning:\n",
      "\n",
      "The frame.append method is deprecated and will be removed from pandas in a future version. Use pandas.concat instead.\n",
      "\n",
      "C:\\Users\\j.muessel\\Miniconda3\\envs\\pyenv\\lib\\site-packages\\emobpy\\consumption.py:413: FutureWarning:\n",
      "\n",
      "The frame.append method is deprecated and will be removed from pandas in a future version. Use pandas.concat instead.\n",
      "\n",
      "C:\\Users\\j.muessel\\Miniconda3\\envs\\pyenv\\lib\\site-packages\\emobpy\\consumption.py:413: FutureWarning:\n",
      "\n",
      "The frame.append method is deprecated and will be removed from pandas in a future version. Use pandas.concat instead.\n",
      "\n",
      "C:\\Users\\j.muessel\\Miniconda3\\envs\\pyenv\\lib\\site-packages\\emobpy\\consumption.py:413: FutureWarning:\n",
      "\n",
      "The frame.append method is deprecated and will be removed from pandas in a future version. Use pandas.concat instead.\n",
      "\n",
      "C:\\Users\\j.muessel\\Miniconda3\\envs\\pyenv\\lib\\site-packages\\emobpy\\consumption.py:413: FutureWarning:\n",
      "\n",
      "The frame.append method is deprecated and will be removed from pandas in a future version. Use pandas.concat instead.\n",
      "\n",
      "C:\\Users\\j.muessel\\Miniconda3\\envs\\pyenv\\lib\\site-packages\\emobpy\\consumption.py:413: FutureWarning:\n",
      "\n",
      "The frame.append method is deprecated and will be removed from pandas in a future version. Use pandas.concat instead.\n",
      "\n",
      "C:\\Users\\j.muessel\\Miniconda3\\envs\\pyenv\\lib\\site-packages\\emobpy\\consumption.py:413: FutureWarning:\n",
      "\n",
      "The frame.append method is deprecated and will be removed from pandas in a future version. Use pandas.concat instead.\n",
      "\n",
      "C:\\Users\\j.muessel\\Miniconda3\\envs\\pyenv\\lib\\site-packages\\emobpy\\consumption.py:413: FutureWarning:\n",
      "\n",
      "The frame.append method is deprecated and will be removed from pandas in a future version. Use pandas.concat instead.\n",
      "\n",
      "C:\\Users\\j.muessel\\Miniconda3\\envs\\pyenv\\lib\\site-packages\\emobpy\\consumption.py:413: FutureWarning:\n",
      "\n",
      "The frame.append method is deprecated and will be removed from pandas in a future version. Use pandas.concat instead.\n",
      "\n",
      "C:\\Users\\j.muessel\\Miniconda3\\envs\\pyenv\\lib\\site-packages\\emobpy\\consumption.py:413: FutureWarning:\n",
      "\n",
      "The frame.append method is deprecated and will be removed from pandas in a future version. Use pandas.concat instead.\n",
      "\n",
      "C:\\Users\\j.muessel\\Miniconda3\\envs\\pyenv\\lib\\site-packages\\emobpy\\consumption.py:413: FutureWarning:\n",
      "\n",
      "The frame.append method is deprecated and will be removed from pandas in a future version. Use pandas.concat instead.\n",
      "\n",
      "C:\\Users\\j.muessel\\Miniconda3\\envs\\pyenv\\lib\\site-packages\\emobpy\\consumption.py:413: FutureWarning:\n",
      "\n",
      "The frame.append method is deprecated and will be removed from pandas in a future version. Use pandas.concat instead.\n",
      "\n",
      "C:\\Users\\j.muessel\\Miniconda3\\envs\\pyenv\\lib\\site-packages\\emobpy\\consumption.py:413: FutureWarning:\n",
      "\n",
      "The frame.append method is deprecated and will be removed from pandas in a future version. Use pandas.concat instead.\n",
      "\n",
      "C:\\Users\\j.muessel\\Miniconda3\\envs\\pyenv\\lib\\site-packages\\emobpy\\consumption.py:413: FutureWarning:\n",
      "\n",
      "The frame.append method is deprecated and will be removed from pandas in a future version. Use pandas.concat instead.\n",
      "\n",
      "C:\\Users\\j.muessel\\Miniconda3\\envs\\pyenv\\lib\\site-packages\\emobpy\\consumption.py:413: FutureWarning:\n",
      "\n",
      "The frame.append method is deprecated and will be removed from pandas in a future version. Use pandas.concat instead.\n",
      "\n",
      "C:\\Users\\j.muessel\\Miniconda3\\envs\\pyenv\\lib\\site-packages\\emobpy\\consumption.py:413: FutureWarning:\n",
      "\n",
      "The frame.append method is deprecated and will be removed from pandas in a future version. Use pandas.concat instead.\n",
      "\n",
      "C:\\Users\\j.muessel\\Miniconda3\\envs\\pyenv\\lib\\site-packages\\emobpy\\consumption.py:413: FutureWarning:\n",
      "\n",
      "The frame.append method is deprecated and will be removed from pandas in a future version. Use pandas.concat instead.\n",
      "\n",
      "C:\\Users\\j.muessel\\Miniconda3\\envs\\pyenv\\lib\\site-packages\\emobpy\\consumption.py:413: FutureWarning:\n",
      "\n",
      "The frame.append method is deprecated and will be removed from pandas in a future version. Use pandas.concat instead.\n",
      "\n",
      "C:\\Users\\j.muessel\\Miniconda3\\envs\\pyenv\\lib\\site-packages\\emobpy\\consumption.py:413: FutureWarning:\n",
      "\n",
      "The frame.append method is deprecated and will be removed from pandas in a future version. Use pandas.concat instead.\n",
      "\n",
      "C:\\Users\\j.muessel\\Miniconda3\\envs\\pyenv\\lib\\site-packages\\emobpy\\consumption.py:413: FutureWarning:\n",
      "\n",
      "The frame.append method is deprecated and will be removed from pandas in a future version. Use pandas.concat instead.\n",
      "\n",
      "C:\\Users\\j.muessel\\Miniconda3\\envs\\pyenv\\lib\\site-packages\\emobpy\\consumption.py:413: FutureWarning:\n",
      "\n",
      "The frame.append method is deprecated and will be removed from pandas in a future version. Use pandas.concat instead.\n",
      "\n",
      "C:\\Users\\j.muessel\\Miniconda3\\envs\\pyenv\\lib\\site-packages\\emobpy\\consumption.py:413: FutureWarning:\n",
      "\n",
      "The frame.append method is deprecated and will be removed from pandas in a future version. Use pandas.concat instead.\n",
      "\n",
      "C:\\Users\\j.muessel\\Miniconda3\\envs\\pyenv\\lib\\site-packages\\emobpy\\consumption.py:413: FutureWarning:\n",
      "\n",
      "The frame.append method is deprecated and will be removed from pandas in a future version. Use pandas.concat instead.\n",
      "\n",
      "C:\\Users\\j.muessel\\Miniconda3\\envs\\pyenv\\lib\\site-packages\\emobpy\\consumption.py:413: FutureWarning:\n",
      "\n",
      "The frame.append method is deprecated and will be removed from pandas in a future version. Use pandas.concat instead.\n",
      "\n",
      "C:\\Users\\j.muessel\\Miniconda3\\envs\\pyenv\\lib\\site-packages\\emobpy\\consumption.py:413: FutureWarning:\n",
      "\n",
      "The frame.append method is deprecated and will be removed from pandas in a future version. Use pandas.concat instead.\n",
      "\n",
      "C:\\Users\\j.muessel\\Miniconda3\\envs\\pyenv\\lib\\site-packages\\emobpy\\consumption.py:413: FutureWarning:\n",
      "\n",
      "The frame.append method is deprecated and will be removed from pandas in a future version. Use pandas.concat instead.\n",
      "\n",
      "C:\\Users\\j.muessel\\Miniconda3\\envs\\pyenv\\lib\\site-packages\\emobpy\\consumption.py:413: FutureWarning:\n",
      "\n",
      "The frame.append method is deprecated and will be removed from pandas in a future version. Use pandas.concat instead.\n",
      "\n",
      "C:\\Users\\j.muessel\\Miniconda3\\envs\\pyenv\\lib\\site-packages\\emobpy\\consumption.py:413: FutureWarning:\n",
      "\n",
      "The frame.append method is deprecated and will be removed from pandas in a future version. Use pandas.concat instead.\n",
      "\n",
      "C:\\Users\\j.muessel\\Miniconda3\\envs\\pyenv\\lib\\site-packages\\emobpy\\consumption.py:413: FutureWarning:\n",
      "\n",
      "The frame.append method is deprecated and will be removed from pandas in a future version. Use pandas.concat instead.\n",
      "\n",
      "C:\\Users\\j.muessel\\Miniconda3\\envs\\pyenv\\lib\\site-packages\\emobpy\\consumption.py:413: FutureWarning:\n",
      "\n",
      "The frame.append method is deprecated and will be removed from pandas in a future version. Use pandas.concat instead.\n",
      "\n",
      "C:\\Users\\j.muessel\\Miniconda3\\envs\\pyenv\\lib\\site-packages\\emobpy\\consumption.py:413: FutureWarning:\n",
      "\n",
      "The frame.append method is deprecated and will be removed from pandas in a future version. Use pandas.concat instead.\n",
      "\n",
      "C:\\Users\\j.muessel\\Miniconda3\\envs\\pyenv\\lib\\site-packages\\emobpy\\consumption.py:413: FutureWarning:\n",
      "\n",
      "The frame.append method is deprecated and will be removed from pandas in a future version. Use pandas.concat instead.\n",
      "\n",
      "C:\\Users\\j.muessel\\Miniconda3\\envs\\pyenv\\lib\\site-packages\\emobpy\\consumption.py:413: FutureWarning:\n",
      "\n",
      "The frame.append method is deprecated and will be removed from pandas in a future version. Use pandas.concat instead.\n",
      "\n",
      "C:\\Users\\j.muessel\\Miniconda3\\envs\\pyenv\\lib\\site-packages\\emobpy\\consumption.py:413: FutureWarning:\n",
      "\n",
      "The frame.append method is deprecated and will be removed from pandas in a future version. Use pandas.concat instead.\n",
      "\n",
      "C:\\Users\\j.muessel\\Miniconda3\\envs\\pyenv\\lib\\site-packages\\emobpy\\consumption.py:413: FutureWarning:\n",
      "\n",
      "The frame.append method is deprecated and will be removed from pandas in a future version. Use pandas.concat instead.\n",
      "\n",
      "C:\\Users\\j.muessel\\Miniconda3\\envs\\pyenv\\lib\\site-packages\\emobpy\\consumption.py:413: FutureWarning:\n",
      "\n",
      "The frame.append method is deprecated and will be removed from pandas in a future version. Use pandas.concat instead.\n",
      "\n",
      "C:\\Users\\j.muessel\\Miniconda3\\envs\\pyenv\\lib\\site-packages\\emobpy\\consumption.py:413: FutureWarning:\n",
      "\n",
      "The frame.append method is deprecated and will be removed from pandas in a future version. Use pandas.concat instead.\n",
      "\n",
      "C:\\Users\\j.muessel\\Miniconda3\\envs\\pyenv\\lib\\site-packages\\emobpy\\consumption.py:413: FutureWarning:\n",
      "\n",
      "The frame.append method is deprecated and will be removed from pandas in a future version. Use pandas.concat instead.\n",
      "\n",
      "C:\\Users\\j.muessel\\Miniconda3\\envs\\pyenv\\lib\\site-packages\\emobpy\\consumption.py:413: FutureWarning:\n",
      "\n",
      "The frame.append method is deprecated and will be removed from pandas in a future version. Use pandas.concat instead.\n",
      "\n",
      "C:\\Users\\j.muessel\\Miniconda3\\envs\\pyenv\\lib\\site-packages\\emobpy\\consumption.py:413: FutureWarning:\n",
      "\n",
      "The frame.append method is deprecated and will be removed from pandas in a future version. Use pandas.concat instead.\n",
      "\n",
      "C:\\Users\\j.muessel\\Miniconda3\\envs\\pyenv\\lib\\site-packages\\emobpy\\consumption.py:413: FutureWarning:\n",
      "\n",
      "The frame.append method is deprecated and will be removed from pandas in a future version. Use pandas.concat instead.\n",
      "\n",
      "C:\\Users\\j.muessel\\Miniconda3\\envs\\pyenv\\lib\\site-packages\\emobpy\\consumption.py:413: FutureWarning:\n",
      "\n",
      "The frame.append method is deprecated and will be removed from pandas in a future version. Use pandas.concat instead.\n",
      "\n",
      "C:\\Users\\j.muessel\\Miniconda3\\envs\\pyenv\\lib\\site-packages\\emobpy\\consumption.py:413: FutureWarning:\n",
      "\n",
      "The frame.append method is deprecated and will be removed from pandas in a future version. Use pandas.concat instead.\n",
      "\n",
      "C:\\Users\\j.muessel\\Miniconda3\\envs\\pyenv\\lib\\site-packages\\emobpy\\consumption.py:413: FutureWarning:\n",
      "\n",
      "The frame.append method is deprecated and will be removed from pandas in a future version. Use pandas.concat instead.\n",
      "\n",
      "C:\\Users\\j.muessel\\Miniconda3\\envs\\pyenv\\lib\\site-packages\\emobpy\\consumption.py:413: FutureWarning:\n",
      "\n",
      "The frame.append method is deprecated and will be removed from pandas in a future version. Use pandas.concat instead.\n",
      "\n",
      "C:\\Users\\j.muessel\\Miniconda3\\envs\\pyenv\\lib\\site-packages\\emobpy\\consumption.py:413: FutureWarning:\n",
      "\n",
      "The frame.append method is deprecated and will be removed from pandas in a future version. Use pandas.concat instead.\n",
      "\n",
      "C:\\Users\\j.muessel\\Miniconda3\\envs\\pyenv\\lib\\site-packages\\emobpy\\consumption.py:413: FutureWarning:\n",
      "\n",
      "The frame.append method is deprecated and will be removed from pandas in a future version. Use pandas.concat instead.\n",
      "\n",
      "C:\\Users\\j.muessel\\Miniconda3\\envs\\pyenv\\lib\\site-packages\\emobpy\\consumption.py:413: FutureWarning:\n",
      "\n",
      "The frame.append method is deprecated and will be removed from pandas in a future version. Use pandas.concat instead.\n",
      "\n",
      "C:\\Users\\j.muessel\\Miniconda3\\envs\\pyenv\\lib\\site-packages\\emobpy\\consumption.py:413: FutureWarning:\n",
      "\n",
      "The frame.append method is deprecated and will be removed from pandas in a future version. Use pandas.concat instead.\n",
      "\n",
      "C:\\Users\\j.muessel\\Miniconda3\\envs\\pyenv\\lib\\site-packages\\emobpy\\consumption.py:413: FutureWarning:\n",
      "\n",
      "The frame.append method is deprecated and will be removed from pandas in a future version. Use pandas.concat instead.\n",
      "\n",
      "C:\\Users\\j.muessel\\Miniconda3\\envs\\pyenv\\lib\\site-packages\\emobpy\\consumption.py:413: FutureWarning:\n",
      "\n",
      "The frame.append method is deprecated and will be removed from pandas in a future version. Use pandas.concat instead.\n",
      "\n",
      "C:\\Users\\j.muessel\\Miniconda3\\envs\\pyenv\\lib\\site-packages\\emobpy\\consumption.py:413: FutureWarning:\n",
      "\n",
      "The frame.append method is deprecated and will be removed from pandas in a future version. Use pandas.concat instead.\n",
      "\n",
      "C:\\Users\\j.muessel\\Miniconda3\\envs\\pyenv\\lib\\site-packages\\emobpy\\consumption.py:413: FutureWarning:\n",
      "\n",
      "The frame.append method is deprecated and will be removed from pandas in a future version. Use pandas.concat instead.\n",
      "\n",
      "C:\\Users\\j.muessel\\Miniconda3\\envs\\pyenv\\lib\\site-packages\\emobpy\\consumption.py:413: FutureWarning:\n",
      "\n",
      "The frame.append method is deprecated and will be removed from pandas in a future version. Use pandas.concat instead.\n",
      "\n",
      "C:\\Users\\j.muessel\\Miniconda3\\envs\\pyenv\\lib\\site-packages\\emobpy\\consumption.py:413: FutureWarning:\n",
      "\n",
      "The frame.append method is deprecated and will be removed from pandas in a future version. Use pandas.concat instead.\n",
      "\n",
      "C:\\Users\\j.muessel\\Miniconda3\\envs\\pyenv\\lib\\site-packages\\emobpy\\consumption.py:413: FutureWarning:\n",
      "\n",
      "The frame.append method is deprecated and will be removed from pandas in a future version. Use pandas.concat instead.\n",
      "\n",
      "C:\\Users\\j.muessel\\Miniconda3\\envs\\pyenv\\lib\\site-packages\\emobpy\\consumption.py:413: FutureWarning:\n",
      "\n",
      "The frame.append method is deprecated and will be removed from pandas in a future version. Use pandas.concat instead.\n",
      "\n",
      "C:\\Users\\j.muessel\\Miniconda3\\envs\\pyenv\\lib\\site-packages\\emobpy\\consumption.py:413: FutureWarning:\n",
      "\n",
      "The frame.append method is deprecated and will be removed from pandas in a future version. Use pandas.concat instead.\n",
      "\n",
      "C:\\Users\\j.muessel\\Miniconda3\\envs\\pyenv\\lib\\site-packages\\emobpy\\consumption.py:413: FutureWarning:\n",
      "\n",
      "The frame.append method is deprecated and will be removed from pandas in a future version. Use pandas.concat instead.\n",
      "\n",
      "C:\\Users\\j.muessel\\Miniconda3\\envs\\pyenv\\lib\\site-packages\\emobpy\\consumption.py:413: FutureWarning:\n",
      "\n",
      "The frame.append method is deprecated and will be removed from pandas in a future version. Use pandas.concat instead.\n",
      "\n",
      "C:\\Users\\j.muessel\\Miniconda3\\envs\\pyenv\\lib\\site-packages\\emobpy\\consumption.py:413: FutureWarning:\n",
      "\n",
      "The frame.append method is deprecated and will be removed from pandas in a future version. Use pandas.concat instead.\n",
      "\n",
      "C:\\Users\\j.muessel\\Miniconda3\\envs\\pyenv\\lib\\site-packages\\emobpy\\consumption.py:413: FutureWarning:\n",
      "\n",
      "The frame.append method is deprecated and will be removed from pandas in a future version. Use pandas.concat instead.\n",
      "\n",
      "C:\\Users\\j.muessel\\Miniconda3\\envs\\pyenv\\lib\\site-packages\\emobpy\\consumption.py:413: FutureWarning:\n",
      "\n",
      "The frame.append method is deprecated and will be removed from pandas in a future version. Use pandas.concat instead.\n",
      "\n",
      "C:\\Users\\j.muessel\\Miniconda3\\envs\\pyenv\\lib\\site-packages\\emobpy\\consumption.py:413: FutureWarning:\n",
      "\n",
      "The frame.append method is deprecated and will be removed from pandas in a future version. Use pandas.concat instead.\n",
      "\n",
      "C:\\Users\\j.muessel\\Miniconda3\\envs\\pyenv\\lib\\site-packages\\emobpy\\consumption.py:413: FutureWarning:\n",
      "\n",
      "The frame.append method is deprecated and will be removed from pandas in a future version. Use pandas.concat instead.\n",
      "\n",
      "C:\\Users\\j.muessel\\Miniconda3\\envs\\pyenv\\lib\\site-packages\\emobpy\\consumption.py:413: FutureWarning:\n",
      "\n",
      "The frame.append method is deprecated and will be removed from pandas in a future version. Use pandas.concat instead.\n",
      "\n",
      "C:\\Users\\j.muessel\\Miniconda3\\envs\\pyenv\\lib\\site-packages\\emobpy\\consumption.py:413: FutureWarning:\n",
      "\n",
      "The frame.append method is deprecated and will be removed from pandas in a future version. Use pandas.concat instead.\n",
      "\n",
      "C:\\Users\\j.muessel\\Miniconda3\\envs\\pyenv\\lib\\site-packages\\emobpy\\consumption.py:413: FutureWarning:\n",
      "\n",
      "The frame.append method is deprecated and will be removed from pandas in a future version. Use pandas.concat instead.\n",
      "\n",
      "C:\\Users\\j.muessel\\Miniconda3\\envs\\pyenv\\lib\\site-packages\\emobpy\\consumption.py:413: FutureWarning:\n",
      "\n",
      "The frame.append method is deprecated and will be removed from pandas in a future version. Use pandas.concat instead.\n",
      "\n",
      "C:\\Users\\j.muessel\\Miniconda3\\envs\\pyenv\\lib\\site-packages\\emobpy\\consumption.py:413: FutureWarning:\n",
      "\n",
      "The frame.append method is deprecated and will be removed from pandas in a future version. Use pandas.concat instead.\n",
      "\n",
      "C:\\Users\\j.muessel\\Miniconda3\\envs\\pyenv\\lib\\site-packages\\emobpy\\consumption.py:413: FutureWarning:\n",
      "\n",
      "The frame.append method is deprecated and will be removed from pandas in a future version. Use pandas.concat instead.\n",
      "\n",
      "C:\\Users\\j.muessel\\Miniconda3\\envs\\pyenv\\lib\\site-packages\\emobpy\\consumption.py:413: FutureWarning:\n",
      "\n",
      "The frame.append method is deprecated and will be removed from pandas in a future version. Use pandas.concat instead.\n",
      "\n",
      "C:\\Users\\j.muessel\\Miniconda3\\envs\\pyenv\\lib\\site-packages\\emobpy\\consumption.py:413: FutureWarning:\n",
      "\n",
      "The frame.append method is deprecated and will be removed from pandas in a future version. Use pandas.concat instead.\n",
      "\n",
      "C:\\Users\\j.muessel\\Miniconda3\\envs\\pyenv\\lib\\site-packages\\emobpy\\consumption.py:413: FutureWarning:\n",
      "\n",
      "The frame.append method is deprecated and will be removed from pandas in a future version. Use pandas.concat instead.\n",
      "\n",
      "C:\\Users\\j.muessel\\Miniconda3\\envs\\pyenv\\lib\\site-packages\\emobpy\\consumption.py:413: FutureWarning:\n",
      "\n",
      "The frame.append method is deprecated and will be removed from pandas in a future version. Use pandas.concat instead.\n",
      "\n",
      "C:\\Users\\j.muessel\\Miniconda3\\envs\\pyenv\\lib\\site-packages\\emobpy\\consumption.py:413: FutureWarning:\n",
      "\n",
      "The frame.append method is deprecated and will be removed from pandas in a future version. Use pandas.concat instead.\n",
      "\n",
      "C:\\Users\\j.muessel\\Miniconda3\\envs\\pyenv\\lib\\site-packages\\emobpy\\consumption.py:413: FutureWarning:\n",
      "\n",
      "The frame.append method is deprecated and will be removed from pandas in a future version. Use pandas.concat instead.\n",
      "\n",
      "C:\\Users\\j.muessel\\Miniconda3\\envs\\pyenv\\lib\\site-packages\\emobpy\\consumption.py:413: FutureWarning:\n",
      "\n",
      "The frame.append method is deprecated and will be removed from pandas in a future version. Use pandas.concat instead.\n",
      "\n",
      "C:\\Users\\j.muessel\\Miniconda3\\envs\\pyenv\\lib\\site-packages\\emobpy\\consumption.py:413: FutureWarning:\n",
      "\n",
      "The frame.append method is deprecated and will be removed from pandas in a future version. Use pandas.concat instead.\n",
      "\n",
      "C:\\Users\\j.muessel\\Miniconda3\\envs\\pyenv\\lib\\site-packages\\emobpy\\consumption.py:413: FutureWarning:\n",
      "\n",
      "The frame.append method is deprecated and will be removed from pandas in a future version. Use pandas.concat instead.\n",
      "\n",
      "C:\\Users\\j.muessel\\Miniconda3\\envs\\pyenv\\lib\\site-packages\\emobpy\\consumption.py:413: FutureWarning:\n",
      "\n",
      "The frame.append method is deprecated and will be removed from pandas in a future version. Use pandas.concat instead.\n",
      "\n",
      "C:\\Users\\j.muessel\\Miniconda3\\envs\\pyenv\\lib\\site-packages\\emobpy\\consumption.py:413: FutureWarning:\n",
      "\n",
      "The frame.append method is deprecated and will be removed from pandas in a future version. Use pandas.concat instead.\n",
      "\n",
      "C:\\Users\\j.muessel\\Miniconda3\\envs\\pyenv\\lib\\site-packages\\emobpy\\consumption.py:413: FutureWarning:\n",
      "\n",
      "The frame.append method is deprecated and will be removed from pandas in a future version. Use pandas.concat instead.\n",
      "\n",
      "C:\\Users\\j.muessel\\Miniconda3\\envs\\pyenv\\lib\\site-packages\\emobpy\\consumption.py:413: FutureWarning:\n",
      "\n",
      "The frame.append method is deprecated and will be removed from pandas in a future version. Use pandas.concat instead.\n",
      "\n",
      "C:\\Users\\j.muessel\\Miniconda3\\envs\\pyenv\\lib\\site-packages\\emobpy\\consumption.py:413: FutureWarning:\n",
      "\n",
      "The frame.append method is deprecated and will be removed from pandas in a future version. Use pandas.concat instead.\n",
      "\n",
      "C:\\Users\\j.muessel\\Miniconda3\\envs\\pyenv\\lib\\site-packages\\emobpy\\consumption.py:413: FutureWarning:\n",
      "\n",
      "The frame.append method is deprecated and will be removed from pandas in a future version. Use pandas.concat instead.\n",
      "\n",
      "C:\\Users\\j.muessel\\Miniconda3\\envs\\pyenv\\lib\\site-packages\\emobpy\\consumption.py:413: FutureWarning:\n",
      "\n",
      "The frame.append method is deprecated and will be removed from pandas in a future version. Use pandas.concat instead.\n",
      "\n",
      "C:\\Users\\j.muessel\\Miniconda3\\envs\\pyenv\\lib\\site-packages\\emobpy\\consumption.py:413: FutureWarning:\n",
      "\n",
      "The frame.append method is deprecated and will be removed from pandas in a future version. Use pandas.concat instead.\n",
      "\n",
      "C:\\Users\\j.muessel\\Miniconda3\\envs\\pyenv\\lib\\site-packages\\emobpy\\consumption.py:413: FutureWarning:\n",
      "\n",
      "The frame.append method is deprecated and will be removed from pandas in a future version. Use pandas.concat instead.\n",
      "\n",
      "C:\\Users\\j.muessel\\Miniconda3\\envs\\pyenv\\lib\\site-packages\\emobpy\\consumption.py:413: FutureWarning:\n",
      "\n",
      "The frame.append method is deprecated and will be removed from pandas in a future version. Use pandas.concat instead.\n",
      "\n",
      "C:\\Users\\j.muessel\\Miniconda3\\envs\\pyenv\\lib\\site-packages\\emobpy\\consumption.py:413: FutureWarning:\n",
      "\n",
      "The frame.append method is deprecated and will be removed from pandas in a future version. Use pandas.concat instead.\n",
      "\n",
      "C:\\Users\\j.muessel\\Miniconda3\\envs\\pyenv\\lib\\site-packages\\emobpy\\consumption.py:413: FutureWarning:\n",
      "\n",
      "The frame.append method is deprecated and will be removed from pandas in a future version. Use pandas.concat instead.\n",
      "\n",
      "C:\\Users\\j.muessel\\Miniconda3\\envs\\pyenv\\lib\\site-packages\\emobpy\\consumption.py:413: FutureWarning:\n",
      "\n",
      "The frame.append method is deprecated and will be removed from pandas in a future version. Use pandas.concat instead.\n",
      "\n",
      "C:\\Users\\j.muessel\\Miniconda3\\envs\\pyenv\\lib\\site-packages\\emobpy\\consumption.py:413: FutureWarning:\n",
      "\n",
      "The frame.append method is deprecated and will be removed from pandas in a future version. Use pandas.concat instead.\n",
      "\n",
      "C:\\Users\\j.muessel\\Miniconda3\\envs\\pyenv\\lib\\site-packages\\emobpy\\consumption.py:413: FutureWarning:\n",
      "\n",
      "The frame.append method is deprecated and will be removed from pandas in a future version. Use pandas.concat instead.\n",
      "\n",
      "C:\\Users\\j.muessel\\Miniconda3\\envs\\pyenv\\lib\\site-packages\\emobpy\\consumption.py:413: FutureWarning:\n",
      "\n",
      "The frame.append method is deprecated and will be removed from pandas in a future version. Use pandas.concat instead.\n",
      "\n",
      "C:\\Users\\j.muessel\\Miniconda3\\envs\\pyenv\\lib\\site-packages\\emobpy\\consumption.py:413: FutureWarning:\n",
      "\n",
      "The frame.append method is deprecated and will be removed from pandas in a future version. Use pandas.concat instead.\n",
      "\n",
      "C:\\Users\\j.muessel\\Miniconda3\\envs\\pyenv\\lib\\site-packages\\emobpy\\consumption.py:413: FutureWarning:\n",
      "\n",
      "The frame.append method is deprecated and will be removed from pandas in a future version. Use pandas.concat instead.\n",
      "\n",
      "C:\\Users\\j.muessel\\Miniconda3\\envs\\pyenv\\lib\\site-packages\\emobpy\\consumption.py:413: FutureWarning:\n",
      "\n",
      "The frame.append method is deprecated and will be removed from pandas in a future version. Use pandas.concat instead.\n",
      "\n",
      "C:\\Users\\j.muessel\\Miniconda3\\envs\\pyenv\\lib\\site-packages\\emobpy\\consumption.py:413: FutureWarning:\n",
      "\n",
      "The frame.append method is deprecated and will be removed from pandas in a future version. Use pandas.concat instead.\n",
      "\n",
      "C:\\Users\\j.muessel\\Miniconda3\\envs\\pyenv\\lib\\site-packages\\emobpy\\consumption.py:413: FutureWarning:\n",
      "\n",
      "The frame.append method is deprecated and will be removed from pandas in a future version. Use pandas.concat instead.\n",
      "\n",
      "C:\\Users\\j.muessel\\Miniconda3\\envs\\pyenv\\lib\\site-packages\\emobpy\\consumption.py:413: FutureWarning:\n",
      "\n",
      "The frame.append method is deprecated and will be removed from pandas in a future version. Use pandas.concat instead.\n",
      "\n",
      "C:\\Users\\j.muessel\\Miniconda3\\envs\\pyenv\\lib\\site-packages\\emobpy\\consumption.py:413: FutureWarning:\n",
      "\n",
      "The frame.append method is deprecated and will be removed from pandas in a future version. Use pandas.concat instead.\n",
      "\n",
      "C:\\Users\\j.muessel\\Miniconda3\\envs\\pyenv\\lib\\site-packages\\emobpy\\consumption.py:413: FutureWarning:\n",
      "\n",
      "The frame.append method is deprecated and will be removed from pandas in a future version. Use pandas.concat instead.\n",
      "\n",
      "C:\\Users\\j.muessel\\Miniconda3\\envs\\pyenv\\lib\\site-packages\\emobpy\\consumption.py:413: FutureWarning:\n",
      "\n",
      "The frame.append method is deprecated and will be removed from pandas in a future version. Use pandas.concat instead.\n",
      "\n",
      "C:\\Users\\j.muessel\\Miniconda3\\envs\\pyenv\\lib\\site-packages\\emobpy\\consumption.py:413: FutureWarning:\n",
      "\n",
      "The frame.append method is deprecated and will be removed from pandas in a future version. Use pandas.concat instead.\n",
      "\n",
      "C:\\Users\\j.muessel\\Miniconda3\\envs\\pyenv\\lib\\site-packages\\emobpy\\consumption.py:413: FutureWarning:\n",
      "\n",
      "The frame.append method is deprecated and will be removed from pandas in a future version. Use pandas.concat instead.\n",
      "\n",
      "C:\\Users\\j.muessel\\Miniconda3\\envs\\pyenv\\lib\\site-packages\\emobpy\\consumption.py:413: FutureWarning:\n",
      "\n",
      "The frame.append method is deprecated and will be removed from pandas in a future version. Use pandas.concat instead.\n",
      "\n",
      "C:\\Users\\j.muessel\\Miniconda3\\envs\\pyenv\\lib\\site-packages\\emobpy\\consumption.py:413: FutureWarning:\n",
      "\n",
      "The frame.append method is deprecated and will be removed from pandas in a future version. Use pandas.concat instead.\n",
      "\n",
      "C:\\Users\\j.muessel\\Miniconda3\\envs\\pyenv\\lib\\site-packages\\emobpy\\consumption.py:413: FutureWarning:\n",
      "\n",
      "The frame.append method is deprecated and will be removed from pandas in a future version. Use pandas.concat instead.\n",
      "\n",
      "C:\\Users\\j.muessel\\Miniconda3\\envs\\pyenv\\lib\\site-packages\\emobpy\\consumption.py:413: FutureWarning:\n",
      "\n",
      "The frame.append method is deprecated and will be removed from pandas in a future version. Use pandas.concat instead.\n",
      "\n",
      "C:\\Users\\j.muessel\\Miniconda3\\envs\\pyenv\\lib\\site-packages\\emobpy\\consumption.py:413: FutureWarning:\n",
      "\n",
      "The frame.append method is deprecated and will be removed from pandas in a future version. Use pandas.concat instead.\n",
      "\n",
      "C:\\Users\\j.muessel\\Miniconda3\\envs\\pyenv\\lib\\site-packages\\emobpy\\consumption.py:413: FutureWarning:\n",
      "\n",
      "The frame.append method is deprecated and will be removed from pandas in a future version. Use pandas.concat instead.\n",
      "\n",
      "C:\\Users\\j.muessel\\Miniconda3\\envs\\pyenv\\lib\\site-packages\\emobpy\\consumption.py:413: FutureWarning:\n",
      "\n",
      "The frame.append method is deprecated and will be removed from pandas in a future version. Use pandas.concat instead.\n",
      "\n",
      "C:\\Users\\j.muessel\\Miniconda3\\envs\\pyenv\\lib\\site-packages\\emobpy\\consumption.py:413: FutureWarning:\n",
      "\n",
      "The frame.append method is deprecated and will be removed from pandas in a future version. Use pandas.concat instead.\n",
      "\n",
      "C:\\Users\\j.muessel\\Miniconda3\\envs\\pyenv\\lib\\site-packages\\emobpy\\consumption.py:413: FutureWarning:\n",
      "\n",
      "The frame.append method is deprecated and will be removed from pandas in a future version. Use pandas.concat instead.\n",
      "\n",
      "C:\\Users\\j.muessel\\Miniconda3\\envs\\pyenv\\lib\\site-packages\\emobpy\\consumption.py:413: FutureWarning:\n",
      "\n",
      "The frame.append method is deprecated and will be removed from pandas in a future version. Use pandas.concat instead.\n",
      "\n",
      "C:\\Users\\j.muessel\\Miniconda3\\envs\\pyenv\\lib\\site-packages\\emobpy\\consumption.py:413: FutureWarning:\n",
      "\n",
      "The frame.append method is deprecated and will be removed from pandas in a future version. Use pandas.concat instead.\n",
      "\n",
      "C:\\Users\\j.muessel\\Miniconda3\\envs\\pyenv\\lib\\site-packages\\emobpy\\consumption.py:413: FutureWarning:\n",
      "\n",
      "The frame.append method is deprecated and will be removed from pandas in a future version. Use pandas.concat instead.\n",
      "\n",
      "C:\\Users\\j.muessel\\Miniconda3\\envs\\pyenv\\lib\\site-packages\\emobpy\\consumption.py:413: FutureWarning:\n",
      "\n",
      "The frame.append method is deprecated and will be removed from pandas in a future version. Use pandas.concat instead.\n",
      "\n",
      "C:\\Users\\j.muessel\\Miniconda3\\envs\\pyenv\\lib\\site-packages\\emobpy\\consumption.py:413: FutureWarning:\n",
      "\n",
      "The frame.append method is deprecated and will be removed from pandas in a future version. Use pandas.concat instead.\n",
      "\n",
      "C:\\Users\\j.muessel\\Miniconda3\\envs\\pyenv\\lib\\site-packages\\emobpy\\consumption.py:413: FutureWarning:\n",
      "\n",
      "The frame.append method is deprecated and will be removed from pandas in a future version. Use pandas.concat instead.\n",
      "\n",
      "C:\\Users\\j.muessel\\Miniconda3\\envs\\pyenv\\lib\\site-packages\\emobpy\\consumption.py:413: FutureWarning:\n",
      "\n",
      "The frame.append method is deprecated and will be removed from pandas in a future version. Use pandas.concat instead.\n",
      "\n",
      "C:\\Users\\j.muessel\\Miniconda3\\envs\\pyenv\\lib\\site-packages\\emobpy\\consumption.py:413: FutureWarning:\n",
      "\n",
      "The frame.append method is deprecated and will be removed from pandas in a future version. Use pandas.concat instead.\n",
      "\n",
      "C:\\Users\\j.muessel\\Miniconda3\\envs\\pyenv\\lib\\site-packages\\emobpy\\consumption.py:413: FutureWarning:\n",
      "\n",
      "The frame.append method is deprecated and will be removed from pandas in a future version. Use pandas.concat instead.\n",
      "\n",
      "C:\\Users\\j.muessel\\Miniconda3\\envs\\pyenv\\lib\\site-packages\\emobpy\\consumption.py:413: FutureWarning:\n",
      "\n",
      "The frame.append method is deprecated and will be removed from pandas in a future version. Use pandas.concat instead.\n",
      "\n",
      "C:\\Users\\j.muessel\\Miniconda3\\envs\\pyenv\\lib\\site-packages\\emobpy\\consumption.py:413: FutureWarning:\n",
      "\n",
      "The frame.append method is deprecated and will be removed from pandas in a future version. Use pandas.concat instead.\n",
      "\n",
      "C:\\Users\\j.muessel\\Miniconda3\\envs\\pyenv\\lib\\site-packages\\emobpy\\consumption.py:413: FutureWarning:\n",
      "\n",
      "The frame.append method is deprecated and will be removed from pandas in a future version. Use pandas.concat instead.\n",
      "\n",
      "C:\\Users\\j.muessel\\Miniconda3\\envs\\pyenv\\lib\\site-packages\\emobpy\\consumption.py:413: FutureWarning:\n",
      "\n",
      "The frame.append method is deprecated and will be removed from pandas in a future version. Use pandas.concat instead.\n",
      "\n",
      "C:\\Users\\j.muessel\\Miniconda3\\envs\\pyenv\\lib\\site-packages\\emobpy\\consumption.py:413: FutureWarning:\n",
      "\n",
      "The frame.append method is deprecated and will be removed from pandas in a future version. Use pandas.concat instead.\n",
      "\n",
      "C:\\Users\\j.muessel\\Miniconda3\\envs\\pyenv\\lib\\site-packages\\emobpy\\consumption.py:413: FutureWarning:\n",
      "\n",
      "The frame.append method is deprecated and will be removed from pandas in a future version. Use pandas.concat instead.\n",
      "\n",
      "C:\\Users\\j.muessel\\Miniconda3\\envs\\pyenv\\lib\\site-packages\\emobpy\\consumption.py:413: FutureWarning:\n",
      "\n",
      "The frame.append method is deprecated and will be removed from pandas in a future version. Use pandas.concat instead.\n",
      "\n",
      "C:\\Users\\j.muessel\\Miniconda3\\envs\\pyenv\\lib\\site-packages\\emobpy\\consumption.py:413: FutureWarning:\n",
      "\n",
      "The frame.append method is deprecated and will be removed from pandas in a future version. Use pandas.concat instead.\n",
      "\n",
      "C:\\Users\\j.muessel\\Miniconda3\\envs\\pyenv\\lib\\site-packages\\emobpy\\consumption.py:413: FutureWarning:\n",
      "\n",
      "The frame.append method is deprecated and will be removed from pandas in a future version. Use pandas.concat instead.\n",
      "\n",
      "C:\\Users\\j.muessel\\Miniconda3\\envs\\pyenv\\lib\\site-packages\\emobpy\\consumption.py:413: FutureWarning:\n",
      "\n",
      "The frame.append method is deprecated and will be removed from pandas in a future version. Use pandas.concat instead.\n",
      "\n",
      "C:\\Users\\j.muessel\\Miniconda3\\envs\\pyenv\\lib\\site-packages\\emobpy\\consumption.py:413: FutureWarning:\n",
      "\n",
      "The frame.append method is deprecated and will be removed from pandas in a future version. Use pandas.concat instead.\n",
      "\n",
      "C:\\Users\\j.muessel\\Miniconda3\\envs\\pyenv\\lib\\site-packages\\emobpy\\consumption.py:413: FutureWarning:\n",
      "\n",
      "The frame.append method is deprecated and will be removed from pandas in a future version. Use pandas.concat instead.\n",
      "\n",
      "C:\\Users\\j.muessel\\Miniconda3\\envs\\pyenv\\lib\\site-packages\\emobpy\\consumption.py:413: FutureWarning:\n",
      "\n",
      "The frame.append method is deprecated and will be removed from pandas in a future version. Use pandas.concat instead.\n",
      "\n",
      "C:\\Users\\j.muessel\\Miniconda3\\envs\\pyenv\\lib\\site-packages\\emobpy\\consumption.py:413: FutureWarning:\n",
      "\n",
      "The frame.append method is deprecated and will be removed from pandas in a future version. Use pandas.concat instead.\n",
      "\n",
      "C:\\Users\\j.muessel\\Miniconda3\\envs\\pyenv\\lib\\site-packages\\emobpy\\consumption.py:413: FutureWarning:\n",
      "\n",
      "The frame.append method is deprecated and will be removed from pandas in a future version. Use pandas.concat instead.\n",
      "\n",
      "C:\\Users\\j.muessel\\Miniconda3\\envs\\pyenv\\lib\\site-packages\\emobpy\\consumption.py:413: FutureWarning:\n",
      "\n",
      "The frame.append method is deprecated and will be removed from pandas in a future version. Use pandas.concat instead.\n",
      "\n",
      "C:\\Users\\j.muessel\\Miniconda3\\envs\\pyenv\\lib\\site-packages\\emobpy\\consumption.py:413: FutureWarning:\n",
      "\n",
      "The frame.append method is deprecated and will be removed from pandas in a future version. Use pandas.concat instead.\n",
      "\n"
     ]
    },
    {
     "name": "stdout",
     "output_type": "stream",
     "text": [
      "Parameter: power\n",
      "   brand                     model  year  value unit\n",
      "0  Tesla             Model S P100D  2016  568.0   kw\n",
      "1  Tesla  Model S Performance (SR)  2020  568.0   kw\n",
      "2  Tesla  Model S Performance (AC)  2019  568.0   kw\n",
      "3  Tesla   Model S P90DL Ludicrous  2016  568.0   kw\n",
      "4  Tesla   Model S P90DL Ludicrous  2015  568.0   kw\n",
      "5  Tesla              Model S P90D  2016  568.0   kw\n",
      "6  Tesla              Model S P90D  2015  568.0   kw\n",
      "7  Tesla   Model S P85DL Ludicrous  2015  568.0   kw\n",
      "8  Tesla  Model S P85D 193kW+375kW  2015  568.0   kw\n",
      "9  Tesla             Model S P100D  2018  568.0   kw\n",
      "Fallback value 0.9 added for missing battery_charging_eff parameter.\n",
      "Fallback value 0.95 added for missing battery_discharging_eff parameter.\n",
      "Fallback value 0.95 added for missing transmission_eff parameter.\n",
      "Fallback value 0.3 added for missing auxiliary_power parameter.\n",
      "Fallback value 3.5 added for missing cabin_volume parameter.\n",
      "Fallback value 1 added for missing hvac_cop_heating parameter.\n",
      "Fallback value 2 added for missing hvac_cop_cooling parameter.\n",
      "New profile running: BEV1_W53_d077b_Volkswagen_ID.3_2020_b1532\n"
     ]
    },
    {
     "name": "stderr",
     "output_type": "stream",
     "text": [
      "C:\\Users\\j.muessel\\Miniconda3\\envs\\pyenv\\lib\\site-packages\\emobpy\\consumption.py:413: FutureWarning:\n",
      "\n",
      "The frame.append method is deprecated and will be removed from pandas in a future version. Use pandas.concat instead.\n",
      "\n",
      "C:\\Users\\j.muessel\\Miniconda3\\envs\\pyenv\\lib\\site-packages\\emobpy\\consumption.py:413: FutureWarning:\n",
      "\n",
      "The frame.append method is deprecated and will be removed from pandas in a future version. Use pandas.concat instead.\n",
      "\n",
      "C:\\Users\\j.muessel\\Miniconda3\\envs\\pyenv\\lib\\site-packages\\emobpy\\consumption.py:413: FutureWarning:\n",
      "\n",
      "The frame.append method is deprecated and will be removed from pandas in a future version. Use pandas.concat instead.\n",
      "\n",
      "C:\\Users\\j.muessel\\Miniconda3\\envs\\pyenv\\lib\\site-packages\\emobpy\\consumption.py:413: FutureWarning:\n",
      "\n",
      "The frame.append method is deprecated and will be removed from pandas in a future version. Use pandas.concat instead.\n",
      "\n",
      "C:\\Users\\j.muessel\\Miniconda3\\envs\\pyenv\\lib\\site-packages\\emobpy\\consumption.py:413: FutureWarning:\n",
      "\n",
      "The frame.append method is deprecated and will be removed from pandas in a future version. Use pandas.concat instead.\n",
      "\n",
      "C:\\Users\\j.muessel\\Miniconda3\\envs\\pyenv\\lib\\site-packages\\emobpy\\consumption.py:413: FutureWarning:\n",
      "\n",
      "The frame.append method is deprecated and will be removed from pandas in a future version. Use pandas.concat instead.\n",
      "\n",
      "C:\\Users\\j.muessel\\Miniconda3\\envs\\pyenv\\lib\\site-packages\\emobpy\\consumption.py:413: FutureWarning:\n",
      "\n",
      "The frame.append method is deprecated and will be removed from pandas in a future version. Use pandas.concat instead.\n",
      "\n",
      "C:\\Users\\j.muessel\\Miniconda3\\envs\\pyenv\\lib\\site-packages\\emobpy\\consumption.py:413: FutureWarning:\n",
      "\n",
      "The frame.append method is deprecated and will be removed from pandas in a future version. Use pandas.concat instead.\n",
      "\n",
      "C:\\Users\\j.muessel\\Miniconda3\\envs\\pyenv\\lib\\site-packages\\emobpy\\consumption.py:413: FutureWarning:\n",
      "\n",
      "The frame.append method is deprecated and will be removed from pandas in a future version. Use pandas.concat instead.\n",
      "\n",
      "C:\\Users\\j.muessel\\Miniconda3\\envs\\pyenv\\lib\\site-packages\\emobpy\\consumption.py:413: FutureWarning:\n",
      "\n",
      "The frame.append method is deprecated and will be removed from pandas in a future version. Use pandas.concat instead.\n",
      "\n",
      "C:\\Users\\j.muessel\\Miniconda3\\envs\\pyenv\\lib\\site-packages\\emobpy\\consumption.py:413: FutureWarning:\n",
      "\n",
      "The frame.append method is deprecated and will be removed from pandas in a future version. Use pandas.concat instead.\n",
      "\n",
      "C:\\Users\\j.muessel\\Miniconda3\\envs\\pyenv\\lib\\site-packages\\emobpy\\consumption.py:413: FutureWarning:\n",
      "\n",
      "The frame.append method is deprecated and will be removed from pandas in a future version. Use pandas.concat instead.\n",
      "\n",
      "C:\\Users\\j.muessel\\Miniconda3\\envs\\pyenv\\lib\\site-packages\\emobpy\\consumption.py:413: FutureWarning:\n",
      "\n",
      "The frame.append method is deprecated and will be removed from pandas in a future version. Use pandas.concat instead.\n",
      "\n",
      "C:\\Users\\j.muessel\\Miniconda3\\envs\\pyenv\\lib\\site-packages\\emobpy\\consumption.py:413: FutureWarning:\n",
      "\n",
      "The frame.append method is deprecated and will be removed from pandas in a future version. Use pandas.concat instead.\n",
      "\n",
      "C:\\Users\\j.muessel\\Miniconda3\\envs\\pyenv\\lib\\site-packages\\emobpy\\consumption.py:413: FutureWarning:\n",
      "\n",
      "The frame.append method is deprecated and will be removed from pandas in a future version. Use pandas.concat instead.\n",
      "\n",
      "C:\\Users\\j.muessel\\Miniconda3\\envs\\pyenv\\lib\\site-packages\\emobpy\\consumption.py:413: FutureWarning:\n",
      "\n",
      "The frame.append method is deprecated and will be removed from pandas in a future version. Use pandas.concat instead.\n",
      "\n",
      "C:\\Users\\j.muessel\\Miniconda3\\envs\\pyenv\\lib\\site-packages\\emobpy\\consumption.py:413: FutureWarning:\n",
      "\n",
      "The frame.append method is deprecated and will be removed from pandas in a future version. Use pandas.concat instead.\n",
      "\n",
      "C:\\Users\\j.muessel\\Miniconda3\\envs\\pyenv\\lib\\site-packages\\emobpy\\consumption.py:413: FutureWarning:\n",
      "\n",
      "The frame.append method is deprecated and will be removed from pandas in a future version. Use pandas.concat instead.\n",
      "\n",
      "C:\\Users\\j.muessel\\Miniconda3\\envs\\pyenv\\lib\\site-packages\\emobpy\\consumption.py:413: FutureWarning:\n",
      "\n",
      "The frame.append method is deprecated and will be removed from pandas in a future version. Use pandas.concat instead.\n",
      "\n",
      "C:\\Users\\j.muessel\\Miniconda3\\envs\\pyenv\\lib\\site-packages\\emobpy\\consumption.py:413: FutureWarning:\n",
      "\n",
      "The frame.append method is deprecated and will be removed from pandas in a future version. Use pandas.concat instead.\n",
      "\n",
      "C:\\Users\\j.muessel\\Miniconda3\\envs\\pyenv\\lib\\site-packages\\emobpy\\consumption.py:413: FutureWarning:\n",
      "\n",
      "The frame.append method is deprecated and will be removed from pandas in a future version. Use pandas.concat instead.\n",
      "\n",
      "C:\\Users\\j.muessel\\Miniconda3\\envs\\pyenv\\lib\\site-packages\\emobpy\\consumption.py:413: FutureWarning:\n",
      "\n",
      "The frame.append method is deprecated and will be removed from pandas in a future version. Use pandas.concat instead.\n",
      "\n",
      "C:\\Users\\j.muessel\\Miniconda3\\envs\\pyenv\\lib\\site-packages\\emobpy\\consumption.py:413: FutureWarning:\n",
      "\n",
      "The frame.append method is deprecated and will be removed from pandas in a future version. Use pandas.concat instead.\n",
      "\n",
      "C:\\Users\\j.muessel\\Miniconda3\\envs\\pyenv\\lib\\site-packages\\emobpy\\consumption.py:413: FutureWarning:\n",
      "\n",
      "The frame.append method is deprecated and will be removed from pandas in a future version. Use pandas.concat instead.\n",
      "\n",
      "C:\\Users\\j.muessel\\Miniconda3\\envs\\pyenv\\lib\\site-packages\\emobpy\\consumption.py:413: FutureWarning:\n",
      "\n",
      "The frame.append method is deprecated and will be removed from pandas in a future version. Use pandas.concat instead.\n",
      "\n",
      "C:\\Users\\j.muessel\\Miniconda3\\envs\\pyenv\\lib\\site-packages\\emobpy\\consumption.py:413: FutureWarning:\n",
      "\n",
      "The frame.append method is deprecated and will be removed from pandas in a future version. Use pandas.concat instead.\n",
      "\n",
      "C:\\Users\\j.muessel\\Miniconda3\\envs\\pyenv\\lib\\site-packages\\emobpy\\consumption.py:413: FutureWarning:\n",
      "\n",
      "The frame.append method is deprecated and will be removed from pandas in a future version. Use pandas.concat instead.\n",
      "\n"
     ]
    },
    {
     "name": "stdout",
     "output_type": "stream",
     "text": [
      "temp Kelvin DE 2016 Timezone: Europe/Berlin\n",
      "pressure Pascal DE 2016 Timezone: Europe/Berlin\n",
      "dew_point Kelvin DE 2016 Timezone: Europe/Berlin\n",
      "Progress: 100% [664 / 664] trips\n",
      " \n",
      "See Log files\n",
      "C:\\Users\\j.muessel\\Documents\\GitHub\\EES\\Emobpy\\my_emobpy\\log\\emobpy.log\n",
      "soc_init:0.5 --> soc_end:1.0\n",
      "Profile done: BEV1_W53_d077b_Volkswagen_ID.3_2020_b1532_avai_45455\n",
      " \n",
      "See Log files\n",
      "C:\\Users\\j.muessel\\Documents\\GitHub\\EES\\Emobpy\\my_emobpy\\log\\emobpy.log\n",
      "Profile done: BEV1_W53_d077b_Volkswagen_ID.3_2020_b1532_avai_45455_immediate_57829\n",
      "Creation Successful:True\n",
      "Profile done: BEV1_W53_d077b_Volkswagen_ID.3_2020_b1532_avai_45455_balanced_d8811\n",
      "Creation Successful:True\n",
      "Profile done: BEV1_W53_d077b_Volkswagen_ID.3_2020_b1532_avai_45455_from_0_to_24_at_home_72669_FAIL\n",
      "Creation Successful:False\n",
      "Profile done: BEV1_W53_d077b_Volkswagen_ID.3_2020_b1532_avai_45455_from_23_to_8_at_any_ac97a_FAIL\n",
      "Creation Successful:False\n",
      "New profile running: BEV1_W53_037ff\n",
      "Progress: 10% [37 / 365] days"
     ]
    },
    {
     "name": "stderr",
     "output_type": "stream",
     "text": [
      "C:\\Users\\j.muessel\\Miniconda3\\envs\\pyenv\\lib\\site-packages\\emobpy\\mobility.py:1187: FutureWarning:\n",
      "\n",
      "The frame.append method is deprecated and will be removed from pandas in a future version. Use pandas.concat instead.\n",
      "\n"
     ]
    },
    {
     "name": "stdout",
     "output_type": "stream",
     "text": [
      "Progress: 11% [42 / 365] days"
     ]
    },
    {
     "name": "stderr",
     "output_type": "stream",
     "text": [
      "C:\\Users\\j.muessel\\Miniconda3\\envs\\pyenv\\lib\\site-packages\\emobpy\\mobility.py:1187: FutureWarning:\n",
      "\n",
      "The frame.append method is deprecated and will be removed from pandas in a future version. Use pandas.concat instead.\n",
      "\n",
      "C:\\Users\\j.muessel\\Miniconda3\\envs\\pyenv\\lib\\site-packages\\emobpy\\mobility.py:1187: FutureWarning:\n",
      "\n",
      "The frame.append method is deprecated and will be removed from pandas in a future version. Use pandas.concat instead.\n",
      "\n",
      "C:\\Users\\j.muessel\\Miniconda3\\envs\\pyenv\\lib\\site-packages\\emobpy\\mobility.py:1187: FutureWarning:\n",
      "\n",
      "The frame.append method is deprecated and will be removed from pandas in a future version. Use pandas.concat instead.\n",
      "\n",
      "C:\\Users\\j.muessel\\Miniconda3\\envs\\pyenv\\lib\\site-packages\\emobpy\\mobility.py:1187: FutureWarning:\n",
      "\n",
      "The frame.append method is deprecated and will be removed from pandas in a future version. Use pandas.concat instead.\n",
      "\n",
      "C:\\Users\\j.muessel\\Miniconda3\\envs\\pyenv\\lib\\site-packages\\emobpy\\mobility.py:1187: FutureWarning:\n",
      "\n",
      "The frame.append method is deprecated and will be removed from pandas in a future version. Use pandas.concat instead.\n",
      "\n"
     ]
    },
    {
     "name": "stdout",
     "output_type": "stream",
     "text": [
      "Progress: 12% [47 / 365] days"
     ]
    },
    {
     "name": "stderr",
     "output_type": "stream",
     "text": [
      "C:\\Users\\j.muessel\\Miniconda3\\envs\\pyenv\\lib\\site-packages\\emobpy\\mobility.py:1187: FutureWarning:\n",
      "\n",
      "The frame.append method is deprecated and will be removed from pandas in a future version. Use pandas.concat instead.\n",
      "\n",
      "C:\\Users\\j.muessel\\Miniconda3\\envs\\pyenv\\lib\\site-packages\\emobpy\\mobility.py:1187: FutureWarning:\n",
      "\n",
      "The frame.append method is deprecated and will be removed from pandas in a future version. Use pandas.concat instead.\n",
      "\n",
      "C:\\Users\\j.muessel\\Miniconda3\\envs\\pyenv\\lib\\site-packages\\emobpy\\mobility.py:1187: FutureWarning:\n",
      "\n",
      "The frame.append method is deprecated and will be removed from pandas in a future version. Use pandas.concat instead.\n",
      "\n",
      "C:\\Users\\j.muessel\\Miniconda3\\envs\\pyenv\\lib\\site-packages\\emobpy\\mobility.py:1187: FutureWarning:\n",
      "\n",
      "The frame.append method is deprecated and will be removed from pandas in a future version. Use pandas.concat instead.\n",
      "\n",
      "C:\\Users\\j.muessel\\Miniconda3\\envs\\pyenv\\lib\\site-packages\\emobpy\\mobility.py:1187: FutureWarning:\n",
      "\n",
      "The frame.append method is deprecated and will be removed from pandas in a future version. Use pandas.concat instead.\n",
      "\n"
     ]
    },
    {
     "name": "stdout",
     "output_type": "stream",
     "text": [
      "Progress: 14% [53 / 365] days"
     ]
    },
    {
     "name": "stderr",
     "output_type": "stream",
     "text": [
      "C:\\Users\\j.muessel\\Miniconda3\\envs\\pyenv\\lib\\site-packages\\emobpy\\mobility.py:1187: FutureWarning:\n",
      "\n",
      "The frame.append method is deprecated and will be removed from pandas in a future version. Use pandas.concat instead.\n",
      "\n"
     ]
    },
    {
     "name": "stdout",
     "output_type": "stream",
     "text": [
      "Progress: 16% [62 / 365] days"
     ]
    },
    {
     "name": "stderr",
     "output_type": "stream",
     "text": [
      "C:\\Users\\j.muessel\\Miniconda3\\envs\\pyenv\\lib\\site-packages\\emobpy\\mobility.py:1187: FutureWarning:\n",
      "\n",
      "The frame.append method is deprecated and will be removed from pandas in a future version. Use pandas.concat instead.\n",
      "\n"
     ]
    },
    {
     "name": "stdout",
     "output_type": "stream",
     "text": [
      "Progress: 18% [68 / 365] days"
     ]
    },
    {
     "name": "stderr",
     "output_type": "stream",
     "text": [
      "C:\\Users\\j.muessel\\Miniconda3\\envs\\pyenv\\lib\\site-packages\\emobpy\\mobility.py:1187: FutureWarning:\n",
      "\n",
      "The frame.append method is deprecated and will be removed from pandas in a future version. Use pandas.concat instead.\n",
      "\n",
      "C:\\Users\\j.muessel\\Miniconda3\\envs\\pyenv\\lib\\site-packages\\emobpy\\mobility.py:1187: FutureWarning:\n",
      "\n",
      "The frame.append method is deprecated and will be removed from pandas in a future version. Use pandas.concat instead.\n",
      "\n"
     ]
    },
    {
     "name": "stdout",
     "output_type": "stream",
     "text": [
      "Progress: 23% [86 / 365] days"
     ]
    },
    {
     "name": "stderr",
     "output_type": "stream",
     "text": [
      "C:\\Users\\j.muessel\\Miniconda3\\envs\\pyenv\\lib\\site-packages\\emobpy\\mobility.py:1187: FutureWarning:\n",
      "\n",
      "The frame.append method is deprecated and will be removed from pandas in a future version. Use pandas.concat instead.\n",
      "\n",
      "C:\\Users\\j.muessel\\Miniconda3\\envs\\pyenv\\lib\\site-packages\\emobpy\\mobility.py:1187: FutureWarning:\n",
      "\n",
      "The frame.append method is deprecated and will be removed from pandas in a future version. Use pandas.concat instead.\n",
      "\n",
      "C:\\Users\\j.muessel\\Miniconda3\\envs\\pyenv\\lib\\site-packages\\emobpy\\mobility.py:1187: FutureWarning:\n",
      "\n",
      "The frame.append method is deprecated and will be removed from pandas in a future version. Use pandas.concat instead.\n",
      "\n"
     ]
    },
    {
     "name": "stdout",
     "output_type": "stream",
     "text": [
      "Progress: 24% [88 / 365] days"
     ]
    },
    {
     "name": "stderr",
     "output_type": "stream",
     "text": [
      "C:\\Users\\j.muessel\\Miniconda3\\envs\\pyenv\\lib\\site-packages\\emobpy\\mobility.py:1187: FutureWarning:\n",
      "\n",
      "The frame.append method is deprecated and will be removed from pandas in a future version. Use pandas.concat instead.\n",
      "\n",
      "C:\\Users\\j.muessel\\Miniconda3\\envs\\pyenv\\lib\\site-packages\\emobpy\\mobility.py:1187: FutureWarning:\n",
      "\n",
      "The frame.append method is deprecated and will be removed from pandas in a future version. Use pandas.concat instead.\n",
      "\n"
     ]
    },
    {
     "name": "stdout",
     "output_type": "stream",
     "text": [
      "Progress: 24% [90 / 365] days"
     ]
    },
    {
     "name": "stderr",
     "output_type": "stream",
     "text": [
      "C:\\Users\\j.muessel\\Miniconda3\\envs\\pyenv\\lib\\site-packages\\emobpy\\mobility.py:1187: FutureWarning:\n",
      "\n",
      "The frame.append method is deprecated and will be removed from pandas in a future version. Use pandas.concat instead.\n",
      "\n",
      "C:\\Users\\j.muessel\\Miniconda3\\envs\\pyenv\\lib\\site-packages\\emobpy\\mobility.py:1187: FutureWarning:\n",
      "\n",
      "The frame.append method is deprecated and will be removed from pandas in a future version. Use pandas.concat instead.\n",
      "\n"
     ]
    },
    {
     "name": "stdout",
     "output_type": "stream",
     "text": [
      "Progress: 27% [101 / 365] days"
     ]
    },
    {
     "name": "stderr",
     "output_type": "stream",
     "text": [
      "C:\\Users\\j.muessel\\Miniconda3\\envs\\pyenv\\lib\\site-packages\\emobpy\\mobility.py:1187: FutureWarning:\n",
      "\n",
      "The frame.append method is deprecated and will be removed from pandas in a future version. Use pandas.concat instead.\n",
      "\n",
      "C:\\Users\\j.muessel\\Miniconda3\\envs\\pyenv\\lib\\site-packages\\emobpy\\mobility.py:1187: FutureWarning:\n",
      "\n",
      "The frame.append method is deprecated and will be removed from pandas in a future version. Use pandas.concat instead.\n",
      "\n",
      "C:\\Users\\j.muessel\\Miniconda3\\envs\\pyenv\\lib\\site-packages\\emobpy\\mobility.py:1187: FutureWarning:\n",
      "\n",
      "The frame.append method is deprecated and will be removed from pandas in a future version. Use pandas.concat instead.\n",
      "\n",
      "C:\\Users\\j.muessel\\Miniconda3\\envs\\pyenv\\lib\\site-packages\\emobpy\\mobility.py:1187: FutureWarning:\n",
      "\n",
      "The frame.append method is deprecated and will be removed from pandas in a future version. Use pandas.concat instead.\n",
      "\n"
     ]
    },
    {
     "name": "stdout",
     "output_type": "stream",
     "text": [
      "Progress: 28% [105 / 365] days"
     ]
    },
    {
     "name": "stderr",
     "output_type": "stream",
     "text": [
      "C:\\Users\\j.muessel\\Miniconda3\\envs\\pyenv\\lib\\site-packages\\emobpy\\mobility.py:1187: FutureWarning:\n",
      "\n",
      "The frame.append method is deprecated and will be removed from pandas in a future version. Use pandas.concat instead.\n",
      "\n"
     ]
    },
    {
     "name": "stdout",
     "output_type": "stream",
     "text": [
      "Progress: 29% [107 / 365] days"
     ]
    },
    {
     "name": "stderr",
     "output_type": "stream",
     "text": [
      "C:\\Users\\j.muessel\\Miniconda3\\envs\\pyenv\\lib\\site-packages\\emobpy\\mobility.py:1187: FutureWarning:\n",
      "\n",
      "The frame.append method is deprecated and will be removed from pandas in a future version. Use pandas.concat instead.\n",
      "\n",
      "C:\\Users\\j.muessel\\Miniconda3\\envs\\pyenv\\lib\\site-packages\\emobpy\\mobility.py:1187: FutureWarning:\n",
      "\n",
      "The frame.append method is deprecated and will be removed from pandas in a future version. Use pandas.concat instead.\n",
      "\n",
      "C:\\Users\\j.muessel\\Miniconda3\\envs\\pyenv\\lib\\site-packages\\emobpy\\mobility.py:1187: FutureWarning:\n",
      "\n",
      "The frame.append method is deprecated and will be removed from pandas in a future version. Use pandas.concat instead.\n",
      "\n",
      "C:\\Users\\j.muessel\\Miniconda3\\envs\\pyenv\\lib\\site-packages\\emobpy\\mobility.py:1187: FutureWarning:\n",
      "\n",
      "The frame.append method is deprecated and will be removed from pandas in a future version. Use pandas.concat instead.\n",
      "\n"
     ]
    },
    {
     "name": "stdout",
     "output_type": "stream",
     "text": [
      "Progress: 30% [111 / 365] days"
     ]
    },
    {
     "name": "stderr",
     "output_type": "stream",
     "text": [
      "C:\\Users\\j.muessel\\Miniconda3\\envs\\pyenv\\lib\\site-packages\\emobpy\\mobility.py:1187: FutureWarning:\n",
      "\n",
      "The frame.append method is deprecated and will be removed from pandas in a future version. Use pandas.concat instead.\n",
      "\n",
      "C:\\Users\\j.muessel\\Miniconda3\\envs\\pyenv\\lib\\site-packages\\emobpy\\mobility.py:1187: FutureWarning:\n",
      "\n",
      "The frame.append method is deprecated and will be removed from pandas in a future version. Use pandas.concat instead.\n",
      "\n"
     ]
    },
    {
     "name": "stdout",
     "output_type": "stream",
     "text": [
      "Progress: 31% [114 / 365] days"
     ]
    },
    {
     "name": "stderr",
     "output_type": "stream",
     "text": [
      "C:\\Users\\j.muessel\\Miniconda3\\envs\\pyenv\\lib\\site-packages\\emobpy\\mobility.py:1187: FutureWarning:\n",
      "\n",
      "The frame.append method is deprecated and will be removed from pandas in a future version. Use pandas.concat instead.\n",
      "\n",
      "C:\\Users\\j.muessel\\Miniconda3\\envs\\pyenv\\lib\\site-packages\\emobpy\\mobility.py:1187: FutureWarning:\n",
      "\n",
      "The frame.append method is deprecated and will be removed from pandas in a future version. Use pandas.concat instead.\n",
      "\n",
      "C:\\Users\\j.muessel\\Miniconda3\\envs\\pyenv\\lib\\site-packages\\emobpy\\mobility.py:1187: FutureWarning:\n",
      "\n",
      "The frame.append method is deprecated and will be removed from pandas in a future version. Use pandas.concat instead.\n",
      "\n",
      "C:\\Users\\j.muessel\\Miniconda3\\envs\\pyenv\\lib\\site-packages\\emobpy\\mobility.py:1187: FutureWarning:\n",
      "\n",
      "The frame.append method is deprecated and will be removed from pandas in a future version. Use pandas.concat instead.\n",
      "\n",
      "C:\\Users\\j.muessel\\Miniconda3\\envs\\pyenv\\lib\\site-packages\\emobpy\\mobility.py:1187: FutureWarning:\n",
      "\n",
      "The frame.append method is deprecated and will be removed from pandas in a future version. Use pandas.concat instead.\n",
      "\n",
      "C:\\Users\\j.muessel\\Miniconda3\\envs\\pyenv\\lib\\site-packages\\emobpy\\mobility.py:1187: FutureWarning:\n",
      "\n",
      "The frame.append method is deprecated and will be removed from pandas in a future version. Use pandas.concat instead.\n",
      "\n"
     ]
    },
    {
     "name": "stdout",
     "output_type": "stream",
     "text": [
      "Progress: 31% [116 / 365] days"
     ]
    },
    {
     "name": "stderr",
     "output_type": "stream",
     "text": [
      "C:\\Users\\j.muessel\\Miniconda3\\envs\\pyenv\\lib\\site-packages\\emobpy\\mobility.py:1187: FutureWarning:\n",
      "\n",
      "The frame.append method is deprecated and will be removed from pandas in a future version. Use pandas.concat instead.\n",
      "\n",
      "C:\\Users\\j.muessel\\Miniconda3\\envs\\pyenv\\lib\\site-packages\\emobpy\\mobility.py:1187: FutureWarning:\n",
      "\n",
      "The frame.append method is deprecated and will be removed from pandas in a future version. Use pandas.concat instead.\n",
      "\n",
      "C:\\Users\\j.muessel\\Miniconda3\\envs\\pyenv\\lib\\site-packages\\emobpy\\mobility.py:1187: FutureWarning:\n",
      "\n",
      "The frame.append method is deprecated and will be removed from pandas in a future version. Use pandas.concat instead.\n",
      "\n",
      "C:\\Users\\j.muessel\\Miniconda3\\envs\\pyenv\\lib\\site-packages\\emobpy\\mobility.py:1187: FutureWarning:\n",
      "\n",
      "The frame.append method is deprecated and will be removed from pandas in a future version. Use pandas.concat instead.\n",
      "\n"
     ]
    },
    {
     "name": "stdout",
     "output_type": "stream",
     "text": [
      "Progress: 38% [142 / 365] days"
     ]
    },
    {
     "name": "stderr",
     "output_type": "stream",
     "text": [
      "C:\\Users\\j.muessel\\Miniconda3\\envs\\pyenv\\lib\\site-packages\\emobpy\\mobility.py:1187: FutureWarning:\n",
      "\n",
      "The frame.append method is deprecated and will be removed from pandas in a future version. Use pandas.concat instead.\n",
      "\n",
      "C:\\Users\\j.muessel\\Miniconda3\\envs\\pyenv\\lib\\site-packages\\emobpy\\mobility.py:1187: FutureWarning:\n",
      "\n",
      "The frame.append method is deprecated and will be removed from pandas in a future version. Use pandas.concat instead.\n",
      "\n"
     ]
    },
    {
     "name": "stdout",
     "output_type": "stream",
     "text": [
      "Progress: 45% [165 / 365] days"
     ]
    },
    {
     "name": "stderr",
     "output_type": "stream",
     "text": [
      "C:\\Users\\j.muessel\\Miniconda3\\envs\\pyenv\\lib\\site-packages\\emobpy\\mobility.py:1187: FutureWarning:\n",
      "\n",
      "The frame.append method is deprecated and will be removed from pandas in a future version. Use pandas.concat instead.\n",
      "\n",
      "C:\\Users\\j.muessel\\Miniconda3\\envs\\pyenv\\lib\\site-packages\\emobpy\\mobility.py:1187: FutureWarning:\n",
      "\n",
      "The frame.append method is deprecated and will be removed from pandas in a future version. Use pandas.concat instead.\n",
      "\n",
      "C:\\Users\\j.muessel\\Miniconda3\\envs\\pyenv\\lib\\site-packages\\emobpy\\mobility.py:1187: FutureWarning:\n",
      "\n",
      "The frame.append method is deprecated and will be removed from pandas in a future version. Use pandas.concat instead.\n",
      "\n",
      "C:\\Users\\j.muessel\\Miniconda3\\envs\\pyenv\\lib\\site-packages\\emobpy\\mobility.py:1187: FutureWarning:\n",
      "\n",
      "The frame.append method is deprecated and will be removed from pandas in a future version. Use pandas.concat instead.\n",
      "\n",
      "C:\\Users\\j.muessel\\Miniconda3\\envs\\pyenv\\lib\\site-packages\\emobpy\\mobility.py:1187: FutureWarning:\n",
      "\n",
      "The frame.append method is deprecated and will be removed from pandas in a future version. Use pandas.concat instead.\n",
      "\n"
     ]
    },
    {
     "name": "stdout",
     "output_type": "stream",
     "text": [
      "Progress: 46% [171 / 365] days"
     ]
    },
    {
     "name": "stderr",
     "output_type": "stream",
     "text": [
      "C:\\Users\\j.muessel\\Miniconda3\\envs\\pyenv\\lib\\site-packages\\emobpy\\mobility.py:1187: FutureWarning:\n",
      "\n",
      "The frame.append method is deprecated and will be removed from pandas in a future version. Use pandas.concat instead.\n",
      "\n",
      "C:\\Users\\j.muessel\\Miniconda3\\envs\\pyenv\\lib\\site-packages\\emobpy\\mobility.py:1187: FutureWarning:\n",
      "\n",
      "The frame.append method is deprecated and will be removed from pandas in a future version. Use pandas.concat instead.\n",
      "\n"
     ]
    },
    {
     "name": "stdout",
     "output_type": "stream",
     "text": [
      "Progress: 51% [188 / 365] days"
     ]
    },
    {
     "name": "stderr",
     "output_type": "stream",
     "text": [
      "C:\\Users\\j.muessel\\Miniconda3\\envs\\pyenv\\lib\\site-packages\\emobpy\\mobility.py:1187: FutureWarning:\n",
      "\n",
      "The frame.append method is deprecated and will be removed from pandas in a future version. Use pandas.concat instead.\n",
      "\n"
     ]
    },
    {
     "name": "stdout",
     "output_type": "stream",
     "text": [
      "Progress: 77% [282 / 365] days"
     ]
    },
    {
     "name": "stderr",
     "output_type": "stream",
     "text": [
      "C:\\Users\\j.muessel\\Miniconda3\\envs\\pyenv\\lib\\site-packages\\emobpy\\mobility.py:1187: FutureWarning:\n",
      "\n",
      "The frame.append method is deprecated and will be removed from pandas in a future version. Use pandas.concat instead.\n",
      "\n",
      "C:\\Users\\j.muessel\\Miniconda3\\envs\\pyenv\\lib\\site-packages\\emobpy\\mobility.py:1187: FutureWarning:\n",
      "\n",
      "The frame.append method is deprecated and will be removed from pandas in a future version. Use pandas.concat instead.\n",
      "\n"
     ]
    },
    {
     "name": "stdout",
     "output_type": "stream",
     "text": [
      "Progress: 79% [289 / 365] days"
     ]
    },
    {
     "name": "stderr",
     "output_type": "stream",
     "text": [
      "C:\\Users\\j.muessel\\Miniconda3\\envs\\pyenv\\lib\\site-packages\\emobpy\\mobility.py:1187: FutureWarning:\n",
      "\n",
      "The frame.append method is deprecated and will be removed from pandas in a future version. Use pandas.concat instead.\n",
      "\n"
     ]
    },
    {
     "name": "stdout",
     "output_type": "stream",
     "text": [
      "Progress: 81% [298 / 365] days"
     ]
    },
    {
     "name": "stderr",
     "output_type": "stream",
     "text": [
      "C:\\Users\\j.muessel\\Miniconda3\\envs\\pyenv\\lib\\site-packages\\emobpy\\mobility.py:1187: FutureWarning:\n",
      "\n",
      "The frame.append method is deprecated and will be removed from pandas in a future version. Use pandas.concat instead.\n",
      "\n"
     ]
    },
    {
     "name": "stdout",
     "output_type": "stream",
     "text": [
      "Progress: 88% [324 / 365] days"
     ]
    },
    {
     "name": "stderr",
     "output_type": "stream",
     "text": [
      "C:\\Users\\j.muessel\\Miniconda3\\envs\\pyenv\\lib\\site-packages\\emobpy\\mobility.py:1187: FutureWarning:\n",
      "\n",
      "The frame.append method is deprecated and will be removed from pandas in a future version. Use pandas.concat instead.\n",
      "\n",
      "C:\\Users\\j.muessel\\Miniconda3\\envs\\pyenv\\lib\\site-packages\\emobpy\\mobility.py:1187: FutureWarning:\n",
      "\n",
      "The frame.append method is deprecated and will be removed from pandas in a future version. Use pandas.concat instead.\n",
      "\n",
      "C:\\Users\\j.muessel\\Miniconda3\\envs\\pyenv\\lib\\site-packages\\emobpy\\mobility.py:1187: FutureWarning:\n",
      "\n",
      "The frame.append method is deprecated and will be removed from pandas in a future version. Use pandas.concat instead.\n",
      "\n",
      "C:\\Users\\j.muessel\\Miniconda3\\envs\\pyenv\\lib\\site-packages\\emobpy\\mobility.py:1187: FutureWarning:\n",
      "\n",
      "The frame.append method is deprecated and will be removed from pandas in a future version. Use pandas.concat instead.\n",
      "\n"
     ]
    },
    {
     "name": "stdout",
     "output_type": "stream",
     "text": [
      "Progress: 89% [327 / 365] days"
     ]
    },
    {
     "name": "stderr",
     "output_type": "stream",
     "text": [
      "C:\\Users\\j.muessel\\Miniconda3\\envs\\pyenv\\lib\\site-packages\\emobpy\\mobility.py:1187: FutureWarning:\n",
      "\n",
      "The frame.append method is deprecated and will be removed from pandas in a future version. Use pandas.concat instead.\n",
      "\n"
     ]
    },
    {
     "name": "stdout",
     "output_type": "stream",
     "text": [
      "Progress: 98% [359 / 365] days"
     ]
    },
    {
     "name": "stderr",
     "output_type": "stream",
     "text": [
      "C:\\Users\\j.muessel\\Miniconda3\\envs\\pyenv\\lib\\site-packages\\emobpy\\mobility.py:1187: FutureWarning:\n",
      "\n",
      "The frame.append method is deprecated and will be removed from pandas in a future version. Use pandas.concat instead.\n",
      "\n"
     ]
    },
    {
     "name": "stdout",
     "output_type": "stream",
     "text": [
      "\r",
      "Progress: 98% [360 / 365] days"
     ]
    },
    {
     "name": "stderr",
     "output_type": "stream",
     "text": [
      "C:\\Users\\j.muessel\\Miniconda3\\envs\\pyenv\\lib\\site-packages\\emobpy\\mobility.py:1187: FutureWarning:\n",
      "\n",
      "The frame.append method is deprecated and will be removed from pandas in a future version. Use pandas.concat instead.\n",
      "\n",
      "C:\\Users\\j.muessel\\Miniconda3\\envs\\pyenv\\lib\\site-packages\\emobpy\\mobility.py:1187: FutureWarning:\n",
      "\n",
      "The frame.append method is deprecated and will be removed from pandas in a future version. Use pandas.concat instead.\n",
      "\n",
      "C:\\Users\\j.muessel\\Miniconda3\\envs\\pyenv\\lib\\site-packages\\emobpy\\mobility.py:1187: FutureWarning:\n",
      "\n",
      "The frame.append method is deprecated and will be removed from pandas in a future version. Use pandas.concat instead.\n",
      "\n"
     ]
    },
    {
     "name": "stdout",
     "output_type": "stream",
     "text": [
      "\r",
      "Progress: 98% [361 / 365] days"
     ]
    },
    {
     "name": "stderr",
     "output_type": "stream",
     "text": [
      "C:\\Users\\j.muessel\\Miniconda3\\envs\\pyenv\\lib\\site-packages\\emobpy\\mobility.py:1187: FutureWarning:\n",
      "\n",
      "The frame.append method is deprecated and will be removed from pandas in a future version. Use pandas.concat instead.\n",
      "\n",
      "C:\\Users\\j.muessel\\Miniconda3\\envs\\pyenv\\lib\\site-packages\\emobpy\\mobility.py:1187: FutureWarning:\n",
      "\n",
      "The frame.append method is deprecated and will be removed from pandas in a future version. Use pandas.concat instead.\n",
      "\n",
      "C:\\Users\\j.muessel\\Miniconda3\\envs\\pyenv\\lib\\site-packages\\emobpy\\mobility.py:1187: FutureWarning:\n",
      "\n",
      "The frame.append method is deprecated and will be removed from pandas in a future version. Use pandas.concat instead.\n",
      "\n"
     ]
    },
    {
     "name": "stdout",
     "output_type": "stream",
     "text": [
      "Progress: 100% [365 / 365] days\n",
      "Profile done: BEV1_W53_037ff\n",
      "Elapsed time (min): 0.37\n",
      " \n",
      "See Log files\n",
      "C:\\Users\\j.muessel\\Documents\\GitHub\\EES\\Emobpy\\my_emobpy\\log\\emobpy.log\n"
     ]
    },
    {
     "name": "stderr",
     "output_type": "stream",
     "text": [
      "C:\\Users\\j.muessel\\Miniconda3\\envs\\pyenv\\lib\\site-packages\\emobpy\\consumption.py:413: FutureWarning:\n",
      "\n",
      "The frame.append method is deprecated and will be removed from pandas in a future version. Use pandas.concat instead.\n",
      "\n",
      "C:\\Users\\j.muessel\\Miniconda3\\envs\\pyenv\\lib\\site-packages\\emobpy\\consumption.py:413: FutureWarning:\n",
      "\n",
      "The frame.append method is deprecated and will be removed from pandas in a future version. Use pandas.concat instead.\n",
      "\n",
      "C:\\Users\\j.muessel\\Miniconda3\\envs\\pyenv\\lib\\site-packages\\emobpy\\consumption.py:413: FutureWarning:\n",
      "\n",
      "The frame.append method is deprecated and will be removed from pandas in a future version. Use pandas.concat instead.\n",
      "\n",
      "C:\\Users\\j.muessel\\Miniconda3\\envs\\pyenv\\lib\\site-packages\\emobpy\\consumption.py:413: FutureWarning:\n",
      "\n",
      "The frame.append method is deprecated and will be removed from pandas in a future version. Use pandas.concat instead.\n",
      "\n",
      "C:\\Users\\j.muessel\\Miniconda3\\envs\\pyenv\\lib\\site-packages\\emobpy\\consumption.py:413: FutureWarning:\n",
      "\n",
      "The frame.append method is deprecated and will be removed from pandas in a future version. Use pandas.concat instead.\n",
      "\n",
      "C:\\Users\\j.muessel\\Miniconda3\\envs\\pyenv\\lib\\site-packages\\emobpy\\consumption.py:413: FutureWarning:\n",
      "\n",
      "The frame.append method is deprecated and will be removed from pandas in a future version. Use pandas.concat instead.\n",
      "\n",
      "C:\\Users\\j.muessel\\Miniconda3\\envs\\pyenv\\lib\\site-packages\\emobpy\\consumption.py:413: FutureWarning:\n",
      "\n",
      "The frame.append method is deprecated and will be removed from pandas in a future version. Use pandas.concat instead.\n",
      "\n",
      "C:\\Users\\j.muessel\\Miniconda3\\envs\\pyenv\\lib\\site-packages\\emobpy\\consumption.py:413: FutureWarning:\n",
      "\n",
      "The frame.append method is deprecated and will be removed from pandas in a future version. Use pandas.concat instead.\n",
      "\n",
      "C:\\Users\\j.muessel\\Miniconda3\\envs\\pyenv\\lib\\site-packages\\emobpy\\consumption.py:413: FutureWarning:\n",
      "\n",
      "The frame.append method is deprecated and will be removed from pandas in a future version. Use pandas.concat instead.\n",
      "\n",
      "C:\\Users\\j.muessel\\Miniconda3\\envs\\pyenv\\lib\\site-packages\\emobpy\\consumption.py:413: FutureWarning:\n",
      "\n",
      "The frame.append method is deprecated and will be removed from pandas in a future version. Use pandas.concat instead.\n",
      "\n",
      "C:\\Users\\j.muessel\\Miniconda3\\envs\\pyenv\\lib\\site-packages\\emobpy\\consumption.py:413: FutureWarning:\n",
      "\n",
      "The frame.append method is deprecated and will be removed from pandas in a future version. Use pandas.concat instead.\n",
      "\n",
      "C:\\Users\\j.muessel\\Miniconda3\\envs\\pyenv\\lib\\site-packages\\emobpy\\consumption.py:413: FutureWarning:\n",
      "\n",
      "The frame.append method is deprecated and will be removed from pandas in a future version. Use pandas.concat instead.\n",
      "\n",
      "C:\\Users\\j.muessel\\Miniconda3\\envs\\pyenv\\lib\\site-packages\\emobpy\\consumption.py:413: FutureWarning:\n",
      "\n",
      "The frame.append method is deprecated and will be removed from pandas in a future version. Use pandas.concat instead.\n",
      "\n",
      "C:\\Users\\j.muessel\\Miniconda3\\envs\\pyenv\\lib\\site-packages\\emobpy\\consumption.py:413: FutureWarning:\n",
      "\n",
      "The frame.append method is deprecated and will be removed from pandas in a future version. Use pandas.concat instead.\n",
      "\n",
      "C:\\Users\\j.muessel\\Miniconda3\\envs\\pyenv\\lib\\site-packages\\emobpy\\consumption.py:413: FutureWarning:\n",
      "\n",
      "The frame.append method is deprecated and will be removed from pandas in a future version. Use pandas.concat instead.\n",
      "\n",
      "C:\\Users\\j.muessel\\Miniconda3\\envs\\pyenv\\lib\\site-packages\\emobpy\\consumption.py:413: FutureWarning:\n",
      "\n",
      "The frame.append method is deprecated and will be removed from pandas in a future version. Use pandas.concat instead.\n",
      "\n",
      "C:\\Users\\j.muessel\\Miniconda3\\envs\\pyenv\\lib\\site-packages\\emobpy\\consumption.py:413: FutureWarning:\n",
      "\n",
      "The frame.append method is deprecated and will be removed from pandas in a future version. Use pandas.concat instead.\n",
      "\n",
      "C:\\Users\\j.muessel\\Miniconda3\\envs\\pyenv\\lib\\site-packages\\emobpy\\consumption.py:413: FutureWarning:\n",
      "\n",
      "The frame.append method is deprecated and will be removed from pandas in a future version. Use pandas.concat instead.\n",
      "\n",
      "C:\\Users\\j.muessel\\Miniconda3\\envs\\pyenv\\lib\\site-packages\\emobpy\\consumption.py:413: FutureWarning:\n",
      "\n",
      "The frame.append method is deprecated and will be removed from pandas in a future version. Use pandas.concat instead.\n",
      "\n",
      "C:\\Users\\j.muessel\\Miniconda3\\envs\\pyenv\\lib\\site-packages\\emobpy\\consumption.py:413: FutureWarning:\n",
      "\n",
      "The frame.append method is deprecated and will be removed from pandas in a future version. Use pandas.concat instead.\n",
      "\n",
      "C:\\Users\\j.muessel\\Miniconda3\\envs\\pyenv\\lib\\site-packages\\emobpy\\consumption.py:413: FutureWarning:\n",
      "\n",
      "The frame.append method is deprecated and will be removed from pandas in a future version. Use pandas.concat instead.\n",
      "\n",
      "C:\\Users\\j.muessel\\Miniconda3\\envs\\pyenv\\lib\\site-packages\\emobpy\\consumption.py:413: FutureWarning:\n",
      "\n",
      "The frame.append method is deprecated and will be removed from pandas in a future version. Use pandas.concat instead.\n",
      "\n",
      "C:\\Users\\j.muessel\\Miniconda3\\envs\\pyenv\\lib\\site-packages\\emobpy\\consumption.py:413: FutureWarning:\n",
      "\n",
      "The frame.append method is deprecated and will be removed from pandas in a future version. Use pandas.concat instead.\n",
      "\n",
      "C:\\Users\\j.muessel\\Miniconda3\\envs\\pyenv\\lib\\site-packages\\emobpy\\consumption.py:413: FutureWarning:\n",
      "\n",
      "The frame.append method is deprecated and will be removed from pandas in a future version. Use pandas.concat instead.\n",
      "\n",
      "C:\\Users\\j.muessel\\Miniconda3\\envs\\pyenv\\lib\\site-packages\\emobpy\\consumption.py:413: FutureWarning:\n",
      "\n",
      "The frame.append method is deprecated and will be removed from pandas in a future version. Use pandas.concat instead.\n",
      "\n",
      "C:\\Users\\j.muessel\\Miniconda3\\envs\\pyenv\\lib\\site-packages\\emobpy\\consumption.py:413: FutureWarning:\n",
      "\n",
      "The frame.append method is deprecated and will be removed from pandas in a future version. Use pandas.concat instead.\n",
      "\n",
      "C:\\Users\\j.muessel\\Miniconda3\\envs\\pyenv\\lib\\site-packages\\emobpy\\consumption.py:413: FutureWarning:\n",
      "\n",
      "The frame.append method is deprecated and will be removed from pandas in a future version. Use pandas.concat instead.\n",
      "\n",
      "C:\\Users\\j.muessel\\Miniconda3\\envs\\pyenv\\lib\\site-packages\\emobpy\\consumption.py:413: FutureWarning:\n",
      "\n",
      "The frame.append method is deprecated and will be removed from pandas in a future version. Use pandas.concat instead.\n",
      "\n",
      "C:\\Users\\j.muessel\\Miniconda3\\envs\\pyenv\\lib\\site-packages\\emobpy\\consumption.py:413: FutureWarning:\n",
      "\n",
      "The frame.append method is deprecated and will be removed from pandas in a future version. Use pandas.concat instead.\n",
      "\n",
      "C:\\Users\\j.muessel\\Miniconda3\\envs\\pyenv\\lib\\site-packages\\emobpy\\consumption.py:413: FutureWarning:\n",
      "\n",
      "The frame.append method is deprecated and will be removed from pandas in a future version. Use pandas.concat instead.\n",
      "\n",
      "C:\\Users\\j.muessel\\Miniconda3\\envs\\pyenv\\lib\\site-packages\\emobpy\\consumption.py:413: FutureWarning:\n",
      "\n",
      "The frame.append method is deprecated and will be removed from pandas in a future version. Use pandas.concat instead.\n",
      "\n",
      "C:\\Users\\j.muessel\\Miniconda3\\envs\\pyenv\\lib\\site-packages\\emobpy\\consumption.py:413: FutureWarning:\n",
      "\n",
      "The frame.append method is deprecated and will be removed from pandas in a future version. Use pandas.concat instead.\n",
      "\n",
      "C:\\Users\\j.muessel\\Miniconda3\\envs\\pyenv\\lib\\site-packages\\emobpy\\consumption.py:413: FutureWarning:\n",
      "\n",
      "The frame.append method is deprecated and will be removed from pandas in a future version. Use pandas.concat instead.\n",
      "\n",
      "C:\\Users\\j.muessel\\Miniconda3\\envs\\pyenv\\lib\\site-packages\\emobpy\\consumption.py:413: FutureWarning:\n",
      "\n",
      "The frame.append method is deprecated and will be removed from pandas in a future version. Use pandas.concat instead.\n",
      "\n",
      "C:\\Users\\j.muessel\\Miniconda3\\envs\\pyenv\\lib\\site-packages\\emobpy\\consumption.py:413: FutureWarning:\n",
      "\n",
      "The frame.append method is deprecated and will be removed from pandas in a future version. Use pandas.concat instead.\n",
      "\n",
      "C:\\Users\\j.muessel\\Miniconda3\\envs\\pyenv\\lib\\site-packages\\emobpy\\consumption.py:413: FutureWarning:\n",
      "\n",
      "The frame.append method is deprecated and will be removed from pandas in a future version. Use pandas.concat instead.\n",
      "\n",
      "C:\\Users\\j.muessel\\Miniconda3\\envs\\pyenv\\lib\\site-packages\\emobpy\\consumption.py:413: FutureWarning:\n",
      "\n",
      "The frame.append method is deprecated and will be removed from pandas in a future version. Use pandas.concat instead.\n",
      "\n",
      "C:\\Users\\j.muessel\\Miniconda3\\envs\\pyenv\\lib\\site-packages\\emobpy\\consumption.py:413: FutureWarning:\n",
      "\n",
      "The frame.append method is deprecated and will be removed from pandas in a future version. Use pandas.concat instead.\n",
      "\n",
      "C:\\Users\\j.muessel\\Miniconda3\\envs\\pyenv\\lib\\site-packages\\emobpy\\consumption.py:413: FutureWarning:\n",
      "\n",
      "The frame.append method is deprecated and will be removed from pandas in a future version. Use pandas.concat instead.\n",
      "\n",
      "C:\\Users\\j.muessel\\Miniconda3\\envs\\pyenv\\lib\\site-packages\\emobpy\\consumption.py:413: FutureWarning:\n",
      "\n",
      "The frame.append method is deprecated and will be removed from pandas in a future version. Use pandas.concat instead.\n",
      "\n",
      "C:\\Users\\j.muessel\\Miniconda3\\envs\\pyenv\\lib\\site-packages\\emobpy\\consumption.py:413: FutureWarning:\n",
      "\n",
      "The frame.append method is deprecated and will be removed from pandas in a future version. Use pandas.concat instead.\n",
      "\n",
      "C:\\Users\\j.muessel\\Miniconda3\\envs\\pyenv\\lib\\site-packages\\emobpy\\consumption.py:413: FutureWarning:\n",
      "\n",
      "The frame.append method is deprecated and will be removed from pandas in a future version. Use pandas.concat instead.\n",
      "\n",
      "C:\\Users\\j.muessel\\Miniconda3\\envs\\pyenv\\lib\\site-packages\\emobpy\\consumption.py:413: FutureWarning:\n",
      "\n",
      "The frame.append method is deprecated and will be removed from pandas in a future version. Use pandas.concat instead.\n",
      "\n",
      "C:\\Users\\j.muessel\\Miniconda3\\envs\\pyenv\\lib\\site-packages\\emobpy\\consumption.py:413: FutureWarning:\n",
      "\n",
      "The frame.append method is deprecated and will be removed from pandas in a future version. Use pandas.concat instead.\n",
      "\n",
      "C:\\Users\\j.muessel\\Miniconda3\\envs\\pyenv\\lib\\site-packages\\emobpy\\consumption.py:413: FutureWarning:\n",
      "\n",
      "The frame.append method is deprecated and will be removed from pandas in a future version. Use pandas.concat instead.\n",
      "\n",
      "C:\\Users\\j.muessel\\Miniconda3\\envs\\pyenv\\lib\\site-packages\\emobpy\\consumption.py:413: FutureWarning:\n",
      "\n",
      "The frame.append method is deprecated and will be removed from pandas in a future version. Use pandas.concat instead.\n",
      "\n",
      "C:\\Users\\j.muessel\\Miniconda3\\envs\\pyenv\\lib\\site-packages\\emobpy\\consumption.py:413: FutureWarning:\n",
      "\n",
      "The frame.append method is deprecated and will be removed from pandas in a future version. Use pandas.concat instead.\n",
      "\n",
      "C:\\Users\\j.muessel\\Miniconda3\\envs\\pyenv\\lib\\site-packages\\emobpy\\consumption.py:413: FutureWarning:\n",
      "\n",
      "The frame.append method is deprecated and will be removed from pandas in a future version. Use pandas.concat instead.\n",
      "\n",
      "C:\\Users\\j.muessel\\Miniconda3\\envs\\pyenv\\lib\\site-packages\\emobpy\\consumption.py:413: FutureWarning:\n",
      "\n",
      "The frame.append method is deprecated and will be removed from pandas in a future version. Use pandas.concat instead.\n",
      "\n",
      "C:\\Users\\j.muessel\\Miniconda3\\envs\\pyenv\\lib\\site-packages\\emobpy\\consumption.py:413: FutureWarning:\n",
      "\n",
      "The frame.append method is deprecated and will be removed from pandas in a future version. Use pandas.concat instead.\n",
      "\n",
      "C:\\Users\\j.muessel\\Miniconda3\\envs\\pyenv\\lib\\site-packages\\emobpy\\consumption.py:413: FutureWarning:\n",
      "\n",
      "The frame.append method is deprecated and will be removed from pandas in a future version. Use pandas.concat instead.\n",
      "\n",
      "C:\\Users\\j.muessel\\Miniconda3\\envs\\pyenv\\lib\\site-packages\\emobpy\\consumption.py:413: FutureWarning:\n",
      "\n",
      "The frame.append method is deprecated and will be removed from pandas in a future version. Use pandas.concat instead.\n",
      "\n",
      "C:\\Users\\j.muessel\\Miniconda3\\envs\\pyenv\\lib\\site-packages\\emobpy\\consumption.py:413: FutureWarning:\n",
      "\n",
      "The frame.append method is deprecated and will be removed from pandas in a future version. Use pandas.concat instead.\n",
      "\n",
      "C:\\Users\\j.muessel\\Miniconda3\\envs\\pyenv\\lib\\site-packages\\emobpy\\consumption.py:413: FutureWarning:\n",
      "\n",
      "The frame.append method is deprecated and will be removed from pandas in a future version. Use pandas.concat instead.\n",
      "\n",
      "C:\\Users\\j.muessel\\Miniconda3\\envs\\pyenv\\lib\\site-packages\\emobpy\\consumption.py:413: FutureWarning:\n",
      "\n",
      "The frame.append method is deprecated and will be removed from pandas in a future version. Use pandas.concat instead.\n",
      "\n",
      "C:\\Users\\j.muessel\\Miniconda3\\envs\\pyenv\\lib\\site-packages\\emobpy\\consumption.py:413: FutureWarning:\n",
      "\n",
      "The frame.append method is deprecated and will be removed from pandas in a future version. Use pandas.concat instead.\n",
      "\n",
      "C:\\Users\\j.muessel\\Miniconda3\\envs\\pyenv\\lib\\site-packages\\emobpy\\consumption.py:413: FutureWarning:\n",
      "\n",
      "The frame.append method is deprecated and will be removed from pandas in a future version. Use pandas.concat instead.\n",
      "\n",
      "C:\\Users\\j.muessel\\Miniconda3\\envs\\pyenv\\lib\\site-packages\\emobpy\\consumption.py:413: FutureWarning:\n",
      "\n",
      "The frame.append method is deprecated and will be removed from pandas in a future version. Use pandas.concat instead.\n",
      "\n",
      "C:\\Users\\j.muessel\\Miniconda3\\envs\\pyenv\\lib\\site-packages\\emobpy\\consumption.py:413: FutureWarning:\n",
      "\n",
      "The frame.append method is deprecated and will be removed from pandas in a future version. Use pandas.concat instead.\n",
      "\n",
      "C:\\Users\\j.muessel\\Miniconda3\\envs\\pyenv\\lib\\site-packages\\emobpy\\consumption.py:413: FutureWarning:\n",
      "\n",
      "The frame.append method is deprecated and will be removed from pandas in a future version. Use pandas.concat instead.\n",
      "\n",
      "C:\\Users\\j.muessel\\Miniconda3\\envs\\pyenv\\lib\\site-packages\\emobpy\\consumption.py:413: FutureWarning:\n",
      "\n",
      "The frame.append method is deprecated and will be removed from pandas in a future version. Use pandas.concat instead.\n",
      "\n",
      "C:\\Users\\j.muessel\\Miniconda3\\envs\\pyenv\\lib\\site-packages\\emobpy\\consumption.py:413: FutureWarning:\n",
      "\n",
      "The frame.append method is deprecated and will be removed from pandas in a future version. Use pandas.concat instead.\n",
      "\n",
      "C:\\Users\\j.muessel\\Miniconda3\\envs\\pyenv\\lib\\site-packages\\emobpy\\consumption.py:413: FutureWarning:\n",
      "\n",
      "The frame.append method is deprecated and will be removed from pandas in a future version. Use pandas.concat instead.\n",
      "\n",
      "C:\\Users\\j.muessel\\Miniconda3\\envs\\pyenv\\lib\\site-packages\\emobpy\\consumption.py:413: FutureWarning:\n",
      "\n",
      "The frame.append method is deprecated and will be removed from pandas in a future version. Use pandas.concat instead.\n",
      "\n",
      "C:\\Users\\j.muessel\\Miniconda3\\envs\\pyenv\\lib\\site-packages\\emobpy\\consumption.py:413: FutureWarning:\n",
      "\n",
      "The frame.append method is deprecated and will be removed from pandas in a future version. Use pandas.concat instead.\n",
      "\n",
      "C:\\Users\\j.muessel\\Miniconda3\\envs\\pyenv\\lib\\site-packages\\emobpy\\consumption.py:413: FutureWarning:\n",
      "\n",
      "The frame.append method is deprecated and will be removed from pandas in a future version. Use pandas.concat instead.\n",
      "\n",
      "C:\\Users\\j.muessel\\Miniconda3\\envs\\pyenv\\lib\\site-packages\\emobpy\\consumption.py:413: FutureWarning:\n",
      "\n",
      "The frame.append method is deprecated and will be removed from pandas in a future version. Use pandas.concat instead.\n",
      "\n",
      "C:\\Users\\j.muessel\\Miniconda3\\envs\\pyenv\\lib\\site-packages\\emobpy\\consumption.py:413: FutureWarning:\n",
      "\n",
      "The frame.append method is deprecated and will be removed from pandas in a future version. Use pandas.concat instead.\n",
      "\n",
      "C:\\Users\\j.muessel\\Miniconda3\\envs\\pyenv\\lib\\site-packages\\emobpy\\consumption.py:413: FutureWarning:\n",
      "\n",
      "The frame.append method is deprecated and will be removed from pandas in a future version. Use pandas.concat instead.\n",
      "\n",
      "C:\\Users\\j.muessel\\Miniconda3\\envs\\pyenv\\lib\\site-packages\\emobpy\\consumption.py:413: FutureWarning:\n",
      "\n",
      "The frame.append method is deprecated and will be removed from pandas in a future version. Use pandas.concat instead.\n",
      "\n",
      "C:\\Users\\j.muessel\\Miniconda3\\envs\\pyenv\\lib\\site-packages\\emobpy\\consumption.py:413: FutureWarning:\n",
      "\n",
      "The frame.append method is deprecated and will be removed from pandas in a future version. Use pandas.concat instead.\n",
      "\n",
      "C:\\Users\\j.muessel\\Miniconda3\\envs\\pyenv\\lib\\site-packages\\emobpy\\consumption.py:413: FutureWarning:\n",
      "\n",
      "The frame.append method is deprecated and will be removed from pandas in a future version. Use pandas.concat instead.\n",
      "\n",
      "C:\\Users\\j.muessel\\Miniconda3\\envs\\pyenv\\lib\\site-packages\\emobpy\\consumption.py:413: FutureWarning:\n",
      "\n",
      "The frame.append method is deprecated and will be removed from pandas in a future version. Use pandas.concat instead.\n",
      "\n",
      "C:\\Users\\j.muessel\\Miniconda3\\envs\\pyenv\\lib\\site-packages\\emobpy\\consumption.py:413: FutureWarning:\n",
      "\n",
      "The frame.append method is deprecated and will be removed from pandas in a future version. Use pandas.concat instead.\n",
      "\n",
      "C:\\Users\\j.muessel\\Miniconda3\\envs\\pyenv\\lib\\site-packages\\emobpy\\consumption.py:413: FutureWarning:\n",
      "\n",
      "The frame.append method is deprecated and will be removed from pandas in a future version. Use pandas.concat instead.\n",
      "\n",
      "C:\\Users\\j.muessel\\Miniconda3\\envs\\pyenv\\lib\\site-packages\\emobpy\\consumption.py:413: FutureWarning:\n",
      "\n",
      "The frame.append method is deprecated and will be removed from pandas in a future version. Use pandas.concat instead.\n",
      "\n",
      "C:\\Users\\j.muessel\\Miniconda3\\envs\\pyenv\\lib\\site-packages\\emobpy\\consumption.py:413: FutureWarning:\n",
      "\n",
      "The frame.append method is deprecated and will be removed from pandas in a future version. Use pandas.concat instead.\n",
      "\n",
      "C:\\Users\\j.muessel\\Miniconda3\\envs\\pyenv\\lib\\site-packages\\emobpy\\consumption.py:413: FutureWarning:\n",
      "\n",
      "The frame.append method is deprecated and will be removed from pandas in a future version. Use pandas.concat instead.\n",
      "\n",
      "C:\\Users\\j.muessel\\Miniconda3\\envs\\pyenv\\lib\\site-packages\\emobpy\\consumption.py:413: FutureWarning:\n",
      "\n",
      "The frame.append method is deprecated and will be removed from pandas in a future version. Use pandas.concat instead.\n",
      "\n",
      "C:\\Users\\j.muessel\\Miniconda3\\envs\\pyenv\\lib\\site-packages\\emobpy\\consumption.py:413: FutureWarning:\n",
      "\n",
      "The frame.append method is deprecated and will be removed from pandas in a future version. Use pandas.concat instead.\n",
      "\n",
      "C:\\Users\\j.muessel\\Miniconda3\\envs\\pyenv\\lib\\site-packages\\emobpy\\consumption.py:413: FutureWarning:\n",
      "\n",
      "The frame.append method is deprecated and will be removed from pandas in a future version. Use pandas.concat instead.\n",
      "\n",
      "C:\\Users\\j.muessel\\Miniconda3\\envs\\pyenv\\lib\\site-packages\\emobpy\\consumption.py:413: FutureWarning:\n",
      "\n",
      "The frame.append method is deprecated and will be removed from pandas in a future version. Use pandas.concat instead.\n",
      "\n",
      "C:\\Users\\j.muessel\\Miniconda3\\envs\\pyenv\\lib\\site-packages\\emobpy\\consumption.py:413: FutureWarning:\n",
      "\n",
      "The frame.append method is deprecated and will be removed from pandas in a future version. Use pandas.concat instead.\n",
      "\n",
      "C:\\Users\\j.muessel\\Miniconda3\\envs\\pyenv\\lib\\site-packages\\emobpy\\consumption.py:413: FutureWarning:\n",
      "\n",
      "The frame.append method is deprecated and will be removed from pandas in a future version. Use pandas.concat instead.\n",
      "\n",
      "C:\\Users\\j.muessel\\Miniconda3\\envs\\pyenv\\lib\\site-packages\\emobpy\\consumption.py:413: FutureWarning:\n",
      "\n",
      "The frame.append method is deprecated and will be removed from pandas in a future version. Use pandas.concat instead.\n",
      "\n",
      "C:\\Users\\j.muessel\\Miniconda3\\envs\\pyenv\\lib\\site-packages\\emobpy\\consumption.py:413: FutureWarning:\n",
      "\n",
      "The frame.append method is deprecated and will be removed from pandas in a future version. Use pandas.concat instead.\n",
      "\n",
      "C:\\Users\\j.muessel\\Miniconda3\\envs\\pyenv\\lib\\site-packages\\emobpy\\consumption.py:413: FutureWarning:\n",
      "\n",
      "The frame.append method is deprecated and will be removed from pandas in a future version. Use pandas.concat instead.\n",
      "\n"
     ]
    },
    {
     "name": "stderr",
     "output_type": "stream",
     "text": [
      "C:\\Users\\j.muessel\\Miniconda3\\envs\\pyenv\\lib\\site-packages\\emobpy\\consumption.py:413: FutureWarning:\n",
      "\n",
      "The frame.append method is deprecated and will be removed from pandas in a future version. Use pandas.concat instead.\n",
      "\n",
      "C:\\Users\\j.muessel\\Miniconda3\\envs\\pyenv\\lib\\site-packages\\emobpy\\consumption.py:413: FutureWarning:\n",
      "\n",
      "The frame.append method is deprecated and will be removed from pandas in a future version. Use pandas.concat instead.\n",
      "\n",
      "C:\\Users\\j.muessel\\Miniconda3\\envs\\pyenv\\lib\\site-packages\\emobpy\\consumption.py:413: FutureWarning:\n",
      "\n",
      "The frame.append method is deprecated and will be removed from pandas in a future version. Use pandas.concat instead.\n",
      "\n",
      "C:\\Users\\j.muessel\\Miniconda3\\envs\\pyenv\\lib\\site-packages\\emobpy\\consumption.py:413: FutureWarning:\n",
      "\n",
      "The frame.append method is deprecated and will be removed from pandas in a future version. Use pandas.concat instead.\n",
      "\n",
      "C:\\Users\\j.muessel\\Miniconda3\\envs\\pyenv\\lib\\site-packages\\emobpy\\consumption.py:413: FutureWarning:\n",
      "\n",
      "The frame.append method is deprecated and will be removed from pandas in a future version. Use pandas.concat instead.\n",
      "\n",
      "C:\\Users\\j.muessel\\Miniconda3\\envs\\pyenv\\lib\\site-packages\\emobpy\\consumption.py:413: FutureWarning:\n",
      "\n",
      "The frame.append method is deprecated and will be removed from pandas in a future version. Use pandas.concat instead.\n",
      "\n",
      "C:\\Users\\j.muessel\\Miniconda3\\envs\\pyenv\\lib\\site-packages\\emobpy\\consumption.py:413: FutureWarning:\n",
      "\n",
      "The frame.append method is deprecated and will be removed from pandas in a future version. Use pandas.concat instead.\n",
      "\n",
      "C:\\Users\\j.muessel\\Miniconda3\\envs\\pyenv\\lib\\site-packages\\emobpy\\consumption.py:413: FutureWarning:\n",
      "\n",
      "The frame.append method is deprecated and will be removed from pandas in a future version. Use pandas.concat instead.\n",
      "\n",
      "C:\\Users\\j.muessel\\Miniconda3\\envs\\pyenv\\lib\\site-packages\\emobpy\\consumption.py:413: FutureWarning:\n",
      "\n",
      "The frame.append method is deprecated and will be removed from pandas in a future version. Use pandas.concat instead.\n",
      "\n",
      "C:\\Users\\j.muessel\\Miniconda3\\envs\\pyenv\\lib\\site-packages\\emobpy\\consumption.py:413: FutureWarning:\n",
      "\n",
      "The frame.append method is deprecated and will be removed from pandas in a future version. Use pandas.concat instead.\n",
      "\n",
      "C:\\Users\\j.muessel\\Miniconda3\\envs\\pyenv\\lib\\site-packages\\emobpy\\consumption.py:413: FutureWarning:\n",
      "\n",
      "The frame.append method is deprecated and will be removed from pandas in a future version. Use pandas.concat instead.\n",
      "\n",
      "C:\\Users\\j.muessel\\Miniconda3\\envs\\pyenv\\lib\\site-packages\\emobpy\\consumption.py:413: FutureWarning:\n",
      "\n",
      "The frame.append method is deprecated and will be removed from pandas in a future version. Use pandas.concat instead.\n",
      "\n",
      "C:\\Users\\j.muessel\\Miniconda3\\envs\\pyenv\\lib\\site-packages\\emobpy\\consumption.py:413: FutureWarning:\n",
      "\n",
      "The frame.append method is deprecated and will be removed from pandas in a future version. Use pandas.concat instead.\n",
      "\n",
      "C:\\Users\\j.muessel\\Miniconda3\\envs\\pyenv\\lib\\site-packages\\emobpy\\consumption.py:413: FutureWarning:\n",
      "\n",
      "The frame.append method is deprecated and will be removed from pandas in a future version. Use pandas.concat instead.\n",
      "\n",
      "C:\\Users\\j.muessel\\Miniconda3\\envs\\pyenv\\lib\\site-packages\\emobpy\\consumption.py:413: FutureWarning:\n",
      "\n",
      "The frame.append method is deprecated and will be removed from pandas in a future version. Use pandas.concat instead.\n",
      "\n",
      "C:\\Users\\j.muessel\\Miniconda3\\envs\\pyenv\\lib\\site-packages\\emobpy\\consumption.py:413: FutureWarning:\n",
      "\n",
      "The frame.append method is deprecated and will be removed from pandas in a future version. Use pandas.concat instead.\n",
      "\n",
      "C:\\Users\\j.muessel\\Miniconda3\\envs\\pyenv\\lib\\site-packages\\emobpy\\consumption.py:413: FutureWarning:\n",
      "\n",
      "The frame.append method is deprecated and will be removed from pandas in a future version. Use pandas.concat instead.\n",
      "\n",
      "C:\\Users\\j.muessel\\Miniconda3\\envs\\pyenv\\lib\\site-packages\\emobpy\\consumption.py:413: FutureWarning:\n",
      "\n",
      "The frame.append method is deprecated and will be removed from pandas in a future version. Use pandas.concat instead.\n",
      "\n",
      "C:\\Users\\j.muessel\\Miniconda3\\envs\\pyenv\\lib\\site-packages\\emobpy\\consumption.py:413: FutureWarning:\n",
      "\n",
      "The frame.append method is deprecated and will be removed from pandas in a future version. Use pandas.concat instead.\n",
      "\n",
      "C:\\Users\\j.muessel\\Miniconda3\\envs\\pyenv\\lib\\site-packages\\emobpy\\consumption.py:413: FutureWarning:\n",
      "\n",
      "The frame.append method is deprecated and will be removed from pandas in a future version. Use pandas.concat instead.\n",
      "\n",
      "C:\\Users\\j.muessel\\Miniconda3\\envs\\pyenv\\lib\\site-packages\\emobpy\\consumption.py:413: FutureWarning:\n",
      "\n",
      "The frame.append method is deprecated and will be removed from pandas in a future version. Use pandas.concat instead.\n",
      "\n",
      "C:\\Users\\j.muessel\\Miniconda3\\envs\\pyenv\\lib\\site-packages\\emobpy\\consumption.py:413: FutureWarning:\n",
      "\n",
      "The frame.append method is deprecated and will be removed from pandas in a future version. Use pandas.concat instead.\n",
      "\n",
      "C:\\Users\\j.muessel\\Miniconda3\\envs\\pyenv\\lib\\site-packages\\emobpy\\consumption.py:413: FutureWarning:\n",
      "\n",
      "The frame.append method is deprecated and will be removed from pandas in a future version. Use pandas.concat instead.\n",
      "\n",
      "C:\\Users\\j.muessel\\Miniconda3\\envs\\pyenv\\lib\\site-packages\\emobpy\\consumption.py:413: FutureWarning:\n",
      "\n",
      "The frame.append method is deprecated and will be removed from pandas in a future version. Use pandas.concat instead.\n",
      "\n",
      "C:\\Users\\j.muessel\\Miniconda3\\envs\\pyenv\\lib\\site-packages\\emobpy\\consumption.py:413: FutureWarning:\n",
      "\n",
      "The frame.append method is deprecated and will be removed from pandas in a future version. Use pandas.concat instead.\n",
      "\n",
      "C:\\Users\\j.muessel\\Miniconda3\\envs\\pyenv\\lib\\site-packages\\emobpy\\consumption.py:413: FutureWarning:\n",
      "\n",
      "The frame.append method is deprecated and will be removed from pandas in a future version. Use pandas.concat instead.\n",
      "\n",
      "C:\\Users\\j.muessel\\Miniconda3\\envs\\pyenv\\lib\\site-packages\\emobpy\\consumption.py:413: FutureWarning:\n",
      "\n",
      "The frame.append method is deprecated and will be removed from pandas in a future version. Use pandas.concat instead.\n",
      "\n",
      "C:\\Users\\j.muessel\\Miniconda3\\envs\\pyenv\\lib\\site-packages\\emobpy\\consumption.py:413: FutureWarning:\n",
      "\n",
      "The frame.append method is deprecated and will be removed from pandas in a future version. Use pandas.concat instead.\n",
      "\n",
      "C:\\Users\\j.muessel\\Miniconda3\\envs\\pyenv\\lib\\site-packages\\emobpy\\consumption.py:413: FutureWarning:\n",
      "\n",
      "The frame.append method is deprecated and will be removed from pandas in a future version. Use pandas.concat instead.\n",
      "\n",
      "C:\\Users\\j.muessel\\Miniconda3\\envs\\pyenv\\lib\\site-packages\\emobpy\\consumption.py:413: FutureWarning:\n",
      "\n",
      "The frame.append method is deprecated and will be removed from pandas in a future version. Use pandas.concat instead.\n",
      "\n",
      "C:\\Users\\j.muessel\\Miniconda3\\envs\\pyenv\\lib\\site-packages\\emobpy\\consumption.py:413: FutureWarning:\n",
      "\n",
      "The frame.append method is deprecated and will be removed from pandas in a future version. Use pandas.concat instead.\n",
      "\n",
      "C:\\Users\\j.muessel\\Miniconda3\\envs\\pyenv\\lib\\site-packages\\emobpy\\consumption.py:413: FutureWarning:\n",
      "\n",
      "The frame.append method is deprecated and will be removed from pandas in a future version. Use pandas.concat instead.\n",
      "\n",
      "C:\\Users\\j.muessel\\Miniconda3\\envs\\pyenv\\lib\\site-packages\\emobpy\\consumption.py:413: FutureWarning:\n",
      "\n",
      "The frame.append method is deprecated and will be removed from pandas in a future version. Use pandas.concat instead.\n",
      "\n",
      "C:\\Users\\j.muessel\\Miniconda3\\envs\\pyenv\\lib\\site-packages\\emobpy\\consumption.py:413: FutureWarning:\n",
      "\n",
      "The frame.append method is deprecated and will be removed from pandas in a future version. Use pandas.concat instead.\n",
      "\n",
      "C:\\Users\\j.muessel\\Miniconda3\\envs\\pyenv\\lib\\site-packages\\emobpy\\consumption.py:413: FutureWarning:\n",
      "\n",
      "The frame.append method is deprecated and will be removed from pandas in a future version. Use pandas.concat instead.\n",
      "\n",
      "C:\\Users\\j.muessel\\Miniconda3\\envs\\pyenv\\lib\\site-packages\\emobpy\\consumption.py:413: FutureWarning:\n",
      "\n",
      "The frame.append method is deprecated and will be removed from pandas in a future version. Use pandas.concat instead.\n",
      "\n",
      "C:\\Users\\j.muessel\\Miniconda3\\envs\\pyenv\\lib\\site-packages\\emobpy\\consumption.py:413: FutureWarning:\n",
      "\n",
      "The frame.append method is deprecated and will be removed from pandas in a future version. Use pandas.concat instead.\n",
      "\n",
      "C:\\Users\\j.muessel\\Miniconda3\\envs\\pyenv\\lib\\site-packages\\emobpy\\consumption.py:413: FutureWarning:\n",
      "\n",
      "The frame.append method is deprecated and will be removed from pandas in a future version. Use pandas.concat instead.\n",
      "\n",
      "C:\\Users\\j.muessel\\Miniconda3\\envs\\pyenv\\lib\\site-packages\\emobpy\\consumption.py:413: FutureWarning:\n",
      "\n",
      "The frame.append method is deprecated and will be removed from pandas in a future version. Use pandas.concat instead.\n",
      "\n",
      "C:\\Users\\j.muessel\\Miniconda3\\envs\\pyenv\\lib\\site-packages\\emobpy\\consumption.py:413: FutureWarning:\n",
      "\n",
      "The frame.append method is deprecated and will be removed from pandas in a future version. Use pandas.concat instead.\n",
      "\n",
      "C:\\Users\\j.muessel\\Miniconda3\\envs\\pyenv\\lib\\site-packages\\emobpy\\consumption.py:413: FutureWarning:\n",
      "\n",
      "The frame.append method is deprecated and will be removed from pandas in a future version. Use pandas.concat instead.\n",
      "\n",
      "C:\\Users\\j.muessel\\Miniconda3\\envs\\pyenv\\lib\\site-packages\\emobpy\\consumption.py:413: FutureWarning:\n",
      "\n",
      "The frame.append method is deprecated and will be removed from pandas in a future version. Use pandas.concat instead.\n",
      "\n",
      "C:\\Users\\j.muessel\\Miniconda3\\envs\\pyenv\\lib\\site-packages\\emobpy\\consumption.py:413: FutureWarning:\n",
      "\n",
      "The frame.append method is deprecated and will be removed from pandas in a future version. Use pandas.concat instead.\n",
      "\n",
      "C:\\Users\\j.muessel\\Miniconda3\\envs\\pyenv\\lib\\site-packages\\emobpy\\consumption.py:413: FutureWarning:\n",
      "\n",
      "The frame.append method is deprecated and will be removed from pandas in a future version. Use pandas.concat instead.\n",
      "\n",
      "C:\\Users\\j.muessel\\Miniconda3\\envs\\pyenv\\lib\\site-packages\\emobpy\\consumption.py:413: FutureWarning:\n",
      "\n",
      "The frame.append method is deprecated and will be removed from pandas in a future version. Use pandas.concat instead.\n",
      "\n",
      "C:\\Users\\j.muessel\\Miniconda3\\envs\\pyenv\\lib\\site-packages\\emobpy\\consumption.py:413: FutureWarning:\n",
      "\n",
      "The frame.append method is deprecated and will be removed from pandas in a future version. Use pandas.concat instead.\n",
      "\n",
      "C:\\Users\\j.muessel\\Miniconda3\\envs\\pyenv\\lib\\site-packages\\emobpy\\consumption.py:413: FutureWarning:\n",
      "\n",
      "The frame.append method is deprecated and will be removed from pandas in a future version. Use pandas.concat instead.\n",
      "\n",
      "C:\\Users\\j.muessel\\Miniconda3\\envs\\pyenv\\lib\\site-packages\\emobpy\\consumption.py:413: FutureWarning:\n",
      "\n",
      "The frame.append method is deprecated and will be removed from pandas in a future version. Use pandas.concat instead.\n",
      "\n",
      "C:\\Users\\j.muessel\\Miniconda3\\envs\\pyenv\\lib\\site-packages\\emobpy\\consumption.py:413: FutureWarning:\n",
      "\n",
      "The frame.append method is deprecated and will be removed from pandas in a future version. Use pandas.concat instead.\n",
      "\n",
      "C:\\Users\\j.muessel\\Miniconda3\\envs\\pyenv\\lib\\site-packages\\emobpy\\consumption.py:413: FutureWarning:\n",
      "\n",
      "The frame.append method is deprecated and will be removed from pandas in a future version. Use pandas.concat instead.\n",
      "\n",
      "C:\\Users\\j.muessel\\Miniconda3\\envs\\pyenv\\lib\\site-packages\\emobpy\\consumption.py:413: FutureWarning:\n",
      "\n",
      "The frame.append method is deprecated and will be removed from pandas in a future version. Use pandas.concat instead.\n",
      "\n",
      "C:\\Users\\j.muessel\\Miniconda3\\envs\\pyenv\\lib\\site-packages\\emobpy\\consumption.py:413: FutureWarning:\n",
      "\n",
      "The frame.append method is deprecated and will be removed from pandas in a future version. Use pandas.concat instead.\n",
      "\n",
      "C:\\Users\\j.muessel\\Miniconda3\\envs\\pyenv\\lib\\site-packages\\emobpy\\consumption.py:413: FutureWarning:\n",
      "\n",
      "The frame.append method is deprecated and will be removed from pandas in a future version. Use pandas.concat instead.\n",
      "\n",
      "C:\\Users\\j.muessel\\Miniconda3\\envs\\pyenv\\lib\\site-packages\\emobpy\\consumption.py:413: FutureWarning:\n",
      "\n",
      "The frame.append method is deprecated and will be removed from pandas in a future version. Use pandas.concat instead.\n",
      "\n",
      "C:\\Users\\j.muessel\\Miniconda3\\envs\\pyenv\\lib\\site-packages\\emobpy\\consumption.py:413: FutureWarning:\n",
      "\n",
      "The frame.append method is deprecated and will be removed from pandas in a future version. Use pandas.concat instead.\n",
      "\n",
      "C:\\Users\\j.muessel\\Miniconda3\\envs\\pyenv\\lib\\site-packages\\emobpy\\consumption.py:413: FutureWarning:\n",
      "\n",
      "The frame.append method is deprecated and will be removed from pandas in a future version. Use pandas.concat instead.\n",
      "\n",
      "C:\\Users\\j.muessel\\Miniconda3\\envs\\pyenv\\lib\\site-packages\\emobpy\\consumption.py:413: FutureWarning:\n",
      "\n",
      "The frame.append method is deprecated and will be removed from pandas in a future version. Use pandas.concat instead.\n",
      "\n",
      "C:\\Users\\j.muessel\\Miniconda3\\envs\\pyenv\\lib\\site-packages\\emobpy\\consumption.py:413: FutureWarning:\n",
      "\n",
      "The frame.append method is deprecated and will be removed from pandas in a future version. Use pandas.concat instead.\n",
      "\n"
     ]
    },
    {
     "name": "stdout",
     "output_type": "stream",
     "text": [
      "Parameter: power\n",
      "   brand                     model  year  value unit\n",
      "0  Tesla             Model S P100D  2016  568.0   kw\n",
      "1  Tesla  Model S Performance (SR)  2020  568.0   kw\n",
      "2  Tesla  Model S Performance (AC)  2019  568.0   kw\n",
      "3  Tesla   Model S P90DL Ludicrous  2016  568.0   kw\n",
      "4  Tesla   Model S P90DL Ludicrous  2015  568.0   kw\n",
      "5  Tesla              Model S P90D  2016  568.0   kw\n",
      "6  Tesla              Model S P90D  2015  568.0   kw\n",
      "7  Tesla   Model S P85DL Ludicrous  2015  568.0   kw\n",
      "8  Tesla  Model S P85D 193kW+375kW  2015  568.0   kw\n",
      "9  Tesla             Model S P100D  2018  568.0   kw\n",
      "Fallback value 0.9 added for missing battery_charging_eff parameter.\n",
      "Fallback value 0.95 added for missing battery_discharging_eff parameter.\n",
      "Fallback value 0.95 added for missing transmission_eff parameter.\n",
      "Fallback value 0.3 added for missing auxiliary_power parameter.\n",
      "Fallback value 3.5 added for missing cabin_volume parameter.\n",
      "Fallback value 1 added for missing hvac_cop_heating parameter.\n",
      "Fallback value 2 added for missing hvac_cop_cooling parameter.\n"
     ]
    },
    {
     "name": "stderr",
     "output_type": "stream",
     "text": [
      "C:\\Users\\j.muessel\\Miniconda3\\envs\\pyenv\\lib\\site-packages\\emobpy\\consumption.py:413: FutureWarning:\n",
      "\n",
      "The frame.append method is deprecated and will be removed from pandas in a future version. Use pandas.concat instead.\n",
      "\n",
      "C:\\Users\\j.muessel\\Miniconda3\\envs\\pyenv\\lib\\site-packages\\emobpy\\consumption.py:413: FutureWarning:\n",
      "\n",
      "The frame.append method is deprecated and will be removed from pandas in a future version. Use pandas.concat instead.\n",
      "\n",
      "C:\\Users\\j.muessel\\Miniconda3\\envs\\pyenv\\lib\\site-packages\\emobpy\\consumption.py:413: FutureWarning:\n",
      "\n",
      "The frame.append method is deprecated and will be removed from pandas in a future version. Use pandas.concat instead.\n",
      "\n",
      "C:\\Users\\j.muessel\\Miniconda3\\envs\\pyenv\\lib\\site-packages\\emobpy\\consumption.py:413: FutureWarning:\n",
      "\n",
      "The frame.append method is deprecated and will be removed from pandas in a future version. Use pandas.concat instead.\n",
      "\n",
      "C:\\Users\\j.muessel\\Miniconda3\\envs\\pyenv\\lib\\site-packages\\emobpy\\consumption.py:413: FutureWarning:\n",
      "\n",
      "The frame.append method is deprecated and will be removed from pandas in a future version. Use pandas.concat instead.\n",
      "\n",
      "C:\\Users\\j.muessel\\Miniconda3\\envs\\pyenv\\lib\\site-packages\\emobpy\\consumption.py:413: FutureWarning:\n",
      "\n",
      "The frame.append method is deprecated and will be removed from pandas in a future version. Use pandas.concat instead.\n",
      "\n",
      "C:\\Users\\j.muessel\\Miniconda3\\envs\\pyenv\\lib\\site-packages\\emobpy\\consumption.py:413: FutureWarning:\n",
      "\n",
      "The frame.append method is deprecated and will be removed from pandas in a future version. Use pandas.concat instead.\n",
      "\n",
      "C:\\Users\\j.muessel\\Miniconda3\\envs\\pyenv\\lib\\site-packages\\emobpy\\consumption.py:413: FutureWarning:\n",
      "\n",
      "The frame.append method is deprecated and will be removed from pandas in a future version. Use pandas.concat instead.\n",
      "\n",
      "C:\\Users\\j.muessel\\Miniconda3\\envs\\pyenv\\lib\\site-packages\\emobpy\\consumption.py:413: FutureWarning:\n",
      "\n",
      "The frame.append method is deprecated and will be removed from pandas in a future version. Use pandas.concat instead.\n",
      "\n",
      "C:\\Users\\j.muessel\\Miniconda3\\envs\\pyenv\\lib\\site-packages\\emobpy\\consumption.py:413: FutureWarning:\n",
      "\n",
      "The frame.append method is deprecated and will be removed from pandas in a future version. Use pandas.concat instead.\n",
      "\n",
      "C:\\Users\\j.muessel\\Miniconda3\\envs\\pyenv\\lib\\site-packages\\emobpy\\consumption.py:413: FutureWarning:\n",
      "\n",
      "The frame.append method is deprecated and will be removed from pandas in a future version. Use pandas.concat instead.\n",
      "\n",
      "C:\\Users\\j.muessel\\Miniconda3\\envs\\pyenv\\lib\\site-packages\\emobpy\\consumption.py:413: FutureWarning:\n",
      "\n",
      "The frame.append method is deprecated and will be removed from pandas in a future version. Use pandas.concat instead.\n",
      "\n",
      "C:\\Users\\j.muessel\\Miniconda3\\envs\\pyenv\\lib\\site-packages\\emobpy\\consumption.py:413: FutureWarning:\n",
      "\n",
      "The frame.append method is deprecated and will be removed from pandas in a future version. Use pandas.concat instead.\n",
      "\n",
      "C:\\Users\\j.muessel\\Miniconda3\\envs\\pyenv\\lib\\site-packages\\emobpy\\consumption.py:413: FutureWarning:\n",
      "\n",
      "The frame.append method is deprecated and will be removed from pandas in a future version. Use pandas.concat instead.\n",
      "\n",
      "C:\\Users\\j.muessel\\Miniconda3\\envs\\pyenv\\lib\\site-packages\\emobpy\\consumption.py:413: FutureWarning:\n",
      "\n",
      "The frame.append method is deprecated and will be removed from pandas in a future version. Use pandas.concat instead.\n",
      "\n",
      "C:\\Users\\j.muessel\\Miniconda3\\envs\\pyenv\\lib\\site-packages\\emobpy\\consumption.py:413: FutureWarning:\n",
      "\n",
      "The frame.append method is deprecated and will be removed from pandas in a future version. Use pandas.concat instead.\n",
      "\n",
      "C:\\Users\\j.muessel\\Miniconda3\\envs\\pyenv\\lib\\site-packages\\emobpy\\consumption.py:413: FutureWarning:\n",
      "\n",
      "The frame.append method is deprecated and will be removed from pandas in a future version. Use pandas.concat instead.\n",
      "\n",
      "C:\\Users\\j.muessel\\Miniconda3\\envs\\pyenv\\lib\\site-packages\\emobpy\\consumption.py:413: FutureWarning:\n",
      "\n",
      "The frame.append method is deprecated and will be removed from pandas in a future version. Use pandas.concat instead.\n",
      "\n",
      "C:\\Users\\j.muessel\\Miniconda3\\envs\\pyenv\\lib\\site-packages\\emobpy\\consumption.py:413: FutureWarning:\n",
      "\n",
      "The frame.append method is deprecated and will be removed from pandas in a future version. Use pandas.concat instead.\n",
      "\n",
      "C:\\Users\\j.muessel\\Miniconda3\\envs\\pyenv\\lib\\site-packages\\emobpy\\consumption.py:413: FutureWarning:\n",
      "\n",
      "The frame.append method is deprecated and will be removed from pandas in a future version. Use pandas.concat instead.\n",
      "\n",
      "C:\\Users\\j.muessel\\Miniconda3\\envs\\pyenv\\lib\\site-packages\\emobpy\\consumption.py:413: FutureWarning:\n",
      "\n",
      "The frame.append method is deprecated and will be removed from pandas in a future version. Use pandas.concat instead.\n",
      "\n",
      "C:\\Users\\j.muessel\\Miniconda3\\envs\\pyenv\\lib\\site-packages\\emobpy\\consumption.py:413: FutureWarning:\n",
      "\n",
      "The frame.append method is deprecated and will be removed from pandas in a future version. Use pandas.concat instead.\n",
      "\n",
      "C:\\Users\\j.muessel\\Miniconda3\\envs\\pyenv\\lib\\site-packages\\emobpy\\consumption.py:413: FutureWarning:\n",
      "\n",
      "The frame.append method is deprecated and will be removed from pandas in a future version. Use pandas.concat instead.\n",
      "\n",
      "C:\\Users\\j.muessel\\Miniconda3\\envs\\pyenv\\lib\\site-packages\\emobpy\\consumption.py:413: FutureWarning:\n",
      "\n",
      "The frame.append method is deprecated and will be removed from pandas in a future version. Use pandas.concat instead.\n",
      "\n",
      "C:\\Users\\j.muessel\\Miniconda3\\envs\\pyenv\\lib\\site-packages\\emobpy\\consumption.py:413: FutureWarning:\n",
      "\n",
      "The frame.append method is deprecated and will be removed from pandas in a future version. Use pandas.concat instead.\n",
      "\n",
      "C:\\Users\\j.muessel\\Miniconda3\\envs\\pyenv\\lib\\site-packages\\emobpy\\consumption.py:413: FutureWarning:\n",
      "\n",
      "The frame.append method is deprecated and will be removed from pandas in a future version. Use pandas.concat instead.\n",
      "\n",
      "C:\\Users\\j.muessel\\Miniconda3\\envs\\pyenv\\lib\\site-packages\\emobpy\\consumption.py:413: FutureWarning:\n",
      "\n",
      "The frame.append method is deprecated and will be removed from pandas in a future version. Use pandas.concat instead.\n",
      "\n",
      "C:\\Users\\j.muessel\\Miniconda3\\envs\\pyenv\\lib\\site-packages\\emobpy\\consumption.py:413: FutureWarning:\n",
      "\n",
      "The frame.append method is deprecated and will be removed from pandas in a future version. Use pandas.concat instead.\n",
      "\n",
      "C:\\Users\\j.muessel\\Miniconda3\\envs\\pyenv\\lib\\site-packages\\emobpy\\consumption.py:413: FutureWarning:\n",
      "\n",
      "The frame.append method is deprecated and will be removed from pandas in a future version. Use pandas.concat instead.\n",
      "\n",
      "C:\\Users\\j.muessel\\Miniconda3\\envs\\pyenv\\lib\\site-packages\\emobpy\\consumption.py:413: FutureWarning:\n",
      "\n",
      "The frame.append method is deprecated and will be removed from pandas in a future version. Use pandas.concat instead.\n",
      "\n",
      "C:\\Users\\j.muessel\\Miniconda3\\envs\\pyenv\\lib\\site-packages\\emobpy\\consumption.py:413: FutureWarning:\n",
      "\n",
      "The frame.append method is deprecated and will be removed from pandas in a future version. Use pandas.concat instead.\n",
      "\n",
      "C:\\Users\\j.muessel\\Miniconda3\\envs\\pyenv\\lib\\site-packages\\emobpy\\consumption.py:413: FutureWarning:\n",
      "\n",
      "The frame.append method is deprecated and will be removed from pandas in a future version. Use pandas.concat instead.\n",
      "\n",
      "C:\\Users\\j.muessel\\Miniconda3\\envs\\pyenv\\lib\\site-packages\\emobpy\\consumption.py:413: FutureWarning:\n",
      "\n",
      "The frame.append method is deprecated and will be removed from pandas in a future version. Use pandas.concat instead.\n",
      "\n",
      "C:\\Users\\j.muessel\\Miniconda3\\envs\\pyenv\\lib\\site-packages\\emobpy\\consumption.py:413: FutureWarning:\n",
      "\n",
      "The frame.append method is deprecated and will be removed from pandas in a future version. Use pandas.concat instead.\n",
      "\n"
     ]
    },
    {
     "name": "stdout",
     "output_type": "stream",
     "text": [
      "New profile running: BEV1_W53_037ff_Volkswagen_ID.3_2020_4b2c9\n",
      "temp Kelvin DE 2016 Timezone: Europe/Berlin\n",
      "pressure Pascal DE 2016 Timezone: Europe/Berlin\n",
      "dew_point Kelvin DE 2016 Timezone: Europe/Berlin\n",
      "Progress: 100% [705 / 705] trips\n",
      " \n",
      "See Log files\n",
      "C:\\Users\\j.muessel\\Documents\\GitHub\\EES\\Emobpy\\my_emobpy\\log\\emobpy.log\n",
      "soc_init:0.5 --> soc_end:0.962\n",
      "Profile done: BEV1_W53_037ff_Volkswagen_ID.3_2020_4b2c9_avai_110d7\n",
      " \n",
      "See Log files\n",
      "C:\\Users\\j.muessel\\Documents\\GitHub\\EES\\Emobpy\\my_emobpy\\log\\emobpy.log\n",
      "Profile done: BEV1_W53_037ff_Volkswagen_ID.3_2020_4b2c9_avai_110d7_immediate_0e1c3\n",
      "Creation Successful:True\n",
      "Profile done: BEV1_W53_037ff_Volkswagen_ID.3_2020_4b2c9_avai_110d7_balanced_c1cd3\n",
      "Creation Successful:True\n",
      "Profile done: BEV1_W53_037ff_Volkswagen_ID.3_2020_4b2c9_avai_110d7_from_0_to_24_at_home_45592_FAIL\n",
      "Creation Successful:False\n",
      "Profile done: BEV1_W53_037ff_Volkswagen_ID.3_2020_4b2c9_avai_110d7_from_23_to_8_at_any_686b8_FAIL\n",
      "Creation Successful:False\n",
      "New profile running: BEV1_W53_c986e\n",
      "Progress: 9% [35 / 365] days"
     ]
    },
    {
     "name": "stderr",
     "output_type": "stream",
     "text": [
      "C:\\Users\\j.muessel\\Miniconda3\\envs\\pyenv\\lib\\site-packages\\emobpy\\mobility.py:1187: FutureWarning:\n",
      "\n",
      "The frame.append method is deprecated and will be removed from pandas in a future version. Use pandas.concat instead.\n",
      "\n",
      "C:\\Users\\j.muessel\\Miniconda3\\envs\\pyenv\\lib\\site-packages\\emobpy\\mobility.py:1187: FutureWarning:\n",
      "\n",
      "The frame.append method is deprecated and will be removed from pandas in a future version. Use pandas.concat instead.\n",
      "\n"
     ]
    },
    {
     "name": "stdout",
     "output_type": "stream",
     "text": [
      "Progress: 10% [39 / 365] days"
     ]
    },
    {
     "name": "stderr",
     "output_type": "stream",
     "text": [
      "C:\\Users\\j.muessel\\Miniconda3\\envs\\pyenv\\lib\\site-packages\\emobpy\\mobility.py:1187: FutureWarning:\n",
      "\n",
      "The frame.append method is deprecated and will be removed from pandas in a future version. Use pandas.concat instead.\n",
      "\n",
      "C:\\Users\\j.muessel\\Miniconda3\\envs\\pyenv\\lib\\site-packages\\emobpy\\mobility.py:1187: FutureWarning:\n",
      "\n",
      "The frame.append method is deprecated and will be removed from pandas in a future version. Use pandas.concat instead.\n",
      "\n"
     ]
    },
    {
     "name": "stdout",
     "output_type": "stream",
     "text": [
      "Progress: 11% [41 / 365] days"
     ]
    },
    {
     "name": "stderr",
     "output_type": "stream",
     "text": [
      "C:\\Users\\j.muessel\\Miniconda3\\envs\\pyenv\\lib\\site-packages\\emobpy\\mobility.py:1187: FutureWarning:\n",
      "\n",
      "The frame.append method is deprecated and will be removed from pandas in a future version. Use pandas.concat instead.\n",
      "\n",
      "C:\\Users\\j.muessel\\Miniconda3\\envs\\pyenv\\lib\\site-packages\\emobpy\\mobility.py:1187: FutureWarning:\n",
      "\n",
      "The frame.append method is deprecated and will be removed from pandas in a future version. Use pandas.concat instead.\n",
      "\n"
     ]
    },
    {
     "name": "stdout",
     "output_type": "stream",
     "text": [
      "Progress: 13% [50 / 365] days"
     ]
    },
    {
     "name": "stderr",
     "output_type": "stream",
     "text": [
      "C:\\Users\\j.muessel\\Miniconda3\\envs\\pyenv\\lib\\site-packages\\emobpy\\mobility.py:1187: FutureWarning:\n",
      "\n",
      "The frame.append method is deprecated and will be removed from pandas in a future version. Use pandas.concat instead.\n",
      "\n",
      "C:\\Users\\j.muessel\\Miniconda3\\envs\\pyenv\\lib\\site-packages\\emobpy\\mobility.py:1187: FutureWarning:\n",
      "\n",
      "The frame.append method is deprecated and will be removed from pandas in a future version. Use pandas.concat instead.\n",
      "\n",
      "C:\\Users\\j.muessel\\Miniconda3\\envs\\pyenv\\lib\\site-packages\\emobpy\\mobility.py:1187: FutureWarning:\n",
      "\n",
      "The frame.append method is deprecated and will be removed from pandas in a future version. Use pandas.concat instead.\n",
      "\n"
     ]
    },
    {
     "name": "stdout",
     "output_type": "stream",
     "text": [
      "Progress: 15% [55 / 365] days"
     ]
    },
    {
     "name": "stderr",
     "output_type": "stream",
     "text": [
      "C:\\Users\\j.muessel\\Miniconda3\\envs\\pyenv\\lib\\site-packages\\emobpy\\mobility.py:1187: FutureWarning:\n",
      "\n",
      "The frame.append method is deprecated and will be removed from pandas in a future version. Use pandas.concat instead.\n",
      "\n"
     ]
    },
    {
     "name": "stdout",
     "output_type": "stream",
     "text": [
      "Progress: 16% [59 / 365] days"
     ]
    },
    {
     "name": "stderr",
     "output_type": "stream",
     "text": [
      "C:\\Users\\j.muessel\\Miniconda3\\envs\\pyenv\\lib\\site-packages\\emobpy\\mobility.py:1187: FutureWarning:\n",
      "\n",
      "The frame.append method is deprecated and will be removed from pandas in a future version. Use pandas.concat instead.\n",
      "\n"
     ]
    },
    {
     "name": "stdout",
     "output_type": "stream",
     "text": [
      "Progress: 17% [65 / 365] days"
     ]
    },
    {
     "name": "stderr",
     "output_type": "stream",
     "text": [
      "C:\\Users\\j.muessel\\Miniconda3\\envs\\pyenv\\lib\\site-packages\\emobpy\\mobility.py:1187: FutureWarning:\n",
      "\n",
      "The frame.append method is deprecated and will be removed from pandas in a future version. Use pandas.concat instead.\n",
      "\n"
     ]
    },
    {
     "name": "stdout",
     "output_type": "stream",
     "text": [
      "Progress: 29% [107 / 365] days"
     ]
    },
    {
     "name": "stderr",
     "output_type": "stream",
     "text": [
      "C:\\Users\\j.muessel\\Miniconda3\\envs\\pyenv\\lib\\site-packages\\emobpy\\mobility.py:1187: FutureWarning:\n",
      "\n",
      "The frame.append method is deprecated and will be removed from pandas in a future version. Use pandas.concat instead.\n",
      "\n",
      "C:\\Users\\j.muessel\\Miniconda3\\envs\\pyenv\\lib\\site-packages\\emobpy\\mobility.py:1187: FutureWarning:\n",
      "\n",
      "The frame.append method is deprecated and will be removed from pandas in a future version. Use pandas.concat instead.\n",
      "\n"
     ]
    },
    {
     "name": "stdout",
     "output_type": "stream",
     "text": [
      "Progress: 32% [118 / 365] days"
     ]
    },
    {
     "name": "stderr",
     "output_type": "stream",
     "text": [
      "C:\\Users\\j.muessel\\Miniconda3\\envs\\pyenv\\lib\\site-packages\\emobpy\\mobility.py:1187: FutureWarning:\n",
      "\n",
      "The frame.append method is deprecated and will be removed from pandas in a future version. Use pandas.concat instead.\n",
      "\n",
      "C:\\Users\\j.muessel\\Miniconda3\\envs\\pyenv\\lib\\site-packages\\emobpy\\mobility.py:1187: FutureWarning:\n",
      "\n",
      "The frame.append method is deprecated and will be removed from pandas in a future version. Use pandas.concat instead.\n",
      "\n",
      "C:\\Users\\j.muessel\\Miniconda3\\envs\\pyenv\\lib\\site-packages\\emobpy\\mobility.py:1187: FutureWarning:\n",
      "\n",
      "The frame.append method is deprecated and will be removed from pandas in a future version. Use pandas.concat instead.\n",
      "\n",
      "C:\\Users\\j.muessel\\Miniconda3\\envs\\pyenv\\lib\\site-packages\\emobpy\\mobility.py:1187: FutureWarning:\n",
      "\n",
      "The frame.append method is deprecated and will be removed from pandas in a future version. Use pandas.concat instead.\n",
      "\n"
     ]
    },
    {
     "name": "stdout",
     "output_type": "stream",
     "text": [
      "\r",
      "Progress: 32% [119 / 365] days"
     ]
    },
    {
     "name": "stderr",
     "output_type": "stream",
     "text": [
      "C:\\Users\\j.muessel\\Miniconda3\\envs\\pyenv\\lib\\site-packages\\emobpy\\mobility.py:1187: FutureWarning:\n",
      "\n",
      "The frame.append method is deprecated and will be removed from pandas in a future version. Use pandas.concat instead.\n",
      "\n",
      "C:\\Users\\j.muessel\\Miniconda3\\envs\\pyenv\\lib\\site-packages\\emobpy\\mobility.py:1187: FutureWarning:\n",
      "\n",
      "The frame.append method is deprecated and will be removed from pandas in a future version. Use pandas.concat instead.\n",
      "\n",
      "C:\\Users\\j.muessel\\Miniconda3\\envs\\pyenv\\lib\\site-packages\\emobpy\\mobility.py:1187: FutureWarning:\n",
      "\n",
      "The frame.append method is deprecated and will be removed from pandas in a future version. Use pandas.concat instead.\n",
      "\n"
     ]
    },
    {
     "name": "stdout",
     "output_type": "stream",
     "text": [
      "Progress: 38% [140 / 365] days"
     ]
    },
    {
     "name": "stderr",
     "output_type": "stream",
     "text": [
      "C:\\Users\\j.muessel\\Miniconda3\\envs\\pyenv\\lib\\site-packages\\emobpy\\mobility.py:1187: FutureWarning:\n",
      "\n",
      "The frame.append method is deprecated and will be removed from pandas in a future version. Use pandas.concat instead.\n",
      "\n",
      "C:\\Users\\j.muessel\\Miniconda3\\envs\\pyenv\\lib\\site-packages\\emobpy\\mobility.py:1187: FutureWarning:\n",
      "\n",
      "The frame.append method is deprecated and will be removed from pandas in a future version. Use pandas.concat instead.\n",
      "\n",
      "C:\\Users\\j.muessel\\Miniconda3\\envs\\pyenv\\lib\\site-packages\\emobpy\\mobility.py:1187: FutureWarning:\n",
      "\n",
      "The frame.append method is deprecated and will be removed from pandas in a future version. Use pandas.concat instead.\n",
      "\n",
      "C:\\Users\\j.muessel\\Miniconda3\\envs\\pyenv\\lib\\site-packages\\emobpy\\mobility.py:1187: FutureWarning:\n",
      "\n",
      "The frame.append method is deprecated and will be removed from pandas in a future version. Use pandas.concat instead.\n",
      "\n"
     ]
    },
    {
     "name": "stdout",
     "output_type": "stream",
     "text": [
      "Progress: 43% [158 / 365] days"
     ]
    },
    {
     "name": "stderr",
     "output_type": "stream",
     "text": [
      "C:\\Users\\j.muessel\\Miniconda3\\envs\\pyenv\\lib\\site-packages\\emobpy\\mobility.py:1187: FutureWarning:\n",
      "\n",
      "The frame.append method is deprecated and will be removed from pandas in a future version. Use pandas.concat instead.\n",
      "\n"
     ]
    },
    {
     "name": "stdout",
     "output_type": "stream",
     "text": [
      "Progress: 44% [162 / 365] days"
     ]
    },
    {
     "name": "stderr",
     "output_type": "stream",
     "text": [
      "C:\\Users\\j.muessel\\Miniconda3\\envs\\pyenv\\lib\\site-packages\\emobpy\\mobility.py:1187: FutureWarning:\n",
      "\n",
      "The frame.append method is deprecated and will be removed from pandas in a future version. Use pandas.concat instead.\n",
      "\n"
     ]
    },
    {
     "name": "stdout",
     "output_type": "stream",
     "text": [
      "Progress: 47% [172 / 365] days"
     ]
    },
    {
     "name": "stderr",
     "output_type": "stream",
     "text": [
      "C:\\Users\\j.muessel\\Miniconda3\\envs\\pyenv\\lib\\site-packages\\emobpy\\mobility.py:1187: FutureWarning:\n",
      "\n",
      "The frame.append method is deprecated and will be removed from pandas in a future version. Use pandas.concat instead.\n",
      "\n",
      "C:\\Users\\j.muessel\\Miniconda3\\envs\\pyenv\\lib\\site-packages\\emobpy\\mobility.py:1187: FutureWarning:\n",
      "\n",
      "The frame.append method is deprecated and will be removed from pandas in a future version. Use pandas.concat instead.\n",
      "\n",
      "C:\\Users\\j.muessel\\Miniconda3\\envs\\pyenv\\lib\\site-packages\\emobpy\\mobility.py:1187: FutureWarning:\n",
      "\n",
      "The frame.append method is deprecated and will be removed from pandas in a future version. Use pandas.concat instead.\n",
      "\n"
     ]
    },
    {
     "name": "stdout",
     "output_type": "stream",
     "text": [
      "Progress: 48% [176 / 365] days"
     ]
    },
    {
     "name": "stderr",
     "output_type": "stream",
     "text": [
      "C:\\Users\\j.muessel\\Miniconda3\\envs\\pyenv\\lib\\site-packages\\emobpy\\mobility.py:1187: FutureWarning:\n",
      "\n",
      "The frame.append method is deprecated and will be removed from pandas in a future version. Use pandas.concat instead.\n",
      "\n",
      "C:\\Users\\j.muessel\\Miniconda3\\envs\\pyenv\\lib\\site-packages\\emobpy\\mobility.py:1187: FutureWarning:\n",
      "\n",
      "The frame.append method is deprecated and will be removed from pandas in a future version. Use pandas.concat instead.\n",
      "\n",
      "C:\\Users\\j.muessel\\Miniconda3\\envs\\pyenv\\lib\\site-packages\\emobpy\\mobility.py:1187: FutureWarning:\n",
      "\n",
      "The frame.append method is deprecated and will be removed from pandas in a future version. Use pandas.concat instead.\n",
      "\n",
      "C:\\Users\\j.muessel\\Miniconda3\\envs\\pyenv\\lib\\site-packages\\emobpy\\mobility.py:1187: FutureWarning:\n",
      "\n",
      "The frame.append method is deprecated and will be removed from pandas in a future version. Use pandas.concat instead.\n",
      "\n"
     ]
    },
    {
     "name": "stdout",
     "output_type": "stream",
     "text": [
      "\r",
      "Progress: 48% [177 / 365] days"
     ]
    },
    {
     "name": "stderr",
     "output_type": "stream",
     "text": [
      "C:\\Users\\j.muessel\\Miniconda3\\envs\\pyenv\\lib\\site-packages\\emobpy\\mobility.py:1187: FutureWarning:\n",
      "\n",
      "The frame.append method is deprecated and will be removed from pandas in a future version. Use pandas.concat instead.\n",
      "\n",
      "C:\\Users\\j.muessel\\Miniconda3\\envs\\pyenv\\lib\\site-packages\\emobpy\\mobility.py:1187: FutureWarning:\n",
      "\n",
      "The frame.append method is deprecated and will be removed from pandas in a future version. Use pandas.concat instead.\n",
      "\n"
     ]
    },
    {
     "name": "stdout",
     "output_type": "stream",
     "text": [
      "Progress: 51% [189 / 365] days"
     ]
    },
    {
     "name": "stderr",
     "output_type": "stream",
     "text": [
      "C:\\Users\\j.muessel\\Miniconda3\\envs\\pyenv\\lib\\site-packages\\emobpy\\mobility.py:1187: FutureWarning:\n",
      "\n",
      "The frame.append method is deprecated and will be removed from pandas in a future version. Use pandas.concat instead.\n",
      "\n",
      "C:\\Users\\j.muessel\\Miniconda3\\envs\\pyenv\\lib\\site-packages\\emobpy\\mobility.py:1187: FutureWarning:\n",
      "\n",
      "The frame.append method is deprecated and will be removed from pandas in a future version. Use pandas.concat instead.\n",
      "\n"
     ]
    },
    {
     "name": "stdout",
     "output_type": "stream",
     "text": [
      "Progress: 53% [195 / 365] days"
     ]
    },
    {
     "name": "stderr",
     "output_type": "stream",
     "text": [
      "C:\\Users\\j.muessel\\Miniconda3\\envs\\pyenv\\lib\\site-packages\\emobpy\\mobility.py:1187: FutureWarning:\n",
      "\n",
      "The frame.append method is deprecated and will be removed from pandas in a future version. Use pandas.concat instead.\n",
      "\n"
     ]
    },
    {
     "name": "stdout",
     "output_type": "stream",
     "text": [
      "Progress: 55% [203 / 365] days"
     ]
    },
    {
     "name": "stderr",
     "output_type": "stream",
     "text": [
      "C:\\Users\\j.muessel\\Miniconda3\\envs\\pyenv\\lib\\site-packages\\emobpy\\mobility.py:1187: FutureWarning:\n",
      "\n",
      "The frame.append method is deprecated and will be removed from pandas in a future version. Use pandas.concat instead.\n",
      "\n"
     ]
    },
    {
     "name": "stdout",
     "output_type": "stream",
     "text": [
      "Progress: 58% [215 / 365] days"
     ]
    },
    {
     "name": "stderr",
     "output_type": "stream",
     "text": [
      "C:\\Users\\j.muessel\\Miniconda3\\envs\\pyenv\\lib\\site-packages\\emobpy\\mobility.py:1187: FutureWarning:\n",
      "\n",
      "The frame.append method is deprecated and will be removed from pandas in a future version. Use pandas.concat instead.\n",
      "\n"
     ]
    },
    {
     "name": "stdout",
     "output_type": "stream",
     "text": [
      "Progress: 70% [259 / 365] days"
     ]
    },
    {
     "name": "stderr",
     "output_type": "stream",
     "text": [
      "C:\\Users\\j.muessel\\Miniconda3\\envs\\pyenv\\lib\\site-packages\\emobpy\\mobility.py:1187: FutureWarning:\n",
      "\n",
      "The frame.append method is deprecated and will be removed from pandas in a future version. Use pandas.concat instead.\n",
      "\n"
     ]
    },
    {
     "name": "stdout",
     "output_type": "stream",
     "text": [
      "Progress: 75% [275 / 365] days"
     ]
    },
    {
     "name": "stderr",
     "output_type": "stream",
     "text": [
      "C:\\Users\\j.muessel\\Miniconda3\\envs\\pyenv\\lib\\site-packages\\emobpy\\mobility.py:1187: FutureWarning:\n",
      "\n",
      "The frame.append method is deprecated and will be removed from pandas in a future version. Use pandas.concat instead.\n",
      "\n",
      "C:\\Users\\j.muessel\\Miniconda3\\envs\\pyenv\\lib\\site-packages\\emobpy\\mobility.py:1187: FutureWarning:\n",
      "\n",
      "The frame.append method is deprecated and will be removed from pandas in a future version. Use pandas.concat instead.\n",
      "\n"
     ]
    },
    {
     "name": "stdout",
     "output_type": "stream",
     "text": [
      "Progress: 81% [296 / 365] days"
     ]
    },
    {
     "name": "stderr",
     "output_type": "stream",
     "text": [
      "C:\\Users\\j.muessel\\Miniconda3\\envs\\pyenv\\lib\\site-packages\\emobpy\\mobility.py:1187: FutureWarning:\n",
      "\n",
      "The frame.append method is deprecated and will be removed from pandas in a future version. Use pandas.concat instead.\n",
      "\n"
     ]
    },
    {
     "name": "stdout",
     "output_type": "stream",
     "text": [
      "Progress: 86% [314 / 365] days"
     ]
    },
    {
     "name": "stderr",
     "output_type": "stream",
     "text": [
      "C:\\Users\\j.muessel\\Miniconda3\\envs\\pyenv\\lib\\site-packages\\emobpy\\mobility.py:1187: FutureWarning:\n",
      "\n",
      "The frame.append method is deprecated and will be removed from pandas in a future version. Use pandas.concat instead.\n",
      "\n",
      "C:\\Users\\j.muessel\\Miniconda3\\envs\\pyenv\\lib\\site-packages\\emobpy\\mobility.py:1187: FutureWarning:\n",
      "\n",
      "The frame.append method is deprecated and will be removed from pandas in a future version. Use pandas.concat instead.\n",
      "\n"
     ]
    },
    {
     "name": "stdout",
     "output_type": "stream",
     "text": [
      "Progress: 90% [330 / 365] days"
     ]
    },
    {
     "name": "stderr",
     "output_type": "stream",
     "text": [
      "C:\\Users\\j.muessel\\Miniconda3\\envs\\pyenv\\lib\\site-packages\\emobpy\\mobility.py:1187: FutureWarning:\n",
      "\n",
      "The frame.append method is deprecated and will be removed from pandas in a future version. Use pandas.concat instead.\n",
      "\n"
     ]
    },
    {
     "name": "stdout",
     "output_type": "stream",
     "text": [
      "Progress: 90% [332 / 365] days"
     ]
    },
    {
     "name": "stderr",
     "output_type": "stream",
     "text": [
      "C:\\Users\\j.muessel\\Miniconda3\\envs\\pyenv\\lib\\site-packages\\emobpy\\mobility.py:1187: FutureWarning:\n",
      "\n",
      "The frame.append method is deprecated and will be removed from pandas in a future version. Use pandas.concat instead.\n",
      "\n"
     ]
    },
    {
     "name": "stdout",
     "output_type": "stream",
     "text": [
      "\r",
      "Progress: 91% [333 / 365] days"
     ]
    },
    {
     "name": "stderr",
     "output_type": "stream",
     "text": [
      "C:\\Users\\j.muessel\\Miniconda3\\envs\\pyenv\\lib\\site-packages\\emobpy\\mobility.py:1187: FutureWarning:\n",
      "\n",
      "The frame.append method is deprecated and will be removed from pandas in a future version. Use pandas.concat instead.\n",
      "\n",
      "C:\\Users\\j.muessel\\Miniconda3\\envs\\pyenv\\lib\\site-packages\\emobpy\\mobility.py:1187: FutureWarning:\n",
      "\n",
      "The frame.append method is deprecated and will be removed from pandas in a future version. Use pandas.concat instead.\n",
      "\n",
      "C:\\Users\\j.muessel\\Miniconda3\\envs\\pyenv\\lib\\site-packages\\emobpy\\mobility.py:1187: FutureWarning:\n",
      "\n",
      "The frame.append method is deprecated and will be removed from pandas in a future version. Use pandas.concat instead.\n",
      "\n",
      "C:\\Users\\j.muessel\\Miniconda3\\envs\\pyenv\\lib\\site-packages\\emobpy\\mobility.py:1187: FutureWarning:\n",
      "\n",
      "The frame.append method is deprecated and will be removed from pandas in a future version. Use pandas.concat instead.\n",
      "\n",
      "C:\\Users\\j.muessel\\Miniconda3\\envs\\pyenv\\lib\\site-packages\\emobpy\\mobility.py:1187: FutureWarning:\n",
      "\n",
      "The frame.append method is deprecated and will be removed from pandas in a future version. Use pandas.concat instead.\n",
      "\n",
      "C:\\Users\\j.muessel\\Miniconda3\\envs\\pyenv\\lib\\site-packages\\emobpy\\mobility.py:1187: FutureWarning:\n",
      "\n",
      "The frame.append method is deprecated and will be removed from pandas in a future version. Use pandas.concat instead.\n",
      "\n",
      "C:\\Users\\j.muessel\\Miniconda3\\envs\\pyenv\\lib\\site-packages\\emobpy\\mobility.py:1187: FutureWarning:\n",
      "\n",
      "The frame.append method is deprecated and will be removed from pandas in a future version. Use pandas.concat instead.\n",
      "\n"
     ]
    },
    {
     "name": "stdout",
     "output_type": "stream",
     "text": [
      "Progress: 93% [340 / 365] days"
     ]
    },
    {
     "name": "stderr",
     "output_type": "stream",
     "text": [
      "C:\\Users\\j.muessel\\Miniconda3\\envs\\pyenv\\lib\\site-packages\\emobpy\\mobility.py:1187: FutureWarning:\n",
      "\n",
      "The frame.append method is deprecated and will be removed from pandas in a future version. Use pandas.concat instead.\n",
      "\n"
     ]
    },
    {
     "name": "stdout",
     "output_type": "stream",
     "text": [
      "Progress: 93% [342 / 365] days"
     ]
    },
    {
     "name": "stderr",
     "output_type": "stream",
     "text": [
      "C:\\Users\\j.muessel\\Miniconda3\\envs\\pyenv\\lib\\site-packages\\emobpy\\mobility.py:1187: FutureWarning:\n",
      "\n",
      "The frame.append method is deprecated and will be removed from pandas in a future version. Use pandas.concat instead.\n",
      "\n"
     ]
    },
    {
     "name": "stdout",
     "output_type": "stream",
     "text": [
      "Progress: 100% [365 / 365] days"
     ]
    },
    {
     "name": "stderr",
     "output_type": "stream",
     "text": [
      "C:\\Users\\j.muessel\\Miniconda3\\envs\\pyenv\\lib\\site-packages\\emobpy\\mobility.py:1187: FutureWarning:\n",
      "\n",
      "The frame.append method is deprecated and will be removed from pandas in a future version. Use pandas.concat instead.\n",
      "\n"
     ]
    },
    {
     "name": "stdout",
     "output_type": "stream",
     "text": [
      "\n",
      "Profile done: BEV1_W53_c986e\n",
      "Elapsed time (min): 0.32\n",
      " \n",
      "See Log files\n",
      "C:\\Users\\j.muessel\\Documents\\GitHub\\EES\\Emobpy\\my_emobpy\\log\\emobpy.log\n"
     ]
    },
    {
     "name": "stderr",
     "output_type": "stream",
     "text": [
      "C:\\Users\\j.muessel\\Miniconda3\\envs\\pyenv\\lib\\site-packages\\emobpy\\consumption.py:413: FutureWarning:\n",
      "\n",
      "The frame.append method is deprecated and will be removed from pandas in a future version. Use pandas.concat instead.\n",
      "\n",
      "C:\\Users\\j.muessel\\Miniconda3\\envs\\pyenv\\lib\\site-packages\\emobpy\\consumption.py:413: FutureWarning:\n",
      "\n",
      "The frame.append method is deprecated and will be removed from pandas in a future version. Use pandas.concat instead.\n",
      "\n",
      "C:\\Users\\j.muessel\\Miniconda3\\envs\\pyenv\\lib\\site-packages\\emobpy\\consumption.py:413: FutureWarning:\n",
      "\n",
      "The frame.append method is deprecated and will be removed from pandas in a future version. Use pandas.concat instead.\n",
      "\n",
      "C:\\Users\\j.muessel\\Miniconda3\\envs\\pyenv\\lib\\site-packages\\emobpy\\consumption.py:413: FutureWarning:\n",
      "\n",
      "The frame.append method is deprecated and will be removed from pandas in a future version. Use pandas.concat instead.\n",
      "\n",
      "C:\\Users\\j.muessel\\Miniconda3\\envs\\pyenv\\lib\\site-packages\\emobpy\\consumption.py:413: FutureWarning:\n",
      "\n",
      "The frame.append method is deprecated and will be removed from pandas in a future version. Use pandas.concat instead.\n",
      "\n",
      "C:\\Users\\j.muessel\\Miniconda3\\envs\\pyenv\\lib\\site-packages\\emobpy\\consumption.py:413: FutureWarning:\n",
      "\n",
      "The frame.append method is deprecated and will be removed from pandas in a future version. Use pandas.concat instead.\n",
      "\n",
      "C:\\Users\\j.muessel\\Miniconda3\\envs\\pyenv\\lib\\site-packages\\emobpy\\consumption.py:413: FutureWarning:\n",
      "\n",
      "The frame.append method is deprecated and will be removed from pandas in a future version. Use pandas.concat instead.\n",
      "\n",
      "C:\\Users\\j.muessel\\Miniconda3\\envs\\pyenv\\lib\\site-packages\\emobpy\\consumption.py:413: FutureWarning:\n",
      "\n",
      "The frame.append method is deprecated and will be removed from pandas in a future version. Use pandas.concat instead.\n",
      "\n",
      "C:\\Users\\j.muessel\\Miniconda3\\envs\\pyenv\\lib\\site-packages\\emobpy\\consumption.py:413: FutureWarning:\n",
      "\n",
      "The frame.append method is deprecated and will be removed from pandas in a future version. Use pandas.concat instead.\n",
      "\n",
      "C:\\Users\\j.muessel\\Miniconda3\\envs\\pyenv\\lib\\site-packages\\emobpy\\consumption.py:413: FutureWarning:\n",
      "\n",
      "The frame.append method is deprecated and will be removed from pandas in a future version. Use pandas.concat instead.\n",
      "\n",
      "C:\\Users\\j.muessel\\Miniconda3\\envs\\pyenv\\lib\\site-packages\\emobpy\\consumption.py:413: FutureWarning:\n",
      "\n",
      "The frame.append method is deprecated and will be removed from pandas in a future version. Use pandas.concat instead.\n",
      "\n",
      "C:\\Users\\j.muessel\\Miniconda3\\envs\\pyenv\\lib\\site-packages\\emobpy\\consumption.py:413: FutureWarning:\n",
      "\n",
      "The frame.append method is deprecated and will be removed from pandas in a future version. Use pandas.concat instead.\n",
      "\n",
      "C:\\Users\\j.muessel\\Miniconda3\\envs\\pyenv\\lib\\site-packages\\emobpy\\consumption.py:413: FutureWarning:\n",
      "\n",
      "The frame.append method is deprecated and will be removed from pandas in a future version. Use pandas.concat instead.\n",
      "\n",
      "C:\\Users\\j.muessel\\Miniconda3\\envs\\pyenv\\lib\\site-packages\\emobpy\\consumption.py:413: FutureWarning:\n",
      "\n",
      "The frame.append method is deprecated and will be removed from pandas in a future version. Use pandas.concat instead.\n",
      "\n",
      "C:\\Users\\j.muessel\\Miniconda3\\envs\\pyenv\\lib\\site-packages\\emobpy\\consumption.py:413: FutureWarning:\n",
      "\n",
      "The frame.append method is deprecated and will be removed from pandas in a future version. Use pandas.concat instead.\n",
      "\n",
      "C:\\Users\\j.muessel\\Miniconda3\\envs\\pyenv\\lib\\site-packages\\emobpy\\consumption.py:413: FutureWarning:\n",
      "\n",
      "The frame.append method is deprecated and will be removed from pandas in a future version. Use pandas.concat instead.\n",
      "\n",
      "C:\\Users\\j.muessel\\Miniconda3\\envs\\pyenv\\lib\\site-packages\\emobpy\\consumption.py:413: FutureWarning:\n",
      "\n",
      "The frame.append method is deprecated and will be removed from pandas in a future version. Use pandas.concat instead.\n",
      "\n",
      "C:\\Users\\j.muessel\\Miniconda3\\envs\\pyenv\\lib\\site-packages\\emobpy\\consumption.py:413: FutureWarning:\n",
      "\n",
      "The frame.append method is deprecated and will be removed from pandas in a future version. Use pandas.concat instead.\n",
      "\n",
      "C:\\Users\\j.muessel\\Miniconda3\\envs\\pyenv\\lib\\site-packages\\emobpy\\consumption.py:413: FutureWarning:\n",
      "\n",
      "The frame.append method is deprecated and will be removed from pandas in a future version. Use pandas.concat instead.\n",
      "\n",
      "C:\\Users\\j.muessel\\Miniconda3\\envs\\pyenv\\lib\\site-packages\\emobpy\\consumption.py:413: FutureWarning:\n",
      "\n",
      "The frame.append method is deprecated and will be removed from pandas in a future version. Use pandas.concat instead.\n",
      "\n",
      "C:\\Users\\j.muessel\\Miniconda3\\envs\\pyenv\\lib\\site-packages\\emobpy\\consumption.py:413: FutureWarning:\n",
      "\n",
      "The frame.append method is deprecated and will be removed from pandas in a future version. Use pandas.concat instead.\n",
      "\n",
      "C:\\Users\\j.muessel\\Miniconda3\\envs\\pyenv\\lib\\site-packages\\emobpy\\consumption.py:413: FutureWarning:\n",
      "\n",
      "The frame.append method is deprecated and will be removed from pandas in a future version. Use pandas.concat instead.\n",
      "\n",
      "C:\\Users\\j.muessel\\Miniconda3\\envs\\pyenv\\lib\\site-packages\\emobpy\\consumption.py:413: FutureWarning:\n",
      "\n",
      "The frame.append method is deprecated and will be removed from pandas in a future version. Use pandas.concat instead.\n",
      "\n",
      "C:\\Users\\j.muessel\\Miniconda3\\envs\\pyenv\\lib\\site-packages\\emobpy\\consumption.py:413: FutureWarning:\n",
      "\n",
      "The frame.append method is deprecated and will be removed from pandas in a future version. Use pandas.concat instead.\n",
      "\n",
      "C:\\Users\\j.muessel\\Miniconda3\\envs\\pyenv\\lib\\site-packages\\emobpy\\consumption.py:413: FutureWarning:\n",
      "\n",
      "The frame.append method is deprecated and will be removed from pandas in a future version. Use pandas.concat instead.\n",
      "\n",
      "C:\\Users\\j.muessel\\Miniconda3\\envs\\pyenv\\lib\\site-packages\\emobpy\\consumption.py:413: FutureWarning:\n",
      "\n",
      "The frame.append method is deprecated and will be removed from pandas in a future version. Use pandas.concat instead.\n",
      "\n",
      "C:\\Users\\j.muessel\\Miniconda3\\envs\\pyenv\\lib\\site-packages\\emobpy\\consumption.py:413: FutureWarning:\n",
      "\n",
      "The frame.append method is deprecated and will be removed from pandas in a future version. Use pandas.concat instead.\n",
      "\n",
      "C:\\Users\\j.muessel\\Miniconda3\\envs\\pyenv\\lib\\site-packages\\emobpy\\consumption.py:413: FutureWarning:\n",
      "\n",
      "The frame.append method is deprecated and will be removed from pandas in a future version. Use pandas.concat instead.\n",
      "\n",
      "C:\\Users\\j.muessel\\Miniconda3\\envs\\pyenv\\lib\\site-packages\\emobpy\\consumption.py:413: FutureWarning:\n",
      "\n",
      "The frame.append method is deprecated and will be removed from pandas in a future version. Use pandas.concat instead.\n",
      "\n",
      "C:\\Users\\j.muessel\\Miniconda3\\envs\\pyenv\\lib\\site-packages\\emobpy\\consumption.py:413: FutureWarning:\n",
      "\n",
      "The frame.append method is deprecated and will be removed from pandas in a future version. Use pandas.concat instead.\n",
      "\n",
      "C:\\Users\\j.muessel\\Miniconda3\\envs\\pyenv\\lib\\site-packages\\emobpy\\consumption.py:413: FutureWarning:\n",
      "\n",
      "The frame.append method is deprecated and will be removed from pandas in a future version. Use pandas.concat instead.\n",
      "\n",
      "C:\\Users\\j.muessel\\Miniconda3\\envs\\pyenv\\lib\\site-packages\\emobpy\\consumption.py:413: FutureWarning:\n",
      "\n",
      "The frame.append method is deprecated and will be removed from pandas in a future version. Use pandas.concat instead.\n",
      "\n",
      "C:\\Users\\j.muessel\\Miniconda3\\envs\\pyenv\\lib\\site-packages\\emobpy\\consumption.py:413: FutureWarning:\n",
      "\n",
      "The frame.append method is deprecated and will be removed from pandas in a future version. Use pandas.concat instead.\n",
      "\n",
      "C:\\Users\\j.muessel\\Miniconda3\\envs\\pyenv\\lib\\site-packages\\emobpy\\consumption.py:413: FutureWarning:\n",
      "\n",
      "The frame.append method is deprecated and will be removed from pandas in a future version. Use pandas.concat instead.\n",
      "\n",
      "C:\\Users\\j.muessel\\Miniconda3\\envs\\pyenv\\lib\\site-packages\\emobpy\\consumption.py:413: FutureWarning:\n",
      "\n",
      "The frame.append method is deprecated and will be removed from pandas in a future version. Use pandas.concat instead.\n",
      "\n",
      "C:\\Users\\j.muessel\\Miniconda3\\envs\\pyenv\\lib\\site-packages\\emobpy\\consumption.py:413: FutureWarning:\n",
      "\n",
      "The frame.append method is deprecated and will be removed from pandas in a future version. Use pandas.concat instead.\n",
      "\n",
      "C:\\Users\\j.muessel\\Miniconda3\\envs\\pyenv\\lib\\site-packages\\emobpy\\consumption.py:413: FutureWarning:\n",
      "\n",
      "The frame.append method is deprecated and will be removed from pandas in a future version. Use pandas.concat instead.\n",
      "\n",
      "C:\\Users\\j.muessel\\Miniconda3\\envs\\pyenv\\lib\\site-packages\\emobpy\\consumption.py:413: FutureWarning:\n",
      "\n",
      "The frame.append method is deprecated and will be removed from pandas in a future version. Use pandas.concat instead.\n",
      "\n",
      "C:\\Users\\j.muessel\\Miniconda3\\envs\\pyenv\\lib\\site-packages\\emobpy\\consumption.py:413: FutureWarning:\n",
      "\n",
      "The frame.append method is deprecated and will be removed from pandas in a future version. Use pandas.concat instead.\n",
      "\n",
      "C:\\Users\\j.muessel\\Miniconda3\\envs\\pyenv\\lib\\site-packages\\emobpy\\consumption.py:413: FutureWarning:\n",
      "\n",
      "The frame.append method is deprecated and will be removed from pandas in a future version. Use pandas.concat instead.\n",
      "\n",
      "C:\\Users\\j.muessel\\Miniconda3\\envs\\pyenv\\lib\\site-packages\\emobpy\\consumption.py:413: FutureWarning:\n",
      "\n",
      "The frame.append method is deprecated and will be removed from pandas in a future version. Use pandas.concat instead.\n",
      "\n",
      "C:\\Users\\j.muessel\\Miniconda3\\envs\\pyenv\\lib\\site-packages\\emobpy\\consumption.py:413: FutureWarning:\n",
      "\n",
      "The frame.append method is deprecated and will be removed from pandas in a future version. Use pandas.concat instead.\n",
      "\n",
      "C:\\Users\\j.muessel\\Miniconda3\\envs\\pyenv\\lib\\site-packages\\emobpy\\consumption.py:413: FutureWarning:\n",
      "\n",
      "The frame.append method is deprecated and will be removed from pandas in a future version. Use pandas.concat instead.\n",
      "\n",
      "C:\\Users\\j.muessel\\Miniconda3\\envs\\pyenv\\lib\\site-packages\\emobpy\\consumption.py:413: FutureWarning:\n",
      "\n",
      "The frame.append method is deprecated and will be removed from pandas in a future version. Use pandas.concat instead.\n",
      "\n",
      "C:\\Users\\j.muessel\\Miniconda3\\envs\\pyenv\\lib\\site-packages\\emobpy\\consumption.py:413: FutureWarning:\n",
      "\n",
      "The frame.append method is deprecated and will be removed from pandas in a future version. Use pandas.concat instead.\n",
      "\n",
      "C:\\Users\\j.muessel\\Miniconda3\\envs\\pyenv\\lib\\site-packages\\emobpy\\consumption.py:413: FutureWarning:\n",
      "\n",
      "The frame.append method is deprecated and will be removed from pandas in a future version. Use pandas.concat instead.\n",
      "\n",
      "C:\\Users\\j.muessel\\Miniconda3\\envs\\pyenv\\lib\\site-packages\\emobpy\\consumption.py:413: FutureWarning:\n",
      "\n",
      "The frame.append method is deprecated and will be removed from pandas in a future version. Use pandas.concat instead.\n",
      "\n",
      "C:\\Users\\j.muessel\\Miniconda3\\envs\\pyenv\\lib\\site-packages\\emobpy\\consumption.py:413: FutureWarning:\n",
      "\n",
      "The frame.append method is deprecated and will be removed from pandas in a future version. Use pandas.concat instead.\n",
      "\n",
      "C:\\Users\\j.muessel\\Miniconda3\\envs\\pyenv\\lib\\site-packages\\emobpy\\consumption.py:413: FutureWarning:\n",
      "\n",
      "The frame.append method is deprecated and will be removed from pandas in a future version. Use pandas.concat instead.\n",
      "\n",
      "C:\\Users\\j.muessel\\Miniconda3\\envs\\pyenv\\lib\\site-packages\\emobpy\\consumption.py:413: FutureWarning:\n",
      "\n",
      "The frame.append method is deprecated and will be removed from pandas in a future version. Use pandas.concat instead.\n",
      "\n",
      "C:\\Users\\j.muessel\\Miniconda3\\envs\\pyenv\\lib\\site-packages\\emobpy\\consumption.py:413: FutureWarning:\n",
      "\n",
      "The frame.append method is deprecated and will be removed from pandas in a future version. Use pandas.concat instead.\n",
      "\n",
      "C:\\Users\\j.muessel\\Miniconda3\\envs\\pyenv\\lib\\site-packages\\emobpy\\consumption.py:413: FutureWarning:\n",
      "\n",
      "The frame.append method is deprecated and will be removed from pandas in a future version. Use pandas.concat instead.\n",
      "\n",
      "C:\\Users\\j.muessel\\Miniconda3\\envs\\pyenv\\lib\\site-packages\\emobpy\\consumption.py:413: FutureWarning:\n",
      "\n",
      "The frame.append method is deprecated and will be removed from pandas in a future version. Use pandas.concat instead.\n",
      "\n",
      "C:\\Users\\j.muessel\\Miniconda3\\envs\\pyenv\\lib\\site-packages\\emobpy\\consumption.py:413: FutureWarning:\n",
      "\n",
      "The frame.append method is deprecated and will be removed from pandas in a future version. Use pandas.concat instead.\n",
      "\n",
      "C:\\Users\\j.muessel\\Miniconda3\\envs\\pyenv\\lib\\site-packages\\emobpy\\consumption.py:413: FutureWarning:\n",
      "\n",
      "The frame.append method is deprecated and will be removed from pandas in a future version. Use pandas.concat instead.\n",
      "\n",
      "C:\\Users\\j.muessel\\Miniconda3\\envs\\pyenv\\lib\\site-packages\\emobpy\\consumption.py:413: FutureWarning:\n",
      "\n",
      "The frame.append method is deprecated and will be removed from pandas in a future version. Use pandas.concat instead.\n",
      "\n",
      "C:\\Users\\j.muessel\\Miniconda3\\envs\\pyenv\\lib\\site-packages\\emobpy\\consumption.py:413: FutureWarning:\n",
      "\n",
      "The frame.append method is deprecated and will be removed from pandas in a future version. Use pandas.concat instead.\n",
      "\n",
      "C:\\Users\\j.muessel\\Miniconda3\\envs\\pyenv\\lib\\site-packages\\emobpy\\consumption.py:413: FutureWarning:\n",
      "\n",
      "The frame.append method is deprecated and will be removed from pandas in a future version. Use pandas.concat instead.\n",
      "\n",
      "C:\\Users\\j.muessel\\Miniconda3\\envs\\pyenv\\lib\\site-packages\\emobpy\\consumption.py:413: FutureWarning:\n",
      "\n",
      "The frame.append method is deprecated and will be removed from pandas in a future version. Use pandas.concat instead.\n",
      "\n",
      "C:\\Users\\j.muessel\\Miniconda3\\envs\\pyenv\\lib\\site-packages\\emobpy\\consumption.py:413: FutureWarning:\n",
      "\n",
      "The frame.append method is deprecated and will be removed from pandas in a future version. Use pandas.concat instead.\n",
      "\n",
      "C:\\Users\\j.muessel\\Miniconda3\\envs\\pyenv\\lib\\site-packages\\emobpy\\consumption.py:413: FutureWarning:\n",
      "\n",
      "The frame.append method is deprecated and will be removed from pandas in a future version. Use pandas.concat instead.\n",
      "\n",
      "C:\\Users\\j.muessel\\Miniconda3\\envs\\pyenv\\lib\\site-packages\\emobpy\\consumption.py:413: FutureWarning:\n",
      "\n",
      "The frame.append method is deprecated and will be removed from pandas in a future version. Use pandas.concat instead.\n",
      "\n",
      "C:\\Users\\j.muessel\\Miniconda3\\envs\\pyenv\\lib\\site-packages\\emobpy\\consumption.py:413: FutureWarning:\n",
      "\n",
      "The frame.append method is deprecated and will be removed from pandas in a future version. Use pandas.concat instead.\n",
      "\n",
      "C:\\Users\\j.muessel\\Miniconda3\\envs\\pyenv\\lib\\site-packages\\emobpy\\consumption.py:413: FutureWarning:\n",
      "\n",
      "The frame.append method is deprecated and will be removed from pandas in a future version. Use pandas.concat instead.\n",
      "\n",
      "C:\\Users\\j.muessel\\Miniconda3\\envs\\pyenv\\lib\\site-packages\\emobpy\\consumption.py:413: FutureWarning:\n",
      "\n",
      "The frame.append method is deprecated and will be removed from pandas in a future version. Use pandas.concat instead.\n",
      "\n",
      "C:\\Users\\j.muessel\\Miniconda3\\envs\\pyenv\\lib\\site-packages\\emobpy\\consumption.py:413: FutureWarning:\n",
      "\n",
      "The frame.append method is deprecated and will be removed from pandas in a future version. Use pandas.concat instead.\n",
      "\n",
      "C:\\Users\\j.muessel\\Miniconda3\\envs\\pyenv\\lib\\site-packages\\emobpy\\consumption.py:413: FutureWarning:\n",
      "\n",
      "The frame.append method is deprecated and will be removed from pandas in a future version. Use pandas.concat instead.\n",
      "\n",
      "C:\\Users\\j.muessel\\Miniconda3\\envs\\pyenv\\lib\\site-packages\\emobpy\\consumption.py:413: FutureWarning:\n",
      "\n",
      "The frame.append method is deprecated and will be removed from pandas in a future version. Use pandas.concat instead.\n",
      "\n",
      "C:\\Users\\j.muessel\\Miniconda3\\envs\\pyenv\\lib\\site-packages\\emobpy\\consumption.py:413: FutureWarning:\n",
      "\n",
      "The frame.append method is deprecated and will be removed from pandas in a future version. Use pandas.concat instead.\n",
      "\n",
      "C:\\Users\\j.muessel\\Miniconda3\\envs\\pyenv\\lib\\site-packages\\emobpy\\consumption.py:413: FutureWarning:\n",
      "\n",
      "The frame.append method is deprecated and will be removed from pandas in a future version. Use pandas.concat instead.\n",
      "\n",
      "C:\\Users\\j.muessel\\Miniconda3\\envs\\pyenv\\lib\\site-packages\\emobpy\\consumption.py:413: FutureWarning:\n",
      "\n",
      "The frame.append method is deprecated and will be removed from pandas in a future version. Use pandas.concat instead.\n",
      "\n",
      "C:\\Users\\j.muessel\\Miniconda3\\envs\\pyenv\\lib\\site-packages\\emobpy\\consumption.py:413: FutureWarning:\n",
      "\n",
      "The frame.append method is deprecated and will be removed from pandas in a future version. Use pandas.concat instead.\n",
      "\n",
      "C:\\Users\\j.muessel\\Miniconda3\\envs\\pyenv\\lib\\site-packages\\emobpy\\consumption.py:413: FutureWarning:\n",
      "\n",
      "The frame.append method is deprecated and will be removed from pandas in a future version. Use pandas.concat instead.\n",
      "\n",
      "C:\\Users\\j.muessel\\Miniconda3\\envs\\pyenv\\lib\\site-packages\\emobpy\\consumption.py:413: FutureWarning:\n",
      "\n",
      "The frame.append method is deprecated and will be removed from pandas in a future version. Use pandas.concat instead.\n",
      "\n",
      "C:\\Users\\j.muessel\\Miniconda3\\envs\\pyenv\\lib\\site-packages\\emobpy\\consumption.py:413: FutureWarning:\n",
      "\n",
      "The frame.append method is deprecated and will be removed from pandas in a future version. Use pandas.concat instead.\n",
      "\n",
      "C:\\Users\\j.muessel\\Miniconda3\\envs\\pyenv\\lib\\site-packages\\emobpy\\consumption.py:413: FutureWarning:\n",
      "\n",
      "The frame.append method is deprecated and will be removed from pandas in a future version. Use pandas.concat instead.\n",
      "\n",
      "C:\\Users\\j.muessel\\Miniconda3\\envs\\pyenv\\lib\\site-packages\\emobpy\\consumption.py:413: FutureWarning:\n",
      "\n",
      "The frame.append method is deprecated and will be removed from pandas in a future version. Use pandas.concat instead.\n",
      "\n",
      "C:\\Users\\j.muessel\\Miniconda3\\envs\\pyenv\\lib\\site-packages\\emobpy\\consumption.py:413: FutureWarning:\n",
      "\n",
      "The frame.append method is deprecated and will be removed from pandas in a future version. Use pandas.concat instead.\n",
      "\n",
      "C:\\Users\\j.muessel\\Miniconda3\\envs\\pyenv\\lib\\site-packages\\emobpy\\consumption.py:413: FutureWarning:\n",
      "\n",
      "The frame.append method is deprecated and will be removed from pandas in a future version. Use pandas.concat instead.\n",
      "\n",
      "C:\\Users\\j.muessel\\Miniconda3\\envs\\pyenv\\lib\\site-packages\\emobpy\\consumption.py:413: FutureWarning:\n",
      "\n",
      "The frame.append method is deprecated and will be removed from pandas in a future version. Use pandas.concat instead.\n",
      "\n",
      "C:\\Users\\j.muessel\\Miniconda3\\envs\\pyenv\\lib\\site-packages\\emobpy\\consumption.py:413: FutureWarning:\n",
      "\n",
      "The frame.append method is deprecated and will be removed from pandas in a future version. Use pandas.concat instead.\n",
      "\n",
      "C:\\Users\\j.muessel\\Miniconda3\\envs\\pyenv\\lib\\site-packages\\emobpy\\consumption.py:413: FutureWarning:\n",
      "\n",
      "The frame.append method is deprecated and will be removed from pandas in a future version. Use pandas.concat instead.\n",
      "\n",
      "C:\\Users\\j.muessel\\Miniconda3\\envs\\pyenv\\lib\\site-packages\\emobpy\\consumption.py:413: FutureWarning:\n",
      "\n",
      "The frame.append method is deprecated and will be removed from pandas in a future version. Use pandas.concat instead.\n",
      "\n",
      "C:\\Users\\j.muessel\\Miniconda3\\envs\\pyenv\\lib\\site-packages\\emobpy\\consumption.py:413: FutureWarning:\n",
      "\n",
      "The frame.append method is deprecated and will be removed from pandas in a future version. Use pandas.concat instead.\n",
      "\n",
      "C:\\Users\\j.muessel\\Miniconda3\\envs\\pyenv\\lib\\site-packages\\emobpy\\consumption.py:413: FutureWarning:\n",
      "\n",
      "The frame.append method is deprecated and will be removed from pandas in a future version. Use pandas.concat instead.\n",
      "\n",
      "C:\\Users\\j.muessel\\Miniconda3\\envs\\pyenv\\lib\\site-packages\\emobpy\\consumption.py:413: FutureWarning:\n",
      "\n",
      "The frame.append method is deprecated and will be removed from pandas in a future version. Use pandas.concat instead.\n",
      "\n",
      "C:\\Users\\j.muessel\\Miniconda3\\envs\\pyenv\\lib\\site-packages\\emobpy\\consumption.py:413: FutureWarning:\n",
      "\n",
      "The frame.append method is deprecated and will be removed from pandas in a future version. Use pandas.concat instead.\n",
      "\n",
      "C:\\Users\\j.muessel\\Miniconda3\\envs\\pyenv\\lib\\site-packages\\emobpy\\consumption.py:413: FutureWarning:\n",
      "\n",
      "The frame.append method is deprecated and will be removed from pandas in a future version. Use pandas.concat instead.\n",
      "\n",
      "C:\\Users\\j.muessel\\Miniconda3\\envs\\pyenv\\lib\\site-packages\\emobpy\\consumption.py:413: FutureWarning:\n",
      "\n",
      "The frame.append method is deprecated and will be removed from pandas in a future version. Use pandas.concat instead.\n",
      "\n",
      "C:\\Users\\j.muessel\\Miniconda3\\envs\\pyenv\\lib\\site-packages\\emobpy\\consumption.py:413: FutureWarning:\n",
      "\n",
      "The frame.append method is deprecated and will be removed from pandas in a future version. Use pandas.concat instead.\n",
      "\n",
      "C:\\Users\\j.muessel\\Miniconda3\\envs\\pyenv\\lib\\site-packages\\emobpy\\consumption.py:413: FutureWarning:\n",
      "\n",
      "The frame.append method is deprecated and will be removed from pandas in a future version. Use pandas.concat instead.\n",
      "\n",
      "C:\\Users\\j.muessel\\Miniconda3\\envs\\pyenv\\lib\\site-packages\\emobpy\\consumption.py:413: FutureWarning:\n",
      "\n",
      "The frame.append method is deprecated and will be removed from pandas in a future version. Use pandas.concat instead.\n",
      "\n"
     ]
    },
    {
     "name": "stderr",
     "output_type": "stream",
     "text": [
      "C:\\Users\\j.muessel\\Miniconda3\\envs\\pyenv\\lib\\site-packages\\emobpy\\consumption.py:413: FutureWarning:\n",
      "\n",
      "The frame.append method is deprecated and will be removed from pandas in a future version. Use pandas.concat instead.\n",
      "\n",
      "C:\\Users\\j.muessel\\Miniconda3\\envs\\pyenv\\lib\\site-packages\\emobpy\\consumption.py:413: FutureWarning:\n",
      "\n",
      "The frame.append method is deprecated and will be removed from pandas in a future version. Use pandas.concat instead.\n",
      "\n",
      "C:\\Users\\j.muessel\\Miniconda3\\envs\\pyenv\\lib\\site-packages\\emobpy\\consumption.py:413: FutureWarning:\n",
      "\n",
      "The frame.append method is deprecated and will be removed from pandas in a future version. Use pandas.concat instead.\n",
      "\n",
      "C:\\Users\\j.muessel\\Miniconda3\\envs\\pyenv\\lib\\site-packages\\emobpy\\consumption.py:413: FutureWarning:\n",
      "\n",
      "The frame.append method is deprecated and will be removed from pandas in a future version. Use pandas.concat instead.\n",
      "\n",
      "C:\\Users\\j.muessel\\Miniconda3\\envs\\pyenv\\lib\\site-packages\\emobpy\\consumption.py:413: FutureWarning:\n",
      "\n",
      "The frame.append method is deprecated and will be removed from pandas in a future version. Use pandas.concat instead.\n",
      "\n",
      "C:\\Users\\j.muessel\\Miniconda3\\envs\\pyenv\\lib\\site-packages\\emobpy\\consumption.py:413: FutureWarning:\n",
      "\n",
      "The frame.append method is deprecated and will be removed from pandas in a future version. Use pandas.concat instead.\n",
      "\n",
      "C:\\Users\\j.muessel\\Miniconda3\\envs\\pyenv\\lib\\site-packages\\emobpy\\consumption.py:413: FutureWarning:\n",
      "\n",
      "The frame.append method is deprecated and will be removed from pandas in a future version. Use pandas.concat instead.\n",
      "\n",
      "C:\\Users\\j.muessel\\Miniconda3\\envs\\pyenv\\lib\\site-packages\\emobpy\\consumption.py:413: FutureWarning:\n",
      "\n",
      "The frame.append method is deprecated and will be removed from pandas in a future version. Use pandas.concat instead.\n",
      "\n",
      "C:\\Users\\j.muessel\\Miniconda3\\envs\\pyenv\\lib\\site-packages\\emobpy\\consumption.py:413: FutureWarning:\n",
      "\n",
      "The frame.append method is deprecated and will be removed from pandas in a future version. Use pandas.concat instead.\n",
      "\n",
      "C:\\Users\\j.muessel\\Miniconda3\\envs\\pyenv\\lib\\site-packages\\emobpy\\consumption.py:413: FutureWarning:\n",
      "\n",
      "The frame.append method is deprecated and will be removed from pandas in a future version. Use pandas.concat instead.\n",
      "\n",
      "C:\\Users\\j.muessel\\Miniconda3\\envs\\pyenv\\lib\\site-packages\\emobpy\\consumption.py:413: FutureWarning:\n",
      "\n",
      "The frame.append method is deprecated and will be removed from pandas in a future version. Use pandas.concat instead.\n",
      "\n",
      "C:\\Users\\j.muessel\\Miniconda3\\envs\\pyenv\\lib\\site-packages\\emobpy\\consumption.py:413: FutureWarning:\n",
      "\n",
      "The frame.append method is deprecated and will be removed from pandas in a future version. Use pandas.concat instead.\n",
      "\n",
      "C:\\Users\\j.muessel\\Miniconda3\\envs\\pyenv\\lib\\site-packages\\emobpy\\consumption.py:413: FutureWarning:\n",
      "\n",
      "The frame.append method is deprecated and will be removed from pandas in a future version. Use pandas.concat instead.\n",
      "\n",
      "C:\\Users\\j.muessel\\Miniconda3\\envs\\pyenv\\lib\\site-packages\\emobpy\\consumption.py:413: FutureWarning:\n",
      "\n",
      "The frame.append method is deprecated and will be removed from pandas in a future version. Use pandas.concat instead.\n",
      "\n",
      "C:\\Users\\j.muessel\\Miniconda3\\envs\\pyenv\\lib\\site-packages\\emobpy\\consumption.py:413: FutureWarning:\n",
      "\n",
      "The frame.append method is deprecated and will be removed from pandas in a future version. Use pandas.concat instead.\n",
      "\n",
      "C:\\Users\\j.muessel\\Miniconda3\\envs\\pyenv\\lib\\site-packages\\emobpy\\consumption.py:413: FutureWarning:\n",
      "\n",
      "The frame.append method is deprecated and will be removed from pandas in a future version. Use pandas.concat instead.\n",
      "\n",
      "C:\\Users\\j.muessel\\Miniconda3\\envs\\pyenv\\lib\\site-packages\\emobpy\\consumption.py:413: FutureWarning:\n",
      "\n",
      "The frame.append method is deprecated and will be removed from pandas in a future version. Use pandas.concat instead.\n",
      "\n",
      "C:\\Users\\j.muessel\\Miniconda3\\envs\\pyenv\\lib\\site-packages\\emobpy\\consumption.py:413: FutureWarning:\n",
      "\n",
      "The frame.append method is deprecated and will be removed from pandas in a future version. Use pandas.concat instead.\n",
      "\n",
      "C:\\Users\\j.muessel\\Miniconda3\\envs\\pyenv\\lib\\site-packages\\emobpy\\consumption.py:413: FutureWarning:\n",
      "\n",
      "The frame.append method is deprecated and will be removed from pandas in a future version. Use pandas.concat instead.\n",
      "\n",
      "C:\\Users\\j.muessel\\Miniconda3\\envs\\pyenv\\lib\\site-packages\\emobpy\\consumption.py:413: FutureWarning:\n",
      "\n",
      "The frame.append method is deprecated and will be removed from pandas in a future version. Use pandas.concat instead.\n",
      "\n",
      "C:\\Users\\j.muessel\\Miniconda3\\envs\\pyenv\\lib\\site-packages\\emobpy\\consumption.py:413: FutureWarning:\n",
      "\n",
      "The frame.append method is deprecated and will be removed from pandas in a future version. Use pandas.concat instead.\n",
      "\n",
      "C:\\Users\\j.muessel\\Miniconda3\\envs\\pyenv\\lib\\site-packages\\emobpy\\consumption.py:413: FutureWarning:\n",
      "\n",
      "The frame.append method is deprecated and will be removed from pandas in a future version. Use pandas.concat instead.\n",
      "\n",
      "C:\\Users\\j.muessel\\Miniconda3\\envs\\pyenv\\lib\\site-packages\\emobpy\\consumption.py:413: FutureWarning:\n",
      "\n",
      "The frame.append method is deprecated and will be removed from pandas in a future version. Use pandas.concat instead.\n",
      "\n",
      "C:\\Users\\j.muessel\\Miniconda3\\envs\\pyenv\\lib\\site-packages\\emobpy\\consumption.py:413: FutureWarning:\n",
      "\n",
      "The frame.append method is deprecated and will be removed from pandas in a future version. Use pandas.concat instead.\n",
      "\n",
      "C:\\Users\\j.muessel\\Miniconda3\\envs\\pyenv\\lib\\site-packages\\emobpy\\consumption.py:413: FutureWarning:\n",
      "\n",
      "The frame.append method is deprecated and will be removed from pandas in a future version. Use pandas.concat instead.\n",
      "\n",
      "C:\\Users\\j.muessel\\Miniconda3\\envs\\pyenv\\lib\\site-packages\\emobpy\\consumption.py:413: FutureWarning:\n",
      "\n",
      "The frame.append method is deprecated and will be removed from pandas in a future version. Use pandas.concat instead.\n",
      "\n",
      "C:\\Users\\j.muessel\\Miniconda3\\envs\\pyenv\\lib\\site-packages\\emobpy\\consumption.py:413: FutureWarning:\n",
      "\n",
      "The frame.append method is deprecated and will be removed from pandas in a future version. Use pandas.concat instead.\n",
      "\n",
      "C:\\Users\\j.muessel\\Miniconda3\\envs\\pyenv\\lib\\site-packages\\emobpy\\consumption.py:413: FutureWarning:\n",
      "\n",
      "The frame.append method is deprecated and will be removed from pandas in a future version. Use pandas.concat instead.\n",
      "\n",
      "C:\\Users\\j.muessel\\Miniconda3\\envs\\pyenv\\lib\\site-packages\\emobpy\\consumption.py:413: FutureWarning:\n",
      "\n",
      "The frame.append method is deprecated and will be removed from pandas in a future version. Use pandas.concat instead.\n",
      "\n",
      "C:\\Users\\j.muessel\\Miniconda3\\envs\\pyenv\\lib\\site-packages\\emobpy\\consumption.py:413: FutureWarning:\n",
      "\n",
      "The frame.append method is deprecated and will be removed from pandas in a future version. Use pandas.concat instead.\n",
      "\n",
      "C:\\Users\\j.muessel\\Miniconda3\\envs\\pyenv\\lib\\site-packages\\emobpy\\consumption.py:413: FutureWarning:\n",
      "\n",
      "The frame.append method is deprecated and will be removed from pandas in a future version. Use pandas.concat instead.\n",
      "\n",
      "C:\\Users\\j.muessel\\Miniconda3\\envs\\pyenv\\lib\\site-packages\\emobpy\\consumption.py:413: FutureWarning:\n",
      "\n",
      "The frame.append method is deprecated and will be removed from pandas in a future version. Use pandas.concat instead.\n",
      "\n",
      "C:\\Users\\j.muessel\\Miniconda3\\envs\\pyenv\\lib\\site-packages\\emobpy\\consumption.py:413: FutureWarning:\n",
      "\n",
      "The frame.append method is deprecated and will be removed from pandas in a future version. Use pandas.concat instead.\n",
      "\n",
      "C:\\Users\\j.muessel\\Miniconda3\\envs\\pyenv\\lib\\site-packages\\emobpy\\consumption.py:413: FutureWarning:\n",
      "\n",
      "The frame.append method is deprecated and will be removed from pandas in a future version. Use pandas.concat instead.\n",
      "\n",
      "C:\\Users\\j.muessel\\Miniconda3\\envs\\pyenv\\lib\\site-packages\\emobpy\\consumption.py:413: FutureWarning:\n",
      "\n",
      "The frame.append method is deprecated and will be removed from pandas in a future version. Use pandas.concat instead.\n",
      "\n",
      "C:\\Users\\j.muessel\\Miniconda3\\envs\\pyenv\\lib\\site-packages\\emobpy\\consumption.py:413: FutureWarning:\n",
      "\n",
      "The frame.append method is deprecated and will be removed from pandas in a future version. Use pandas.concat instead.\n",
      "\n",
      "C:\\Users\\j.muessel\\Miniconda3\\envs\\pyenv\\lib\\site-packages\\emobpy\\consumption.py:413: FutureWarning:\n",
      "\n",
      "The frame.append method is deprecated and will be removed from pandas in a future version. Use pandas.concat instead.\n",
      "\n",
      "C:\\Users\\j.muessel\\Miniconda3\\envs\\pyenv\\lib\\site-packages\\emobpy\\consumption.py:413: FutureWarning:\n",
      "\n",
      "The frame.append method is deprecated and will be removed from pandas in a future version. Use pandas.concat instead.\n",
      "\n",
      "C:\\Users\\j.muessel\\Miniconda3\\envs\\pyenv\\lib\\site-packages\\emobpy\\consumption.py:413: FutureWarning:\n",
      "\n",
      "The frame.append method is deprecated and will be removed from pandas in a future version. Use pandas.concat instead.\n",
      "\n",
      "C:\\Users\\j.muessel\\Miniconda3\\envs\\pyenv\\lib\\site-packages\\emobpy\\consumption.py:413: FutureWarning:\n",
      "\n",
      "The frame.append method is deprecated and will be removed from pandas in a future version. Use pandas.concat instead.\n",
      "\n",
      "C:\\Users\\j.muessel\\Miniconda3\\envs\\pyenv\\lib\\site-packages\\emobpy\\consumption.py:413: FutureWarning:\n",
      "\n",
      "The frame.append method is deprecated and will be removed from pandas in a future version. Use pandas.concat instead.\n",
      "\n",
      "C:\\Users\\j.muessel\\Miniconda3\\envs\\pyenv\\lib\\site-packages\\emobpy\\consumption.py:413: FutureWarning:\n",
      "\n",
      "The frame.append method is deprecated and will be removed from pandas in a future version. Use pandas.concat instead.\n",
      "\n",
      "C:\\Users\\j.muessel\\Miniconda3\\envs\\pyenv\\lib\\site-packages\\emobpy\\consumption.py:413: FutureWarning:\n",
      "\n",
      "The frame.append method is deprecated and will be removed from pandas in a future version. Use pandas.concat instead.\n",
      "\n",
      "C:\\Users\\j.muessel\\Miniconda3\\envs\\pyenv\\lib\\site-packages\\emobpy\\consumption.py:413: FutureWarning:\n",
      "\n",
      "The frame.append method is deprecated and will be removed from pandas in a future version. Use pandas.concat instead.\n",
      "\n",
      "C:\\Users\\j.muessel\\Miniconda3\\envs\\pyenv\\lib\\site-packages\\emobpy\\consumption.py:413: FutureWarning:\n",
      "\n",
      "The frame.append method is deprecated and will be removed from pandas in a future version. Use pandas.concat instead.\n",
      "\n",
      "C:\\Users\\j.muessel\\Miniconda3\\envs\\pyenv\\lib\\site-packages\\emobpy\\consumption.py:413: FutureWarning:\n",
      "\n",
      "The frame.append method is deprecated and will be removed from pandas in a future version. Use pandas.concat instead.\n",
      "\n",
      "C:\\Users\\j.muessel\\Miniconda3\\envs\\pyenv\\lib\\site-packages\\emobpy\\consumption.py:413: FutureWarning:\n",
      "\n",
      "The frame.append method is deprecated and will be removed from pandas in a future version. Use pandas.concat instead.\n",
      "\n",
      "C:\\Users\\j.muessel\\Miniconda3\\envs\\pyenv\\lib\\site-packages\\emobpy\\consumption.py:413: FutureWarning:\n",
      "\n",
      "The frame.append method is deprecated and will be removed from pandas in a future version. Use pandas.concat instead.\n",
      "\n",
      "C:\\Users\\j.muessel\\Miniconda3\\envs\\pyenv\\lib\\site-packages\\emobpy\\consumption.py:413: FutureWarning:\n",
      "\n",
      "The frame.append method is deprecated and will be removed from pandas in a future version. Use pandas.concat instead.\n",
      "\n",
      "C:\\Users\\j.muessel\\Miniconda3\\envs\\pyenv\\lib\\site-packages\\emobpy\\consumption.py:413: FutureWarning:\n",
      "\n",
      "The frame.append method is deprecated and will be removed from pandas in a future version. Use pandas.concat instead.\n",
      "\n",
      "C:\\Users\\j.muessel\\Miniconda3\\envs\\pyenv\\lib\\site-packages\\emobpy\\consumption.py:413: FutureWarning:\n",
      "\n",
      "The frame.append method is deprecated and will be removed from pandas in a future version. Use pandas.concat instead.\n",
      "\n",
      "C:\\Users\\j.muessel\\Miniconda3\\envs\\pyenv\\lib\\site-packages\\emobpy\\consumption.py:413: FutureWarning:\n",
      "\n",
      "The frame.append method is deprecated and will be removed from pandas in a future version. Use pandas.concat instead.\n",
      "\n",
      "C:\\Users\\j.muessel\\Miniconda3\\envs\\pyenv\\lib\\site-packages\\emobpy\\consumption.py:413: FutureWarning:\n",
      "\n",
      "The frame.append method is deprecated and will be removed from pandas in a future version. Use pandas.concat instead.\n",
      "\n",
      "C:\\Users\\j.muessel\\Miniconda3\\envs\\pyenv\\lib\\site-packages\\emobpy\\consumption.py:413: FutureWarning:\n",
      "\n",
      "The frame.append method is deprecated and will be removed from pandas in a future version. Use pandas.concat instead.\n",
      "\n",
      "C:\\Users\\j.muessel\\Miniconda3\\envs\\pyenv\\lib\\site-packages\\emobpy\\consumption.py:413: FutureWarning:\n",
      "\n",
      "The frame.append method is deprecated and will be removed from pandas in a future version. Use pandas.concat instead.\n",
      "\n",
      "C:\\Users\\j.muessel\\Miniconda3\\envs\\pyenv\\lib\\site-packages\\emobpy\\consumption.py:413: FutureWarning:\n",
      "\n",
      "The frame.append method is deprecated and will be removed from pandas in a future version. Use pandas.concat instead.\n",
      "\n",
      "C:\\Users\\j.muessel\\Miniconda3\\envs\\pyenv\\lib\\site-packages\\emobpy\\consumption.py:413: FutureWarning:\n",
      "\n",
      "The frame.append method is deprecated and will be removed from pandas in a future version. Use pandas.concat instead.\n",
      "\n",
      "C:\\Users\\j.muessel\\Miniconda3\\envs\\pyenv\\lib\\site-packages\\emobpy\\consumption.py:413: FutureWarning:\n",
      "\n",
      "The frame.append method is deprecated and will be removed from pandas in a future version. Use pandas.concat instead.\n",
      "\n",
      "C:\\Users\\j.muessel\\Miniconda3\\envs\\pyenv\\lib\\site-packages\\emobpy\\consumption.py:413: FutureWarning:\n",
      "\n",
      "The frame.append method is deprecated and will be removed from pandas in a future version. Use pandas.concat instead.\n",
      "\n",
      "C:\\Users\\j.muessel\\Miniconda3\\envs\\pyenv\\lib\\site-packages\\emobpy\\consumption.py:413: FutureWarning:\n",
      "\n",
      "The frame.append method is deprecated and will be removed from pandas in a future version. Use pandas.concat instead.\n",
      "\n",
      "C:\\Users\\j.muessel\\Miniconda3\\envs\\pyenv\\lib\\site-packages\\emobpy\\consumption.py:413: FutureWarning:\n",
      "\n",
      "The frame.append method is deprecated and will be removed from pandas in a future version. Use pandas.concat instead.\n",
      "\n",
      "C:\\Users\\j.muessel\\Miniconda3\\envs\\pyenv\\lib\\site-packages\\emobpy\\consumption.py:413: FutureWarning:\n",
      "\n",
      "The frame.append method is deprecated and will be removed from pandas in a future version. Use pandas.concat instead.\n",
      "\n",
      "C:\\Users\\j.muessel\\Miniconda3\\envs\\pyenv\\lib\\site-packages\\emobpy\\consumption.py:413: FutureWarning:\n",
      "\n",
      "The frame.append method is deprecated and will be removed from pandas in a future version. Use pandas.concat instead.\n",
      "\n",
      "C:\\Users\\j.muessel\\Miniconda3\\envs\\pyenv\\lib\\site-packages\\emobpy\\consumption.py:413: FutureWarning:\n",
      "\n",
      "The frame.append method is deprecated and will be removed from pandas in a future version. Use pandas.concat instead.\n",
      "\n",
      "C:\\Users\\j.muessel\\Miniconda3\\envs\\pyenv\\lib\\site-packages\\emobpy\\consumption.py:413: FutureWarning:\n",
      "\n",
      "The frame.append method is deprecated and will be removed from pandas in a future version. Use pandas.concat instead.\n",
      "\n",
      "C:\\Users\\j.muessel\\Miniconda3\\envs\\pyenv\\lib\\site-packages\\emobpy\\consumption.py:413: FutureWarning:\n",
      "\n",
      "The frame.append method is deprecated and will be removed from pandas in a future version. Use pandas.concat instead.\n",
      "\n",
      "C:\\Users\\j.muessel\\Miniconda3\\envs\\pyenv\\lib\\site-packages\\emobpy\\consumption.py:413: FutureWarning:\n",
      "\n",
      "The frame.append method is deprecated and will be removed from pandas in a future version. Use pandas.concat instead.\n",
      "\n",
      "C:\\Users\\j.muessel\\Miniconda3\\envs\\pyenv\\lib\\site-packages\\emobpy\\consumption.py:413: FutureWarning:\n",
      "\n",
      "The frame.append method is deprecated and will be removed from pandas in a future version. Use pandas.concat instead.\n",
      "\n",
      "C:\\Users\\j.muessel\\Miniconda3\\envs\\pyenv\\lib\\site-packages\\emobpy\\consumption.py:413: FutureWarning:\n",
      "\n",
      "The frame.append method is deprecated and will be removed from pandas in a future version. Use pandas.concat instead.\n",
      "\n"
     ]
    },
    {
     "name": "stdout",
     "output_type": "stream",
     "text": [
      "Parameter: power\n",
      "   brand                     model  year  value unit\n",
      "0  Tesla             Model S P100D  2016  568.0   kw\n",
      "1  Tesla  Model S Performance (SR)  2020  568.0   kw\n",
      "2  Tesla  Model S Performance (AC)  2019  568.0   kw\n",
      "3  Tesla   Model S P90DL Ludicrous  2016  568.0   kw\n",
      "4  Tesla   Model S P90DL Ludicrous  2015  568.0   kw\n",
      "5  Tesla              Model S P90D  2016  568.0   kw\n",
      "6  Tesla              Model S P90D  2015  568.0   kw\n",
      "7  Tesla   Model S P85DL Ludicrous  2015  568.0   kw\n",
      "8  Tesla  Model S P85D 193kW+375kW  2015  568.0   kw\n",
      "9  Tesla             Model S P100D  2018  568.0   kw\n",
      "Fallback value 0.9 added for missing battery_charging_eff parameter.\n",
      "Fallback value 0.95 added for missing battery_discharging_eff parameter.\n",
      "Fallback value 0.95 added for missing transmission_eff parameter.\n",
      "Fallback value 0.3 added for missing auxiliary_power parameter.\n",
      "Fallback value 3.5 added for missing cabin_volume parameter.\n",
      "Fallback value 1 added for missing hvac_cop_heating parameter.\n",
      "Fallback value 2 added for missing hvac_cop_cooling parameter.\n",
      "New profile running: BEV1_W53_c986e_Volkswagen_ID.3_2020_80481\n"
     ]
    },
    {
     "name": "stderr",
     "output_type": "stream",
     "text": [
      "C:\\Users\\j.muessel\\Miniconda3\\envs\\pyenv\\lib\\site-packages\\emobpy\\consumption.py:413: FutureWarning:\n",
      "\n",
      "The frame.append method is deprecated and will be removed from pandas in a future version. Use pandas.concat instead.\n",
      "\n",
      "C:\\Users\\j.muessel\\Miniconda3\\envs\\pyenv\\lib\\site-packages\\emobpy\\consumption.py:413: FutureWarning:\n",
      "\n",
      "The frame.append method is deprecated and will be removed from pandas in a future version. Use pandas.concat instead.\n",
      "\n",
      "C:\\Users\\j.muessel\\Miniconda3\\envs\\pyenv\\lib\\site-packages\\emobpy\\consumption.py:413: FutureWarning:\n",
      "\n",
      "The frame.append method is deprecated and will be removed from pandas in a future version. Use pandas.concat instead.\n",
      "\n",
      "C:\\Users\\j.muessel\\Miniconda3\\envs\\pyenv\\lib\\site-packages\\emobpy\\consumption.py:413: FutureWarning:\n",
      "\n",
      "The frame.append method is deprecated and will be removed from pandas in a future version. Use pandas.concat instead.\n",
      "\n",
      "C:\\Users\\j.muessel\\Miniconda3\\envs\\pyenv\\lib\\site-packages\\emobpy\\consumption.py:413: FutureWarning:\n",
      "\n",
      "The frame.append method is deprecated and will be removed from pandas in a future version. Use pandas.concat instead.\n",
      "\n",
      "C:\\Users\\j.muessel\\Miniconda3\\envs\\pyenv\\lib\\site-packages\\emobpy\\consumption.py:413: FutureWarning:\n",
      "\n",
      "The frame.append method is deprecated and will be removed from pandas in a future version. Use pandas.concat instead.\n",
      "\n",
      "C:\\Users\\j.muessel\\Miniconda3\\envs\\pyenv\\lib\\site-packages\\emobpy\\consumption.py:413: FutureWarning:\n",
      "\n",
      "The frame.append method is deprecated and will be removed from pandas in a future version. Use pandas.concat instead.\n",
      "\n",
      "C:\\Users\\j.muessel\\Miniconda3\\envs\\pyenv\\lib\\site-packages\\emobpy\\consumption.py:413: FutureWarning:\n",
      "\n",
      "The frame.append method is deprecated and will be removed from pandas in a future version. Use pandas.concat instead.\n",
      "\n",
      "C:\\Users\\j.muessel\\Miniconda3\\envs\\pyenv\\lib\\site-packages\\emobpy\\consumption.py:413: FutureWarning:\n",
      "\n",
      "The frame.append method is deprecated and will be removed from pandas in a future version. Use pandas.concat instead.\n",
      "\n",
      "C:\\Users\\j.muessel\\Miniconda3\\envs\\pyenv\\lib\\site-packages\\emobpy\\consumption.py:413: FutureWarning:\n",
      "\n",
      "The frame.append method is deprecated and will be removed from pandas in a future version. Use pandas.concat instead.\n",
      "\n",
      "C:\\Users\\j.muessel\\Miniconda3\\envs\\pyenv\\lib\\site-packages\\emobpy\\consumption.py:413: FutureWarning:\n",
      "\n",
      "The frame.append method is deprecated and will be removed from pandas in a future version. Use pandas.concat instead.\n",
      "\n",
      "C:\\Users\\j.muessel\\Miniconda3\\envs\\pyenv\\lib\\site-packages\\emobpy\\consumption.py:413: FutureWarning:\n",
      "\n",
      "The frame.append method is deprecated and will be removed from pandas in a future version. Use pandas.concat instead.\n",
      "\n",
      "C:\\Users\\j.muessel\\Miniconda3\\envs\\pyenv\\lib\\site-packages\\emobpy\\consumption.py:413: FutureWarning:\n",
      "\n",
      "The frame.append method is deprecated and will be removed from pandas in a future version. Use pandas.concat instead.\n",
      "\n",
      "C:\\Users\\j.muessel\\Miniconda3\\envs\\pyenv\\lib\\site-packages\\emobpy\\consumption.py:413: FutureWarning:\n",
      "\n",
      "The frame.append method is deprecated and will be removed from pandas in a future version. Use pandas.concat instead.\n",
      "\n",
      "C:\\Users\\j.muessel\\Miniconda3\\envs\\pyenv\\lib\\site-packages\\emobpy\\consumption.py:413: FutureWarning:\n",
      "\n",
      "The frame.append method is deprecated and will be removed from pandas in a future version. Use pandas.concat instead.\n",
      "\n",
      "C:\\Users\\j.muessel\\Miniconda3\\envs\\pyenv\\lib\\site-packages\\emobpy\\consumption.py:413: FutureWarning:\n",
      "\n",
      "The frame.append method is deprecated and will be removed from pandas in a future version. Use pandas.concat instead.\n",
      "\n",
      "C:\\Users\\j.muessel\\Miniconda3\\envs\\pyenv\\lib\\site-packages\\emobpy\\consumption.py:413: FutureWarning:\n",
      "\n",
      "The frame.append method is deprecated and will be removed from pandas in a future version. Use pandas.concat instead.\n",
      "\n",
      "C:\\Users\\j.muessel\\Miniconda3\\envs\\pyenv\\lib\\site-packages\\emobpy\\consumption.py:413: FutureWarning:\n",
      "\n",
      "The frame.append method is deprecated and will be removed from pandas in a future version. Use pandas.concat instead.\n",
      "\n"
     ]
    },
    {
     "name": "stdout",
     "output_type": "stream",
     "text": [
      "temp Kelvin DE 2016 Timezone: Europe/Berlin\n",
      "pressure Pascal DE 2016 Timezone: Europe/Berlin\n",
      "dew_point Kelvin DE 2016 Timezone: Europe/Berlin\n",
      "Progress: 100% [649 / 649] trips\n",
      " \n",
      "See Log files\n",
      "C:\\Users\\j.muessel\\Documents\\GitHub\\EES\\Emobpy\\my_emobpy\\log\\emobpy.log\n",
      "soc_init:0.5 --> soc_end:0.729\n",
      "Profile done: BEV1_W53_c986e_Volkswagen_ID.3_2020_80481_avai_9a323\n",
      " \n",
      "See Log files\n",
      "C:\\Users\\j.muessel\\Documents\\GitHub\\EES\\Emobpy\\my_emobpy\\log\\emobpy.log\n",
      "Profile done: BEV1_W53_c986e_Volkswagen_ID.3_2020_80481_avai_9a323_immediate_57419\n",
      "Creation Successful:True\n",
      "Profile done: BEV1_W53_c986e_Volkswagen_ID.3_2020_80481_avai_9a323_balanced_54a17\n",
      "Creation Successful:True\n",
      "Balance: -0.01. Consumption: 1482.66. charge_battery: 1482.02. sto_init: 22.5. sto_end: 21.87\n",
      "Profile done: BEV1_W53_c986e_Volkswagen_ID.3_2020_80481_avai_9a323_from_0_to_24_at_home_0dcfa\n",
      "Creation Successful:True\n",
      "Balance: -0.01. Consumption: 1482.66. charge_battery: 1482.02. sto_init: 22.5. sto_end: 21.87\n",
      "Profile done: BEV1_W53_c986e_Volkswagen_ID.3_2020_80481_avai_9a323_from_23_to_8_at_any_f68da\n",
      "Creation Successful:True\n"
     ]
    }
   ],
   "source": [
    "specific_resampled = pd.DataFrame()\n",
    "\n",
    "from emobpy import Mobility\n",
    "for i in range(5):\n",
    "    m = Mobility(config_folder='config_files')\n",
    "    m.set_params(\n",
    "                 name_prefix=\"BEV1\",\n",
    "                 total_hours=8760, # one week\n",
    "                 time_step_in_hrs=0.5, # 15 minutes\n",
    "                 category=\"user_defined\",\n",
    "                 reference_date=\"01/01/2020\"\n",
    "                )\n",
    "    m.set_stats(\n",
    "                stat_ntrip_path=\"TripsPerDay.csv\",\n",
    "                stat_dest_path=\"DepartureDestinationTrip.csv\",\n",
    "                stat_km_duration_path=\"DistanceDurationTrip.csv\",\n",
    "                )\n",
    "    m.set_rules(rule_key=\"user_defined\") # see /config_files/rules.yml, it contains a dictionary\n",
    "                                         # whose key must be the same as rule_key. \n",
    "                                         # To see all possible rules `from emobpy.constants import RULE; RULE`\n",
    "    m.run()\n",
    "    m.save_profile(folder=\"db\", description='168 hrs 15 min step ref-date 01/01/2020')\n",
    "    from emobpy import DataBase\n",
    "    DB = DataBase('db')\n",
    "    DB.loadfiles()\n",
    "    from emobpy import Consumption, HeatInsulation, BEVspecs\n",
    "    mname = m.name ###\n",
    "    HI = HeatInsulation(True)            # Creating the heat insulation by copying the default configuration\n",
    "    BEVS = BEVspecs()                    # Database that contains BEV models\n",
    "    dataframe = BEVS.search_by_parameter()\n",
    "    VW_ID3 = BEVS.model(('Volkswagen','ID.3',2020))    # Model instance that contains vehicle \n",
    "    c = Consumption(mname, VW_ID3)\n",
    "    c.load_setting_mobility(DB)\n",
    "    c.run(\n",
    "        heat_insulation=HI,\n",
    "        weather_country='DE',\n",
    "        weather_year=2016,\n",
    "        passenger_mass=75,                   # kg\n",
    "        passenger_sensible_heat=70,          # W\n",
    "        passenger_nr=1.5,                    # Passengers per vehicle including driver\n",
    "        air_cabin_heat_transfer_coef=20,     # W/(m2K). Interior walls\n",
    "        air_flow = 0.02,                     # m3/s. Ventilation\n",
    "        driving_cycle_type='WLTC',           # Two options \"WLTC\" or \"EPA\"\n",
    "        road_type=0,                         # For rolling resistance, Zero represents a new road.\n",
    "        road_slope=0\n",
    "        )\n",
    "    c.save_profile('db')\n",
    "    from emobpy import Availability\n",
    "    DB.update()                               # This load new generated files that are hosted in database folder\n",
    "    cname = c.name                            # getting the id of the first consumption profile\n",
    "\n",
    "\n",
    "    station_distribution = {                  # Dictionary with charging stations type probability distribution per the purpose of the trip (location or destination)\n",
    "        'prob_charging_point': {\n",
    "            'errands': {'public': 0.5, 'none': 0.5},\n",
    "            'escort': {'public': 0.5, 'none': 0.5},\n",
    "            'leisure': {'public': 0.5, 'none': 0.5},\n",
    "            'shopping': {'public': 0.5, 'none': 0.5},\n",
    "            'home': {'public': 0.5, 'none': 0.5},\n",
    "            'workplace': {'public': 0.0, 'workplace': 1.0, 'none': 0.0},   # If the vehicle is at the workplace, it will always find a charging station available (assumption)\n",
    "            'driving': {'none': 0.99, 'fast75': 0.005, 'fast150': 0.005}}, # with the low probability given to fast charging is to ensure fast charging only for very long trips (assumption)\n",
    "        'capacity_charging_point': {                                       # Nominal power rating of charging station in kW\n",
    "            'public': 22,\n",
    "            'home': 3.7,\n",
    "            'workplace': 11,\n",
    "            'none': 0,  # dummy station\n",
    "            'fast75': 75,\n",
    "            'fast150': 150}\n",
    "    }\n",
    "    \n",
    "    ga = Availability(c.name , DB)\n",
    "    ga.set_scenario(station_distribution)\n",
    "    ga.run()\n",
    "    ga.save_profile('db')\n",
    "    \n",
    "    from emobpy import Charging\n",
    "    DB.update()\n",
    "\n",
    "    specific_cons = pd.DataFrame()\n",
    "\n",
    "    aname = ga.name                            # getting the id of the availability profile\n",
    "\n",
    "    strategies = [\n",
    "                  \"immediate\",                 # When battery has SOC < 100% then it charges immediatelly at a maximun power rating of the current charging station\n",
    "                  \"balanced\",                  # When battery has SOC < 100% then it charges immediatelly but at lower rating power to ensure 100% SOC at the end (before moving to another place).\n",
    "                  \"from_0_to_24_at_home\",      # Customized: starting time of charging (this case 0 hrs), final time of charging (this case 24 hrs), at could be one 'location' (this case 'home') or 'any'.\n",
    "                  \"from_23_to_8_at_any\"\n",
    "                 ]\n",
    "    for option in strategies:\n",
    "        ged = Charging(aname)\n",
    "        ged.load_scenario(DB)\n",
    "        ged.set_sub_scenario(option)\n",
    "        ged.run()\n",
    "        print(f'Creation Successful:{ged.success}')   # if False, modify the strategy to a less constrained.\n",
    "        ged.save_profile('db')\n",
    "\n",
    "        cons = ged.timeseries.consumption[ged.timeseries.consumption>0]\n",
    "        mob = ged.timeseries.distance.loc[cons.index]\n",
    "\n",
    "        specific_cons= pd.concat([cons, mob], axis=1).apply(lambda row : row[\"consumption\"] / row[\"distance\"] , axis=1)*100\n",
    "        ts = specific_cons.resample(\"D\").mean().fillna(specific_cons.mean())\n",
    "        specific_resampled = pd.concat([specific_resampled, ts], axis = 1)\n",
    "\n",
    "\n"
   ]
  },
  {
   "cell_type": "code",
   "execution_count": 22,
   "id": "69d3d032",
   "metadata": {
    "scrolled": true
   },
   "outputs": [
    {
     "data": {
      "image/png": "[encoded data removed]",
      "text/plain": [
       "<Figure size 432x288 with 1 Axes>"
      ]
     },
     "metadata": {
      "needs_background": "light"
     },
     "output_type": "display_data"
    }
   ],
   "source": [
    "specific_resampled.to_pickle(\"specific_consumption\")\n",
    "#specific_resampled = pd.read_pickle(\"specific_consumption\")\n",
    "\n",
    "df = specific_resampled.mean(1).resample(\"1W\").mean()\n",
    "df.plot(ylim=0, ylabel=\"kWh/100km\", title = \"specific consumption: Volkswagen ID3\")\n",
    "plt.hlines(13.5, df.index[0],  df.index[-1], color=\"black\")\n",
    "plt.grid()\n",
    "plt.savefig('specific_consumptoin.png')"
   ]
  },
  {
   "cell_type": "code",
   "execution_count": 5,
   "id": "f843bff1",
   "metadata": {},
   "outputs": [
    {
     "name": "stdout",
     "output_type": "stream",
     "text": [
      "The history saving thread hit an unexpected error (OperationalError('database is locked')).History will not be written to the database.\n"
     ]
    },
    {
     "data": {
      "text/html": [
       "        <script type=\"text/javascript\">\n",
       "        window.PlotlyConfig = {MathJaxConfig: 'local'};\n",
       "        if (window.MathJax && window.MathJax.Hub && window.MathJax.Hub.Config) {window.MathJax.Hub.Config({SVG: {font: \"STIX-Web\"}});}\n",
       "        if (typeof require !== 'undefined') {\n",
       "        require.undef(\"plotly\");\n",
       "        requirejs.config({\n",
       "            paths: {\n",
       "                'plotly': ['https://cdn.plot.ly/plotly-2.12.1.min']\n",
       "            }\n",
       "        });\n",
       "        require(['plotly'], function(Plotly) {\n",
       "            window._Plotly = Plotly;\n",
       "        });\n",
       "        }\n",
       "        </script>\n",
       "        "
      ]
     },
     "metadata": {},
     "output_type": "display_data"
    }
   ],
   "source": [
    "import pandas as pd \n",
    "import plotly.graph_objs as go\n",
    "from plotly.offline import iplot\n",
    "import cufflinks as cf\n",
    "cf.go_offline()"
   ]
  },
  {
   "cell_type": "code",
   "execution_count": 7,
   "id": "0091f64a",
   "metadata": {},
   "outputs": [],
   "source": [
    "ged_import = \"demand\"\n",
    "df = open(\"demand\", \"wb\")#pd.read_pickle(\"demand\")\n",
    "df.index = pd.DatetimeIndex(df.index)"
   ]
  },
  {
   "cell_type": "code",
   "execution_count": 11,
   "id": "7dc28fe4",
   "metadata": {},
   "outputs": [],
   "source": [
    "df_new = df.loc[df.index.date<pd.Timestamp(2020,1,8).date()]"
   ]
  },
  {
   "cell_type": "code",
   "execution_count": 12,
   "id": "2cbc09a2",
   "metadata": {},
   "outputs": [],
   "source": [
    "def start_and_end_week(df, column_values='charge_grid'):\n",
    "    '''Remove first and last week as days are missing causing inconsistent average'''\n",
    "    dt = df.reset_index()\n",
    "    dt[\"date\"] = pd.to_datetime(dt[\"date\"])\n",
    "    dt['half'] = dt['date'] - min(dt['date'])\n",
    "    dt = dt.set_index('date')\n",
    "    dt = data_curation(dt,column_values=column_values).T\n",
    "    sr = dt['charge_grid']\n",
    "    start = len(sr[sr.columns[0]].dropna())\n",
    "    ends = len(sr[sr.columns[-1]].dropna())\n",
    "    dt = df.reset_index()\n",
    "    dt['half'] = dt['date'] - min(dt['date'])\n",
    "    #dt = dt[(dt['half'] <= pd.to_timedelta(start,'H')) & (dt['half'] >= pd.to_timedelta(dt['hh'].max() - ends,'H'))].copy()\n",
    "    df = dt.set_index('date')\n",
    "    return df\n",
    "def data_curation(df, column_values='charge_grid'):\n",
    "    ''' \n",
    "    Convert data frame with all profiles to days of the week and hours of the day\n",
    "    id represents every profile\n",
    "    step1 sum up all profiles\n",
    "    step2 makes the average\n",
    "    '''\n",
    "    profiles_n = len(set(df['id'].values))\n",
    "    step1 = df.groupby([df.index.day_name(),df.index.hour,df.index.isocalendar().week])[column_values].sum()\n",
    "    step2 = step1/profiles_n\n",
    "    step3 = pd.DataFrame(step2)\n",
    "    step4 = step3.reindex(['Monday','Tuesday','Wednesday','Thursday','Friday','Saturday','Sunday'],level=0)\n",
    "    return step4.unstack().T \n",
    "\n",
    "def start_and_end_week_full(df, column_values='charge_grid'):\n",
    "    '''Remove first and last week as days are missing causing inconsistent average'''\n",
    "    dt = df.reset_index()\n",
    "    dt['half'] = dt['date'] - min(dt['date'])\n",
    "    dt = dt.set_index('date')\n",
    "    dt = data_curation(dt,column_values=column_values).T\n",
    "    sr = dt['charge_grid']\n",
    "    start = len(sr[sr.columns[0]].dropna())\n",
    "    ends = len(sr[sr.columns[-1]].dropna())\n",
    "    dt = df.reset_index()\n",
    "    dt['half'] = dt['date'] - min(dt['date'])\n",
    "    dt = dt[(dt['half'] <= pd.to_timedelta(start,'H')) & (dt['half'] >= pd.to_timedelta(dt['hh'].max() - ends,'H'))].copy()\n",
    "    df = dt.set_index('date')\n",
    "    return df\n",
    "\n",
    "def shares_plot(df, column_values='state', order=['driving','workplace','errands','escort','shopping','leisure','home']):\n",
    "    '''\n",
    "    Plot of category shares either locations ('states') or charging point names ('charging_point')\n",
    "    '''\n",
    "    sr_count = df.groupby([df.index.day_name(),df.index.hour,column_values])[column_values].count()\n",
    "    df_count = pd.DataFrame(sr_count).rename(columns={column_values:'count'}).unstack(level=-1).fillna(0)\n",
    "    df_count.columns = df_count.columns.droplevel()\n",
    "    present = [exists for exists in order if exists in df_count.columns]\n",
    "    df_count_sorted = df_count[present[::-1]].reindex(['Monday','Tuesday','Wednesday','Thursday','Friday','Saturday','Sunday'],level=0)\n",
    "    df_new_index = (df_count_sorted.T/df_count_sorted.T.sum(axis=0)).T\n",
    "    df_new_index.loc[:,'new_index'] = [d[:3] for d,h in df_new_index.index.values]\n",
    "    #[[str(h) if h > 9 else '0'+str(h)][0] ]+ ',' + d[:3] for d,h in df_new_index.index.values]\n",
    "    df_new_index.set_index('new_index',inplace=True)\n",
    "    df_new_index.index.name = 'January'\n",
    "    return df_new_index\n",
    "    fig = df_new_index#.iplot(kind='area', fill=True,asFigure=True)\n",
    "    fig['layout'] = {}\n",
    "    return fig\n",
    "\n",
    "def box_plot(df, name, column_values='charge_grid', factor=1, color='#14868c',legendname_position=2):\n",
    "  '''\n",
    "  Box plot of distance, consumption, or charge_grid. \n",
    "  column_values must exist in the df\n",
    "  '''\n",
    "  dt = data_curation(df,column_values=column_values)\n",
    "  data = []\n",
    "  # Every boxplot has given name. The legend takes the name, legendgroup allows all boxplot with the same identifier have the same color\n",
    "  flag = legendname_position  # as we the first boxplot is used as xaxis tick we move the name to the next position\n",
    "  flagcompare = 0\n",
    "  for key, v in dt.iteritems():\n",
    "      flagcompare += 1\n",
    "      data.append({'boxpoints': False, # 'suspectedoutliers' or False\n",
    "                        'line': {'width': 1.2},\n",
    "                      'marker': {'color': color},\n",
    "                        'name': f'''{str(key[1]).zfill(2)},{key[0][0:3]}''' if flag != flagcompare else name,\n",
    "                  'orientation': 'v',\n",
    "                        'type': 'box',\n",
    "                            'y': v.values*factor,\n",
    "                        'xaxis': 'x',\n",
    "                      'jitter': 0.0,\n",
    "                'whiskerwidth': 1.0,\n",
    "                      'notched': False,\n",
    "                  'notchwidth': 0.2,\n",
    "                  'showlegend': False if flag != flagcompare else True,\n",
    "                  'legendgroup': name\n",
    "                  })\n",
    "  return go.Figure(data)"
   ]
  },
  {
   "cell_type": "code",
   "execution_count": 13,
   "id": "f1b19518",
   "metadata": {},
   "outputs": [],
   "source": [
    "dt = start_and_end_week(df_new)\n",
    "\n"
   ]
  },
  {
   "cell_type": "code",
   "execution_count": 15,
   "id": "d790d122",
   "metadata": {},
   "outputs": [
    {
     "data": {
      "text/plain": [
       "<matplotlib.legend.Legend at 0x13c1c8938e0>"
      ]
     },
     "execution_count": 15,
     "metadata": {},
     "output_type": "execute_result"
    },
    {
     "data": {
      "image/png": "[encoded data removed]",
      "text/plain": [
       "<Figure size 432x288 with 1 Axes>"
      ]
     },
     "metadata": {
      "needs_background": "light"
     },
     "output_type": "display_data"
    }
   ],
   "source": [
    "df_charge = shares_plot(dt, column_values='charging_point', order=['none', 'public', 'fast150', 'fast75'])\n",
    "df_charge = df_charge.rename(columns={\"public\": \"connected\", \"none\": \"not connected\"})\n",
    "ax = df_charge.plot.area()\n",
    "plt.grid()\n",
    "ax.legend(bbox_to_anchor=(1,1))"
   ]
  },
  {
   "cell_type": "code",
   "execution_count": 16,
   "id": "da7b5a4b",
   "metadata": {},
   "outputs": [
    {
     "data": {
      "text/plain": [
       "<matplotlib.legend.Legend at 0x13c346103a0>"
      ]
     },
     "execution_count": 16,
     "metadata": {},
     "output_type": "execute_result"
    },
    {
     "data": {
      "image/png": "[encoded data removed]",
      "text/plain": [
       "<Figure size 432x288 with 1 Axes>"
      ]
     },
     "metadata": {
      "needs_background": "light"
     },
     "output_type": "display_data"
    }
   ],
   "source": [
    "df_ = shares_plot(dt) # with state as default\n",
    "ax = df_.plot.area()\n",
    "plt.grid()\n",
    "ax.legend(bbox_to_anchor=(1,1))"
   ]
  },
  {
   "cell_type": "code",
   "execution_count": null,
   "id": "09614872",
   "metadata": {},
   "outputs": [],
   "source": []
  },
  {
   "cell_type": "code",
   "execution_count": null,
   "id": "8553b975",
   "metadata": {},
   "outputs": [],
   "source": []
  }
 ],
 "metadata": {
  "kernelspec": {
   "display_name": "Python 3 (ipykernel)",
   "language": "python",
   "name": "python3"
  },
  "language_info": {
   "codemirror_mode": {
    "name": "ipython",
    "version": 3
   },
   "file_extension": ".py",
   "mimetype": "text/x-python",
   "name": "python",
   "nbconvert_exporter": "python",
   "pygments_lexer": "ipython3",
   "version": "3.10.4"
  }
 },
 "nbformat": 4,
 "nbformat_minor": 5
}
