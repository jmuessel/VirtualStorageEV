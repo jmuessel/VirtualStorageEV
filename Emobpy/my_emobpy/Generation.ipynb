{
 "cells": [
  {
   "cell_type": "code",
   "execution_count": 1,
   "id": "74fca04f",
   "metadata": {},
   "outputs": [],
   "source": [
    "import os\n",
    "import pandas as pd\n",
    "from emobpy import DataBase\n",
    "from emobpy import Mobility, DataBase, Consumption, HeatInsulation, BEVspecs, Availability, Charging\n",
    "import shutil"
   ]
  },
  {
   "cell_type": "code",
   "execution_count": 2,
   "id": "47aa9db8",
   "metadata": {},
   "outputs": [
    {
     "data": {
      "text/plain": [
       "'/Users/Jarusch/Documents/Hertie/Hertie School/OneDrive - Hertie School/Jarusch/Virtual_storage/Modelling/Git_hub/EES/Emobpy/my_emobpy'"
      ]
     },
     "execution_count": 2,
     "metadata": {},
     "output_type": "execute_result"
    }
   ],
   "source": [
    "home_path = os.getcwd()\n",
    "os.makedirs(os.path.join(home_path, \"db\", \"used\"), exist_ok=True)\n",
    "consumption_path = os.path.join(home_path, \"db\", \"consumption\")\n",
    "availability_path = os.path.join(home_path, \"db\", \"availability\")\n",
    "profile_path  = os.path.join(home_path, \"db\", \"profile\")\n",
    "\n",
    "DB_profile = DataBase('db/profile')\n",
    "\n",
    "#os.chdir(\"../\")\n",
    "data_path = os.getcwd()\n",
    "data_path"
   ]
  },
  {
   "cell_type": "code",
   "execution_count": 3,
   "id": "09b60efa",
   "metadata": {},
   "outputs": [],
   "source": [
    "number_profiles = 10\n",
    "year = 2020"
   ]
  },
  {
   "cell_type": "code",
   "execution_count": 4,
   "id": "5d2402af",
   "metadata": {},
   "outputs": [],
   "source": [
    "def get_dir_size(path='.'):\n",
    "    total = 0\n",
    "    with os.scandir(path) as it:\n",
    "        for entry in it:\n",
    "            if entry.is_file():\n",
    "                total += entry.stat().st_size\n",
    "            #elif entry.is_dir():\n",
    "             #   total += get_dir_size(entry.path)\n",
    "    total = total / (10**9)\n",
    "    return total\n",
    "\n",
    "def create_new_folder(path, profile_consumption_availability = None, used_dir=False):\n",
    "    if used_dir == False:\n",
    "        folder_list = [d for d in os.listdir(path)\n",
    "                   if os.path.isdir(os.path.join(path, d))]\n",
    "    \n",
    "        if len(folder_list) == 0:\n",
    "            new_f = \"0\"   \n",
    "        else:\n",
    "            new_f = str(max(map(int,folder_list)) + 1)\n",
    "        new_f_path = os.path.join(path, new_f)\n",
    "        \n",
    "    else: \n",
    "        new_f_path = os.path.join(home_path, \"db\", \"used\", profile_consumption_availability)\n",
    "    \n",
    "    os.makedirs(new_f_path, exist_ok=True)\n",
    "\n",
    "    return new_f_path\n",
    "\n",
    "def transtion_files(source_dir):\n",
    "    target_dir = create_new_folder(source_dir)\n",
    "\n",
    "    file_names = [f for f in os.listdir(source_dir)\n",
    "                       if os.path.isfile(os.path.join(source_dir, f))]\n",
    "\n",
    "    for file_name in file_names:\n",
    "        shutil.move(os.path.join(source_dir, file_name), target_dir)\n",
    "        \n",
    "def get_folders(path): \n",
    "    f_list = [d for d in os.listdir(path)\n",
    "              if os.path.isdir(os.path.join(path, d))]\n",
    "    if \".DS_Store\" in f_list:\n",
    "        f_list.remove(\".DS_Store\")\n",
    "    \n",
    "    return f_list"
   ]
  },
  {
   "cell_type": "markdown",
   "id": "e0986d25",
   "metadata": {},
   "source": [
    "## Step 1: Vehicle mobility time series"
   ]
  },
  {
   "cell_type": "code",
   "execution_count": 5,
   "id": "f0588c9c",
   "metadata": {},
   "outputs": [],
   "source": [
    "from emobpy import Mobility\n",
    "\n",
    "def mobility_gen (i):\n",
    "    m = Mobility(config_folder='config_files')\n",
    "    m.set_params(\n",
    "             name_prefix=\"BEV{}\".format(i),\n",
    "             total_hours=300, \n",
    "             time_step_in_hrs=0.25, # 15 minutes\n",
    "             category=\"user_defined\",\n",
    "             reference_date=f\"01/01/{year}\"\n",
    "            )\n",
    "    m.set_stats(\n",
    "            stat_ntrip_path=\"TripsPerDay.csv\",\n",
    "            stat_dest_path=\"DepartureDestinationTrip.csv\",\n",
    "            stat_km_duration_path=\"DistanceDurationTrip.csv\",\n",
    "            )\n",
    "    m.set_rules(rule_key=\"user_defined\") \n",
    "    # see /config_files/rules.yml, it contains a dictionary, whose key must be the same\n",
    "    # as rule_key. To see all possible rules `from emobpy.constants import RULE; RULE` \n",
    "    m.run()\n",
    "    m.save_profile(folder=\"db/profile\", description='') # save all info in pickle file in 'db' folder\n",
    "\n"
   ]
  },
  {
   "cell_type": "code",
   "execution_count": 6,
   "id": "d663d5ab",
   "metadata": {},
   "outputs": [
    {
     "name": "stdout",
     "output_type": "stream",
     "text": [
      "New profile running: BEV0_W2_2e694\n",
      "Progress: 100% [12 / 12] days\n",
      "Profile done: BEV0_W2_2e694\n",
      "Elapsed time (min): 0.15\n",
      " \n",
      "See Log files\n",
      "/Users/Jarusch/Documents/Hertie/Hertie School/OneDrive - Hertie School/Jarusch/Virtual_storage/Modelling/Git_hub/EES/Emobpy/my_emobpy/log/emobpy.log\n",
      "New profile running: BEV1_W2_884e5\n",
      "Progress: 100% [12 / 12] days\n",
      "Profile done: BEV1_W2_884e5\n",
      "Elapsed time (min): 0.01\n",
      " \n",
      "See Log files\n",
      "/Users/Jarusch/Documents/Hertie/Hertie School/OneDrive - Hertie School/Jarusch/Virtual_storage/Modelling/Git_hub/EES/Emobpy/my_emobpy/log/emobpy.log\n",
      "New profile running: BEV2_W2_55cf0\n",
      "Progress: 100% [12 / 12] days\n",
      "Profile done: BEV2_W2_55cf0\n",
      "Elapsed time (min): 0.01\n",
      " \n",
      "See Log files\n",
      "/Users/Jarusch/Documents/Hertie/Hertie School/OneDrive - Hertie School/Jarusch/Virtual_storage/Modelling/Git_hub/EES/Emobpy/my_emobpy/log/emobpy.log\n",
      "New profile running: BEV3_W2_49099\n",
      "Progress: 100% [12 / 12] days\n",
      "Profile done: BEV3_W2_49099\n",
      "Elapsed time (min): 0.02\n",
      " \n",
      "See Log files\n",
      "/Users/Jarusch/Documents/Hertie/Hertie School/OneDrive - Hertie School/Jarusch/Virtual_storage/Modelling/Git_hub/EES/Emobpy/my_emobpy/log/emobpy.log\n",
      "New profile running: BEV4_W2_9f86e\n",
      "Progress: 100% [12 / 12] days\n",
      "Profile done: BEV4_W2_9f86e\n",
      "Elapsed time (min): 0.02\n",
      " \n",
      "See Log files\n",
      "/Users/Jarusch/Documents/Hertie/Hertie School/OneDrive - Hertie School/Jarusch/Virtual_storage/Modelling/Git_hub/EES/Emobpy/my_emobpy/log/emobpy.log\n",
      "New profile running: BEV5_W2_411cd\n",
      "Progress: 100% [12 / 12] days\n",
      "Profile done: BEV5_W2_411cd\n",
      "Elapsed time (min): 0.01\n",
      " \n",
      "See Log files\n",
      "/Users/Jarusch/Documents/Hertie/Hertie School/OneDrive - Hertie School/Jarusch/Virtual_storage/Modelling/Git_hub/EES/Emobpy/my_emobpy/log/emobpy.log\n",
      "New profile running: BEV6_W2_27d26\n",
      "Progress: 100% [12 / 12] days\n",
      "Profile done: BEV6_W2_27d26\n",
      "Elapsed time (min): 0.01\n",
      " \n",
      "See Log files\n",
      "/Users/Jarusch/Documents/Hertie/Hertie School/OneDrive - Hertie School/Jarusch/Virtual_storage/Modelling/Git_hub/EES/Emobpy/my_emobpy/log/emobpy.log\n",
      "New profile running: BEV7_W2_2d553\n",
      "Progress: 100% [12 / 12] days\n",
      "Profile done: BEV7_W2_2d553\n",
      "Elapsed time (min): 0.02\n",
      " \n",
      "See Log files\n",
      "/Users/Jarusch/Documents/Hertie/Hertie School/OneDrive - Hertie School/Jarusch/Virtual_storage/Modelling/Git_hub/EES/Emobpy/my_emobpy/log/emobpy.log\n",
      "New profile running: BEV8_W2_1b304\n",
      "Progress: 100% [12 / 12] days\n",
      "Profile done: BEV8_W2_1b304\n",
      "Elapsed time (min): 0.01\n",
      " \n",
      "See Log files\n",
      "/Users/Jarusch/Documents/Hertie/Hertie School/OneDrive - Hertie School/Jarusch/Virtual_storage/Modelling/Git_hub/EES/Emobpy/my_emobpy/log/emobpy.log\n",
      "New profile running: BEV9_W2_d94c7\n",
      "Progress: 100% [12 / 12] days\n",
      "Profile done: BEV9_W2_d94c7\n",
      "Elapsed time (min): 0.01\n",
      " \n",
      "See Log files\n",
      "/Users/Jarusch/Documents/Hertie/Hertie School/OneDrive - Hertie School/Jarusch/Virtual_storage/Modelling/Git_hub/EES/Emobpy/my_emobpy/log/emobpy.log\n"
     ]
    }
   ],
   "source": [
    "for i in range(number_profiles):\n",
    "    \n",
    "    if get_dir_size(profile_path) < 1:\n",
    "        mobility_gen(i)\n",
    "        \n",
    "    else:\n",
    "        create_new_folder(profile_path)\n",
    "        transtion_files(profile_path)\n",
    "        mobility_gen(i)\n",
    "    \n",
    "    DB_profile.update()                # This load new files hosted in database folder as result of new generated files\n",
    "\n",
    "transtion_files(profile_path)"
   ]
  },
  {
   "cell_type": "code",
   "execution_count": 43,
   "id": "8474d822",
   "metadata": {
    "pycharm": {
     "is_executing": true
    }
   },
   "outputs": [],
   "source": [
    "#m.kind\n",
    "#m.description\n",
    "#m.timeseries\n",
    "#m.profile.head()\n",
    "#from emobpy.plot import NBplot\n",
    "#fig_mobility = NBplot(DB_profile).sgplot_dp(m.name)\n",
    "#fig_mobility"
   ]
  },
  {
   "cell_type": "markdown",
   "id": "305317e6",
   "metadata": {},
   "source": [
    "------------------------------------------------------\n",
    "## Step 2: Driving consumption time series\n",
    "------------------------------------------------------\n",
    "a) Vehicle model configuration\n",
    "\n",
    "------------------------------------------------------"
   ]
  },
  {
   "cell_type": "code",
   "execution_count": 8,
   "id": "178bbf12",
   "metadata": {
    "pycharm": {
     "is_executing": true
    }
   },
   "outputs": [],
   "source": [
    "Jarusch Müßelfrom emobpy import Consumption, HeatInsulation, BEVspecs"
   ]
  },
  {
   "cell_type": "code",
   "execution_count": 9,
   "id": "e97a1a20",
   "metadata": {},
   "outputs": [],
   "source": [
    "HI = HeatInsulation(True)            # Creating the heat insulation by copying the default configuration\n",
    "BEVS = BEVspecs()\n",
    "\n",
    "models = {\n",
    "    \"Tesla\": \n",
    "        {\"model\": \"Model 3 Long Range AWD\",\n",
    "         \"year\": 2019,\n",
    "         \"share\": 22.73},\n",
    "    \"Volkswagen\":\n",
    "        {\"model\": \"ID.3\",\n",
    "         \"year\": 2020,\n",
    "         \"share\": 15.91},\n",
    "    \"Renault\":\n",
    "        {\"model\": \"Zoe Q90\",\n",
    "         \"year\": 2017,\n",
    "         \"share\": 15.91},\n",
    "    \"Hyundai\":\n",
    "        {\"model\": \"Kona Electric 64 kWh\",\n",
    "         \"year\": 2019,\n",
    "         \"share\": 11.63},\n",
    "    \"FIAT\":\n",
    "        {\"model\": \"500e\",\n",
    "         \"year\": 2019,\n",
    "         \"share\": 9.09},\n",
    "    \"BMW\":\n",
    "        {\"model\": \"i3 33 kWh\",\n",
    "         \"year\": 2017,\n",
    "         \"share\": 6.82},\n",
    "    \"MINI\":\n",
    "        {\"model\": \"Cooper SE Level I\",\n",
    "         \"year\": 2020,\n",
    "         \"share\": 6.82},\n",
    "    \"Audi\": \n",
    "        {\"model\": \"e-tron 55 quattro\",\n",
    "         \"year\": 2019,\n",
    "         \"share\": 4.55},\n",
    "    \"Hyundai\": \n",
    "        {\"model\": \"IONIQ Electric 28 kWh\",\n",
    "         \"year\": 2019,\n",
    "         \"share\": 4.55},\n",
    "    \"KIA\": \n",
    "        {\"model\": \"e-Niro 64 kWh\",\n",
    "         \"year\": 2019,\n",
    "         \"share\": 2.27}\n",
    "    \n",
    "}\n",
    "\n",
    "back_up_model = {\n",
    "    \"brand\": \"Volkswagen\",\n",
    "    \"model\": \"e-Golf SE\",\n",
    "    \"year\": 2019\n",
    "}"
   ]
  },
  {
   "cell_type": "code",
   "execution_count": 10,
   "id": "d592c495",
   "metadata": {},
   "outputs": [
    {
     "name": "stdout",
     "output_type": "stream",
     "text": [
      "0\n",
      "Fallback value 0.9 added for missing battery_charging_eff parameter.\n",
      "Fallback value 0.95 added for missing battery_discharging_eff parameter.\n",
      "Fallback value 0.95 added for missing transmission_eff parameter.\n",
      "Fallback value 0.3 added for missing auxiliary_power parameter.\n",
      "Fallback value 3.5 added for missing cabin_volume parameter.\n",
      "Fallback value 1 added for missing hvac_cop_heating parameter.\n",
      "Fallback value 2 added for missing hvac_cop_cooling parameter.\n",
      "1\n",
      "Fallback value 0.9 added for missing battery_charging_eff parameter.\n",
      "Fallback value 0.95 added for missing battery_discharging_eff parameter.\n",
      "Fallback value 0.95 added for missing transmission_eff parameter.\n",
      "Fallback value 0.3 added for missing auxiliary_power parameter.\n",
      "Fallback value 3.5 added for missing cabin_volume parameter.\n",
      "Fallback value 1 added for missing hvac_cop_heating parameter.\n",
      "Fallback value 2 added for missing hvac_cop_cooling parameter.\n",
      "2\n",
      "Fallback value 0.9 added for missing battery_charging_eff parameter.\n",
      "Fallback value 0.95 added for missing battery_discharging_eff parameter.\n",
      "Fallback value 0.95 added for missing transmission_eff parameter.\n",
      "Fallback value 0.3 added for missing auxiliary_power parameter.\n",
      "Fallback value 3.5 added for missing cabin_volume parameter.\n",
      "Fallback value 1 added for missing hvac_cop_heating parameter.\n",
      "Fallback value 2 added for missing hvac_cop_cooling parameter.\n",
      "3\n",
      "Fallback value 0.9 added for missing battery_charging_eff parameter.\n",
      "Fallback value 0.95 added for missing battery_discharging_eff parameter.\n",
      "Fallback value 0.95 added for missing transmission_eff parameter.\n",
      "Fallback value 0.3 added for missing auxiliary_power parameter.\n",
      "Fallback value 3.5 added for missing cabin_volume parameter.\n",
      "Fallback value 1 added for missing hvac_cop_heating parameter.\n",
      "Fallback value 2 added for missing hvac_cop_cooling parameter.\n",
      "4\n",
      "Fallback value 0.9 added for missing battery_charging_eff parameter.\n",
      "Fallback value 0.95 added for missing battery_discharging_eff parameter.\n",
      "Fallback value 0.95 added for missing transmission_eff parameter.\n",
      "Fallback value 0.3 added for missing auxiliary_power parameter.\n",
      "Fallback value 3.5 added for missing cabin_volume parameter.\n",
      "Fallback value 1 added for missing hvac_cop_heating parameter.\n",
      "Fallback value 2 added for missing hvac_cop_cooling parameter.\n",
      "5\n",
      "Fallback value 0.9 added for missing battery_charging_eff parameter.\n",
      "Fallback value 0.95 added for missing battery_discharging_eff parameter.\n",
      "Fallback value 0.95 added for missing transmission_eff parameter.\n",
      "Fallback value 0.3 added for missing auxiliary_power parameter.\n",
      "Fallback value 3.5 added for missing cabin_volume parameter.\n",
      "Fallback value 1 added for missing hvac_cop_heating parameter.\n",
      "Fallback value 2 added for missing hvac_cop_cooling parameter.\n",
      "6\n",
      "Fallback value 0.9 added for missing battery_charging_eff parameter.\n",
      "Fallback value 0.95 added for missing battery_discharging_eff parameter.\n",
      "Fallback value 0.95 added for missing transmission_eff parameter.\n",
      "Fallback value 0.3 added for missing auxiliary_power parameter.\n",
      "Fallback value 3.5 added for missing cabin_volume parameter.\n",
      "Fallback value 1 added for missing hvac_cop_heating parameter.\n",
      "Fallback value 2 added for missing hvac_cop_cooling parameter.\n",
      "7\n",
      "Fallback value 0.9 added for missing battery_charging_eff parameter.\n",
      "Fallback value 0.95 added for missing battery_discharging_eff parameter.\n",
      "Fallback value 0.95 added for missing transmission_eff parameter.\n",
      "Fallback value 0.3 added for missing auxiliary_power parameter.\n",
      "Fallback value 3.5 added for missing cabin_volume parameter.\n",
      "Fallback value 1 added for missing hvac_cop_heating parameter.\n",
      "Fallback value 2 added for missing hvac_cop_cooling parameter.\n",
      "8\n",
      "Fallback value 0.9 added for missing battery_charging_eff parameter.\n",
      "Fallback value 0.95 added for missing battery_discharging_eff parameter.\n",
      "Fallback value 0.95 added for missing transmission_eff parameter.\n",
      "Fallback value 0.3 added for missing auxiliary_power parameter.\n",
      "Fallback value 3.5 added for missing cabin_volume parameter.\n",
      "Fallback value 1 added for missing hvac_cop_heating parameter.\n",
      "Fallback value 2 added for missing hvac_cop_cooling parameter.\n",
      "9\n",
      "Fallback value 0.9 added for missing battery_charging_eff parameter.\n",
      "Fallback value 0.95 added for missing battery_discharging_eff parameter.\n",
      "Fallback value 0.95 added for missing transmission_eff parameter.\n",
      "Fallback value 0.3 added for missing auxiliary_power parameter.\n",
      "Fallback value 3.5 added for missing cabin_volume parameter.\n",
      "Fallback value 1 added for missing hvac_cop_heating parameter.\n",
      "Fallback value 2 added for missing hvac_cop_cooling parameter.\n",
      "10\n",
      "Fallback value 0.9 added for missing battery_charging_eff parameter.\n",
      "Fallback value 0.95 added for missing battery_discharging_eff parameter.\n",
      "Fallback value 0.95 added for missing transmission_eff parameter.\n",
      "Fallback value 0.3 added for missing auxiliary_power parameter.\n",
      "Fallback value 3.5 added for missing cabin_volume parameter.\n",
      "Fallback value 1 added for missing hvac_cop_heating parameter.\n",
      "Fallback value 2 added for missing hvac_cop_cooling parameter.\n",
      "11\n",
      "Fallback value 0.9 added for missing battery_charging_eff parameter.\n",
      "Fallback value 0.95 added for missing battery_discharging_eff parameter.\n",
      "Fallback value 0.95 added for missing transmission_eff parameter.\n",
      "Fallback value 0.3 added for missing auxiliary_power parameter.\n",
      "Fallback value 3.5 added for missing cabin_volume parameter.\n",
      "Fallback value 1 added for missing hvac_cop_heating parameter.\n",
      "Fallback value 2 added for missing hvac_cop_cooling parameter.\n",
      "Fallback value 0.9 added for missing battery_charging_eff parameter.\n",
      "Fallback value 0.95 added for missing battery_discharging_eff parameter.\n",
      "Fallback value 0.95 added for missing transmission_eff parameter.\n",
      "Fallback value 0.3 added for missing auxiliary_power parameter.\n",
      "Fallback value 3.5 added for missing cabin_volume parameter.\n",
      "Fallback value 1 added for missing hvac_cop_heating parameter.\n",
      "Fallback value 2 added for missing hvac_cop_cooling parameter.\n"
     ]
    }
   ],
   "source": [
    "p_list = os.listdir(profile_path)\n",
    "if \".DS_Store\" in p_list:\n",
    "    p_list.remove(\".DS_Store\")\n",
    "elif '.ipynb_checkpoints' in p_list:\n",
    "    p_list.remove('.ipynb_checkpoints')\n",
    "    \n",
    "number_profiles_all = -1\n",
    "\n",
    "for folder in p_list:\n",
    "    number_profiles_all += len([d for d in os.listdir(os.path.join(profile_path, folder))\n",
    "     if os.path.isfile(os.path.join(profile_path, folder, d))])\n",
    "    \n",
    "models_assigned = {}\n",
    "\n",
    "i = 0\n",
    "for brand in models.keys():\n",
    "    models[brand][\"number\"] = round(number_profiles_all*models[brand][\"share\"]/100)\n",
    "    #print(brand + \" \" +str(models[brand][\"number\"]))\n",
    "    for k in range(0, round(models[brand][\"number\"])): \n",
    "        print(str(i))\n",
    "        models_assigned[str(i)] = BEVS.model((\n",
    "            brand, models[brand][\"model\"], models[brand][\"year\"]\n",
    "        ))\n",
    "        i += 1\n",
    "        \n",
    "while i <= number_profiles_all:\n",
    "    \n",
    "    models_assigned[str(i)] = BEVS.model((\n",
    "            back_up_model[\"brand\"], back_up_model[\"model\"], back_up_model[\"year\"]\n",
    "        ))\n",
    "    i += 1"
   ]
  },
  {
   "cell_type": "code",
   "execution_count": 11,
   "id": "3396fb25",
   "metadata": {},
   "outputs": [
    {
     "data": {
      "text/plain": [
       "1"
      ]
     },
     "execution_count": 11,
     "metadata": {},
     "output_type": "execute_result"
    }
   ],
   "source": [
    "#plausibility check\n",
    "len(models_assigned) - number_profiles_all"
   ]
  },
  {
   "cell_type": "code",
   "execution_count": 12,
   "id": "89bf9501",
   "metadata": {},
   "outputs": [],
   "source": [
    "def consumption_gen(i, file, DB):\n",
    "    car_model = models_assigned[str(i)]\n",
    "    print(car_model.parameters['EV Model'])\n",
    "    c = Consumption(file, car_model)\n",
    "    c.load_setting_mobility(DB)\n",
    "    c.run(\n",
    "        heat_insulation=HI,\n",
    "        weather_country='DE',\n",
    "        weather_year=year,\n",
    "        passenger_mass=75,                   # kg\n",
    "        passenger_sensible_heat=70,          # W\n",
    "        passenger_nr=1.5,                    # Passengers per vehicle including driver\n",
    "        air_cabin_heat_transfer_coef=20,     # W/(m2K). Interior walls\n",
    "        air_flow = 0.02,                     # m3/s. Ventilation\n",
    "        driving_cycle_type='WLTC',           # Two options \"WLTC\" or \"EPA\"\n",
    "        road_type=0,                         # For rolling resistance, Zero represents a new road.\n",
    "        road_slope=0\n",
    "    )\n",
    "    c.save_profile(consumption_path)    "
   ]
  },
  {
   "cell_type": "code",
   "execution_count": 13,
   "id": "40edb0cd",
   "metadata": {},
   "outputs": [
    {
     "name": "stdout",
     "output_type": "stream",
     "text": [
      "Model 3 Long Range AWD\n",
      "New profile running: BEV3_W2_49099_Tesla_Model_3_Long_Range_AWD_2019_b1957\n",
      "temp Kelvin DE 2020 Timezone: Europe/Berlin\n",
      "pressure Pascal DE 2020 Timezone: Europe/Berlin\n",
      "dew_point Kelvin DE 2020 Timezone: Europe/Berlin\n",
      "Progress: 100% [37 / 37] trips\n",
      " \n",
      "See Log files\n",
      "/Users/Jarusch/Documents/Hertie/Hertie School/OneDrive - Hertie School/Jarusch/Virtual_storage/Modelling/Git_hub/EES/Emobpy/my_emobpy/log/emobpy.log\n",
      "Model 3 Long Range AWD\n",
      "New profile running: BEV2_W2_55cf0_Tesla_Model_3_Long_Range_AWD_2019_ad02e\n",
      "temp Kelvin DE 2020 Timezone: Europe/Berlin\n",
      "pressure Pascal DE 2020 Timezone: Europe/Berlin\n",
      "dew_point Kelvin DE 2020 Timezone: Europe/Berlin\n",
      "Progress: 100% [31 / 31] trips\n",
      " \n",
      "See Log files\n",
      "/Users/Jarusch/Documents/Hertie/Hertie School/OneDrive - Hertie School/Jarusch/Virtual_storage/Modelling/Git_hub/EES/Emobpy/my_emobpy/log/emobpy.log\n",
      "Model 3 Long Range AWD\n",
      "New profile running: BEV6_W2_27d26_Tesla_Model_3_Long_Range_AWD_2019_b91ac\n",
      "temp Kelvin DE 2020 Timezone: Europe/Berlin\n",
      "pressure Pascal DE 2020 Timezone: Europe/Berlin\n",
      "dew_point Kelvin DE 2020 Timezone: Europe/Berlin\n",
      "Progress: 100% [18 / 18] trips\n",
      " \n",
      "See Log files\n",
      "/Users/Jarusch/Documents/Hertie/Hertie School/OneDrive - Hertie School/Jarusch/Virtual_storage/Modelling/Git_hub/EES/Emobpy/my_emobpy/log/emobpy.log\n",
      "ID.3\n",
      "New profile running: BEV4_W2_9f86e_Volkswagen_ID.3_2020_467b9\n",
      "temp Kelvin DE 2020 Timezone: Europe/Berlin\n",
      "pressure Pascal DE 2020 Timezone: Europe/Berlin\n",
      "dew_point Kelvin DE 2020 Timezone: Europe/Berlin\n",
      "Progress: 100% [25 / 25] trips\n",
      " \n",
      "See Log files\n",
      "/Users/Jarusch/Documents/Hertie/Hertie School/OneDrive - Hertie School/Jarusch/Virtual_storage/Modelling/Git_hub/EES/Emobpy/my_emobpy/log/emobpy.log\n",
      "ID.3\n",
      "New profile running: BEV5_W2_411cd_Volkswagen_ID.3_2020_b5683\n",
      "temp Kelvin DE 2020 Timezone: Europe/Berlin\n",
      "pressure Pascal DE 2020 Timezone: Europe/Berlin\n",
      "dew_point Kelvin DE 2020 Timezone: Europe/Berlin\n",
      "Progress: 100% [26 / 26] trips\n",
      " \n",
      "See Log files\n",
      "/Users/Jarusch/Documents/Hertie/Hertie School/OneDrive - Hertie School/Jarusch/Virtual_storage/Modelling/Git_hub/EES/Emobpy/my_emobpy/log/emobpy.log\n",
      "Zoe Q90\n",
      "New profile running: BEV8_W2_1b304_Renault_Zoe_Q90_2017_5a9fe\n",
      "temp Kelvin DE 2020 Timezone: Europe/Berlin\n",
      "pressure Pascal DE 2020 Timezone: Europe/Berlin\n",
      "dew_point Kelvin DE 2020 Timezone: Europe/Berlin\n",
      "Progress: 100% [28 / 28] trips\n",
      " \n",
      "See Log files\n",
      "/Users/Jarusch/Documents/Hertie/Hertie School/OneDrive - Hertie School/Jarusch/Virtual_storage/Modelling/Git_hub/EES/Emobpy/my_emobpy/log/emobpy.log\n",
      "Zoe Q90\n",
      "New profile running: BEV9_W2_d94c7_Renault_Zoe_Q90_2017_60781\n",
      "temp Kelvin DE 2020 Timezone: Europe/Berlin\n",
      "pressure Pascal DE 2020 Timezone: Europe/Berlin\n",
      "dew_point Kelvin DE 2020 Timezone: Europe/Berlin\n",
      "Progress: 100% [27 / 27] trips\n",
      " \n",
      "See Log files\n",
      "/Users/Jarusch/Documents/Hertie/Hertie School/OneDrive - Hertie School/Jarusch/Virtual_storage/Modelling/Git_hub/EES/Emobpy/my_emobpy/log/emobpy.log\n",
      "IONIQ Electric 28 kWh\n",
      "New profile running: BEV0_W2_2e694_Hyundai_IONIQ_Electric_28_kWh_2019_a2151\n",
      "temp Kelvin DE 2020 Timezone: Europe/Berlin\n",
      "pressure Pascal DE 2020 Timezone: Europe/Berlin\n",
      "dew_point Kelvin DE 2020 Timezone: Europe/Berlin\n",
      "Progress: 100% [16 / 16] trips\n",
      " \n",
      "See Log files\n",
      "/Users/Jarusch/Documents/Hertie/Hertie School/OneDrive - Hertie School/Jarusch/Virtual_storage/Modelling/Git_hub/EES/Emobpy/my_emobpy/log/emobpy.log\n",
      "500e\n",
      "New profile running: BEV1_W2_884e5_FIAT_500e_2019_73e05\n",
      "temp Kelvin DE 2020 Timezone: Europe/Berlin\n",
      "pressure Pascal DE 2020 Timezone: Europe/Berlin\n",
      "dew_point Kelvin DE 2020 Timezone: Europe/Berlin\n",
      "Progress: 100% [31 / 31] trips\n",
      " \n",
      "See Log files\n",
      "/Users/Jarusch/Documents/Hertie/Hertie School/OneDrive - Hertie School/Jarusch/Virtual_storage/Modelling/Git_hub/EES/Emobpy/my_emobpy/log/emobpy.log\n",
      "i3 33 kWh\n",
      "New profile running: BEV7_W2_2d553_BMW_i3_33_kWh_2017_23c9f\n",
      "temp Kelvin DE 2020 Timezone: Europe/Berlin\n",
      "pressure Pascal DE 2020 Timezone: Europe/Berlin\n",
      "dew_point Kelvin DE 2020 Timezone: Europe/Berlin\n",
      "Progress: 100% [34 / 34] trips\n",
      " \n",
      "See Log files\n",
      "/Users/Jarusch/Documents/Hertie/Hertie School/OneDrive - Hertie School/Jarusch/Virtual_storage/Modelling/Git_hub/EES/Emobpy/my_emobpy/log/emobpy.log\n"
     ]
    }
   ],
   "source": [
    "for folder in p_list:\n",
    "    ts_path = os.path.join(profile_path, folder)\n",
    "    DB = DataBase(ts_path)\n",
    "    DB.update()\n",
    "    DB.loadfiles()\n",
    "\n",
    "\n",
    "    pnames = list(DB.db.keys()) \n",
    "    \n",
    "    for i, file in enumerate(pnames):\n",
    "\n",
    "        if get_dir_size(consumption_path) < 1.5:\n",
    "            consumption_gen(i, file, DB)\n",
    "\n",
    "        else:\n",
    "            create_new_folder(consumption_path)\n",
    "            transtion_files(consumption_path)\n",
    "            consumption_gen(i, file, DB)\n",
    "        \n",
    "        mobility_file_path = os.path.join(ts_path, f'{file}.pickle')\n",
    "        \n",
    "        used_profile = os.path.join(home_path, \"db\", \"used\", \"profile\")\n",
    "        if get_dir_size(used_profile) < 1.5:\n",
    "            pass\n",
    "\n",
    "        else:\n",
    "            create_new_folder(used_profile)\n",
    "            transtion_files(used_profile)\n",
    "            \n",
    "        shutil.move(mobility_file_path, \n",
    "                    create_new_folder(\"not_needed\", profile_consumption_availability = \"profile\", used_dir=True)\n",
    "                   )\n",
    "    \n",
    "    DB = DataBase(consumption_path)\n",
    "    DB.update()             \n",
    "transtion_files(used_profile)\n",
    "transtion_files(consumption_path)"
   ]
  },
  {
   "cell_type": "markdown",
   "id": "6ae50813",
   "metadata": {
    "scrolled": true
   },
   "source": [
    "mname = list(DB_profile.db.keys())     # getting the id of the first mobility profile\n",
    "HI = HeatInsulation(True)            # Creating the heat insulation by copying the default configuration\n",
    "BEVS = BEVspecs()                    # Database that contains BEV models\n",
    "#BEVS.show_models()\n",
    "\n",
    "models = {\n",
    "    \"Tesla\": \n",
    "        {\"model\": \"Model 3 Long Range AWD\",\n",
    "         \"year\": 2019,\n",
    "         \"share\": 22.73},\n",
    "    \"Volkswagen\":\n",
    "        {\"model\": \"ID.3\",\n",
    "         \"year\": 2020,\n",
    "         \"share\": 15.91},\n",
    "    \"Renault\":\n",
    "        {\"model\": \"Zoe Q90\",\n",
    "         \"year\": 2017,\n",
    "         \"share\": 15.91},\n",
    "    \"Hyundai\":\n",
    "        {\"model\": \"Kona Electric 64 kWh\",\n",
    "         \"year\": 2019,\n",
    "         \"share\": 11.63},\n",
    "    \"FIAT\":\n",
    "        {\"model\": \"500e\",\n",
    "         \"year\": 2019,\n",
    "         \"share\": 9.09},\n",
    "    \"BMW\":\n",
    "        {\"model\": \"i3 33 kWh\",\n",
    "         \"year\": 2017,\n",
    "         \"share\": 6.82},\n",
    "    \"MINI\":\n",
    "        {\"model\": \"Cooper SE Level I\",\n",
    "         \"year\": 2020,\n",
    "         \"share\": 6.82},\n",
    "    \"Audi\": \n",
    "        {\"model\": \"e-tron 55 quattro\",\n",
    "         \"year\": 2019,\n",
    "         \"share\": 4.55},\n",
    "    \"Hyundai\": \n",
    "        {\"model\": \"IONIQ Electric 28 kWh\",\n",
    "         \"year\": 2019,\n",
    "         \"share\": 4.55},\n",
    "    \"KIA\": \n",
    "        {\"model\": \"e-Niro 64 kWh\",\n",
    "         \"year\": 2019,\n",
    "         \"share\": 2.27}\n",
    "    \n",
    "}\n",
    "\n",
    "back_up_model = {\n",
    "    \"brand\": \"Volkswagen\",\n",
    "    \"model\": \"e-Golf SE\",\n",
    "    \"year\": 2019\n",
    "}\n",
    "\n",
    "models_assigned = {}\n",
    "\n",
    "i = 0\n",
    "for brand in models.keys():\n",
    "    models[brand][\"number\"] = round(number_profiles*models[brand][\"share\"]/100)\n",
    "    #print(brand + \" \" +str(models[brand][\"number\"]))\n",
    "    for k in range(0, round(models[brand][\"number\"])): \n",
    "        print(str(i))\n",
    "        models_assigned[str(i)] = BEVS.model((\n",
    "            brand, models[brand][\"model\"], models[brand][\"year\"]\n",
    "        ))\n",
    "        i += 1\n",
    "while i <= number_profiles:\n",
    "    \n",
    "    models_assigned[str(i)] = BEVS.model((\n",
    "            back_up_model[\"brand\"], back_up_model[\"model\"], back_up_model[\"year\"]\n",
    "        ))\n",
    "    i += 1\n",
    "    \n",
    "    #plausibility check\n",
    "len(models_assigned) - number_profiles\n",
    "\n",
    "for i, file in enumerate(mname):\n",
    "    car_model = models_assigned[str(i)]\n",
    "    print(car_model.parameters['EV Model'])\n",
    "    c = Consumption(file, car_model)\n",
    "    c.load_setting_mobility(DB_profile)\n",
    "    c.run(\n",
    "        heat_insulation=HI,\n",
    "        weather_country='DE',\n",
    "        weather_year=2016,\n",
    "        passenger_mass=75,                   # kg\n",
    "        passenger_sensible_heat=70,          # W\n",
    "        passenger_nr=1.5,                    # Passengers per vehicle including driver\n",
    "        air_cabin_heat_transfer_coef=20,     # W/(m2K). Interior walls\n",
    "        air_flow = 0.02,                     # m3/s. Ventilation\n",
    "        driving_cycle_type='WLTC',           # Two options \"WLTC\" or \"EPA\"\n",
    "        road_type=0,                         # For rolling resistance, Zero represents a new road.\n",
    "        road_slope=0\n",
    "    )\n",
    "    c.save_profile(consumption_path)          "
   ]
  },
  {
   "cell_type": "markdown",
   "id": "dbcc1783",
   "metadata": {},
   "source": [
    "------------------------------\n",
    "c) See some attributes\n",
    "\n",
    "------------------------------"
   ]
  },
  {
   "cell_type": "code",
   "execution_count": 14,
   "id": "c496dafc",
   "metadata": {
    "pycharm": {
     "is_executing": true
    }
   },
   "outputs": [],
   "source": [
    "Jarusch#c.name\n",
    "#c.input\n",
    "#c.brand, c.model, c.year\n",
    "#c.timeseries # Consumption in kWh/timestep -> timestep 15 min in this example\n",
    "#c.profile.head()"
   ]
  },
  {
   "cell_type": "markdown",
   "id": "667065c1",
   "metadata": {},
   "source": [
    "-------------------------\n",
    "d) Visualization\n",
    "\n",
    "-------------------------"
   ]
  },
  {
   "cell_type": "code",
   "execution_count": 15,
   "id": "c1e21657",
   "metadata": {
    "pycharm": {
     "is_executing": true
    }
   },
   "outputs": [],
   "source": [
    "Jarusch Müßel#fig_consumption = PLT.sankey(c.name, include=None, to_html=False, path=None)\n",
    "#fig_consumption"
   ]
  },
  {
   "cell_type": "markdown",
   "id": "c432f09a",
   "metadata": {},
   "source": [
    "-------------------------------------------------------------------\n",
    "## Step 3: Grid availability time series\n",
    "-------------------------------------------------------------------\n",
    "a) probability distribution and power rating for charging stations\n",
    "\n",
    "-------------------------------------------------------------------"
   ]
  },
  {
   "cell_type": "code",
   "execution_count": 16,
   "id": "0721c80f",
   "metadata": {
    "pycharm": {
     "is_executing": true
    }
   },
   "outputs": [],
   "source": [
    "Jarusch Müßelfrom emobpy import Availability"
   ]
  },
  {
   "cell_type": "code",
   "execution_count": 17,
   "id": "432c1758",
   "metadata": {
    "pycharm": {
     "is_executing": true
    }
   },
   "outputs": [],
   "source": [
    "station_distribution = {                  # Dictionary with charging stations type probability distribution per the purpose of the trip (location or destination)\n",
    "    'prob_charging_point': {\n",
    "        'errands': {'public': 0.5, 'none': 0.5},\n",
    "        'escort': {'public': 0.5, 'none': 0.5},\n",
    "        'leisure': {'public': 0.5, 'none': 0.5},\n",
    "        'shopping': {'public': 0.5, 'none': 0.5},\n",
    "        'home': {'public': 0.4, 'home': 0.6},\n",
    "        'workplace': {'public': 0.0, 'workplace': 1.0, 'none': 0.0},   # If the vehicle is at the workplace, it will always find a charging station available (assumption)\n",
    "        'driving': {'none': 0.99, 'fast75': 0.005, 'fast150': 0.005}}, # with the low probability given to fast charging is to ensure fast charging only for very long trips (assumption)\n",
    "    'capacity_charging_point': {                                       # Nominal power rating of charging station in kW\n",
    "        'public': 22,\n",
    "        'home': 3.7,\n",
    "        'workplace': 11,\n",
    "        'none': 0,  # dummy station\n",
    "        'fast75': 75,\n",
    "        'fast150': 150}\n",
    "}"
   ]
  },
  {
   "cell_type": "code",
   "execution_count": 18,
   "id": "4c7b9b8a",
   "metadata": {},
   "outputs": [],
   "source": [
    "c_list = os.listdir(consumption_path)\n",
    "if \".DS_Store\" in c_list:\n",
    "    c_list.remove(\".DS_Store\")"
   ]
  },
  {
   "cell_type": "code",
   "execution_count": 19,
   "id": "a75f7a3f",
   "metadata": {},
   "outputs": [],
   "source": [
    "def availability_gen(file, DB):\n",
    "    ga = Availability(file, DB)\n",
    "    ga.set_scenario(station_distribution)\n",
    "    ga.run()\n",
    "    ga.save_profile(availability_path)"
   ]
  },
  {
   "cell_type": "code",
   "execution_count": 20,
   "id": "7f57160e",
   "metadata": {},
   "outputs": [
    {
     "name": "stdout",
     "output_type": "stream",
     "text": [
      "soc_init:0.5 --> soc_end:1.0\n",
      "Profile done: BEV9_W2_d94c7_Renault_Zoe_Q90_2017_60781_avai_58eaf\n",
      " \n",
      "See Log files\n",
      "/Users/Jarusch/Documents/Hertie/Hertie School/OneDrive - Hertie School/Jarusch/Virtual_storage/Modelling/Git_hub/EES/Emobpy/my_emobpy/log/emobpy.log\n",
      "soc_init:0.5 --> soc_end:1.0\n",
      "Profile done: BEV6_W2_27d26_Tesla_Model_3_Long_Range_AWD_2019_b91ac_avai_8b6ac\n",
      " \n",
      "See Log files\n",
      "/Users/Jarusch/Documents/Hertie/Hertie School/OneDrive - Hertie School/Jarusch/Virtual_storage/Modelling/Git_hub/EES/Emobpy/my_emobpy/log/emobpy.log\n",
      "soc_init:0.5 --> soc_end:0.998\n",
      "Profile done: BEV5_W2_411cd_Volkswagen_ID.3_2020_b5683_avai_3eda6\n",
      " \n",
      "See Log files\n",
      "/Users/Jarusch/Documents/Hertie/Hertie School/OneDrive - Hertie School/Jarusch/Virtual_storage/Modelling/Git_hub/EES/Emobpy/my_emobpy/log/emobpy.log\n",
      "soc_init:0.5 --> soc_end:1.0\n",
      "Profile done: BEV8_W2_1b304_Renault_Zoe_Q90_2017_5a9fe_avai_bf4c9\n",
      " \n",
      "See Log files\n",
      "/Users/Jarusch/Documents/Hertie/Hertie School/OneDrive - Hertie School/Jarusch/Virtual_storage/Modelling/Git_hub/EES/Emobpy/my_emobpy/log/emobpy.log\n",
      "soc_init:0.5 --> soc_end:1.0\n",
      "Profile done: BEV0_W2_2e694_Hyundai_IONIQ_Electric_28_kWh_2019_a2151_avai_cd995\n",
      " \n",
      "See Log files\n",
      "/Users/Jarusch/Documents/Hertie/Hertie School/OneDrive - Hertie School/Jarusch/Virtual_storage/Modelling/Git_hub/EES/Emobpy/my_emobpy/log/emobpy.log\n",
      "soc_init:0.5 --> soc_end:1.0\n",
      "Profile done: BEV7_W2_2d553_BMW_i3_33_kWh_2017_23c9f_avai_18553\n",
      " \n",
      "See Log files\n",
      "/Users/Jarusch/Documents/Hertie/Hertie School/OneDrive - Hertie School/Jarusch/Virtual_storage/Modelling/Git_hub/EES/Emobpy/my_emobpy/log/emobpy.log\n",
      "soc_init:0.5 --> soc_end:1.0\n",
      "Profile done: BEV2_W2_55cf0_Tesla_Model_3_Long_Range_AWD_2019_ad02e_avai_7b2ca\n",
      " \n",
      "See Log files\n",
      "/Users/Jarusch/Documents/Hertie/Hertie School/OneDrive - Hertie School/Jarusch/Virtual_storage/Modelling/Git_hub/EES/Emobpy/my_emobpy/log/emobpy.log\n",
      "soc_init:0.5 --> soc_end:1.0\n",
      "Profile done: BEV1_W2_884e5_FIAT_500e_2019_73e05_avai_f8fdb\n",
      " \n",
      "See Log files\n",
      "/Users/Jarusch/Documents/Hertie/Hertie School/OneDrive - Hertie School/Jarusch/Virtual_storage/Modelling/Git_hub/EES/Emobpy/my_emobpy/log/emobpy.log\n",
      "soc_init:0.5 --> soc_end:1.0\n",
      "Profile done: BEV4_W2_9f86e_Volkswagen_ID.3_2020_467b9_avai_dc501\n",
      " \n",
      "See Log files\n",
      "/Users/Jarusch/Documents/Hertie/Hertie School/OneDrive - Hertie School/Jarusch/Virtual_storage/Modelling/Git_hub/EES/Emobpy/my_emobpy/log/emobpy.log\n",
      "soc_init:0.5 --> soc_end:1.0\n",
      "Profile done: BEV3_W2_49099_Tesla_Model_3_Long_Range_AWD_2019_b1957_avai_27e32\n",
      " \n",
      "See Log files\n",
      "/Users/Jarusch/Documents/Hertie/Hertie School/OneDrive - Hertie School/Jarusch/Virtual_storage/Modelling/Git_hub/EES/Emobpy/my_emobpy/log/emobpy.log\n"
     ]
    }
   ],
   "source": [
    "for folder in c_list:\n",
    "    ts_path = os.path.join(consumption_path, folder)\n",
    "    DB = DataBase(ts_path)\n",
    "    DB.update()\n",
    "    DB.loadfiles()\n",
    "    \n",
    "    cnames = list(DB.db.keys()) \n",
    "    \n",
    "    for file in cnames:\n",
    "\n",
    "        if get_dir_size(availability_path) < 1.5:\n",
    "            availability_gen(file, DB)\n",
    "\n",
    "        else:\n",
    "            create_new_folder(availability_path)\n",
    "            transtion_files(availability_path)\n",
    "            availability_gen(file, DB)\n",
    "    \n",
    "        cons_file_path = os.path.join(ts_path, f'{file}.pickle')\n",
    "        \n",
    "        used_consumption = os.path.join(home_path, \"db\", \"used\", \"consumption\")\n",
    "        if get_dir_size(used_consumption) < 1.5:\n",
    "            pass\n",
    "\n",
    "        else:\n",
    "            create_new_folder(used_consumption)\n",
    "            transtion_files(used_consumption)\n",
    "            \n",
    "        shutil.move(cons_file_path, \n",
    "                        create_new_folder(\"not_needed\", profile_consumption_availability = \"consumption\", used_dir=True)\n",
    "                       )\n",
    "    DB = DataBase(availability_path)\n",
    "    DB.update()             \n",
    "transtion_files(used_consumption)\n",
    "transtion_files(availability_path)"
   ]
  },
  {
   "cell_type": "markdown",
   "id": "dd87097f",
   "metadata": {},
   "source": [
    "--------------------------------\n",
    "b) See some attributes\n",
    "\n",
    "--------------------------------"
   ]
  },
  {
   "cell_type": "code",
   "execution_count": 21,
   "id": "c505423f",
   "metadata": {
    "pycharm": {
     "is_executing": true
    }
   },
   "outputs": [],
   "source": [
    "#ga.name\n",
    "#ga.input\n",
    "#ga.battery_capacity\n",
    "#ga.charging_eff\n",
    "#ga.discharging_eff\n",
    "#ga.soc_init\n",
    "#ga.soc_min\n",
    "#ga.timeseries"
   ]
  },
  {
   "cell_type": "markdown",
   "id": "c6cd0289",
   "metadata": {},
   "source": [
    "# Export"
   ]
  },
  {
   "cell_type": "code",
   "execution_count": 23,
   "id": "22e1471c",
   "metadata": {
    "scrolled": true
   },
   "outputs": [
    {
     "name": "stdout",
     "output_type": "stream",
     "text": [
      "24\n",
      "Tesla/Model_3_Long_Range_AWD/2019\n",
      "Tesla/Model_3_Long_Range_AWD/2019\n",
      "Tesla/Model_3_Long_Range_AWD/2019\n",
      "Renault/Zoe_Q90/2017\n",
      "Tesla/Model_3_Long_Range_AWD/2019\n",
      "Tesla/Model_3_Long_Range_AWD/2019\n",
      "Tesla/Model_3_Long_Range_AWD/2019\n",
      "Volkswagen/ID.3/2020\n",
      "Volkswagen/ID.3/2020\n",
      "Volkswagen/ID.3/2020\n",
      "Tesla/Model_3_Long_Range_AWD/2019\n",
      "Tesla/Model_3_Long_Range_AWD/2019\n",
      "Volkswagen/ID.3/2020\n",
      "Renault/Zoe_Q90/2017\n",
      "Tesla/Model_3_Long_Range_AWD/2019\n",
      "Volkswagen/ID.3/2020\n",
      "Tesla/Model_3_Long_Range_AWD/2019\n",
      "Volkswagen/ID.3/2020\n",
      "Tesla/Model_3_Long_Range_AWD/2019\n",
      "Tesla/Model_3_Long_Range_AWD/2019\n",
      "Tesla/Model_3_Long_Range_AWD/2019\n",
      "Tesla/Model_3_Long_Range_AWD/2019\n",
      "Tesla/Model_3_Long_Range_AWD/2019\n",
      "Renault/Zoe_Q90/2017\n",
      "10\n",
      "Tesla/Model_3_Long_Range_AWD/2019\n",
      "Volkswagen/ID.3/2020\n",
      "FIAT/500e/2019\n",
      "Volkswagen/ID.3/2020\n",
      "Hyundai/IONIQ_Electric_28_kWh/2019\n",
      "Renault/Zoe_Q90/2017\n",
      "Tesla/Model_3_Long_Range_AWD/2019\n",
      "Renault/Zoe_Q90/2017\n",
      "Tesla/Model_3_Long_Range_AWD/2019\n",
      "BMW/i3_33_kWh/2017\n",
      "10\n",
      "Renault/Zoe_Q90/2017\n",
      "Tesla/Model_3_Long_Range_AWD/2019\n",
      "Volkswagen/ID.3/2020\n",
      "Renault/Zoe_Q90/2017\n",
      "Hyundai/IONIQ_Electric_28_kWh/2019\n",
      "BMW/i3_33_kWh/2017\n",
      "Tesla/Model_3_Long_Range_AWD/2019\n",
      "FIAT/500e/2019\n",
      "Volkswagen/ID.3/2020\n",
      "Tesla/Model_3_Long_Range_AWD/2019\n"
     ]
    }
   ],
   "source": [
    "Jarusch Müßelc_list = os.listdir(used_consumption)\n",
    "if \".DS_Store\" in c_list:\n",
    "    c_list.remove(\".DS_Store\")\n",
    "    \n",
    "consumption_df = pd.DataFrame() \n",
    "\n",
    "for folder in c_list:\n",
    "    DB = DataBase(os.path.join(used_consumption, folder))\n",
    "    DB.update()\n",
    "    DB.loadfiles()\n",
    "    c_names = list(DB.db.keys()) \n",
    "    print(len(c_names))\n",
    "    \n",
    "    #get consumption_ts, name\n",
    "    for c_file in c_names:\n",
    "        profile = DB.db[c_file]\n",
    "        try:\n",
    "            col_name = profile[\"brand\"]+\"/\" +profile[\"model\"]+\"/\" +profile[\"year\"]\n",
    "            consumption = profile[\"timeseries\"][\"consumption\"].to_frame().rename(\n",
    "                columns={\"consumption\":col_name})\n",
    "            consumption_df = pd.concat([consumption_df, consumption], axis=1)\n",
    "            print(col_name)\n",
    "        except KeyError:\n",
    "            print(c_file)\n",
    "            pass"
   ]
  },
  {
   "cell_type": "code",
   "execution_count": 24,
   "id": "c9be8707",
   "metadata": {},
   "outputs": [
    {
     "name": "stdout",
     "output_type": "stream",
     "text": [
      "23\n",
      "10\n",
      "10\n"
     ]
    }
   ],
   "source": [
    "Jarusch Müßelavailability_df = pd.DataFrame()\n",
    "car_properties_df = pd.DataFrame(index = [\"soc_end\", \"soc_init\", \"battery_capacity\"])\n",
    "\n",
    "\n",
    "for folder in os.listdir(availability_path)[1:]:\n",
    "    DB = DataBase(os.path.join(availability_path, folder))\n",
    "    DB.update()\n",
    "    DB.loadfiles()\n",
    "    ava_names = list(DB.db.keys()) \n",
    "    print(len(ava_names))\n",
    "\n",
    "    #charging cap [kW] \n",
    "    for a_file in ava_names:\n",
    "        profile = DB.db[a_file]\n",
    "        try:\n",
    "            col_name = \"_\".join(profile[\"name\"].split(\"_\")[:-3])\n",
    "\n",
    "            charging_eff = profile[\"charging_eff\"]\n",
    "            availability = (charging_eff*profile[\"timeseries\"][\"charging_cap\"]\n",
    "                           ).to_frame().rename(\n",
    "                columns={\"charging_cap\":col_name})\n",
    "            availability_df = pd.concat([availability_df, availability], axis=1)\n",
    "\n",
    "            car_properties_df[col_name] = [\n",
    "                profile[\"soc_end\"], profile[\"soc_init\"], profile[\"battery_capacity\"]\n",
    "                              ]   \n",
    "        except KeyError:\n",
    "            print(a_file)\n",
    "            pass"
   ]
  },
  {
   "cell_type": "code",
   "execution_count": 25,
   "id": "072584df",
   "metadata": {},
   "outputs": [
    {
     "data": {
      "text/plain": [
       "<AxesSubplot:xlabel='date'>"
      ]
     },
     "execution_count": 25,
     "metadata": {},
     "output_type": "execute_result"
    },
    {
     "data": {
      "image/png": "[encoded data removed]",
      "text/plain": [
       "<Figure size 432x288 with 1 Axes>"
      ]
     },
     "metadata": {
      "needs_background": "light"
     },
     "output_type": "display_data"
    }
   ],
   "source": [
    "Jarusch Müßelconsumption_df.sum(1).iloc[:300].plot()"
   ]
  },
  {
   "cell_type": "code",
   "execution_count": 26,
   "id": "8c200e53",
   "metadata": {},
   "outputs": [
    {
     "data": {
      "text/plain": [
       "<AxesSubplot:xlabel='date'>"
      ]
     },
     "execution_count": 26,
     "metadata": {},
     "output_type": "execute_result"
    },
    {
     "data": {
      "image/png": "[encoded data removed]",
      "text/plain": [
       "<Figure size 432x288 with 1 Axes>"
      ]
     },
     "metadata": {
      "needs_background": "light"
     },
     "output_type": "display_data"
    }
   ],
   "source": [
    "availability_df.sum(1).iloc[:300].plot()"
   ]
  },
  {
   "cell_type": "code",
   "execution_count": 27,
   "id": "4c823eb8",
   "metadata": {},
   "outputs": [
    {
     "data": {
      "text/html": [
       "<div>\n",
       "<style scoped>\n",
       "    .dataframe tbody tr th:only-of-type {\n",
       "        vertical-align: middle;\n",
       "    }\n",
       "\n",
       "    .dataframe tbody tr th {\n",
       "        vertical-align: top;\n",
       "    }\n",
       "\n",
       "    .dataframe thead th {\n",
       "        text-align: right;\n",
       "    }\n",
       "</style>\n",
       "<table border=\"1\" class=\"dataframe\">\n",
       "  <thead>\n",
       "    <tr style=\"text-align: right;\">\n",
       "      <th></th>\n",
       "      <th>BEV6_W2_ab8e6_Tesla_Model_3_Long_Range_AWD_2019</th>\n",
       "      <th>BEV4_W2_c07cc_Renault_Zoe_Q90_2017</th>\n",
       "      <th>BEV2_W2_cbb91_Tesla_Model_3_Long_Range_AWD_2019</th>\n",
       "      <th>BEV6_W2_3866e_Tesla_Model_3_Long_Range_AWD_2019</th>\n",
       "      <th>BEV0_W2_cc753_Tesla_Model_3_Long_Range_AWD_2019</th>\n",
       "      <th>BEV8_W2_76315_Volkswagen_ID.3_2020</th>\n",
       "      <th>BEV1_W2_4b671_Renault_Zoe_Q90_2017</th>\n",
       "      <th>BEV8_W2_bca1b_Tesla_Model_3_Long_Range_AWD_2019</th>\n",
       "      <th>BEV9_W2_888a8_Tesla_Model_3_Long_Range_AWD_2019</th>\n",
       "      <th>BEV3_W2_65f4a_Volkswagen_ID.3_2020</th>\n",
       "      <th>...</th>\n",
       "      <th>BEV2_W2_85ea3_Volkswagen_ID.3_2020</th>\n",
       "      <th>BEV9_W2_d515f_BMW_i3_33_kWh_2017</th>\n",
       "      <th>BEV1_W2_ef0ef_Tesla_Model_3_Long_Range_AWD_2019</th>\n",
       "      <th>BEV5_W2_6e361_Renault_Zoe_Q90_2017</th>\n",
       "      <th>BEV7_W2_b43f0_Volkswagen_ID.3_2020</th>\n",
       "      <th>BEV3_W2_ca7d9_Hyundai_IONIQ_Electric_28_kWh_2019</th>\n",
       "      <th>BEV8_W2_4368d_FIAT_500e_2019</th>\n",
       "      <th>BEV0_W2_933fd_Tesla_Model_3_Long_Range_AWD_2019</th>\n",
       "      <th>BEV4_W2_8c161_Renault_Zoe_Q90_2017</th>\n",
       "      <th>BEV6_W2_1cc03_Tesla_Model_3_Long_Range_AWD_2019</th>\n",
       "    </tr>\n",
       "  </thead>\n",
       "  <tbody>\n",
       "    <tr>\n",
       "      <th>soc_end</th>\n",
       "      <td>1.0</td>\n",
       "      <td>1.00</td>\n",
       "      <td>1.0</td>\n",
       "      <td>1.0</td>\n",
       "      <td>1.0</td>\n",
       "      <td>1.0</td>\n",
       "      <td>1.00</td>\n",
       "      <td>1.0</td>\n",
       "      <td>1.0</td>\n",
       "      <td>1.0</td>\n",
       "      <td>...</td>\n",
       "      <td>1.0</td>\n",
       "      <td>1.0</td>\n",
       "      <td>1.0</td>\n",
       "      <td>1.00</td>\n",
       "      <td>1.0</td>\n",
       "      <td>1.0</td>\n",
       "      <td>1.0</td>\n",
       "      <td>1.0</td>\n",
       "      <td>1.00</td>\n",
       "      <td>1.0</td>\n",
       "    </tr>\n",
       "    <tr>\n",
       "      <th>soc_init</th>\n",
       "      <td>0.5</td>\n",
       "      <td>0.50</td>\n",
       "      <td>0.5</td>\n",
       "      <td>0.5</td>\n",
       "      <td>0.5</td>\n",
       "      <td>0.5</td>\n",
       "      <td>0.50</td>\n",
       "      <td>0.5</td>\n",
       "      <td>0.5</td>\n",
       "      <td>0.5</td>\n",
       "      <td>...</td>\n",
       "      <td>0.5</td>\n",
       "      <td>0.5</td>\n",
       "      <td>0.5</td>\n",
       "      <td>0.50</td>\n",
       "      <td>0.5</td>\n",
       "      <td>0.5</td>\n",
       "      <td>0.5</td>\n",
       "      <td>0.5</td>\n",
       "      <td>0.50</td>\n",
       "      <td>0.5</td>\n",
       "    </tr>\n",
       "    <tr>\n",
       "      <th>battery_capacity</th>\n",
       "      <td>79.5</td>\n",
       "      <td>45.61</td>\n",
       "      <td>79.5</td>\n",
       "      <td>79.5</td>\n",
       "      <td>79.5</td>\n",
       "      <td>45.0</td>\n",
       "      <td>45.61</td>\n",
       "      <td>79.5</td>\n",
       "      <td>79.5</td>\n",
       "      <td>45.0</td>\n",
       "      <td>...</td>\n",
       "      <td>45.0</td>\n",
       "      <td>33.2</td>\n",
       "      <td>79.5</td>\n",
       "      <td>45.61</td>\n",
       "      <td>45.0</td>\n",
       "      <td>28.0</td>\n",
       "      <td>24.0</td>\n",
       "      <td>79.5</td>\n",
       "      <td>45.61</td>\n",
       "      <td>79.5</td>\n",
       "    </tr>\n",
       "  </tbody>\n",
       "</table>\n",
       "<p>3 rows × 39 columns</p>\n",
       "</div>"
      ],
      "text/plain": [
       "                  BEV6_W2_ab8e6_Tesla_Model_3_Long_Range_AWD_2019  \\\n",
       "soc_end                                                       1.0   \n",
       "soc_init                                                      0.5   \n",
       "battery_capacity                                             79.5   \n",
       "\n",
       "                  BEV4_W2_c07cc_Renault_Zoe_Q90_2017  \\\n",
       "soc_end                                         1.00   \n",
       "soc_init                                        0.50   \n",
       "battery_capacity                               45.61   \n",
       "\n",
       "                  BEV2_W2_cbb91_Tesla_Model_3_Long_Range_AWD_2019  \\\n",
       "soc_end                                                       1.0   \n",
       "soc_init                                                      0.5   \n",
       "battery_capacity                                             79.5   \n",
       "\n",
       "                  BEV6_W2_3866e_Tesla_Model_3_Long_Range_AWD_2019  \\\n",
       "soc_end                                                       1.0   \n",
       "soc_init                                                      0.5   \n",
       "battery_capacity                                             79.5   \n",
       "\n",
       "                  BEV0_W2_cc753_Tesla_Model_3_Long_Range_AWD_2019  \\\n",
       "soc_end                                                       1.0   \n",
       "soc_init                                                      0.5   \n",
       "battery_capacity                                             79.5   \n",
       "\n",
       "                  BEV8_W2_76315_Volkswagen_ID.3_2020  \\\n",
       "soc_end                                          1.0   \n",
       "soc_init                                         0.5   \n",
       "battery_capacity                                45.0   \n",
       "\n",
       "                  BEV1_W2_4b671_Renault_Zoe_Q90_2017  \\\n",
       "soc_end                                         1.00   \n",
       "soc_init                                        0.50   \n",
       "battery_capacity                               45.61   \n",
       "\n",
       "                  BEV8_W2_bca1b_Tesla_Model_3_Long_Range_AWD_2019  \\\n",
       "soc_end                                                       1.0   \n",
       "soc_init                                                      0.5   \n",
       "battery_capacity                                             79.5   \n",
       "\n",
       "                  BEV9_W2_888a8_Tesla_Model_3_Long_Range_AWD_2019  \\\n",
       "soc_end                                                       1.0   \n",
       "soc_init                                                      0.5   \n",
       "battery_capacity                                             79.5   \n",
       "\n",
       "                  BEV3_W2_65f4a_Volkswagen_ID.3_2020  ...  \\\n",
       "soc_end                                          1.0  ...   \n",
       "soc_init                                         0.5  ...   \n",
       "battery_capacity                                45.0  ...   \n",
       "\n",
       "                  BEV2_W2_85ea3_Volkswagen_ID.3_2020  \\\n",
       "soc_end                                          1.0   \n",
       "soc_init                                         0.5   \n",
       "battery_capacity                                45.0   \n",
       "\n",
       "                  BEV9_W2_d515f_BMW_i3_33_kWh_2017  \\\n",
       "soc_end                                        1.0   \n",
       "soc_init                                       0.5   \n",
       "battery_capacity                              33.2   \n",
       "\n",
       "                  BEV1_W2_ef0ef_Tesla_Model_3_Long_Range_AWD_2019  \\\n",
       "soc_end                                                       1.0   \n",
       "soc_init                                                      0.5   \n",
       "battery_capacity                                             79.5   \n",
       "\n",
       "                  BEV5_W2_6e361_Renault_Zoe_Q90_2017  \\\n",
       "soc_end                                         1.00   \n",
       "soc_init                                        0.50   \n",
       "battery_capacity                               45.61   \n",
       "\n",
       "                  BEV7_W2_b43f0_Volkswagen_ID.3_2020  \\\n",
       "soc_end                                          1.0   \n",
       "soc_init                                         0.5   \n",
       "battery_capacity                                45.0   \n",
       "\n",
       "                  BEV3_W2_ca7d9_Hyundai_IONIQ_Electric_28_kWh_2019  \\\n",
       "soc_end                                                        1.0   \n",
       "soc_init                                                       0.5   \n",
       "battery_capacity                                              28.0   \n",
       "\n",
       "                  BEV8_W2_4368d_FIAT_500e_2019  \\\n",
       "soc_end                                    1.0   \n",
       "soc_init                                   0.5   \n",
       "battery_capacity                          24.0   \n",
       "\n",
       "                  BEV0_W2_933fd_Tesla_Model_3_Long_Range_AWD_2019  \\\n",
       "soc_end                                                       1.0   \n",
       "soc_init                                                      0.5   \n",
       "battery_capacity                                             79.5   \n",
       "\n",
       "                  BEV4_W2_8c161_Renault_Zoe_Q90_2017  \\\n",
       "soc_end                                         1.00   \n",
       "soc_init                                        0.50   \n",
       "battery_capacity                               45.61   \n",
       "\n",
       "                  BEV6_W2_1cc03_Tesla_Model_3_Long_Range_AWD_2019  \n",
       "soc_end                                                       1.0  \n",
       "soc_init                                                      0.5  \n",
       "battery_capacity                                             79.5  \n",
       "\n",
       "[3 rows x 39 columns]"
      ]
     },
     "execution_count": 27,
     "metadata": {},
     "output_type": "execute_result"
    }
   ],
   "source": [
    "car_properties_df"
   ]
  },
  {
   "cell_type": "code",
   "execution_count": 29,
   "id": "8e8ec64b",
   "metadata": {},
   "outputs": [],
   "source": [
    "consumption_pickle = os.path.join(data_path, \"consumption\")\n",
    "availaibilty_pickle = os.path.join(data_path, \"availability\")\n",
    "property_pickle = os.path.join(data_path, \"properties\")\n",
    "\n",
    "#consumption_df.to_pickle(consumption_pickle)\n",
    "#availability_df.to_pickle(availaibilty_pickle)\n",
    "#car_properties_df.to_pickle(property_pickle)\n"
   ]
  },
  {
   "cell_type": "markdown",
   "id": "002d6f8f",
   "metadata": {},
   "source": [
    "# N-sufficient"
   ]
  },
  {
   "cell_type": "code",
   "execution_count": 96,
   "id": "0d0875b5",
   "metadata": {},
   "outputs": [],
   "source": [
    "from sklearn.metrics import mean_squared_error \n",
    "import matplotlib.pyplot as plt"
   ]
  },
  {
   "cell_type": "code",
   "execution_count": 105,
   "id": "88110d51",
   "metadata": {},
   "outputs": [],
   "source": [
    "consumption = pd.read_pickle(os.path.join(data_path, \"consumption\"))"
   ]
  },
  {
   "cell_type": "code",
   "execution_count": 110,
   "id": "99e2ed19",
   "metadata": {},
   "outputs": [],
   "source": [
    "reduced = consumption.dropna()\n",
    "n_max = reduced.shape[1]"
   ]
  },
  {
   "cell_type": "code",
   "execution_count": 111,
   "id": "52621596",
   "metadata": {},
   "outputs": [],
   "source": [
    "rmse = {}\n",
    "\n",
    "for sample_size in range(10, n_max): \n",
    "    Y_true = reduced.mean(1)\n",
    "    Y_pred = reduced.iloc[:,:sample_size].mean(1)\n",
    "    rmse[f'{sample_size}'] = mean_squared_error(Y_true,Y_pred, squared=False) "
   ]
  },
  {
   "cell_type": "code",
   "execution_count": 112,
   "id": "94c7bcc8",
   "metadata": {},
   "outputs": [
    {
     "data": {
      "image/png": "[encoded data removed]",
      "text/plain": [
       "<Figure size 432x288 with 1 Axes>"
      ]
     },
     "metadata": {
      "needs_background": "light"
     },
     "output_type": "display_data"
    }
   ],
   "source": [
    "plt.scatter(range(10, n_max), rmse.values())\n",
    "plt.xlabel(\"sample_size\")\n",
    "plt.ylabel(\"RMSE\")\n",
    "plt.ylim(0)\n",
    "plt.show()"
   ]
  },
  {
   "cell_type": "markdown",
   "id": "810a2e06",
   "metadata": {},
   "source": [
    "# Plot"
   ]
  },
  {
   "cell_type": "code",
   "execution_count": 58,
   "id": "97a18194",
   "metadata": {},
   "outputs": [],
   "source": [
    "short_profiles = os.path.join(os.getcwd(), \"db\", \"all_in_short\")\n",
    "used_consumption = os.path.join(short_profiles, \"consumption\")\n",
    "availability_path = os.path.join(short_profiles, \"availability\")"
   ]
  },
  {
   "cell_type": "code",
   "execution_count": 3,
   "id": "4df37d1f",
   "metadata": {},
   "outputs": [],
   "source": [
    "data_path = '/Users/Jarusch/Documents/Hertie/Hertie School/OneDrive - Hertie School/Jarusch/Virtual_storage/Modelling/Git_hub/EES/Emobpy/my_emobpy'"
   ]
  },
  {
   "cell_type": "code",
   "execution_count": 53,
   "id": "4ef486cf",
   "metadata": {},
   "outputs": [],
   "source": [
    "os.makedirs(os.path.join(data_path, \"ged\"), exist_ok=True)\n",
    "ged_path = os.path.join(data_path, \"ged\")"
   ]
  },
  {
   "cell_type": "code",
   "execution_count": 59,
   "id": "5fc6c087",
   "metadata": {},
   "outputs": [],
   "source": [
    "folder_cons = get_folders(used_consumption)\n",
    "folder_ava = get_folders(availability_path)"
   ]
  },
  {
   "cell_type": "code",
   "execution_count": null,
   "id": "0a713029",
   "metadata": {},
   "outputs": [],
   "source": [
    "strategy = \"immediate\"\n",
    "count=0\n",
    "\n",
    "for folder_nr in folder_ava:\n",
    "    ts_path = os.path.join(availability_path, str(folder_nr))\n",
    "    DB = DataBase(ts_path)\n",
    "    DB.update()\n",
    "    DB.loadfiles()\n",
    "    for a_name in os.listdir(ts_path):\n",
    "        if \"DS_Store\" not in a_name.split(\".pickle\")[0]:\n",
    "            a_name = a_name.split(\".pickle\")[0]\n",
    "            print(a_name)\n",
    "            ged = Charging(a_name)\n",
    "            ged.load_scenario(DB)\n",
    "            ged.set_sub_scenario(strategy)\n",
    "            ged.run()\n",
    "            ged.save_profile(ged_path)"
   ]
  },
  {
   "cell_type": "code",
   "execution_count": null,
   "id": "b1263939",
   "metadata": {},
   "outputs": [],
   "source": [
    "GDB = DataBase(ged_path)\n",
    "GDB.loadfiles()\n",
    "\n",
    "data = []\n",
    "for grid_demand in GDB.db:\n",
    "    df = GDB.db[grid_demand]['timeseries']\n",
    "    df['id'] = grid_demand\n",
    "    data.append(df[['id','hh','state','charging_point','charge_grid']]) # must include 'id','hh','state' remaining are optional and depend on the time series type\n",
    "\n",
    "df = pd.concat(data)\n",
    "df.iloc[:,0].unique().size"
   ]
  },
  {
   "cell_type": "code",
   "execution_count": 5,
   "id": "51ed5708",
   "metadata": {},
   "outputs": [
    {
     "data": {
      "text/html": [
       "        <script type=\"text/javascript\">\n",
       "        window.PlotlyConfig = {MathJaxConfig: 'local'};\n",
       "        if (window.MathJax && window.MathJax.Hub && window.MathJax.Hub.Config) {window.MathJax.Hub.Config({SVG: {font: \"STIX-Web\"}});}\n",
       "        if (typeof require !== 'undefined') {\n",
       "        require.undef(\"plotly\");\n",
       "        requirejs.config({\n",
       "            paths: {\n",
       "                'plotly': ['https://cdn.plot.ly/plotly-2.12.1.min']\n",
       "            }\n",
       "        });\n",
       "        require(['plotly'], function(Plotly) {\n",
       "            window._Plotly = Plotly;\n",
       "        });\n",
       "        }\n",
       "        </script>\n",
       "        "
      ]
     },
     "metadata": {},
     "output_type": "display_data"
    }
   ],
   "source": [
    "import plotly.graph_objs as go\n",
    "from plotly.offline import iplot\n",
    "import cufflinks as cf\n",
    "cf.go_offline()"
   ]
  },
  {
   "cell_type": "code",
   "execution_count": 59,
   "id": "fbc5a846",
   "metadata": {},
   "outputs": [],
   "source": [
    "#ged_import = \"/Users/Jarusch/Documents/Hertie/Hertie School/OneDrive - Hertie School/Jarusch/Virtual_storage/Modelling/Git_hub/EES/Emobpy/save/demand.csv\"\n",
    "#df = pd.read_csv(ged_import, index_col = 0)\n",
    "df.index = pd.DatetimeIndex(df.index)"
   ]
  },
  {
   "cell_type": "code",
   "execution_count": 72,
   "id": "e45a5b75",
   "metadata": {},
   "outputs": [],
   "source": [
    "df_new = df.loc[df.index.date<pd.Timestamp(2020,1,8).date()]"
   ]
  },
  {
   "cell_type": "code",
   "execution_count": 213,
   "id": "32d7a0f8",
   "metadata": {},
   "outputs": [],
   "source": [
    "def start_and_end_week(df, column_values='charge_grid'):\n",
    "    '''Remove first and last week as days are missing causing inconsistent average'''\n",
    "    dt = df.reset_index()\n",
    "    dt[\"date\"] = pd.to_datetime(dt[\"date\"])\n",
    "    dt['half'] = dt['date'] - min(dt['date'])\n",
    "    dt = dt.set_index('date')\n",
    "    dt = data_curation(dt,column_values=column_values).T\n",
    "    sr = dt['charge_grid']\n",
    "    start = len(sr[sr.columns[0]].dropna())\n",
    "    ends = len(sr[sr.columns[-1]].dropna())\n",
    "    dt = df.reset_index()\n",
    "    dt['half'] = dt['date'] - min(dt['date'])\n",
    "    #dt = dt[(dt['half'] <= pd.to_timedelta(start,'H')) & (dt['half'] >= pd.to_timedelta(dt['hh'].max() - ends,'H'))].copy()\n",
    "    df = dt.set_index('date')\n",
    "    return df"
   ]
  },
  {
   "cell_type": "code",
   "execution_count": 264,
   "id": "1b020b0e",
   "metadata": {},
   "outputs": [],
   "source": [
    "def data_curation(df, column_values='charge_grid'):\n",
    "    ''' \n",
    "    Convert data frame with all profiles to days of the week and hours of the day\n",
    "    id represents every profile\n",
    "    step1 sum up all profiles\n",
    "    step2 makes the average\n",
    "    '''\n",
    "    profiles_n = len(set(df['id'].values))\n",
    "    step1 = df.groupby([df.index.day_name(),df.index.hour,df.index.isocalendar().week])[column_values].sum()\n",
    "    step2 = step1/profiles_n\n",
    "    step3 = pd.DataFrame(step2)\n",
    "    step4 = step3.reindex(['Monday','Tuesday','Wednesday','Thursday','Friday','Saturday','Sunday'],level=0)\n",
    "    return step4.unstack().T \n",
    "\n",
    "def start_and_end_week_full(df, column_values='charge_grid'):\n",
    "    '''Remove first and last week as days are missing causing inconsistent average'''\n",
    "    dt = df.reset_index()\n",
    "    dt['half'] = dt['date'] - min(dt['date'])\n",
    "    dt = dt.set_index('date')\n",
    "    dt = data_curation(dt,column_values=column_values).T\n",
    "    sr = dt['charge_grid']\n",
    "    start = len(sr[sr.columns[0]].dropna())\n",
    "    ends = len(sr[sr.columns[-1]].dropna())\n",
    "    dt = df.reset_index()\n",
    "    dt['half'] = dt['date'] - min(dt['date'])\n",
    "    dt = dt[(dt['half'] <= pd.to_timedelta(start,'H')) & (dt['half'] >= pd.to_timedelta(dt['hh'].max() - ends,'H'))].copy()\n",
    "    df = dt.set_index('date')\n",
    "    return df\n",
    "\n",
    "def shares_plot(df, column_values='state', order=['driving','workplace','errands','escort','shopping','leisure','home']):\n",
    "    '''\n",
    "    Plot of category shares either locations ('states') or charging point names ('charging_point')\n",
    "    '''\n",
    "    sr_count = df.groupby([df.index.day_name(),df.index.hour,column_values])[column_values].count()\n",
    "    df_count = pd.DataFrame(sr_count).rename(columns={column_values:'count'}).unstack(level=-1).fillna(0)\n",
    "    df_count.columns = df_count.columns.droplevel()\n",
    "    present = [exists for exists in order if exists in df_count.columns]\n",
    "    df_count_sorted = df_count[present[::-1]].reindex(['Monday','Tuesday','Wednesday','Thursday','Friday','Saturday','Sunday'],level=0)\n",
    "    df_new_index = (df_count_sorted.T/df_count_sorted.T.sum(axis=0)).T\n",
    "    df_new_index.loc[:,'new_index'] = [d[:3] for d,h in df_new_index.index.values]\n",
    "    #[[str(h) if h > 9 else '0'+str(h)][0] ]+ ',' + d[:3] for d,h in df_new_index.index.values]\n",
    "    df_new_index.set_index('new_index',inplace=True)\n",
    "    df_new_index.index.name = 'January'\n",
    "    return df_new_index\n",
    "    fig = df_new_index#.iplot(kind='area', fill=True,asFigure=True)\n",
    "    fig['layout'] = {}\n",
    "    return fig\n",
    "\n",
    "def box_plot(df, name, column_values='charge_grid', factor=1, color='#14868c',legendname_position=2):\n",
    "  '''\n",
    "  Box plot of distance, consumption, or charge_grid. \n",
    "  column_values must exist in the df\n",
    "  '''\n",
    "  dt = data_curation(df,column_values=column_values)\n",
    "  data = []\n",
    "  # Every boxplot has given name. The legend takes the name, legendgroup allows all boxplot with the same identifier have the same color\n",
    "  flag = legendname_position  # as we the first boxplot is used as xaxis tick we move the name to the next position\n",
    "  flagcompare = 0\n",
    "  for key, v in dt.iteritems():\n",
    "      flagcompare += 1\n",
    "      data.append({'boxpoints': False, # 'suspectedoutliers' or False\n",
    "                        'line': {'width': 1.2},\n",
    "                      'marker': {'color': color},\n",
    "                        'name': f'''{str(key[1]).zfill(2)},{key[0][0:3]}''' if flag != flagcompare else name,\n",
    "                  'orientation': 'v',\n",
    "                        'type': 'box',\n",
    "                            'y': v.values*factor,\n",
    "                        'xaxis': 'x',\n",
    "                      'jitter': 0.0,\n",
    "                'whiskerwidth': 1.0,\n",
    "                      'notched': False,\n",
    "                  'notchwidth': 0.2,\n",
    "                  'showlegend': False if flag != flagcompare else True,\n",
    "                  'legendgroup': name\n",
    "                  })\n",
    "  return go.Figure(data)"
   ]
  },
  {
   "cell_type": "code",
   "execution_count": 265,
   "id": "7a4c290c",
   "metadata": {},
   "outputs": [],
   "source": [
    "dt = start_and_end_week(df_new)\n",
    "#figa = shares_plot(dt) \n",
    "#shares_plot(dt, column_values='charging_point', order=['none', 'public', 'fast150', 'fast75'])\n",
    "#figb = box_plot(dt, 'Average vehicle [kWh]', column_values='charge_grid', factor=1, color='#14868c',legendname_position=2)\n",
    "#fig = cf.subplots([shares_plot(dt),figb],shape=(2,1),shared_xaxes=False)"
   ]
  },
  {
   "cell_type": "code",
   "execution_count": 266,
   "id": "16454bf4",
   "metadata": {},
   "outputs": [
    {
     "data": {
      "text/plain": [
       "<matplotlib.legend.Legend at 0x7fbeae7431d0>"
      ]
     },
     "execution_count": 266,
     "metadata": {},
     "output_type": "execute_result"
    },
    {
     "data": {
      "image/png": "[encoded data removed]",
      "text/plain": [
       "<Figure size 432x288 with 1 Axes>"
      ]
     },
     "metadata": {
      "needs_background": "light"
     },
     "output_type": "display_data"
    }
   ],
   "source": [
    "df_charge = shares_plot(dt, column_values='charging_point', order=['none', 'public', 'fast150', 'fast75'])\n",
    "ax = df_charge.plot.area(title=\"charging\")\n",
    "ax.legend(bbox_to_anchor=(1,1))"
   ]
  },
  {
   "cell_type": "code",
   "execution_count": 267,
   "id": "6d4e87f3",
   "metadata": {},
   "outputs": [
    {
     "data": {
      "text/plain": [
       "<matplotlib.legend.Legend at 0x7fbeb215b590>"
      ]
     },
     "execution_count": 267,
     "metadata": {},
     "output_type": "execute_result"
    },
    {
     "data": {
      "image/png": "[encoded data removed]",
      "text/plain": [
       "<Figure size 432x288 with 1 Axes>"
      ]
     },
     "metadata": {
      "needs_background": "light"
     },
     "output_type": "display_data"
    }
   ],
   "source": [
    "df_ = shares_plot(dt) # with state as default\n",
    "ax = df_.plot.area(title=\"consumption\")\n",
    "ax.legend(bbox_to_anchor=(1,1))"
   ]
  },
  {
   "cell_type": "code",
   "execution_count": 243,
   "id": "356f075f",
   "metadata": {},
   "outputs": [],
   "source": [
    "fig = figa"
   ]
  },
  {
   "cell_type": "code",
   "execution_count": 246,
   "id": "8ef0e678",
   "metadata": {},
   "outputs": [
    {
     "data": {
      "application/vnd.plotly.v1+json": {
       "config": {
        "linkText": "Export to plot.ly",
        "plotlyServerURL": "https://plot.ly",
        "showLink": false
       },
       "data": [
        {
         "fill": "tonexty",
         "fillcolor": "rgba(255, 153, 51, 0.3)",
         "line": {
          "color": "rgba(255, 153, 51, 1.0)",
          "dash": "solid",
          "shape": "linear",
          "width": 1.3
         },
         "mode": "lines",
         "name": "home",
         "text": "",
         "type": "scatter",
         "x": [
          "Mon",
          "Mon",
          "Mon",
          "Mon",
          "Mon",
          "Mon",
          "Mon",
          "Mon",
          "Mon",
          "Mon",
          "Mon",
          "Mon",
          "Mon",
          "Mon",
          "Mon",
          "Mon",
          "Mon",
          "Mon",
          "Mon",
          "Mon",
          "Mon",
          "Mon",
          "Mon",
          "Mon",
          "Tue",
          "Tue",
          "Tue",
          "Tue",
          "Tue",
          "Tue",
          "Tue",
          "Tue",
          "Tue",
          "Tue",
          "Tue",
          "Tue",
          "Tue",
          "Tue",
          "Tue",
          "Tue",
          "Tue",
          "Tue",
          "Tue",
          "Tue",
          "Tue",
          "Tue",
          "Tue",
          "Tue",
          "Wed",
          "Wed",
          "Wed",
          "Wed",
          "Wed",
          "Wed",
          "Wed",
          "Wed",
          "Wed",
          "Wed",
          "Wed",
          "Wed",
          "Wed",
          "Wed",
          "Wed",
          "Wed",
          "Wed",
          "Wed",
          "Wed",
          "Wed",
          "Wed",
          "Wed",
          "Wed",
          "Wed",
          "Thu",
          "Thu",
          "Thu",
          "Thu",
          "Thu",
          "Thu",
          "Thu",
          "Thu",
          "Thu",
          "Thu",
          "Thu",
          "Thu",
          "Thu",
          "Thu",
          "Thu",
          "Thu",
          "Thu",
          "Thu",
          "Thu",
          "Thu",
          "Thu",
          "Thu",
          "Thu",
          "Thu",
          "Fri",
          "Fri",
          "Fri",
          "Fri",
          "Fri",
          "Fri",
          "Fri",
          "Fri",
          "Fri",
          "Fri",
          "Fri",
          "Fri",
          "Fri",
          "Fri",
          "Fri",
          "Fri",
          "Fri",
          "Fri",
          "Fri",
          "Fri",
          "Fri",
          "Fri",
          "Fri",
          "Fri",
          "Sat",
          "Sat",
          "Sat",
          "Sat",
          "Sat",
          "Sat",
          "Sat",
          "Sat",
          "Sat",
          "Sat",
          "Sat",
          "Sat",
          "Sat",
          "Sat",
          "Sat",
          "Sat",
          "Sat",
          "Sat",
          "Sat",
          "Sat",
          "Sat",
          "Sat",
          "Sat",
          "Sat",
          "Sun",
          "Sun",
          "Sun",
          "Sun",
          "Sun",
          "Sun",
          "Sun",
          "Sun",
          "Sun",
          "Sun",
          "Sun",
          "Sun",
          "Sun",
          "Sun",
          "Sun",
          "Sun",
          "Sun",
          "Sun",
          "Sun",
          "Sun",
          "Sun",
          "Sun",
          "Sun",
          "Sun"
         ],
         "y": [
          0.9698359073359073,
          0.9812580437580437,
          0.9900257400257401,
          0.9953346203346203,
          0.9939671814671814,
          0.993082368082368,
          0.9705598455598455,
          0.9418436293436293,
          0.9078989703989704,
          0.7951254826254827,
          0.6686776061776062,
          0.5909749034749034,
          0.5542953667953668,
          0.5423906048906049,
          0.5510778635778636,
          0.5605694980694981,
          0.5761743886743886,
          0.6158301158301158,
          0.6707689832689833,
          0.7458976833976834,
          0.8305180180180181,
          0.8840894465894465,
          0.9320302445302445,
          0.9680662805662805,
          0.979488416988417,
          0.9866473616473617,
          0.9917149292149292,
          0.9983912483912484,
          0.9964607464607464,
          0.9924388674388674,
          0.9728925353925354,
          0.9395109395109396,
          0.9107142857142857,
          0.7926319176319176,
          0.6540379665379665,
          0.5778635778635779,
          0.5427123552123552,
          0.5358751608751608,
          0.5342664092664092,
          0.541425353925354,
          0.556949806949807,
          0.5999839124839125,
          0.6642535392535392,
          0.7454954954954955,
          0.8251287001287001,
          0.8724259974259975,
          0.9231821106821106,
          0.9604247104247104,
          1,
          1,
          1,
          0.9998391248391248,
          0.9985521235521235,
          0.9971846846846847,
          0.9748230373230373,
          0.9407979407979408,
          0.9106338481338482,
          0.7886100386100386,
          0.6571750321750321,
          0.587998712998713,
          0.5587998712998713,
          0.550997425997426,
          0.5503539253539254,
          0.5599259974259975,
          0.5709459459459459,
          0.6036036036036037,
          0.666023166023166,
          0.734073359073359,
          0.8129021879021879,
          0.8715411840411841,
          0.9218951093951094,
          0.9594594594594594,
          0.9713642213642214,
          0.9786840411840412,
          0.9889800514800515,
          0.9954150579150579,
          0.9946106821106822,
          0.9918758043758044,
          0.9727316602316602,
          0.9453828828828829,
          0.916023166023166,
          0.7996299871299871,
          0.6723777348777349,
          0.6056145431145431,
          0.5823680823680824,
          0.565395752895753,
          0.5686936936936937,
          0.5704633204633205,
          0.5765765765765766,
          0.6097168597168597,
          0.6621621621621622,
          0.7361647361647362,
          0.8189350064350064,
          0.8732303732303732,
          0.9231016731016731,
          0.9601029601029601,
          0.971042471042471,
          0.9802927927927928,
          0.9917149292149292,
          0.9974259974259975,
          0.9967824967824968,
          0.9946106821106822,
          0.9708011583011583,
          0.9370978120978121,
          0.9028314028314028,
          0.7922297297297297,
          0.660472972972973,
          0.5905727155727156,
          0.5654761904761905,
          0.5397361647361647,
          0.5440797940797941,
          0.5451254826254827,
          0.5618564993564994,
          0.5941924066924067,
          0.6432593307593307,
          0.7197554697554698,
          0.8024453024453024,
          0.861003861003861,
          0.9173101673101673,
          0.9613899613899614,
          0.9754665379665379,
          0.9856821106821106,
          0.9927606177606177,
          0.9949324324324325,
          0.993082368082368,
          0.9904279279279279,
          0.9776383526383526,
          0.9586550836550837,
          0.9452220077220077,
          0.8795045045045045,
          0.7997908622908623,
          0.7331885456885456,
          0.6983590733590733,
          0.675997425997426,
          0.6663449163449163,
          0.6584620334620335,
          0.657014157014157,
          0.678088803088803,
          0.7132400257400258,
          0.7521718146718147,
          0.8159588159588159,
          0.8591537966537967,
          0.9021074646074646,
          0.9402348777348777,
          0.9556788931788932,
          0.9707207207207207,
          0.9856016731016731,
          0.9967020592020592,
          0.9975868725868726,
          0.9958172458172458,
          0.9904279279279279,
          0.9808558558558559,
          0.9723294723294723,
          0.9089446589446589,
          0.8287483912483913,
          0.7571589446589446,
          0.7052767052767053,
          0.6712516087516087,
          0.6509009009009009,
          0.6382722007722008,
          0.6302284427284427,
          0.6447072072072072,
          0.6850868725868726,
          0.751528314028314,
          0.8240830115830116,
          0.8688063063063063,
          0.9197232947232947,
          0.9591377091377091
         ]
        },
        {
         "fill": "tonexty",
         "fillcolor": "rgba(55, 128, 191, 0.3)",
         "line": {
          "color": "rgba(55, 128, 191, 1.0)",
          "dash": "solid",
          "shape": "linear",
          "width": 1.3
         },
         "mode": "lines",
         "name": "leisure",
         "text": "",
         "type": "scatter",
         "x": [
          "Mon",
          "Mon",
          "Mon",
          "Mon",
          "Mon",
          "Mon",
          "Mon",
          "Mon",
          "Mon",
          "Mon",
          "Mon",
          "Mon",
          "Mon",
          "Mon",
          "Mon",
          "Mon",
          "Mon",
          "Mon",
          "Mon",
          "Mon",
          "Mon",
          "Mon",
          "Mon",
          "Mon",
          "Tue",
          "Tue",
          "Tue",
          "Tue",
          "Tue",
          "Tue",
          "Tue",
          "Tue",
          "Tue",
          "Tue",
          "Tue",
          "Tue",
          "Tue",
          "Tue",
          "Tue",
          "Tue",
          "Tue",
          "Tue",
          "Tue",
          "Tue",
          "Tue",
          "Tue",
          "Tue",
          "Tue",
          "Wed",
          "Wed",
          "Wed",
          "Wed",
          "Wed",
          "Wed",
          "Wed",
          "Wed",
          "Wed",
          "Wed",
          "Wed",
          "Wed",
          "Wed",
          "Wed",
          "Wed",
          "Wed",
          "Wed",
          "Wed",
          "Wed",
          "Wed",
          "Wed",
          "Wed",
          "Wed",
          "Wed",
          "Thu",
          "Thu",
          "Thu",
          "Thu",
          "Thu",
          "Thu",
          "Thu",
          "Thu",
          "Thu",
          "Thu",
          "Thu",
          "Thu",
          "Thu",
          "Thu",
          "Thu",
          "Thu",
          "Thu",
          "Thu",
          "Thu",
          "Thu",
          "Thu",
          "Thu",
          "Thu",
          "Thu",
          "Fri",
          "Fri",
          "Fri",
          "Fri",
          "Fri",
          "Fri",
          "Fri",
          "Fri",
          "Fri",
          "Fri",
          "Fri",
          "Fri",
          "Fri",
          "Fri",
          "Fri",
          "Fri",
          "Fri",
          "Fri",
          "Fri",
          "Fri",
          "Fri",
          "Fri",
          "Fri",
          "Fri",
          "Sat",
          "Sat",
          "Sat",
          "Sat",
          "Sat",
          "Sat",
          "Sat",
          "Sat",
          "Sat",
          "Sat",
          "Sat",
          "Sat",
          "Sat",
          "Sat",
          "Sat",
          "Sat",
          "Sat",
          "Sat",
          "Sat",
          "Sat",
          "Sat",
          "Sat",
          "Sat",
          "Sat",
          "Sun",
          "Sun",
          "Sun",
          "Sun",
          "Sun",
          "Sun",
          "Sun",
          "Sun",
          "Sun",
          "Sun",
          "Sun",
          "Sun",
          "Sun",
          "Sun",
          "Sun",
          "Sun",
          "Sun",
          "Sun",
          "Sun",
          "Sun",
          "Sun",
          "Sun",
          "Sun",
          "Sun"
         ],
         "y": [
          0.9835102960102959,
          0.989623552123552,
          0.992921492921493,
          0.9956563706563706,
          0.9957368082368082,
          0.9954954954954954,
          0.976431788931789,
          0.9547136422136422,
          0.9280083655083655,
          0.826898326898327,
          0.723536036036036,
          0.6615990990990991,
          0.6414092664092664,
          0.6331241956241956,
          0.6508204633204633,
          0.675032175032175,
          0.6881435006435006,
          0.7335907335907336,
          0.7782335907335908,
          0.8226351351351351,
          0.8868243243243243,
          0.92253861003861,
          0.9517374517374517,
          0.9783622908622909,
          0.9873712998712999,
          0.9924388674388674,
          0.9936454311454311,
          0.998471685971686,
          0.9979890604890604,
          0.9954954954954955,
          0.9786840411840412,
          0.9540701415701416,
          0.9337998712998713,
          0.8281048906048907,
          0.7127574002574002,
          0.6526705276705277,
          0.6258043758043758,
          0.6194498069498069,
          0.6226673101673101,
          0.6411679536679538,
          0.66489703989704,
          0.7031048906048906,
          0.7512870012870013,
          0.8085585585585586,
          0.8723455598455598,
          0.9072554697554698,
          0.9416023166023165,
          0.9687902187902188,
          1,
          1,
          1,
          0.9998391248391248,
          0.9993564993564993,
          0.9981499356499357,
          0.9774774774774775,
          0.9515765765765766,
          0.9288931788931789,
          0.8191763191763192,
          0.7118725868725868,
          0.6593468468468469,
          0.638030888030888,
          0.6316763191763192,
          0.6385135135135135,
          0.6570945945945946,
          0.6748712998712999,
          0.7083333333333334,
          0.7641570141570142,
          0.8092824967824968,
          0.8664736164736165,
          0.9072554697554698,
          0.9429697554697555,
          0.9733751608751608,
          0.983510296010296,
          0.9864060489060489,
          0.9920366795366796,
          0.9961389961389961,
          0.9961389961389961,
          0.9951737451737451,
          0.9795688545688546,
          0.960505148005148,
          0.9407175032175032,
          0.8331724581724582,
          0.7273166023166023,
          0.6758365508365508,
          0.6599099099099099,
          0.6415701415701416,
          0.6493725868725869,
          0.6628056628056629,
          0.6830759330759331,
          0.7118725868725869,
          0.7539414414414415,
          0.7993886743886744,
          0.8667953667953667,
          0.9041988416988417,
          0.9391891891891893,
          0.9686293436293437,
          0.9783622908622908,
          0.9849581724581724,
          0.9931628056628057,
          0.9980694980694981,
          0.999034749034749,
          0.9980694980694981,
          0.9779601029601029,
          0.9523005148005148,
          0.925032175032175,
          0.8253700128700129,
          0.716457528957529,
          0.6605534105534105,
          0.6461550836550837,
          0.6233108108108107,
          0.6355373230373231,
          0.6496943371943372,
          0.6723777348777349,
          0.7101833976833977,
          0.7494369369369369,
          0.796412483912484,
          0.8569015444015444,
          0.9004182754182753,
          0.936936936936937,
          0.972570785070785,
          0.9841537966537967,
          0.9914736164736164,
          0.994610682110682,
          0.9955759330759331,
          0.9954150579150579,
          0.9943693693693694,
          0.9849581724581724,
          0.9709620334620335,
          0.9608268983268983,
          0.9028314028314028,
          0.8414575289575289,
          0.7889317889317888,
          0.7726833976833977,
          0.7541023166023165,
          0.7487934362934363,
          0.7514478764478765,
          0.7526544401544402,
          0.7798423423423423,
          0.8096846846846847,
          0.8318854568854569,
          0.8803088803088803,
          0.9084620334620335,
          0.9332368082368082,
          0.9580920205920206,
          0.9692728442728443,
          0.9788449163449163,
          0.9880952380952381,
          0.9967824967824969,
          0.9979086229086229,
          0.9965411840411841,
          0.9924388674388674,
          0.9872908622908623,
          0.9838320463320464,
          0.9310649935649935,
          0.8892374517374517,
          0.8513513513513513,
          0.835505148005148,
          0.8254504504504504,
          0.8202220077220077,
          0.8239221364221365,
          0.8305984555984556,
          0.8449967824967825,
          0.8506274131274132,
          0.8712998712998713,
          0.9166666666666666,
          0.9328346203346203,
          0.9527027027027027,
          0.9769144144144144
         ]
        },
        {
         "fill": "tonexty",
         "fillcolor": "rgba(50, 171, 96, 0.3)",
         "line": {
          "color": "rgba(50, 171, 96, 1.0)",
          "dash": "solid",
          "shape": "linear",
          "width": 1.3
         },
         "mode": "lines",
         "name": "shopping",
         "text": "",
         "type": "scatter",
         "x": [
          "Mon",
          "Mon",
          "Mon",
          "Mon",
          "Mon",
          "Mon",
          "Mon",
          "Mon",
          "Mon",
          "Mon",
          "Mon",
          "Mon",
          "Mon",
          "Mon",
          "Mon",
          "Mon",
          "Mon",
          "Mon",
          "Mon",
          "Mon",
          "Mon",
          "Mon",
          "Mon",
          "Mon",
          "Tue",
          "Tue",
          "Tue",
          "Tue",
          "Tue",
          "Tue",
          "Tue",
          "Tue",
          "Tue",
          "Tue",
          "Tue",
          "Tue",
          "Tue",
          "Tue",
          "Tue",
          "Tue",
          "Tue",
          "Tue",
          "Tue",
          "Tue",
          "Tue",
          "Tue",
          "Tue",
          "Tue",
          "Wed",
          "Wed",
          "Wed",
          "Wed",
          "Wed",
          "Wed",
          "Wed",
          "Wed",
          "Wed",
          "Wed",
          "Wed",
          "Wed",
          "Wed",
          "Wed",
          "Wed",
          "Wed",
          "Wed",
          "Wed",
          "Wed",
          "Wed",
          "Wed",
          "Wed",
          "Wed",
          "Wed",
          "Thu",
          "Thu",
          "Thu",
          "Thu",
          "Thu",
          "Thu",
          "Thu",
          "Thu",
          "Thu",
          "Thu",
          "Thu",
          "Thu",
          "Thu",
          "Thu",
          "Thu",
          "Thu",
          "Thu",
          "Thu",
          "Thu",
          "Thu",
          "Thu",
          "Thu",
          "Thu",
          "Thu",
          "Fri",
          "Fri",
          "Fri",
          "Fri",
          "Fri",
          "Fri",
          "Fri",
          "Fri",
          "Fri",
          "Fri",
          "Fri",
          "Fri",
          "Fri",
          "Fri",
          "Fri",
          "Fri",
          "Fri",
          "Fri",
          "Fri",
          "Fri",
          "Fri",
          "Fri",
          "Fri",
          "Fri",
          "Sat",
          "Sat",
          "Sat",
          "Sat",
          "Sat",
          "Sat",
          "Sat",
          "Sat",
          "Sat",
          "Sat",
          "Sat",
          "Sat",
          "Sat",
          "Sat",
          "Sat",
          "Sat",
          "Sat",
          "Sat",
          "Sat",
          "Sat",
          "Sat",
          "Sat",
          "Sat",
          "Sat",
          "Sun",
          "Sun",
          "Sun",
          "Sun",
          "Sun",
          "Sun",
          "Sun",
          "Sun",
          "Sun",
          "Sun",
          "Sun",
          "Sun",
          "Sun",
          "Sun",
          "Sun",
          "Sun",
          "Sun",
          "Sun",
          "Sun",
          "Sun",
          "Sun",
          "Sun",
          "Sun",
          "Sun"
         ],
         "y": [
          0.9841537966537965,
          0.9901061776061775,
          0.9931628056628058,
          0.9956563706563706,
          0.9957368082368082,
          0.9954954954954954,
          0.9778796653796654,
          0.9607464607464608,
          0.9388674388674388,
          0.8560167310167311,
          0.8037323037323036,
          0.7827380952380952,
          0.767454954954955,
          0.7648809523809523,
          0.7754182754182753,
          0.7925514800514801,
          0.7926319176319176,
          0.8260135135135135,
          0.856418918918919,
          0.8729086229086228,
          0.9206081081081081,
          0.9450611325611326,
          0.9640444015444015,
          0.9845559845559846,
          0.9921171171171171,
          0.9957368082368082,
          0.9947715572715573,
          0.998471685971686,
          0.9979890604890604,
          0.9954954954954955,
          0.9794079794079794,
          0.9597007722007722,
          0.9447393822393823,
          0.8588320463320464,
          0.7928732303732303,
          0.7705115830115831,
          0.762065637065637,
          0.7637548262548262,
          0.7722007722007722,
          0.775900900900901,
          0.7848294723294724,
          0.8126608751608752,
          0.8426640926640927,
          0.8738738738738739,
          0.9184362934362934,
          0.9379826254826255,
          0.9566441441441441,
          0.9782818532818532,
          1,
          1,
          1,
          0.9998391248391248,
          0.9993564993564993,
          0.9981499356499357,
          0.9793275418275418,
          0.9600225225225225,
          0.9439350064350065,
          0.8586711711711712,
          0.8069498069498069,
          0.7849099099099099,
          0.7750965250965252,
          0.7767857142857143,
          0.7898970398970399,
          0.7946428571428572,
          0.7971364221364221,
          0.819980694980695,
          0.8528796653796654,
          0.8704954954954954,
          0.910875160875161,
          0.9367760617760618,
          0.9584137709137709,
          0.9824646074646074,
          0.990427927927928,
          0.9902670527670527,
          0.9932432432432433,
          0.9961389961389961,
          0.9961389961389961,
          0.9951737451737451,
          0.981016731016731,
          0.9658140283140283,
          0.9481177606177607,
          0.8652670527670528,
          0.8095238095238095,
          0.7917471042471043,
          0.7931145431145432,
          0.7798423423423424,
          0.7834620334620335,
          0.7857142857142858,
          0.7939189189189189,
          0.8108108108108109,
          0.8421010296010296,
          0.8658301158301159,
          0.9161036036036035,
          0.9396718146718146,
          0.9592985842985844,
          0.9813384813384814,
          0.9885778635778635,
          0.9918758043758044,
          0.9948519948519948,
          0.9980694980694981,
          0.999034749034749,
          0.9980694980694981,
          0.9798906048906049,
          0.9601833976833977,
          0.9400740025740026,
          0.8578667953667953,
          0.7976994851994852,
          0.7753378378378378,
          0.7718790218790219,
          0.7608590733590733,
          0.7812097812097814,
          0.7859555984555985,
          0.7948841698841699,
          0.8157175032175032,
          0.8356660231660231,
          0.856418918918919,
          0.9011422136422137,
          0.9299388674388673,
          0.9502895752895754,
          0.9777992277992277,
          0.9874517374517374,
          0.9938063063063063,
          0.9954150579150578,
          0.9955759330759331,
          0.9954150579150579,
          0.9943693693693694,
          0.9877734877734877,
          0.9802927927927928,
          0.9767535392535392,
          0.934604247104247,
          0.907014157014157,
          0.8784588159588158,
          0.8712194337194337,
          0.8583494208494208,
          0.8591537966537967,
          0.8603603603603603,
          0.8527992277992278,
          0.8720238095238094,
          0.8873069498069498,
          0.8912483912483913,
          0.9256756756756757,
          0.9407979407979408,
          0.9547940797940798,
          0.9736164736164736,
          0.9819015444015444,
          0.9864864864864865,
          0.9895431145431146,
          0.9967824967824969,
          0.9979086229086229,
          0.9965411840411841,
          0.993082368082368,
          0.9901866151866152,
          0.9889800514800515,
          0.9429697554697554,
          0.9203667953667953,
          0.8926962676962676,
          0.8720238095238095,
          0.8587516087516087,
          0.8516731016731016,
          0.8511904761904763,
          0.8533622908622909,
          0.8627734877734877,
          0.8664736164736165,
          0.8812741312741312,
          0.9231821106821106,
          0.9385456885456885,
          0.954552767052767,
          0.9776383526383526
         ]
        },
        {
         "fill": "tonexty",
         "fillcolor": "rgba(128, 0, 128, 0.3)",
         "line": {
          "color": "rgba(128, 0, 128, 1.0)",
          "dash": "solid",
          "shape": "linear",
          "width": 1.3
         },
         "mode": "lines",
         "name": "escort",
         "text": "",
         "type": "scatter",
         "x": [
          "Mon",
          "Mon",
          "Mon",
          "Mon",
          "Mon",
          "Mon",
          "Mon",
          "Mon",
          "Mon",
          "Mon",
          "Mon",
          "Mon",
          "Mon",
          "Mon",
          "Mon",
          "Mon",
          "Mon",
          "Mon",
          "Mon",
          "Mon",
          "Mon",
          "Mon",
          "Mon",
          "Mon",
          "Tue",
          "Tue",
          "Tue",
          "Tue",
          "Tue",
          "Tue",
          "Tue",
          "Tue",
          "Tue",
          "Tue",
          "Tue",
          "Tue",
          "Tue",
          "Tue",
          "Tue",
          "Tue",
          "Tue",
          "Tue",
          "Tue",
          "Tue",
          "Tue",
          "Tue",
          "Tue",
          "Tue",
          "Wed",
          "Wed",
          "Wed",
          "Wed",
          "Wed",
          "Wed",
          "Wed",
          "Wed",
          "Wed",
          "Wed",
          "Wed",
          "Wed",
          "Wed",
          "Wed",
          "Wed",
          "Wed",
          "Wed",
          "Wed",
          "Wed",
          "Wed",
          "Wed",
          "Wed",
          "Wed",
          "Wed",
          "Thu",
          "Thu",
          "Thu",
          "Thu",
          "Thu",
          "Thu",
          "Thu",
          "Thu",
          "Thu",
          "Thu",
          "Thu",
          "Thu",
          "Thu",
          "Thu",
          "Thu",
          "Thu",
          "Thu",
          "Thu",
          "Thu",
          "Thu",
          "Thu",
          "Thu",
          "Thu",
          "Thu",
          "Fri",
          "Fri",
          "Fri",
          "Fri",
          "Fri",
          "Fri",
          "Fri",
          "Fri",
          "Fri",
          "Fri",
          "Fri",
          "Fri",
          "Fri",
          "Fri",
          "Fri",
          "Fri",
          "Fri",
          "Fri",
          "Fri",
          "Fri",
          "Fri",
          "Fri",
          "Fri",
          "Fri",
          "Sat",
          "Sat",
          "Sat",
          "Sat",
          "Sat",
          "Sat",
          "Sat",
          "Sat",
          "Sat",
          "Sat",
          "Sat",
          "Sat",
          "Sat",
          "Sat",
          "Sat",
          "Sat",
          "Sat",
          "Sat",
          "Sat",
          "Sat",
          "Sat",
          "Sat",
          "Sat",
          "Sat",
          "Sun",
          "Sun",
          "Sun",
          "Sun",
          "Sun",
          "Sun",
          "Sun",
          "Sun",
          "Sun",
          "Sun",
          "Sun",
          "Sun",
          "Sun",
          "Sun",
          "Sun",
          "Sun",
          "Sun",
          "Sun",
          "Sun",
          "Sun",
          "Sun",
          "Sun",
          "Sun",
          "Sun"
         ],
         "y": [
          0.9878539253539252,
          0.9918758043758042,
          0.9941280566280568,
          0.9958172458172457,
          0.9967020592020592,
          0.9983108108108107,
          0.9834298584298584,
          0.9718468468468469,
          0.9555984555984556,
          0.8782175032175034,
          0.8348616473616473,
          0.8120173745173745,
          0.792953667953668,
          0.7888513513513513,
          0.798101673101673,
          0.8157979407979409,
          0.8194980694980695,
          0.8519948519948519,
          0.875965250965251,
          0.8848133848133847,
          0.9305019305019305,
          0.9512548262548263,
          0.9660553410553411,
          0.9851994851994852,
          0.9925193050193051,
          0.9957368082368082,
          0.9947715572715573,
          0.998471685971686,
          0.9985521235521235,
          0.9966216216216217,
          0.9831081081081081,
          0.9728120978120979,
          0.9665379665379665,
          0.8887548262548263,
          0.833011583011583,
          0.8088803088803089,
          0.796975546975547,
          0.7942406692406692,
          0.8013996138996139,
          0.8040540540540542,
          0.8108912483912485,
          0.8355855855855856,
          0.8595559845559846,
          0.8874678249678251,
          0.9282496782496782,
          0.9454633204633205,
          0.961068211068211,
          0.9818211068211068,
          1,
          1,
          1,
          0.9998391248391248,
          0.9995978120978121,
          0.998471685971686,
          0.9822232947232947,
          0.9706402831402832,
          0.9621138996138997,
          0.8809523809523809,
          0.8318050193050193,
          0.8087194337194338,
          0.7944015444015444,
          0.7927123552123553,
          0.8054214929214929,
          0.8140283140283141,
          0.8211068211068211,
          0.8392857142857143,
          0.8674388674388674,
          0.8818371943371943,
          0.9176319176319178,
          0.9420045045045045,
          0.961470398970399,
          0.984475546975547,
          0.9917149292149293,
          0.9912323037323038,
          0.9937258687258688,
          0.9961389961389961,
          0.9967824967824968,
          0.9961389961389961,
          0.9831081081081081,
          0.9719272844272844,
          0.9601833976833977,
          0.8831241956241958,
          0.8301962676962678,
          0.8114543114543115,
          0.8140283140283141,
          0.797940797940798,
          0.7985038610038611,
          0.8041344916344917,
          0.81515444015444,
          0.8355051480051481,
          0.8645431145431146,
          0.8801480051480053,
          0.9246299871299871,
          0.9449002574002573,
          0.9619530244530246,
          0.9824646074646076,
          0.9892213642213641,
          0.9920366795366795,
          0.9948519948519948,
          0.9980694980694981,
          0.999034749034749,
          0.9980694980694981,
          0.9822232947232947,
          0.9722490347490347,
          0.9595398970398971,
          0.8846525096525096,
          0.831483268983269,
          0.8096846846846847,
          0.8036518661518661,
          0.7856338481338481,
          0.8007561132561134,
          0.8086389961389961,
          0.8216698841698842,
          0.844514157014157,
          0.8601994851994852,
          0.8743564993564994,
          0.9111969111969113,
          0.936534749034749,
          0.9527027027027027,
          0.979086229086229,
          0.988497425997426,
          0.9943693693693694,
          0.9956563706563706,
          0.9958976833976834,
          0.9960585585585585,
          0.995978120978121,
          0.9902670527670527,
          0.9836711711711712,
          0.9827863577863578,
          0.9434523809523809,
          0.9199646074646074,
          0.8947072072072071,
          0.8914092664092663,
          0.8843307593307592,
          0.8873873873873874,
          0.8931788931788932,
          0.8839285714285714,
          0.8971203346203345,
          0.907979407979408,
          0.9084620334620335,
          0.9383848133848134,
          0.9488416988416988,
          0.9601833976833977,
          0.9786036036036037,
          0.98503861003861,
          0.9882561132561133,
          0.9900257400257401,
          0.9967824967824969,
          0.9983912483912484,
          0.9977477477477478,
          0.9946911196911197,
          0.9925997425997426,
          0.991956241956242,
          0.9477960102960102,
          0.9303410553410553,
          0.9062902187902188,
          0.8901222651222651,
          0.8833655083655083,
          0.8779761904761905,
          0.879424066924067,
          0.8806306306306306,
          0.8884330759330759,
          0.8883526383526384,
          0.9013835263835264,
          0.9379021879021878,
          0.9496460746460746,
          0.961470398970399,
          0.9823841698841699
         ]
        },
        {
         "fill": "tonexty",
         "fillcolor": "rgba(219, 64, 82, 0.3)",
         "line": {
          "color": "rgba(219, 64, 82, 1.0)",
          "dash": "solid",
          "shape": "linear",
          "width": 1.3
         },
         "mode": "lines",
         "name": "errands",
         "text": "",
         "type": "scatter",
         "x": [
          "Mon",
          "Mon",
          "Mon",
          "Mon",
          "Mon",
          "Mon",
          "Mon",
          "Mon",
          "Mon",
          "Mon",
          "Mon",
          "Mon",
          "Mon",
          "Mon",
          "Mon",
          "Mon",
          "Mon",
          "Mon",
          "Mon",
          "Mon",
          "Mon",
          "Mon",
          "Mon",
          "Mon",
          "Tue",
          "Tue",
          "Tue",
          "Tue",
          "Tue",
          "Tue",
          "Tue",
          "Tue",
          "Tue",
          "Tue",
          "Tue",
          "Tue",
          "Tue",
          "Tue",
          "Tue",
          "Tue",
          "Tue",
          "Tue",
          "Tue",
          "Tue",
          "Tue",
          "Tue",
          "Tue",
          "Tue",
          "Wed",
          "Wed",
          "Wed",
          "Wed",
          "Wed",
          "Wed",
          "Wed",
          "Wed",
          "Wed",
          "Wed",
          "Wed",
          "Wed",
          "Wed",
          "Wed",
          "Wed",
          "Wed",
          "Wed",
          "Wed",
          "Wed",
          "Wed",
          "Wed",
          "Wed",
          "Wed",
          "Wed",
          "Thu",
          "Thu",
          "Thu",
          "Thu",
          "Thu",
          "Thu",
          "Thu",
          "Thu",
          "Thu",
          "Thu",
          "Thu",
          "Thu",
          "Thu",
          "Thu",
          "Thu",
          "Thu",
          "Thu",
          "Thu",
          "Thu",
          "Thu",
          "Thu",
          "Thu",
          "Thu",
          "Thu",
          "Fri",
          "Fri",
          "Fri",
          "Fri",
          "Fri",
          "Fri",
          "Fri",
          "Fri",
          "Fri",
          "Fri",
          "Fri",
          "Fri",
          "Fri",
          "Fri",
          "Fri",
          "Fri",
          "Fri",
          "Fri",
          "Fri",
          "Fri",
          "Fri",
          "Fri",
          "Fri",
          "Fri",
          "Sat",
          "Sat",
          "Sat",
          "Sat",
          "Sat",
          "Sat",
          "Sat",
          "Sat",
          "Sat",
          "Sat",
          "Sat",
          "Sat",
          "Sat",
          "Sat",
          "Sat",
          "Sat",
          "Sat",
          "Sat",
          "Sat",
          "Sat",
          "Sat",
          "Sat",
          "Sat",
          "Sat",
          "Sun",
          "Sun",
          "Sun",
          "Sun",
          "Sun",
          "Sun",
          "Sun",
          "Sun",
          "Sun",
          "Sun",
          "Sun",
          "Sun",
          "Sun",
          "Sun",
          "Sun",
          "Sun",
          "Sun",
          "Sun",
          "Sun",
          "Sun",
          "Sun",
          "Sun",
          "Sun",
          "Sun"
         ],
         "y": [
          0.9917953667953667,
          0.9942084942084941,
          0.9947715572715574,
          0.9958172458172457,
          0.9972651222651223,
          0.9992760617760618,
          0.9876930501930502,
          0.9848777348777349,
          0.9802927927927928,
          0.9228603603603605,
          0.9130469755469754,
          0.9102316602316602,
          0.9058880308880308,
          0.9069337194337194,
          0.9155405405405405,
          0.9241473616473618,
          0.9142535392535392,
          0.936534749034749,
          0.9407175032175032,
          0.9272844272844272,
          0.9603442728442728,
          0.9712837837837838,
          0.9750643500643501,
          0.9898648648648649,
          0.9950933075933076,
          0.996541184041184,
          0.9950933075933076,
          0.9986325611325612,
          0.9988738738738738,
          0.9982303732303733,
          0.9870495495495496,
          0.9830276705276706,
          0.9849581724581724,
          0.9206081081081081,
          0.9033140283140283,
          0.9062902187902189,
          0.9037162162162162,
          0.9036357786357786,
          0.9155405405405406,
          0.9177123552123553,
          0.9161036036036037,
          0.9354890604890604,
          0.9357303732303732,
          0.9386261261261262,
          0.9654118404118404,
          0.9705598455598455,
          0.9736969111969112,
          0.9892213642213642,
          1,
          1,
          1,
          0.9998391248391248,
          0.9995978120978121,
          0.9993564993564994,
          0.9861647361647362,
          0.9833494208494209,
          0.9840733590733591,
          0.9205276705276705,
          0.9087837837837838,
          0.9111164736164736,
          0.903957528957529,
          0.9016248391248392,
          0.9193211068211068,
          0.9213320463320465,
          0.9231821106821106,
          0.9323519948519948,
          0.9391087516087516,
          0.9337998712998713,
          0.9542310167310168,
          0.9644465894465895,
          0.9717664092664093,
          0.9893822393822393,
          0.9953346203346204,
          0.9941280566280567,
          0.9949324324324325,
          0.9963803088803089,
          0.9975868725868725,
          0.9976673101673101,
          0.9882561132561133,
          0.9860842985842986,
          0.9835907335907336,
          0.9259169884169886,
          0.9113577863577864,
          0.913931788931789,
          0.9201254826254827,
          0.9112773487773488,
          0.9140926640926641,
          0.9109555984555985,
          0.9175514800514799,
          0.9295366795366796,
          0.939430501930502,
          0.9293758043758045,
          0.9593790218790219,
          0.9687902187902186,
          0.9731338481338483,
          0.9895431145431147,
          0.9946106821106819,
          0.9942889317889317,
          0.9952541827541828,
          0.9980694980694981,
          0.9992760617760618,
          0.9987129987129987,
          0.984475546975547,
          0.9820624195624195,
          0.9791666666666667,
          0.9243886743886743,
          0.9080598455598455,
          0.9095881595881596,
          0.9121621621621622,
          0.9012226512226511,
          0.9193211068211069,
          0.91755148005148,
          0.9213320463320464,
          0.9317084942084942,
          0.9342020592020592,
          0.9316280566280567,
          0.9522200772200773,
          0.9638030888030887,
          0.9678249678249679,
          0.9870495495495495,
          0.9932432432432432,
          0.9962998712998713,
          0.9958172458172457,
          0.9963803088803088,
          0.9970238095238095,
          0.9976673101673101,
          0.9928410553410553,
          0.9899453024453024,
          0.9937258687258688,
          0.9576898326898327,
          0.9508526383526383,
          0.9388674388674387,
          0.9437741312741312,
          0.9410392535392534,
          0.9443371943371943,
          0.9527027027027027,
          0.9442567567567567,
          0.9492438867438866,
          0.9517374517374517,
          0.9444980694980695,
          0.9678249678249679,
          0.9693532818532817,
          0.974501287001287,
          0.986406048906049,
          0.9908301158301158,
          0.9915540540540541,
          0.9913931788931789,
          0.9967824967824969,
          0.9987129987129987,
          0.9985521235521235,
          0.9962998712998713,
          0.9953346203346203,
          0.9957368082368083,
          0.9590572715572715,
          0.9556788931788931,
          0.9416827541827542,
          0.9370173745173745,
          0.9402348777348777,
          0.9392696267696268,
          0.9359716859716861,
          0.9351673101673101,
          0.9429697554697554,
          0.9358912483912485,
          0.9375,
          0.967020592020592,
          0.9705598455598455,
          0.9712837837837838,
          0.9876930501930502
         ]
        },
        {
         "fill": "tonexty",
         "fillcolor": "rgba(0, 128, 128, 0.3)",
         "line": {
          "color": "rgba(0, 128, 128, 1.0)",
          "dash": "solid",
          "shape": "linear",
          "width": 1.3
         },
         "mode": "lines",
         "name": "driving",
         "text": "",
         "type": "scatter",
         "x": [
          "Mon",
          "Mon",
          "Mon",
          "Mon",
          "Mon",
          "Mon",
          "Mon",
          "Mon",
          "Mon",
          "Mon",
          "Mon",
          "Mon",
          "Mon",
          "Mon",
          "Mon",
          "Mon",
          "Mon",
          "Mon",
          "Mon",
          "Mon",
          "Mon",
          "Mon",
          "Mon",
          "Mon",
          "Tue",
          "Tue",
          "Tue",
          "Tue",
          "Tue",
          "Tue",
          "Tue",
          "Tue",
          "Tue",
          "Tue",
          "Tue",
          "Tue",
          "Tue",
          "Tue",
          "Tue",
          "Tue",
          "Tue",
          "Tue",
          "Tue",
          "Tue",
          "Tue",
          "Tue",
          "Tue",
          "Tue",
          "Wed",
          "Wed",
          "Wed",
          "Wed",
          "Wed",
          "Wed",
          "Wed",
          "Wed",
          "Wed",
          "Wed",
          "Wed",
          "Wed",
          "Wed",
          "Wed",
          "Wed",
          "Wed",
          "Wed",
          "Wed",
          "Wed",
          "Wed",
          "Wed",
          "Wed",
          "Wed",
          "Wed",
          "Thu",
          "Thu",
          "Thu",
          "Thu",
          "Thu",
          "Thu",
          "Thu",
          "Thu",
          "Thu",
          "Thu",
          "Thu",
          "Thu",
          "Thu",
          "Thu",
          "Thu",
          "Thu",
          "Thu",
          "Thu",
          "Thu",
          "Thu",
          "Thu",
          "Thu",
          "Thu",
          "Thu",
          "Fri",
          "Fri",
          "Fri",
          "Fri",
          "Fri",
          "Fri",
          "Fri",
          "Fri",
          "Fri",
          "Fri",
          "Fri",
          "Fri",
          "Fri",
          "Fri",
          "Fri",
          "Fri",
          "Fri",
          "Fri",
          "Fri",
          "Fri",
          "Fri",
          "Fri",
          "Fri",
          "Fri",
          "Sat",
          "Sat",
          "Sat",
          "Sat",
          "Sat",
          "Sat",
          "Sat",
          "Sat",
          "Sat",
          "Sat",
          "Sat",
          "Sat",
          "Sat",
          "Sat",
          "Sat",
          "Sat",
          "Sat",
          "Sat",
          "Sat",
          "Sat",
          "Sat",
          "Sat",
          "Sat",
          "Sat",
          "Sun",
          "Sun",
          "Sun",
          "Sun",
          "Sun",
          "Sun",
          "Sun",
          "Sun",
          "Sun",
          "Sun",
          "Sun",
          "Sun",
          "Sun",
          "Sun",
          "Sun",
          "Sun",
          "Sun",
          "Sun",
          "Sun",
          "Sun",
          "Sun",
          "Sun",
          "Sun",
          "Sun"
         ],
         "y": [
          0.9999999999999999,
          0.9999999999999999,
          1.0000000000000002,
          0.9999999999999999,
          1,
          1,
          1,
          1,
          1,
          1,
          0.9999999999999999,
          1,
          1,
          0.9999999999999999,
          0.9999999999999999,
          1.0000000000000002,
          1,
          1,
          1,
          0.9999999999999999,
          1,
          1,
          1,
          1,
          1,
          0.9999999999999999,
          1,
          1,
          1,
          1,
          1,
          1,
          1,
          1,
          1,
          1,
          1,
          1,
          1,
          1,
          1,
          1,
          1,
          1,
          1,
          1,
          1,
          1,
          1,
          1,
          1,
          1,
          1,
          1,
          1,
          1,
          1,
          1,
          1,
          1,
          1,
          1,
          1,
          1.0000000000000002,
          1,
          1,
          1,
          1,
          1.0000000000000002,
          1,
          1,
          1,
          1,
          1,
          1,
          1,
          0.9999999999999999,
          1,
          1,
          1,
          1,
          1.0000000000000002,
          1,
          1,
          1,
          1,
          1,
          1,
          0.9999999999999999,
          1,
          1,
          1,
          1,
          0.9999999999999999,
          1.0000000000000002,
          1.0000000000000002,
          0.9999999999999998,
          1,
          1,
          1,
          1,
          1,
          1,
          0.9999999999999999,
          1,
          1,
          1,
          1,
          1,
          0.9999999999999999,
          1,
          1,
          1,
          1,
          1,
          1,
          1,
          0.9999999999999999,
          1,
          0.9999999999999999,
          1,
          1,
          0.9999999999999999,
          0.9999999999999999,
          1,
          1,
          0.9999999999999999,
          1,
          1,
          1,
          1,
          0.9999999999999999,
          1,
          0.9999999999999999,
          1,
          1,
          0.9999999999999999,
          0.9999999999999999,
          1,
          1,
          1,
          0.9999999999999999,
          1,
          1,
          1,
          1,
          1,
          1,
          1,
          1,
          1,
          1,
          1,
          0.9999999999999999,
          0.9999999999999999,
          1,
          1,
          1,
          1,
          1.0000000000000002,
          1,
          0.9999999999999999,
          1,
          1,
          1,
          1,
          1,
          1
         ]
        }
       ],
       "layout": {
        "height": 700,
        "legend": {
         "font": {
          "color": "black",
          "family": "Arial, sans-serif",
          "size": 12
         },
         "orientation": "h",
         "x": 0.15,
         "y": 1.04
        },
        "margin": {
         "b": 50,
         "l": 70,
         "pad": 0,
         "r": 15,
         "t": 20
        },
        "paper_bgcolor": "white",
        "plot_bgcolor": "white",
        "showlegend": true,
        "template": {
         "data": {
          "bar": [
           {
            "error_x": {
             "color": "#2a3f5f"
            },
            "error_y": {
             "color": "#2a3f5f"
            },
            "marker": {
             "line": {
              "color": "#E5ECF6",
              "width": 0.5
             },
             "pattern": {
              "fillmode": "overlay",
              "size": 10,
              "solidity": 0.2
             }
            },
            "type": "bar"
           }
          ],
          "barpolar": [
           {
            "marker": {
             "line": {
              "color": "#E5ECF6",
              "width": 0.5
             },
             "pattern": {
              "fillmode": "overlay",
              "size": 10,
              "solidity": 0.2
             }
            },
            "type": "barpolar"
           }
          ],
          "carpet": [
           {
            "aaxis": {
             "endlinecolor": "#2a3f5f",
             "gridcolor": "white",
             "linecolor": "white",
             "minorgridcolor": "white",
             "startlinecolor": "#2a3f5f"
            },
            "baxis": {
             "endlinecolor": "#2a3f5f",
             "gridcolor": "white",
             "linecolor": "white",
             "minorgridcolor": "white",
             "startlinecolor": "#2a3f5f"
            },
            "type": "carpet"
           }
          ],
          "choropleth": [
           {
            "colorbar": {
             "outlinewidth": 0,
             "ticks": ""
            },
            "type": "choropleth"
           }
          ],
          "contour": [
           {
            "colorbar": {
             "outlinewidth": 0,
             "ticks": ""
            },
            "colorscale": [
             [
              0,
              "#0d0887"
             ],
             [
              0.1111111111111111,
              "#46039f"
             ],
             [
              0.2222222222222222,
              "#7201a8"
             ],
             [
              0.3333333333333333,
              "#9c179e"
             ],
             [
              0.4444444444444444,
              "#bd3786"
             ],
             [
              0.5555555555555556,
              "#d8576b"
             ],
             [
              0.6666666666666666,
              "#ed7953"
             ],
             [
              0.7777777777777778,
              "#fb9f3a"
             ],
             [
              0.8888888888888888,
              "#fdca26"
             ],
             [
              1,
              "#f0f921"
             ]
            ],
            "type": "contour"
           }
          ],
          "contourcarpet": [
           {
            "colorbar": {
             "outlinewidth": 0,
             "ticks": ""
            },
            "type": "contourcarpet"
           }
          ],
          "heatmap": [
           {
            "colorbar": {
             "outlinewidth": 0,
             "ticks": ""
            },
            "colorscale": [
             [
              0,
              "#0d0887"
             ],
             [
              0.1111111111111111,
              "#46039f"
             ],
             [
              0.2222222222222222,
              "#7201a8"
             ],
             [
              0.3333333333333333,
              "#9c179e"
             ],
             [
              0.4444444444444444,
              "#bd3786"
             ],
             [
              0.5555555555555556,
              "#d8576b"
             ],
             [
              0.6666666666666666,
              "#ed7953"
             ],
             [
              0.7777777777777778,
              "#fb9f3a"
             ],
             [
              0.8888888888888888,
              "#fdca26"
             ],
             [
              1,
              "#f0f921"
             ]
            ],
            "type": "heatmap"
           }
          ],
          "heatmapgl": [
           {
            "colorbar": {
             "outlinewidth": 0,
             "ticks": ""
            },
            "colorscale": [
             [
              0,
              "#0d0887"
             ],
             [
              0.1111111111111111,
              "#46039f"
             ],
             [
              0.2222222222222222,
              "#7201a8"
             ],
             [
              0.3333333333333333,
              "#9c179e"
             ],
             [
              0.4444444444444444,
              "#bd3786"
             ],
             [
              0.5555555555555556,
              "#d8576b"
             ],
             [
              0.6666666666666666,
              "#ed7953"
             ],
             [
              0.7777777777777778,
              "#fb9f3a"
             ],
             [
              0.8888888888888888,
              "#fdca26"
             ],
             [
              1,
              "#f0f921"
             ]
            ],
            "type": "heatmapgl"
           }
          ],
          "histogram": [
           {
            "marker": {
             "pattern": {
              "fillmode": "overlay",
              "size": 10,
              "solidity": 0.2
             }
            },
            "type": "histogram"
           }
          ],
          "histogram2d": [
           {
            "colorbar": {
             "outlinewidth": 0,
             "ticks": ""
            },
            "colorscale": [
             [
              0,
              "#0d0887"
             ],
             [
              0.1111111111111111,
              "#46039f"
             ],
             [
              0.2222222222222222,
              "#7201a8"
             ],
             [
              0.3333333333333333,
              "#9c179e"
             ],
             [
              0.4444444444444444,
              "#bd3786"
             ],
             [
              0.5555555555555556,
              "#d8576b"
             ],
             [
              0.6666666666666666,
              "#ed7953"
             ],
             [
              0.7777777777777778,
              "#fb9f3a"
             ],
             [
              0.8888888888888888,
              "#fdca26"
             ],
             [
              1,
              "#f0f921"
             ]
            ],
            "type": "histogram2d"
           }
          ],
          "histogram2dcontour": [
           {
            "colorbar": {
             "outlinewidth": 0,
             "ticks": ""
            },
            "colorscale": [
             [
              0,
              "#0d0887"
             ],
             [
              0.1111111111111111,
              "#46039f"
             ],
             [
              0.2222222222222222,
              "#7201a8"
             ],
             [
              0.3333333333333333,
              "#9c179e"
             ],
             [
              0.4444444444444444,
              "#bd3786"
             ],
             [
              0.5555555555555556,
              "#d8576b"
             ],
             [
              0.6666666666666666,
              "#ed7953"
             ],
             [
              0.7777777777777778,
              "#fb9f3a"
             ],
             [
              0.8888888888888888,
              "#fdca26"
             ],
             [
              1,
              "#f0f921"
             ]
            ],
            "type": "histogram2dcontour"
           }
          ],
          "mesh3d": [
           {
            "colorbar": {
             "outlinewidth": 0,
             "ticks": ""
            },
            "type": "mesh3d"
           }
          ],
          "parcoords": [
           {
            "line": {
             "colorbar": {
              "outlinewidth": 0,
              "ticks": ""
             }
            },
            "type": "parcoords"
           }
          ],
          "pie": [
           {
            "automargin": true,
            "type": "pie"
           }
          ],
          "scatter": [
           {
            "fillpattern": {
             "fillmode": "overlay",
             "size": 10,
             "solidity": 0.2
            },
            "type": "scatter"
           }
          ],
          "scatter3d": [
           {
            "line": {
             "colorbar": {
              "outlinewidth": 0,
              "ticks": ""
             }
            },
            "marker": {
             "colorbar": {
              "outlinewidth": 0,
              "ticks": ""
             }
            },
            "type": "scatter3d"
           }
          ],
          "scattercarpet": [
           {
            "marker": {
             "colorbar": {
              "outlinewidth": 0,
              "ticks": ""
             }
            },
            "type": "scattercarpet"
           }
          ],
          "scattergeo": [
           {
            "marker": {
             "colorbar": {
              "outlinewidth": 0,
              "ticks": ""
             }
            },
            "type": "scattergeo"
           }
          ],
          "scattergl": [
           {
            "marker": {
             "colorbar": {
              "outlinewidth": 0,
              "ticks": ""
             }
            },
            "type": "scattergl"
           }
          ],
          "scattermapbox": [
           {
            "marker": {
             "colorbar": {
              "outlinewidth": 0,
              "ticks": ""
             }
            },
            "type": "scattermapbox"
           }
          ],
          "scatterpolar": [
           {
            "marker": {
             "colorbar": {
              "outlinewidth": 0,
              "ticks": ""
             }
            },
            "type": "scatterpolar"
           }
          ],
          "scatterpolargl": [
           {
            "marker": {
             "colorbar": {
              "outlinewidth": 0,
              "ticks": ""
             }
            },
            "type": "scatterpolargl"
           }
          ],
          "scatterternary": [
           {
            "marker": {
             "colorbar": {
              "outlinewidth": 0,
              "ticks": ""
             }
            },
            "type": "scatterternary"
           }
          ],
          "surface": [
           {
            "colorbar": {
             "outlinewidth": 0,
             "ticks": ""
            },
            "colorscale": [
             [
              0,
              "#0d0887"
             ],
             [
              0.1111111111111111,
              "#46039f"
             ],
             [
              0.2222222222222222,
              "#7201a8"
             ],
             [
              0.3333333333333333,
              "#9c179e"
             ],
             [
              0.4444444444444444,
              "#bd3786"
             ],
             [
              0.5555555555555556,
              "#d8576b"
             ],
             [
              0.6666666666666666,
              "#ed7953"
             ],
             [
              0.7777777777777778,
              "#fb9f3a"
             ],
             [
              0.8888888888888888,
              "#fdca26"
             ],
             [
              1,
              "#f0f921"
             ]
            ],
            "type": "surface"
           }
          ],
          "table": [
           {
            "cells": {
             "fill": {
              "color": "#EBF0F8"
             },
             "line": {
              "color": "white"
             }
            },
            "header": {
             "fill": {
              "color": "#C8D4E3"
             },
             "line": {
              "color": "white"
             }
            },
            "type": "table"
           }
          ]
         },
         "layout": {
          "annotationdefaults": {
           "arrowcolor": "#2a3f5f",
           "arrowhead": 0,
           "arrowwidth": 1
          },
          "autotypenumbers": "strict",
          "coloraxis": {
           "colorbar": {
            "outlinewidth": 0,
            "ticks": ""
           }
          },
          "colorscale": {
           "diverging": [
            [
             0,
             "#8e0152"
            ],
            [
             0.1,
             "#c51b7d"
            ],
            [
             0.2,
             "#de77ae"
            ],
            [
             0.3,
             "#f1b6da"
            ],
            [
             0.4,
             "#fde0ef"
            ],
            [
             0.5,
             "#f7f7f7"
            ],
            [
             0.6,
             "#e6f5d0"
            ],
            [
             0.7,
             "#b8e186"
            ],
            [
             0.8,
             "#7fbc41"
            ],
            [
             0.9,
             "#4d9221"
            ],
            [
             1,
             "#276419"
            ]
           ],
           "sequential": [
            [
             0,
             "#0d0887"
            ],
            [
             0.1111111111111111,
             "#46039f"
            ],
            [
             0.2222222222222222,
             "#7201a8"
            ],
            [
             0.3333333333333333,
             "#9c179e"
            ],
            [
             0.4444444444444444,
             "#bd3786"
            ],
            [
             0.5555555555555556,
             "#d8576b"
            ],
            [
             0.6666666666666666,
             "#ed7953"
            ],
            [
             0.7777777777777778,
             "#fb9f3a"
            ],
            [
             0.8888888888888888,
             "#fdca26"
            ],
            [
             1,
             "#f0f921"
            ]
           ],
           "sequentialminus": [
            [
             0,
             "#0d0887"
            ],
            [
             0.1111111111111111,
             "#46039f"
            ],
            [
             0.2222222222222222,
             "#7201a8"
            ],
            [
             0.3333333333333333,
             "#9c179e"
            ],
            [
             0.4444444444444444,
             "#bd3786"
            ],
            [
             0.5555555555555556,
             "#d8576b"
            ],
            [
             0.6666666666666666,
             "#ed7953"
            ],
            [
             0.7777777777777778,
             "#fb9f3a"
            ],
            [
             0.8888888888888888,
             "#fdca26"
            ],
            [
             1,
             "#f0f921"
            ]
           ]
          },
          "colorway": [
           "#636efa",
           "#EF553B",
           "#00cc96",
           "#ab63fa",
           "#FFA15A",
           "#19d3f3",
           "#FF6692",
           "#B6E880",
           "#FF97FF",
           "#FECB52"
          ],
          "font": {
           "color": "#2a3f5f"
          },
          "geo": {
           "bgcolor": "white",
           "lakecolor": "white",
           "landcolor": "#E5ECF6",
           "showlakes": true,
           "showland": true,
           "subunitcolor": "white"
          },
          "hoverlabel": {
           "align": "left"
          },
          "hovermode": "closest",
          "mapbox": {
           "style": "light"
          },
          "paper_bgcolor": "white",
          "plot_bgcolor": "#E5ECF6",
          "polar": {
           "angularaxis": {
            "gridcolor": "white",
            "linecolor": "white",
            "ticks": ""
           },
           "bgcolor": "#E5ECF6",
           "radialaxis": {
            "gridcolor": "white",
            "linecolor": "white",
            "ticks": ""
           }
          },
          "scene": {
           "xaxis": {
            "backgroundcolor": "#E5ECF6",
            "gridcolor": "white",
            "gridwidth": 2,
            "linecolor": "white",
            "showbackground": true,
            "ticks": "",
            "zerolinecolor": "white"
           },
           "yaxis": {
            "backgroundcolor": "#E5ECF6",
            "gridcolor": "white",
            "gridwidth": 2,
            "linecolor": "white",
            "showbackground": true,
            "ticks": "",
            "zerolinecolor": "white"
           },
           "zaxis": {
            "backgroundcolor": "#E5ECF6",
            "gridcolor": "white",
            "gridwidth": 2,
            "linecolor": "white",
            "showbackground": true,
            "ticks": "",
            "zerolinecolor": "white"
           }
          },
          "shapedefaults": {
           "line": {
            "color": "#2a3f5f"
           }
          },
          "ternary": {
           "aaxis": {
            "gridcolor": "white",
            "linecolor": "white",
            "ticks": ""
           },
           "baxis": {
            "gridcolor": "white",
            "linecolor": "white",
            "ticks": ""
           },
           "bgcolor": "#E5ECF6",
           "caxis": {
            "gridcolor": "white",
            "linecolor": "white",
            "ticks": ""
           }
          },
          "title": {
           "x": 0.05
          },
          "xaxis": {
           "automargin": true,
           "gridcolor": "white",
           "linecolor": "white",
           "ticks": "",
           "title": {
            "standoff": 15
           },
           "zerolinecolor": "white",
           "zerolinewidth": 2
          },
          "yaxis": {
           "automargin": true,
           "gridcolor": "white",
           "linecolor": "white",
           "ticks": "",
           "title": {
            "standoff": 15
           },
           "zerolinecolor": "white",
           "zerolinewidth": 2
          }
         }
        },
        "width": 1000,
        "xaxis": {
         "automargin": false,
         "linecolor": "black",
         "linewidth": 2,
         "showgrid": false,
         "showline": true,
         "showticklabels": true,
         "tickfont": {
          "color": "black",
          "family": "Arial, sans-serif",
          "size": 7
         },
         "ticklen": 2,
         "tickmode": "array",
         "ticks": "outside",
         "ticktext": [
          "00:00<br>",
          "06:00<br>",
          "12:00<br>Monday",
          "18:00<br>",
          "00:00<br>",
          "06:00<br>",
          "12:00<br>Tuesday",
          "18:00<br>",
          "00:00<br>",
          "06:00<br>",
          "12:00<br>Wednesday",
          "18:00<br>",
          "00:00<br>",
          "06:00<br>",
          "12:00<br>Thursday",
          "18:00<br>",
          "00:00<br>",
          "06:00<br>",
          "12:00<br>Friday",
          "18:00<br>",
          "00:00<br>",
          "06:00<br>",
          "12:00<br>Saturday",
          "18:00<br>",
          "00:00<br>",
          "06:00<br>",
          "12:00<br>Sunday",
          "18:00<br>",
          "23:00<br>"
         ],
         "tickvals": [
          "00,Mon",
          "06,Mon",
          "12,Mon",
          "18,Mon",
          "00,Tue",
          "06,Tue",
          "12,Tue",
          "18,Tue",
          "00,Wed",
          "06,Wed",
          "12,Wed",
          "18,Wed",
          "00,Thu",
          "06,Thu",
          "12,Thu",
          "18,Thu",
          "00,Fri",
          "06,Fri",
          "12,Fri",
          "18,Fri",
          "00,Sat",
          "06,Sat",
          "12,Sat",
          "18,Sat",
          "00,Sun",
          "06,Sun",
          "12,Sun",
          "18,Sun",
          "23,Sun"
         ],
         "tickwidth": 2
        },
        "yaxis": {
         "domain": [
          0,
          0.5
         ],
         "dtick": 5,
         "linecolor": "black",
         "linewidth": 2,
         "range": [
          0,
          35
         ],
         "rangemode": "tozero",
         "showgrid": true,
         "showline": true,
         "tickfont": {
          "color": "black",
          "family": "Arial, sans-serif",
          "size": 12
         },
         "tickformat": ",.0%",
         "ticklen": 2,
         "ticks": "outside",
         "tickwidth": 2,
         "title": {
          "text": "Grid electricity demand (kWh)"
         },
         "zeroline": true
        }
       }
      },
      "text/html": [
       "<div>                            <div id=\"bf69cde9-90e1-438c-99df-26054216ab7d\" class=\"plotly-graph-div\" style=\"height:700px; width:1000px;\"></div>            <script type=\"text/javascript\">                require([\"plotly\"], function(Plotly) {                    window.PLOTLYENV=window.PLOTLYENV || {};                                    if (document.getElementById(\"bf69cde9-90e1-438c-99df-26054216ab7d\")) {                    Plotly.newPlot(                        \"bf69cde9-90e1-438c-99df-26054216ab7d\",                        [{\"fill\":\"tonexty\",\"fillcolor\":\"rgba(255, 153, 51, 0.3)\",\"line\":{\"color\":\"rgba(255, 153, 51, 1.0)\",\"dash\":\"solid\",\"shape\":\"linear\",\"width\":1.3},\"mode\":\"lines\",\"name\":\"home\",\"text\":\"\",\"x\":[\"Mon\",\"Mon\",\"Mon\",\"Mon\",\"Mon\",\"Mon\",\"Mon\",\"Mon\",\"Mon\",\"Mon\",\"Mon\",\"Mon\",\"Mon\",\"Mon\",\"Mon\",\"Mon\",\"Mon\",\"Mon\",\"Mon\",\"Mon\",\"Mon\",\"Mon\",\"Mon\",\"Mon\",\"Tue\",\"Tue\",\"Tue\",\"Tue\",\"Tue\",\"Tue\",\"Tue\",\"Tue\",\"Tue\",\"Tue\",\"Tue\",\"Tue\",\"Tue\",\"Tue\",\"Tue\",\"Tue\",\"Tue\",\"Tue\",\"Tue\",\"Tue\",\"Tue\",\"Tue\",\"Tue\",\"Tue\",\"Wed\",\"Wed\",\"Wed\",\"Wed\",\"Wed\",\"Wed\",\"Wed\",\"Wed\",\"Wed\",\"Wed\",\"Wed\",\"Wed\",\"Wed\",\"Wed\",\"Wed\",\"Wed\",\"Wed\",\"Wed\",\"Wed\",\"Wed\",\"Wed\",\"Wed\",\"Wed\",\"Wed\",\"Thu\",\"Thu\",\"Thu\",\"Thu\",\"Thu\",\"Thu\",\"Thu\",\"Thu\",\"Thu\",\"Thu\",\"Thu\",\"Thu\",\"Thu\",\"Thu\",\"Thu\",\"Thu\",\"Thu\",\"Thu\",\"Thu\",\"Thu\",\"Thu\",\"Thu\",\"Thu\",\"Thu\",\"Fri\",\"Fri\",\"Fri\",\"Fri\",\"Fri\",\"Fri\",\"Fri\",\"Fri\",\"Fri\",\"Fri\",\"Fri\",\"Fri\",\"Fri\",\"Fri\",\"Fri\",\"Fri\",\"Fri\",\"Fri\",\"Fri\",\"Fri\",\"Fri\",\"Fri\",\"Fri\",\"Fri\",\"Sat\",\"Sat\",\"Sat\",\"Sat\",\"Sat\",\"Sat\",\"Sat\",\"Sat\",\"Sat\",\"Sat\",\"Sat\",\"Sat\",\"Sat\",\"Sat\",\"Sat\",\"Sat\",\"Sat\",\"Sat\",\"Sat\",\"Sat\",\"Sat\",\"Sat\",\"Sat\",\"Sat\",\"Sun\",\"Sun\",\"Sun\",\"Sun\",\"Sun\",\"Sun\",\"Sun\",\"Sun\",\"Sun\",\"Sun\",\"Sun\",\"Sun\",\"Sun\",\"Sun\",\"Sun\",\"Sun\",\"Sun\",\"Sun\",\"Sun\",\"Sun\",\"Sun\",\"Sun\",\"Sun\",\"Sun\"],\"y\":[0.9698359073359073,0.9812580437580437,0.9900257400257401,0.9953346203346203,0.9939671814671814,0.993082368082368,0.9705598455598455,0.9418436293436293,0.9078989703989704,0.7951254826254827,0.6686776061776062,0.5909749034749034,0.5542953667953668,0.5423906048906049,0.5510778635778636,0.5605694980694981,0.5761743886743886,0.6158301158301158,0.6707689832689833,0.7458976833976834,0.8305180180180181,0.8840894465894465,0.9320302445302445,0.9680662805662805,0.979488416988417,0.9866473616473617,0.9917149292149292,0.9983912483912484,0.9964607464607464,0.9924388674388674,0.9728925353925354,0.9395109395109396,0.9107142857142857,0.7926319176319176,0.6540379665379665,0.5778635778635779,0.5427123552123552,0.5358751608751608,0.5342664092664092,0.541425353925354,0.556949806949807,0.5999839124839125,0.6642535392535392,0.7454954954954955,0.8251287001287001,0.8724259974259975,0.9231821106821106,0.9604247104247104,1.0,1.0,1.0,0.9998391248391248,0.9985521235521235,0.9971846846846847,0.9748230373230373,0.9407979407979408,0.9106338481338482,0.7886100386100386,0.6571750321750321,0.587998712998713,0.5587998712998713,0.550997425997426,0.5503539253539254,0.5599259974259975,0.5709459459459459,0.6036036036036037,0.666023166023166,0.734073359073359,0.8129021879021879,0.8715411840411841,0.9218951093951094,0.9594594594594594,0.9713642213642214,0.9786840411840412,0.9889800514800515,0.9954150579150579,0.9946106821106822,0.9918758043758044,0.9727316602316602,0.9453828828828829,0.916023166023166,0.7996299871299871,0.6723777348777349,0.6056145431145431,0.5823680823680824,0.565395752895753,0.5686936936936937,0.5704633204633205,0.5765765765765766,0.6097168597168597,0.6621621621621622,0.7361647361647362,0.8189350064350064,0.8732303732303732,0.9231016731016731,0.9601029601029601,0.971042471042471,0.9802927927927928,0.9917149292149292,0.9974259974259975,0.9967824967824968,0.9946106821106822,0.9708011583011583,0.9370978120978121,0.9028314028314028,0.7922297297297297,0.660472972972973,0.5905727155727156,0.5654761904761905,0.5397361647361647,0.5440797940797941,0.5451254826254827,0.5618564993564994,0.5941924066924067,0.6432593307593307,0.7197554697554698,0.8024453024453024,0.861003861003861,0.9173101673101673,0.9613899613899614,0.9754665379665379,0.9856821106821106,0.9927606177606177,0.9949324324324325,0.993082368082368,0.9904279279279279,0.9776383526383526,0.9586550836550837,0.9452220077220077,0.8795045045045045,0.7997908622908623,0.7331885456885456,0.6983590733590733,0.675997425997426,0.6663449163449163,0.6584620334620335,0.657014157014157,0.678088803088803,0.7132400257400258,0.7521718146718147,0.8159588159588159,0.8591537966537967,0.9021074646074646,0.9402348777348777,0.9556788931788932,0.9707207207207207,0.9856016731016731,0.9967020592020592,0.9975868725868726,0.9958172458172458,0.9904279279279279,0.9808558558558559,0.9723294723294723,0.9089446589446589,0.8287483912483913,0.7571589446589446,0.7052767052767053,0.6712516087516087,0.6509009009009009,0.6382722007722008,0.6302284427284427,0.6447072072072072,0.6850868725868726,0.751528314028314,0.8240830115830116,0.8688063063063063,0.9197232947232947,0.9591377091377091],\"type\":\"scatter\"},{\"fill\":\"tonexty\",\"fillcolor\":\"rgba(55, 128, 191, 0.3)\",\"line\":{\"color\":\"rgba(55, 128, 191, 1.0)\",\"dash\":\"solid\",\"shape\":\"linear\",\"width\":1.3},\"mode\":\"lines\",\"name\":\"leisure\",\"text\":\"\",\"x\":[\"Mon\",\"Mon\",\"Mon\",\"Mon\",\"Mon\",\"Mon\",\"Mon\",\"Mon\",\"Mon\",\"Mon\",\"Mon\",\"Mon\",\"Mon\",\"Mon\",\"Mon\",\"Mon\",\"Mon\",\"Mon\",\"Mon\",\"Mon\",\"Mon\",\"Mon\",\"Mon\",\"Mon\",\"Tue\",\"Tue\",\"Tue\",\"Tue\",\"Tue\",\"Tue\",\"Tue\",\"Tue\",\"Tue\",\"Tue\",\"Tue\",\"Tue\",\"Tue\",\"Tue\",\"Tue\",\"Tue\",\"Tue\",\"Tue\",\"Tue\",\"Tue\",\"Tue\",\"Tue\",\"Tue\",\"Tue\",\"Wed\",\"Wed\",\"Wed\",\"Wed\",\"Wed\",\"Wed\",\"Wed\",\"Wed\",\"Wed\",\"Wed\",\"Wed\",\"Wed\",\"Wed\",\"Wed\",\"Wed\",\"Wed\",\"Wed\",\"Wed\",\"Wed\",\"Wed\",\"Wed\",\"Wed\",\"Wed\",\"Wed\",\"Thu\",\"Thu\",\"Thu\",\"Thu\",\"Thu\",\"Thu\",\"Thu\",\"Thu\",\"Thu\",\"Thu\",\"Thu\",\"Thu\",\"Thu\",\"Thu\",\"Thu\",\"Thu\",\"Thu\",\"Thu\",\"Thu\",\"Thu\",\"Thu\",\"Thu\",\"Thu\",\"Thu\",\"Fri\",\"Fri\",\"Fri\",\"Fri\",\"Fri\",\"Fri\",\"Fri\",\"Fri\",\"Fri\",\"Fri\",\"Fri\",\"Fri\",\"Fri\",\"Fri\",\"Fri\",\"Fri\",\"Fri\",\"Fri\",\"Fri\",\"Fri\",\"Fri\",\"Fri\",\"Fri\",\"Fri\",\"Sat\",\"Sat\",\"Sat\",\"Sat\",\"Sat\",\"Sat\",\"Sat\",\"Sat\",\"Sat\",\"Sat\",\"Sat\",\"Sat\",\"Sat\",\"Sat\",\"Sat\",\"Sat\",\"Sat\",\"Sat\",\"Sat\",\"Sat\",\"Sat\",\"Sat\",\"Sat\",\"Sat\",\"Sun\",\"Sun\",\"Sun\",\"Sun\",\"Sun\",\"Sun\",\"Sun\",\"Sun\",\"Sun\",\"Sun\",\"Sun\",\"Sun\",\"Sun\",\"Sun\",\"Sun\",\"Sun\",\"Sun\",\"Sun\",\"Sun\",\"Sun\",\"Sun\",\"Sun\",\"Sun\",\"Sun\"],\"y\":[0.9835102960102959,0.989623552123552,0.992921492921493,0.9956563706563706,0.9957368082368082,0.9954954954954954,0.976431788931789,0.9547136422136422,0.9280083655083655,0.826898326898327,0.723536036036036,0.6615990990990991,0.6414092664092664,0.6331241956241956,0.6508204633204633,0.675032175032175,0.6881435006435006,0.7335907335907336,0.7782335907335908,0.8226351351351351,0.8868243243243243,0.92253861003861,0.9517374517374517,0.9783622908622909,0.9873712998712999,0.9924388674388674,0.9936454311454311,0.998471685971686,0.9979890604890604,0.9954954954954955,0.9786840411840412,0.9540701415701416,0.9337998712998713,0.8281048906048907,0.7127574002574002,0.6526705276705277,0.6258043758043758,0.6194498069498069,0.6226673101673101,0.6411679536679538,0.66489703989704,0.7031048906048906,0.7512870012870013,0.8085585585585586,0.8723455598455598,0.9072554697554698,0.9416023166023165,0.9687902187902188,1.0,1.0,1.0,0.9998391248391248,0.9993564993564993,0.9981499356499357,0.9774774774774775,0.9515765765765766,0.9288931788931789,0.8191763191763192,0.7118725868725868,0.6593468468468469,0.638030888030888,0.6316763191763192,0.6385135135135135,0.6570945945945946,0.6748712998712999,0.7083333333333334,0.7641570141570142,0.8092824967824968,0.8664736164736165,0.9072554697554698,0.9429697554697555,0.9733751608751608,0.983510296010296,0.9864060489060489,0.9920366795366796,0.9961389961389961,0.9961389961389961,0.9951737451737451,0.9795688545688546,0.960505148005148,0.9407175032175032,0.8331724581724582,0.7273166023166023,0.6758365508365508,0.6599099099099099,0.6415701415701416,0.6493725868725869,0.6628056628056629,0.6830759330759331,0.7118725868725869,0.7539414414414415,0.7993886743886744,0.8667953667953667,0.9041988416988417,0.9391891891891893,0.9686293436293437,0.9783622908622908,0.9849581724581724,0.9931628056628057,0.9980694980694981,0.999034749034749,0.9980694980694981,0.9779601029601029,0.9523005148005148,0.925032175032175,0.8253700128700129,0.716457528957529,0.6605534105534105,0.6461550836550837,0.6233108108108107,0.6355373230373231,0.6496943371943372,0.6723777348777349,0.7101833976833977,0.7494369369369369,0.796412483912484,0.8569015444015444,0.9004182754182753,0.936936936936937,0.972570785070785,0.9841537966537967,0.9914736164736164,0.994610682110682,0.9955759330759331,0.9954150579150579,0.9943693693693694,0.9849581724581724,0.9709620334620335,0.9608268983268983,0.9028314028314028,0.8414575289575289,0.7889317889317888,0.7726833976833977,0.7541023166023165,0.7487934362934363,0.7514478764478765,0.7526544401544402,0.7798423423423423,0.8096846846846847,0.8318854568854569,0.8803088803088803,0.9084620334620335,0.9332368082368082,0.9580920205920206,0.9692728442728443,0.9788449163449163,0.9880952380952381,0.9967824967824969,0.9979086229086229,0.9965411840411841,0.9924388674388674,0.9872908622908623,0.9838320463320464,0.9310649935649935,0.8892374517374517,0.8513513513513513,0.835505148005148,0.8254504504504504,0.8202220077220077,0.8239221364221365,0.8305984555984556,0.8449967824967825,0.8506274131274132,0.8712998712998713,0.9166666666666666,0.9328346203346203,0.9527027027027027,0.9769144144144144],\"type\":\"scatter\"},{\"fill\":\"tonexty\",\"fillcolor\":\"rgba(50, 171, 96, 0.3)\",\"line\":{\"color\":\"rgba(50, 171, 96, 1.0)\",\"dash\":\"solid\",\"shape\":\"linear\",\"width\":1.3},\"mode\":\"lines\",\"name\":\"shopping\",\"text\":\"\",\"x\":[\"Mon\",\"Mon\",\"Mon\",\"Mon\",\"Mon\",\"Mon\",\"Mon\",\"Mon\",\"Mon\",\"Mon\",\"Mon\",\"Mon\",\"Mon\",\"Mon\",\"Mon\",\"Mon\",\"Mon\",\"Mon\",\"Mon\",\"Mon\",\"Mon\",\"Mon\",\"Mon\",\"Mon\",\"Tue\",\"Tue\",\"Tue\",\"Tue\",\"Tue\",\"Tue\",\"Tue\",\"Tue\",\"Tue\",\"Tue\",\"Tue\",\"Tue\",\"Tue\",\"Tue\",\"Tue\",\"Tue\",\"Tue\",\"Tue\",\"Tue\",\"Tue\",\"Tue\",\"Tue\",\"Tue\",\"Tue\",\"Wed\",\"Wed\",\"Wed\",\"Wed\",\"Wed\",\"Wed\",\"Wed\",\"Wed\",\"Wed\",\"Wed\",\"Wed\",\"Wed\",\"Wed\",\"Wed\",\"Wed\",\"Wed\",\"Wed\",\"Wed\",\"Wed\",\"Wed\",\"Wed\",\"Wed\",\"Wed\",\"Wed\",\"Thu\",\"Thu\",\"Thu\",\"Thu\",\"Thu\",\"Thu\",\"Thu\",\"Thu\",\"Thu\",\"Thu\",\"Thu\",\"Thu\",\"Thu\",\"Thu\",\"Thu\",\"Thu\",\"Thu\",\"Thu\",\"Thu\",\"Thu\",\"Thu\",\"Thu\",\"Thu\",\"Thu\",\"Fri\",\"Fri\",\"Fri\",\"Fri\",\"Fri\",\"Fri\",\"Fri\",\"Fri\",\"Fri\",\"Fri\",\"Fri\",\"Fri\",\"Fri\",\"Fri\",\"Fri\",\"Fri\",\"Fri\",\"Fri\",\"Fri\",\"Fri\",\"Fri\",\"Fri\",\"Fri\",\"Fri\",\"Sat\",\"Sat\",\"Sat\",\"Sat\",\"Sat\",\"Sat\",\"Sat\",\"Sat\",\"Sat\",\"Sat\",\"Sat\",\"Sat\",\"Sat\",\"Sat\",\"Sat\",\"Sat\",\"Sat\",\"Sat\",\"Sat\",\"Sat\",\"Sat\",\"Sat\",\"Sat\",\"Sat\",\"Sun\",\"Sun\",\"Sun\",\"Sun\",\"Sun\",\"Sun\",\"Sun\",\"Sun\",\"Sun\",\"Sun\",\"Sun\",\"Sun\",\"Sun\",\"Sun\",\"Sun\",\"Sun\",\"Sun\",\"Sun\",\"Sun\",\"Sun\",\"Sun\",\"Sun\",\"Sun\",\"Sun\"],\"y\":[0.9841537966537965,0.9901061776061775,0.9931628056628058,0.9956563706563706,0.9957368082368082,0.9954954954954954,0.9778796653796654,0.9607464607464608,0.9388674388674388,0.8560167310167311,0.8037323037323036,0.7827380952380952,0.767454954954955,0.7648809523809523,0.7754182754182753,0.7925514800514801,0.7926319176319176,0.8260135135135135,0.856418918918919,0.8729086229086228,0.9206081081081081,0.9450611325611326,0.9640444015444015,0.9845559845559846,0.9921171171171171,0.9957368082368082,0.9947715572715573,0.998471685971686,0.9979890604890604,0.9954954954954955,0.9794079794079794,0.9597007722007722,0.9447393822393823,0.8588320463320464,0.7928732303732303,0.7705115830115831,0.762065637065637,0.7637548262548262,0.7722007722007722,0.775900900900901,0.7848294723294724,0.8126608751608752,0.8426640926640927,0.8738738738738739,0.9184362934362934,0.9379826254826255,0.9566441441441441,0.9782818532818532,1.0,1.0,1.0,0.9998391248391248,0.9993564993564993,0.9981499356499357,0.9793275418275418,0.9600225225225225,0.9439350064350065,0.8586711711711712,0.8069498069498069,0.7849099099099099,0.7750965250965252,0.7767857142857143,0.7898970398970399,0.7946428571428572,0.7971364221364221,0.819980694980695,0.8528796653796654,0.8704954954954954,0.910875160875161,0.9367760617760618,0.9584137709137709,0.9824646074646074,0.990427927927928,0.9902670527670527,0.9932432432432433,0.9961389961389961,0.9961389961389961,0.9951737451737451,0.981016731016731,0.9658140283140283,0.9481177606177607,0.8652670527670528,0.8095238095238095,0.7917471042471043,0.7931145431145432,0.7798423423423424,0.7834620334620335,0.7857142857142858,0.7939189189189189,0.8108108108108109,0.8421010296010296,0.8658301158301159,0.9161036036036035,0.9396718146718146,0.9592985842985844,0.9813384813384814,0.9885778635778635,0.9918758043758044,0.9948519948519948,0.9980694980694981,0.999034749034749,0.9980694980694981,0.9798906048906049,0.9601833976833977,0.9400740025740026,0.8578667953667953,0.7976994851994852,0.7753378378378378,0.7718790218790219,0.7608590733590733,0.7812097812097814,0.7859555984555985,0.7948841698841699,0.8157175032175032,0.8356660231660231,0.856418918918919,0.9011422136422137,0.9299388674388673,0.9502895752895754,0.9777992277992277,0.9874517374517374,0.9938063063063063,0.9954150579150578,0.9955759330759331,0.9954150579150579,0.9943693693693694,0.9877734877734877,0.9802927927927928,0.9767535392535392,0.934604247104247,0.907014157014157,0.8784588159588158,0.8712194337194337,0.8583494208494208,0.8591537966537967,0.8603603603603603,0.8527992277992278,0.8720238095238094,0.8873069498069498,0.8912483912483913,0.9256756756756757,0.9407979407979408,0.9547940797940798,0.9736164736164736,0.9819015444015444,0.9864864864864865,0.9895431145431146,0.9967824967824969,0.9979086229086229,0.9965411840411841,0.993082368082368,0.9901866151866152,0.9889800514800515,0.9429697554697554,0.9203667953667953,0.8926962676962676,0.8720238095238095,0.8587516087516087,0.8516731016731016,0.8511904761904763,0.8533622908622909,0.8627734877734877,0.8664736164736165,0.8812741312741312,0.9231821106821106,0.9385456885456885,0.954552767052767,0.9776383526383526],\"type\":\"scatter\"},{\"fill\":\"tonexty\",\"fillcolor\":\"rgba(128, 0, 128, 0.3)\",\"line\":{\"color\":\"rgba(128, 0, 128, 1.0)\",\"dash\":\"solid\",\"shape\":\"linear\",\"width\":1.3},\"mode\":\"lines\",\"name\":\"escort\",\"text\":\"\",\"x\":[\"Mon\",\"Mon\",\"Mon\",\"Mon\",\"Mon\",\"Mon\",\"Mon\",\"Mon\",\"Mon\",\"Mon\",\"Mon\",\"Mon\",\"Mon\",\"Mon\",\"Mon\",\"Mon\",\"Mon\",\"Mon\",\"Mon\",\"Mon\",\"Mon\",\"Mon\",\"Mon\",\"Mon\",\"Tue\",\"Tue\",\"Tue\",\"Tue\",\"Tue\",\"Tue\",\"Tue\",\"Tue\",\"Tue\",\"Tue\",\"Tue\",\"Tue\",\"Tue\",\"Tue\",\"Tue\",\"Tue\",\"Tue\",\"Tue\",\"Tue\",\"Tue\",\"Tue\",\"Tue\",\"Tue\",\"Tue\",\"Wed\",\"Wed\",\"Wed\",\"Wed\",\"Wed\",\"Wed\",\"Wed\",\"Wed\",\"Wed\",\"Wed\",\"Wed\",\"Wed\",\"Wed\",\"Wed\",\"Wed\",\"Wed\",\"Wed\",\"Wed\",\"Wed\",\"Wed\",\"Wed\",\"Wed\",\"Wed\",\"Wed\",\"Thu\",\"Thu\",\"Thu\",\"Thu\",\"Thu\",\"Thu\",\"Thu\",\"Thu\",\"Thu\",\"Thu\",\"Thu\",\"Thu\",\"Thu\",\"Thu\",\"Thu\",\"Thu\",\"Thu\",\"Thu\",\"Thu\",\"Thu\",\"Thu\",\"Thu\",\"Thu\",\"Thu\",\"Fri\",\"Fri\",\"Fri\",\"Fri\",\"Fri\",\"Fri\",\"Fri\",\"Fri\",\"Fri\",\"Fri\",\"Fri\",\"Fri\",\"Fri\",\"Fri\",\"Fri\",\"Fri\",\"Fri\",\"Fri\",\"Fri\",\"Fri\",\"Fri\",\"Fri\",\"Fri\",\"Fri\",\"Sat\",\"Sat\",\"Sat\",\"Sat\",\"Sat\",\"Sat\",\"Sat\",\"Sat\",\"Sat\",\"Sat\",\"Sat\",\"Sat\",\"Sat\",\"Sat\",\"Sat\",\"Sat\",\"Sat\",\"Sat\",\"Sat\",\"Sat\",\"Sat\",\"Sat\",\"Sat\",\"Sat\",\"Sun\",\"Sun\",\"Sun\",\"Sun\",\"Sun\",\"Sun\",\"Sun\",\"Sun\",\"Sun\",\"Sun\",\"Sun\",\"Sun\",\"Sun\",\"Sun\",\"Sun\",\"Sun\",\"Sun\",\"Sun\",\"Sun\",\"Sun\",\"Sun\",\"Sun\",\"Sun\",\"Sun\"],\"y\":[0.9878539253539252,0.9918758043758042,0.9941280566280568,0.9958172458172457,0.9967020592020592,0.9983108108108107,0.9834298584298584,0.9718468468468469,0.9555984555984556,0.8782175032175034,0.8348616473616473,0.8120173745173745,0.792953667953668,0.7888513513513513,0.798101673101673,0.8157979407979409,0.8194980694980695,0.8519948519948519,0.875965250965251,0.8848133848133847,0.9305019305019305,0.9512548262548263,0.9660553410553411,0.9851994851994852,0.9925193050193051,0.9957368082368082,0.9947715572715573,0.998471685971686,0.9985521235521235,0.9966216216216217,0.9831081081081081,0.9728120978120979,0.9665379665379665,0.8887548262548263,0.833011583011583,0.8088803088803089,0.796975546975547,0.7942406692406692,0.8013996138996139,0.8040540540540542,0.8108912483912485,0.8355855855855856,0.8595559845559846,0.8874678249678251,0.9282496782496782,0.9454633204633205,0.961068211068211,0.9818211068211068,1.0,1.0,1.0,0.9998391248391248,0.9995978120978121,0.998471685971686,0.9822232947232947,0.9706402831402832,0.9621138996138997,0.8809523809523809,0.8318050193050193,0.8087194337194338,0.7944015444015444,0.7927123552123553,0.8054214929214929,0.8140283140283141,0.8211068211068211,0.8392857142857143,0.8674388674388674,0.8818371943371943,0.9176319176319178,0.9420045045045045,0.961470398970399,0.984475546975547,0.9917149292149293,0.9912323037323038,0.9937258687258688,0.9961389961389961,0.9967824967824968,0.9961389961389961,0.9831081081081081,0.9719272844272844,0.9601833976833977,0.8831241956241958,0.8301962676962678,0.8114543114543115,0.8140283140283141,0.797940797940798,0.7985038610038611,0.8041344916344917,0.81515444015444,0.8355051480051481,0.8645431145431146,0.8801480051480053,0.9246299871299871,0.9449002574002573,0.9619530244530246,0.9824646074646076,0.9892213642213641,0.9920366795366795,0.9948519948519948,0.9980694980694981,0.999034749034749,0.9980694980694981,0.9822232947232947,0.9722490347490347,0.9595398970398971,0.8846525096525096,0.831483268983269,0.8096846846846847,0.8036518661518661,0.7856338481338481,0.8007561132561134,0.8086389961389961,0.8216698841698842,0.844514157014157,0.8601994851994852,0.8743564993564994,0.9111969111969113,0.936534749034749,0.9527027027027027,0.979086229086229,0.988497425997426,0.9943693693693694,0.9956563706563706,0.9958976833976834,0.9960585585585585,0.995978120978121,0.9902670527670527,0.9836711711711712,0.9827863577863578,0.9434523809523809,0.9199646074646074,0.8947072072072071,0.8914092664092663,0.8843307593307592,0.8873873873873874,0.8931788931788932,0.8839285714285714,0.8971203346203345,0.907979407979408,0.9084620334620335,0.9383848133848134,0.9488416988416988,0.9601833976833977,0.9786036036036037,0.98503861003861,0.9882561132561133,0.9900257400257401,0.9967824967824969,0.9983912483912484,0.9977477477477478,0.9946911196911197,0.9925997425997426,0.991956241956242,0.9477960102960102,0.9303410553410553,0.9062902187902188,0.8901222651222651,0.8833655083655083,0.8779761904761905,0.879424066924067,0.8806306306306306,0.8884330759330759,0.8883526383526384,0.9013835263835264,0.9379021879021878,0.9496460746460746,0.961470398970399,0.9823841698841699],\"type\":\"scatter\"},{\"fill\":\"tonexty\",\"fillcolor\":\"rgba(219, 64, 82, 0.3)\",\"line\":{\"color\":\"rgba(219, 64, 82, 1.0)\",\"dash\":\"solid\",\"shape\":\"linear\",\"width\":1.3},\"mode\":\"lines\",\"name\":\"errands\",\"text\":\"\",\"x\":[\"Mon\",\"Mon\",\"Mon\",\"Mon\",\"Mon\",\"Mon\",\"Mon\",\"Mon\",\"Mon\",\"Mon\",\"Mon\",\"Mon\",\"Mon\",\"Mon\",\"Mon\",\"Mon\",\"Mon\",\"Mon\",\"Mon\",\"Mon\",\"Mon\",\"Mon\",\"Mon\",\"Mon\",\"Tue\",\"Tue\",\"Tue\",\"Tue\",\"Tue\",\"Tue\",\"Tue\",\"Tue\",\"Tue\",\"Tue\",\"Tue\",\"Tue\",\"Tue\",\"Tue\",\"Tue\",\"Tue\",\"Tue\",\"Tue\",\"Tue\",\"Tue\",\"Tue\",\"Tue\",\"Tue\",\"Tue\",\"Wed\",\"Wed\",\"Wed\",\"Wed\",\"Wed\",\"Wed\",\"Wed\",\"Wed\",\"Wed\",\"Wed\",\"Wed\",\"Wed\",\"Wed\",\"Wed\",\"Wed\",\"Wed\",\"Wed\",\"Wed\",\"Wed\",\"Wed\",\"Wed\",\"Wed\",\"Wed\",\"Wed\",\"Thu\",\"Thu\",\"Thu\",\"Thu\",\"Thu\",\"Thu\",\"Thu\",\"Thu\",\"Thu\",\"Thu\",\"Thu\",\"Thu\",\"Thu\",\"Thu\",\"Thu\",\"Thu\",\"Thu\",\"Thu\",\"Thu\",\"Thu\",\"Thu\",\"Thu\",\"Thu\",\"Thu\",\"Fri\",\"Fri\",\"Fri\",\"Fri\",\"Fri\",\"Fri\",\"Fri\",\"Fri\",\"Fri\",\"Fri\",\"Fri\",\"Fri\",\"Fri\",\"Fri\",\"Fri\",\"Fri\",\"Fri\",\"Fri\",\"Fri\",\"Fri\",\"Fri\",\"Fri\",\"Fri\",\"Fri\",\"Sat\",\"Sat\",\"Sat\",\"Sat\",\"Sat\",\"Sat\",\"Sat\",\"Sat\",\"Sat\",\"Sat\",\"Sat\",\"Sat\",\"Sat\",\"Sat\",\"Sat\",\"Sat\",\"Sat\",\"Sat\",\"Sat\",\"Sat\",\"Sat\",\"Sat\",\"Sat\",\"Sat\",\"Sun\",\"Sun\",\"Sun\",\"Sun\",\"Sun\",\"Sun\",\"Sun\",\"Sun\",\"Sun\",\"Sun\",\"Sun\",\"Sun\",\"Sun\",\"Sun\",\"Sun\",\"Sun\",\"Sun\",\"Sun\",\"Sun\",\"Sun\",\"Sun\",\"Sun\",\"Sun\",\"Sun\"],\"y\":[0.9917953667953667,0.9942084942084941,0.9947715572715574,0.9958172458172457,0.9972651222651223,0.9992760617760618,0.9876930501930502,0.9848777348777349,0.9802927927927928,0.9228603603603605,0.9130469755469754,0.9102316602316602,0.9058880308880308,0.9069337194337194,0.9155405405405405,0.9241473616473618,0.9142535392535392,0.936534749034749,0.9407175032175032,0.9272844272844272,0.9603442728442728,0.9712837837837838,0.9750643500643501,0.9898648648648649,0.9950933075933076,0.996541184041184,0.9950933075933076,0.9986325611325612,0.9988738738738738,0.9982303732303733,0.9870495495495496,0.9830276705276706,0.9849581724581724,0.9206081081081081,0.9033140283140283,0.9062902187902189,0.9037162162162162,0.9036357786357786,0.9155405405405406,0.9177123552123553,0.9161036036036037,0.9354890604890604,0.9357303732303732,0.9386261261261262,0.9654118404118404,0.9705598455598455,0.9736969111969112,0.9892213642213642,1.0,1.0,1.0,0.9998391248391248,0.9995978120978121,0.9993564993564994,0.9861647361647362,0.9833494208494209,0.9840733590733591,0.9205276705276705,0.9087837837837838,0.9111164736164736,0.903957528957529,0.9016248391248392,0.9193211068211068,0.9213320463320465,0.9231821106821106,0.9323519948519948,0.9391087516087516,0.9337998712998713,0.9542310167310168,0.9644465894465895,0.9717664092664093,0.9893822393822393,0.9953346203346204,0.9941280566280567,0.9949324324324325,0.9963803088803089,0.9975868725868725,0.9976673101673101,0.9882561132561133,0.9860842985842986,0.9835907335907336,0.9259169884169886,0.9113577863577864,0.913931788931789,0.9201254826254827,0.9112773487773488,0.9140926640926641,0.9109555984555985,0.9175514800514799,0.9295366795366796,0.939430501930502,0.9293758043758045,0.9593790218790219,0.9687902187902186,0.9731338481338483,0.9895431145431147,0.9946106821106819,0.9942889317889317,0.9952541827541828,0.9980694980694981,0.9992760617760618,0.9987129987129987,0.984475546975547,0.9820624195624195,0.9791666666666667,0.9243886743886743,0.9080598455598455,0.9095881595881596,0.9121621621621622,0.9012226512226511,0.9193211068211069,0.91755148005148,0.9213320463320464,0.9317084942084942,0.9342020592020592,0.9316280566280567,0.9522200772200773,0.9638030888030887,0.9678249678249679,0.9870495495495495,0.9932432432432432,0.9962998712998713,0.9958172458172457,0.9963803088803088,0.9970238095238095,0.9976673101673101,0.9928410553410553,0.9899453024453024,0.9937258687258688,0.9576898326898327,0.9508526383526383,0.9388674388674387,0.9437741312741312,0.9410392535392534,0.9443371943371943,0.9527027027027027,0.9442567567567567,0.9492438867438866,0.9517374517374517,0.9444980694980695,0.9678249678249679,0.9693532818532817,0.974501287001287,0.986406048906049,0.9908301158301158,0.9915540540540541,0.9913931788931789,0.9967824967824969,0.9987129987129987,0.9985521235521235,0.9962998712998713,0.9953346203346203,0.9957368082368083,0.9590572715572715,0.9556788931788931,0.9416827541827542,0.9370173745173745,0.9402348777348777,0.9392696267696268,0.9359716859716861,0.9351673101673101,0.9429697554697554,0.9358912483912485,0.9375,0.967020592020592,0.9705598455598455,0.9712837837837838,0.9876930501930502],\"type\":\"scatter\"},{\"fill\":\"tonexty\",\"fillcolor\":\"rgba(0, 128, 128, 0.3)\",\"line\":{\"color\":\"rgba(0, 128, 128, 1.0)\",\"dash\":\"solid\",\"shape\":\"linear\",\"width\":1.3},\"mode\":\"lines\",\"name\":\"driving\",\"text\":\"\",\"x\":[\"Mon\",\"Mon\",\"Mon\",\"Mon\",\"Mon\",\"Mon\",\"Mon\",\"Mon\",\"Mon\",\"Mon\",\"Mon\",\"Mon\",\"Mon\",\"Mon\",\"Mon\",\"Mon\",\"Mon\",\"Mon\",\"Mon\",\"Mon\",\"Mon\",\"Mon\",\"Mon\",\"Mon\",\"Tue\",\"Tue\",\"Tue\",\"Tue\",\"Tue\",\"Tue\",\"Tue\",\"Tue\",\"Tue\",\"Tue\",\"Tue\",\"Tue\",\"Tue\",\"Tue\",\"Tue\",\"Tue\",\"Tue\",\"Tue\",\"Tue\",\"Tue\",\"Tue\",\"Tue\",\"Tue\",\"Tue\",\"Wed\",\"Wed\",\"Wed\",\"Wed\",\"Wed\",\"Wed\",\"Wed\",\"Wed\",\"Wed\",\"Wed\",\"Wed\",\"Wed\",\"Wed\",\"Wed\",\"Wed\",\"Wed\",\"Wed\",\"Wed\",\"Wed\",\"Wed\",\"Wed\",\"Wed\",\"Wed\",\"Wed\",\"Thu\",\"Thu\",\"Thu\",\"Thu\",\"Thu\",\"Thu\",\"Thu\",\"Thu\",\"Thu\",\"Thu\",\"Thu\",\"Thu\",\"Thu\",\"Thu\",\"Thu\",\"Thu\",\"Thu\",\"Thu\",\"Thu\",\"Thu\",\"Thu\",\"Thu\",\"Thu\",\"Thu\",\"Fri\",\"Fri\",\"Fri\",\"Fri\",\"Fri\",\"Fri\",\"Fri\",\"Fri\",\"Fri\",\"Fri\",\"Fri\",\"Fri\",\"Fri\",\"Fri\",\"Fri\",\"Fri\",\"Fri\",\"Fri\",\"Fri\",\"Fri\",\"Fri\",\"Fri\",\"Fri\",\"Fri\",\"Sat\",\"Sat\",\"Sat\",\"Sat\",\"Sat\",\"Sat\",\"Sat\",\"Sat\",\"Sat\",\"Sat\",\"Sat\",\"Sat\",\"Sat\",\"Sat\",\"Sat\",\"Sat\",\"Sat\",\"Sat\",\"Sat\",\"Sat\",\"Sat\",\"Sat\",\"Sat\",\"Sat\",\"Sun\",\"Sun\",\"Sun\",\"Sun\",\"Sun\",\"Sun\",\"Sun\",\"Sun\",\"Sun\",\"Sun\",\"Sun\",\"Sun\",\"Sun\",\"Sun\",\"Sun\",\"Sun\",\"Sun\",\"Sun\",\"Sun\",\"Sun\",\"Sun\",\"Sun\",\"Sun\",\"Sun\"],\"y\":[0.9999999999999999,0.9999999999999999,1.0000000000000002,0.9999999999999999,1.0,1.0,1.0,1.0,1.0,1.0,0.9999999999999999,1.0,1.0,0.9999999999999999,0.9999999999999999,1.0000000000000002,1.0,1.0,1.0,0.9999999999999999,1.0,1.0,1.0,1.0,1.0,0.9999999999999999,1.0,1.0,1.0,1.0,1.0,1.0,1.0,1.0,1.0,1.0,1.0,1.0,1.0,1.0,1.0,1.0,1.0,1.0,1.0,1.0,1.0,1.0,1.0,1.0,1.0,1.0,1.0,1.0,1.0,1.0,1.0,1.0,1.0,1.0,1.0,1.0,1.0,1.0000000000000002,1.0,1.0,1.0,1.0,1.0000000000000002,1.0,1.0,1.0,1.0,1.0,1.0,1.0,0.9999999999999999,1.0,1.0,1.0,1.0,1.0000000000000002,1.0,1.0,1.0,1.0,1.0,1.0,0.9999999999999999,1.0,1.0,1.0,1.0,0.9999999999999999,1.0000000000000002,1.0000000000000002,0.9999999999999998,1.0,1.0,1.0,1.0,1.0,1.0,0.9999999999999999,1.0,1.0,1.0,1.0,1.0,0.9999999999999999,1.0,1.0,1.0,1.0,1.0,1.0,1.0,0.9999999999999999,1.0,0.9999999999999999,1.0,1.0,0.9999999999999999,0.9999999999999999,1.0,1.0,0.9999999999999999,1.0,1.0,1.0,1.0,0.9999999999999999,1.0,0.9999999999999999,1.0,1.0,0.9999999999999999,0.9999999999999999,1.0,1.0,1.0,0.9999999999999999,1.0,1.0,1.0,1.0,1.0,1.0,1.0,1.0,1.0,1.0,1.0,0.9999999999999999,0.9999999999999999,1.0,1.0,1.0,1.0,1.0000000000000002,1.0,0.9999999999999999,1.0,1.0,1.0,1.0,1.0,1.0],\"type\":\"scatter\"}],                        {\"height\":700,\"legend\":{\"font\":{\"color\":\"black\",\"family\":\"Arial, sans-serif\",\"size\":12},\"orientation\":\"h\",\"x\":0.15,\"y\":1.04},\"margin\":{\"b\":50,\"l\":70,\"pad\":0,\"r\":15,\"t\":20},\"paper_bgcolor\":\"white\",\"plot_bgcolor\":\"white\",\"showlegend\":true,\"template\":{\"data\":{\"barpolar\":[{\"marker\":{\"line\":{\"color\":\"#E5ECF6\",\"width\":0.5},\"pattern\":{\"fillmode\":\"overlay\",\"size\":10,\"solidity\":0.2}},\"type\":\"barpolar\"}],\"bar\":[{\"error_x\":{\"color\":\"#2a3f5f\"},\"error_y\":{\"color\":\"#2a3f5f\"},\"marker\":{\"line\":{\"color\":\"#E5ECF6\",\"width\":0.5},\"pattern\":{\"fillmode\":\"overlay\",\"size\":10,\"solidity\":0.2}},\"type\":\"bar\"}],\"carpet\":[{\"aaxis\":{\"endlinecolor\":\"#2a3f5f\",\"gridcolor\":\"white\",\"linecolor\":\"white\",\"minorgridcolor\":\"white\",\"startlinecolor\":\"#2a3f5f\"},\"baxis\":{\"endlinecolor\":\"#2a3f5f\",\"gridcolor\":\"white\",\"linecolor\":\"white\",\"minorgridcolor\":\"white\",\"startlinecolor\":\"#2a3f5f\"},\"type\":\"carpet\"}],\"choropleth\":[{\"colorbar\":{\"outlinewidth\":0,\"ticks\":\"\"},\"type\":\"choropleth\"}],\"contourcarpet\":[{\"colorbar\":{\"outlinewidth\":0,\"ticks\":\"\"},\"type\":\"contourcarpet\"}],\"contour\":[{\"colorbar\":{\"outlinewidth\":0,\"ticks\":\"\"},\"colorscale\":[[0.0,\"#0d0887\"],[0.1111111111111111,\"#46039f\"],[0.2222222222222222,\"#7201a8\"],[0.3333333333333333,\"#9c179e\"],[0.4444444444444444,\"#bd3786\"],[0.5555555555555556,\"#d8576b\"],[0.6666666666666666,\"#ed7953\"],[0.7777777777777778,\"#fb9f3a\"],[0.8888888888888888,\"#fdca26\"],[1.0,\"#f0f921\"]],\"type\":\"contour\"}],\"heatmapgl\":[{\"colorbar\":{\"outlinewidth\":0,\"ticks\":\"\"},\"colorscale\":[[0.0,\"#0d0887\"],[0.1111111111111111,\"#46039f\"],[0.2222222222222222,\"#7201a8\"],[0.3333333333333333,\"#9c179e\"],[0.4444444444444444,\"#bd3786\"],[0.5555555555555556,\"#d8576b\"],[0.6666666666666666,\"#ed7953\"],[0.7777777777777778,\"#fb9f3a\"],[0.8888888888888888,\"#fdca26\"],[1.0,\"#f0f921\"]],\"type\":\"heatmapgl\"}],\"heatmap\":[{\"colorbar\":{\"outlinewidth\":0,\"ticks\":\"\"},\"colorscale\":[[0.0,\"#0d0887\"],[0.1111111111111111,\"#46039f\"],[0.2222222222222222,\"#7201a8\"],[0.3333333333333333,\"#9c179e\"],[0.4444444444444444,\"#bd3786\"],[0.5555555555555556,\"#d8576b\"],[0.6666666666666666,\"#ed7953\"],[0.7777777777777778,\"#fb9f3a\"],[0.8888888888888888,\"#fdca26\"],[1.0,\"#f0f921\"]],\"type\":\"heatmap\"}],\"histogram2dcontour\":[{\"colorbar\":{\"outlinewidth\":0,\"ticks\":\"\"},\"colorscale\":[[0.0,\"#0d0887\"],[0.1111111111111111,\"#46039f\"],[0.2222222222222222,\"#7201a8\"],[0.3333333333333333,\"#9c179e\"],[0.4444444444444444,\"#bd3786\"],[0.5555555555555556,\"#d8576b\"],[0.6666666666666666,\"#ed7953\"],[0.7777777777777778,\"#fb9f3a\"],[0.8888888888888888,\"#fdca26\"],[1.0,\"#f0f921\"]],\"type\":\"histogram2dcontour\"}],\"histogram2d\":[{\"colorbar\":{\"outlinewidth\":0,\"ticks\":\"\"},\"colorscale\":[[0.0,\"#0d0887\"],[0.1111111111111111,\"#46039f\"],[0.2222222222222222,\"#7201a8\"],[0.3333333333333333,\"#9c179e\"],[0.4444444444444444,\"#bd3786\"],[0.5555555555555556,\"#d8576b\"],[0.6666666666666666,\"#ed7953\"],[0.7777777777777778,\"#fb9f3a\"],[0.8888888888888888,\"#fdca26\"],[1.0,\"#f0f921\"]],\"type\":\"histogram2d\"}],\"histogram\":[{\"marker\":{\"pattern\":{\"fillmode\":\"overlay\",\"size\":10,\"solidity\":0.2}},\"type\":\"histogram\"}],\"mesh3d\":[{\"colorbar\":{\"outlinewidth\":0,\"ticks\":\"\"},\"type\":\"mesh3d\"}],\"parcoords\":[{\"line\":{\"colorbar\":{\"outlinewidth\":0,\"ticks\":\"\"}},\"type\":\"parcoords\"}],\"pie\":[{\"automargin\":true,\"type\":\"pie\"}],\"scatter3d\":[{\"line\":{\"colorbar\":{\"outlinewidth\":0,\"ticks\":\"\"}},\"marker\":{\"colorbar\":{\"outlinewidth\":0,\"ticks\":\"\"}},\"type\":\"scatter3d\"}],\"scattercarpet\":[{\"marker\":{\"colorbar\":{\"outlinewidth\":0,\"ticks\":\"\"}},\"type\":\"scattercarpet\"}],\"scattergeo\":[{\"marker\":{\"colorbar\":{\"outlinewidth\":0,\"ticks\":\"\"}},\"type\":\"scattergeo\"}],\"scattergl\":[{\"marker\":{\"colorbar\":{\"outlinewidth\":0,\"ticks\":\"\"}},\"type\":\"scattergl\"}],\"scattermapbox\":[{\"marker\":{\"colorbar\":{\"outlinewidth\":0,\"ticks\":\"\"}},\"type\":\"scattermapbox\"}],\"scatterpolargl\":[{\"marker\":{\"colorbar\":{\"outlinewidth\":0,\"ticks\":\"\"}},\"type\":\"scatterpolargl\"}],\"scatterpolar\":[{\"marker\":{\"colorbar\":{\"outlinewidth\":0,\"ticks\":\"\"}},\"type\":\"scatterpolar\"}],\"scatter\":[{\"fillpattern\":{\"fillmode\":\"overlay\",\"size\":10,\"solidity\":0.2},\"type\":\"scatter\"}],\"scatterternary\":[{\"marker\":{\"colorbar\":{\"outlinewidth\":0,\"ticks\":\"\"}},\"type\":\"scatterternary\"}],\"surface\":[{\"colorbar\":{\"outlinewidth\":0,\"ticks\":\"\"},\"colorscale\":[[0.0,\"#0d0887\"],[0.1111111111111111,\"#46039f\"],[0.2222222222222222,\"#7201a8\"],[0.3333333333333333,\"#9c179e\"],[0.4444444444444444,\"#bd3786\"],[0.5555555555555556,\"#d8576b\"],[0.6666666666666666,\"#ed7953\"],[0.7777777777777778,\"#fb9f3a\"],[0.8888888888888888,\"#fdca26\"],[1.0,\"#f0f921\"]],\"type\":\"surface\"}],\"table\":[{\"cells\":{\"fill\":{\"color\":\"#EBF0F8\"},\"line\":{\"color\":\"white\"}},\"header\":{\"fill\":{\"color\":\"#C8D4E3\"},\"line\":{\"color\":\"white\"}},\"type\":\"table\"}]},\"layout\":{\"annotationdefaults\":{\"arrowcolor\":\"#2a3f5f\",\"arrowhead\":0,\"arrowwidth\":1},\"autotypenumbers\":\"strict\",\"coloraxis\":{\"colorbar\":{\"outlinewidth\":0,\"ticks\":\"\"}},\"colorscale\":{\"diverging\":[[0,\"#8e0152\"],[0.1,\"#c51b7d\"],[0.2,\"#de77ae\"],[0.3,\"#f1b6da\"],[0.4,\"#fde0ef\"],[0.5,\"#f7f7f7\"],[0.6,\"#e6f5d0\"],[0.7,\"#b8e186\"],[0.8,\"#7fbc41\"],[0.9,\"#4d9221\"],[1,\"#276419\"]],\"sequential\":[[0.0,\"#0d0887\"],[0.1111111111111111,\"#46039f\"],[0.2222222222222222,\"#7201a8\"],[0.3333333333333333,\"#9c179e\"],[0.4444444444444444,\"#bd3786\"],[0.5555555555555556,\"#d8576b\"],[0.6666666666666666,\"#ed7953\"],[0.7777777777777778,\"#fb9f3a\"],[0.8888888888888888,\"#fdca26\"],[1.0,\"#f0f921\"]],\"sequentialminus\":[[0.0,\"#0d0887\"],[0.1111111111111111,\"#46039f\"],[0.2222222222222222,\"#7201a8\"],[0.3333333333333333,\"#9c179e\"],[0.4444444444444444,\"#bd3786\"],[0.5555555555555556,\"#d8576b\"],[0.6666666666666666,\"#ed7953\"],[0.7777777777777778,\"#fb9f3a\"],[0.8888888888888888,\"#fdca26\"],[1.0,\"#f0f921\"]]},\"colorway\":[\"#636efa\",\"#EF553B\",\"#00cc96\",\"#ab63fa\",\"#FFA15A\",\"#19d3f3\",\"#FF6692\",\"#B6E880\",\"#FF97FF\",\"#FECB52\"],\"font\":{\"color\":\"#2a3f5f\"},\"geo\":{\"bgcolor\":\"white\",\"lakecolor\":\"white\",\"landcolor\":\"#E5ECF6\",\"showlakes\":true,\"showland\":true,\"subunitcolor\":\"white\"},\"hoverlabel\":{\"align\":\"left\"},\"hovermode\":\"closest\",\"mapbox\":{\"style\":\"light\"},\"paper_bgcolor\":\"white\",\"plot_bgcolor\":\"#E5ECF6\",\"polar\":{\"angularaxis\":{\"gridcolor\":\"white\",\"linecolor\":\"white\",\"ticks\":\"\"},\"bgcolor\":\"#E5ECF6\",\"radialaxis\":{\"gridcolor\":\"white\",\"linecolor\":\"white\",\"ticks\":\"\"}},\"scene\":{\"xaxis\":{\"backgroundcolor\":\"#E5ECF6\",\"gridcolor\":\"white\",\"gridwidth\":2,\"linecolor\":\"white\",\"showbackground\":true,\"ticks\":\"\",\"zerolinecolor\":\"white\"},\"yaxis\":{\"backgroundcolor\":\"#E5ECF6\",\"gridcolor\":\"white\",\"gridwidth\":2,\"linecolor\":\"white\",\"showbackground\":true,\"ticks\":\"\",\"zerolinecolor\":\"white\"},\"zaxis\":{\"backgroundcolor\":\"#E5ECF6\",\"gridcolor\":\"white\",\"gridwidth\":2,\"linecolor\":\"white\",\"showbackground\":true,\"ticks\":\"\",\"zerolinecolor\":\"white\"}},\"shapedefaults\":{\"line\":{\"color\":\"#2a3f5f\"}},\"ternary\":{\"aaxis\":{\"gridcolor\":\"white\",\"linecolor\":\"white\",\"ticks\":\"\"},\"baxis\":{\"gridcolor\":\"white\",\"linecolor\":\"white\",\"ticks\":\"\"},\"bgcolor\":\"#E5ECF6\",\"caxis\":{\"gridcolor\":\"white\",\"linecolor\":\"white\",\"ticks\":\"\"}},\"title\":{\"x\":0.05},\"xaxis\":{\"automargin\":true,\"gridcolor\":\"white\",\"linecolor\":\"white\",\"ticks\":\"\",\"title\":{\"standoff\":15},\"zerolinecolor\":\"white\",\"zerolinewidth\":2},\"yaxis\":{\"automargin\":true,\"gridcolor\":\"white\",\"linecolor\":\"white\",\"ticks\":\"\",\"title\":{\"standoff\":15},\"zerolinecolor\":\"white\",\"zerolinewidth\":2}}},\"width\":1000,\"xaxis\":{\"automargin\":false,\"linecolor\":\"black\",\"linewidth\":2,\"showgrid\":false,\"showline\":true,\"showticklabels\":true,\"tickfont\":{\"color\":\"black\",\"family\":\"Arial, sans-serif\",\"size\":7},\"ticklen\":2,\"tickmode\":\"array\",\"ticks\":\"outside\",\"ticktext\":[\"00:00<br>\",\"06:00<br>\",\"12:00<br>Monday\",\"18:00<br>\",\"00:00<br>\",\"06:00<br>\",\"12:00<br>Tuesday\",\"18:00<br>\",\"00:00<br>\",\"06:00<br>\",\"12:00<br>Wednesday\",\"18:00<br>\",\"00:00<br>\",\"06:00<br>\",\"12:00<br>Thursday\",\"18:00<br>\",\"00:00<br>\",\"06:00<br>\",\"12:00<br>Friday\",\"18:00<br>\",\"00:00<br>\",\"06:00<br>\",\"12:00<br>Saturday\",\"18:00<br>\",\"00:00<br>\",\"06:00<br>\",\"12:00<br>Sunday\",\"18:00<br>\",\"23:00<br>\"],\"tickvals\":[\"00,Mon\",\"06,Mon\",\"12,Mon\",\"18,Mon\",\"00,Tue\",\"06,Tue\",\"12,Tue\",\"18,Tue\",\"00,Wed\",\"06,Wed\",\"12,Wed\",\"18,Wed\",\"00,Thu\",\"06,Thu\",\"12,Thu\",\"18,Thu\",\"00,Fri\",\"06,Fri\",\"12,Fri\",\"18,Fri\",\"00,Sat\",\"06,Sat\",\"12,Sat\",\"18,Sat\",\"00,Sun\",\"06,Sun\",\"12,Sun\",\"18,Sun\",\"23,Sun\"],\"tickwidth\":2},\"yaxis\":{\"domain\":[0.0,0.5],\"dtick\":5,\"linecolor\":\"black\",\"linewidth\":2,\"range\":[0,35],\"rangemode\":\"tozero\",\"showgrid\":true,\"showline\":true,\"tickfont\":{\"color\":\"black\",\"family\":\"Arial, sans-serif\",\"size\":12},\"tickformat\":\",.0%\",\"ticklen\":2,\"ticks\":\"outside\",\"tickwidth\":2,\"title\":{\"text\":\"Grid electricity demand (kWh)\"},\"zeroline\":true}},                        {\"responsive\": true}                    ).then(function(){\n",
       "                            \n",
       "var gd = document.getElementById('bf69cde9-90e1-438c-99df-26054216ab7d');\n",
       "var x = new MutationObserver(function (mutations, observer) {{\n",
       "        var display = window.getComputedStyle(gd).display;\n",
       "        if (!display || display === 'none') {{\n",
       "            console.log([gd, 'removed!']);\n",
       "            Plotly.purge(gd);\n",
       "            observer.disconnect();\n",
       "        }}\n",
       "}});\n",
       "\n",
       "// Listen for the removal of the full notebook cells\n",
       "var notebookContainer = gd.closest('#notebook-container');\n",
       "if (notebookContainer) {{\n",
       "    x.observe(notebookContainer, {childList: true});\n",
       "}}\n",
       "\n",
       "// Listen for the clearing of the current output cell\n",
       "var outputEl = gd.closest('.output');\n",
       "if (outputEl) {{\n",
       "    x.observe(outputEl, {childList: true});\n",
       "}}\n",
       "\n",
       "                        })                };                });            </script>        </div>"
      ]
     },
     "metadata": {},
     "output_type": "display_data"
    }
   ],
   "source": [
    "# Final customization\n",
    "\n",
    "fig['layout']['xaxis'].update({'showticklabels':True})\n",
    "xaxisdct = {'automargin': False,\n",
    "              'showgrid': False,\n",
    "              'showline': True,\n",
    "#               'zeroline':True,\n",
    "              'tickmode':'array',\n",
    "              'tickvals': ['00,Mon', '06,Mon', '12,Mon', '18,Mon',\n",
    "                           '00,Tue', '06,Tue', '12,Tue', '18,Tue',\n",
    "                           '00,Wed', '06,Wed', '12,Wed', '18,Wed',\n",
    "                           '00,Thu', '06,Thu', '12,Thu', '18,Thu',\n",
    "                           '00,Fri', '06,Fri', '12,Fri', '18,Fri',\n",
    "                           '00,Sat', '06,Sat', '12,Sat', '18,Sat',\n",
    "                           '00,Sun', '06,Sun', '12,Sun', '18,Sun','23,Sun'],\n",
    "              'ticktext': ['00:00<br>', '06:00<br>', '12:00<br>Monday', '18:00<br>',\n",
    "                           '00:00<br>', '06:00<br>', '12:00<br>Tuesday', '18:00<br>',\n",
    "                           '00:00<br>', '06:00<br>', '12:00<br>Wednesday', '18:00<br>',\n",
    "                           '00:00<br>', '06:00<br>', '12:00<br>Thursday', '18:00<br>',\n",
    "                           '00:00<br>', '06:00<br>', '12:00<br>Friday', '18:00<br>',\n",
    "                           '00:00<br>', '06:00<br>', '12:00<br>Saturday', '18:00<br>',\n",
    "                           '00:00<br>', '06:00<br>', '12:00<br>Sunday', '18:00<br>','23:00<br>'],\n",
    "               'ticklen': 2,\n",
    "             'tickwidth': 2,\n",
    "              'tickfont':{'family': 'Arial, sans-serif',\n",
    "                            'size': 7,\n",
    "                           'color': 'black'},\n",
    "             'linewidth': 2,\n",
    "#          'zerolinecolor': '#969696',\n",
    "#          'zerolinewidth': 2,\n",
    "        'showticklabels':True,\n",
    "                \"ticks\":\"outside\",\n",
    "                'ticklen': 2,\n",
    "                'tickwidth': 2,\n",
    "            'linecolor': 'black',\n",
    "           }\n",
    "fig['layout']['xaxis'].update(xaxisdct)\n",
    "fig['layout']['xaxis'].update({'showticklabels':True})\n",
    "\n",
    "\n",
    "iplot(fig,show_link=False)"
   ]
  },
  {
   "cell_type": "code",
   "execution_count": 245,
   "id": "0dd655d2",
   "metadata": {},
   "outputs": [
    {
     "data": {
      "text/plain": [
       "Layout({\n",
       "    'height': 700,\n",
       "    'legend': {'font': {'color': 'black', 'family': 'Arial, sans-serif', 'size': 12},\n",
       "               'orientation': 'h',\n",
       "               'x': 0.15,\n",
       "               'y': 1.04},\n",
       "    'margin': {'b': 50, 'l': 70, 'pad': 0, 'r': 15, 't': 20},\n",
       "    'paper_bgcolor': 'white',\n",
       "    'plot_bgcolor': 'white',\n",
       "    'showlegend': True,\n",
       "    'template': '...',\n",
       "    'width': 1000,\n",
       "    'xaxis': {'automargin': False,\n",
       "              'linecolor': 'black',\n",
       "              'linewidth': 2,\n",
       "              'showgrid': False,\n",
       "              'showline': True,\n",
       "              'showticklabels': True,\n",
       "              'tickfont': {'color': 'black', 'family': 'Arial, sans-serif', 'size': 7},\n",
       "              'ticklen': 2,\n",
       "              'tickmode': 'array',\n",
       "              'ticks': 'outside',\n",
       "              'ticktext': [00:00<br>, 06:00<br>, 12:00<br>Monday, 18:00<br>,\n",
       "                           00:00<br>, 06:00<br>, 12:00<br>Tuesday, 18:00<br>,\n",
       "                           00:00<br>, 06:00<br>, 12:00<br>Wednesday, 18:00<br>,\n",
       "                           00:00<br>, 06:00<br>, 12:00<br>Thursday, 18:00<br>,\n",
       "                           00:00<br>, 06:00<br>, 12:00<br>Friday, 18:00<br>,\n",
       "                           00:00<br>, 06:00<br>, 12:00<br>Saturday, 18:00<br>,\n",
       "                           00:00<br>, 06:00<br>, 12:00<br>Sunday, 18:00<br>,\n",
       "                           23:00<br>],\n",
       "              'tickvals': [00,Mon, 06,Mon, 12,Mon, 18,Mon, 00,Tue, 06,Tue, 12,Tue,\n",
       "                           18,Tue, 00,Wed, 06,Wed, 12,Wed, 18,Wed, 00,Thu, 06,Thu,\n",
       "                           12,Thu, 18,Thu, 00,Fri, 06,Fri, 12,Fri, 18,Fri, 00,Sat,\n",
       "                           06,Sat, 12,Sat, 18,Sat, 00,Sun, 06,Sun, 12,Sun, 18,Sun,\n",
       "                           23,Sun],\n",
       "              'tickwidth': 2},\n",
       "    'yaxis': {'domain': [0.0, 0.5],\n",
       "              'dtick': 5,\n",
       "              'linecolor': 'black',\n",
       "              'linewidth': 2,\n",
       "              'range': [0, 35],\n",
       "              'rangemode': 'tozero',\n",
       "              'showgrid': True,\n",
       "              'showline': True,\n",
       "              'tickfont': {'color': 'black', 'family': 'Arial, sans-serif', 'size': 12},\n",
       "              'tickformat': ',.0%',\n",
       "              'ticklen': 2,\n",
       "              'ticks': 'outside',\n",
       "              'tickwidth': 2,\n",
       "              'title': {'text': 'Grid electricity demand (kWh)'},\n",
       "              'zeroline': True}\n",
       "})"
      ]
     },
     "execution_count": 245,
     "metadata": {},
     "output_type": "execute_result"
    }
   ],
   "source": [
    "fig['layout']['xaxis'].update(xaxisdct)\n",
    "\n",
    "fig['layout']['yaxis'].update({'title': 'Share',\n",
    "                           'titlefont': {'size':12},\n",
    "                            'showgrid': False,'showline':True,'rangemode':\"tozero\", 'zeroline' : True,\n",
    "                              'domain': [0.6, 1.0],'tickformat' : ',.0%',\n",
    "                            'tickfont': {'family': 'Arial, sans-serif',\n",
    "                                           'size': 12,\n",
    "                                          'color': 'black'},\n",
    "                           'linewidth':2,\n",
    "                            \"ticks\":\"outside\",\n",
    "                            'ticklen': 2,\n",
    "                            'tickwidth': 2,\n",
    "                               'linecolor': 'black',\n",
    "                              })\n",
    "fig['layout']['yaxis'].update({'title': 'Grid electricity demand (kWh)',\n",
    "                            'titlefont': {'size':12},\n",
    "                             'showgrid': True,'showline':True,'rangemode':\"tozero\",\n",
    "                               'domain': [0.0, 0.5],\n",
    "                             'tickfont': {'family': 'Arial, sans-serif',\n",
    "                                            'size': 12,\n",
    "                                           'color': 'black'},\n",
    "                            'linewidth':2,\n",
    "                                'range': [0,35],\n",
    "                                'dtick': 5,\n",
    "                            \"ticks\":\"outside\",\n",
    "                            'ticklen': 2,\n",
    "                            'tickwidth': 2,\n",
    "                            'linecolor': 'black',\n",
    "                               })\n",
    "\n",
    "fig['layout'].update({'paper_bgcolor': 'white',\n",
    "                       'plot_bgcolor': 'white',\n",
    "                             'margin': dict(l=70, r=15, t=20, b=50, pad=0),\n",
    "                              'width': 1000,\n",
    "                             'height': 700,\n",
    "                         'showlegend': True,\n",
    "                             'legend': {'orientation': 'h','x': 0.15, 'y': 1.04,\n",
    "                                        'font': dict(family= 'Arial, sans-serif',\n",
    "                                                       size= 12,\n",
    "                                                      color= 'black')}\n",
    "                     })"
   ]
  },
  {
   "cell_type": "code",
   "execution_count": 44,
   "id": "19f94cf9",
   "metadata": {},
   "outputs": [
    {
     "data": {
      "text/html": [
       "        <script type=\"text/javascript\">\n",
       "        window.PlotlyConfig = {MathJaxConfig: 'local'};\n",
       "        if (window.MathJax && window.MathJax.Hub && window.MathJax.Hub.Config) {window.MathJax.Hub.Config({SVG: {font: \"STIX-Web\"}});}\n",
       "        if (typeof require !== 'undefined') {\n",
       "        require.undef(\"plotly\");\n",
       "        requirejs.config({\n",
       "            paths: {\n",
       "                'plotly': ['https://cdn.plot.ly/plotly-2.12.1.min']\n",
       "            }\n",
       "        });\n",
       "        require(['plotly'], function(Plotly) {\n",
       "            window._Plotly = Plotly;\n",
       "        });\n",
       "        }\n",
       "        </script>\n",
       "        "
      ]
     },
     "metadata": {},
     "output_type": "display_data"
    },
    {
     "ename": "NameError",
     "evalue": "name 'used_profile' is not defined",
     "output_type": "error",
     "traceback": [
      "\u001b[0;31m---------------------------------------------------------------------------\u001b[0m",
      "\u001b[0;31mNameError\u001b[0m                                 Traceback (most recent call last)",
      "\u001b[0;32m/var/folders/xb/lfd6_z7178g_6zv_ygw5vd4m0000gp/T/ipykernel_1592/181640589.py\u001b[0m in \u001b[0;36m<module>\u001b[0;34m\u001b[0m\n\u001b[1;32m      1\u001b[0m \u001b[0;32mfrom\u001b[0m \u001b[0memobpy\u001b[0m\u001b[0;34m.\u001b[0m\u001b[0mplot\u001b[0m \u001b[0;32mimport\u001b[0m \u001b[0mNBplot\u001b[0m\u001b[0;34m\u001b[0m\u001b[0;34m\u001b[0m\u001b[0m\n\u001b[1;32m      2\u001b[0m \u001b[0;34m\u001b[0m\u001b[0m\n\u001b[0;32m----> 3\u001b[0;31m \u001b[0mDB\u001b[0m \u001b[0;34m=\u001b[0m \u001b[0mDataBase\u001b[0m\u001b[0;34m(\u001b[0m\u001b[0mos\u001b[0m\u001b[0;34m.\u001b[0m\u001b[0mpath\u001b[0m\u001b[0;34m.\u001b[0m\u001b[0mjoin\u001b[0m\u001b[0;34m(\u001b[0m\u001b[0mused_profile\u001b[0m\u001b[0;34m,\u001b[0m \u001b[0;34m\"0\"\u001b[0m\u001b[0;34m)\u001b[0m\u001b[0;34m)\u001b[0m\u001b[0;34m\u001b[0m\u001b[0;34m\u001b[0m\u001b[0m\n\u001b[0m\u001b[1;32m      4\u001b[0m \u001b[0mDB\u001b[0m\u001b[0;34m.\u001b[0m\u001b[0mupdate\u001b[0m\u001b[0;34m(\u001b[0m\u001b[0;34m)\u001b[0m\u001b[0;34m\u001b[0m\u001b[0;34m\u001b[0m\u001b[0m\n\u001b[1;32m      5\u001b[0m \u001b[0mDB\u001b[0m\u001b[0;34m.\u001b[0m\u001b[0mloadfiles\u001b[0m\u001b[0;34m(\u001b[0m\u001b[0;34m)\u001b[0m\u001b[0;34m\u001b[0m\u001b[0;34m\u001b[0m\u001b[0m\n",
      "\u001b[0;31mNameError\u001b[0m: name 'used_profile' is not defined"
     ]
    }
   ],
   "source": [
    "from emobpy.plot import NBplot\n",
    "\n",
    "DB = DataBase(os.path.join(used_profile, \"0\"))\n",
    "DB.update()\n",
    "DB.loadfiles()\n",
    "PLT = NBplot(DB)\n",
    "\n",
    "m = DB.db[\n",
    "    list(DB.db.keys())[0]\n",
    "]"
   ]
  },
  {
   "cell_type": "code",
   "execution_count": 45,
   "id": "b323d67e",
   "metadata": {},
   "outputs": [
    {
     "ename": "NameError",
     "evalue": "name 'PLT' is not defined",
     "output_type": "error",
     "traceback": [
      "\u001b[0;31m---------------------------------------------------------------------------\u001b[0m",
      "\u001b[0;31mNameError\u001b[0m                                 Traceback (most recent call last)",
      "\u001b[0;32m/var/folders/xb/lfd6_z7178g_6zv_ygw5vd4m0000gp/T/ipykernel_1592/2373008759.py\u001b[0m in \u001b[0;36m<module>\u001b[0;34m\u001b[0m\n\u001b[0;32m----> 1\u001b[0;31m \u001b[0mfig_availability\u001b[0m \u001b[0;34m=\u001b[0m \u001b[0mPLT\u001b[0m\u001b[0;34m.\u001b[0m\u001b[0msgplot_ga\u001b[0m\u001b[0;34m(\u001b[0m\u001b[0mga\u001b[0m\u001b[0;34m[\u001b[0m\u001b[0;34m\"name\"\u001b[0m\u001b[0;34m]\u001b[0m\u001b[0;34m,\u001b[0m \u001b[0mrng\u001b[0m\u001b[0;34m=\u001b[0m\u001b[0;32mNone\u001b[0m\u001b[0;34m,\u001b[0m \u001b[0mto_html\u001b[0m\u001b[0;34m=\u001b[0m\u001b[0;32mFalse\u001b[0m\u001b[0;34m,\u001b[0m \u001b[0mpath\u001b[0m\u001b[0;34m=\u001b[0m\u001b[0;32mNone\u001b[0m\u001b[0;34m)\u001b[0m\u001b[0;34m\u001b[0m\u001b[0;34m\u001b[0m\u001b[0m\n\u001b[0m\u001b[1;32m      2\u001b[0m \u001b[0mfig_availability\u001b[0m\u001b[0;34m\u001b[0m\u001b[0;34m\u001b[0m\u001b[0m\n",
      "\u001b[0;31mNameError\u001b[0m: name 'PLT' is not defined"
     ]
    }
   ],
   "source": [
    "fig_availability = PLT.sgplot_ga(ga[\"name\"], rng=None, to_html=False, path=None)\n",
    "fig_availability"
   ]
  },
  {
   "cell_type": "code",
   "execution_count": 66,
   "id": "ae15737a",
   "metadata": {},
   "outputs": [
    {
     "name": "stdout",
     "output_type": "stream",
     "text": [
      "Consumption [kWh]: 3.951\n",
      "Distance [km]: 537.0\n",
      "Specific consumption [kWh/100 km]: 0.736\n"
     ]
    },
    {
     "data": {
      "application/vnd.plotly.v1+json": {
       "config": {
        "plotlyServerURL": "https://plot.ly"
       },
       "data": [
        {
         "link": {
          "source": [
           0,
           1,
           2,
           3,
           3,
           3,
           3,
           4,
           4,
           5,
           5,
           6,
           6,
           8,
           8,
           9,
           9,
           9,
           9,
           16,
           17,
           14,
           14,
           15,
           15,
           10,
           19,
           19,
           7,
           7,
           11,
           12,
           13
          ],
          "target": [
           5,
           14,
           3,
           18,
           5,
           13,
           6,
           3,
           18,
           11,
           12,
           8,
           18,
           9,
           18,
           16,
           17,
           14,
           15,
           18,
           18,
           10,
           18,
           10,
           18,
           19,
           7,
           18,
           4,
           18,
           18,
           18,
           18
          ],
          "value": [
           0,
           null,
           3.9506140350877184,
           0.19753070175438608,
           0,
           3.7530833333333335,
           0,
           0,
           0,
           0,
           0,
           0,
           0,
           0,
           0,
           null,
           null,
           null,
           null,
           null,
           null,
           null,
           null,
           null,
           null,
           null,
           0,
           0,
           0,
           0,
           0,
           0,
           3.7530833333333335
          ]
         },
         "node": {
          "label": [
           "Heat source",
           "Potential energy",
           "Battery",
           "Discharge",
           "reg_braking",
           "HVAC",
           "Motor",
           "Generator",
           "Transmission of traction",
           "Wheel",
           "Kinetic energy",
           "Cooling",
           "Heating",
           "Auxiliary",
           "Gravity force",
           "Acceleration force",
           "Rolling resistance",
           "Air resistance",
           "Losses",
           "Transmission of regenerative"
          ],
          "pad": 50,
          "thickness": 10
         },
         "type": "sankey"
        }
       ],
       "layout": {
        "template": {
         "data": {
          "bar": [
           {
            "error_x": {
             "color": "#2a3f5f"
            },
            "error_y": {
             "color": "#2a3f5f"
            },
            "marker": {
             "line": {
              "color": "#E5ECF6",
              "width": 0.5
             },
             "pattern": {
              "fillmode": "overlay",
              "size": 10,
              "solidity": 0.2
             }
            },
            "type": "bar"
           }
          ],
          "barpolar": [
           {
            "marker": {
             "line": {
              "color": "#E5ECF6",
              "width": 0.5
             },
             "pattern": {
              "fillmode": "overlay",
              "size": 10,
              "solidity": 0.2
             }
            },
            "type": "barpolar"
           }
          ],
          "carpet": [
           {
            "aaxis": {
             "endlinecolor": "#2a3f5f",
             "gridcolor": "white",
             "linecolor": "white",
             "minorgridcolor": "white",
             "startlinecolor": "#2a3f5f"
            },
            "baxis": {
             "endlinecolor": "#2a3f5f",
             "gridcolor": "white",
             "linecolor": "white",
             "minorgridcolor": "white",
             "startlinecolor": "#2a3f5f"
            },
            "type": "carpet"
           }
          ],
          "choropleth": [
           {
            "colorbar": {
             "outlinewidth": 0,
             "ticks": ""
            },
            "type": "choropleth"
           }
          ],
          "contour": [
           {
            "colorbar": {
             "outlinewidth": 0,
             "ticks": ""
            },
            "colorscale": [
             [
              0,
              "#0d0887"
             ],
             [
              0.1111111111111111,
              "#46039f"
             ],
             [
              0.2222222222222222,
              "#7201a8"
             ],
             [
              0.3333333333333333,
              "#9c179e"
             ],
             [
              0.4444444444444444,
              "#bd3786"
             ],
             [
              0.5555555555555556,
              "#d8576b"
             ],
             [
              0.6666666666666666,
              "#ed7953"
             ],
             [
              0.7777777777777778,
              "#fb9f3a"
             ],
             [
              0.8888888888888888,
              "#fdca26"
             ],
             [
              1,
              "#f0f921"
             ]
            ],
            "type": "contour"
           }
          ],
          "contourcarpet": [
           {
            "colorbar": {
             "outlinewidth": 0,
             "ticks": ""
            },
            "type": "contourcarpet"
           }
          ],
          "heatmap": [
           {
            "colorbar": {
             "outlinewidth": 0,
             "ticks": ""
            },
            "colorscale": [
             [
              0,
              "#0d0887"
             ],
             [
              0.1111111111111111,
              "#46039f"
             ],
             [
              0.2222222222222222,
              "#7201a8"
             ],
             [
              0.3333333333333333,
              "#9c179e"
             ],
             [
              0.4444444444444444,
              "#bd3786"
             ],
             [
              0.5555555555555556,
              "#d8576b"
             ],
             [
              0.6666666666666666,
              "#ed7953"
             ],
             [
              0.7777777777777778,
              "#fb9f3a"
             ],
             [
              0.8888888888888888,
              "#fdca26"
             ],
             [
              1,
              "#f0f921"
             ]
            ],
            "type": "heatmap"
           }
          ],
          "heatmapgl": [
           {
            "colorbar": {
             "outlinewidth": 0,
             "ticks": ""
            },
            "colorscale": [
             [
              0,
              "#0d0887"
             ],
             [
              0.1111111111111111,
              "#46039f"
             ],
             [
              0.2222222222222222,
              "#7201a8"
             ],
             [
              0.3333333333333333,
              "#9c179e"
             ],
             [
              0.4444444444444444,
              "#bd3786"
             ],
             [
              0.5555555555555556,
              "#d8576b"
             ],
             [
              0.6666666666666666,
              "#ed7953"
             ],
             [
              0.7777777777777778,
              "#fb9f3a"
             ],
             [
              0.8888888888888888,
              "#fdca26"
             ],
             [
              1,
              "#f0f921"
             ]
            ],
            "type": "heatmapgl"
           }
          ],
          "histogram": [
           {
            "marker": {
             "pattern": {
              "fillmode": "overlay",
              "size": 10,
              "solidity": 0.2
             }
            },
            "type": "histogram"
           }
          ],
          "histogram2d": [
           {
            "colorbar": {
             "outlinewidth": 0,
             "ticks": ""
            },
            "colorscale": [
             [
              0,
              "#0d0887"
             ],
             [
              0.1111111111111111,
              "#46039f"
             ],
             [
              0.2222222222222222,
              "#7201a8"
             ],
             [
              0.3333333333333333,
              "#9c179e"
             ],
             [
              0.4444444444444444,
              "#bd3786"
             ],
             [
              0.5555555555555556,
              "#d8576b"
             ],
             [
              0.6666666666666666,
              "#ed7953"
             ],
             [
              0.7777777777777778,
              "#fb9f3a"
             ],
             [
              0.8888888888888888,
              "#fdca26"
             ],
             [
              1,
              "#f0f921"
             ]
            ],
            "type": "histogram2d"
           }
          ],
          "histogram2dcontour": [
           {
            "colorbar": {
             "outlinewidth": 0,
             "ticks": ""
            },
            "colorscale": [
             [
              0,
              "#0d0887"
             ],
             [
              0.1111111111111111,
              "#46039f"
             ],
             [
              0.2222222222222222,
              "#7201a8"
             ],
             [
              0.3333333333333333,
              "#9c179e"
             ],
             [
              0.4444444444444444,
              "#bd3786"
             ],
             [
              0.5555555555555556,
              "#d8576b"
             ],
             [
              0.6666666666666666,
              "#ed7953"
             ],
             [
              0.7777777777777778,
              "#fb9f3a"
             ],
             [
              0.8888888888888888,
              "#fdca26"
             ],
             [
              1,
              "#f0f921"
             ]
            ],
            "type": "histogram2dcontour"
           }
          ],
          "mesh3d": [
           {
            "colorbar": {
             "outlinewidth": 0,
             "ticks": ""
            },
            "type": "mesh3d"
           }
          ],
          "parcoords": [
           {
            "line": {
             "colorbar": {
              "outlinewidth": 0,
              "ticks": ""
             }
            },
            "type": "parcoords"
           }
          ],
          "pie": [
           {
            "automargin": true,
            "type": "pie"
           }
          ],
          "scatter": [
           {
            "marker": {
             "colorbar": {
              "outlinewidth": 0,
              "ticks": ""
             }
            },
            "type": "scatter"
           }
          ],
          "scatter3d": [
           {
            "line": {
             "colorbar": {
              "outlinewidth": 0,
              "ticks": ""
             }
            },
            "marker": {
             "colorbar": {
              "outlinewidth": 0,
              "ticks": ""
             }
            },
            "type": "scatter3d"
           }
          ],
          "scattercarpet": [
           {
            "marker": {
             "colorbar": {
              "outlinewidth": 0,
              "ticks": ""
             }
            },
            "type": "scattercarpet"
           }
          ],
          "scattergeo": [
           {
            "marker": {
             "colorbar": {
              "outlinewidth": 0,
              "ticks": ""
             }
            },
            "type": "scattergeo"
           }
          ],
          "scattergl": [
           {
            "marker": {
             "colorbar": {
              "outlinewidth": 0,
              "ticks": ""
             }
            },
            "type": "scattergl"
           }
          ],
          "scattermapbox": [
           {
            "marker": {
             "colorbar": {
              "outlinewidth": 0,
              "ticks": ""
             }
            },
            "type": "scattermapbox"
           }
          ],
          "scatterpolar": [
           {
            "marker": {
             "colorbar": {
              "outlinewidth": 0,
              "ticks": ""
             }
            },
            "type": "scatterpolar"
           }
          ],
          "scatterpolargl": [
           {
            "marker": {
             "colorbar": {
              "outlinewidth": 0,
              "ticks": ""
             }
            },
            "type": "scatterpolargl"
           }
          ],
          "scatterternary": [
           {
            "marker": {
             "colorbar": {
              "outlinewidth": 0,
              "ticks": ""
             }
            },
            "type": "scatterternary"
           }
          ],
          "surface": [
           {
            "colorbar": {
             "outlinewidth": 0,
             "ticks": ""
            },
            "colorscale": [
             [
              0,
              "#0d0887"
             ],
             [
              0.1111111111111111,
              "#46039f"
             ],
             [
              0.2222222222222222,
              "#7201a8"
             ],
             [
              0.3333333333333333,
              "#9c179e"
             ],
             [
              0.4444444444444444,
              "#bd3786"
             ],
             [
              0.5555555555555556,
              "#d8576b"
             ],
             [
              0.6666666666666666,
              "#ed7953"
             ],
             [
              0.7777777777777778,
              "#fb9f3a"
             ],
             [
              0.8888888888888888,
              "#fdca26"
             ],
             [
              1,
              "#f0f921"
             ]
            ],
            "type": "surface"
           }
          ],
          "table": [
           {
            "cells": {
             "fill": {
              "color": "#EBF0F8"
             },
             "line": {
              "color": "white"
             }
            },
            "header": {
             "fill": {
              "color": "#C8D4E3"
             },
             "line": {
              "color": "white"
             }
            },
            "type": "table"
           }
          ]
         },
         "layout": {
          "annotationdefaults": {
           "arrowcolor": "#2a3f5f",
           "arrowhead": 0,
           "arrowwidth": 1
          },
          "autotypenumbers": "strict",
          "coloraxis": {
           "colorbar": {
            "outlinewidth": 0,
            "ticks": ""
           }
          },
          "colorscale": {
           "diverging": [
            [
             0,
             "#8e0152"
            ],
            [
             0.1,
             "#c51b7d"
            ],
            [
             0.2,
             "#de77ae"
            ],
            [
             0.3,
             "#f1b6da"
            ],
            [
             0.4,
             "#fde0ef"
            ],
            [
             0.5,
             "#f7f7f7"
            ],
            [
             0.6,
             "#e6f5d0"
            ],
            [
             0.7,
             "#b8e186"
            ],
            [
             0.8,
             "#7fbc41"
            ],
            [
             0.9,
             "#4d9221"
            ],
            [
             1,
             "#276419"
            ]
           ],
           "sequential": [
            [
             0,
             "#0d0887"
            ],
            [
             0.1111111111111111,
             "#46039f"
            ],
            [
             0.2222222222222222,
             "#7201a8"
            ],
            [
             0.3333333333333333,
             "#9c179e"
            ],
            [
             0.4444444444444444,
             "#bd3786"
            ],
            [
             0.5555555555555556,
             "#d8576b"
            ],
            [
             0.6666666666666666,
             "#ed7953"
            ],
            [
             0.7777777777777778,
             "#fb9f3a"
            ],
            [
             0.8888888888888888,
             "#fdca26"
            ],
            [
             1,
             "#f0f921"
            ]
           ],
           "sequentialminus": [
            [
             0,
             "#0d0887"
            ],
            [
             0.1111111111111111,
             "#46039f"
            ],
            [
             0.2222222222222222,
             "#7201a8"
            ],
            [
             0.3333333333333333,
             "#9c179e"
            ],
            [
             0.4444444444444444,
             "#bd3786"
            ],
            [
             0.5555555555555556,
             "#d8576b"
            ],
            [
             0.6666666666666666,
             "#ed7953"
            ],
            [
             0.7777777777777778,
             "#fb9f3a"
            ],
            [
             0.8888888888888888,
             "#fdca26"
            ],
            [
             1,
             "#f0f921"
            ]
           ]
          },
          "colorway": [
           "#636efa",
           "#EF553B",
           "#00cc96",
           "#ab63fa",
           "#FFA15A",
           "#19d3f3",
           "#FF6692",
           "#B6E880",
           "#FF97FF",
           "#FECB52"
          ],
          "font": {
           "color": "#2a3f5f"
          },
          "geo": {
           "bgcolor": "white",
           "lakecolor": "white",
           "landcolor": "#E5ECF6",
           "showlakes": true,
           "showland": true,
           "subunitcolor": "white"
          },
          "hoverlabel": {
           "align": "left"
          },
          "hovermode": "closest",
          "mapbox": {
           "style": "light"
          },
          "paper_bgcolor": "white",
          "plot_bgcolor": "#E5ECF6",
          "polar": {
           "angularaxis": {
            "gridcolor": "white",
            "linecolor": "white",
            "ticks": ""
           },
           "bgcolor": "#E5ECF6",
           "radialaxis": {
            "gridcolor": "white",
            "linecolor": "white",
            "ticks": ""
           }
          },
          "scene": {
           "xaxis": {
            "backgroundcolor": "#E5ECF6",
            "gridcolor": "white",
            "gridwidth": 2,
            "linecolor": "white",
            "showbackground": true,
            "ticks": "",
            "zerolinecolor": "white"
           },
           "yaxis": {
            "backgroundcolor": "#E5ECF6",
            "gridcolor": "white",
            "gridwidth": 2,
            "linecolor": "white",
            "showbackground": true,
            "ticks": "",
            "zerolinecolor": "white"
           },
           "zaxis": {
            "backgroundcolor": "#E5ECF6",
            "gridcolor": "white",
            "gridwidth": 2,
            "linecolor": "white",
            "showbackground": true,
            "ticks": "",
            "zerolinecolor": "white"
           }
          },
          "shapedefaults": {
           "line": {
            "color": "#2a3f5f"
           }
          },
          "ternary": {
           "aaxis": {
            "gridcolor": "white",
            "linecolor": "white",
            "ticks": ""
           },
           "baxis": {
            "gridcolor": "white",
            "linecolor": "white",
            "ticks": ""
           },
           "bgcolor": "#E5ECF6",
           "caxis": {
            "gridcolor": "white",
            "linecolor": "white",
            "ticks": ""
           }
          },
          "title": {
           "x": 0.05
          },
          "xaxis": {
           "automargin": true,
           "gridcolor": "white",
           "linecolor": "white",
           "ticks": "",
           "title": {
            "standoff": 15
           },
           "zerolinecolor": "white",
           "zerolinewidth": 2
          },
          "yaxis": {
           "automargin": true,
           "gridcolor": "white",
           "linecolor": "white",
           "ticks": "",
           "title": {
            "standoff": 15
           },
           "zerolinecolor": "white",
           "zerolinewidth": 2
          }
         }
        }
       }
      },
      "text/html": [
       "<div>                            <div id=\"38917f7f-d920-4fe6-8ca8-d69d71168cc5\" class=\"plotly-graph-div\" style=\"height:525px; width:100%;\"></div>            <script type=\"text/javascript\">                require([\"plotly\"], function(Plotly) {                    window.PLOTLYENV=window.PLOTLYENV || {};                                    if (document.getElementById(\"38917f7f-d920-4fe6-8ca8-d69d71168cc5\")) {                    Plotly.newPlot(                        \"38917f7f-d920-4fe6-8ca8-d69d71168cc5\",                        [{\"link\":{\"source\":[0,1,2,3,3,3,3,4,4,5,5,6,6,8,8,9,9,9,9,16,17,14,14,15,15,10,19,19,7,7,11,12,13],\"target\":[5,14,3,18,5,13,6,3,18,11,12,8,18,9,18,16,17,14,15,18,18,10,18,10,18,19,7,18,4,18,18,18,18],\"value\":[0.0,null,3.9506140350877184,0.19753070175438608,0.0,3.7530833333333335,0.0,0.0,0.0,0.0,0.0,0.0,0.0,0.0,0.0,null,null,null,null,null,null,null,null,null,null,null,0.0,0.0,0.0,0.0,0.0,0.0,3.7530833333333335]},\"node\":{\"label\":[\"Heat source\",\"Potential energy\",\"Battery\",\"Discharge\",\"reg_braking\",\"HVAC\",\"Motor\",\"Generator\",\"Transmission of traction\",\"Wheel\",\"Kinetic energy\",\"Cooling\",\"Heating\",\"Auxiliary\",\"Gravity force\",\"Acceleration force\",\"Rolling resistance\",\"Air resistance\",\"Losses\",\"Transmission of regenerative\"],\"pad\":50,\"thickness\":10},\"type\":\"sankey\"}],                        {\"template\":{\"data\":{\"bar\":[{\"error_x\":{\"color\":\"#2a3f5f\"},\"error_y\":{\"color\":\"#2a3f5f\"},\"marker\":{\"line\":{\"color\":\"#E5ECF6\",\"width\":0.5},\"pattern\":{\"fillmode\":\"overlay\",\"size\":10,\"solidity\":0.2}},\"type\":\"bar\"}],\"barpolar\":[{\"marker\":{\"line\":{\"color\":\"#E5ECF6\",\"width\":0.5},\"pattern\":{\"fillmode\":\"overlay\",\"size\":10,\"solidity\":0.2}},\"type\":\"barpolar\"}],\"carpet\":[{\"aaxis\":{\"endlinecolor\":\"#2a3f5f\",\"gridcolor\":\"white\",\"linecolor\":\"white\",\"minorgridcolor\":\"white\",\"startlinecolor\":\"#2a3f5f\"},\"baxis\":{\"endlinecolor\":\"#2a3f5f\",\"gridcolor\":\"white\",\"linecolor\":\"white\",\"minorgridcolor\":\"white\",\"startlinecolor\":\"#2a3f5f\"},\"type\":\"carpet\"}],\"choropleth\":[{\"colorbar\":{\"outlinewidth\":0,\"ticks\":\"\"},\"type\":\"choropleth\"}],\"contour\":[{\"colorbar\":{\"outlinewidth\":0,\"ticks\":\"\"},\"colorscale\":[[0.0,\"#0d0887\"],[0.1111111111111111,\"#46039f\"],[0.2222222222222222,\"#7201a8\"],[0.3333333333333333,\"#9c179e\"],[0.4444444444444444,\"#bd3786\"],[0.5555555555555556,\"#d8576b\"],[0.6666666666666666,\"#ed7953\"],[0.7777777777777778,\"#fb9f3a\"],[0.8888888888888888,\"#fdca26\"],[1.0,\"#f0f921\"]],\"type\":\"contour\"}],\"contourcarpet\":[{\"colorbar\":{\"outlinewidth\":0,\"ticks\":\"\"},\"type\":\"contourcarpet\"}],\"heatmap\":[{\"colorbar\":{\"outlinewidth\":0,\"ticks\":\"\"},\"colorscale\":[[0.0,\"#0d0887\"],[0.1111111111111111,\"#46039f\"],[0.2222222222222222,\"#7201a8\"],[0.3333333333333333,\"#9c179e\"],[0.4444444444444444,\"#bd3786\"],[0.5555555555555556,\"#d8576b\"],[0.6666666666666666,\"#ed7953\"],[0.7777777777777778,\"#fb9f3a\"],[0.8888888888888888,\"#fdca26\"],[1.0,\"#f0f921\"]],\"type\":\"heatmap\"}],\"heatmapgl\":[{\"colorbar\":{\"outlinewidth\":0,\"ticks\":\"\"},\"colorscale\":[[0.0,\"#0d0887\"],[0.1111111111111111,\"#46039f\"],[0.2222222222222222,\"#7201a8\"],[0.3333333333333333,\"#9c179e\"],[0.4444444444444444,\"#bd3786\"],[0.5555555555555556,\"#d8576b\"],[0.6666666666666666,\"#ed7953\"],[0.7777777777777778,\"#fb9f3a\"],[0.8888888888888888,\"#fdca26\"],[1.0,\"#f0f921\"]],\"type\":\"heatmapgl\"}],\"histogram\":[{\"marker\":{\"pattern\":{\"fillmode\":\"overlay\",\"size\":10,\"solidity\":0.2}},\"type\":\"histogram\"}],\"histogram2d\":[{\"colorbar\":{\"outlinewidth\":0,\"ticks\":\"\"},\"colorscale\":[[0.0,\"#0d0887\"],[0.1111111111111111,\"#46039f\"],[0.2222222222222222,\"#7201a8\"],[0.3333333333333333,\"#9c179e\"],[0.4444444444444444,\"#bd3786\"],[0.5555555555555556,\"#d8576b\"],[0.6666666666666666,\"#ed7953\"],[0.7777777777777778,\"#fb9f3a\"],[0.8888888888888888,\"#fdca26\"],[1.0,\"#f0f921\"]],\"type\":\"histogram2d\"}],\"histogram2dcontour\":[{\"colorbar\":{\"outlinewidth\":0,\"ticks\":\"\"},\"colorscale\":[[0.0,\"#0d0887\"],[0.1111111111111111,\"#46039f\"],[0.2222222222222222,\"#7201a8\"],[0.3333333333333333,\"#9c179e\"],[0.4444444444444444,\"#bd3786\"],[0.5555555555555556,\"#d8576b\"],[0.6666666666666666,\"#ed7953\"],[0.7777777777777778,\"#fb9f3a\"],[0.8888888888888888,\"#fdca26\"],[1.0,\"#f0f921\"]],\"type\":\"histogram2dcontour\"}],\"mesh3d\":[{\"colorbar\":{\"outlinewidth\":0,\"ticks\":\"\"},\"type\":\"mesh3d\"}],\"parcoords\":[{\"line\":{\"colorbar\":{\"outlinewidth\":0,\"ticks\":\"\"}},\"type\":\"parcoords\"}],\"pie\":[{\"automargin\":true,\"type\":\"pie\"}],\"scatter\":[{\"marker\":{\"colorbar\":{\"outlinewidth\":0,\"ticks\":\"\"}},\"type\":\"scatter\"}],\"scatter3d\":[{\"line\":{\"colorbar\":{\"outlinewidth\":0,\"ticks\":\"\"}},\"marker\":{\"colorbar\":{\"outlinewidth\":0,\"ticks\":\"\"}},\"type\":\"scatter3d\"}],\"scattercarpet\":[{\"marker\":{\"colorbar\":{\"outlinewidth\":0,\"ticks\":\"\"}},\"type\":\"scattercarpet\"}],\"scattergeo\":[{\"marker\":{\"colorbar\":{\"outlinewidth\":0,\"ticks\":\"\"}},\"type\":\"scattergeo\"}],\"scattergl\":[{\"marker\":{\"colorbar\":{\"outlinewidth\":0,\"ticks\":\"\"}},\"type\":\"scattergl\"}],\"scattermapbox\":[{\"marker\":{\"colorbar\":{\"outlinewidth\":0,\"ticks\":\"\"}},\"type\":\"scattermapbox\"}],\"scatterpolar\":[{\"marker\":{\"colorbar\":{\"outlinewidth\":0,\"ticks\":\"\"}},\"type\":\"scatterpolar\"}],\"scatterpolargl\":[{\"marker\":{\"colorbar\":{\"outlinewidth\":0,\"ticks\":\"\"}},\"type\":\"scatterpolargl\"}],\"scatterternary\":[{\"marker\":{\"colorbar\":{\"outlinewidth\":0,\"ticks\":\"\"}},\"type\":\"scatterternary\"}],\"surface\":[{\"colorbar\":{\"outlinewidth\":0,\"ticks\":\"\"},\"colorscale\":[[0.0,\"#0d0887\"],[0.1111111111111111,\"#46039f\"],[0.2222222222222222,\"#7201a8\"],[0.3333333333333333,\"#9c179e\"],[0.4444444444444444,\"#bd3786\"],[0.5555555555555556,\"#d8576b\"],[0.6666666666666666,\"#ed7953\"],[0.7777777777777778,\"#fb9f3a\"],[0.8888888888888888,\"#fdca26\"],[1.0,\"#f0f921\"]],\"type\":\"surface\"}],\"table\":[{\"cells\":{\"fill\":{\"color\":\"#EBF0F8\"},\"line\":{\"color\":\"white\"}},\"header\":{\"fill\":{\"color\":\"#C8D4E3\"},\"line\":{\"color\":\"white\"}},\"type\":\"table\"}]},\"layout\":{\"annotationdefaults\":{\"arrowcolor\":\"#2a3f5f\",\"arrowhead\":0,\"arrowwidth\":1},\"autotypenumbers\":\"strict\",\"coloraxis\":{\"colorbar\":{\"outlinewidth\":0,\"ticks\":\"\"}},\"colorscale\":{\"diverging\":[[0,\"#8e0152\"],[0.1,\"#c51b7d\"],[0.2,\"#de77ae\"],[0.3,\"#f1b6da\"],[0.4,\"#fde0ef\"],[0.5,\"#f7f7f7\"],[0.6,\"#e6f5d0\"],[0.7,\"#b8e186\"],[0.8,\"#7fbc41\"],[0.9,\"#4d9221\"],[1,\"#276419\"]],\"sequential\":[[0.0,\"#0d0887\"],[0.1111111111111111,\"#46039f\"],[0.2222222222222222,\"#7201a8\"],[0.3333333333333333,\"#9c179e\"],[0.4444444444444444,\"#bd3786\"],[0.5555555555555556,\"#d8576b\"],[0.6666666666666666,\"#ed7953\"],[0.7777777777777778,\"#fb9f3a\"],[0.8888888888888888,\"#fdca26\"],[1.0,\"#f0f921\"]],\"sequentialminus\":[[0.0,\"#0d0887\"],[0.1111111111111111,\"#46039f\"],[0.2222222222222222,\"#7201a8\"],[0.3333333333333333,\"#9c179e\"],[0.4444444444444444,\"#bd3786\"],[0.5555555555555556,\"#d8576b\"],[0.6666666666666666,\"#ed7953\"],[0.7777777777777778,\"#fb9f3a\"],[0.8888888888888888,\"#fdca26\"],[1.0,\"#f0f921\"]]},\"colorway\":[\"#636efa\",\"#EF553B\",\"#00cc96\",\"#ab63fa\",\"#FFA15A\",\"#19d3f3\",\"#FF6692\",\"#B6E880\",\"#FF97FF\",\"#FECB52\"],\"font\":{\"color\":\"#2a3f5f\"},\"geo\":{\"bgcolor\":\"white\",\"lakecolor\":\"white\",\"landcolor\":\"#E5ECF6\",\"showlakes\":true,\"showland\":true,\"subunitcolor\":\"white\"},\"hoverlabel\":{\"align\":\"left\"},\"hovermode\":\"closest\",\"mapbox\":{\"style\":\"light\"},\"paper_bgcolor\":\"white\",\"plot_bgcolor\":\"#E5ECF6\",\"polar\":{\"angularaxis\":{\"gridcolor\":\"white\",\"linecolor\":\"white\",\"ticks\":\"\"},\"bgcolor\":\"#E5ECF6\",\"radialaxis\":{\"gridcolor\":\"white\",\"linecolor\":\"white\",\"ticks\":\"\"}},\"scene\":{\"xaxis\":{\"backgroundcolor\":\"#E5ECF6\",\"gridcolor\":\"white\",\"gridwidth\":2,\"linecolor\":\"white\",\"showbackground\":true,\"ticks\":\"\",\"zerolinecolor\":\"white\"},\"yaxis\":{\"backgroundcolor\":\"#E5ECF6\",\"gridcolor\":\"white\",\"gridwidth\":2,\"linecolor\":\"white\",\"showbackground\":true,\"ticks\":\"\",\"zerolinecolor\":\"white\"},\"zaxis\":{\"backgroundcolor\":\"#E5ECF6\",\"gridcolor\":\"white\",\"gridwidth\":2,\"linecolor\":\"white\",\"showbackground\":true,\"ticks\":\"\",\"zerolinecolor\":\"white\"}},\"shapedefaults\":{\"line\":{\"color\":\"#2a3f5f\"}},\"ternary\":{\"aaxis\":{\"gridcolor\":\"white\",\"linecolor\":\"white\",\"ticks\":\"\"},\"baxis\":{\"gridcolor\":\"white\",\"linecolor\":\"white\",\"ticks\":\"\"},\"bgcolor\":\"#E5ECF6\",\"caxis\":{\"gridcolor\":\"white\",\"linecolor\":\"white\",\"ticks\":\"\"}},\"title\":{\"x\":0.05},\"xaxis\":{\"automargin\":true,\"gridcolor\":\"white\",\"linecolor\":\"white\",\"ticks\":\"\",\"title\":{\"standoff\":15},\"zerolinecolor\":\"white\",\"zerolinewidth\":2},\"yaxis\":{\"automargin\":true,\"gridcolor\":\"white\",\"linecolor\":\"white\",\"ticks\":\"\",\"title\":{\"standoff\":15},\"zerolinecolor\":\"white\",\"zerolinewidth\":2}}}},                        {\"responsive\": true}                    ).then(function(){\n",
       "                            \n",
       "var gd = document.getElementById('38917f7f-d920-4fe6-8ca8-d69d71168cc5');\n",
       "var x = new MutationObserver(function (mutations, observer) {{\n",
       "        var display = window.getComputedStyle(gd).display;\n",
       "        if (!display || display === 'none') {{\n",
       "            console.log([gd, 'removed!']);\n",
       "            Plotly.purge(gd);\n",
       "            observer.disconnect();\n",
       "        }}\n",
       "}});\n",
       "\n",
       "// Listen for the removal of the full notebook cells\n",
       "var notebookContainer = gd.closest('#notebook-container');\n",
       "if (notebookContainer) {{\n",
       "    x.observe(notebookContainer, {childList: true});\n",
       "}}\n",
       "\n",
       "// Listen for the clearing of the current output cell\n",
       "var outputEl = gd.closest('.output');\n",
       "if (outputEl) {{\n",
       "    x.observe(outputEl, {childList: true});\n",
       "}}\n",
       "\n",
       "                        })                };                });            </script>        </div>"
      ]
     },
     "metadata": {},
     "output_type": "display_data"
    }
   ],
   "source": [
    "fig_consumption = PLT.sankey(c[\"name\"], include=None, to_html=False, path=None)\n",
    "fig_consumption"
   ]
  },
  {
   "cell_type": "code",
   "execution_count": 43,
   "id": "d5200773",
   "metadata": {},
   "outputs": [
    {
     "ename": "NameError",
     "evalue": "name 'NBplot' is not defined",
     "output_type": "error",
     "traceback": [
      "\u001b[0;31m---------------------------------------------------------------------------\u001b[0m",
      "\u001b[0;31mNameError\u001b[0m                                 Traceback (most recent call last)",
      "\u001b[0;32m/var/folders/xb/lfd6_z7178g_6zv_ygw5vd4m0000gp/T/ipykernel_1592/841470833.py\u001b[0m in \u001b[0;36m<module>\u001b[0;34m\u001b[0m\n\u001b[0;32m----> 1\u001b[0;31m \u001b[0mfig_mobility\u001b[0m \u001b[0;34m=\u001b[0m \u001b[0mNBplot\u001b[0m\u001b[0;34m(\u001b[0m\u001b[0mDB\u001b[0m\u001b[0;34m)\u001b[0m\u001b[0;34m.\u001b[0m\u001b[0msgplot_dp\u001b[0m\u001b[0;34m(\u001b[0m\u001b[0mm\u001b[0m\u001b[0;34m[\u001b[0m\u001b[0;34m\"name\"\u001b[0m\u001b[0;34m]\u001b[0m\u001b[0;34m)\u001b[0m\u001b[0;34m\u001b[0m\u001b[0;34m\u001b[0m\u001b[0m\n\u001b[0m\u001b[1;32m      2\u001b[0m \u001b[0mfig_mobility\u001b[0m\u001b[0;34m\u001b[0m\u001b[0;34m\u001b[0m\u001b[0m\n",
      "\u001b[0;31mNameError\u001b[0m: name 'NBplot' is not defined"
     ]
    }
   ],
   "source": [
    "fig_mobility = NBplot(DB).sgplot_dp(m[\"name\"])\n",
    "fig_mobility"
   ]
  },
  {
   "cell_type": "code",
   "execution_count": null,
   "id": "2868809f",
   "metadata": {},
   "outputs": [],
   "source": []
  }
 ],
 "metadata": {
  "kernelspec": {
   "display_name": "Python 3 (ipykernel)",
   "language": "python",
   "name": "python3"
  },
  "language_info": {
   "codemirror_mode": {
    "name": "ipython",
    "version": 3
   },
   "file_extension": ".py",
   "mimetype": "text/x-python",
   "name": "python",
   "nbconvert_exporter": "python",
   "pygments_lexer": "ipython3",
   "version": "3.7.12"
  }
 },
 "nbformat": 4,
 "nbformat_minor": 5
}
