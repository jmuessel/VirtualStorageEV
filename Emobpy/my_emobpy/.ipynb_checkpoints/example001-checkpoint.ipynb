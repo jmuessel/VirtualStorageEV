{
 "cells": [
  {
   "cell_type": "code",
   "execution_count": null,
   "id": "783c3fab",
   "metadata": {},
   "outputs": [],
   "source": [
    "from emobpy.init import (create_project, copy_to_user_data_dir)\n",
    "from emobpy import Mobility, DataBase\n",
    "import pandas as pd\n",
    "import os"
   ]
  },
  {
   "cell_type": "code",
   "execution_count": null,
   "id": "35240a0a",
   "metadata": {},
   "outputs": [],
   "source": [
    "copy_to_user_data_dir() # This is for collecting all templates"
   ]
  },
  {
   "cell_type": "code",
   "execution_count": null,
   "id": "35ba9597",
   "metadata": {},
   "outputs": [],
   "source": [
    "create_project('bev', 'base') # This will create a folder 'bev' with template 'base'"
   ]
  },
  {
   "cell_type": "code",
   "execution_count": null,
   "id": "23c729eb",
   "metadata": {},
   "outputs": [],
   "source": [
    "# query actual location of our python instance (this screen)\n",
    "current_location = os. getcwd()\n",
    "current_location"
   ]
  },
  {
   "cell_type": "code",
   "execution_count": null,
   "id": "5065afcf",
   "metadata": {},
   "outputs": [],
   "source": [
    "# now we will move this python instance to inside the new folder 'bev'\n",
    "os.chdir(os.path.join(current_location,'bev'))"
   ]
  },
  {
   "cell_type": "code",
   "execution_count": null,
   "id": "0b3c8326",
   "metadata": {},
   "outputs": [],
   "source": [
    "# test new current location\n",
    "os. getcwd()"
   ]
  },
  {
   "cell_type": "code",
   "execution_count": null,
   "id": "a8788c28",
   "metadata": {},
   "outputs": [],
   "source": [
    "# list folders and files in 'bev' folder (our base template)\n",
    "# config_files should be there and it contains csv files and rules of mobility data\n",
    "os.listdir()"
   ]
  },
  {
   "cell_type": "code",
   "execution_count": null,
   "id": "b39ee78e",
   "metadata": {},
   "outputs": [],
   "source": [
    "# Main activity of this notebook:\n",
    "# We are going to create two vehicles 'mobility' time-series with a for loop\n",
    "# then, we will access the time-series, and\n",
    "# we will aggregate both in one (with pandas)"
   ]
  },
  {
   "cell_type": "code",
   "execution_count": null,
   "id": "9fd2517c",
   "metadata": {},
   "outputs": [],
   "source": [
    "# for loop\n",
    "for i in range(2):\n",
    "    m = Mobility(config_folder='config_files')\n",
    "    m.set_params(\n",
    "             name_prefix=\"BEV\"+ str(i+1),\n",
    "             total_hours=168, # one week\n",
    "             time_step_in_hrs=0.25, # 15 minutes\n",
    "             category=\"user_defined\",\n",
    "             reference_date=\"01/01/2020\"\n",
    "            )\n",
    "    m.set_stats(\n",
    "            stat_ntrip_path=\"TripsPerDay.csv\",\n",
    "            stat_dest_path=\"DepartureDestinationTrip.csv\",\n",
    "            stat_km_duration_path=\"DistanceDurationTrip.csv\",\n",
    "            )\n",
    "    m.set_rules(rule_key=\"user_defined\") # open rules.yml and find 'user_defined' for your info\n",
    "    m.run()\n",
    "    m.save_profile(folder=\"db\", description='Any description here') # save all info in pickle file in 'db' folder"
   ]
  },
  {
   "cell_type": "code",
   "execution_count": null,
   "id": "6066d1fc",
   "metadata": {},
   "outputs": [],
   "source": [
    "# see what we have in the new created folder 'db'\n",
    "os.listdir('db')"
   ]
  },
  {
   "cell_type": "code",
   "execution_count": null,
   "id": "5f01d57d",
   "metadata": {},
   "outputs": [],
   "source": [
    "# now we will access the files with DataBase class. We need to provide the folder location of the pickle files ('db')\n",
    "DB = DataBase('db')\n",
    "DB.loadfiles()"
   ]
  },
  {
   "cell_type": "code",
   "execution_count": null,
   "id": "bdc28300",
   "metadata": {},
   "outputs": [],
   "source": [
    "# see the files names\n",
    "name_list = list(DB.db.keys())\n",
    "name_list"
   ]
  },
  {
   "cell_type": "code",
   "execution_count": null,
   "id": "66871e43",
   "metadata": {},
   "outputs": [],
   "source": [
    "# see the first BEV mobility time-series\n",
    "DB.db[name_list[0]]['timeseries']"
   ]
  },
  {
   "cell_type": "code",
   "execution_count": null,
   "id": "3e98de75",
   "metadata": {},
   "outputs": [],
   "source": [
    "# as the time series is a pandas dataframe we will save the dataframe as csv\n",
    "DB.db[name_list[0]]['timeseries'].to_csv(name_list[0] + '.csv')"
   ]
  },
  {
   "cell_type": "code",
   "execution_count": null,
   "id": "e9c056a1",
   "metadata": {},
   "outputs": [],
   "source": [
    "# we will do the same with vehicle 2\n",
    "DB.db[name_list[1]]['timeseries'].to_csv(name_list[1] + '.csv') # see I replaced zero with one"
   ]
  },
  {
   "cell_type": "code",
   "execution_count": null,
   "id": "a8dd7fc2",
   "metadata": {},
   "outputs": [],
   "source": [
    "# Finally with pandas I will create on big dataframe (aggregate and save as csv)\n",
    "List_with_dfs = []\n",
    "# add a column name to every df and store df in a list\n",
    "for name in name_list:\n",
    "    df = DB.db[name]['timeseries'].copy()\n",
    "    df['name'] = name\n",
    "    List_with_dfs.append(df)\n",
    "# create a big df\n",
    "big_df = pd.concat(List_with_dfs)"
   ]
  },
  {
   "cell_type": "code",
   "execution_count": null,
   "id": "ffca7cce",
   "metadata": {},
   "outputs": [],
   "source": [
    "big_df"
   ]
  },
  {
   "cell_type": "code",
   "execution_count": null,
   "id": "202383c9",
   "metadata": {},
   "outputs": [],
   "source": [
    "big_df.to_csv('aggregated_timeseries.csv')"
   ]
  },
  {
   "cell_type": "code",
   "execution_count": null,
   "id": "37c363c3",
   "metadata": {},
   "outputs": [],
   "source": []
  }
 ],
 "metadata": {
  "kernelspec": {
   "display_name": "Python 3",
   "language": "python",
   "name": "python3"
  },
  "language_info": {
   "codemirror_mode": {
    "name": "ipython",
    "version": 3
   },
   "file_extension": ".py",
   "mimetype": "text/x-python",
   "name": "python",
   "nbconvert_exporter": "python",
   "pygments_lexer": "ipython3",
   "version": "3.6.15"
  }
 },
 "nbformat": 4,
 "nbformat_minor": 5
}
