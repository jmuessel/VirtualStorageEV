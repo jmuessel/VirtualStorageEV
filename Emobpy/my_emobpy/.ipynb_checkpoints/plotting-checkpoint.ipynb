{
 "cells": [
  {
   "cell_type": "code",
   "execution_count": 2,
   "id": "f746b88a",
   "metadata": {},
   "outputs": [
    {
     "data": {
      "text/html": [
       "        <script type=\"text/javascript\">\n",
       "        window.PlotlyConfig = {MathJaxConfig: 'local'};\n",
       "        if (window.MathJax) {MathJax.Hub.Config({SVG: {font: \"STIX-Web\"}});}\n",
       "        if (typeof require !== 'undefined') {\n",
       "        require.undef(\"plotly\");\n",
       "        requirejs.config({\n",
       "            paths: {\n",
       "                'plotly': ['https://cdn.plot.ly/plotly-2.8.3.min']\n",
       "            }\n",
       "        });\n",
       "        require(['plotly'], function(Plotly) {\n",
       "            window._Plotly = Plotly;\n",
       "        });\n",
       "        }\n",
       "        </script>\n",
       "        "
      ]
     },
     "metadata": {},
     "output_type": "display_data"
    }
   ],
   "source": [
    "import random\n",
    "import pandas as pd\n",
    "from emobpy import Mobility, DataBase, Consumption, HeatInsulation, BEVspecs, Availability, Charging\n",
    "#from emobpy.tools import set_seed\n",
    "#set_seed(12)\n",
    "from emobpy import DataBase, Export\n",
    "from emobpy.plot import NBplot\n",
    "import os\n",
    "from os import listdir\n",
    "from os.path import isfile, join"
   ]
  },
  {
   "cell_type": "markdown",
   "id": "ed123685",
   "metadata": {},
   "source": [
    "Steps\n",
    "\n",
    "1. Profiles\n",
    "2. Collection\n",
    "2. Plots\n",
    "\n",
    "## Profiles generation"
   ]
  },
  {
   "cell_type": "code",
   "execution_count": 49,
   "id": "b95b79cb",
   "metadata": {},
   "outputs": [],
   "source": [
    "path = os.getcwd()\n",
    "consumption_path = os.path.join(path, \"db\", \"consumption\")\n",
    "availability_path = os.path.join(path, \"db\", \"availability\")\n",
    "ged_path = os.path.join(path, \"db\", \"ged_db\")"
   ]
  },
  {
   "cell_type": "code",
   "execution_count": 50,
   "id": "3ab8bcc2",
   "metadata": {},
   "outputs": [],
   "source": [
    "DB = DataBase('db')\n",
    "CDB = DataBase(\"db/consumption\")\n",
    "ADB = DataBase(\"db/availability\")\n",
    "GDB = DataBase(\"db/ged_db\")"
   ]
  },
  {
   "cell_type": "code",
   "execution_count": 53,
   "id": "8cfa2882",
   "metadata": {},
   "outputs": [],
   "source": [
    "CDB.loadfiles()\n",
    "con_names = list(CDB.db.keys()) \n",
    "\n",
    "ADB.loadfiles()\n",
    "ava_names = list(ADB.db.keys()) \n",
    "\n",
    "GDB.loadfiles()\n",
    "ged_names = list(GDB.db.keys()) \n",
    "\n",
    "#CDB.loadfiles_batch(loaddir=\"db/consumption\", batch=2, kind=\"driving\")"
   ]
  },
  {
   "cell_type": "code",
   "execution_count": 54,
   "id": "d8d17296",
   "metadata": {},
   "outputs": [
    {
     "data": {
      "text/plain": [
       "['BEV0_W2_1b475_Audi_e-tron_55_quattro_2019_ea8fd_avai_dea6b_immediate_92880',\n",
       " 'BEV0_W2_37f2f_Audi_e-tron_55_quattro_2019_5e2d9_avai_9fcc7_immediate_8d93b',\n",
       " 'BEV0_W2_9b248_Audi_e-tron_55_quattro_2019_faee0_avai_0110f_immediate_4a35b',\n",
       " 'BEV0_W2_79b94_Audi_e-tron_55_quattro_2019_1abc8_avai_2d527_immediate_0a8ae',\n",
       " 'BEV0_W2_6018d_Audi_e-tron_55_quattro_2019_6d487_avai_dc6e1_immediate_10ab6',\n",
       " 'BEV0_W2_a6556_Audi_e-tron_55_quattro_2019_cfb64_avai_2fe9b_immediate_e9325',\n",
       " 'BEV0_W2_21afc_Audi_e-tron_55_quattro_2019_14e3c_avai_f339b_immediate_54000',\n",
       " 'BEV0_W2_1d388_Audi_e-tron_55_quattro_2019_dbc57_avai_4b722_immediate_1cc22',\n",
       " 'BEV0_W2_17dac_Audi_e-tron_55_quattro_2019_8010e_avai_89844_immediate_45091',\n",
       " 'BEV0_W2_42796_Audi_e-tron_55_quattro_2019_440ed_avai_b7070_immediate_42f7e']"
      ]
     },
     "execution_count": 54,
     "metadata": {},
     "output_type": "execute_result"
    }
   ],
   "source": [
    "ged_names"
   ]
  },
  {
   "cell_type": "code",
   "execution_count": null,
   "id": "c4ede5a8",
   "metadata": {},
   "outputs": [],
   "source": [
    "ADB.update()\n",
    "\n",
    "strategy = \"immediate\"\n",
    "#for avai_name in ADB.db:\n",
    "    if ADB.db[avai_name]['kind'] == 'availability':\n",
    "        ged = Charging(avai_name)\n",
    "        ged.load_scenario(ADB)\n",
    "        ged.set_sub_scenario(strategy)\n",
    "        ged.run()\n",
    "        print(f'Was successfully created?:{ged.success}')   # if False, modify the strategy to a less constrained.\n",
    "        ged.save_profile(ged_path)\n"
   ]
  },
  {
   "cell_type": "markdown",
   "id": "3ac9dbcc",
   "metadata": {},
   "source": [
    "## Collecting all profiles in one\n",
    "\n",
    "You can choose any kind of time series. In this example, I selected grid demand profiles"
   ]
  },
  {
   "cell_type": "code",
   "execution_count": 41,
   "id": "b740b3aa",
   "metadata": {},
   "outputs": [],
   "source": [
    "data = []\n",
    "for grid_demand in GDB.db:\n",
    "    df = GDB.db[grid_demand]['timeseries']\n",
    "    df['id'] = grid_demand\n",
    "    data.append(df[['id','hh','state','charging_point','charge_grid']]) # must include 'id','hh','state' remaining are optional and depend on the time series type\n",
    "df = pd.concat(data)"
   ]
  },
  {
   "cell_type": "markdown",
   "id": "c779b9c3",
   "metadata": {},
   "source": [
    "## Plots"
   ]
  },
  {
   "cell_type": "code",
   "execution_count": 9,
   "id": "610d75eb",
   "metadata": {},
   "outputs": [
    {
     "data": {
      "text/html": [
       "        <script type=\"text/javascript\">\n",
       "        window.PlotlyConfig = {MathJaxConfig: 'local'};\n",
       "        if (window.MathJax) {MathJax.Hub.Config({SVG: {font: \"STIX-Web\"}});}\n",
       "        if (typeof require !== 'undefined') {\n",
       "        require.undef(\"plotly\");\n",
       "        requirejs.config({\n",
       "            paths: {\n",
       "                'plotly': ['https://cdn.plot.ly/plotly-2.8.3.min']\n",
       "            }\n",
       "        });\n",
       "        require(['plotly'], function(Plotly) {\n",
       "            window._Plotly = Plotly;\n",
       "        });\n",
       "        }\n",
       "        </script>\n",
       "        "
      ]
     },
     "metadata": {},
     "output_type": "display_data"
    }
   ],
   "source": [
    "import plotly.graph_objs as go\n",
    "from plotly.offline import iplot\n",
    "import cufflinks as cf\n",
    "cf.go_offline()"
   ]
  },
  {
   "cell_type": "code",
   "execution_count": 10,
   "id": "cdf2be18",
   "metadata": {},
   "outputs": [],
   "source": [
    "def data_curation(df, column_values='charge_grid'):\n",
    "    ''' \n",
    "    Convert data frame with all profiles to days of the week and hours of the day\n",
    "    id represents every profile\n",
    "    step1 sum up all profiles\n",
    "    step2 makes the average\n",
    "    '''\n",
    "    profiles_n = len(set(df['id'].values))\n",
    "    step1 = df.groupby([df.index.day_name(),df.index.hour,df.index.isocalendar().week])[column_values].sum()\n",
    "    step2 = step1/profiles_n\n",
    "    step3 = pd.DataFrame(step2)\n",
    "    step4 = step3.reindex(['Monday','Tuesday','Wednesday','Thursday','Friday','Saturday','Sunday'],level=0)\n",
    "    return step4.unstack().T \n",
    "\n",
    "def start_and_end_week(df, column_values='charge_grid'):\n",
    "    '''Remove first and last week as days are missing causing inconsistent average'''\n",
    "    dt = df.reset_index()\n",
    "    dt.loc[:,'half'] = dt['date'] - min(dt['date'])\n",
    "    dt = dt.set_index('date')\n",
    "    dt = data_curation(dt,column_values=column_values).T\n",
    "    sr = dt['charge_grid']\n",
    "    start = len(sr[sr.columns[0]].dropna())\n",
    "    ends = len(sr[sr.columns[-1]].dropna())\n",
    "    dt = df.reset_index()\n",
    "    dt.loc[:,'half'] = dt['date'] - min(dt['date'])\n",
    "    dt = dt[(dt['half'] >= pd.to_timedelta(start,'H')) & (dt['half'] <= pd.to_timedelta(dt['hh'].max() - ends,'H'))].copy()\n",
    "    df = dt.set_index('date')\n",
    "    return df\n",
    "\n",
    "def shares_plot(df, column_values='state', order=['driving','workplace','errands','escort','shopping','leisure','home']):\n",
    "    '''\n",
    "    Plot of category shares either locations ('states') or charging point names ('charging_point')\n",
    "    default data: states, where order contains all possible locations or charging points\n",
    "    '''\n",
    "    sr_count = df.groupby([df.index.day_name(),df.index.hour,column_values])[column_values].count()\n",
    "    df_count = pd.DataFrame(sr_count).rename(columns={column_values:'count'}).unstack(level=-1).fillna(0)\n",
    "    df_count.columns = df_count.columns.droplevel()\n",
    "    present = [exists for exists in order if exists in df_count.columns]\n",
    "    df_count_sorted = df_count[present[::-1]].reindex(['Monday','Tuesday','Wednesday','Thursday','Friday','Saturday','Sunday'],level=0)\n",
    "    df_new_index = (df_count_sorted.T/df_count_sorted.T.sum(axis=0)).T\n",
    "    df_new_index.loc[:,'new_index'] = [[str(h) if h > 9 else '0'+str(h)][0] + ',' + d[:3] for d,h in df_new_index.index.values]\n",
    "    df_new_index.set_index('new_index',inplace=True)\n",
    "    fig = df_new_index.iplot(kind='area', fill=True,asFigure=True)\n",
    "    fig['layout'] = {}\n",
    "    return fig\n",
    "\n",
    "def box_plot(df, name, column_values='charge_grid', factor=1, color='#14868c',legendname_position=2):\n",
    "  '''\n",
    "  Box plot of distance, consumption, or charge_grid. \n",
    "  column_values must exist in the df\n",
    "  '''\n",
    "  dt = data_curation(df,column_values=column_values)\n",
    "  data = []\n",
    "  # Every boxplot has given name. The legend takes the name, legendgroup allows all boxplot with the same identifier have the same color\n",
    "  flag = legendname_position  # as we the first boxplot is used as xaxis tick we move the name to the next position\n",
    "  flagcompare = 0\n",
    "  for key, v in dt.iteritems():\n",
    "      flagcompare += 1\n",
    "      data.append({'boxpoints': False, # 'suspectedoutliers' or False\n",
    "                        'line': {'width': 1.2},\n",
    "                      'marker': {'color': color},\n",
    "                        'name': f'''{str(key[1]).zfill(2)},{key[0][0:3]}''' if flag != flagcompare else name,\n",
    "                  'orientation': 'v',\n",
    "                        'type': 'box',\n",
    "                            'y': v.values*factor,\n",
    "                        'xaxis': 'x',\n",
    "                      'jitter': 0.0,\n",
    "                'whiskerwidth': 1.0,\n",
    "                      'notched': False,\n",
    "                  'notchwidth': 0.2,\n",
    "                  'showlegend': False if flag != flagcompare else True,\n",
    "                  'legendgroup': name\n",
    "                  })\n",
    "  return go.Figure(data)"
   ]
  },
  {
   "cell_type": "code",
   "execution_count": 11,
   "id": "7b592a2c",
   "metadata": {},
   "outputs": [
    {
     "ename": "ValueError",
     "evalue": "zero-size array to reduction operation maximum which has no identity",
     "output_type": "error",
     "traceback": [
      "\u001b[0;31m---------------------------------------------------------------------------\u001b[0m",
      "\u001b[0;31mValueError\u001b[0m                                Traceback (most recent call last)",
      "\u001b[0;32m<ipython-input-11-8f94a294fe17>\u001b[0m in \u001b[0;36m<module>\u001b[0;34m\u001b[0m\n\u001b[1;32m      1\u001b[0m \u001b[0mdt\u001b[0m \u001b[0;34m=\u001b[0m \u001b[0mstart_and_end_week\u001b[0m\u001b[0;34m(\u001b[0m\u001b[0mdf\u001b[0m\u001b[0;34m)\u001b[0m\u001b[0;34m\u001b[0m\u001b[0;34m\u001b[0m\u001b[0m\n\u001b[0;32m----> 2\u001b[0;31m \u001b[0mfiga\u001b[0m \u001b[0;34m=\u001b[0m \u001b[0mshares_plot\u001b[0m\u001b[0;34m(\u001b[0m\u001b[0mdt\u001b[0m\u001b[0;34m,\u001b[0m \u001b[0mcolumn_values\u001b[0m\u001b[0;34m=\u001b[0m\u001b[0;34m'charging_point'\u001b[0m\u001b[0;34m,\u001b[0m \u001b[0morder\u001b[0m\u001b[0;34m=\u001b[0m\u001b[0;34m[\u001b[0m\u001b[0;34m'none'\u001b[0m\u001b[0;34m,\u001b[0m \u001b[0;34m'public'\u001b[0m\u001b[0;34m,\u001b[0m \u001b[0;34m'fast150'\u001b[0m\u001b[0;34m,\u001b[0m \u001b[0;34m'fast75'\u001b[0m\u001b[0;34m]\u001b[0m\u001b[0;34m)\u001b[0m\u001b[0;34m\u001b[0m\u001b[0;34m\u001b[0m\u001b[0m\n\u001b[0m\u001b[1;32m      3\u001b[0m \u001b[0mfigb\u001b[0m \u001b[0;34m=\u001b[0m \u001b[0mbox_plot\u001b[0m\u001b[0;34m(\u001b[0m\u001b[0mdt\u001b[0m\u001b[0;34m,\u001b[0m \u001b[0;34m'Average vehicle [kWh]'\u001b[0m\u001b[0;34m,\u001b[0m \u001b[0mcolumn_values\u001b[0m\u001b[0;34m=\u001b[0m\u001b[0;34m'charge_grid'\u001b[0m\u001b[0;34m,\u001b[0m \u001b[0mfactor\u001b[0m\u001b[0;34m=\u001b[0m\u001b[0;36m1\u001b[0m\u001b[0;34m,\u001b[0m \u001b[0mcolor\u001b[0m\u001b[0;34m=\u001b[0m\u001b[0;34m'#14868c'\u001b[0m\u001b[0;34m,\u001b[0m\u001b[0mlegendname_position\u001b[0m\u001b[0;34m=\u001b[0m\u001b[0;36m2\u001b[0m\u001b[0;34m)\u001b[0m\u001b[0;34m\u001b[0m\u001b[0;34m\u001b[0m\u001b[0m\n\u001b[1;32m      4\u001b[0m \u001b[0mfig\u001b[0m \u001b[0;34m=\u001b[0m \u001b[0mcf\u001b[0m\u001b[0;34m.\u001b[0m\u001b[0msubplots\u001b[0m\u001b[0;34m(\u001b[0m\u001b[0;34m[\u001b[0m\u001b[0mfiga\u001b[0m\u001b[0;34m,\u001b[0m\u001b[0mfigb\u001b[0m\u001b[0;34m]\u001b[0m\u001b[0;34m,\u001b[0m\u001b[0mshape\u001b[0m\u001b[0;34m=\u001b[0m\u001b[0;34m(\u001b[0m\u001b[0;36m2\u001b[0m\u001b[0;34m,\u001b[0m\u001b[0;36m1\u001b[0m\u001b[0;34m)\u001b[0m\u001b[0;34m,\u001b[0m\u001b[0mshared_xaxes\u001b[0m\u001b[0;34m=\u001b[0m\u001b[0;32mFalse\u001b[0m\u001b[0;34m)\u001b[0m\u001b[0;34m\u001b[0m\u001b[0;34m\u001b[0m\u001b[0m\n",
      "\u001b[0;32m<ipython-input-10-d7ad6124f0ad>\u001b[0m in \u001b[0;36mshares_plot\u001b[0;34m(df, column_values, order)\u001b[0m\n\u001b[1;32m     37\u001b[0m     \u001b[0mdf_count\u001b[0m\u001b[0;34m.\u001b[0m\u001b[0mcolumns\u001b[0m \u001b[0;34m=\u001b[0m \u001b[0mdf_count\u001b[0m\u001b[0;34m.\u001b[0m\u001b[0mcolumns\u001b[0m\u001b[0;34m.\u001b[0m\u001b[0mdroplevel\u001b[0m\u001b[0;34m(\u001b[0m\u001b[0;34m)\u001b[0m\u001b[0;34m\u001b[0m\u001b[0;34m\u001b[0m\u001b[0m\n\u001b[1;32m     38\u001b[0m     \u001b[0mpresent\u001b[0m \u001b[0;34m=\u001b[0m \u001b[0;34m[\u001b[0m\u001b[0mexists\u001b[0m \u001b[0;32mfor\u001b[0m \u001b[0mexists\u001b[0m \u001b[0;32min\u001b[0m \u001b[0morder\u001b[0m \u001b[0;32mif\u001b[0m \u001b[0mexists\u001b[0m \u001b[0;32min\u001b[0m \u001b[0mdf_count\u001b[0m\u001b[0;34m.\u001b[0m\u001b[0mcolumns\u001b[0m\u001b[0;34m]\u001b[0m\u001b[0;34m\u001b[0m\u001b[0;34m\u001b[0m\u001b[0m\n\u001b[0;32m---> 39\u001b[0;31m     \u001b[0mdf_count_sorted\u001b[0m \u001b[0;34m=\u001b[0m \u001b[0mdf_count\u001b[0m\u001b[0;34m[\u001b[0m\u001b[0mpresent\u001b[0m\u001b[0;34m[\u001b[0m\u001b[0;34m:\u001b[0m\u001b[0;34m:\u001b[0m\u001b[0;34m-\u001b[0m\u001b[0;36m1\u001b[0m\u001b[0;34m]\u001b[0m\u001b[0;34m]\u001b[0m\u001b[0;34m.\u001b[0m\u001b[0mreindex\u001b[0m\u001b[0;34m(\u001b[0m\u001b[0;34m[\u001b[0m\u001b[0;34m'Monday'\u001b[0m\u001b[0;34m,\u001b[0m\u001b[0;34m'Tuesday'\u001b[0m\u001b[0;34m,\u001b[0m\u001b[0;34m'Wednesday'\u001b[0m\u001b[0;34m,\u001b[0m\u001b[0;34m'Thursday'\u001b[0m\u001b[0;34m,\u001b[0m\u001b[0;34m'Friday'\u001b[0m\u001b[0;34m,\u001b[0m\u001b[0;34m'Saturday'\u001b[0m\u001b[0;34m,\u001b[0m\u001b[0;34m'Sunday'\u001b[0m\u001b[0;34m]\u001b[0m\u001b[0;34m,\u001b[0m\u001b[0mlevel\u001b[0m\u001b[0;34m=\u001b[0m\u001b[0;36m0\u001b[0m\u001b[0;34m)\u001b[0m\u001b[0;34m\u001b[0m\u001b[0;34m\u001b[0m\u001b[0m\n\u001b[0m\u001b[1;32m     40\u001b[0m     \u001b[0mdf_new_index\u001b[0m \u001b[0;34m=\u001b[0m \u001b[0;34m(\u001b[0m\u001b[0mdf_count_sorted\u001b[0m\u001b[0;34m.\u001b[0m\u001b[0mT\u001b[0m\u001b[0;34m/\u001b[0m\u001b[0mdf_count_sorted\u001b[0m\u001b[0;34m.\u001b[0m\u001b[0mT\u001b[0m\u001b[0;34m.\u001b[0m\u001b[0msum\u001b[0m\u001b[0;34m(\u001b[0m\u001b[0maxis\u001b[0m\u001b[0;34m=\u001b[0m\u001b[0;36m0\u001b[0m\u001b[0;34m)\u001b[0m\u001b[0;34m)\u001b[0m\u001b[0;34m.\u001b[0m\u001b[0mT\u001b[0m\u001b[0;34m\u001b[0m\u001b[0;34m\u001b[0m\u001b[0m\n\u001b[1;32m     41\u001b[0m     \u001b[0mdf_new_index\u001b[0m\u001b[0;34m.\u001b[0m\u001b[0mloc\u001b[0m\u001b[0;34m[\u001b[0m\u001b[0;34m:\u001b[0m\u001b[0;34m,\u001b[0m\u001b[0;34m'new_index'\u001b[0m\u001b[0;34m]\u001b[0m \u001b[0;34m=\u001b[0m \u001b[0;34m[\u001b[0m\u001b[0;34m[\u001b[0m\u001b[0mstr\u001b[0m\u001b[0;34m(\u001b[0m\u001b[0mh\u001b[0m\u001b[0;34m)\u001b[0m \u001b[0;32mif\u001b[0m \u001b[0mh\u001b[0m \u001b[0;34m>\u001b[0m \u001b[0;36m9\u001b[0m \u001b[0;32melse\u001b[0m \u001b[0;34m'0'\u001b[0m\u001b[0;34m+\u001b[0m\u001b[0mstr\u001b[0m\u001b[0;34m(\u001b[0m\u001b[0mh\u001b[0m\u001b[0;34m)\u001b[0m\u001b[0;34m]\u001b[0m\u001b[0;34m[\u001b[0m\u001b[0;36m0\u001b[0m\u001b[0;34m]\u001b[0m \u001b[0;34m+\u001b[0m \u001b[0;34m','\u001b[0m \u001b[0;34m+\u001b[0m \u001b[0md\u001b[0m\u001b[0;34m[\u001b[0m\u001b[0;34m:\u001b[0m\u001b[0;36m3\u001b[0m\u001b[0;34m]\u001b[0m \u001b[0;32mfor\u001b[0m \u001b[0md\u001b[0m\u001b[0;34m,\u001b[0m\u001b[0mh\u001b[0m \u001b[0;32min\u001b[0m \u001b[0mdf_new_index\u001b[0m\u001b[0;34m.\u001b[0m\u001b[0mindex\u001b[0m\u001b[0;34m.\u001b[0m\u001b[0mvalues\u001b[0m\u001b[0;34m]\u001b[0m\u001b[0;34m\u001b[0m\u001b[0;34m\u001b[0m\u001b[0m\n",
      "\u001b[0;32m~/opt/anaconda3/envs/emobpyenv/lib/python3.6/site-packages/pandas/util/_decorators.py\u001b[0m in \u001b[0;36mwrapper\u001b[0;34m(*args, **kwargs)\u001b[0m\n\u001b[1;32m    307\u001b[0m         \u001b[0;34m@\u001b[0m\u001b[0mwraps\u001b[0m\u001b[0;34m(\u001b[0m\u001b[0mfunc\u001b[0m\u001b[0;34m)\u001b[0m\u001b[0;34m\u001b[0m\u001b[0;34m\u001b[0m\u001b[0m\n\u001b[1;32m    308\u001b[0m         \u001b[0;32mdef\u001b[0m \u001b[0mwrapper\u001b[0m\u001b[0;34m(\u001b[0m\u001b[0;34m*\u001b[0m\u001b[0margs\u001b[0m\u001b[0;34m,\u001b[0m \u001b[0;34m**\u001b[0m\u001b[0mkwargs\u001b[0m\u001b[0;34m)\u001b[0m \u001b[0;34m->\u001b[0m \u001b[0mCallable\u001b[0m\u001b[0;34m[\u001b[0m\u001b[0;34m...\u001b[0m\u001b[0;34m,\u001b[0m \u001b[0mAny\u001b[0m\u001b[0;34m]\u001b[0m\u001b[0;34m:\u001b[0m\u001b[0;34m\u001b[0m\u001b[0;34m\u001b[0m\u001b[0m\n\u001b[0;32m--> 309\u001b[0;31m             \u001b[0;32mreturn\u001b[0m \u001b[0mfunc\u001b[0m\u001b[0;34m(\u001b[0m\u001b[0;34m*\u001b[0m\u001b[0margs\u001b[0m\u001b[0;34m,\u001b[0m \u001b[0;34m**\u001b[0m\u001b[0mkwargs\u001b[0m\u001b[0;34m)\u001b[0m\u001b[0;34m\u001b[0m\u001b[0;34m\u001b[0m\u001b[0m\n\u001b[0m\u001b[1;32m    310\u001b[0m \u001b[0;34m\u001b[0m\u001b[0m\n\u001b[1;32m    311\u001b[0m         \u001b[0mkind\u001b[0m \u001b[0;34m=\u001b[0m \u001b[0minspect\u001b[0m\u001b[0;34m.\u001b[0m\u001b[0mParameter\u001b[0m\u001b[0;34m.\u001b[0m\u001b[0mPOSITIONAL_OR_KEYWORD\u001b[0m\u001b[0;34m\u001b[0m\u001b[0;34m\u001b[0m\u001b[0m\n",
      "\u001b[0;32m~/opt/anaconda3/envs/emobpyenv/lib/python3.6/site-packages/pandas/core/frame.py\u001b[0m in \u001b[0;36mreindex\u001b[0;34m(self, *args, **kwargs)\u001b[0m\n\u001b[1;32m   4034\u001b[0m         \u001b[0mkwargs\u001b[0m\u001b[0;34m.\u001b[0m\u001b[0mpop\u001b[0m\u001b[0;34m(\u001b[0m\u001b[0;34m\"axis\"\u001b[0m\u001b[0;34m,\u001b[0m \u001b[0;32mNone\u001b[0m\u001b[0;34m)\u001b[0m\u001b[0;34m\u001b[0m\u001b[0;34m\u001b[0m\u001b[0m\n\u001b[1;32m   4035\u001b[0m         \u001b[0mkwargs\u001b[0m\u001b[0;34m.\u001b[0m\u001b[0mpop\u001b[0m\u001b[0;34m(\u001b[0m\u001b[0;34m\"labels\"\u001b[0m\u001b[0;34m,\u001b[0m \u001b[0;32mNone\u001b[0m\u001b[0;34m)\u001b[0m\u001b[0;34m\u001b[0m\u001b[0;34m\u001b[0m\u001b[0m\n\u001b[0;32m-> 4036\u001b[0;31m         \u001b[0;32mreturn\u001b[0m \u001b[0msuper\u001b[0m\u001b[0;34m(\u001b[0m\u001b[0;34m)\u001b[0m\u001b[0;34m.\u001b[0m\u001b[0mreindex\u001b[0m\u001b[0;34m(\u001b[0m\u001b[0;34m**\u001b[0m\u001b[0mkwargs\u001b[0m\u001b[0;34m)\u001b[0m\u001b[0;34m\u001b[0m\u001b[0;34m\u001b[0m\u001b[0m\n\u001b[0m\u001b[1;32m   4037\u001b[0m \u001b[0;34m\u001b[0m\u001b[0m\n\u001b[1;32m   4038\u001b[0m     def drop(\n",
      "\u001b[0;32m~/opt/anaconda3/envs/emobpyenv/lib/python3.6/site-packages/pandas/core/generic.py\u001b[0m in \u001b[0;36mreindex\u001b[0;34m(self, *args, **kwargs)\u001b[0m\n\u001b[1;32m   4462\u001b[0m         \u001b[0;31m# perform the reindex on the axes\u001b[0m\u001b[0;34m\u001b[0m\u001b[0;34m\u001b[0m\u001b[0;34m\u001b[0m\u001b[0m\n\u001b[1;32m   4463\u001b[0m         return self._reindex_axes(\n\u001b[0;32m-> 4464\u001b[0;31m             \u001b[0maxes\u001b[0m\u001b[0;34m,\u001b[0m \u001b[0mlevel\u001b[0m\u001b[0;34m,\u001b[0m \u001b[0mlimit\u001b[0m\u001b[0;34m,\u001b[0m \u001b[0mtolerance\u001b[0m\u001b[0;34m,\u001b[0m \u001b[0mmethod\u001b[0m\u001b[0;34m,\u001b[0m \u001b[0mfill_value\u001b[0m\u001b[0;34m,\u001b[0m \u001b[0mcopy\u001b[0m\u001b[0;34m\u001b[0m\u001b[0;34m\u001b[0m\u001b[0m\n\u001b[0m\u001b[1;32m   4465\u001b[0m         ).__finalize__(self, method=\"reindex\")\n\u001b[1;32m   4466\u001b[0m \u001b[0;34m\u001b[0m\u001b[0m\n",
      "\u001b[0;32m~/opt/anaconda3/envs/emobpyenv/lib/python3.6/site-packages/pandas/core/frame.py\u001b[0m in \u001b[0;36m_reindex_axes\u001b[0;34m(self, axes, level, limit, tolerance, method, fill_value, copy)\u001b[0m\n\u001b[1;32m   3881\u001b[0m         \u001b[0;32mif\u001b[0m \u001b[0mindex\u001b[0m \u001b[0;32mis\u001b[0m \u001b[0;32mnot\u001b[0m \u001b[0;32mNone\u001b[0m\u001b[0;34m:\u001b[0m\u001b[0;34m\u001b[0m\u001b[0;34m\u001b[0m\u001b[0m\n\u001b[1;32m   3882\u001b[0m             frame = frame._reindex_index(\n\u001b[0;32m-> 3883\u001b[0;31m                 \u001b[0mindex\u001b[0m\u001b[0;34m,\u001b[0m \u001b[0mmethod\u001b[0m\u001b[0;34m,\u001b[0m \u001b[0mcopy\u001b[0m\u001b[0;34m,\u001b[0m \u001b[0mlevel\u001b[0m\u001b[0;34m,\u001b[0m \u001b[0mfill_value\u001b[0m\u001b[0;34m,\u001b[0m \u001b[0mlimit\u001b[0m\u001b[0;34m,\u001b[0m \u001b[0mtolerance\u001b[0m\u001b[0;34m\u001b[0m\u001b[0;34m\u001b[0m\u001b[0m\n\u001b[0m\u001b[1;32m   3884\u001b[0m             )\n\u001b[1;32m   3885\u001b[0m \u001b[0;34m\u001b[0m\u001b[0m\n",
      "\u001b[0;32m~/opt/anaconda3/envs/emobpyenv/lib/python3.6/site-packages/pandas/core/frame.py\u001b[0m in \u001b[0;36m_reindex_index\u001b[0;34m(self, new_index, method, copy, level, fill_value, limit, tolerance)\u001b[0m\n\u001b[1;32m   3897\u001b[0m     ):\n\u001b[1;32m   3898\u001b[0m         new_index, indexer = self.index.reindex(\n\u001b[0;32m-> 3899\u001b[0;31m             \u001b[0mnew_index\u001b[0m\u001b[0;34m,\u001b[0m \u001b[0mmethod\u001b[0m\u001b[0;34m=\u001b[0m\u001b[0mmethod\u001b[0m\u001b[0;34m,\u001b[0m \u001b[0mlevel\u001b[0m\u001b[0;34m=\u001b[0m\u001b[0mlevel\u001b[0m\u001b[0;34m,\u001b[0m \u001b[0mlimit\u001b[0m\u001b[0;34m=\u001b[0m\u001b[0mlimit\u001b[0m\u001b[0;34m,\u001b[0m \u001b[0mtolerance\u001b[0m\u001b[0;34m=\u001b[0m\u001b[0mtolerance\u001b[0m\u001b[0;34m\u001b[0m\u001b[0;34m\u001b[0m\u001b[0m\n\u001b[0m\u001b[1;32m   3900\u001b[0m         )\n\u001b[1;32m   3901\u001b[0m         return self._reindex_with_indexers(\n",
      "\u001b[0;32m~/opt/anaconda3/envs/emobpyenv/lib/python3.6/site-packages/pandas/core/indexes/multi.py\u001b[0m in \u001b[0;36mreindex\u001b[0;34m(self, target, method, level, limit, tolerance)\u001b[0m\n\u001b[1;32m   2305\u001b[0m                 \u001b[0mtarget\u001b[0m \u001b[0;34m=\u001b[0m \u001b[0mensure_index\u001b[0m\u001b[0;34m(\u001b[0m\u001b[0mtarget\u001b[0m\u001b[0;34m)\u001b[0m\u001b[0;34m\u001b[0m\u001b[0;34m\u001b[0m\u001b[0m\n\u001b[1;32m   2306\u001b[0m             target, indexer, _ = self._join_level(\n\u001b[0;32m-> 2307\u001b[0;31m                 \u001b[0mtarget\u001b[0m\u001b[0;34m,\u001b[0m \u001b[0mlevel\u001b[0m\u001b[0;34m,\u001b[0m \u001b[0mhow\u001b[0m\u001b[0;34m=\u001b[0m\u001b[0;34m\"right\"\u001b[0m\u001b[0;34m,\u001b[0m \u001b[0mreturn_indexers\u001b[0m\u001b[0;34m=\u001b[0m\u001b[0;32mTrue\u001b[0m\u001b[0;34m,\u001b[0m \u001b[0mkeep_order\u001b[0m\u001b[0;34m=\u001b[0m\u001b[0;32mFalse\u001b[0m\u001b[0;34m\u001b[0m\u001b[0;34m\u001b[0m\u001b[0m\n\u001b[0m\u001b[1;32m   2308\u001b[0m             )\n\u001b[1;32m   2309\u001b[0m         \u001b[0;32melse\u001b[0m\u001b[0;34m:\u001b[0m\u001b[0;34m\u001b[0m\u001b[0;34m\u001b[0m\u001b[0m\n",
      "\u001b[0;32m~/opt/anaconda3/envs/emobpyenv/lib/python3.6/site-packages/pandas/core/indexes/base.py\u001b[0m in \u001b[0;36m_join_level\u001b[0;34m(self, other, level, how, return_indexers, keep_order)\u001b[0m\n\u001b[1;32m   3733\u001b[0m             \u001b[0;32melse\u001b[0m\u001b[0;34m:\u001b[0m  \u001b[0;31m# tie out the order with other\u001b[0m\u001b[0;34m\u001b[0m\u001b[0;34m\u001b[0m\u001b[0m\n\u001b[1;32m   3734\u001b[0m                 \u001b[0;32mif\u001b[0m \u001b[0mlevel\u001b[0m \u001b[0;34m==\u001b[0m \u001b[0;36m0\u001b[0m\u001b[0;34m:\u001b[0m  \u001b[0;31m# outer most level, take the fast route\u001b[0m\u001b[0;34m\u001b[0m\u001b[0;34m\u001b[0m\u001b[0m\n\u001b[0;32m-> 3735\u001b[0;31m                     \u001b[0mngroups\u001b[0m \u001b[0;34m=\u001b[0m \u001b[0;36m1\u001b[0m \u001b[0;34m+\u001b[0m \u001b[0mnew_lev_codes\u001b[0m\u001b[0;34m.\u001b[0m\u001b[0mmax\u001b[0m\u001b[0;34m(\u001b[0m\u001b[0;34m)\u001b[0m\u001b[0;34m\u001b[0m\u001b[0;34m\u001b[0m\u001b[0m\n\u001b[0m\u001b[1;32m   3736\u001b[0m                     left_indexer, counts = libalgos.groupsort_indexer(\n\u001b[1;32m   3737\u001b[0m                         \u001b[0mnew_lev_codes\u001b[0m\u001b[0;34m,\u001b[0m \u001b[0mngroups\u001b[0m\u001b[0;34m\u001b[0m\u001b[0;34m\u001b[0m\u001b[0m\n",
      "\u001b[0;32m~/opt/anaconda3/envs/emobpyenv/lib/python3.6/site-packages/numpy/core/_methods.py\u001b[0m in \u001b[0;36m_amax\u001b[0;34m(a, axis, out, keepdims, initial, where)\u001b[0m\n\u001b[1;32m     37\u001b[0m def _amax(a, axis=None, out=None, keepdims=False,\n\u001b[1;32m     38\u001b[0m           initial=_NoValue, where=True):\n\u001b[0;32m---> 39\u001b[0;31m     \u001b[0;32mreturn\u001b[0m \u001b[0mumr_maximum\u001b[0m\u001b[0;34m(\u001b[0m\u001b[0ma\u001b[0m\u001b[0;34m,\u001b[0m \u001b[0maxis\u001b[0m\u001b[0;34m,\u001b[0m \u001b[0;32mNone\u001b[0m\u001b[0;34m,\u001b[0m \u001b[0mout\u001b[0m\u001b[0;34m,\u001b[0m \u001b[0mkeepdims\u001b[0m\u001b[0;34m,\u001b[0m \u001b[0minitial\u001b[0m\u001b[0;34m,\u001b[0m \u001b[0mwhere\u001b[0m\u001b[0;34m)\u001b[0m\u001b[0;34m\u001b[0m\u001b[0;34m\u001b[0m\u001b[0m\n\u001b[0m\u001b[1;32m     40\u001b[0m \u001b[0;34m\u001b[0m\u001b[0m\n\u001b[1;32m     41\u001b[0m def _amin(a, axis=None, out=None, keepdims=False,\n",
      "\u001b[0;31mValueError\u001b[0m: zero-size array to reduction operation maximum which has no identity"
     ]
    }
   ],
   "source": [
    "dt = start_and_end_week(df)\n",
    "figa = shares_plot(dt, column_values='charging_point', order=['none', 'public', 'fast150', 'fast75'])\n",
    "figb = box_plot(dt, 'Average vehicle [kWh]', column_values='charge_grid', factor=1, color='#14868c',legendname_position=2)\n",
    "fig = cf.subplots([figa,figb],shape=(2,1),shared_xaxes=False)"
   ]
  },
  {
   "cell_type": "code",
   "execution_count": null,
   "id": "9527471f",
   "metadata": {},
   "outputs": [],
   "source": [
    "# Some customizations for the final plot. Adjust according to your needs\n",
    "\n",
    "# fig['layout']['xaxis'].update({'showticklabels':True})\n",
    "xaxisdct = {'automargin': False,\n",
    "              'showgrid': False,\n",
    "              'showline': True,\n",
    "#               'zeroline':True,\n",
    "              'tickmode':'array',\n",
    "              'tickvals': ['00,Mon', '06,Mon', '12,Mon', '18,Mon',\n",
    "                           '00,Tue', '06,Tue', '12,Tue', '18,Tue',\n",
    "                           '00,Wed', '06,Wed', '12,Wed', '18,Wed',\n",
    "                           '00,Thu', '06,Thu', '12,Thu', '18,Thu',\n",
    "                           '00,Fri', '06,Fri', '12,Fri', '18,Fri',\n",
    "                           '00,Sat', '06,Sat', '12,Sat', '18,Sat',\n",
    "                           '00,Sun', '06,Sun', '12,Sun', '18,Sun','23,Sun'],\n",
    "              'ticktext': ['00:00<br>', '06:00<br>', '12:00<br>Monday', '18:00<br>',\n",
    "                           '00:00<br>', '06:00<br>', '12:00<br>Tuesday', '18:00<br>',\n",
    "                           '00:00<br>', '06:00<br>', '12:00<br>Wednesday', '18:00<br>',\n",
    "                           '00:00<br>', '06:00<br>', '12:00<br>Thursday', '18:00<br>',\n",
    "                           '00:00<br>', '06:00<br>', '12:00<br>Friday', '18:00<br>',\n",
    "                           '00:00<br>', '06:00<br>', '12:00<br>Saturday', '18:00<br>',\n",
    "                           '00:00<br>', '06:00<br>', '12:00<br>Sunday', '18:00<br>','23:00<br>'],\n",
    "               'ticklen': 2,\n",
    "             'tickwidth': 2,\n",
    "              'tickfont':{'family': 'Arial, sans-serif',\n",
    "                            'size': 7,\n",
    "                           'color': 'black'},\n",
    "             'linewidth': 2,\n",
    "#          'zerolinecolor': '#969696',\n",
    "#          'zerolinewidth': 2,\n",
    "        'showticklabels':True,\n",
    "                \"ticks\":\"outside\",\n",
    "                'ticklen': 2,\n",
    "                'tickwidth': 2,\n",
    "            'linecolor': 'black',\n",
    "           }\n",
    "fig['layout']['xaxis'].update(xaxisdct)\n",
    "# fig['layout']['xaxis'].update({'showticklabels':False})\n",
    "fig['layout']['xaxis2'].update(xaxisdct)\n",
    "\n",
    "fig['layout']['yaxis'].update({'title': 'Share',\n",
    "                           'titlefont': {'size':12},\n",
    "                            'showgrid': False,'showline':True,'rangemode':\"tozero\", 'zeroline' : True,\n",
    "                              'domain': [0.6, 1.0],'tickformat' : ',.0%',\n",
    "                            'tickfont': {'family': 'Arial, sans-serif',\n",
    "                                           'size': 12,\n",
    "                                          'color': 'black'},\n",
    "                           'linewidth':2,\n",
    "                            \"ticks\":\"outside\",\n",
    "                            'ticklen': 2,\n",
    "                            'tickwidth': 2,\n",
    "                               'linecolor': 'black',\n",
    "                              })\n",
    "fig['layout']['yaxis2'].update({'title': 'Grid electricity demand (kWh)',\n",
    "                            'titlefont': {'size':12},\n",
    "                             'showgrid': True,'showline':True,'rangemode':\"tozero\",\n",
    "                               'domain': [0.0, 0.5],\n",
    "                             'tickfont': {'family': 'Arial, sans-serif',\n",
    "                                            'size': 12,\n",
    "                                           'color': 'black'},\n",
    "                            'linewidth':2,\n",
    "                                'range': [0,35],\n",
    "                                'dtick': 5,\n",
    "                            \"ticks\":\"outside\",\n",
    "                            'ticklen': 2,\n",
    "                            'tickwidth': 2,\n",
    "                            'linecolor': 'black',\n",
    "                               })\n",
    "\n",
    "fig['layout'].update({'paper_bgcolor': 'white',\n",
    "                       'plot_bgcolor': 'white',\n",
    "                             'margin': dict(l=70, r=15, t=20, b=50, pad=0),\n",
    "                              'width': 1000,\n",
    "                             'height': 700,\n",
    "                         'showlegend': True,\n",
    "                             'legend': {'orientation': 'h','x': 0.15, 'y': 1.04,\n",
    "                                        'font': dict(family= 'Arial, sans-serif',\n",
    "                                                       size= 12,\n",
    "                                                      color= 'black')}\n",
    "                     })\n",
    "\n",
    "iplot(fig,show_link=False)"
   ]
  },
  {
   "cell_type": "code",
   "execution_count": null,
   "id": "59c3cdfa",
   "metadata": {},
   "outputs": [],
   "source": [
    "shares_plot(dt) # with state as default"
   ]
  },
  {
   "cell_type": "code",
   "execution_count": null,
   "id": "9c4821e1",
   "metadata": {},
   "outputs": [],
   "source": []
  }
 ],
 "metadata": {
  "interpreter": {
   "hash": "00355ee0669e9bb82bbe752da05b90530fa67ea607eb1d1e460ac2d53dc71122"
  },
  "kernelspec": {
   "display_name": "Python 3",
   "language": "python",
   "name": "python3"
  },
  "language_info": {
   "codemirror_mode": {
    "name": "ipython",
    "version": 3
   },
   "file_extension": ".py",
   "mimetype": "text/x-python",
   "name": "python",
   "nbconvert_exporter": "python",
   "pygments_lexer": "ipython3",
   "version": "3.6.15"
  }
 },
 "nbformat": 4,
 "nbformat_minor": 5
}
