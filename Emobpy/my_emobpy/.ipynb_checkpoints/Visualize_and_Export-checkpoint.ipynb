{
 "cells": [
  {
   "cell_type": "code",
   "execution_count": 28,
   "id": "moderate-measurement",
   "metadata": {},
   "outputs": [],
   "source": [
    "from emobpy import DataBase, Export\n",
    "from emobpy.plot import NBplot\n",
    "import os\n",
    "from os import listdir\n",
    "from os.path import isfile, join"
   ]
  },
  {
   "cell_type": "code",
   "execution_count": null,
   "id": "3b818efc",
   "metadata": {},
   "outputs": [],
   "source": [
    "path = os.getcwd()\n",
    "consumption_path = os.path.join(path, \"db\", \"consumption\")\n",
    "availability_path = os.path.join(path, \"db\", \"availability\")"
   ]
  },
  {
   "cell_type": "code",
   "execution_count": 56,
   "id": "70d4c6aa",
   "metadata": {},
   "outputs": [],
   "source": [
    "DB = DataBase('db')\n",
    "DB_consumption = DataBase(\"db/consumption\")\n",
    "DB_availability = DataBase(\"db/availability\")"
   ]
  },
  {
   "cell_type": "code",
   "execution_count": 66,
   "id": "75122ce8",
   "metadata": {},
   "outputs": [],
   "source": [
    "DB.loadfiles()"
   ]
  },
  {
   "cell_type": "code",
   "execution_count": 68,
   "id": "958deddf",
   "metadata": {},
   "outputs": [
    {
     "data": {
      "text/plain": [
       "dict_keys(['BEV2_W1_bcc4e', 'BEV2_W1_2d186', 'BEV0_W1_c2d03', 'BEV0_W1_df9aa', 'BEV2_W1_10dfc', 'BEV1_W1_a6075', 'BEV1_W1_6c0c7', 'BEV1_W1_0b4c1', 'BEV0_W1_0ec6d'])"
      ]
     },
     "execution_count": 68,
     "metadata": {},
     "output_type": "execute_result"
    }
   ],
   "source": [
    "DB.db.keys()"
   ]
  },
  {
   "cell_type": "code",
   "execution_count": 48,
   "id": "e2e65abf",
   "metadata": {},
   "outputs": [],
   "source": [
    "path = os.getcwd()"
   ]
  },
  {
   "cell_type": "code",
   "execution_count": 53,
   "id": "82c32dd3",
   "metadata": {},
   "outputs": [],
   "source": [
    "all_files = [f for f in listdir(path) if isfile(join(path, f))]"
   ]
  },
  {
   "cell_type": "code",
   "execution_count": 54,
   "id": "a53487e9",
   "metadata": {},
   "outputs": [
    {
     "data": {
      "text/plain": [
       "['Step4GridDemand.py',\n",
       " 'Instructions.rst',\n",
       " 'Time-series_generation.ipynb',\n",
       " 'Load Profiles.ipynb',\n",
       " '.DS_Store',\n",
       " 'Step3GridAvailability.py',\n",
       " 'Visualize_and_Export.ipynb',\n",
       " 'Step1Mobility.py',\n",
       " 'Step2DrivingConsumption.py',\n",
       " 'Time-series_generation.ipynb Kopie',\n",
       " 'example001.ipynb']"
      ]
     },
     "execution_count": 54,
     "metadata": {},
     "output_type": "execute_result"
    }
   ],
   "source": [
    "all_files"
   ]
  },
  {
   "cell_type": "code",
   "execution_count": 39,
   "id": "6ac9c85c",
   "metadata": {},
   "outputs": [
    {
     "ename": "TypeError",
     "evalue": "loadpkl() missing 2 required positional arguments: 'f' and 'variables'",
     "output_type": "error",
     "traceback": [
      "\u001b[0;31m---------------------------------------------------------------------------\u001b[0m",
      "\u001b[0;31mTypeError\u001b[0m                                 Traceback (most recent call last)",
      "\u001b[0;32m<ipython-input-39-33290a434958>\u001b[0m in \u001b[0;36m<module>\u001b[0;34m\u001b[0m\n\u001b[0;32m----> 1\u001b[0;31m \u001b[0ma\u001b[0m \u001b[0;34m=\u001b[0m  \u001b[0mDB\u001b[0m\u001b[0;34m.\u001b[0m\u001b[0mloadpkl\u001b[0m\u001b[0;34m(\u001b[0m\u001b[0mkind\u001b[0m\u001b[0;34m=\u001b[0m\u001b[0;34m\"driving\"\u001b[0m\u001b[0;34m)\u001b[0m\u001b[0;34m\u001b[0m\u001b[0;34m\u001b[0m\u001b[0m\n\u001b[0m",
      "\u001b[0;31mTypeError\u001b[0m: loadpkl() missing 2 required positional arguments: 'f' and 'variables'"
     ]
    }
   ],
   "source": [
    "a =  DB.loadpkl(kind=\"driving\")"
   ]
  },
  {
   "cell_type": "code",
   "execution_count": 41,
   "id": "e65ba6d0",
   "metadata": {},
   "outputs": [],
   "source": [
    "a = DBm.loadfiles(\"db\")"
   ]
  },
  {
   "cell_type": "code",
   "execution_count": 42,
   "id": "aa123add",
   "metadata": {},
   "outputs": [],
   "source": [
    "a"
   ]
  },
  {
   "cell_type": "code",
   "execution_count": 78,
   "id": "subject-sussex",
   "metadata": {},
   "outputs": [],
   "source": [
    "DBm = DataBase('db')\n",
    "DBm.loadfiles_batch(loaddir=\"db\", batch=2, kind=\"driving\") # load files in parallel that only contains Mobility time-series"
   ]
  },
  {
   "cell_type": "code",
   "execution_count": 79,
   "id": "level-lightning",
   "metadata": {},
   "outputs": [
    {
     "data": {
      "text/plain": [
       "'BEV1_W1_6c0c7'"
      ]
     },
     "execution_count": 79,
     "metadata": {},
     "output_type": "execute_result"
    }
   ],
   "source": [
    "mname = list(DBm.db.keys())[0]\n",
    "mname"
   ]
  },
  {
   "cell_type": "code",
   "execution_count": null,
   "id": "level-friday",
   "metadata": {},
   "outputs": [],
   "source": [
    "vizm = NBplot(DBm)"
   ]
  },
  {
   "cell_type": "code",
   "execution_count": null,
   "id": "discrete-tower",
   "metadata": {},
   "outputs": [],
   "source": [
    "figm = vizm.sgplot_dp(mname)"
   ]
  },
  {
   "cell_type": "code",
   "execution_count": null,
   "id": "9163fb06",
   "metadata": {},
   "outputs": [],
   "source": [
    "figm.show()"
   ]
  },
  {
   "cell_type": "code",
   "execution_count": 35,
   "id": "scientific-liverpool",
   "metadata": {},
   "outputs": [],
   "source": [
    "DBc = DataBase('db')\n",
    "DBc.loadfiles_batch(kind=\"consumption\", add_variables=['Trips'])"
   ]
  },
  {
   "cell_type": "code",
   "execution_count": 36,
   "id": "empty-elite",
   "metadata": {},
   "outputs": [
    {
     "data": {
      "text/plain": [
       "'BEV1_W2_145b6_Volkswagen_ID.3_2020_7853f'"
      ]
     },
     "execution_count": 36,
     "metadata": {},
     "output_type": "execute_result"
    }
   ],
   "source": [
    "cname = list(DBc.db.keys())[0]\n",
    "cname"
   ]
  },
  {
   "cell_type": "code",
   "execution_count": null,
   "id": "sound-office",
   "metadata": {},
   "outputs": [],
   "source": [
    "vizc = NBplot(DBc)"
   ]
  },
  {
   "cell_type": "code",
   "execution_count": null,
   "id": "neural-haiti",
   "metadata": {},
   "outputs": [],
   "source": [
    "figc = vizc.sankey(cname, include=None, to_html=False, path='sankey.html')"
   ]
  },
  {
   "cell_type": "code",
   "execution_count": null,
   "id": "beneficial-today",
   "metadata": {},
   "outputs": [],
   "source": [
    "figc.show()"
   ]
  },
  {
   "cell_type": "code",
   "execution_count": 37,
   "id": "encouraging-literature",
   "metadata": {},
   "outputs": [],
   "source": [
    "DBa = DataBase('db')\n",
    "DBa.loadfiles_batch(kind=\"availability\")"
   ]
  },
  {
   "cell_type": "code",
   "execution_count": 38,
   "id": "suited-windows",
   "metadata": {},
   "outputs": [
    {
     "data": {
      "text/plain": [
       "'BEV1_W2_2b360_Volkswagen_ID.3_2020_e227a_avai_b0306'"
      ]
     },
     "execution_count": 38,
     "metadata": {},
     "output_type": "execute_result"
    }
   ],
   "source": [
    "aname = list(DBa.db.keys())[0]\n",
    "aname"
   ]
  },
  {
   "cell_type": "code",
   "execution_count": null,
   "id": "preliminary-consent",
   "metadata": {},
   "outputs": [],
   "source": [
    "viza = NBplot(DBa)"
   ]
  },
  {
   "cell_type": "code",
   "execution_count": null,
   "id": "spare-syntax",
   "metadata": {},
   "outputs": [],
   "source": [
    "figg = viza.sgplot_ga(aname, rng=None, to_html=False, path=None)"
   ]
  },
  {
   "cell_type": "code",
   "execution_count": null,
   "id": "f4d4fe33",
   "metadata": {},
   "outputs": [],
   "source": [
    "figg.show()"
   ]
  },
  {
   "cell_type": "code",
   "execution_count": null,
   "id": "statistical-newcastle",
   "metadata": {},
   "outputs": [],
   "source": [
    "DBd = DataBase('db')\n",
    "DBd.loadfiles_batch(kind=\"charging\")"
   ]
  },
  {
   "cell_type": "code",
   "execution_count": null,
   "id": "representative-current",
   "metadata": {},
   "outputs": [],
   "source": [
    "dname = list(DBd.db.keys())[0]\n",
    "dname"
   ]
  },
  {
   "cell_type": "code",
   "execution_count": null,
   "id": "smoking-lambda",
   "metadata": {},
   "outputs": [],
   "source": [
    "vizd = NBplot(DBd)"
   ]
  },
  {
   "cell_type": "code",
   "execution_count": null,
   "id": "rapid-advice",
   "metadata": {},
   "outputs": [],
   "source": [
    "figd = vizd.sgplot_ged(dname, rng=None, to_html=False, path=None)"
   ]
  },
  {
   "cell_type": "code",
   "execution_count": null,
   "id": "a9a4efd0",
   "metadata": {},
   "outputs": [],
   "source": [
    "figd.show()"
   ]
  },
  {
   "cell_type": "code",
   "execution_count": null,
   "id": "protecting-reliance",
   "metadata": {},
   "outputs": [],
   "source": [
    "DB = DataBase('db')\n",
    "DB.update()\n",
    "Exp = Export()\n",
    "Exp.loaddata(DB)\n",
    "Exp.to_csv()\n",
    "Exp.save_files()\n",
    "# See the two CSV files at \"db\" folder"
   ]
  },
  {
   "cell_type": "code",
   "execution_count": null,
   "id": "6b9a54e5",
   "metadata": {},
   "outputs": [],
   "source": [
    "viz = NBplot(DB)"
   ]
  },
  {
   "cell_type": "code",
   "execution_count": null,
   "id": "1e6e606b",
   "metadata": {},
   "outputs": [],
   "source": [
    "fig = viz.overview(dname)\n",
    "fig.show()"
   ]
  },
  {
   "cell_type": "markdown",
   "id": "weekly-nelson",
   "metadata": {},
   "source": [
    "### Playing with data frames: profiles and time series"
   ]
  },
  {
   "cell_type": "code",
   "execution_count": null,
   "id": "republican-surveillance",
   "metadata": {},
   "outputs": [],
   "source": [
    "list(DB.db.keys())"
   ]
  },
  {
   "cell_type": "code",
   "execution_count": null,
   "id": "detected-alabama",
   "metadata": {},
   "outputs": [],
   "source": [
    "TS_id = list(DB.db.keys())[0] # you can choose any\n",
    "TS_id"
   ]
  },
  {
   "cell_type": "code",
   "execution_count": null,
   "id": "excellent-affect",
   "metadata": {},
   "outputs": [],
   "source": [
    "df = DB.db[TS_id]['timeseries']"
   ]
  },
  {
   "cell_type": "code",
   "execution_count": null,
   "id": "broke-reconstruction",
   "metadata": {},
   "outputs": [],
   "source": [
    "df"
   ]
  },
  {
   "cell_type": "code",
   "execution_count": null,
   "id": "rough-bidder",
   "metadata": {},
   "outputs": [],
   "source": [
    "df[['distance']].iplot()"
   ]
  },
  {
   "cell_type": "code",
   "execution_count": null,
   "id": "organic-argument",
   "metadata": {},
   "outputs": [],
   "source": [
    "pf = DB.db[TS_id]['profile']"
   ]
  },
  {
   "cell_type": "code",
   "execution_count": null,
   "id": "polyphonic-parade",
   "metadata": {
    "scrolled": true
   },
   "outputs": [],
   "source": [
    "pf   # distance km and duration min"
   ]
  },
  {
   "cell_type": "code",
   "execution_count": null,
   "id": "juvenile-israeli",
   "metadata": {},
   "outputs": [],
   "source": [
    "for name in DB.db:\n",
    "    kind = DB.db[name]['kind']\n",
    "    if kind != 'driving':\n",
    "        input_ = DB.db[name]['input']  # upstream profile, e.g. charging <- availability <- consumption <- driving\n",
    "        print(kind, name, '<-', input_)\n",
    "    else:\n",
    "        print(kind, name)"
   ]
  },
  {
   "cell_type": "code",
   "execution_count": null,
   "id": "318c64cd",
   "metadata": {},
   "outputs": [],
   "source": [
    "Consumption_TS = DB.db[cname]['timeseries']"
   ]
  },
  {
   "cell_type": "code",
   "execution_count": null,
   "id": "8ee83d02",
   "metadata": {},
   "outputs": [],
   "source": [
    "Consumption_TS"
   ]
  },
  {
   "cell_type": "code",
   "execution_count": null,
   "id": "e375f67a",
   "metadata": {},
   "outputs": [],
   "source": [
    "Consumption_TS[['consumption','instant consumption in W', 'average power in W']].iplot() # Consumption in kWh/timestep -> timestep 15 min in this example\n",
    "# Instant consumption only displayed when timestep is 1s."
   ]
  },
  {
   "cell_type": "code",
   "execution_count": null,
   "id": "bc643a8b",
   "metadata": {},
   "outputs": [],
   "source": []
  }
 ],
 "metadata": {
  "kernelspec": {
   "display_name": "Python 3",
   "language": "python",
   "name": "python3"
  },
  "language_info": {
   "codemirror_mode": {
    "name": "ipython",
    "version": 3
   },
   "file_extension": ".py",
   "mimetype": "text/x-python",
   "name": "python",
   "nbconvert_exporter": "python",
   "pygments_lexer": "ipython3",
   "version": "3.6.15"
  }
 },
 "nbformat": 4,
 "nbformat_minor": 5
}
