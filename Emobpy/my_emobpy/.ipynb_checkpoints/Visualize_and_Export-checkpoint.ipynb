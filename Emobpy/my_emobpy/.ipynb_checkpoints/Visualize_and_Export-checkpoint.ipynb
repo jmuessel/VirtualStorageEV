{
 "cells": [
  {
   "cell_type": "code",
   "execution_count": 1,
   "id": "moderate-measurement",
   "metadata": {},
   "outputs": [
    {
     "data": {
      "text/html": [
       "        <script type=\"text/javascript\">\n",
       "        window.PlotlyConfig = {MathJaxConfig: 'local'};\n",
       "        if (window.MathJax) {MathJax.Hub.Config({SVG: {font: \"STIX-Web\"}});}\n",
       "        if (typeof require !== 'undefined') {\n",
       "        require.undef(\"plotly\");\n",
       "        requirejs.config({\n",
       "            paths: {\n",
       "                'plotly': ['https://cdn.plot.ly/plotly-2.8.3.min']\n",
       "            }\n",
       "        });\n",
       "        require(['plotly'], function(Plotly) {\n",
       "            window._Plotly = Plotly;\n",
       "        });\n",
       "        }\n",
       "        </script>\n",
       "        "
      ]
     },
     "metadata": {},
     "output_type": "display_data"
    }
   ],
   "source": [
    "from emobpy import DataBase, Export\n",
    "from emobpy.plot import NBplot\n",
    "import os\n",
    "from os import listdir\n",
    "from os.path import isfile, join"
   ]
  },
  {
   "cell_type": "code",
   "execution_count": 2,
   "id": "3b818efc",
   "metadata": {},
   "outputs": [],
   "source": [
    "path = os.getcwd()\n",
    "consumption_path = os.path.join(path, \"db\", \"used\", \"consumption\")\n",
    "availability_path = os.path.join(path, \"db\", \"availability\")"
   ]
  },
  {
   "cell_type": "code",
   "execution_count": 12,
   "id": "82c32dd3",
   "metadata": {},
   "outputs": [],
   "source": [
    "all_files = [f for f in listdir(path) if isfile(join(path, f))]\n",
    "all_files"
   ]
  },
  {
   "cell_type": "code",
   "execution_count": 16,
   "id": "subject-sussex",
   "metadata": {},
   "outputs": [],
   "source": [
    "DBm = DataBase('db')\n",
    "DBm.loadfiles_batch(loaddir=\"db\", batch=2, kind=\"driving\") # load files in parallel that only contains Mobility time-series"
   ]
  },
  {
   "cell_type": "code",
   "execution_count": 18,
   "id": "level-lightning",
   "metadata": {},
   "outputs": [
    {
     "data": {
      "text/plain": [
       "[]"
      ]
     },
     "execution_count": 18,
     "metadata": {},
     "output_type": "execute_result"
    }
   ],
   "source": [
    "mname = list(DBm.db.keys())\n",
    "mname"
   ]
  },
  {
   "cell_type": "code",
   "execution_count": null,
   "id": "level-friday",
   "metadata": {},
   "outputs": [],
   "source": [
    "vizm = NBplot(DBm)"
   ]
  },
  {
   "cell_type": "code",
   "execution_count": null,
   "id": "discrete-tower",
   "metadata": {},
   "outputs": [],
   "source": [
    "figm = vizm.sgplot_dp(mname)"
   ]
  },
  {
   "cell_type": "code",
   "execution_count": null,
   "id": "9163fb06",
   "metadata": {},
   "outputs": [],
   "source": [
    "figm.show()"
   ]
  },
  {
   "cell_type": "code",
   "execution_count": 35,
   "id": "scientific-liverpool",
   "metadata": {},
   "outputs": [],
   "source": [
    "DBc = DataBase('db')\n",
    "DBc.loadfiles_batch(kind=\"consumption\", add_variables=['Trips'])"
   ]
  },
  {
   "cell_type": "code",
   "execution_count": 36,
   "id": "empty-elite",
   "metadata": {},
   "outputs": [
    {
     "data": {
      "text/plain": [
       "'BEV1_W2_145b6_Volkswagen_ID.3_2020_7853f'"
      ]
     },
     "execution_count": 36,
     "metadata": {},
     "output_type": "execute_result"
    }
   ],
   "source": [
    "cname = list(DBc.db.keys())[0]\n",
    "cname"
   ]
  },
  {
   "cell_type": "code",
   "execution_count": null,
   "id": "sound-office",
   "metadata": {},
   "outputs": [],
   "source": [
    "vizc = NBplot(DBc)"
   ]
  },
  {
   "cell_type": "code",
   "execution_count": null,
   "id": "neural-haiti",
   "metadata": {},
   "outputs": [],
   "source": [
    "figc = vizc.sankey(cname, include=None, to_html=False, path='sankey.html')"
   ]
  },
  {
   "cell_type": "code",
   "execution_count": null,
   "id": "beneficial-today",
   "metadata": {},
   "outputs": [],
   "source": [
    "figc.show()"
   ]
  },
  {
   "cell_type": "code",
   "execution_count": 37,
   "id": "encouraging-literature",
   "metadata": {},
   "outputs": [],
   "source": [
    "DBa = DataBase('db')\n",
    "DBa.loadfiles_batch(kind=\"availability\")"
   ]
  },
  {
   "cell_type": "code",
   "execution_count": 38,
   "id": "suited-windows",
   "metadata": {},
   "outputs": [
    {
     "data": {
      "text/plain": [
       "'BEV1_W2_2b360_Volkswagen_ID.3_2020_e227a_avai_b0306'"
      ]
     },
     "execution_count": 38,
     "metadata": {},
     "output_type": "execute_result"
    }
   ],
   "source": [
    "aname = list(DBa.db.keys())[0]\n",
    "aname"
   ]
  },
  {
   "cell_type": "code",
   "execution_count": null,
   "id": "preliminary-consent",
   "metadata": {},
   "outputs": [],
   "source": [
    "viza = NBplot(DBa)"
   ]
  },
  {
   "cell_type": "code",
   "execution_count": null,
   "id": "spare-syntax",
   "metadata": {},
   "outputs": [],
   "source": [
    "figg = viza.sgplot_ga(aname, rng=None, to_html=False, path=None)"
   ]
  },
  {
   "cell_type": "code",
   "execution_count": null,
   "id": "f4d4fe33",
   "metadata": {},
   "outputs": [],
   "source": [
    "figg.show()"
   ]
  },
  {
   "cell_type": "code",
   "execution_count": null,
   "id": "statistical-newcastle",
   "metadata": {},
   "outputs": [],
   "source": [
    "DBd = DataBase('db')\n",
    "DBd.loadfiles_batch(kind=\"charging\")"
   ]
  },
  {
   "cell_type": "code",
   "execution_count": null,
   "id": "representative-current",
   "metadata": {},
   "outputs": [],
   "source": [
    "dname = list(DBd.db.keys())[0]\n",
    "dname"
   ]
  },
  {
   "cell_type": "code",
   "execution_count": null,
   "id": "smoking-lambda",
   "metadata": {},
   "outputs": [],
   "source": [
    "vizd = NBplot(DBd)"
   ]
  },
  {
   "cell_type": "code",
   "execution_count": null,
   "id": "rapid-advice",
   "metadata": {},
   "outputs": [],
   "source": [
    "figd = vizd.sgplot_ged(dname, rng=None, to_html=False, path=None)"
   ]
  },
  {
   "cell_type": "code",
   "execution_count": null,
   "id": "a9a4efd0",
   "metadata": {},
   "outputs": [],
   "source": [
    "figd.show()"
   ]
  },
  {
   "cell_type": "code",
   "execution_count": null,
   "id": "protecting-reliance",
   "metadata": {},
   "outputs": [],
   "source": [
    "DB = DataBase('db')\n",
    "DB.update()\n",
    "Exp = Export()\n",
    "Exp.loaddata(DB)\n",
    "Exp.to_csv()\n",
    "Exp.save_files()\n",
    "# See the two CSV files at \"db\" folder"
   ]
  },
  {
   "cell_type": "code",
   "execution_count": null,
   "id": "6b9a54e5",
   "metadata": {},
   "outputs": [],
   "source": [
    "viz = NBplot(DB)"
   ]
  },
  {
   "cell_type": "code",
   "execution_count": null,
   "id": "1e6e606b",
   "metadata": {},
   "outputs": [],
   "source": [
    "fig = viz.overview(dname)\n",
    "fig.show()"
   ]
  },
  {
   "cell_type": "markdown",
   "id": "weekly-nelson",
   "metadata": {},
   "source": [
    "### Playing with data frames: profiles and time series"
   ]
  },
  {
   "cell_type": "code",
   "execution_count": null,
   "id": "republican-surveillance",
   "metadata": {},
   "outputs": [],
   "source": [
    "list(DB.db.keys())"
   ]
  },
  {
   "cell_type": "code",
   "execution_count": null,
   "id": "detected-alabama",
   "metadata": {},
   "outputs": [],
   "source": [
    "TS_id = list(DB.db.keys())[0] # you can choose any\n",
    "TS_id"
   ]
  },
  {
   "cell_type": "code",
   "execution_count": null,
   "id": "excellent-affect",
   "metadata": {},
   "outputs": [],
   "source": [
    "df = DB.db[TS_id]['timeseries']"
   ]
  },
  {
   "cell_type": "code",
   "execution_count": null,
   "id": "broke-reconstruction",
   "metadata": {},
   "outputs": [],
   "source": [
    "df"
   ]
  },
  {
   "cell_type": "code",
   "execution_count": null,
   "id": "rough-bidder",
   "metadata": {},
   "outputs": [],
   "source": [
    "df[['distance']].iplot()"
   ]
  },
  {
   "cell_type": "code",
   "execution_count": null,
   "id": "organic-argument",
   "metadata": {},
   "outputs": [],
   "source": [
    "pf = DB.db[TS_id]['profile']"
   ]
  },
  {
   "cell_type": "code",
   "execution_count": null,
   "id": "polyphonic-parade",
   "metadata": {
    "scrolled": true
   },
   "outputs": [],
   "source": [
    "pf   # distance km and duration min"
   ]
  },
  {
   "cell_type": "code",
   "execution_count": null,
   "id": "juvenile-israeli",
   "metadata": {},
   "outputs": [],
   "source": [
    "for name in DB.db:\n",
    "    kind = DB.db[name]['kind']\n",
    "    if kind != 'driving':\n",
    "        input_ = DB.db[name]['input']  # upstream profile, e.g. charging <- availability <- consumption <- driving\n",
    "        print(kind, name, '<-', input_)\n",
    "    else:\n",
    "        print(kind, name)"
   ]
  },
  {
   "cell_type": "code",
   "execution_count": null,
   "id": "318c64cd",
   "metadata": {},
   "outputs": [],
   "source": [
    "Consumption_TS = DB.db[cname]['timeseries']"
   ]
  },
  {
   "cell_type": "code",
   "execution_count": null,
   "id": "8ee83d02",
   "metadata": {},
   "outputs": [],
   "source": [
    "Consumption_TS"
   ]
  },
  {
   "cell_type": "code",
   "execution_count": null,
   "id": "e375f67a",
   "metadata": {},
   "outputs": [],
   "source": [
    "Consumption_TS[['consumption','instant consumption in W', 'average power in W']].iplot() # Consumption in kWh/timestep -> timestep 15 min in this example\n",
    "# Instant consumption only displayed when timestep is 1s."
   ]
  },
  {
   "cell_type": "code",
   "execution_count": null,
   "id": "bc643a8b",
   "metadata": {},
   "outputs": [],
   "source": []
  }
 ],
 "metadata": {
  "kernelspec": {
   "display_name": "Python 3",
   "language": "python",
   "name": "python3"
  },
  "language_info": {
   "codemirror_mode": {
    "name": "ipython",
    "version": 3
   },
   "file_extension": ".py",
   "mimetype": "text/x-python",
   "name": "python",
   "nbconvert_exporter": "python",
   "pygments_lexer": "ipython3",
   "version": "3.6.15"
  }
 },
 "nbformat": 4,
 "nbformat_minor": 5
}
