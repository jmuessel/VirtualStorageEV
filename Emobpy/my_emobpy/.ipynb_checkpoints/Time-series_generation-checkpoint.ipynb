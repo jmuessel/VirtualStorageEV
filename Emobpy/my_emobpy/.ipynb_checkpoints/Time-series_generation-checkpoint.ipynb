{
 "cells": [
  {
   "cell_type": "code",
   "execution_count": 1,
   "id": "f746b88a",
   "metadata": {},
   "outputs": [],
   "source": [
    "# Initialize seed\n",
    "from emobpy.tools import set_seed\n",
    "set_seed()"
   ]
  },
  {
   "cell_type": "markdown",
   "id": "0f15eb6b",
   "metadata": {},
   "source": [
    "------------------------------------------------\n",
    "## Step 1: Vehicle mobility time series\n",
    "------------------------------------------------\n",
    "a) generation of a time series\n",
    "\n",
    "------------------------------------------------"
   ]
  },
  {
   "cell_type": "code",
   "execution_count": 1,
   "id": "bd88ef41",
   "metadata": {
    "pycharm": {
     "is_executing": true
    }
   },
   "outputs": [],
   "source": [
    "from emobpy import Mobility"
   ]
  },
  {
   "cell_type": "code",
   "execution_count": 2,
   "id": "20e3d675",
   "metadata": {
    "pycharm": {
     "is_executing": true
    }
   },
   "outputs": [],
   "source": [
    "m = Mobility(config_folder='config_files')"
   ]
  },
  {
   "cell_type": "code",
   "execution_count": 3,
   "id": "5b25f22f",
   "metadata": {
    "pycharm": {
     "is_executing": true
    }
   },
   "outputs": [],
   "source": [
    "m.set_params(\n",
    "             name_prefix=\"BEV1\",\n",
    "             total_hours=168, # one week\n",
    "             time_step_in_hrs=0.25, # 15 minutes\n",
    "             category=\"user_defined\",\n",
    "             reference_date=\"01/01/2020\"\n",
    "            )"
   ]
  },
  {
   "cell_type": "code",
   "execution_count": 4,
   "id": "bb5879ae",
   "metadata": {
    "pycharm": {
     "is_executing": true
    }
   },
   "outputs": [],
   "source": [
    "m.set_stats(\n",
    "            stat_ntrip_path=\"TripsPerDay.csv\",\n",
    "            stat_dest_path=\"DepartureDestinationTrip.csv\",\n",
    "            stat_km_duration_path=\"DistanceDurationTrip.csv\",\n",
    "            )"
   ]
  },
  {
   "cell_type": "code",
   "execution_count": 5,
   "id": "b206f29a",
   "metadata": {
    "pycharm": {
     "is_executing": true
    }
   },
   "outputs": [],
   "source": [
    "m.set_rules(rule_key=\"user_defined\") # see /config_files/rules.yml, it contains a dictionary\n",
    "                                     # whose key must be the same as rule_key. \n",
    "                                     # To see all possible rules `from emobpy.constants import RULE; RULE` "
   ]
  },
  {
   "cell_type": "code",
   "execution_count": 6,
   "id": "b401dafd",
   "metadata": {
    "pycharm": {
     "is_executing": true
    }
   },
   "outputs": [
    {
     "name": "stdout",
     "output_type": "stream",
     "text": [
      "New profile running: BEV1_W2_6bf27\n",
      "Progress: 100% [7 / 7] days\n",
      "Profile done: BEV1_W2_6bf27\n",
      "Elapsed time (min): 0.15\n"
     ]
    }
   ],
   "source": [
    "m.run()"
   ]
  },
  {
   "cell_type": "code",
   "execution_count": 7,
   "id": "607d300d",
   "metadata": {
    "pycharm": {
     "is_executing": true
    }
   },
   "outputs": [
    {
     "name": "stdout",
     "output_type": "stream",
     "text": [
      " \n",
      "See Log files\n",
      "/Users/Jarusch/Documents/Hertie/Hertie School/OneDrive - Hertie School/Jarusch/Virtual_storage/Modelling/Emobpy/my_emobpy/log/emobpy.log\n"
     ]
    }
   ],
   "source": [
    "m.save_profile(folder=\"db\", description='168 hrs 15 min step ref-date 01/01/2020')"
   ]
  },
  {
   "cell_type": "code",
   "execution_count": 8,
   "id": "15d051cb",
   "metadata": {},
   "outputs": [],
   "source": [
    "##m.profile"
   ]
  },
  {
   "cell_type": "code",
   "execution_count": 9,
   "id": "c95553a5",
   "metadata": {},
   "outputs": [
    {
     "ename": "NameError",
     "evalue": "name 'c' is not defined",
     "output_type": "error",
     "traceback": [
      "\u001b[0;31m---------------------------------------------------------------------------\u001b[0m",
      "\u001b[0;31mNameError\u001b[0m                                 Traceback (most recent call last)",
      "\u001b[0;32m<ipython-input-9-08a39a9e635c>\u001b[0m in \u001b[0;36m<module>\u001b[0;34m\u001b[0m\n\u001b[0;32m----> 1\u001b[0;31m \u001b[0mc\u001b[0m\u001b[0;34m.\u001b[0m\u001b[0mtimeseries\u001b[0m\u001b[0;34m[\u001b[0m\u001b[0mc\u001b[0m\u001b[0;34m.\u001b[0m\u001b[0mtimeseries\u001b[0m\u001b[0;34m.\u001b[0m\u001b[0mstate\u001b[0m \u001b[0;34m!=\u001b[0m \u001b[0;34m\"home\"\u001b[0m\u001b[0;34m]\u001b[0m\u001b[0;34m\u001b[0m\u001b[0;34m\u001b[0m\u001b[0m\n\u001b[0m",
      "\u001b[0;31mNameError\u001b[0m: name 'c' is not defined"
     ]
    }
   ],
   "source": [
    "c.timeseries[c.timeseries.state != \"home\"] "
   ]
  },
  {
   "cell_type": "code",
   "execution_count": null,
   "id": "ebb99d3f",
   "metadata": {},
   "outputs": [],
   "source": [
    "c.profile[['consumption kWh/100 km', 'consumption kWh', 'battery discharge kWh']]"
   ]
  },
  {
   "cell_type": "code",
   "execution_count": null,
   "id": "32425b4a",
   "metadata": {},
   "outputs": [],
   "source": [
    "ga.timeseries"
   ]
  },
  {
   "cell_type": "code",
   "execution_count": null,
   "id": "52a6f6d9",
   "metadata": {},
   "outputs": [],
   "source": [
    "ga.profile"
   ]
  },
  {
   "cell_type": "markdown",
   "id": "07251511",
   "metadata": {},
   "source": [
    "-------------------------\n",
    "b) See some attributes\n",
    "\n",
    "-------------------------"
   ]
  },
  {
   "cell_type": "code",
   "execution_count": null,
   "id": "ed89e76f",
   "metadata": {
    "pycharm": {
     "is_executing": true
    }
   },
   "outputs": [],
   "source": [
    "m.name"
   ]
  },
  {
   "cell_type": "code",
   "execution_count": null,
   "id": "016eb68c",
   "metadata": {
    "pycharm": {
     "is_executing": true
    }
   },
   "outputs": [],
   "source": [
    "m.kind"
   ]
  },
  {
   "cell_type": "code",
   "execution_count": null,
   "id": "b05f00c4",
   "metadata": {
    "pycharm": {
     "is_executing": true
    }
   },
   "outputs": [],
   "source": [
    "m.description"
   ]
  },
  {
   "cell_type": "code",
   "execution_count": null,
   "id": "e327b3d4",
   "metadata": {
    "pycharm": {
     "is_executing": true
    }
   },
   "outputs": [],
   "source": [
    "m.timeseries"
   ]
  },
  {
   "cell_type": "code",
   "execution_count": 15,
   "id": "90e1dbd0",
   "metadata": {
    "pycharm": {
     "is_executing": true
    }
   },
   "outputs": [
    {
     "data": {
      "text/html": [
       "<div>\n",
       "<style scoped>\n",
       "    .dataframe tbody tr th:only-of-type {\n",
       "        vertical-align: middle;\n",
       "    }\n",
       "\n",
       "    .dataframe tbody tr th {\n",
       "        vertical-align: top;\n",
       "    }\n",
       "\n",
       "    .dataframe thead th {\n",
       "        text-align: right;\n",
       "    }\n",
       "</style>\n",
       "<table border=\"1\" class=\"dataframe\">\n",
       "  <thead>\n",
       "    <tr style=\"text-align: right;\">\n",
       "      <th></th>\n",
       "      <th>hr</th>\n",
       "      <th>state</th>\n",
       "      <th>departure</th>\n",
       "      <th>arrival</th>\n",
       "      <th>last_arrival</th>\n",
       "      <th>purpose</th>\n",
       "      <th>duration</th>\n",
       "      <th>weekday</th>\n",
       "      <th>category</th>\n",
       "      <th>distance</th>\n",
       "      <th>trip_duration</th>\n",
       "    </tr>\n",
       "  </thead>\n",
       "  <tbody>\n",
       "    <tr>\n",
       "      <th>10.50</th>\n",
       "      <td>10.50</td>\n",
       "      <td>home</td>\n",
       "      <td>10.75</td>\n",
       "      <td>11.75</td>\n",
       "      <td>-3.00</td>\n",
       "      <td>shopping</td>\n",
       "      <td>13.75</td>\n",
       "      <td>Wednesday</td>\n",
       "      <td>user_defined</td>\n",
       "      <td>0.0</td>\n",
       "      <td>0.0</td>\n",
       "    </tr>\n",
       "    <tr>\n",
       "      <th>11.50</th>\n",
       "      <td>11.50</td>\n",
       "      <td>driving</td>\n",
       "      <td>NaN</td>\n",
       "      <td>NaN</td>\n",
       "      <td>NaN</td>\n",
       "      <td>NaN</td>\n",
       "      <td>NaN</td>\n",
       "      <td>NaN</td>\n",
       "      <td>NaN</td>\n",
       "      <td>23.0</td>\n",
       "      <td>46.5</td>\n",
       "    </tr>\n",
       "    <tr>\n",
       "      <th>12.50</th>\n",
       "      <td>12.50</td>\n",
       "      <td>shopping</td>\n",
       "      <td>12.75</td>\n",
       "      <td>13.50</td>\n",
       "      <td>11.75</td>\n",
       "      <td>leisure</td>\n",
       "      <td>1.00</td>\n",
       "      <td>Wednesday</td>\n",
       "      <td>user_defined</td>\n",
       "      <td>0.0</td>\n",
       "      <td>0.0</td>\n",
       "    </tr>\n",
       "    <tr>\n",
       "      <th>13.25</th>\n",
       "      <td>13.25</td>\n",
       "      <td>driving</td>\n",
       "      <td>NaN</td>\n",
       "      <td>NaN</td>\n",
       "      <td>NaN</td>\n",
       "      <td>NaN</td>\n",
       "      <td>NaN</td>\n",
       "      <td>NaN</td>\n",
       "      <td>NaN</td>\n",
       "      <td>25.0</td>\n",
       "      <td>32.5</td>\n",
       "    </tr>\n",
       "    <tr>\n",
       "      <th>14.00</th>\n",
       "      <td>14.00</td>\n",
       "      <td>leisure</td>\n",
       "      <td>14.25</td>\n",
       "      <td>14.75</td>\n",
       "      <td>13.50</td>\n",
       "      <td>shopping</td>\n",
       "      <td>0.75</td>\n",
       "      <td>Wednesday</td>\n",
       "      <td>user_defined</td>\n",
       "      <td>0.0</td>\n",
       "      <td>0.0</td>\n",
       "    </tr>\n",
       "  </tbody>\n",
       "</table>\n",
       "</div>"
      ],
      "text/plain": [
       "          hr     state  departure  arrival  last_arrival   purpose  duration  \\\n",
       "10.50  10.50      home      10.75    11.75         -3.00  shopping     13.75   \n",
       "11.50  11.50   driving        NaN      NaN           NaN       NaN       NaN   \n",
       "12.50  12.50  shopping      12.75    13.50         11.75   leisure      1.00   \n",
       "13.25  13.25   driving        NaN      NaN           NaN       NaN       NaN   \n",
       "14.00  14.00   leisure      14.25    14.75         13.50  shopping      0.75   \n",
       "\n",
       "         weekday      category  distance  trip_duration  \n",
       "10.50  Wednesday  user_defined       0.0            0.0  \n",
       "11.50        NaN           NaN      23.0           46.5  \n",
       "12.50  Wednesday  user_defined       0.0            0.0  \n",
       "13.25        NaN           NaN      25.0           32.5  \n",
       "14.00  Wednesday  user_defined       0.0            0.0  "
      ]
     },
     "execution_count": 15,
     "metadata": {},
     "output_type": "execute_result"
    }
   ],
   "source": [
    "m.profile.head()"
   ]
  },
  {
   "cell_type": "markdown",
   "id": "d055cfd4",
   "metadata": {},
   "source": [
    "-------------------------------\n",
    "c) Profiles management\n",
    "\n",
    "-------------------------------"
   ]
  },
  {
   "cell_type": "code",
   "execution_count": 16,
   "id": "3edb19da",
   "metadata": {
    "pycharm": {
     "is_executing": true
    }
   },
   "outputs": [],
   "source": [
    "from emobpy import DataBase"
   ]
  },
  {
   "cell_type": "code",
   "execution_count": 17,
   "id": "ac997d62",
   "metadata": {
    "pycharm": {
     "is_executing": true
    }
   },
   "outputs": [],
   "source": [
    "DB = DataBase('db')"
   ]
  },
  {
   "cell_type": "code",
   "execution_count": 18,
   "id": "ddae0431",
   "metadata": {
    "pycharm": {
     "is_executing": true
    }
   },
   "outputs": [],
   "source": [
    "DB.loadfiles()"
   ]
  },
  {
   "cell_type": "code",
   "execution_count": 19,
   "id": "6293450b",
   "metadata": {
    "pycharm": {
     "is_executing": true
    }
   },
   "outputs": [
    {
     "data": {
      "text/plain": [
       "dict_keys(['BEV1_W2_145b6_Volkswagen_ID.3_2020_7853f_avai_6a5f4_balanced_4a3b6', 'BEV1_W2_145b6_Volkswagen_ID.3_2020_7853f_avai_6a5f4_from_0_to_24_at_home_e1a15', 'BEV1_W2_2b360_Volkswagen_ID.3_2020_e227a', 'BEV1_W2_145b6_Volkswagen_ID.3_2020_7853f', 'BEV1_W2_145b6_Volkswagen_ID.3_2020_7853f_avai_6a5f4_from_23_to_8_at_any_8afe8', 'BEV1_W2_492ba', 'BEV1_W2_2b360_Volkswagen_ID.3_2020_e227a_avai_b0306', 'BEV1_W2_145b6_Volkswagen_ID.3_2020_7853f_avai_6a5f4_immediate_cb410', 'BEV1_W2_145b6_Volkswagen_ID.3_2020_7853f_avai_6a5f4', 'BEV1_W2_2b360', 'BEV1_W2_145b6'])"
      ]
     },
     "execution_count": 19,
     "metadata": {},
     "output_type": "execute_result"
    }
   ],
   "source": [
    "DB.db.keys()"
   ]
  },
  {
   "cell_type": "code",
   "execution_count": 20,
   "id": "2f93dea8",
   "metadata": {
    "pycharm": {
     "is_executing": true
    }
   },
   "outputs": [
    {
     "data": {
      "text/plain": [
       "{'weekday': {'n_trip_out': [1],\n",
       "  'last_trip_to': {'home': True},\n",
       "  'overall_min_time_at': {'home': 9},\n",
       "  'min_state_duration': {'home': 0.25,\n",
       "   'errands': 0.25,\n",
       "   'escort': 0.25,\n",
       "   'shopping': 0.25,\n",
       "   'leisure': 0.25}},\n",
       " 'weekend': {'n_trip_out': [1],\n",
       "  'last_trip_to': {'home': True},\n",
       "  'overall_min_time_at': {'home': 6},\n",
       "  'min_state_duration': {'home': 0.25,\n",
       "   'errands': 0.25,\n",
       "   'escort': 0.25,\n",
       "   'shopping': 0.25,\n",
       "   'leisure': 0.25}}}"
      ]
     },
     "execution_count": 20,
     "metadata": {},
     "output_type": "execute_result"
    }
   ],
   "source": [
    "DB.db[m.name]['user_rules']"
   ]
  },
  {
   "cell_type": "code",
   "execution_count": 21,
   "id": "e7db717d",
   "metadata": {
    "pycharm": {
     "is_executing": true
    }
   },
   "outputs": [
    {
     "data": {
      "text/plain": [
       "'driving'"
      ]
     },
     "execution_count": 21,
     "metadata": {},
     "output_type": "execute_result"
    }
   ],
   "source": [
    "DB.db[m.name]['kind']"
   ]
  },
  {
   "cell_type": "markdown",
   "id": "703ea714",
   "metadata": {},
   "source": [
    "-------------------------\n",
    "d) Visualization\n",
    "\n",
    "-------------------------"
   ]
  },
  {
   "cell_type": "code",
   "execution_count": null,
   "id": "8980303c",
   "metadata": {
    "pycharm": {
     "is_executing": true
    }
   },
   "outputs": [],
   "source": [
    "from emobpy.plot import NBplot"
   ]
  },
  {
   "cell_type": "code",
   "execution_count": null,
   "id": "1c4e97b4",
   "metadata": {
    "pycharm": {
     "is_executing": true
    }
   },
   "outputs": [],
   "source": [
    "PLT = NBplot(DB)"
   ]
  },
  {
   "cell_type": "code",
   "execution_count": null,
   "id": "1e5c52c8",
   "metadata": {
    "pycharm": {
     "is_executing": true
    }
   },
   "outputs": [],
   "source": [
    "fig_mobility = PLT.sgplot_dp(m.name)"
   ]
  },
  {
   "cell_type": "code",
   "execution_count": null,
   "id": "49e764ae",
   "metadata": {
    "pycharm": {
     "is_executing": true
    }
   },
   "outputs": [],
   "source": [
    "fig_mobility"
   ]
  },
  {
   "cell_type": "markdown",
   "id": "94100231",
   "metadata": {},
   "source": [
    "------------------------------------------------------\n",
    "## Step 2: Driving consumption time series\n",
    "------------------------------------------------------\n",
    "a) Vehicle model configuration\n",
    "\n",
    "------------------------------------------------------"
   ]
  },
  {
   "cell_type": "code",
   "execution_count": null,
   "id": "1a9db399",
   "metadata": {
    "pycharm": {
     "is_executing": true
    }
   },
   "outputs": [],
   "source": [
    "from emobpy import Consumption, HeatInsulation, BEVspecs"
   ]
  },
  {
   "cell_type": "code",
   "execution_count": null,
   "id": "dcc72b10",
   "metadata": {
    "pycharm": {
     "is_executing": true
    }
   },
   "outputs": [],
   "source": [
    "DB.update()                # This load new files hosted in database folder as result of new generated files"
   ]
  },
  {
   "cell_type": "code",
   "execution_count": null,
   "id": "5c4c80f1",
   "metadata": {
    "pycharm": {
     "is_executing": true
    }
   },
   "outputs": [],
   "source": [
    "# mname = list(DB.db.keys())[0]      # getting the id of the first mobility profile\n",
    "mname = m.name"
   ]
  },
  {
   "cell_type": "code",
   "execution_count": null,
   "id": "17ec9d31",
   "metadata": {
    "pycharm": {
     "is_executing": true
    }
   },
   "outputs": [],
   "source": [
    "HI = HeatInsulation(True)            # Creating the heat insulation by copying the default configuration"
   ]
  },
  {
   "cell_type": "code",
   "execution_count": null,
   "id": "0c799ff7",
   "metadata": {
    "pycharm": {
     "is_executing": true
    }
   },
   "outputs": [],
   "source": [
    "BEVS = BEVspecs()                    # Database that contains BEV models"
   ]
  },
  {
   "cell_type": "code",
   "execution_count": null,
   "id": "ec6ceb3f",
   "metadata": {
    "pycharm": {
     "is_executing": true
    },
    "scrolled": true
   },
   "outputs": [],
   "source": [
    "BEVS.show_models()"
   ]
  },
  {
   "cell_type": "code",
   "execution_count": null,
   "id": "05f6f892",
   "metadata": {
    "pycharm": {
     "is_executing": true
    }
   },
   "outputs": [],
   "source": [
    "BEVS.parameters"
   ]
  },
  {
   "cell_type": "code",
   "execution_count": null,
   "id": "a2b60c7f",
   "metadata": {
    "pycharm": {
     "is_executing": true
    }
   },
   "outputs": [],
   "source": [
    "dataframe = BEVS.search_by_parameter()"
   ]
  },
  {
   "cell_type": "code",
   "execution_count": null,
   "id": "9ac1f97c",
   "metadata": {
    "pycharm": {
     "is_executing": true
    }
   },
   "outputs": [],
   "source": [
    "VW_ID3 = BEVS.model(('Volkswagen','ID.3',2020))    # Model instance that contains vehicle parameters"
   ]
  },
  {
   "cell_type": "code",
   "execution_count": null,
   "id": "f7435b57",
   "metadata": {
    "pycharm": {
     "is_executing": true
    }
   },
   "outputs": [],
   "source": [
    "VW_ID3.parameters"
   ]
  },
  {
   "cell_type": "markdown",
   "id": "7c229d86",
   "metadata": {},
   "source": [
    "----------------------------------------------------------------------\n",
    "b) Calculate consumption for each trip and generate the time series\n",
    "\n",
    "----------------------------------------------------------------------"
   ]
  },
  {
   "cell_type": "code",
   "execution_count": null,
   "id": "53e40ed3",
   "metadata": {
    "pycharm": {
     "is_executing": true
    }
   },
   "outputs": [],
   "source": [
    "c = Consumption(mname, VW_ID3)"
   ]
  },
  {
   "cell_type": "code",
   "execution_count": null,
   "id": "45afb46e",
   "metadata": {
    "pycharm": {
     "is_executing": true
    }
   },
   "outputs": [],
   "source": [
    "c.load_setting_mobility(DB)"
   ]
  },
  {
   "cell_type": "code",
   "execution_count": null,
   "id": "635dae56",
   "metadata": {
    "pycharm": {
     "is_executing": true
    }
   },
   "outputs": [],
   "source": [
    "c.run(\n",
    "    heat_insulation=HI,\n",
    "    weather_country='DE',\n",
    "    weather_year=2016,\n",
    "    passenger_mass=75,                   # kg\n",
    "    passenger_sensible_heat=70,          # W\n",
    "    passenger_nr=1.5,                    # Passengers per vehicle including driver\n",
    "    air_cabin_heat_transfer_coef=20,     # W/(m2K). Interior walls\n",
    "    air_flow = 0.02,                     # m3/s. Ventilation\n",
    "    driving_cycle_type='WLTC',           # Two options \"WLTC\" or \"EPA\"\n",
    "    road_type=0,                         # For rolling resistance, Zero represents a new road.\n",
    "    road_slope=0\n",
    "    )"
   ]
  },
  {
   "cell_type": "code",
   "execution_count": null,
   "id": "595dd5e7",
   "metadata": {
    "pycharm": {
     "is_executing": true
    }
   },
   "outputs": [],
   "source": [
    "c.save_profile('db')"
   ]
  },
  {
   "cell_type": "markdown",
   "id": "be5c806f",
   "metadata": {},
   "source": [
    "------------------------------\n",
    "c) See some attributes\n",
    "\n",
    "------------------------------"
   ]
  },
  {
   "cell_type": "code",
   "execution_count": null,
   "id": "d0fad033",
   "metadata": {
    "pycharm": {
     "is_executing": true
    }
   },
   "outputs": [],
   "source": [
    "c.name"
   ]
  },
  {
   "cell_type": "code",
   "execution_count": null,
   "id": "0c6e3b81",
   "metadata": {
    "pycharm": {
     "is_executing": true
    }
   },
   "outputs": [],
   "source": [
    "c.kind"
   ]
  },
  {
   "cell_type": "code",
   "execution_count": null,
   "id": "9f02599b",
   "metadata": {
    "pycharm": {
     "is_executing": true
    }
   },
   "outputs": [],
   "source": [
    "c.input"
   ]
  },
  {
   "cell_type": "code",
   "execution_count": null,
   "id": "84093dd0",
   "metadata": {
    "pycharm": {
     "is_executing": true
    }
   },
   "outputs": [],
   "source": [
    "c.brand, c.model, c.year"
   ]
  },
  {
   "cell_type": "code",
   "execution_count": null,
   "id": "0b9eb2eb",
   "metadata": {
    "pycharm": {
     "is_executing": true
    }
   },
   "outputs": [],
   "source": [
    "c.timeseries # Consumption in kWh/timestep -> timestep 15 min in this example"
   ]
  },
  {
   "cell_type": "code",
   "execution_count": null,
   "id": "2f14c3bc",
   "metadata": {},
   "outputs": [],
   "source": [
    "c.timeseries.consumption.max()"
   ]
  },
  {
   "cell_type": "code",
   "execution_count": null,
   "id": "89ee421c",
   "metadata": {
    "pycharm": {
     "is_executing": true
    },
    "scrolled": false
   },
   "outputs": [],
   "source": [
    "c.profile.head()"
   ]
  },
  {
   "cell_type": "markdown",
   "id": "b1c68cf0",
   "metadata": {},
   "source": [
    "-------------------------\n",
    "d) Visualization\n",
    "\n",
    "-------------------------"
   ]
  },
  {
   "cell_type": "code",
   "execution_count": null,
   "id": "918d2880",
   "metadata": {
    "pycharm": {
     "is_executing": true
    }
   },
   "outputs": [],
   "source": [
    "fig_consumption = PLT.sankey(c.name, include=None, to_html=False, path=None)"
   ]
  },
  {
   "cell_type": "code",
   "execution_count": null,
   "id": "4ba72eb9",
   "metadata": {
    "pycharm": {
     "is_executing": true
    }
   },
   "outputs": [],
   "source": [
    "fig_consumption"
   ]
  },
  {
   "cell_type": "markdown",
   "id": "fabd6738",
   "metadata": {},
   "source": [
    "-------------------------------------------------------------------\n",
    "## Step 3: Grid availability time series\n",
    "-------------------------------------------------------------------\n",
    "a) probability distribution and power rating for charging stations\n",
    "\n",
    "-------------------------------------------------------------------"
   ]
  },
  {
   "cell_type": "code",
   "execution_count": null,
   "id": "016bde3b",
   "metadata": {
    "pycharm": {
     "is_executing": true
    }
   },
   "outputs": [],
   "source": [
    "from emobpy import Availability"
   ]
  },
  {
   "cell_type": "code",
   "execution_count": null,
   "id": "cd8ff32f",
   "metadata": {
    "pycharm": {
     "is_executing": true
    }
   },
   "outputs": [],
   "source": [
    "DB.update()                               # This load new generated files that are hosted in database folder\n",
    "cname = c.name                            # getting the id of the first consumption profile\n",
    "\n",
    "\n",
    "station_distribution = {                  # Dictionary with charging stations type probability distribution per the purpose of the trip (location or destination)\n",
    "    'prob_charging_point': {\n",
    "        'errands': {'public': 0.5, 'none': 0.5},\n",
    "        'escort': {'public': 0.5, 'none': 0.5},\n",
    "        'leisure': {'public': 0.5, 'none': 0.5},\n",
    "        'shopping': {'public': 0.5, 'none': 0.5},\n",
    "        'home': {'public': 0.5, 'none': 0.5},\n",
    "        'workplace': {'public': 0.0, 'workplace': 1.0, 'none': 0.0},   # If the vehicle is at the workplace, it will always find a charging station available (assumption)\n",
    "        'driving': {'none': 0.99, 'fast75': 0.005, 'fast150': 0.005}}, # with the low probability given to fast charging is to ensure fast charging only for very long trips (assumption)\n",
    "    'capacity_charging_point': {                                       # Nominal power rating of charging station in kW\n",
    "        'public': 22,\n",
    "        'home': 3.7,\n",
    "        'workplace': 11,\n",
    "        'none': 0,  # dummy station\n",
    "        'fast75': 75,\n",
    "        'fast150': 150}\n",
    "}"
   ]
  },
  {
   "cell_type": "markdown",
   "id": "ba75c979",
   "metadata": {},
   "source": [
    "--------------------------------\n",
    "b) Generate time series\n",
    "\n",
    "--------------------------------"
   ]
  },
  {
   "cell_type": "code",
   "execution_count": null,
   "id": "36712618",
   "metadata": {
    "pycharm": {
     "is_executing": true
    }
   },
   "outputs": [],
   "source": [
    "ga = Availability(cname, DB)"
   ]
  },
  {
   "cell_type": "code",
   "execution_count": null,
   "id": "c22a24b0",
   "metadata": {
    "pycharm": {
     "is_executing": true
    }
   },
   "outputs": [],
   "source": [
    "ga.set_scenario(station_distribution)"
   ]
  },
  {
   "cell_type": "code",
   "execution_count": null,
   "id": "163284d1",
   "metadata": {
    "pycharm": {
     "is_executing": true
    }
   },
   "outputs": [],
   "source": [
    "ga.run()"
   ]
  },
  {
   "cell_type": "code",
   "execution_count": null,
   "id": "df1da6f5",
   "metadata": {
    "pycharm": {
     "is_executing": true
    }
   },
   "outputs": [],
   "source": [
    "ga.save_profile('db')"
   ]
  },
  {
   "cell_type": "markdown",
   "id": "0714c295",
   "metadata": {},
   "source": [
    "--------------------------------\n",
    "b) See some attributes\n",
    "\n",
    "--------------------------------"
   ]
  },
  {
   "cell_type": "code",
   "execution_count": null,
   "id": "65e3d22a",
   "metadata": {
    "pycharm": {
     "is_executing": true
    }
   },
   "outputs": [],
   "source": [
    "ga.name"
   ]
  },
  {
   "cell_type": "code",
   "execution_count": null,
   "id": "8c7a32eb",
   "metadata": {
    "pycharm": {
     "is_executing": true
    }
   },
   "outputs": [],
   "source": [
    "ga.input"
   ]
  },
  {
   "cell_type": "code",
   "execution_count": null,
   "id": "35b48346",
   "metadata": {
    "pycharm": {
     "is_executing": true
    }
   },
   "outputs": [],
   "source": [
    "ga.kind"
   ]
  },
  {
   "cell_type": "code",
   "execution_count": null,
   "id": "3e31dc25",
   "metadata": {
    "pycharm": {
     "is_executing": true
    }
   },
   "outputs": [],
   "source": [
    "ga.battery_capacity"
   ]
  },
  {
   "cell_type": "code",
   "execution_count": null,
   "id": "7f73cb30",
   "metadata": {
    "pycharm": {
     "is_executing": true
    }
   },
   "outputs": [],
   "source": [
    "ga.charging_eff"
   ]
  },
  {
   "cell_type": "code",
   "execution_count": null,
   "id": "415ab9d0",
   "metadata": {
    "pycharm": {
     "is_executing": true
    }
   },
   "outputs": [],
   "source": [
    "ga.discharging_eff"
   ]
  },
  {
   "cell_type": "code",
   "execution_count": null,
   "id": "1b074665",
   "metadata": {
    "pycharm": {
     "is_executing": true
    }
   },
   "outputs": [],
   "source": [
    "ga.soc_init"
   ]
  },
  {
   "cell_type": "code",
   "execution_count": null,
   "id": "e8f4bde6",
   "metadata": {
    "pycharm": {
     "is_executing": true
    }
   },
   "outputs": [],
   "source": [
    "ga.soc_min"
   ]
  },
  {
   "cell_type": "code",
   "execution_count": null,
   "id": "1c947332",
   "metadata": {
    "pycharm": {
     "is_executing": true
    }
   },
   "outputs": [],
   "source": [
    "ga.timeseries"
   ]
  },
  {
   "cell_type": "code",
   "execution_count": null,
   "id": "28d7da16",
   "metadata": {},
   "outputs": [],
   "source": [
    "consumption_ts = ga.timeseries.consumption ##\n",
    "availability_ts = ga.timeseries.charging_cap"
   ]
  },
  {
   "cell_type": "code",
   "execution_count": null,
   "id": "810a57d5",
   "metadata": {},
   "outputs": [],
   "source": [
    "availability_ts.to_pickle(\"availability_ts\")\n",
    "consumption_ts.to_pickle(\"consumption_ts\")"
   ]
  },
  {
   "cell_type": "markdown",
   "id": "949bd20a",
   "metadata": {},
   "source": [
    "-------------------------\n",
    "c) Visualization\n",
    "\n",
    "-------------------------"
   ]
  },
  {
   "cell_type": "code",
   "execution_count": null,
   "id": "b1ef590d",
   "metadata": {
    "pycharm": {
     "is_executing": true
    }
   },
   "outputs": [],
   "source": [
    "fig_availability = PLT.sgplot_ga(ga.name, rng=None, to_html=False, path=None)"
   ]
  },
  {
   "cell_type": "code",
   "execution_count": null,
   "id": "9fdb778d",
   "metadata": {
    "pycharm": {
     "is_executing": true
    }
   },
   "outputs": [],
   "source": [
    "fig_availability"
   ]
  },
  {
   "cell_type": "markdown",
   "id": "65bf08f2",
   "metadata": {},
   "source": [
    "----------------------------------------------------------\n",
    "## Step 4: Grid electricity demand time series\n",
    "----------------------------------------------------------\n",
    "a) Selection of charging strategies\n",
    "\n",
    "---------------------------------------"
   ]
  },
  {
   "cell_type": "code",
   "execution_count": null,
   "id": "15b1d0a5",
   "metadata": {
    "pycharm": {
     "is_executing": true
    }
   },
   "outputs": [],
   "source": [
    "from emobpy import Charging"
   ]
  },
  {
   "cell_type": "code",
   "execution_count": null,
   "id": "d515c6d7",
   "metadata": {
    "pycharm": {
     "is_executing": true
    }
   },
   "outputs": [],
   "source": [
    "DB.update()\n",
    "\n",
    "aname = ga.name                            # getting the id of the availability profile\n",
    "\n",
    "strategies = [\n",
    "              \"immediate\",                 # When battery has SOC < 100% then it charges immediatelly at a maximun power rating of the current charging station\n",
    "              \"balanced\",                  # When battery has SOC < 100% then it charges immediatelly but at lower rating power to ensure 100% SOC at the end (before moving to another place).\n",
    "              \"from_0_to_24_at_home\",      # Customized: starting time of charging (this case 0 hrs), final time of charging (this case 24 hrs), at could be one 'location' (this case 'home') or 'any'.\n",
    "              \"from_23_to_8_at_any\"\n",
    "             ]"
   ]
  },
  {
   "cell_type": "markdown",
   "id": "6a06262d",
   "metadata": {},
   "source": [
    "------------------------------------------------------\n",
    "b) generation of 4 grid electricity demand time series\n",
    "\n",
    "------------------------------------------------------"
   ]
  },
  {
   "cell_type": "code",
   "execution_count": null,
   "id": "8f2e4cc9",
   "metadata": {
    "pycharm": {
     "is_executing": true
    }
   },
   "outputs": [],
   "source": [
    "for option in strategies:\n",
    "    ged = Charging(aname)\n",
    "    ged.load_scenario(DB)\n",
    "    ged.set_sub_scenario(option)\n",
    "    ged.run()\n",
    "    print(f'Creation Successful:{ged.success}')   # if False, modify the strategy to a less constrained.\n",
    "    ged.save_profile('db')"
   ]
  },
  {
   "cell_type": "markdown",
   "id": "d9a48605",
   "metadata": {},
   "source": [
    "-----------------------------------------------------------------------------\n",
    "c) See some atributes for the last created time series as an example\n",
    "\n",
    "-----------------------------------------------------------------------------"
   ]
  },
  {
   "cell_type": "code",
   "execution_count": null,
   "id": "36f44d59",
   "metadata": {
    "pycharm": {
     "is_executing": true
    }
   },
   "outputs": [],
   "source": [
    "ged.name"
   ]
  },
  {
   "cell_type": "code",
   "execution_count": null,
   "id": "b5b1ffa2",
   "metadata": {
    "pycharm": {
     "is_executing": true
    }
   },
   "outputs": [],
   "source": [
    "ged.input"
   ]
  },
  {
   "cell_type": "code",
   "execution_count": null,
   "id": "40ed3acd",
   "metadata": {
    "pycharm": {
     "is_executing": true
    }
   },
   "outputs": [],
   "source": [
    "ged.kind"
   ]
  },
  {
   "cell_type": "code",
   "execution_count": null,
   "id": "4b21ec61",
   "metadata": {
    "pycharm": {
     "is_executing": true
    }
   },
   "outputs": [],
   "source": [
    "ged.option"
   ]
  },
  {
   "cell_type": "code",
   "execution_count": null,
   "id": "76c47d39",
   "metadata": {
    "pycharm": {
     "is_executing": true
    }
   },
   "outputs": [],
   "source": [
    "ged.timeseries"
   ]
  },
  {
   "cell_type": "code",
   "execution_count": null,
   "id": "be3f17c6",
   "metadata": {
    "pycharm": {
     "is_executing": true
    }
   },
   "outputs": [],
   "source": [
    "ged.profile"
   ]
  },
  {
   "cell_type": "markdown",
   "id": "19ed5db1",
   "metadata": {},
   "source": [
    "-------------------------\n",
    "d) Visualization\n",
    "\n",
    "-------------------------"
   ]
  },
  {
   "cell_type": "code",
   "execution_count": null,
   "id": "2c6e6a12",
   "metadata": {
    "pycharm": {
     "is_executing": true
    }
   },
   "outputs": [],
   "source": [
    "fig_ged = PLT.sgplot_ged(ged.name, rng=None, to_html=False, path=None) # this looks for all strategies of a single grid availability time series, even though we provide one grid demand id"
   ]
  },
  {
   "cell_type": "code",
   "execution_count": null,
   "id": "8e364858",
   "metadata": {
    "pycharm": {
     "is_executing": true
    }
   },
   "outputs": [],
   "source": [
    "fig_ged"
   ]
  },
  {
   "cell_type": "markdown",
   "id": "78d986c0",
   "metadata": {},
   "source": [
    "------------------------------------------------------\n",
    "### Visualize all time series of a vehicle profile\n",
    "------------------------------------------------------"
   ]
  },
  {
   "cell_type": "code",
   "execution_count": null,
   "id": "8829c0b7",
   "metadata": {
    "pycharm": {
     "is_executing": true
    }
   },
   "outputs": [],
   "source": [
    "fig_channel = PLT.overview(ged.name)"
   ]
  },
  {
   "cell_type": "code",
   "execution_count": null,
   "id": "da24c54d",
   "metadata": {
    "pycharm": {
     "is_executing": true
    }
   },
   "outputs": [],
   "source": [
    "fig_channel"
   ]
  },
  {
   "cell_type": "markdown",
   "id": "66f4dab9",
   "metadata": {},
   "source": [
    "------------------------------------------------------------\n",
    "### Export all time-series in 'db' folder to [DIETER](https://diw-evu.gitlab.io/dieter_public/dieterpy/) format\n",
    "-----------------------------------------------------------------------------------------------------------\n",
    "After exporting see the two CSV files at \"db\" folder\n",
    "\n",
    "--------------------------------------------------------------------"
   ]
  },
  {
   "cell_type": "code",
   "execution_count": null,
   "id": "8a3196c1",
   "metadata": {
    "pycharm": {
     "is_executing": true
    }
   },
   "outputs": [],
   "source": [
    "from emobpy import Export"
   ]
  },
  {
   "cell_type": "code",
   "execution_count": null,
   "id": "37eda4d3",
   "metadata": {
    "pycharm": {
     "is_executing": true
    }
   },
   "outputs": [],
   "source": [
    "DB.update()\n",
    "Exp = Export()\n",
    "Exp.loaddata(DB)\n",
    "Exp.to_csv()\n",
    "Exp.save_files()"
   ]
  },
  {
   "cell_type": "markdown",
   "id": "c2cf0a6a",
   "metadata": {},
   "source": [
    "-------------------------------------------------------------------------------\n",
    "### Download weather data from [Zenodo](https://zenodo.org/record/1489915)\n",
    "-------------------------------------------------------------------------------\n",
    "Total size: 300 MB\n",
    "\n",
    "This function allows us to select different countries and years when creating new driving consumption time-series.\n",
    "\n",
    "After finishing the download, you will get the location of the files on your PC. If you want to add more countries, you can edit the CSV files there.\n",
    "\n",
    "emobpy includes Germany's weather data only for 2016. This data set has several European countries and years from 2000-2017.\n",
    "\n",
    "-------------------------------------------------------------------------------"
   ]
  },
  {
   "cell_type": "code",
   "execution_count": null,
   "id": "b2cf1edd",
   "metadata": {
    "pycharm": {
     "is_executing": true
    }
   },
   "outputs": [],
   "source": [
    "# from emobpy import Weather"
   ]
  },
  {
   "cell_type": "code",
   "execution_count": null,
   "id": "a3c4dac1",
   "metadata": {
    "pycharm": {
     "is_executing": true
    }
   },
   "outputs": [],
   "source": [
    "# WD = Weather()"
   ]
  },
  {
   "cell_type": "code",
   "execution_count": null,
   "id": "265d4a75",
   "metadata": {
    "pycharm": {
     "is_executing": true
    }
   },
   "outputs": [],
   "source": [
    "# WD.download_weather_data()"
   ]
  },
  {
   "cell_type": "code",
   "execution_count": null,
   "id": "a49e6a07",
   "metadata": {
    "pycharm": {
     "is_executing": true
    }
   },
   "outputs": [],
   "source": []
  }
 ],
 "metadata": {
  "kernelspec": {
   "display_name": "Python 3",
   "language": "python",
   "name": "python3"
  },
  "language_info": {
   "codemirror_mode": {
    "name": "ipython",
    "version": 3
   },
   "file_extension": ".py",
   "mimetype": "text/x-python",
   "name": "python",
   "nbconvert_exporter": "python",
   "pygments_lexer": "ipython3",
   "version": "3.6.15"
  }
 },
 "nbformat": 4,
 "nbformat_minor": 5
}
