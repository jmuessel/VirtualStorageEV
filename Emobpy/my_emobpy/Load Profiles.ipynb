{
 "cells": [
  {
   "cell_type": "code",
   "execution_count": 6,
   "id": "165b4a2d",
   "metadata": {},
   "outputs": [],
   "source": [
    "import pickle\n",
    "import gzip\n",
    "import os\n",
    "import pandas as pd\n",
    "\n",
    "from emobpy import DataBase, Export\n",
    "\n",
    "import matplotlib.pyplot as plt\n",
    "from pandas import DataFrame"
   ]
  },
  {
   "cell_type": "code",
   "execution_count": 7,
   "id": "a33b3f6b",
   "metadata": {},
   "outputs": [],
   "source": [
    "path = os.getcwd()\n",
    "consumption_path = os.path.join(path, \"db\", \"consumption\")\n",
    "availability_path = os.path.join(path, \"db\", \"availability\")\n",
    "\n",
    "DB_consumption = DataBase(consumption_path)\n",
    "DB_availability = DataBase(availability_path)\n",
    "\n",
    "DB_consumption.update()\n",
    "DB_availability.update()"
   ]
  },
  {
   "cell_type": "code",
   "execution_count": 8,
   "id": "8751ca95",
   "metadata": {},
   "outputs": [],
   "source": [
    "#DB_consumption.loadfiles()\n",
    "#con_names = list(DB_consumption.db.keys()) \n",
    "DB_availability.loadfiles()\n",
    "ava_names = list(DB_availability.db.keys()) "
   ]
  },
  {
   "cell_type": "code",
   "execution_count": 9,
   "id": "760c22fa",
   "metadata": {},
   "outputs": [
    {
     "ename": "IndexError",
     "evalue": "list index out of range",
     "output_type": "error",
     "traceback": [
      "\u001b[0;31m---------------------------------------------------------------------------\u001b[0m",
      "\u001b[0;31mIndexError\u001b[0m                                Traceback (most recent call last)",
      "\u001b[0;32m<ipython-input-9-5cd82617abc1>\u001b[0m in \u001b[0;36m<module>\u001b[0;34m\u001b[0m\n\u001b[0;32m----> 1\u001b[0;31m \u001b[0mDB_consumption\u001b[0m\u001b[0;34m.\u001b[0m\u001b[0mdb\u001b[0m\u001b[0;34m[\u001b[0m\u001b[0mcon_names\u001b[0m\u001b[0;34m[\u001b[0m\u001b[0;36m0\u001b[0m\u001b[0;34m]\u001b[0m\u001b[0;34m]\u001b[0m\u001b[0;34m.\u001b[0m\u001b[0mkeys\u001b[0m\u001b[0;34m(\u001b[0m\u001b[0;34m)\u001b[0m\u001b[0;34m\u001b[0m\u001b[0;34m\u001b[0m\u001b[0m\n\u001b[0m",
      "\u001b[0;31mIndexError\u001b[0m: list index out of range"
     ]
    }
   ],
   "source": [
    "DB_consumption.db[con_names[0]].keys()"
   ]
  },
  {
   "cell_type": "code",
   "execution_count": null,
   "id": "d97d3498",
   "metadata": {},
   "outputs": [],
   "source": [
    "consumption_df = pd.DataFrame()\n",
    "#get consumption_ts, name\n",
    "for c_file in con_names:\n",
    "    profile = DB_consumption.db[c_file]\n",
    "    try:\n",
    "        col_name = profile[\"brand\"]+\"/\" +profile[\"model\"]+\"/\" +profile[\"year\"]\n",
    "        consumption = profile[\"timeseries\"][\"consumption\"].to_frame().rename(\n",
    "            columns={\"consumption\":col_name})\n",
    "        consumption_df = pd.concat([consumption_df, consumption], axis=1)\n",
    "    except KeyError:\n",
    "        print(c_file)\n",
    "        pass"
   ]
  },
  {
   "cell_type": "code",
   "execution_count": null,
   "id": "bf43d0f9",
   "metadata": {},
   "outputs": [],
   "source": [
    "consumption_df.max()"
   ]
  },
  {
   "cell_type": "code",
   "execution_count": 10,
   "id": "9c8cd052",
   "metadata": {},
   "outputs": [
    {
     "data": {
      "text/plain": [
       "dict_keys(['kind', 'input', 't', 'totalrows', 'refdate', 'discharging_eff', 'battery_capacity', 'charging_eff', 'soc_init', 'soc_min', 'storage_altern', 'chargingdata', 'name', 'proportion_ts_modified', 'soc_end', 'success', 'notation', 'profile', 'timeseries', 'description'])"
      ]
     },
     "execution_count": 10,
     "metadata": {},
     "output_type": "execute_result"
    }
   ],
   "source": [
    "DB_availability.db[ava_names[0]].keys()"
   ]
  },
  {
   "cell_type": "code",
   "execution_count": 11,
   "id": "1c2eeaf3",
   "metadata": {
    "scrolled": true
   },
   "outputs": [],
   "source": [
    "availability_df = pd.DataFrame()\n",
    "car_properties_df = pd.DataFrame(index = [\"soc_end\", \"soc_init\", \"battery_capacity\"])\n",
    "\n",
    "#charging cap [kW] \n",
    "for a_file in ava_names:\n",
    "    profile = DB_availability.db[a_file]\n",
    "    try:\n",
    "        #col_name = \"_\".join(profile[\"name\"].split(\"_\")[:-3])\n",
    "        col_name = profile[\"name\"]\n",
    "        charging_eff = profile[\"charging_eff\"]\n",
    "        availability = (charging_eff*profile[\"timeseries\"][\"charging_cap\"]\n",
    "                       ).to_frame().rename(\n",
    "            columns={\"charging_cap\":col_name})\n",
    "        availability_df = pd.concat([availability_df, availability, profile[\"timeseries\"][\"charging_point\"] ], axis=1)\n",
    "        \n",
    "        car_properties_df[col_name] = [\n",
    "            profile[\"soc_end\"], profile[\"soc_init\"], profile[\"battery_capacity\"]\n",
    "                          ]   \n",
    "    except KeyError:\n",
    "        print(a_file)\n",
    "        pass"
   ]
  },
  {
   "cell_type": "code",
   "execution_count": 20,
   "id": "61dba0d5",
   "metadata": {},
   "outputs": [
    {
     "data": {
      "text/plain": [
       "date\n",
       "2020-01-01 00:00:00    none\n",
       "2020-01-01 00:15:00    none\n",
       "2020-01-01 00:30:00    none\n",
       "2020-01-01 00:45:00    none\n",
       "2020-01-01 01:00:00    none\n",
       "                       ... \n",
       "2020-01-04 16:45:00    none\n",
       "2020-01-04 17:00:00    none\n",
       "2020-01-04 17:15:00    none\n",
       "2020-01-04 18:30:00    none\n",
       "2020-01-04 18:45:00    none\n",
       "Name: charging_point, Length: 278, dtype: object"
      ]
     },
     "execution_count": 20,
     "metadata": {},
     "output_type": "execute_result"
    }
   ],
   "source": [
    "profile[\"timeseries\"][\"charging_point\"][profile[\"timeseries\"][\"charging_point\"]==\"none\"]"
   ]
  },
  {
   "cell_type": "code",
   "execution_count": 18,
   "id": "881f37d2",
   "metadata": {},
   "outputs": [
    {
     "data": {
      "text/plain": [
       "date\n",
       "2020-01-01 00:00:00     0\n",
       "2020-01-01 00:15:00     0\n",
       "2020-01-01 00:30:00     0\n",
       "2020-01-01 00:45:00     0\n",
       "2020-01-01 01:00:00     0\n",
       "                       ..\n",
       "2020-01-07 22:45:00    22\n",
       "2020-01-07 23:00:00    22\n",
       "2020-01-07 23:15:00    22\n",
       "2020-01-07 23:30:00    22\n",
       "2020-01-07 23:45:00    22\n",
       "Freq: 15T, Name: charging_cap, Length: 672, dtype: object"
      ]
     },
     "execution_count": 18,
     "metadata": {},
     "output_type": "execute_result"
    }
   ],
   "source": [
    "profile[\"timeseries\"][\"charging_cap\"]"
   ]
  },
  {
   "cell_type": "code",
   "execution_count": null,
   "id": "6f5c8c5f",
   "metadata": {},
   "outputs": [],
   "source": [
    "availability_df[c].iloc[:,0].name"
   ]
  },
  {
   "cell_type": "code",
   "execution_count": null,
   "id": "f2c697a6",
   "metadata": {},
   "outputs": [],
   "source": [
    "new_columns = []\n",
    "for c in availability_df.columns:\n",
    "    if type(availability_df[c]) == DataFrame:\n",
    "        new_columns.append(\n",
    "        \"_\".join(availability_df[c].iloc[:,0].name.split(\"_\")[3:])\n",
    "        )\n",
    "    else:\n",
    "        new_columns.append(\n",
    "        \"_\".join(availability_df[c].name.split(\"_\")[3:])\n",
    "        )\n"
   ]
  },
  {
   "cell_type": "code",
   "execution_count": null,
   "id": "de23c825",
   "metadata": {},
   "outputs": [],
   "source": [
    "consumption_df.head()"
   ]
  },
  {
   "cell_type": "code",
   "execution_count": null,
   "id": "ed17ae37",
   "metadata": {},
   "outputs": [],
   "source": []
  },
  {
   "cell_type": "code",
   "execution_count": null,
   "id": "2d3cf215",
   "metadata": {},
   "outputs": [],
   "source": [
    "os.chdir(\"../\")\n",
    "\n",
    "consumption_pickle = os.path.join(os.getcwd(), \"consumption\")\n",
    "availaibilty_pickle = os.path.join(os.getcwd(), \"availability\")\n",
    "property_pickle = os.path.join(os.getcwd(), \"properties\")"
   ]
  },
  {
   "cell_type": "code",
   "execution_count": null,
   "id": "4289f039",
   "metadata": {},
   "outputs": [],
   "source": [
    "consumption_df.to_pickle(consumption_pickle)\n",
    "availability_df.to_pickle(availaibilty_pickle)\n",
    "car_properties_df.to_pickle(property_pickle)"
   ]
  },
  {
   "cell_type": "code",
   "execution_count": null,
   "id": "101a6b77",
   "metadata": {},
   "outputs": [],
   "source": [
    "Exp = Export()\n",
    "Exp.loaddata(DB_consumption)\n",
    "#Exp.to_csv()\n",
    "#Exp.save_files()"
   ]
  },
  {
   "cell_type": "code",
   "execution_count": null,
   "id": "096d5229",
   "metadata": {},
   "outputs": [],
   "source": [
    "os.path.join(availability_path, \"BEV0_W2_1b475_Audi_e-tron_55_quattro_2019_ea8fd_avai_dea6b.pickle\")"
   ]
  },
  {
   "cell_type": "code",
   "execution_count": null,
   "id": "fcc768eb",
   "metadata": {},
   "outputs": [],
   "source": [
    "pd.read_pickle(os.path.join(availability_path, \"BEV0_W2_1b475_Audi_e-tron_55_quattro_2019_ea8fd_avai_dea6b.pickle\")\n",
    "              )"
   ]
  },
  {
   "cell_type": "code",
   "execution_count": null,
   "id": "6f4d5cd7",
   "metadata": {},
   "outputs": [],
   "source": [
    "\n",
    "#m.profile\n",
    "#ga.timeseries.consumption\n",
    "#c.profile['battery discharge kWh'].to_frame().rename(columns = {0: 'battery discharge kWh'})\n",
    "\n",
    "#availability_ts.to_csv(os.path.join(data_path, \"availability_ts.csv\"))\n",
    "#consumption_ts.to_csv(os.path.join(data_path, \"consumption_ts.csv\"))"
   ]
  }
 ],
 "metadata": {
  "kernelspec": {
   "display_name": "Python 3",
   "language": "python",
   "name": "python3"
  },
  "language_info": {
   "codemirror_mode": {
    "name": "ipython",
    "version": 3
   },
   "file_extension": ".py",
   "mimetype": "text/x-python",
   "name": "python",
   "nbconvert_exporter": "python",
   "pygments_lexer": "ipython3",
   "version": "3.6.15"
  }
 },
 "nbformat": 4,
 "nbformat_minor": 5
}
