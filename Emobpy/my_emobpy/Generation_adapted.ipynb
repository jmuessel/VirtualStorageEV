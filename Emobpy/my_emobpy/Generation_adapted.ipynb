{
 "cells": [
  {
   "cell_type": "code",
   "execution_count": null,
   "id": "74fca04f",
   "metadata": {},
   "outputs": [
    {
     "ename": "",
     "evalue": "",
     "output_type": "error",
     "traceback": [
      "\u001b[1;31mDas Ausführen von Zellen mit \"/usr/bin/python3\" erfordert das Paket ipykernel.\n",
      "\u001b[1;31mRun the following command to install 'ipykernel' into the Python environment. \n",
      "\u001b[1;31mCommand: '/usr/bin/python3 -m pip install ipykernel -U --user --force-reinstall'"
     ]
    }
   ],
   "source": [
    "import os\n",
    "import pandas as pd\n",
    "from emobpy import DataBase\n",
    "from emobpy import Mobility, DataBase, Consumption, HeatInsulation, BEVspecs, Availability, Charging\n",
    "import shutil"
   ]
  },
  {
   "cell_type": "code",
   "execution_count": null,
   "id": "47aa9db8",
   "metadata": {},
   "outputs": [
    {
     "ename": "",
     "evalue": "",
     "output_type": "error",
     "traceback": [
      "\u001b[1;31mDas Ausführen von Zellen mit \"/usr/bin/python3\" erfordert das Paket ipykernel.\n",
      "\u001b[1;31mRun the following command to install 'ipykernel' into the Python environment. \n",
      "\u001b[1;31mCommand: '/usr/bin/python3 -m pip install ipykernel -U --user --force-reinstall'"
     ]
    }
   ],
   "source": [
    "home_path = os.getcwd()\n",
    "os.makedirs(os.path.join(home_path, \"db\", \"used\"), exist_ok=True)\n",
    "consumption_path = os.path.join(home_path, \"db\", \"consumption\")\n",
    "availability_path = os.path.join(home_path, \"db\", \"availability\")\n",
    "profile_path  = os.path.join(home_path, \"db\", \"profile\")\n",
    "\n",
    "DB_profile = DataBase('db/profile')\n",
    "\n",
    "#os.chdir(\"../\")\n",
    "data_path = os.getcwd()"
   ]
  },
  {
   "cell_type": "code",
   "execution_count": null,
   "id": "09b60efa",
   "metadata": {},
   "outputs": [
    {
     "ename": "",
     "evalue": "",
     "output_type": "error",
     "traceback": [
      "\u001b[1;31mDas Ausführen von Zellen mit \"/usr/bin/python3\" erfordert das Paket ipykernel.\n",
      "\u001b[1;31mRun the following command to install 'ipykernel' into the Python environment. \n",
      "\u001b[1;31mCommand: '/usr/bin/python3 -m pip install ipykernel -U --user --force-reinstall'"
     ]
    }
   ],
   "source": [
    "number_profiles = 1\n",
    "year = 2020\n"
   ]
  },
  {
   "cell_type": "code",
   "execution_count": null,
   "id": "5d2402af",
   "metadata": {},
   "outputs": [
    {
     "ename": "",
     "evalue": "",
     "output_type": "error",
     "traceback": [
      "\u001b[1;31mDas Ausführen von Zellen mit \"/usr/bin/python3\" erfordert das Paket ipykernel.\n",
      "\u001b[1;31mRun the following command to install 'ipykernel' into the Python environment. \n",
      "\u001b[1;31mCommand: '/usr/bin/python3 -m pip install ipykernel -U --user --force-reinstall'"
     ]
    }
   ],
   "source": [
    "def get_dir_size(path='.'):\n",
    "    total = 0\n",
    "    with os.scandir(path) as it:\n",
    "        for entry in it:\n",
    "            if entry.is_file():\n",
    "                total += entry.stat().st_size\n",
    "            #elif entry.is_dir():\n",
    "             #   total += get_dir_size(entry.path)\n",
    "    total = total / (10**9)\n",
    "    return total\n",
    "\n",
    "def create_new_folder(path, profile_consumption_availability = None, used_dir=False):\n",
    "    if used_dir == False:\n",
    "        folder_list = [d for d in os.listdir(path)\n",
    "                   if os.path.isdir(os.path.join(path, d))]\n",
    "    \n",
    "        if len(folder_list) == 0:\n",
    "            new_f = \"0\"   \n",
    "        else:\n",
    "            new_f = str(max(map(int,folder_list)) + 1)\n",
    "        new_f_path = os.path.join(path, new_f)\n",
    "        \n",
    "    else: \n",
    "        new_f_path = os.path.join(home_path, \"db\", \"used\", profile_consumption_availability)\n",
    "    \n",
    "    os.makedirs(new_f_path, exist_ok=True)\n",
    "\n",
    "    return new_f_path\n",
    "\n",
    "def transtion_files(source_dir):\n",
    "    target_dir = create_new_folder(source_dir)\n",
    "\n",
    "    file_names = [f for f in os.listdir(source_dir)\n",
    "                       if os.path.isfile(os.path.join(source_dir, f))]\n",
    "\n",
    "    for file_name in file_names:\n",
    "        shutil.move(os.path.join(source_dir, file_name), target_dir)\n",
    "        \n",
    "def get_folders(path): \n",
    "    f_list = [d for d in os.listdir(path)\n",
    "              if os.path.isdir(os.path.join(path, d))]\n",
    "    if \".DS_Store\" in f_list:\n",
    "        f_list.remove(\".DS_Store\")\n",
    "    \n",
    "    return f_list"
   ]
  },
  {
   "attachments": {},
   "cell_type": "markdown",
   "id": "e0986d25",
   "metadata": {},
   "source": [
    "## Step 1: Vehicle mobility time series"
   ]
  },
  {
   "cell_type": "code",
   "execution_count": null,
   "id": "f0588c9c",
   "metadata": {},
   "outputs": [
    {
     "ename": "",
     "evalue": "",
     "output_type": "error",
     "traceback": [
      "\u001b[1;31mDas Ausführen von Zellen mit \"/usr/bin/python3\" erfordert das Paket ipykernel.\n",
      "\u001b[1;31mRun the following command to install 'ipykernel' into the Python environment. \n",
      "\u001b[1;31mCommand: '/usr/bin/python3 -m pip install ipykernel -U --user --force-reinstall'"
     ]
    }
   ],
   "source": [
    "from emobpy import Mobility\n",
    "\n",
    "def mobility_gen (i):\n",
    "    m = Mobility(config_folder='config_files')\n",
    "    m.set_params(\n",
    "             name_prefix=\"BEV{}\".format(i),\n",
    "             total_hours=2160, \n",
    "             time_step_in_hrs=0.5, # 15 minutes\n",
    "             category=\"user_defined\",\n",
    "             reference_date=f\"01/01/{year}\"\n",
    "            )\n",
    "    m.set_stats(\n",
    "            stat_ntrip_path=\"TripsPerDay.csv\",\n",
    "            stat_dest_path=\"DepartureDestinationTrip.csv\",\n",
    "            stat_km_duration_path=\"DistanceDurationTrip.csv\",\n",
    "            )\n",
    "    m.set_rules(rule_key=\"user_defined\") \n",
    "    # see /config_files/rules.yml, it contains a dictionary, whose key must be the same\n",
    "    # as rule_key. To see all possible rules `from emobpy.constants import RULE; RULE` \n",
    "    m.run()\n",
    "    m.save_profile(folder=\"db/profile\", description='') # save all info in pickle file in 'db' folder"
   ]
  },
  {
   "cell_type": "code",
   "execution_count": null,
   "id": "d663d5ab",
   "metadata": {},
   "outputs": [
    {
     "ename": "",
     "evalue": "",
     "output_type": "error",
     "traceback": [
      "\u001b[1;31mDas Ausführen von Zellen mit \"/usr/bin/python3\" erfordert das Paket ipykernel.\n",
      "\u001b[1;31mRun the following command to install 'ipykernel' into the Python environment. \n",
      "\u001b[1;31mCommand: '/usr/bin/python3 -m pip install ipykernel -U --user --force-reinstall'"
     ]
    }
   ],
   "source": [
    "for i in range(number_profiles):\n",
    "    \n",
    "    if get_dir_size(profile_path) >= 1:\n",
    "        create_new_folder(profile_path)\n",
    "        transtion_files(profile_path)\n",
    "        \n",
    "        \n",
    "    try: \n",
    "        mobility_gen(i)\n",
    "    except ValueError:\n",
    "        pass\n",
    "    \n",
    "    DB_profile.update()                # This load new files hosted in database folder as result of new generated files\n",
    "\n",
    "transtion_files(profile_path)"
   ]
  },
  {
   "cell_type": "code",
   "execution_count": null,
   "id": "8474d822",
   "metadata": {
    "pycharm": {
     "is_executing": true
    }
   },
   "outputs": [
    {
     "ename": "",
     "evalue": "",
     "output_type": "error",
     "traceback": [
      "\u001b[1;31mDas Ausführen von Zellen mit \"/usr/bin/python3\" erfordert das Paket ipykernel.\n",
      "\u001b[1;31mRun the following command to install 'ipykernel' into the Python environment. \n",
      "\u001b[1;31mCommand: '/usr/bin/python3 -m pip install ipykernel -U --user --force-reinstall'"
     ]
    }
   ],
   "source": [
    "#m.kind\n",
    "#m.description\n",
    "#m.timeseries\n",
    "#m.profile.head()\n",
    "#from emobpy.plot import NBplot\n",
    "#fig_mobility = NBplot(DB_profile).sgplot_dp(m.name)\n",
    "#fig_mobility"
   ]
  },
  {
   "attachments": {},
   "cell_type": "markdown",
   "id": "305317e6",
   "metadata": {},
   "source": [
    "------------------------------------------------------\n",
    "## Step 2: Driving consumption time series\n",
    "------------------------------------------------------\n",
    "a) Vehicle model configuration\n",
    "\n",
    "------------------------------------------------------"
   ]
  },
  {
   "cell_type": "code",
   "execution_count": null,
   "id": "178bbf12",
   "metadata": {
    "pycharm": {
     "is_executing": true
    }
   },
   "outputs": [
    {
     "ename": "",
     "evalue": "",
     "output_type": "error",
     "traceback": [
      "\u001b[1;31mDas Ausführen von Zellen mit \"/usr/bin/python3\" erfordert das Paket ipykernel.\n",
      "\u001b[1;31mRun the following command to install 'ipykernel' into the Python environment. \n",
      "\u001b[1;31mCommand: '/usr/bin/python3 -m pip install ipykernel -U --user --force-reinstall'"
     ]
    }
   ],
   "source": [
    "from emobpy import Consumption, HeatInsulation, BEVspecs"
   ]
  },
  {
   "cell_type": "code",
   "execution_count": null,
   "id": "e97a1a20",
   "metadata": {},
   "outputs": [
    {
     "ename": "",
     "evalue": "",
     "output_type": "error",
     "traceback": [
      "\u001b[1;31mDas Ausführen von Zellen mit \"/usr/bin/python3\" erfordert das Paket ipykernel.\n",
      "\u001b[1;31mRun the following command to install 'ipykernel' into the Python environment. \n",
      "\u001b[1;31mCommand: '/usr/bin/python3 -m pip install ipykernel -U --user --force-reinstall'"
     ]
    }
   ],
   "source": [
    "HI = HeatInsulation(True)            # Creating the heat insulation by copying the default configuration\n",
    "BEVS = BEVspecs()\n",
    "\n",
    "models = {\n",
    "    \"Tesla\": \n",
    "        {\"model\": \"Model 3 Long Range AWD\",\n",
    "         \"year\": 2019,\n",
    "         \"share\": 22.73},\n",
    "    \"Volkswagen\":\n",
    "        {\"model\": \"ID.3\",\n",
    "         \"year\": 2020,\n",
    "         \"share\": 15.91},\n",
    "    \"Renault\":\n",
    "        {\"model\": \"Zoe Q90\",\n",
    "         \"year\": 2017,\n",
    "         \"share\": 15.91},\n",
    "    \"Hyundai\":\n",
    "        {\"model\": \"Kona Electric 64 kWh\",\n",
    "         \"year\": 2019,\n",
    "         \"share\": 11.63},\n",
    "    \"FIAT\":\n",
    "        {\"model\": \"500e\",\n",
    "         \"year\": 2019,\n",
    "         \"share\": 9.09},\n",
    "    \"BMW\":\n",
    "        {\"model\": \"i3 33 kWh\",\n",
    "         \"year\": 2017,\n",
    "         \"share\": 6.82},\n",
    "    \"MINI\":\n",
    "        {\"model\": \"Cooper SE Level I\",\n",
    "         \"year\": 2020,\n",
    "         \"share\": 6.82},\n",
    "    \"Audi\": \n",
    "        {\"model\": \"e-tron 55 quattro\",\n",
    "         \"year\": 2019,\n",
    "         \"share\": 4.55},\n",
    "    \"Hyundai\": \n",
    "        {\"model\": \"IONIQ Electric 28 kWh\",\n",
    "         \"year\": 2019,\n",
    "         \"share\": 4.55},\n",
    "    \"KIA\": \n",
    "        {\"model\": \"e-Niro 64 kWh\",\n",
    "         \"year\": 2019,\n",
    "         \"share\": 2.27}\n",
    "    \n",
    "}\n",
    "\n",
    "back_up_model = {\n",
    "    \"brand\": \"Volkswagen\",\n",
    "    \"model\": \"e-Golf SE\",\n",
    "    \"year\": 2019\n",
    "}"
   ]
  },
  {
   "cell_type": "code",
   "execution_count": null,
   "id": "d592c495",
   "metadata": {},
   "outputs": [
    {
     "ename": "",
     "evalue": "",
     "output_type": "error",
     "traceback": [
      "\u001b[1;31mDas Ausführen von Zellen mit \"/usr/bin/python3\" erfordert das Paket ipykernel.\n",
      "\u001b[1;31mRun the following command to install 'ipykernel' into the Python environment. \n",
      "\u001b[1;31mCommand: '/usr/bin/python3 -m pip install ipykernel -U --user --force-reinstall'"
     ]
    }
   ],
   "source": [
    "p_list = os.listdir(profile_path)\n",
    "if \".DS_Store\" in p_list:\n",
    "    p_list.remove(\".DS_Store\")\n",
    "elif '.ipynb_checkpoints' in p_list:\n",
    "    p_list.remove('.ipynb_checkpoints')\n",
    "    \n",
    "number_profiles_all = -1\n",
    "\n",
    "for folder in p_list:\n",
    "    number_profiles_all += len([d for d in os.listdir(os.path.join(profile_path, folder))\n",
    "     if os.path.isfile(os.path.join(profile_path, folder, d))])\n",
    "    \n",
    "models_assigned = {}\n",
    "\n",
    "i = 0\n",
    "for brand in models.keys():\n",
    "    models[brand][\"number\"] = round(number_profiles_all*models[brand][\"share\"]/100)\n",
    "    #print(brand + \" \" +str(models[brand][\"number\"]))\n",
    "    for k in range(0, round(models[brand][\"number\"])): \n",
    "        print(str(i))\n",
    "        models_assigned[str(i)] = BEVS.model((\n",
    "            brand, models[brand][\"model\"], models[brand][\"year\"]\n",
    "        ))\n",
    "        i += 1\n",
    "        \n",
    "while i <= number_profiles_all:\n",
    "    \n",
    "    models_assigned[str(i)] = BEVS.model((\n",
    "            back_up_model[\"brand\"], back_up_model[\"model\"], back_up_model[\"year\"]\n",
    "        ))\n",
    "    i += 1"
   ]
  },
  {
   "cell_type": "code",
   "execution_count": null,
   "id": "3396fb25",
   "metadata": {},
   "outputs": [
    {
     "ename": "",
     "evalue": "",
     "output_type": "error",
     "traceback": [
      "\u001b[1;31mDas Ausführen von Zellen mit \"/usr/bin/python3\" erfordert das Paket ipykernel.\n",
      "\u001b[1;31mRun the following command to install 'ipykernel' into the Python environment. \n",
      "\u001b[1;31mCommand: '/usr/bin/python3 -m pip install ipykernel -U --user --force-reinstall'"
     ]
    }
   ],
   "source": [
    "#plausibility check\n",
    "len(models_assigned) - number_profiles_all"
   ]
  },
  {
   "cell_type": "code",
   "execution_count": null,
   "id": "89bf9501",
   "metadata": {},
   "outputs": [
    {
     "ename": "",
     "evalue": "",
     "output_type": "error",
     "traceback": [
      "\u001b[1;31mDas Ausführen von Zellen mit \"/usr/bin/python3\" erfordert das Paket ipykernel.\n",
      "\u001b[1;31mRun the following command to install 'ipykernel' into the Python environment. \n",
      "\u001b[1;31mCommand: '/usr/bin/python3 -m pip install ipykernel -U --user --force-reinstall'"
     ]
    }
   ],
   "source": [
    "def consumption_gen(i, file, DB):\n",
    "    car_model = models_assigned[str(i)]\n",
    "    print(car_model.parameters['EV Model'])\n",
    "    c = Consumption(file, car_model)\n",
    "    c.load_setting_mobility(DB)\n",
    "    try:\n",
    "        c.run(\n",
    "            heat_insulation=HI,\n",
    "            weather_country='DE',\n",
    "            weather_year=year,\n",
    "            passenger_mass=75,                   # kg\n",
    "            passenger_sensible_heat=70,          # W\n",
    "            passenger_nr=1.5,                    # Passengers per vehicle including driver\n",
    "            air_cabin_heat_transfer_coef=20,     # W/(m2K). Interior walls\n",
    "            air_flow = 0.02,                     # m3/s. Ventilation\n",
    "            driving_cycle_type='WLTC',           # Two options \"WLTC\" or \"EPA\"\n",
    "            road_type=0,                         # For rolling resistance, Zero represents a new road.\n",
    "            road_slope=0\n",
    "        )\n",
    "        c.save_profile(consumption_path)\n",
    "    except ValueError:\n",
    "        pass"
   ]
  },
  {
   "cell_type": "code",
   "execution_count": null,
   "id": "40edb0cd",
   "metadata": {},
   "outputs": [
    {
     "ename": "",
     "evalue": "",
     "output_type": "error",
     "traceback": [
      "\u001b[1;31mDas Ausführen von Zellen mit \"/usr/bin/python3\" erfordert das Paket ipykernel.\n",
      "\u001b[1;31mRun the following command to install 'ipykernel' into the Python environment. \n",
      "\u001b[1;31mCommand: '/usr/bin/python3 -m pip install ipykernel -U --user --force-reinstall'"
     ]
    }
   ],
   "source": [
    "for folder in p_list:\n",
    "    ts_path = os.path.join(profile_path, folder)\n",
    "    DB = DataBase(ts_path)\n",
    "    DB.update()\n",
    "    DB.loadfiles()\n",
    "\n",
    "\n",
    "    pnames = list(DB.db.keys()) \n",
    "    \n",
    "    for i, file in enumerate(pnames):\n",
    "\n",
    "        if get_dir_size(consumption_path) < 1.5:\n",
    "            consumption_gen(i, file, DB)\n",
    "\n",
    "        else:\n",
    "            create_new_folder(consumption_path)\n",
    "            transtion_files(consumption_path)\n",
    "            consumption_gen(i, file, DB)\n",
    "        \n",
    "        mobility_file_path = os.path.join(ts_path, f'{file}.pickle')\n",
    "        \n",
    "        used_profile = os.path.join(home_path, \"db\", \"used\", \"profile\")\n",
    "        if get_dir_size(used_profile) < 1.5:\n",
    "            pass\n",
    "\n",
    "        else:\n",
    "            create_new_folder(used_profile)\n",
    "            transtion_files(used_profile)\n",
    "            \n",
    "        shutil.move(mobility_file_path, \n",
    "                    create_new_folder(\"not_needed\", profile_consumption_availability = \"profile\", used_dir=True)\n",
    "                   )\n",
    "    \n",
    "    DB = DataBase(consumption_path)\n",
    "    DB.update()             \n",
    "transtion_files(used_profile)\n",
    "transtion_files(consumption_path)"
   ]
  },
  {
   "attachments": {},
   "cell_type": "markdown",
   "id": "6ae50813",
   "metadata": {
    "scrolled": true
   },
   "source": [
    "mname = list(DB_profile.db.keys())     # getting the id of the first mobility profile\n",
    "HI = HeatInsulation(True)            # Creating the heat insulation by copying the default configuration\n",
    "BEVS = BEVspecs()                    # Database that contains BEV models\n",
    "#BEVS.show_models()\n",
    "\n",
    "models = {\n",
    "    \"Tesla\": \n",
    "        {\"model\": \"Model 3 Long Range AWD\",\n",
    "         \"year\": 2019,\n",
    "         \"share\": 22.73},\n",
    "    \"Volkswagen\":\n",
    "        {\"model\": \"ID.3\",\n",
    "         \"year\": 2020,\n",
    "         \"share\": 15.91},\n",
    "    \"Renault\":\n",
    "        {\"model\": \"Zoe Q90\",\n",
    "         \"year\": 2017,\n",
    "         \"share\": 15.91},\n",
    "    \"Hyundai\":\n",
    "        {\"model\": \"Kona Electric 64 kWh\",\n",
    "         \"year\": 2019,\n",
    "         \"share\": 11.63},\n",
    "    \"FIAT\":\n",
    "        {\"model\": \"500e\",\n",
    "         \"year\": 2019,\n",
    "         \"share\": 9.09},\n",
    "    \"BMW\":\n",
    "        {\"model\": \"i3 33 kWh\",\n",
    "         \"year\": 2017,\n",
    "         \"share\": 6.82},\n",
    "    \"MINI\":\n",
    "        {\"model\": \"Cooper SE Level I\",\n",
    "         \"year\": 2020,\n",
    "         \"share\": 6.82},\n",
    "    \"Audi\": \n",
    "        {\"model\": \"e-tron 55 quattro\",\n",
    "         \"year\": 2019,\n",
    "         \"share\": 4.55},\n",
    "    \"Hyundai\": \n",
    "        {\"model\": \"IONIQ Electric 28 kWh\",\n",
    "         \"year\": 2019,\n",
    "         \"share\": 4.55},\n",
    "    \"KIA\": \n",
    "        {\"model\": \"e-Niro 64 kWh\",\n",
    "         \"year\": 2019,\n",
    "         \"share\": 2.27}\n",
    "    \n",
    "}\n",
    "\n",
    "back_up_model = {\n",
    "    \"brand\": \"Volkswagen\",\n",
    "    \"model\": \"e-Golf SE\",\n",
    "    \"year\": 2019\n",
    "}\n",
    "\n",
    "models_assigned = {}\n",
    "\n",
    "i = 0\n",
    "for brand in models.keys():\n",
    "    models[brand][\"number\"] = round(number_profiles*models[brand][\"share\"]/100)\n",
    "    #print(brand + \" \" +str(models[brand][\"number\"]))\n",
    "    for k in range(0, round(models[brand][\"number\"])): \n",
    "        print(str(i))\n",
    "        models_assigned[str(i)] = BEVS.model((\n",
    "            brand, models[brand][\"model\"], models[brand][\"year\"]\n",
    "        ))\n",
    "        i += 1\n",
    "while i <= number_profiles:\n",
    "    \n",
    "    models_assigned[str(i)] = BEVS.model((\n",
    "            back_up_model[\"brand\"], back_up_model[\"model\"], back_up_model[\"year\"]\n",
    "        ))\n",
    "    i += 1\n",
    "    \n",
    "    #plausibility check\n",
    "len(models_assigned) - number_profiles\n",
    "\n",
    "for i, file in enumerate(mname):\n",
    "    car_model = models_assigned[str(i)]\n",
    "    print(car_model.parameters['EV Model'])\n",
    "    c = Consumption(file, car_model)\n",
    "    c.load_setting_mobility(DB_profile)\n",
    "    c.run(\n",
    "        heat_insulation=HI,\n",
    "        weather_country='DE',\n",
    "        weather_year=2016,\n",
    "        passenger_mass=75,                   # kg\n",
    "        passenger_sensible_heat=70,          # W\n",
    "        passenger_nr=1.5,                    # Passengers per vehicle including driver\n",
    "        air_cabin_heat_transfer_coef=20,     # W/(m2K). Interior walls\n",
    "        air_flow = 0.02,                     # m3/s. Ventilation\n",
    "        driving_cycle_type='WLTC',           # Two options \"WLTC\" or \"EPA\"\n",
    "        road_type=0,                         # For rolling resistance, Zero represents a new road.\n",
    "        road_slope=0\n",
    "    )\n",
    "    c.save_profile(consumption_path)          "
   ]
  },
  {
   "attachments": {},
   "cell_type": "markdown",
   "id": "dbcc1783",
   "metadata": {},
   "source": [
    "------------------------------\n",
    "c) See some attributes\n",
    "\n",
    "------------------------------"
   ]
  },
  {
   "cell_type": "code",
   "execution_count": null,
   "id": "c496dafc",
   "metadata": {
    "pycharm": {
     "is_executing": true
    }
   },
   "outputs": [
    {
     "ename": "",
     "evalue": "",
     "output_type": "error",
     "traceback": [
      "\u001b[1;31mDas Ausführen von Zellen mit \"/usr/bin/python3\" erfordert das Paket ipykernel.\n",
      "\u001b[1;31mRun the following command to install 'ipykernel' into the Python environment. \n",
      "\u001b[1;31mCommand: '/usr/bin/python3 -m pip install ipykernel -U --user --force-reinstall'"
     ]
    }
   ],
   "source": [
    "#c.name\n",
    "#c.input\n",
    "#c.brand, c.model, c.year\n",
    "#c.timeseries # Consumption in kWh/timestep -> timestep 15 min in this example\n",
    "#c.profile.head()"
   ]
  },
  {
   "attachments": {},
   "cell_type": "markdown",
   "id": "667065c1",
   "metadata": {},
   "source": [
    "-------------------------\n",
    "d) Visualization\n",
    "\n",
    "-------------------------"
   ]
  },
  {
   "cell_type": "code",
   "execution_count": null,
   "id": "c1e21657",
   "metadata": {
    "pycharm": {
     "is_executing": true
    }
   },
   "outputs": [
    {
     "ename": "",
     "evalue": "",
     "output_type": "error",
     "traceback": [
      "\u001b[1;31mDas Ausführen von Zellen mit \"/usr/bin/python3\" erfordert das Paket ipykernel.\n",
      "\u001b[1;31mRun the following command to install 'ipykernel' into the Python environment. \n",
      "\u001b[1;31mCommand: '/usr/bin/python3 -m pip install ipykernel -U --user --force-reinstall'"
     ]
    }
   ],
   "source": [
    "#fig_consumption = PLT.sankey(c.name, include=None, to_html=False, path=None)\n",
    "#fig_consumption"
   ]
  },
  {
   "attachments": {},
   "cell_type": "markdown",
   "id": "c432f09a",
   "metadata": {},
   "source": [
    "-------------------------------------------------------------------\n",
    "## Step 3: Grid availability time series\n",
    "-------------------------------------------------------------------\n",
    "a) probability distribution and power rating for charging stations\n",
    "\n",
    "-------------------------------------------------------------------"
   ]
  },
  {
   "cell_type": "code",
   "execution_count": null,
   "id": "0721c80f",
   "metadata": {
    "pycharm": {
     "is_executing": true
    }
   },
   "outputs": [
    {
     "ename": "",
     "evalue": "",
     "output_type": "error",
     "traceback": [
      "\u001b[1;31mDas Ausführen von Zellen mit \"/usr/bin/python3\" erfordert das Paket ipykernel.\n",
      "\u001b[1;31mRun the following command to install 'ipykernel' into the Python environment. \n",
      "\u001b[1;31mCommand: '/usr/bin/python3 -m pip install ipykernel -U --user --force-reinstall'"
     ]
    }
   ],
   "source": [
    "from emobpy import Availability"
   ]
  },
  {
   "cell_type": "code",
   "execution_count": null,
   "id": "432c1758",
   "metadata": {
    "pycharm": {
     "is_executing": true
    }
   },
   "outputs": [
    {
     "ename": "",
     "evalue": "",
     "output_type": "error",
     "traceback": [
      "\u001b[1;31mDas Ausführen von Zellen mit \"/usr/bin/python3\" erfordert das Paket ipykernel.\n",
      "\u001b[1;31mRun the following command to install 'ipykernel' into the Python environment. \n",
      "\u001b[1;31mCommand: '/usr/bin/python3 -m pip install ipykernel -U --user --force-reinstall'"
     ]
    }
   ],
   "source": [
    "station_distribution = {                  # Dictionary with charging stations type probability distribution per the purpose of the trip (location or destination)\n",
    "    'prob_charging_point': {\n",
    "        'errands': {'public': 0.5, 'none': 0.5},\n",
    "        'escort': {'public': 0.5, 'none': 0.5},\n",
    "        'leisure': {'public': 0.5, 'none': 0.5},\n",
    "        'shopping': {'public': 0.5, 'none': 0.5},\n",
    "        'home': {'public': 0.4, 'home': 0.6},\n",
    "        'workplace': {'public': 0.0, 'workplace': 1.0, 'none': 0.0},   # If the vehicle is at the workplace, it will always find a charging station available (assumption)\n",
    "        'driving': {'none': 0.99, 'fast75': 0.005, 'fast150': 0.005}}, # with the low probability given to fast charging is to ensure fast charging only for very long trips (assumption)\n",
    "    'capacity_charging_point': {                                       # Nominal power rating of charging station in kW\n",
    "        'public': 22,\n",
    "        'home': 3.7,\n",
    "        'workplace': 11,\n",
    "        'none': 0,  # dummy station\n",
    "        'fast75': 75,\n",
    "        'fast150': 150}\n",
    "}"
   ]
  },
  {
   "cell_type": "code",
   "execution_count": null,
   "id": "4c7b9b8a",
   "metadata": {},
   "outputs": [
    {
     "ename": "",
     "evalue": "",
     "output_type": "error",
     "traceback": [
      "\u001b[1;31mDas Ausführen von Zellen mit \"/usr/bin/python3\" erfordert das Paket ipykernel.\n",
      "\u001b[1;31mRun the following command to install 'ipykernel' into the Python environment. \n",
      "\u001b[1;31mCommand: '/usr/bin/python3 -m pip install ipykernel -U --user --force-reinstall'"
     ]
    }
   ],
   "source": [
    "c_list = os.listdir(consumption_path)\n",
    "if \".DS_Store\" in c_list:\n",
    "    c_list.remove(\".DS_Store\")"
   ]
  },
  {
   "cell_type": "code",
   "execution_count": null,
   "id": "a75f7a3f",
   "metadata": {},
   "outputs": [
    {
     "ename": "",
     "evalue": "",
     "output_type": "error",
     "traceback": [
      "\u001b[1;31mDas Ausführen von Zellen mit \"/usr/bin/python3\" erfordert das Paket ipykernel.\n",
      "\u001b[1;31mRun the following command to install 'ipykernel' into the Python environment. \n",
      "\u001b[1;31mCommand: '/usr/bin/python3 -m pip install ipykernel -U --user --force-reinstall'"
     ]
    }
   ],
   "source": [
    "def availability_gen(file, DB):\n",
    "    ga = Availability(file, DB)\n",
    "    ga.set_scenario(station_distribution)\n",
    "    ga.run()\n",
    "    ga.save_profile(availability_path)"
   ]
  },
  {
   "cell_type": "code",
   "execution_count": null,
   "id": "7f57160e",
   "metadata": {},
   "outputs": [
    {
     "ename": "",
     "evalue": "",
     "output_type": "error",
     "traceback": [
      "\u001b[1;31mDas Ausführen von Zellen mit \"/usr/bin/python3\" erfordert das Paket ipykernel.\n",
      "\u001b[1;31mRun the following command to install 'ipykernel' into the Python environment. \n",
      "\u001b[1;31mCommand: '/usr/bin/python3 -m pip install ipykernel -U --user --force-reinstall'"
     ]
    }
   ],
   "source": [
    "for folder in c_list:\n",
    "    ts_path = os.path.join(consumption_path, folder)\n",
    "    DB = DataBase(ts_path)\n",
    "    DB.update()\n",
    "    DB.loadfiles()\n",
    "    \n",
    "    cnames = list(DB.db.keys()) \n",
    "    \n",
    "    for file in cnames:\n",
    "\n",
    "        if get_dir_size(availability_path) < 1.5:\n",
    "            availability_gen(file, DB)\n",
    "\n",
    "        else:\n",
    "            create_new_folder(availability_path)\n",
    "            transtion_files(availability_path)\n",
    "            availability_gen(file, DB)\n",
    "    \n",
    "        cons_file_path = os.path.join(ts_path, f'{file}.pickle')\n",
    "        \n",
    "        used_consumption = os.path.join(home_path, \"db\", \"used\", \"consumption\")\n",
    "        if get_dir_size(used_consumption) < 1.5:\n",
    "            pass\n",
    "\n",
    "        else:\n",
    "            create_new_folder(used_consumption)\n",
    "            transtion_files(used_consumption)\n",
    "            \n",
    "        shutil.move(cons_file_path, \n",
    "                        create_new_folder(\"not_needed\", profile_consumption_availability = \"consumption\", used_dir=True)\n",
    "                       )\n",
    "    DB = DataBase(availability_path)\n",
    "    DB.update()             \n",
    "transtion_files(used_consumption)\n",
    "transtion_files(availability_path)"
   ]
  },
  {
   "attachments": {},
   "cell_type": "markdown",
   "id": "dd87097f",
   "metadata": {},
   "source": [
    "--------------------------------\n",
    "b) See some attributes\n",
    "\n",
    "--------------------------------"
   ]
  },
  {
   "cell_type": "code",
   "execution_count": null,
   "id": "c505423f",
   "metadata": {
    "pycharm": {
     "is_executing": true
    }
   },
   "outputs": [
    {
     "ename": "",
     "evalue": "",
     "output_type": "error",
     "traceback": [
      "\u001b[1;31mDas Ausführen von Zellen mit \"/usr/bin/python3\" erfordert das Paket ipykernel.\n",
      "\u001b[1;31mRun the following command to install 'ipykernel' into the Python environment. \n",
      "\u001b[1;31mCommand: '/usr/bin/python3 -m pip install ipykernel -U --user --force-reinstall'"
     ]
    }
   ],
   "source": [
    "#ga.name\n",
    "#ga.input\n",
    "#ga.battery_capacity\n",
    "#ga.charging_eff\n",
    "#ga.discharging_eff\n",
    "#ga.soc_init\n",
    "#ga.soc_min\n",
    "#ga.timeseries"
   ]
  },
  {
   "attachments": {},
   "cell_type": "markdown",
   "id": "c6cd0289",
   "metadata": {},
   "source": [
    "# Export"
   ]
  },
  {
   "cell_type": "code",
   "execution_count": null,
   "id": "22e1471c",
   "metadata": {
    "scrolled": true
   },
   "outputs": [
    {
     "ename": "",
     "evalue": "",
     "output_type": "error",
     "traceback": [
      "\u001b[1;31mDas Ausführen von Zellen mit \"/usr/bin/python3\" erfordert das Paket ipykernel.\n",
      "\u001b[1;31mRun the following command to install 'ipykernel' into the Python environment. \n",
      "\u001b[1;31mCommand: '/usr/bin/python3 -m pip install ipykernel -U --user --force-reinstall'"
     ]
    }
   ],
   "source": [
    "c_list = os.listdir(used_consumption)\n",
    "if \".DS_Store\" in c_list:\n",
    "    c_list.remove(\".DS_Store\")\n",
    "    \n",
    "consumption_df = pd.DataFrame() \n",
    "\n",
    "for folder in c_list:\n",
    "    DB = DataBase(os.path.join(used_consumption, folder))\n",
    "    DB.update()\n",
    "    DB.loadfiles()\n",
    "    c_names = list(DB.db.keys()) \n",
    "    print(len(c_names))\n",
    "    \n",
    "    #get consumption_ts, name\n",
    "    for c_file in c_names:\n",
    "        profile = DB.db[c_file]\n",
    "        try:\n",
    "            col_name = profile[\"brand\"]+\"/\" +profile[\"model\"]+\"/\" +profile[\"year\"]\n",
    "            consumption = profile[\"timeseries\"][\"consumption\"].to_frame().rename(\n",
    "                columns={\"consumption\":col_name})\n",
    "            consumption_df = pd.concat([consumption_df, consumption], axis=1)\n",
    "            print(col_name)\n",
    "        except KeyError:\n",
    "            print(c_file)\n",
    "            pass"
   ]
  },
  {
   "cell_type": "code",
   "execution_count": null,
   "id": "c9be8707",
   "metadata": {},
   "outputs": [
    {
     "ename": "",
     "evalue": "",
     "output_type": "error",
     "traceback": [
      "\u001b[1;31mDas Ausführen von Zellen mit \"/usr/bin/python3\" erfordert das Paket ipykernel.\n",
      "\u001b[1;31mRun the following command to install 'ipykernel' into the Python environment. \n",
      "\u001b[1;31mCommand: '/usr/bin/python3 -m pip install ipykernel -U --user --force-reinstall'"
     ]
    }
   ],
   "source": [
    "availability_df = pd.DataFrame()\n",
    "car_properties_df = pd.DataFrame(index = [\"soc_end\", \"soc_init\", \"battery_capacity\"])\n",
    "\n",
    "ava_list = os.listdir(availability_path)\n",
    "if \".DS_Store\" in ava_list:\n",
    "    ava_list.remove(\".DS_Store\")\n",
    "\n",
    "for folder in ava_list:\n",
    "    DB = DataBase(os.path.join(availability_path, folder))\n",
    "    DB.update()\n",
    "    DB.loadfiles()\n",
    "    ava_names = list(DB.db.keys()) \n",
    "    print(len(ava_names))\n",
    "\n",
    "    #charging cap [kW] \n",
    "    for a_file in ava_names:\n",
    "        profile = DB.db[a_file]\n",
    "        try:\n",
    "            col_name = \"_\".join(profile[\"name\"].split(\"_\")[:-3])\n",
    "\n",
    "            charging_eff = profile[\"charging_eff\"]\n",
    "            availability = (charging_eff*profile[\"timeseries\"][\"charging_cap\"]\n",
    "                           ).to_frame().rename(\n",
    "                columns={\"charging_cap\":col_name})\n",
    "            availability_df = pd.concat([availability_df, availability], axis=1)\n",
    "\n",
    "            car_properties_df[col_name] = [\n",
    "                profile[\"soc_end\"], profile[\"soc_init\"], profile[\"battery_capacity\"]\n",
    "            print(col_name)                  ]   \n",
    "        except KeyError:\n",
    "            print(a_file)\n",
    "            pass"
   ]
  },
  {
   "cell_type": "code",
   "execution_count": null,
   "id": "8e8ec64b",
   "metadata": {},
   "outputs": [
    {
     "ename": "",
     "evalue": "",
     "output_type": "error",
     "traceback": [
      "\u001b[1;31mDas Ausführen von Zellen mit \"/usr/bin/python3\" erfordert das Paket ipykernel.\n",
      "\u001b[1;31mRun the following command to install 'ipykernel' into the Python environment. \n",
      "\u001b[1;31mCommand: '/usr/bin/python3 -m pip install ipykernel -U --user --force-reinstall'"
     ]
    }
   ],
   "source": [
    "consumption_pickle = os.path.join(data_path, \"consumption_new\")\n",
    "availaibilty_pickle = os.path.join(data_path, \"availability_new\")\n",
    "property_pickle = os.path.join(data_path, \"properties_new\")\n",
    "\n",
    "consumption_df.to_pickle(consumption_pickle)\n",
    "availability_df.to_pickle(availaibilty_pickle)\n",
    "car_properties_df.to_pickle(property_pickle)\n"
   ]
  }
 ],
 "metadata": {
  "kernelspec": {
   "display_name": "Python 3 (ipykernel)",
   "language": "python",
   "name": "python3"
  },
  "language_info": {
   "codemirror_mode": {
    "name": "ipython",
    "version": 3
   },
   "file_extension": ".py",
   "mimetype": "text/x-python",
   "name": "python",
   "nbconvert_exporter": "python",
   "pygments_lexer": "ipython3",
   "version": "3.9.6"
  }
 },
 "nbformat": 4,
 "nbformat_minor": 5
}
